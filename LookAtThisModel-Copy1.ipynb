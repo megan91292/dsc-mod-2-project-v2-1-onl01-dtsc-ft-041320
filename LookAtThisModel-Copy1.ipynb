{
 "cells": [
  {
   "cell_type": "code",
   "execution_count": 1,
   "metadata": {},
   "outputs": [],
   "source": [
    "import pandas as pd\n",
    "import matplotlib.pyplot as plt\n",
    "import numpy as np\n",
    "import seaborn as sns\n",
    "sns.set_style('darkgrid')\n",
    "\n",
    "from statsmodels.formula.api import ols\n",
    "from statsmodels.stats.outliers_influence import variance_inflation_factor\n",
    "import statsmodels.api as sm\n",
    "import scipy.stats as scs\n",
    "from sklearn.model_selection import train_test_split\n",
    "from sklearn.preprocessing import PowerTransformer"
   ]
  },
  {
   "cell_type": "code",
   "execution_count": 166,
   "metadata": {},
   "outputs": [],
   "source": [
    "df = pd.read_csv('data_correlation_gone.csv',index_col = 0)"
   ]
  },
  {
   "cell_type": "code",
   "execution_count": 167,
   "metadata": {},
   "outputs": [
    {
     "data": {
      "text/plain": [
       "count     17206.000000\n",
       "mean       9860.708648\n",
       "std       11532.272734\n",
       "min         520.000000\n",
       "25%        5000.000000\n",
       "50%        7344.000000\n",
       "75%        9886.000000\n",
       "max      137214.000000\n",
       "Name: sqft_lot, dtype: float64"
      ]
     },
     "execution_count": 167,
     "metadata": {},
     "output_type": "execute_result"
    }
   ],
   "source": [
    "df['sqft_lot'].describe()"
   ]
  },
  {
   "cell_type": "code",
   "execution_count": 168,
   "metadata": {},
   "outputs": [],
   "source": [
    "check_col = ['price', 'bedrooms', 'bathrooms', 'sqft_living', 'sqft_lot','distance_from_a_city']"
   ]
  },
  {
   "cell_type": "code",
   "execution_count": 169,
   "metadata": {},
   "outputs": [],
   "source": [
    "def remove_outliers(df, col, threshold = 3):\n",
    "    zscores = scs.zscore(df[col])\n",
    "    indices = np.abs(np.where(zscores > threshold))\n",
    "    return indices[0]\n",
    "\n",
    "\n",
    "all_indices = []\n",
    "for col in check_col:\n",
    "    indices = remove_outliers(df, col, threshold = 3)\n",
    "    all_indices.extend(indices)\n",
    "all_indices = np.unique(all_indices)"
   ]
  },
  {
   "cell_type": "code",
   "execution_count": null,
   "metadata": {},
   "outputs": [],
   "source": []
  },
  {
   "cell_type": "code",
   "execution_count": 170,
   "metadata": {},
   "outputs": [],
   "source": [
    "df.reset_index(drop=True,inplace=True)"
   ]
  },
  {
   "cell_type": "code",
   "execution_count": 171,
   "metadata": {},
   "outputs": [],
   "source": [
    "df.drop(all_indices,axis=0,inplace= True)"
   ]
  },
  {
   "cell_type": "code",
   "execution_count": 172,
   "metadata": {},
   "outputs": [],
   "source": [
    "df.reset_index(drop=True,inplace=True)"
   ]
  },
  {
   "cell_type": "code",
   "execution_count": 173,
   "metadata": {},
   "outputs": [
    {
     "data": {
      "text/plain": [
       "count    16290.000000\n",
       "mean      8421.280540\n",
       "std       6486.635185\n",
       "min        520.000000\n",
       "25%       4920.000000\n",
       "50%       7234.500000\n",
       "75%       9627.750000\n",
       "max      44431.000000\n",
       "Name: sqft_lot, dtype: float64"
      ]
     },
     "execution_count": 173,
     "metadata": {},
     "output_type": "execute_result"
    }
   ],
   "source": [
    "df['sqft_lot'].describe()"
   ]
  },
  {
   "cell_type": "code",
   "execution_count": 174,
   "metadata": {},
   "outputs": [
    {
     "data": {
      "text/plain": [
       "27881.18609448078"
      ]
     },
     "execution_count": 174,
     "metadata": {},
     "output_type": "execute_result"
    }
   ],
   "source": [
    "df['sqft_lot'].mean()+3*df['sqft_lot'].std()"
   ]
  },
  {
   "cell_type": "code",
   "execution_count": 175,
   "metadata": {},
   "outputs": [],
   "source": [
    "df = df.loc[df['sqft_lot']<7250]"
   ]
  },
  {
   "cell_type": "code",
   "execution_count": 176,
   "metadata": {},
   "outputs": [
    {
     "data": {
      "text/plain": [
       "3    5914\n",
       "4    1555\n",
       "5     653\n",
       "2      51\n",
       "1       5\n",
       "Name: condition, dtype: int64"
      ]
     },
     "execution_count": 176,
     "metadata": {},
     "output_type": "execute_result"
    }
   ],
   "source": [
    "df['condition'].value_counts()"
   ]
  },
  {
   "cell_type": "code",
   "execution_count": 177,
   "metadata": {},
   "outputs": [],
   "source": [
    "df['cond3'] = df.condition.apply(lambda x: 1 if x ==3 else 0)\n",
    "df['cond4'] = df.condition.apply(lambda x: 1 if x ==4 else 0)\n",
    "df['cond5'] = df.condition.apply(lambda x: 1 if x ==5 else 0)"
   ]
  },
  {
   "cell_type": "code",
   "execution_count": 178,
   "metadata": {},
   "outputs": [
    {
     "data": {
      "text/plain": [
       "0        538000.0\n",
       "2        604000.0\n",
       "4        257500.0\n",
       "7        323000.0\n",
       "8        468000.0\n",
       "           ...   \n",
       "16285    475000.0\n",
       "16286    360000.0\n",
       "16287    400000.0\n",
       "16288    402101.0\n",
       "16289    325000.0\n",
       "Name: price, Length: 8178, dtype: float64"
      ]
     },
     "execution_count": 178,
     "metadata": {},
     "output_type": "execute_result"
    }
   ],
   "source": [
    "df['price']"
   ]
  },
  {
   "cell_type": "code",
   "execution_count": 179,
   "metadata": {},
   "outputs": [
    {
     "data": {
      "text/plain": [
       "<matplotlib.axes._subplots.AxesSubplot at 0x1c202f5438>"
      ]
     },
     "execution_count": 179,
     "metadata": {},
     "output_type": "execute_result"
    },
    {
     "data": {
      "image/png": "[encoded data removed]",
      "text/plain": [
       "<Figure size 432x288 with 1 Axes>"
      ]
     },
     "metadata": {
      "needs_background": "light"
     },
     "output_type": "display_data"
    }
   ],
   "source": [
    "df['price'].hist()"
   ]
  },
  {
   "cell_type": "code",
   "execution_count": 180,
   "metadata": {},
   "outputs": [],
   "source": [
    "features = ['bedrooms','bathrooms','sqft_living','sqft_lot','distance_from_a_city','Age_of_House',\n",
    "           'Years_last_renovation']"
   ]
  },
  {
   "cell_type": "code",
   "execution_count": 181,
   "metadata": {},
   "outputs": [
    {
     "data": {
      "image/png": "[encoded data removed]",
      "text/plain": [
       "<Figure size 432x288 with 9 Axes>"
      ]
     },
     "metadata": {
      "needs_background": "light"
     },
     "output_type": "display_data"
    }
   ],
   "source": [
    "df[features].hist();"
   ]
  },
  {
   "cell_type": "code",
   "execution_count": 182,
   "metadata": {},
   "outputs": [
    {
     "data": {
      "text/plain": [
       "(8178, 22)"
      ]
     },
     "execution_count": 182,
     "metadata": {},
     "output_type": "execute_result"
    }
   ],
   "source": [
    "df.shape"
   ]
  },
  {
   "cell_type": "code",
   "execution_count": 183,
   "metadata": {},
   "outputs": [],
   "source": [
    "tobox =['sqft_living','sqft_lot','distance_from_a_city','Age_of_House',\n",
    "           'Years_last_renovation']"
   ]
  },
  {
   "cell_type": "code",
   "execution_count": 184,
   "metadata": {},
   "outputs": [],
   "source": [
    "for feat in tobox:\n",
    "    df[feat],b = scs.boxcox(df[feat])\n"
   ]
  },
  {
   "cell_type": "code",
   "execution_count": 185,
   "metadata": {},
   "outputs": [
    {
     "data": {
      "image/png": "[encoded data removed]",
      "text/plain": [
       "<Figure size 432x288 with 9 Axes>"
      ]
     },
     "metadata": {
      "needs_background": "light"
     },
     "output_type": "display_data"
    }
   ],
   "source": [
    "df[features].hist();"
   ]
  },
  {
   "cell_type": "code",
   "execution_count": 186,
   "metadata": {},
   "outputs": [],
   "source": [
    "def norm_feat(series):\n",
    "    return (series - series.mean())/series.std()"
   ]
  },
  {
   "cell_type": "code",
   "execution_count": 187,
   "metadata": {},
   "outputs": [],
   "source": [
    "norm = ['bedrooms','bathrooms','sqft_living','sqft_lot','distance_from_a_city','Age_of_House','grade',\n",
    "           'Years_last_renovation']\n"
   ]
  },
  {
   "cell_type": "code",
   "execution_count": 188,
   "metadata": {},
   "outputs": [],
   "source": [
    "for feat in norm:\n",
    "    df[feat] = norm_feat(df[feat])\n"
   ]
  },
  {
   "cell_type": "code",
   "execution_count": 189,
   "metadata": {},
   "outputs": [],
   "source": [
    "# tomodel = ['distance_from_a_city','Years_last_renovation','sqft_living']"
   ]
  },
  {
   "cell_type": "code",
   "execution_count": 190,
   "metadata": {},
   "outputs": [
    {
     "data": {
      "text/plain": [
       "Index(['date', 'price', 'bedrooms', 'bathrooms', 'sqft_living', 'sqft_lot',\n",
       "       'floors', 'waterfront', 'view', 'condition', 'grade', 'zipcode',\n",
       "       'Age_of_House', 'Years_last_renovation', 'basement', 'biggerliving',\n",
       "       'biggerlot', 'distance_from_a_city', 'distance_from_airport', 'cond3',\n",
       "       'cond4', 'cond5'],\n",
       "      dtype='object')"
      ]
     },
     "execution_count": 190,
     "metadata": {},
     "output_type": "execute_result"
    }
   ],
   "source": [
    "df.columns"
   ]
  },
  {
   "cell_type": "code",
   "execution_count": 191,
   "metadata": {},
   "outputs": [],
   "source": [
    "x_cols = ['bedrooms','bathrooms','sqft_living','sqft_lot','distance_from_a_city',\n",
    "           'Age_of_House','basement','grade']\n",
    "outcome = ['price']"
   ]
  },
  {
   "cell_type": "code",
   "execution_count": 192,
   "metadata": {},
   "outputs": [],
   "source": [
    "x_cols = ['bedrooms','bathrooms','sqft_living','sqft_lot','distance_from_a_city','Years_last_renovation',\n",
    "           'basement','grade']\n",
    "outcome = ['price']"
   ]
  },
  {
   "cell_type": "code",
   "execution_count": 193,
   "metadata": {},
   "outputs": [],
   "source": [
    "df['bedbath']=df['bedrooms']*df['bathrooms']"
   ]
  },
  {
   "cell_type": "code",
   "execution_count": 194,
   "metadata": {},
   "outputs": [],
   "source": [
    "x_cols = ['bedrooms','bathrooms','sqft_living','sqft_lot','distance_from_a_city','Years_last_renovation',\n",
    "           'basement', 'grade','biggerliving','biggerlot','bedbath']\n",
    "outcome = ['price']"
   ]
  },
  {
   "cell_type": "code",
   "execution_count": 150,
   "metadata": {},
   "outputs": [],
   "source": [
    "X = df[x_cols]\n",
    "y = df['price']"
   ]
  },
  {
   "cell_type": "code",
   "execution_count": 151,
   "metadata": {},
   "outputs": [
    {
     "data": {
      "text/html": [
       "<table class=\"simpletable\">\n",
       "<caption>OLS Regression Results</caption>\n",
       "<tr>\n",
       "  <th>Dep. Variable:</th>          <td>price</td>      <th>  R-squared (uncentered):</th>       <td>   0.684</td>  \n",
       "</tr>\n",
       "<tr>\n",
       "  <th>Model:</th>                   <td>OLS</td>       <th>  Adj. R-squared (uncentered):</th>  <td>   0.683</td>  \n",
       "</tr>\n",
       "<tr>\n",
       "  <th>Method:</th>             <td>Least Squares</td>  <th>  F-statistic:       </th>           <td>   1606.</td>  \n",
       "</tr>\n",
       "<tr>\n",
       "  <th>Date:</th>             <td>Thu, 04 Jun 2020</td> <th>  Prob (F-statistic):</th>            <td>  0.00</td>   \n",
       "</tr>\n",
       "<tr>\n",
       "  <th>Time:</th>                 <td>10:43:05</td>     <th>  Log-Likelihood:    </th>          <td>-1.1447e+05</td>\n",
       "</tr>\n",
       "<tr>\n",
       "  <th>No. Observations:</th>      <td>  8178</td>      <th>  AIC:               </th>           <td>2.290e+05</td> \n",
       "</tr>\n",
       "<tr>\n",
       "  <th>Df Residuals:</th>          <td>  8167</td>      <th>  BIC:               </th>           <td>2.290e+05</td> \n",
       "</tr>\n",
       "<tr>\n",
       "  <th>Df Model:</th>              <td>    11</td>      <th>                     </th>               <td> </td>     \n",
       "</tr>\n",
       "<tr>\n",
       "  <th>Covariance Type:</th>      <td>nonrobust</td>    <th>                     </th>               <td> </td>     \n",
       "</tr>\n",
       "</table>\n",
       "<table class=\"simpletable\">\n",
       "<tr>\n",
       "            <td></td>               <th>coef</th>     <th>std err</th>      <th>t</th>      <th>P>|t|</th>  <th>[0.025</th>    <th>0.975]</th>  \n",
       "</tr>\n",
       "<tr>\n",
       "  <th>bedrooms</th>              <td> 6009.6247</td> <td> 4547.396</td> <td>    1.322</td> <td> 0.186</td> <td>-2904.429</td> <td> 1.49e+04</td>\n",
       "</tr>\n",
       "<tr>\n",
       "  <th>bathrooms</th>             <td>-3.455e+04</td> <td> 5545.682</td> <td>   -6.230</td> <td> 0.000</td> <td>-4.54e+04</td> <td>-2.37e+04</td>\n",
       "</tr>\n",
       "<tr>\n",
       "  <th>sqft_living</th>           <td>-5.647e+04</td> <td> 6575.736</td> <td>   -8.588</td> <td> 0.000</td> <td>-6.94e+04</td> <td>-4.36e+04</td>\n",
       "</tr>\n",
       "<tr>\n",
       "  <th>sqft_lot</th>              <td> 3407.4164</td> <td> 4325.931</td> <td>    0.788</td> <td> 0.431</td> <td>-5072.508</td> <td> 1.19e+04</td>\n",
       "</tr>\n",
       "<tr>\n",
       "  <th>distance_from_a_city</th>  <td>-2.305e+04</td> <td> 4191.231</td> <td>   -5.501</td> <td> 0.000</td> <td>-3.13e+04</td> <td>-1.48e+04</td>\n",
       "</tr>\n",
       "<tr>\n",
       "  <th>Years_last_renovation</th> <td>-1366.0694</td> <td> 5123.904</td> <td>   -0.267</td> <td> 0.790</td> <td>-1.14e+04</td> <td> 8678.086</td>\n",
       "</tr>\n",
       "<tr>\n",
       "  <th>basement</th>              <td> 2.744e+05</td> <td> 6748.640</td> <td>   40.655</td> <td> 0.000</td> <td> 2.61e+05</td> <td> 2.88e+05</td>\n",
       "</tr>\n",
       "<tr>\n",
       "  <th>grade</th>                 <td> 1.361e+05</td> <td> 4901.431</td> <td>   27.777</td> <td> 0.000</td> <td> 1.27e+05</td> <td> 1.46e+05</td>\n",
       "</tr>\n",
       "<tr>\n",
       "  <th>biggerliving</th>          <td> 3.054e+05</td> <td> 6907.117</td> <td>   44.219</td> <td> 0.000</td> <td> 2.92e+05</td> <td> 3.19e+05</td>\n",
       "</tr>\n",
       "<tr>\n",
       "  <th>biggerlot</th>             <td> 2.122e+05</td> <td> 7158.387</td> <td>   29.637</td> <td> 0.000</td> <td> 1.98e+05</td> <td> 2.26e+05</td>\n",
       "</tr>\n",
       "<tr>\n",
       "  <th>bedbath</th>               <td> 9.458e+04</td> <td> 3026.508</td> <td>   31.250</td> <td> 0.000</td> <td> 8.86e+04</td> <td> 1.01e+05</td>\n",
       "</tr>\n",
       "</table>\n",
       "<table class=\"simpletable\">\n",
       "<tr>\n",
       "  <th>Omnibus:</th>       <td>12.580</td> <th>  Durbin-Watson:     </th> <td>   1.477</td>\n",
       "</tr>\n",
       "<tr>\n",
       "  <th>Prob(Omnibus):</th> <td> 0.002</td> <th>  Jarque-Bera (JB):  </th> <td>  12.471</td>\n",
       "</tr>\n",
       "<tr>\n",
       "  <th>Skew:</th>          <td>-0.085</td> <th>  Prob(JB):          </th> <td> 0.00196</td>\n",
       "</tr>\n",
       "<tr>\n",
       "  <th>Kurtosis:</th>      <td> 2.911</td> <th>  Cond. No.          </th> <td>    4.93</td>\n",
       "</tr>\n",
       "</table><br/><br/>Warnings:<br/>[1] Standard Errors assume that the covariance matrix of the errors is correctly specified."
      ],
      "text/plain": [
       "<class 'statsmodels.iolib.summary.Summary'>\n",
       "\"\"\"\n",
       "                                 OLS Regression Results                                \n",
       "=======================================================================================\n",
       "Dep. Variable:                  price   R-squared (uncentered):                   0.684\n",
       "Model:                            OLS   Adj. R-squared (uncentered):              0.683\n",
       "Method:                 Least Squares   F-statistic:                              1606.\n",
       "Date:                Thu, 04 Jun 2020   Prob (F-statistic):                        0.00\n",
       "Time:                        10:43:05   Log-Likelihood:                     -1.1447e+05\n",
       "No. Observations:                8178   AIC:                                  2.290e+05\n",
       "Df Residuals:                    8167   BIC:                                  2.290e+05\n",
       "Df Model:                          11                                                  \n",
       "Covariance Type:            nonrobust                                                  \n",
       "=========================================================================================\n",
       "                            coef    std err          t      P>|t|      [0.025      0.975]\n",
       "-----------------------------------------------------------------------------------------\n",
       "bedrooms               6009.6247   4547.396      1.322      0.186   -2904.429    1.49e+04\n",
       "bathrooms             -3.455e+04   5545.682     -6.230      0.000   -4.54e+04   -2.37e+04\n",
       "sqft_living           -5.647e+04   6575.736     -8.588      0.000   -6.94e+04   -4.36e+04\n",
       "sqft_lot               3407.4164   4325.931      0.788      0.431   -5072.508    1.19e+04\n",
       "distance_from_a_city  -2.305e+04   4191.231     -5.501      0.000   -3.13e+04   -1.48e+04\n",
       "Years_last_renovation -1366.0694   5123.904     -0.267      0.790   -1.14e+04    8678.086\n",
       "basement               2.744e+05   6748.640     40.655      0.000    2.61e+05    2.88e+05\n",
       "grade                  1.361e+05   4901.431     27.777      0.000    1.27e+05    1.46e+05\n",
       "biggerliving           3.054e+05   6907.117     44.219      0.000    2.92e+05    3.19e+05\n",
       "biggerlot              2.122e+05   7158.387     29.637      0.000    1.98e+05    2.26e+05\n",
       "bedbath                9.458e+04   3026.508     31.250      0.000    8.86e+04    1.01e+05\n",
       "==============================================================================\n",
       "Omnibus:                       12.580   Durbin-Watson:                   1.477\n",
       "Prob(Omnibus):                  0.002   Jarque-Bera (JB):               12.471\n",
       "Skew:                          -0.085   Prob(JB):                      0.00196\n",
       "Kurtosis:                       2.911   Cond. No.                         4.93\n",
       "==============================================================================\n",
       "\n",
       "Warnings:\n",
       "[1] Standard Errors assume that the covariance matrix of the errors is correctly specified.\n",
       "\"\"\""
      ]
     },
     "execution_count": 151,
     "metadata": {},
     "output_type": "execute_result"
    }
   ],
   "source": [
    "model = sm.OLS(y,X).fit()\n",
    "model.summary()"
   ]
  },
  {
   "cell_type": "code",
   "execution_count": 152,
   "metadata": {},
   "outputs": [
    {
     "name": "stdout",
     "output_type": "stream",
     "text": [
      "11 8\n",
      "['bathrooms', 'sqft_living', 'distance_from_a_city', 'basement', 'grade']\n"
     ]
    },
    {
     "data": {
      "text/html": [
       "<div>\n",
       "<style scoped>\n",
       "    .dataframe tbody tr th:only-of-type {\n",
       "        vertical-align: middle;\n",
       "    }\n",
       "\n",
       "    .dataframe tbody tr th {\n",
       "        vertical-align: top;\n",
       "    }\n",
       "\n",
       "    .dataframe thead th {\n",
       "        text-align: right;\n",
       "    }\n",
       "</style>\n",
       "<table border=\"1\" class=\"dataframe\">\n",
       "  <thead>\n",
       "    <tr style=\"text-align: right;\">\n",
       "      <th></th>\n",
       "      <th>coef</th>\n",
       "      <th>std err</th>\n",
       "      <th>t</th>\n",
       "      <th>P&gt;|t|</th>\n",
       "      <th>[0.025</th>\n",
       "      <th>0.975]</th>\n",
       "    </tr>\n",
       "    <tr>\n",
       "      <th></th>\n",
       "      <th></th>\n",
       "      <th></th>\n",
       "      <th></th>\n",
       "      <th></th>\n",
       "      <th></th>\n",
       "      <th></th>\n",
       "    </tr>\n",
       "  </thead>\n",
       "  <tbody>\n",
       "    <tr>\n",
       "      <td>bedrooms</td>\n",
       "      <td>6009.6247</td>\n",
       "      <td>4547.396</td>\n",
       "      <td>1.322</td>\n",
       "      <td>0.186</td>\n",
       "      <td>-2904.429</td>\n",
       "      <td>1.49e+04</td>\n",
       "    </tr>\n",
       "    <tr>\n",
       "      <td>bathrooms</td>\n",
       "      <td>-3.455e+04</td>\n",
       "      <td>5545.682</td>\n",
       "      <td>-6.230</td>\n",
       "      <td>0.000</td>\n",
       "      <td>-4.54e+04</td>\n",
       "      <td>-2.37e+04</td>\n",
       "    </tr>\n",
       "    <tr>\n",
       "      <td>sqft_living</td>\n",
       "      <td>-5.647e+04</td>\n",
       "      <td>6575.736</td>\n",
       "      <td>-8.588</td>\n",
       "      <td>0.000</td>\n",
       "      <td>-6.94e+04</td>\n",
       "      <td>-4.36e+04</td>\n",
       "    </tr>\n",
       "    <tr>\n",
       "      <td>sqft_lot</td>\n",
       "      <td>3407.4164</td>\n",
       "      <td>4325.931</td>\n",
       "      <td>0.788</td>\n",
       "      <td>0.431</td>\n",
       "      <td>-5072.508</td>\n",
       "      <td>1.19e+04</td>\n",
       "    </tr>\n",
       "    <tr>\n",
       "      <td>distance_from_a_city</td>\n",
       "      <td>-2.305e+04</td>\n",
       "      <td>4191.231</td>\n",
       "      <td>-5.501</td>\n",
       "      <td>0.000</td>\n",
       "      <td>-3.13e+04</td>\n",
       "      <td>-1.48e+04</td>\n",
       "    </tr>\n",
       "  </tbody>\n",
       "</table>\n",
       "</div>"
      ],
      "text/plain": [
       "0                           coef    std err          t  P>|t|     [0.025  \\\n",
       "                                                                           \n",
       "bedrooms               6009.6247   4547.396      1.322  0.186  -2904.429   \n",
       "bathrooms             -3.455e+04   5545.682     -6.230  0.000  -4.54e+04   \n",
       "sqft_living           -5.647e+04   6575.736     -8.588  0.000  -6.94e+04   \n",
       "sqft_lot               3407.4164   4325.931      0.788  0.431  -5072.508   \n",
       "distance_from_a_city  -2.305e+04   4191.231     -5.501  0.000  -3.13e+04   \n",
       "\n",
       "0                        0.975]  \n",
       "                                 \n",
       "bedrooms               1.49e+04  \n",
       "bathrooms             -2.37e+04  \n",
       "sqft_living           -4.36e+04  \n",
       "sqft_lot               1.19e+04  \n",
       "distance_from_a_city  -1.48e+04  "
      ]
     },
     "execution_count": 152,
     "metadata": {},
     "output_type": "execute_result"
    }
   ],
   "source": [
    "summary = model.summary()\n",
    "p_table = summary.tables[1]\n",
    "p_table = pd.DataFrame(p_table.data)\n",
    "p_table.columns = p_table.iloc[0]\n",
    "p_table = p_table.drop(0)\n",
    "p_table = p_table.set_index(p_table.columns[0])\n",
    "p_table['P>|t|'] = p_table['P>|t|'].astype(float)\n",
    "x_cols = list(p_table[p_table['P>|t|'] < 0.05].index)\n",
    "print(len(p_table), len(x_cols))\n",
    "print(x_cols[:5])\n",
    "p_table.head()"
   ]
  },
  {
   "cell_type": "code",
   "execution_count": 153,
   "metadata": {},
   "outputs": [],
   "source": [
    "X = df[x_cols]\n",
    "y= df['price']"
   ]
  },
  {
   "cell_type": "code",
   "execution_count": 154,
   "metadata": {},
   "outputs": [
    {
     "data": {
      "text/html": [
       "<table class=\"simpletable\">\n",
       "<caption>OLS Regression Results</caption>\n",
       "<tr>\n",
       "  <th>Dep. Variable:</th>          <td>price</td>      <th>  R-squared (uncentered):</th>       <td>   0.684</td>  \n",
       "</tr>\n",
       "<tr>\n",
       "  <th>Model:</th>                   <td>OLS</td>       <th>  Adj. R-squared (uncentered):</th>  <td>   0.683</td>  \n",
       "</tr>\n",
       "<tr>\n",
       "  <th>Method:</th>             <td>Least Squares</td>  <th>  F-statistic:       </th>           <td>   2208.</td>  \n",
       "</tr>\n",
       "<tr>\n",
       "  <th>Date:</th>             <td>Thu, 04 Jun 2020</td> <th>  Prob (F-statistic):</th>            <td>  0.00</td>   \n",
       "</tr>\n",
       "<tr>\n",
       "  <th>Time:</th>                 <td>10:43:09</td>     <th>  Log-Likelihood:    </th>          <td>-1.1447e+05</td>\n",
       "</tr>\n",
       "<tr>\n",
       "  <th>No. Observations:</th>      <td>  8178</td>      <th>  AIC:               </th>           <td>2.290e+05</td> \n",
       "</tr>\n",
       "<tr>\n",
       "  <th>Df Residuals:</th>          <td>  8170</td>      <th>  BIC:               </th>           <td>2.290e+05</td> \n",
       "</tr>\n",
       "<tr>\n",
       "  <th>Df Model:</th>              <td>     8</td>      <th>                     </th>               <td> </td>     \n",
       "</tr>\n",
       "<tr>\n",
       "  <th>Covariance Type:</th>      <td>nonrobust</td>    <th>                     </th>               <td> </td>     \n",
       "</tr>\n",
       "</table>\n",
       "<table class=\"simpletable\">\n",
       "<tr>\n",
       "            <td></td>              <th>coef</th>     <th>std err</th>      <th>t</th>      <th>P>|t|</th>  <th>[0.025</th>    <th>0.975]</th>  \n",
       "</tr>\n",
       "<tr>\n",
       "  <th>bathrooms</th>            <td>-3.479e+04</td> <td> 4713.270</td> <td>   -7.381</td> <td> 0.000</td> <td> -4.4e+04</td> <td>-2.55e+04</td>\n",
       "</tr>\n",
       "<tr>\n",
       "  <th>sqft_living</th>          <td>-5.041e+04</td> <td> 5317.070</td> <td>   -9.481</td> <td> 0.000</td> <td>-6.08e+04</td> <td>   -4e+04</td>\n",
       "</tr>\n",
       "<tr>\n",
       "  <th>distance_from_a_city</th> <td>-2.154e+04</td> <td> 3529.875</td> <td>   -6.104</td> <td> 0.000</td> <td>-2.85e+04</td> <td>-1.46e+04</td>\n",
       "</tr>\n",
       "<tr>\n",
       "  <th>basement</th>             <td> 2.734e+05</td> <td> 6668.436</td> <td>   40.998</td> <td> 0.000</td> <td>  2.6e+05</td> <td> 2.86e+05</td>\n",
       "</tr>\n",
       "<tr>\n",
       "  <th>grade</th>                <td> 1.349e+05</td> <td> 4455.246</td> <td>   30.268</td> <td> 0.000</td> <td> 1.26e+05</td> <td> 1.44e+05</td>\n",
       "</tr>\n",
       "<tr>\n",
       "  <th>biggerliving</th>         <td> 3.056e+05</td> <td> 6877.928</td> <td>   44.426</td> <td> 0.000</td> <td> 2.92e+05</td> <td> 3.19e+05</td>\n",
       "</tr>\n",
       "<tr>\n",
       "  <th>biggerlot</th>            <td> 2.128e+05</td> <td> 7091.739</td> <td>   30.002</td> <td> 0.000</td> <td> 1.99e+05</td> <td> 2.27e+05</td>\n",
       "</tr>\n",
       "<tr>\n",
       "  <th>bedbath</th>              <td> 9.472e+04</td> <td> 2984.027</td> <td>   31.742</td> <td> 0.000</td> <td> 8.89e+04</td> <td> 1.01e+05</td>\n",
       "</tr>\n",
       "</table>\n",
       "<table class=\"simpletable\">\n",
       "<tr>\n",
       "  <th>Omnibus:</th>       <td>12.125</td> <th>  Durbin-Watson:     </th> <td>   1.476</td>\n",
       "</tr>\n",
       "<tr>\n",
       "  <th>Prob(Omnibus):</th> <td> 0.002</td> <th>  Jarque-Bera (JB):  </th> <td>  12.016</td>\n",
       "</tr>\n",
       "<tr>\n",
       "  <th>Skew:</th>          <td>-0.083</td> <th>  Prob(JB):          </th> <td> 0.00246</td>\n",
       "</tr>\n",
       "<tr>\n",
       "  <th>Kurtosis:</th>      <td> 2.912</td> <th>  Cond. No.          </th> <td>    4.10</td>\n",
       "</tr>\n",
       "</table><br/><br/>Warnings:<br/>[1] Standard Errors assume that the covariance matrix of the errors is correctly specified."
      ],
      "text/plain": [
       "<class 'statsmodels.iolib.summary.Summary'>\n",
       "\"\"\"\n",
       "                                 OLS Regression Results                                \n",
       "=======================================================================================\n",
       "Dep. Variable:                  price   R-squared (uncentered):                   0.684\n",
       "Model:                            OLS   Adj. R-squared (uncentered):              0.683\n",
       "Method:                 Least Squares   F-statistic:                              2208.\n",
       "Date:                Thu, 04 Jun 2020   Prob (F-statistic):                        0.00\n",
       "Time:                        10:43:09   Log-Likelihood:                     -1.1447e+05\n",
       "No. Observations:                8178   AIC:                                  2.290e+05\n",
       "Df Residuals:                    8170   BIC:                                  2.290e+05\n",
       "Df Model:                           8                                                  \n",
       "Covariance Type:            nonrobust                                                  \n",
       "========================================================================================\n",
       "                           coef    std err          t      P>|t|      [0.025      0.975]\n",
       "----------------------------------------------------------------------------------------\n",
       "bathrooms            -3.479e+04   4713.270     -7.381      0.000    -4.4e+04   -2.55e+04\n",
       "sqft_living          -5.041e+04   5317.070     -9.481      0.000   -6.08e+04      -4e+04\n",
       "distance_from_a_city -2.154e+04   3529.875     -6.104      0.000   -2.85e+04   -1.46e+04\n",
       "basement              2.734e+05   6668.436     40.998      0.000     2.6e+05    2.86e+05\n",
       "grade                 1.349e+05   4455.246     30.268      0.000    1.26e+05    1.44e+05\n",
       "biggerliving          3.056e+05   6877.928     44.426      0.000    2.92e+05    3.19e+05\n",
       "biggerlot             2.128e+05   7091.739     30.002      0.000    1.99e+05    2.27e+05\n",
       "bedbath               9.472e+04   2984.027     31.742      0.000    8.89e+04    1.01e+05\n",
       "==============================================================================\n",
       "Omnibus:                       12.125   Durbin-Watson:                   1.476\n",
       "Prob(Omnibus):                  0.002   Jarque-Bera (JB):               12.016\n",
       "Skew:                          -0.083   Prob(JB):                      0.00246\n",
       "Kurtosis:                       2.912   Cond. No.                         4.10\n",
       "==============================================================================\n",
       "\n",
       "Warnings:\n",
       "[1] Standard Errors assume that the covariance matrix of the errors is correctly specified.\n",
       "\"\"\""
      ]
     },
     "execution_count": 154,
     "metadata": {},
     "output_type": "execute_result"
    }
   ],
   "source": [
    "model = sm.OLS(y,X).fit()\n",
    "model.summary()"
   ]
  },
  {
   "cell_type": "code",
   "execution_count": 155,
   "metadata": {},
   "outputs": [
    {
     "data": {
      "text/plain": [
       "[('bathrooms', 2.152712130695366),\n",
       " ('sqft_living', 2.739592395759),\n",
       " ('distance_from_a_city', 1.2074245192098372),\n",
       " ('basement', 1.6194134024695996),\n",
       " ('grade', 1.9234666776210716),\n",
       " ('biggerliving', 1.9262630802631067),\n",
       " ('biggerlot', 1.2039378658397335),\n",
       " ('bedbath', 1.1304871692252134)]"
      ]
     },
     "execution_count": 155,
     "metadata": {},
     "output_type": "execute_result"
    }
   ],
   "source": [
    "# Your code here - Code a way to identify multicollinearity\n",
    "from statsmodels.stats.outliers_influence import variance_inflation_factor\n",
    "X = df[x_cols]\n",
    "vif = [variance_inflation_factor(X.values,i) for i in range(X.shape[1])]\n",
    "list(zip(x_cols,vif))"
   ]
  },
  {
   "cell_type": "code",
   "execution_count": 156,
   "metadata": {},
   "outputs": [
    {
     "name": "stdout",
     "output_type": "stream",
     "text": [
      "8 8\n"
     ]
    }
   ],
   "source": [
    "vif_scores = list(zip(x_cols, vif))\n",
    "x_cols = [x for x,vif in vif_scores if vif < 5.5]\n",
    "print(len(vif_scores), len(x_cols))"
   ]
  },
  {
   "cell_type": "code",
   "execution_count": 157,
   "metadata": {},
   "outputs": [
    {
     "data": {
      "text/html": [
       "<table class=\"simpletable\">\n",
       "<caption>OLS Regression Results</caption>\n",
       "<tr>\n",
       "  <th>Dep. Variable:</th>          <td>price</td>      <th>  R-squared (uncentered):</th>       <td>   0.684</td>  \n",
       "</tr>\n",
       "<tr>\n",
       "  <th>Model:</th>                   <td>OLS</td>       <th>  Adj. R-squared (uncentered):</th>  <td>   0.683</td>  \n",
       "</tr>\n",
       "<tr>\n",
       "  <th>Method:</th>             <td>Least Squares</td>  <th>  F-statistic:       </th>           <td>   2208.</td>  \n",
       "</tr>\n",
       "<tr>\n",
       "  <th>Date:</th>             <td>Thu, 04 Jun 2020</td> <th>  Prob (F-statistic):</th>            <td>  0.00</td>   \n",
       "</tr>\n",
       "<tr>\n",
       "  <th>Time:</th>                 <td>10:43:11</td>     <th>  Log-Likelihood:    </th>          <td>-1.1447e+05</td>\n",
       "</tr>\n",
       "<tr>\n",
       "  <th>No. Observations:</th>      <td>  8178</td>      <th>  AIC:               </th>           <td>2.290e+05</td> \n",
       "</tr>\n",
       "<tr>\n",
       "  <th>Df Residuals:</th>          <td>  8170</td>      <th>  BIC:               </th>           <td>2.290e+05</td> \n",
       "</tr>\n",
       "<tr>\n",
       "  <th>Df Model:</th>              <td>     8</td>      <th>                     </th>               <td> </td>     \n",
       "</tr>\n",
       "<tr>\n",
       "  <th>Covariance Type:</th>      <td>nonrobust</td>    <th>                     </th>               <td> </td>     \n",
       "</tr>\n",
       "</table>\n",
       "<table class=\"simpletable\">\n",
       "<tr>\n",
       "            <td></td>              <th>coef</th>     <th>std err</th>      <th>t</th>      <th>P>|t|</th>  <th>[0.025</th>    <th>0.975]</th>  \n",
       "</tr>\n",
       "<tr>\n",
       "  <th>bathrooms</th>            <td>-3.479e+04</td> <td> 4713.270</td> <td>   -7.381</td> <td> 0.000</td> <td> -4.4e+04</td> <td>-2.55e+04</td>\n",
       "</tr>\n",
       "<tr>\n",
       "  <th>sqft_living</th>          <td>-5.041e+04</td> <td> 5317.070</td> <td>   -9.481</td> <td> 0.000</td> <td>-6.08e+04</td> <td>   -4e+04</td>\n",
       "</tr>\n",
       "<tr>\n",
       "  <th>distance_from_a_city</th> <td>-2.154e+04</td> <td> 3529.875</td> <td>   -6.104</td> <td> 0.000</td> <td>-2.85e+04</td> <td>-1.46e+04</td>\n",
       "</tr>\n",
       "<tr>\n",
       "  <th>basement</th>             <td> 2.734e+05</td> <td> 6668.436</td> <td>   40.998</td> <td> 0.000</td> <td>  2.6e+05</td> <td> 2.86e+05</td>\n",
       "</tr>\n",
       "<tr>\n",
       "  <th>grade</th>                <td> 1.349e+05</td> <td> 4455.246</td> <td>   30.268</td> <td> 0.000</td> <td> 1.26e+05</td> <td> 1.44e+05</td>\n",
       "</tr>\n",
       "<tr>\n",
       "  <th>biggerliving</th>         <td> 3.056e+05</td> <td> 6877.928</td> <td>   44.426</td> <td> 0.000</td> <td> 2.92e+05</td> <td> 3.19e+05</td>\n",
       "</tr>\n",
       "<tr>\n",
       "  <th>biggerlot</th>            <td> 2.128e+05</td> <td> 7091.739</td> <td>   30.002</td> <td> 0.000</td> <td> 1.99e+05</td> <td> 2.27e+05</td>\n",
       "</tr>\n",
       "<tr>\n",
       "  <th>bedbath</th>              <td> 9.472e+04</td> <td> 2984.027</td> <td>   31.742</td> <td> 0.000</td> <td> 8.89e+04</td> <td> 1.01e+05</td>\n",
       "</tr>\n",
       "</table>\n",
       "<table class=\"simpletable\">\n",
       "<tr>\n",
       "  <th>Omnibus:</th>       <td>12.125</td> <th>  Durbin-Watson:     </th> <td>   1.476</td>\n",
       "</tr>\n",
       "<tr>\n",
       "  <th>Prob(Omnibus):</th> <td> 0.002</td> <th>  Jarque-Bera (JB):  </th> <td>  12.016</td>\n",
       "</tr>\n",
       "<tr>\n",
       "  <th>Skew:</th>          <td>-0.083</td> <th>  Prob(JB):          </th> <td> 0.00246</td>\n",
       "</tr>\n",
       "<tr>\n",
       "  <th>Kurtosis:</th>      <td> 2.912</td> <th>  Cond. No.          </th> <td>    4.10</td>\n",
       "</tr>\n",
       "</table><br/><br/>Warnings:<br/>[1] Standard Errors assume that the covariance matrix of the errors is correctly specified."
      ],
      "text/plain": [
       "<class 'statsmodels.iolib.summary.Summary'>\n",
       "\"\"\"\n",
       "                                 OLS Regression Results                                \n",
       "=======================================================================================\n",
       "Dep. Variable:                  price   R-squared (uncentered):                   0.684\n",
       "Model:                            OLS   Adj. R-squared (uncentered):              0.683\n",
       "Method:                 Least Squares   F-statistic:                              2208.\n",
       "Date:                Thu, 04 Jun 2020   Prob (F-statistic):                        0.00\n",
       "Time:                        10:43:11   Log-Likelihood:                     -1.1447e+05\n",
       "No. Observations:                8178   AIC:                                  2.290e+05\n",
       "Df Residuals:                    8170   BIC:                                  2.290e+05\n",
       "Df Model:                           8                                                  \n",
       "Covariance Type:            nonrobust                                                  \n",
       "========================================================================================\n",
       "                           coef    std err          t      P>|t|      [0.025      0.975]\n",
       "----------------------------------------------------------------------------------------\n",
       "bathrooms            -3.479e+04   4713.270     -7.381      0.000    -4.4e+04   -2.55e+04\n",
       "sqft_living          -5.041e+04   5317.070     -9.481      0.000   -6.08e+04      -4e+04\n",
       "distance_from_a_city -2.154e+04   3529.875     -6.104      0.000   -2.85e+04   -1.46e+04\n",
       "basement              2.734e+05   6668.436     40.998      0.000     2.6e+05    2.86e+05\n",
       "grade                 1.349e+05   4455.246     30.268      0.000    1.26e+05    1.44e+05\n",
       "biggerliving          3.056e+05   6877.928     44.426      0.000    2.92e+05    3.19e+05\n",
       "biggerlot             2.128e+05   7091.739     30.002      0.000    1.99e+05    2.27e+05\n",
       "bedbath               9.472e+04   2984.027     31.742      0.000    8.89e+04    1.01e+05\n",
       "==============================================================================\n",
       "Omnibus:                       12.125   Durbin-Watson:                   1.476\n",
       "Prob(Omnibus):                  0.002   Jarque-Bera (JB):               12.016\n",
       "Skew:                          -0.083   Prob(JB):                      0.00246\n",
       "Kurtosis:                       2.912   Cond. No.                         4.10\n",
       "==============================================================================\n",
       "\n",
       "Warnings:\n",
       "[1] Standard Errors assume that the covariance matrix of the errors is correctly specified.\n",
       "\"\"\""
      ]
     },
     "execution_count": 157,
     "metadata": {},
     "output_type": "execute_result"
    }
   ],
   "source": [
    "X = df[x_cols]\n",
    "y= df['price']\n",
    "model = sm.OLS(y,X).fit()\n",
    "model.summary()"
   ]
  },
  {
   "cell_type": "code",
   "execution_count": 158,
   "metadata": {
    "scrolled": false
   },
   "outputs": [
    {
     "data": {
      "text/html": [
       "<table class=\"simpletable\">\n",
       "<caption>OLS Regression Results</caption>\n",
       "<tr>\n",
       "  <th>Dep. Variable:</th>          <td>price</td>      <th>  R-squared (uncentered):</th>       <td>   0.684</td>  \n",
       "</tr>\n",
       "<tr>\n",
       "  <th>Model:</th>                   <td>OLS</td>       <th>  Adj. R-squared (uncentered):</th>  <td>   0.683</td>  \n",
       "</tr>\n",
       "<tr>\n",
       "  <th>Method:</th>             <td>Least Squares</td>  <th>  F-statistic:       </th>           <td>   2208.</td>  \n",
       "</tr>\n",
       "<tr>\n",
       "  <th>Date:</th>             <td>Thu, 04 Jun 2020</td> <th>  Prob (F-statistic):</th>            <td>  0.00</td>   \n",
       "</tr>\n",
       "<tr>\n",
       "  <th>Time:</th>                 <td>10:43:12</td>     <th>  Log-Likelihood:    </th>          <td>-1.1447e+05</td>\n",
       "</tr>\n",
       "<tr>\n",
       "  <th>No. Observations:</th>      <td>  8178</td>      <th>  AIC:               </th>           <td>2.290e+05</td> \n",
       "</tr>\n",
       "<tr>\n",
       "  <th>Df Residuals:</th>          <td>  8170</td>      <th>  BIC:               </th>           <td>2.290e+05</td> \n",
       "</tr>\n",
       "<tr>\n",
       "  <th>Df Model:</th>              <td>     8</td>      <th>                     </th>               <td> </td>     \n",
       "</tr>\n",
       "<tr>\n",
       "  <th>Covariance Type:</th>      <td>nonrobust</td>    <th>                     </th>               <td> </td>     \n",
       "</tr>\n",
       "</table>\n",
       "<table class=\"simpletable\">\n",
       "<tr>\n",
       "            <td></td>              <th>coef</th>     <th>std err</th>      <th>t</th>      <th>P>|t|</th>  <th>[0.025</th>    <th>0.975]</th>  \n",
       "</tr>\n",
       "<tr>\n",
       "  <th>bathrooms</th>            <td>-3.479e+04</td> <td> 4713.270</td> <td>   -7.381</td> <td> 0.000</td> <td> -4.4e+04</td> <td>-2.55e+04</td>\n",
       "</tr>\n",
       "<tr>\n",
       "  <th>sqft_living</th>          <td>-5.041e+04</td> <td> 5317.070</td> <td>   -9.481</td> <td> 0.000</td> <td>-6.08e+04</td> <td>   -4e+04</td>\n",
       "</tr>\n",
       "<tr>\n",
       "  <th>distance_from_a_city</th> <td>-2.154e+04</td> <td> 3529.875</td> <td>   -6.104</td> <td> 0.000</td> <td>-2.85e+04</td> <td>-1.46e+04</td>\n",
       "</tr>\n",
       "<tr>\n",
       "  <th>basement</th>             <td> 2.734e+05</td> <td> 6668.436</td> <td>   40.998</td> <td> 0.000</td> <td>  2.6e+05</td> <td> 2.86e+05</td>\n",
       "</tr>\n",
       "<tr>\n",
       "  <th>grade</th>                <td> 1.349e+05</td> <td> 4455.246</td> <td>   30.268</td> <td> 0.000</td> <td> 1.26e+05</td> <td> 1.44e+05</td>\n",
       "</tr>\n",
       "<tr>\n",
       "  <th>biggerliving</th>         <td> 3.056e+05</td> <td> 6877.928</td> <td>   44.426</td> <td> 0.000</td> <td> 2.92e+05</td> <td> 3.19e+05</td>\n",
       "</tr>\n",
       "<tr>\n",
       "  <th>biggerlot</th>            <td> 2.128e+05</td> <td> 7091.739</td> <td>   30.002</td> <td> 0.000</td> <td> 1.99e+05</td> <td> 2.27e+05</td>\n",
       "</tr>\n",
       "<tr>\n",
       "  <th>bedbath</th>              <td> 9.472e+04</td> <td> 2984.027</td> <td>   31.742</td> <td> 0.000</td> <td> 8.89e+04</td> <td> 1.01e+05</td>\n",
       "</tr>\n",
       "</table>\n",
       "<table class=\"simpletable\">\n",
       "<tr>\n",
       "  <th>Omnibus:</th>       <td>12.125</td> <th>  Durbin-Watson:     </th> <td>   1.476</td>\n",
       "</tr>\n",
       "<tr>\n",
       "  <th>Prob(Omnibus):</th> <td> 0.002</td> <th>  Jarque-Bera (JB):  </th> <td>  12.016</td>\n",
       "</tr>\n",
       "<tr>\n",
       "  <th>Skew:</th>          <td>-0.083</td> <th>  Prob(JB):          </th> <td> 0.00246</td>\n",
       "</tr>\n",
       "<tr>\n",
       "  <th>Kurtosis:</th>      <td> 2.912</td> <th>  Cond. No.          </th> <td>    4.10</td>\n",
       "</tr>\n",
       "</table><br/><br/>Warnings:<br/>[1] Standard Errors assume that the covariance matrix of the errors is correctly specified."
      ],
      "text/plain": [
       "<class 'statsmodels.iolib.summary.Summary'>\n",
       "\"\"\"\n",
       "                                 OLS Regression Results                                \n",
       "=======================================================================================\n",
       "Dep. Variable:                  price   R-squared (uncentered):                   0.684\n",
       "Model:                            OLS   Adj. R-squared (uncentered):              0.683\n",
       "Method:                 Least Squares   F-statistic:                              2208.\n",
       "Date:                Thu, 04 Jun 2020   Prob (F-statistic):                        0.00\n",
       "Time:                        10:43:12   Log-Likelihood:                     -1.1447e+05\n",
       "No. Observations:                8178   AIC:                                  2.290e+05\n",
       "Df Residuals:                    8170   BIC:                                  2.290e+05\n",
       "Df Model:                           8                                                  \n",
       "Covariance Type:            nonrobust                                                  \n",
       "========================================================================================\n",
       "                           coef    std err          t      P>|t|      [0.025      0.975]\n",
       "----------------------------------------------------------------------------------------\n",
       "bathrooms            -3.479e+04   4713.270     -7.381      0.000    -4.4e+04   -2.55e+04\n",
       "sqft_living          -5.041e+04   5317.070     -9.481      0.000   -6.08e+04      -4e+04\n",
       "distance_from_a_city -2.154e+04   3529.875     -6.104      0.000   -2.85e+04   -1.46e+04\n",
       "basement              2.734e+05   6668.436     40.998      0.000     2.6e+05    2.86e+05\n",
       "grade                 1.349e+05   4455.246     30.268      0.000    1.26e+05    1.44e+05\n",
       "biggerliving          3.056e+05   6877.928     44.426      0.000    2.92e+05    3.19e+05\n",
       "biggerlot             2.128e+05   7091.739     30.002      0.000    1.99e+05    2.27e+05\n",
       "bedbath               9.472e+04   2984.027     31.742      0.000    8.89e+04    1.01e+05\n",
       "==============================================================================\n",
       "Omnibus:                       12.125   Durbin-Watson:                   1.476\n",
       "Prob(Omnibus):                  0.002   Jarque-Bera (JB):               12.016\n",
       "Skew:                          -0.083   Prob(JB):                      0.00246\n",
       "Kurtosis:                       2.912   Cond. No.                         4.10\n",
       "==============================================================================\n",
       "\n",
       "Warnings:\n",
       "[1] Standard Errors assume that the covariance matrix of the errors is correctly specified.\n",
       "\"\"\""
      ]
     },
     "execution_count": 158,
     "metadata": {},
     "output_type": "execute_result"
    }
   ],
   "source": [
    "model = sm.OLS(y,X).fit()\n",
    "model.summary()"
   ]
  },
  {
   "cell_type": "code",
   "execution_count": 159,
   "metadata": {},
   "outputs": [
    {
     "data": {
      "image/png": "[encoded data removed]",
      "text/plain": [
       "<Figure size 432x288 with 1 Axes>"
      ]
     },
     "metadata": {
      "needs_background": "light"
     },
     "output_type": "display_data"
    }
   ],
   "source": [
    "fig = sm.graphics.qqplot(model.resid, dist=scs.norm, line='45', fit=True)\n"
   ]
  },
  {
   "cell_type": "code",
   "execution_count": 160,
   "metadata": {},
   "outputs": [
    {
     "data": {
      "text/plain": [
       "[<matplotlib.lines.Line2D at 0x1c1dbc1dd8>]"
      ]
     },
     "execution_count": 160,
     "metadata": {},
     "output_type": "execute_result"
    },
    {
     "data": {
      "image/png": "[encoded data removed]",
      "text/plain": [
       "<Figure size 432x288 with 1 Axes>"
      ]
     },
     "metadata": {
      "needs_background": "light"
     },
     "output_type": "display_data"
    }
   ],
   "source": [
    "plt.scatter(model.predict(X), model.resid)\n",
    "plt.plot(model.predict(X), [0 for i in range(len(df))])"
   ]
  },
  {
   "cell_type": "code",
   "execution_count": 161,
   "metadata": {},
   "outputs": [
    {
     "data": {
      "text/plain": [
       "<matplotlib.axes._subplots.AxesSubplot at 0x1c1dbc1550>"
      ]
     },
     "execution_count": 161,
     "metadata": {},
     "output_type": "execute_result"
    },
    {
     "data": {
      "image/png": "[encoded data removed]",
      "text/plain": [
       "<Figure size 432x288 with 1 Axes>"
      ]
     },
     "metadata": {
      "needs_background": "light"
     },
     "output_type": "display_data"
    }
   ],
   "source": [
    "df.price.hist()"
   ]
  },
  {
   "cell_type": "code",
   "execution_count": 162,
   "metadata": {},
   "outputs": [
    {
     "name": "stdout",
     "output_type": "stream",
     "text": [
      "0.8 percentile: 634980.0\n",
      "0.81 percentile: 642601.7000000003\n",
      "0.82 percentile: 650000.0\n",
      "0.83 percentile: 660000.0\n",
      "0.84 percentile: 672339.9999999998\n",
      "0.85 percentile: 680000.0\n",
      "0.86 percentile: 697220.0000000002\n",
      "0.87 percentile: 707998.9999999999\n",
      "0.88 percentile: 720127.92\n",
      "0.89 percentile: 735000.0\n",
      "0.9 percentile: 750000.0\n",
      "0.91 percentile: 767267.5000000001\n",
      "0.92 percentile: 780000.0\n",
      "0.93 percentile: 800000.0\n",
      "0.94 percentile: 825000.0\n",
      "0.95 percentile: 850000.0\n",
      "0.96 percentile: 879874.0000000001\n",
      "0.97 percentile: 920000.0\n",
      "0.98 percentile: 968420.0\n",
      "0.99 percentile: 1042299.9999999956\n"
     ]
    }
   ],
   "source": [
    "for i in range(80,100):\n",
    "    q = i/100\n",
    "    print(\"{} percentile: {}\".format(q, df.price.quantile(q=q)))"
   ]
  },
  {
   "cell_type": "code",
   "execution_count": 163,
   "metadata": {},
   "outputs": [
    {
     "name": "stdout",
     "output_type": "stream",
     "text": [
      "Percent removed: 0.024455857177794083\n"
     ]
    }
   ],
   "source": [
    "orig_tot = len(df)\n",
    "df = df[df.price < 950000.0] # Subsetting to remove extreme outliers\n",
    "print('Percent removed:', (orig_tot -len(df))/orig_tot)\n"
   ]
  },
  {
   "cell_type": "code",
   "execution_count": 164,
   "metadata": {},
   "outputs": [],
   "source": [
    "X = df[x_cols]\n",
    "y = df['price']"
   ]
  },
  {
   "cell_type": "code",
   "execution_count": 165,
   "metadata": {},
   "outputs": [
    {
     "data": {
      "text/html": [
       "<table class=\"simpletable\">\n",
       "<caption>OLS Regression Results</caption>\n",
       "<tr>\n",
       "  <th>Dep. Variable:</th>          <td>price</td>      <th>  R-squared (uncentered):</th>       <td>   0.670</td>  \n",
       "</tr>\n",
       "<tr>\n",
       "  <th>Model:</th>                   <td>OLS</td>       <th>  Adj. R-squared (uncentered):</th>  <td>   0.670</td>  \n",
       "</tr>\n",
       "<tr>\n",
       "  <th>Method:</th>             <td>Least Squares</td>  <th>  F-statistic:       </th>           <td>   2023.</td>  \n",
       "</tr>\n",
       "<tr>\n",
       "  <th>Date:</th>             <td>Thu, 04 Jun 2020</td> <th>  Prob (F-statistic):</th>            <td>  0.00</td>   \n",
       "</tr>\n",
       "<tr>\n",
       "  <th>Time:</th>                 <td>10:43:26</td>     <th>  Log-Likelihood:    </th>          <td>-1.1153e+05</td>\n",
       "</tr>\n",
       "<tr>\n",
       "  <th>No. Observations:</th>      <td>  7978</td>      <th>  AIC:               </th>           <td>2.231e+05</td> \n",
       "</tr>\n",
       "<tr>\n",
       "  <th>Df Residuals:</th>          <td>  7970</td>      <th>  BIC:               </th>           <td>2.231e+05</td> \n",
       "</tr>\n",
       "<tr>\n",
       "  <th>Df Model:</th>              <td>     8</td>      <th>                     </th>               <td> </td>     \n",
       "</tr>\n",
       "<tr>\n",
       "  <th>Covariance Type:</th>      <td>nonrobust</td>    <th>                     </th>               <td> </td>     \n",
       "</tr>\n",
       "</table>\n",
       "<table class=\"simpletable\">\n",
       "<tr>\n",
       "            <td></td>              <th>coef</th>     <th>std err</th>      <th>t</th>      <th>P>|t|</th>  <th>[0.025</th>    <th>0.975]</th>  \n",
       "</tr>\n",
       "<tr>\n",
       "  <th>bathrooms</th>            <td> -3.08e+04</td> <td> 4707.051</td> <td>   -6.544</td> <td> 0.000</td> <td>   -4e+04</td> <td>-2.16e+04</td>\n",
       "</tr>\n",
       "<tr>\n",
       "  <th>sqft_living</th>          <td>-5.907e+04</td> <td> 5285.258</td> <td>  -11.176</td> <td> 0.000</td> <td>-6.94e+04</td> <td>-4.87e+04</td>\n",
       "</tr>\n",
       "<tr>\n",
       "  <th>distance_from_a_city</th> <td>-1.234e+04</td> <td> 3519.515</td> <td>   -3.506</td> <td> 0.000</td> <td>-1.92e+04</td> <td>-5438.598</td>\n",
       "</tr>\n",
       "<tr>\n",
       "  <th>basement</th>             <td> 2.684e+05</td> <td> 6635.790</td> <td>   40.454</td> <td> 0.000</td> <td> 2.55e+05</td> <td> 2.81e+05</td>\n",
       "</tr>\n",
       "<tr>\n",
       "  <th>grade</th>                <td> 1.253e+05</td> <td> 4481.694</td> <td>   27.953</td> <td> 0.000</td> <td> 1.16e+05</td> <td> 1.34e+05</td>\n",
       "</tr>\n",
       "<tr>\n",
       "  <th>biggerliving</th>         <td> 3.032e+05</td> <td> 6830.880</td> <td>   44.379</td> <td> 0.000</td> <td>  2.9e+05</td> <td> 3.17e+05</td>\n",
       "</tr>\n",
       "<tr>\n",
       "  <th>biggerlot</th>            <td> 2.121e+05</td> <td> 7055.827</td> <td>   30.064</td> <td> 0.000</td> <td> 1.98e+05</td> <td> 2.26e+05</td>\n",
       "</tr>\n",
       "<tr>\n",
       "  <th>bedbath</th>              <td> 9.089e+04</td> <td> 3027.046</td> <td>   30.024</td> <td> 0.000</td> <td>  8.5e+04</td> <td> 9.68e+04</td>\n",
       "</tr>\n",
       "</table>\n",
       "<table class=\"simpletable\">\n",
       "<tr>\n",
       "  <th>Omnibus:</th>       <td>11.499</td> <th>  Durbin-Watson:     </th> <td>   1.464</td>\n",
       "</tr>\n",
       "<tr>\n",
       "  <th>Prob(Omnibus):</th> <td> 0.003</td> <th>  Jarque-Bera (JB):  </th> <td>  11.158</td>\n",
       "</tr>\n",
       "<tr>\n",
       "  <th>Skew:</th>          <td>-0.073</td> <th>  Prob(JB):          </th> <td> 0.00378</td>\n",
       "</tr>\n",
       "<tr>\n",
       "  <th>Kurtosis:</th>      <td> 2.888</td> <th>  Cond. No.          </th> <td>    4.05</td>\n",
       "</tr>\n",
       "</table><br/><br/>Warnings:<br/>[1] Standard Errors assume that the covariance matrix of the errors is correctly specified."
      ],
      "text/plain": [
       "<class 'statsmodels.iolib.summary.Summary'>\n",
       "\"\"\"\n",
       "                                 OLS Regression Results                                \n",
       "=======================================================================================\n",
       "Dep. Variable:                  price   R-squared (uncentered):                   0.670\n",
       "Model:                            OLS   Adj. R-squared (uncentered):              0.670\n",
       "Method:                 Least Squares   F-statistic:                              2023.\n",
       "Date:                Thu, 04 Jun 2020   Prob (F-statistic):                        0.00\n",
       "Time:                        10:43:26   Log-Likelihood:                     -1.1153e+05\n",
       "No. Observations:                7978   AIC:                                  2.231e+05\n",
       "Df Residuals:                    7970   BIC:                                  2.231e+05\n",
       "Df Model:                           8                                                  \n",
       "Covariance Type:            nonrobust                                                  \n",
       "========================================================================================\n",
       "                           coef    std err          t      P>|t|      [0.025      0.975]\n",
       "----------------------------------------------------------------------------------------\n",
       "bathrooms             -3.08e+04   4707.051     -6.544      0.000      -4e+04   -2.16e+04\n",
       "sqft_living          -5.907e+04   5285.258    -11.176      0.000   -6.94e+04   -4.87e+04\n",
       "distance_from_a_city -1.234e+04   3519.515     -3.506      0.000   -1.92e+04   -5438.598\n",
       "basement              2.684e+05   6635.790     40.454      0.000    2.55e+05    2.81e+05\n",
       "grade                 1.253e+05   4481.694     27.953      0.000    1.16e+05    1.34e+05\n",
       "biggerliving          3.032e+05   6830.880     44.379      0.000     2.9e+05    3.17e+05\n",
       "biggerlot             2.121e+05   7055.827     30.064      0.000    1.98e+05    2.26e+05\n",
       "bedbath               9.089e+04   3027.046     30.024      0.000     8.5e+04    9.68e+04\n",
       "==============================================================================\n",
       "Omnibus:                       11.499   Durbin-Watson:                   1.464\n",
       "Prob(Omnibus):                  0.003   Jarque-Bera (JB):               11.158\n",
       "Skew:                          -0.073   Prob(JB):                      0.00378\n",
       "Kurtosis:                       2.888   Cond. No.                         4.05\n",
       "==============================================================================\n",
       "\n",
       "Warnings:\n",
       "[1] Standard Errors assume that the covariance matrix of the errors is correctly specified.\n",
       "\"\"\""
      ]
     },
     "execution_count": 165,
     "metadata": {},
     "output_type": "execute_result"
    }
   ],
   "source": [
    "model = sm.OLS(y,X).fit()\n",
    "model.summary()"
   ]
  },
  {
   "cell_type": "code",
   "execution_count": 89,
   "metadata": {},
   "outputs": [
    {
     "name": "stdout",
     "output_type": "stream",
     "text": [
      "12 12\n",
      "['bedrooms', 'sqft_living', 'sqft_lot', 'distance_from_a_city', 'Years_last_renovation']\n"
     ]
    },
    {
     "data": {
      "text/html": [
       "<div>\n",
       "<style scoped>\n",
       "    .dataframe tbody tr th:only-of-type {\n",
       "        vertical-align: middle;\n",
       "    }\n",
       "\n",
       "    .dataframe tbody tr th {\n",
       "        vertical-align: top;\n",
       "    }\n",
       "\n",
       "    .dataframe thead th {\n",
       "        text-align: right;\n",
       "    }\n",
       "</style>\n",
       "<table border=\"1\" class=\"dataframe\">\n",
       "  <thead>\n",
       "    <tr style=\"text-align: right;\">\n",
       "      <th></th>\n",
       "      <th>coef</th>\n",
       "      <th>std err</th>\n",
       "      <th>t</th>\n",
       "      <th>P&gt;|t|</th>\n",
       "      <th>[0.025</th>\n",
       "      <th>0.975]</th>\n",
       "    </tr>\n",
       "    <tr>\n",
       "      <th></th>\n",
       "      <th></th>\n",
       "      <th></th>\n",
       "      <th></th>\n",
       "      <th></th>\n",
       "      <th></th>\n",
       "      <th></th>\n",
       "    </tr>\n",
       "  </thead>\n",
       "  <tbody>\n",
       "    <tr>\n",
       "      <td>bedrooms</td>\n",
       "      <td>-1.324e+04</td>\n",
       "      <td>1679.028</td>\n",
       "      <td>-7.888</td>\n",
       "      <td>0.000</td>\n",
       "      <td>-1.65e+04</td>\n",
       "      <td>-9953.073</td>\n",
       "    </tr>\n",
       "    <tr>\n",
       "      <td>sqft_living</td>\n",
       "      <td>9.98e+04</td>\n",
       "      <td>2380.364</td>\n",
       "      <td>41.925</td>\n",
       "      <td>0.000</td>\n",
       "      <td>9.51e+04</td>\n",
       "      <td>1.04e+05</td>\n",
       "    </tr>\n",
       "    <tr>\n",
       "      <td>sqft_lot</td>\n",
       "      <td>4342.8285</td>\n",
       "      <td>1570.699</td>\n",
       "      <td>2.765</td>\n",
       "      <td>0.006</td>\n",
       "      <td>1263.844</td>\n",
       "      <td>7421.813</td>\n",
       "    </tr>\n",
       "    <tr>\n",
       "      <td>distance_from_a_city</td>\n",
       "      <td>-8.741e+04</td>\n",
       "      <td>1602.240</td>\n",
       "      <td>-54.557</td>\n",
       "      <td>0.000</td>\n",
       "      <td>-9.06e+04</td>\n",
       "      <td>-8.43e+04</td>\n",
       "    </tr>\n",
       "    <tr>\n",
       "      <td>Years_last_renovation</td>\n",
       "      <td>3.037e+04</td>\n",
       "      <td>1962.370</td>\n",
       "      <td>15.478</td>\n",
       "      <td>0.000</td>\n",
       "      <td>2.65e+04</td>\n",
       "      <td>3.42e+04</td>\n",
       "    </tr>\n",
       "  </tbody>\n",
       "</table>\n",
       "</div>"
      ],
      "text/plain": [
       "0                            coef    std err          t  P>|t|     [0.025  \\\n",
       "                                                                            \n",
       "bedrooms               -1.324e+04   1679.028     -7.888  0.000  -1.65e+04   \n",
       "sqft_living              9.98e+04   2380.364     41.925  0.000   9.51e+04   \n",
       "sqft_lot                4342.8285   1570.699      2.765  0.006   1263.844   \n",
       "distance_from_a_city   -8.741e+04   1602.240    -54.557  0.000  -9.06e+04   \n",
       "Years_last_renovation   3.037e+04   1962.370     15.478  0.000   2.65e+04   \n",
       "\n",
       "0                         0.975]  \n",
       "                                  \n",
       "bedrooms               -9953.073  \n",
       "sqft_living             1.04e+05  \n",
       "sqft_lot                7421.813  \n",
       "distance_from_a_city   -8.43e+04  \n",
       "Years_last_renovation   3.42e+04  "
      ]
     },
     "execution_count": 89,
     "metadata": {},
     "output_type": "execute_result"
    }
   ],
   "source": [
    "summary = model.summary()\n",
    "p_table = summary.tables[1]\n",
    "p_table = pd.DataFrame(p_table.data)\n",
    "p_table.columns = p_table.iloc[0]\n",
    "p_table = p_table.drop(0)\n",
    "p_table = p_table.set_index(p_table.columns[0])\n",
    "p_table['P>|t|'] = p_table['P>|t|'].astype(float)\n",
    "x_cols = list(p_table[p_table['P>|t|'] < 0.05].index)\n",
    "print(len(p_table), len(x_cols))\n",
    "print(x_cols[:5])\n",
    "p_table.head()"
   ]
  },
  {
   "cell_type": "code",
   "execution_count": 90,
   "metadata": {},
   "outputs": [
    {
     "data": {
      "text/html": [
       "<table class=\"simpletable\">\n",
       "<caption>OLS Regression Results</caption>\n",
       "<tr>\n",
       "  <th>Dep. Variable:</th>          <td>price</td>      <th>  R-squared:         </th>  <td>   0.630</td>  \n",
       "</tr>\n",
       "<tr>\n",
       "  <th>Model:</th>                   <td>OLS</td>       <th>  Adj. R-squared:    </th>  <td>   0.629</td>  \n",
       "</tr>\n",
       "<tr>\n",
       "  <th>Method:</th>             <td>Least Squares</td>  <th>  F-statistic:       </th>  <td>   1222.</td>  \n",
       "</tr>\n",
       "<tr>\n",
       "  <th>Date:</th>             <td>Thu, 04 Jun 2020</td> <th>  Prob (F-statistic):</th>   <td>  0.00</td>   \n",
       "</tr>\n",
       "<tr>\n",
       "  <th>Time:</th>                 <td>10:41:06</td>     <th>  Log-Likelihood:    </th> <td>-1.0295e+05</td>\n",
       "</tr>\n",
       "<tr>\n",
       "  <th>No. Observations:</th>      <td>  7922</td>      <th>  AIC:               </th>  <td>2.059e+05</td> \n",
       "</tr>\n",
       "<tr>\n",
       "  <th>Df Residuals:</th>          <td>  7910</td>      <th>  BIC:               </th>  <td>2.060e+05</td> \n",
       "</tr>\n",
       "<tr>\n",
       "  <th>Df Model:</th>              <td>    11</td>      <th>                     </th>      <td> </td>     \n",
       "</tr>\n",
       "<tr>\n",
       "  <th>Covariance Type:</th>      <td>nonrobust</td>    <th>                     </th>      <td> </td>     \n",
       "</tr>\n",
       "</table>\n",
       "<table class=\"simpletable\">\n",
       "<tr>\n",
       "            <td></td>               <th>coef</th>     <th>std err</th>      <th>t</th>      <th>P>|t|</th>  <th>[0.025</th>    <th>0.975]</th>  \n",
       "</tr>\n",
       "<tr>\n",
       "  <th>bedrooms</th>              <td>-1.324e+04</td> <td> 1679.028</td> <td>   -7.888</td> <td> 0.000</td> <td>-1.65e+04</td> <td>-9953.073</td>\n",
       "</tr>\n",
       "<tr>\n",
       "  <th>sqft_living</th>           <td>  9.98e+04</td> <td> 2380.364</td> <td>   41.925</td> <td> 0.000</td> <td> 9.51e+04</td> <td> 1.04e+05</td>\n",
       "</tr>\n",
       "<tr>\n",
       "  <th>sqft_lot</th>              <td> 4342.8285</td> <td> 1570.699</td> <td>    2.765</td> <td> 0.006</td> <td> 1263.844</td> <td> 7421.813</td>\n",
       "</tr>\n",
       "<tr>\n",
       "  <th>distance_from_a_city</th>  <td>-8.741e+04</td> <td> 1602.240</td> <td>  -54.557</td> <td> 0.000</td> <td>-9.06e+04</td> <td>-8.43e+04</td>\n",
       "</tr>\n",
       "<tr>\n",
       "  <th>Years_last_renovation</th> <td> 3.037e+04</td> <td> 1962.370</td> <td>   15.478</td> <td> 0.000</td> <td> 2.65e+04</td> <td> 3.42e+04</td>\n",
       "</tr>\n",
       "<tr>\n",
       "  <th>basement</th>              <td>-1.811e+04</td> <td> 2815.104</td> <td>   -6.432</td> <td> 0.000</td> <td>-2.36e+04</td> <td>-1.26e+04</td>\n",
       "</tr>\n",
       "<tr>\n",
       "  <th>cond3</th>                 <td> 4.767e+05</td> <td> 2182.192</td> <td>  218.436</td> <td> 0.000</td> <td> 4.72e+05</td> <td> 4.81e+05</td>\n",
       "</tr>\n",
       "<tr>\n",
       "  <th>grade</th>                 <td> 5.975e+04</td> <td> 1874.840</td> <td>   31.870</td> <td> 0.000</td> <td> 5.61e+04</td> <td> 6.34e+04</td>\n",
       "</tr>\n",
       "<tr>\n",
       "  <th>biggerliving</th>          <td> -2.08e+04</td> <td> 2962.960</td> <td>   -7.022</td> <td> 0.000</td> <td>-2.66e+04</td> <td> -1.5e+04</td>\n",
       "</tr>\n",
       "<tr>\n",
       "  <th>biggerlot</th>             <td> 9211.4160</td> <td> 2822.433</td> <td>    3.264</td> <td> 0.001</td> <td> 3678.702</td> <td> 1.47e+04</td>\n",
       "</tr>\n",
       "<tr>\n",
       "  <th>cond4</th>                 <td> 4.977e+05</td> <td> 3511.503</td> <td>  141.747</td> <td> 0.000</td> <td> 4.91e+05</td> <td> 5.05e+05</td>\n",
       "</tr>\n",
       "<tr>\n",
       "  <th>cond5</th>                 <td> 5.295e+05</td> <td> 4926.872</td> <td>  107.469</td> <td> 0.000</td> <td>  5.2e+05</td> <td> 5.39e+05</td>\n",
       "</tr>\n",
       "</table>\n",
       "<table class=\"simpletable\">\n",
       "<tr>\n",
       "  <th>Omnibus:</th>       <td>89.455</td> <th>  Durbin-Watson:     </th> <td>   1.965</td>\n",
       "</tr>\n",
       "<tr>\n",
       "  <th>Prob(Omnibus):</th> <td> 0.000</td> <th>  Jarque-Bera (JB):  </th> <td> 102.495</td>\n",
       "</tr>\n",
       "<tr>\n",
       "  <th>Skew:</th>          <td> 0.209</td> <th>  Prob(JB):          </th> <td>5.54e-23</td>\n",
       "</tr>\n",
       "<tr>\n",
       "  <th>Kurtosis:</th>      <td> 3.368</td> <th>  Cond. No.          </th> <td>    7.21</td>\n",
       "</tr>\n",
       "</table><br/><br/>Warnings:<br/>[1] Standard Errors assume that the covariance matrix of the errors is correctly specified."
      ],
      "text/plain": [
       "<class 'statsmodels.iolib.summary.Summary'>\n",
       "\"\"\"\n",
       "                            OLS Regression Results                            \n",
       "==============================================================================\n",
       "Dep. Variable:                  price   R-squared:                       0.630\n",
       "Model:                            OLS   Adj. R-squared:                  0.629\n",
       "Method:                 Least Squares   F-statistic:                     1222.\n",
       "Date:                Thu, 04 Jun 2020   Prob (F-statistic):               0.00\n",
       "Time:                        10:41:06   Log-Likelihood:            -1.0295e+05\n",
       "No. Observations:                7922   AIC:                         2.059e+05\n",
       "Df Residuals:                    7910   BIC:                         2.060e+05\n",
       "Df Model:                          11                                         \n",
       "Covariance Type:            nonrobust                                         \n",
       "=========================================================================================\n",
       "                            coef    std err          t      P>|t|      [0.025      0.975]\n",
       "-----------------------------------------------------------------------------------------\n",
       "bedrooms              -1.324e+04   1679.028     -7.888      0.000   -1.65e+04   -9953.073\n",
       "sqft_living             9.98e+04   2380.364     41.925      0.000    9.51e+04    1.04e+05\n",
       "sqft_lot               4342.8285   1570.699      2.765      0.006    1263.844    7421.813\n",
       "distance_from_a_city  -8.741e+04   1602.240    -54.557      0.000   -9.06e+04   -8.43e+04\n",
       "Years_last_renovation  3.037e+04   1962.370     15.478      0.000    2.65e+04    3.42e+04\n",
       "basement              -1.811e+04   2815.104     -6.432      0.000   -2.36e+04   -1.26e+04\n",
       "cond3                  4.767e+05   2182.192    218.436      0.000    4.72e+05    4.81e+05\n",
       "grade                  5.975e+04   1874.840     31.870      0.000    5.61e+04    6.34e+04\n",
       "biggerliving           -2.08e+04   2962.960     -7.022      0.000   -2.66e+04    -1.5e+04\n",
       "biggerlot              9211.4160   2822.433      3.264      0.001    3678.702    1.47e+04\n",
       "cond4                  4.977e+05   3511.503    141.747      0.000    4.91e+05    5.05e+05\n",
       "cond5                  5.295e+05   4926.872    107.469      0.000     5.2e+05    5.39e+05\n",
       "==============================================================================\n",
       "Omnibus:                       89.455   Durbin-Watson:                   1.965\n",
       "Prob(Omnibus):                  0.000   Jarque-Bera (JB):              102.495\n",
       "Skew:                           0.209   Prob(JB):                     5.54e-23\n",
       "Kurtosis:                       3.368   Cond. No.                         7.21\n",
       "==============================================================================\n",
       "\n",
       "Warnings:\n",
       "[1] Standard Errors assume that the covariance matrix of the errors is correctly specified.\n",
       "\"\"\""
      ]
     },
     "execution_count": 90,
     "metadata": {},
     "output_type": "execute_result"
    }
   ],
   "source": [
    "X = df[x_cols]\n",
    "y= df['price']\n",
    "model = sm.OLS(y,X).fit()\n",
    "model.summary()"
   ]
  },
  {
   "cell_type": "code",
   "execution_count": 91,
   "metadata": {},
   "outputs": [
    {
     "data": {
      "text/plain": [
       "[('bedrooms', 1.9458969796133978),\n",
       " ('sqft_living', 3.8133045502785783),\n",
       " ('sqft_lot', 1.7416016493277295),\n",
       " ('distance_from_a_city', 1.7781394891563544),\n",
       " ('Years_last_renovation', 2.657588770929561),\n",
       " ('basement', 1.2866129205838959),\n",
       " ('cond3', 2.42305566861862),\n",
       " ('grade', 2.305396704704414),\n",
       " ('biggerliving', 1.4829205564109091),\n",
       " ('biggerlot', 1.029653370415999),\n",
       " ('cond4', 1.643133474448146),\n",
       " ('cond5', 1.3280275720790204)]"
      ]
     },
     "execution_count": 91,
     "metadata": {},
     "output_type": "execute_result"
    }
   ],
   "source": [
    "# Your code here - Code a way to identify multicollinearity\n",
    "from statsmodels.stats.outliers_influence import variance_inflation_factor\n",
    "X = df[x_cols]\n",
    "vif = [variance_inflation_factor(X.values,i) for i in range(X.shape[1])]\n",
    "list(zip(x_cols,vif))"
   ]
  },
  {
   "cell_type": "code",
   "execution_count": 92,
   "metadata": {},
   "outputs": [
    {
     "name": "stdout",
     "output_type": "stream",
     "text": [
      "12 12\n"
     ]
    }
   ],
   "source": [
    "vif_scores = list(zip(x_cols, vif))\n",
    "x_cols = [x for x,vif in vif_scores if vif < 5]\n",
    "print(len(vif_scores), len(x_cols))"
   ]
  },
  {
   "cell_type": "code",
   "execution_count": 93,
   "metadata": {},
   "outputs": [
    {
     "data": {
      "text/html": [
       "<table class=\"simpletable\">\n",
       "<caption>OLS Regression Results</caption>\n",
       "<tr>\n",
       "  <th>Dep. Variable:</th>          <td>price</td>      <th>  R-squared:         </th>  <td>   0.630</td>  \n",
       "</tr>\n",
       "<tr>\n",
       "  <th>Model:</th>                   <td>OLS</td>       <th>  Adj. R-squared:    </th>  <td>   0.629</td>  \n",
       "</tr>\n",
       "<tr>\n",
       "  <th>Method:</th>             <td>Least Squares</td>  <th>  F-statistic:       </th>  <td>   1222.</td>  \n",
       "</tr>\n",
       "<tr>\n",
       "  <th>Date:</th>             <td>Thu, 04 Jun 2020</td> <th>  Prob (F-statistic):</th>   <td>  0.00</td>   \n",
       "</tr>\n",
       "<tr>\n",
       "  <th>Time:</th>                 <td>10:41:09</td>     <th>  Log-Likelihood:    </th> <td>-1.0295e+05</td>\n",
       "</tr>\n",
       "<tr>\n",
       "  <th>No. Observations:</th>      <td>  7922</td>      <th>  AIC:               </th>  <td>2.059e+05</td> \n",
       "</tr>\n",
       "<tr>\n",
       "  <th>Df Residuals:</th>          <td>  7910</td>      <th>  BIC:               </th>  <td>2.060e+05</td> \n",
       "</tr>\n",
       "<tr>\n",
       "  <th>Df Model:</th>              <td>    11</td>      <th>                     </th>      <td> </td>     \n",
       "</tr>\n",
       "<tr>\n",
       "  <th>Covariance Type:</th>      <td>nonrobust</td>    <th>                     </th>      <td> </td>     \n",
       "</tr>\n",
       "</table>\n",
       "<table class=\"simpletable\">\n",
       "<tr>\n",
       "            <td></td>               <th>coef</th>     <th>std err</th>      <th>t</th>      <th>P>|t|</th>  <th>[0.025</th>    <th>0.975]</th>  \n",
       "</tr>\n",
       "<tr>\n",
       "  <th>bedrooms</th>              <td>-1.324e+04</td> <td> 1679.028</td> <td>   -7.888</td> <td> 0.000</td> <td>-1.65e+04</td> <td>-9953.073</td>\n",
       "</tr>\n",
       "<tr>\n",
       "  <th>sqft_living</th>           <td>  9.98e+04</td> <td> 2380.364</td> <td>   41.925</td> <td> 0.000</td> <td> 9.51e+04</td> <td> 1.04e+05</td>\n",
       "</tr>\n",
       "<tr>\n",
       "  <th>sqft_lot</th>              <td> 4342.8285</td> <td> 1570.699</td> <td>    2.765</td> <td> 0.006</td> <td> 1263.844</td> <td> 7421.813</td>\n",
       "</tr>\n",
       "<tr>\n",
       "  <th>distance_from_a_city</th>  <td>-8.741e+04</td> <td> 1602.240</td> <td>  -54.557</td> <td> 0.000</td> <td>-9.06e+04</td> <td>-8.43e+04</td>\n",
       "</tr>\n",
       "<tr>\n",
       "  <th>Years_last_renovation</th> <td> 3.037e+04</td> <td> 1962.370</td> <td>   15.478</td> <td> 0.000</td> <td> 2.65e+04</td> <td> 3.42e+04</td>\n",
       "</tr>\n",
       "<tr>\n",
       "  <th>basement</th>              <td>-1.811e+04</td> <td> 2815.104</td> <td>   -6.432</td> <td> 0.000</td> <td>-2.36e+04</td> <td>-1.26e+04</td>\n",
       "</tr>\n",
       "<tr>\n",
       "  <th>cond3</th>                 <td> 4.767e+05</td> <td> 2182.192</td> <td>  218.436</td> <td> 0.000</td> <td> 4.72e+05</td> <td> 4.81e+05</td>\n",
       "</tr>\n",
       "<tr>\n",
       "  <th>grade</th>                 <td> 5.975e+04</td> <td> 1874.840</td> <td>   31.870</td> <td> 0.000</td> <td> 5.61e+04</td> <td> 6.34e+04</td>\n",
       "</tr>\n",
       "<tr>\n",
       "  <th>biggerliving</th>          <td> -2.08e+04</td> <td> 2962.960</td> <td>   -7.022</td> <td> 0.000</td> <td>-2.66e+04</td> <td> -1.5e+04</td>\n",
       "</tr>\n",
       "<tr>\n",
       "  <th>biggerlot</th>             <td> 9211.4160</td> <td> 2822.433</td> <td>    3.264</td> <td> 0.001</td> <td> 3678.702</td> <td> 1.47e+04</td>\n",
       "</tr>\n",
       "<tr>\n",
       "  <th>cond4</th>                 <td> 4.977e+05</td> <td> 3511.503</td> <td>  141.747</td> <td> 0.000</td> <td> 4.91e+05</td> <td> 5.05e+05</td>\n",
       "</tr>\n",
       "<tr>\n",
       "  <th>cond5</th>                 <td> 5.295e+05</td> <td> 4926.872</td> <td>  107.469</td> <td> 0.000</td> <td>  5.2e+05</td> <td> 5.39e+05</td>\n",
       "</tr>\n",
       "</table>\n",
       "<table class=\"simpletable\">\n",
       "<tr>\n",
       "  <th>Omnibus:</th>       <td>89.455</td> <th>  Durbin-Watson:     </th> <td>   1.965</td>\n",
       "</tr>\n",
       "<tr>\n",
       "  <th>Prob(Omnibus):</th> <td> 0.000</td> <th>  Jarque-Bera (JB):  </th> <td> 102.495</td>\n",
       "</tr>\n",
       "<tr>\n",
       "  <th>Skew:</th>          <td> 0.209</td> <th>  Prob(JB):          </th> <td>5.54e-23</td>\n",
       "</tr>\n",
       "<tr>\n",
       "  <th>Kurtosis:</th>      <td> 3.368</td> <th>  Cond. No.          </th> <td>    7.21</td>\n",
       "</tr>\n",
       "</table><br/><br/>Warnings:<br/>[1] Standard Errors assume that the covariance matrix of the errors is correctly specified."
      ],
      "text/plain": [
       "<class 'statsmodels.iolib.summary.Summary'>\n",
       "\"\"\"\n",
       "                            OLS Regression Results                            \n",
       "==============================================================================\n",
       "Dep. Variable:                  price   R-squared:                       0.630\n",
       "Model:                            OLS   Adj. R-squared:                  0.629\n",
       "Method:                 Least Squares   F-statistic:                     1222.\n",
       "Date:                Thu, 04 Jun 2020   Prob (F-statistic):               0.00\n",
       "Time:                        10:41:09   Log-Likelihood:            -1.0295e+05\n",
       "No. Observations:                7922   AIC:                         2.059e+05\n",
       "Df Residuals:                    7910   BIC:                         2.060e+05\n",
       "Df Model:                          11                                         \n",
       "Covariance Type:            nonrobust                                         \n",
       "=========================================================================================\n",
       "                            coef    std err          t      P>|t|      [0.025      0.975]\n",
       "-----------------------------------------------------------------------------------------\n",
       "bedrooms              -1.324e+04   1679.028     -7.888      0.000   -1.65e+04   -9953.073\n",
       "sqft_living             9.98e+04   2380.364     41.925      0.000    9.51e+04    1.04e+05\n",
       "sqft_lot               4342.8285   1570.699      2.765      0.006    1263.844    7421.813\n",
       "distance_from_a_city  -8.741e+04   1602.240    -54.557      0.000   -9.06e+04   -8.43e+04\n",
       "Years_last_renovation  3.037e+04   1962.370     15.478      0.000    2.65e+04    3.42e+04\n",
       "basement              -1.811e+04   2815.104     -6.432      0.000   -2.36e+04   -1.26e+04\n",
       "cond3                  4.767e+05   2182.192    218.436      0.000    4.72e+05    4.81e+05\n",
       "grade                  5.975e+04   1874.840     31.870      0.000    5.61e+04    6.34e+04\n",
       "biggerliving           -2.08e+04   2962.960     -7.022      0.000   -2.66e+04    -1.5e+04\n",
       "biggerlot              9211.4160   2822.433      3.264      0.001    3678.702    1.47e+04\n",
       "cond4                  4.977e+05   3511.503    141.747      0.000    4.91e+05    5.05e+05\n",
       "cond5                  5.295e+05   4926.872    107.469      0.000     5.2e+05    5.39e+05\n",
       "==============================================================================\n",
       "Omnibus:                       89.455   Durbin-Watson:                   1.965\n",
       "Prob(Omnibus):                  0.000   Jarque-Bera (JB):              102.495\n",
       "Skew:                           0.209   Prob(JB):                     5.54e-23\n",
       "Kurtosis:                       3.368   Cond. No.                         7.21\n",
       "==============================================================================\n",
       "\n",
       "Warnings:\n",
       "[1] Standard Errors assume that the covariance matrix of the errors is correctly specified.\n",
       "\"\"\""
      ]
     },
     "execution_count": 93,
     "metadata": {},
     "output_type": "execute_result"
    }
   ],
   "source": [
    "X = df[x_cols]\n",
    "y= df['price']\n",
    "model = sm.OLS(y,X).fit()\n",
    "model.summary()"
   ]
  },
  {
   "cell_type": "code",
   "execution_count": 94,
   "metadata": {},
   "outputs": [
    {
     "data": {
      "image/png": "[encoded data removed]",
      "text/plain": [
       "<Figure size 432x288 with 1 Axes>"
      ]
     },
     "metadata": {
      "needs_background": "light"
     },
     "output_type": "display_data"
    }
   ],
   "source": [
    "fig = sm.graphics.qqplot(model.resid, dist=scs.norm, line='45', fit=True)\n"
   ]
  },
  {
   "cell_type": "code",
   "execution_count": 95,
   "metadata": {},
   "outputs": [
    {
     "data": {
      "text/plain": [
       "[<matplotlib.lines.Line2D at 0x1c1bc60fd0>]"
      ]
     },
     "execution_count": 95,
     "metadata": {},
     "output_type": "execute_result"
    },
    {
     "data": {
      "image/png": "[encoded data removed]",
      "text/plain": [
       "<Figure size 432x288 with 1 Axes>"
      ]
     },
     "metadata": {
      "needs_background": "light"
     },
     "output_type": "display_data"
    }
   ],
   "source": [
    "plt.scatter(model.predict(X), model.resid)\n",
    "plt.plot(model.predict(X), [0 for i in range(len(df))])"
   ]
  },
  {
   "cell_type": "code",
   "execution_count": 339,
   "metadata": {},
   "outputs": [
    {
     "name": "stdout",
     "output_type": "stream",
     "text": [
      "0.8 percentile: 585000.0\n",
      "0.81 percentile: 595000.0\n",
      "0.82 percentile: 600000.0\n",
      "0.83 percentile: 610000.0\n",
      "0.84 percentile: 620000.0\n",
      "0.85 percentile: 629000.0\n",
      "0.86 percentile: 639460.0000000001\n",
      "0.87 percentile: 650000.0\n",
      "0.88 percentile: 658500.0\n",
      "0.89 percentile: 670000.0\n",
      "0.9 percentile: 680000.0\n",
      "0.91 percentile: 695000.0\n",
      "0.92 percentile: 705000.0\n",
      "0.93 percentile: 719000.0\n",
      "0.94 percentile: 732451.9999999998\n",
      "0.95 percentile: 749950.0\n",
      "0.96 percentile: 760000.0\n",
      "0.97 percentile: 780000.0\n",
      "0.98 percentile: 799972.4\n",
      "0.99 percentile: 820000.0\n"
     ]
    },
    {
     "data": {
      "text/plain": [
       "<matplotlib.axes._subplots.AxesSubplot at 0x1c259f9c50>"
      ]
     },
     "execution_count": 339,
     "metadata": {},
     "output_type": "execute_result"
    },
    {
     "data": {
      "image/png": "[encoded data removed]",
      "text/plain": [
       "<Figure size 432x288 with 1 Axes>"
      ]
     },
     "metadata": {},
     "output_type": "display_data"
    }
   ],
   "source": [
    "for i in range(80,100):\n",
    "    q = i/100\n",
    "    print(\"{} percentile: {}\".format(q, df.price.quantile(q=q)))\n",
    "\n",
    "df.price.hist()"
   ]
  },
  {
   "cell_type": "code",
   "execution_count": 340,
   "metadata": {},
   "outputs": [],
   "source": [
    "df = df[df.price <= 780000.0]\n"
   ]
  },
  {
   "cell_type": "code",
   "execution_count": 341,
   "metadata": {},
   "outputs": [
    {
     "data": {
      "text/html": [
       "<table class=\"simpletable\">\n",
       "<caption>OLS Regression Results</caption>\n",
       "<tr>\n",
       "  <th>Dep. Variable:</th>          <td>price</td>      <th>  R-squared:         </th>  <td>   0.642</td>  \n",
       "</tr>\n",
       "<tr>\n",
       "  <th>Model:</th>                   <td>OLS</td>       <th>  Adj. R-squared:    </th>  <td>   0.642</td>  \n",
       "</tr>\n",
       "<tr>\n",
       "  <th>Method:</th>             <td>Least Squares</td>  <th>  F-statistic:       </th>  <td>   2175.</td>  \n",
       "</tr>\n",
       "<tr>\n",
       "  <th>Date:</th>             <td>Thu, 04 Jun 2020</td> <th>  Prob (F-statistic):</th>   <td>  0.00</td>   \n",
       "</tr>\n",
       "<tr>\n",
       "  <th>Time:</th>                 <td>00:16:24</td>     <th>  Log-Likelihood:    </th> <td>-1.7121e+05</td>\n",
       "</tr>\n",
       "<tr>\n",
       "  <th>No. Observations:</th>      <td> 13336</td>      <th>  AIC:               </th>  <td>3.424e+05</td> \n",
       "</tr>\n",
       "<tr>\n",
       "  <th>Df Residuals:</th>          <td> 13324</td>      <th>  BIC:               </th>  <td>3.425e+05</td> \n",
       "</tr>\n",
       "<tr>\n",
       "  <th>Df Model:</th>              <td>    11</td>      <th>                     </th>      <td> </td>     \n",
       "</tr>\n",
       "<tr>\n",
       "  <th>Covariance Type:</th>      <td>nonrobust</td>    <th>                     </th>      <td> </td>     \n",
       "</tr>\n",
       "</table>\n",
       "<table class=\"simpletable\">\n",
       "<tr>\n",
       "            <td></td>               <th>coef</th>     <th>std err</th>      <th>t</th>      <th>P>|t|</th>  <th>[0.025</th>    <th>0.975]</th>  \n",
       "</tr>\n",
       "<tr>\n",
       "  <th>bedrooms</th>              <td>-1.222e+04</td> <td> 1054.844</td> <td>  -11.581</td> <td> 0.000</td> <td>-1.43e+04</td> <td>-1.01e+04</td>\n",
       "</tr>\n",
       "<tr>\n",
       "  <th>bathrooms</th>             <td> 5638.1541</td> <td> 1327.377</td> <td>    4.248</td> <td> 0.000</td> <td> 3036.306</td> <td> 8240.002</td>\n",
       "</tr>\n",
       "<tr>\n",
       "  <th>sqft_living</th>           <td> 8.205e+04</td> <td> 1663.297</td> <td>   49.332</td> <td> 0.000</td> <td> 7.88e+04</td> <td> 8.53e+04</td>\n",
       "</tr>\n",
       "<tr>\n",
       "  <th>sqft_lot</th>              <td> 2568.4783</td> <td>  995.395</td> <td>    2.580</td> <td> 0.010</td> <td>  617.362</td> <td> 4519.595</td>\n",
       "</tr>\n",
       "<tr>\n",
       "  <th>distance_from_a_city</th>  <td>-8.619e+04</td> <td>  974.240</td> <td>  -88.467</td> <td> 0.000</td> <td>-8.81e+04</td> <td>-8.43e+04</td>\n",
       "</tr>\n",
       "<tr>\n",
       "  <th>Years_last_renovation</th> <td> 1.429e+04</td> <td> 1281.301</td> <td>   11.155</td> <td> 0.000</td> <td> 1.18e+04</td> <td> 1.68e+04</td>\n",
       "</tr>\n",
       "<tr>\n",
       "  <th>basement</th>              <td>-2.063e+04</td> <td> 1810.670</td> <td>  -11.394</td> <td> 0.000</td> <td>-2.42e+04</td> <td>-1.71e+04</td>\n",
       "</tr>\n",
       "<tr>\n",
       "  <th>cond3</th>                 <td>  4.52e+05</td> <td> 1398.790</td> <td>  323.147</td> <td> 0.000</td> <td> 4.49e+05</td> <td> 4.55e+05</td>\n",
       "</tr>\n",
       "<tr>\n",
       "  <th>grade</th>                 <td> 4.603e+04</td> <td> 1229.139</td> <td>   37.452</td> <td> 0.000</td> <td> 4.36e+04</td> <td> 4.84e+04</td>\n",
       "</tr>\n",
       "<tr>\n",
       "  <th>biggerliving</th>          <td>-2.653e+04</td> <td> 1947.053</td> <td>  -13.624</td> <td> 0.000</td> <td>-3.03e+04</td> <td>-2.27e+04</td>\n",
       "</tr>\n",
       "<tr>\n",
       "  <th>cond4</th>                 <td> 4.688e+05</td> <td> 1927.840</td> <td>  243.190</td> <td> 0.000</td> <td> 4.65e+05</td> <td> 4.73e+05</td>\n",
       "</tr>\n",
       "<tr>\n",
       "  <th>cond5</th>                 <td> 4.914e+05</td> <td> 3170.130</td> <td>  155.011</td> <td> 0.000</td> <td> 4.85e+05</td> <td> 4.98e+05</td>\n",
       "</tr>\n",
       "</table>\n",
       "<table class=\"simpletable\">\n",
       "<tr>\n",
       "  <th>Omnibus:</th>       <td>77.830</td> <th>  Durbin-Watson:     </th> <td>   1.996</td>\n",
       "</tr>\n",
       "<tr>\n",
       "  <th>Prob(Omnibus):</th> <td> 0.000</td> <th>  Jarque-Bera (JB):  </th> <td>  88.145</td>\n",
       "</tr>\n",
       "<tr>\n",
       "  <th>Skew:</th>          <td> 0.139</td> <th>  Prob(JB):          </th> <td>7.24e-20</td>\n",
       "</tr>\n",
       "<tr>\n",
       "  <th>Kurtosis:</th>      <td> 3.285</td> <th>  Cond. No.          </th> <td>    7.53</td>\n",
       "</tr>\n",
       "</table><br/><br/>Warnings:<br/>[1] Standard Errors assume that the covariance matrix of the errors is correctly specified."
      ],
      "text/plain": [
       "<class 'statsmodels.iolib.summary.Summary'>\n",
       "\"\"\"\n",
       "                            OLS Regression Results                            \n",
       "==============================================================================\n",
       "Dep. Variable:                  price   R-squared:                       0.642\n",
       "Model:                            OLS   Adj. R-squared:                  0.642\n",
       "Method:                 Least Squares   F-statistic:                     2175.\n",
       "Date:                Thu, 04 Jun 2020   Prob (F-statistic):               0.00\n",
       "Time:                        00:16:24   Log-Likelihood:            -1.7121e+05\n",
       "No. Observations:               13336   AIC:                         3.424e+05\n",
       "Df Residuals:                   13324   BIC:                         3.425e+05\n",
       "Df Model:                          11                                         \n",
       "Covariance Type:            nonrobust                                         \n",
       "=========================================================================================\n",
       "                            coef    std err          t      P>|t|      [0.025      0.975]\n",
       "-----------------------------------------------------------------------------------------\n",
       "bedrooms              -1.222e+04   1054.844    -11.581      0.000   -1.43e+04   -1.01e+04\n",
       "bathrooms              5638.1541   1327.377      4.248      0.000    3036.306    8240.002\n",
       "sqft_living            8.205e+04   1663.297     49.332      0.000    7.88e+04    8.53e+04\n",
       "sqft_lot               2568.4783    995.395      2.580      0.010     617.362    4519.595\n",
       "distance_from_a_city  -8.619e+04    974.240    -88.467      0.000   -8.81e+04   -8.43e+04\n",
       "Years_last_renovation  1.429e+04   1281.301     11.155      0.000    1.18e+04    1.68e+04\n",
       "basement              -2.063e+04   1810.670    -11.394      0.000   -2.42e+04   -1.71e+04\n",
       "cond3                   4.52e+05   1398.790    323.147      0.000    4.49e+05    4.55e+05\n",
       "grade                  4.603e+04   1229.139     37.452      0.000    4.36e+04    4.84e+04\n",
       "biggerliving          -2.653e+04   1947.053    -13.624      0.000   -3.03e+04   -2.27e+04\n",
       "cond4                  4.688e+05   1927.840    243.190      0.000    4.65e+05    4.73e+05\n",
       "cond5                  4.914e+05   3170.130    155.011      0.000    4.85e+05    4.98e+05\n",
       "==============================================================================\n",
       "Omnibus:                       77.830   Durbin-Watson:                   1.996\n",
       "Prob(Omnibus):                  0.000   Jarque-Bera (JB):               88.145\n",
       "Skew:                           0.139   Prob(JB):                     7.24e-20\n",
       "Kurtosis:                       3.285   Cond. No.                         7.53\n",
       "==============================================================================\n",
       "\n",
       "Warnings:\n",
       "[1] Standard Errors assume that the covariance matrix of the errors is correctly specified.\n",
       "\"\"\""
      ]
     },
     "execution_count": 341,
     "metadata": {},
     "output_type": "execute_result"
    }
   ],
   "source": [
    "X =df[x_cols]\n",
    "y=df['price']\n",
    "model = sm.OLS(y,X).fit()\n",
    "model.summary()"
   ]
  },
  {
   "cell_type": "code",
   "execution_count": 342,
   "metadata": {},
   "outputs": [
    {
     "data": {
      "image/png": "[encoded data removed]",
      "text/plain": [
       "<Figure size 432x288 with 1 Axes>"
      ]
     },
     "metadata": {},
     "output_type": "display_data"
    }
   ],
   "source": [
    "fig = sm.graphics.qqplot(model.resid, dist=scs.norm, line='45', fit=True)\n"
   ]
  },
  {
   "cell_type": "code",
   "execution_count": 343,
   "metadata": {},
   "outputs": [
    {
     "data": {
      "text/plain": [
       "[<matplotlib.lines.Line2D at 0x115392e48>]"
      ]
     },
     "execution_count": 343,
     "metadata": {},
     "output_type": "execute_result"
    },
    {
     "data": {
      "image/png": "[encoded data removed]",
      "text/plain": [
       "<Figure size 432x288 with 1 Axes>"
      ]
     },
     "metadata": {},
     "output_type": "display_data"
    }
   ],
   "source": [
    "plt.scatter(model.predict(X), model.resid)\n",
    "plt.plot(model.predict(X), [0 for i in range(len(df))])"
   ]
  },
  {
   "cell_type": "code",
   "execution_count": null,
   "metadata": {},
   "outputs": [],
   "source": []
  },
  {
   "cell_type": "code",
   "execution_count": 344,
   "metadata": {},
   "outputs": [],
   "source": [
    "def plot_residuals(resids):\n",
    "    plt.hist(resids)\n",
    "    plt.title(\"Residuals\")\n",
    "    plt.show()\n",
    "    \n",
    "    xspace = np.linspace(0, 1, len(resids))\n",
    "    plt.scatter(xspace, resids)\n",
    "    plt.title(\"resids\")\n",
    "    plt.hlines(0, xmin=0, xmax=1)\n",
    "    plt.show()"
   ]
  },
  {
   "cell_type": "code",
   "execution_count": 345,
   "metadata": {},
   "outputs": [],
   "source": [
    "residuals = model.resid"
   ]
  },
  {
   "cell_type": "code",
   "execution_count": 346,
   "metadata": {},
   "outputs": [
    {
     "data": {
      "image/png": "[encoded data removed]",
      "text/plain": [
       "<Figure size 432x288 with 1 Axes>"
      ]
     },
     "metadata": {},
     "output_type": "display_data"
    },
    {
     "data": {
      "image/png": "[encoded data removed]",
      "text/plain": [
       "<Figure size 432x288 with 1 Axes>"
      ]
     },
     "metadata": {},
     "output_type": "display_data"
    }
   ],
   "source": [
    "plot_residuals(residuals)"
   ]
  },
  {
   "cell_type": "code",
   "execution_count": 96,
   "metadata": {},
   "outputs": [],
   "source": [
    "from sklearn.utils import shuffle\n",
    "from sklearn.linear_model import LinearRegression\n",
    "from sklearn.model_selection import train_test_split, cross_val_score\n",
    "from sklearn.preprocessing import StandardScaler\n",
    "from sklearn.feature_selection import RFE\n",
    "\n",
    "from sklearn.metrics import r2_score"
   ]
  },
  {
   "cell_type": "code",
   "execution_count": 97,
   "metadata": {},
   "outputs": [],
   "source": [
    "ols = LinearRegression(fit_intercept=False, normalize=False, n_jobs=-1)"
   ]
  },
  {
   "cell_type": "code",
   "execution_count": 98,
   "metadata": {},
   "outputs": [
    {
     "data": {
      "text/plain": [
       "(0.6251553702143429, 0.6259078203675293, 0.6256399578395693)"
      ]
     },
     "execution_count": 98,
     "metadata": {},
     "output_type": "execute_result"
    }
   ],
   "source": [
    "cv5_scores = np.mean(cross_val_score(ols, X, y, scoring='r2', cv=5, n_jobs=-1) )\n",
    "cv10_scores = np.mean(cross_val_score(ols, X, y, scoring='r2', cv=10, n_jobs=-1) )\n",
    "cv20_scores = np.mean(cross_val_score(ols, X, y, scoring='r2', cv=20, n_jobs=-1) )\n",
    "\n",
    "# cv breaks your data into that many equal pieces \n",
    "cv5_scores,cv10_scores,cv20_scores"
   ]
  },
  {
   "cell_type": "code",
   "execution_count": 99,
   "metadata": {},
   "outputs": [
    {
     "data": {
      "text/plain": [
       "(-11468763951.890997, -11420071831.462048, -11400416200.820377)"
      ]
     },
     "execution_count": 99,
     "metadata": {},
     "output_type": "execute_result"
    }
   ],
   "source": [
    "cv5mse_scores = np.mean(cross_val_score(ols, X, y, scoring='neg_mean_squared_error', cv=5, n_jobs=-1) )\n",
    "cv10mse_scores = np.mean(cross_val_score(ols, X, y, scoring='neg_mean_squared_error', cv=10, n_jobs=-1) )\n",
    "cv20mse_scores = np.mean(cross_val_score(ols, X, y, scoring='neg_mean_squared_error', cv=20, n_jobs=-1) )\n",
    "\n",
    "# cv breaks your data into that many equal pieces \n",
    "cv5mse_scores,cv10mse_scores,cv20mse_scores"
   ]
  },
  {
   "cell_type": "code",
   "execution_count": 100,
   "metadata": {},
   "outputs": [
    {
     "data": {
      "text/plain": [
       "(-84698.33344930485, -84547.16752166531, -84490.7745642015)"
      ]
     },
     "execution_count": 100,
     "metadata": {},
     "output_type": "execute_result"
    }
   ],
   "source": [
    "cv5mae_scores = np.mean(cross_val_score(ols, X, y, scoring='neg_mean_absolute_error', cv=5, n_jobs=-1) )\n",
    "cv10mae_scores = np.mean(cross_val_score(ols, X, y, scoring='neg_mean_absolute_error', cv=10, n_jobs=-1) )\n",
    "cv20mae_scores = np.mean(cross_val_score(ols, X, y, scoring='neg_mean_absolute_error', cv=20, n_jobs=-1) )\n",
    "\n",
    "# cv breaks your data into that many equal pieces \n",
    "cv5mae_scores,cv10mae_scores,cv20mae_scores"
   ]
  },
  {
   "cell_type": "code",
   "execution_count": 352,
   "metadata": {},
   "outputs": [],
   "source": [
    "def make_ols_sklearn(X, y, test_size=0.20, fit_intercept=False, standardize=False):\n",
    "    X_train, X_test, y_train, y_test = train_test_split(X, y, test_size=test_size)\n",
    "    if standardize:\n",
    "        ss = StandardScaler()\n",
    "        ss.fit(X_train)\n",
    "        X_train = ss.transform(X_train)\n",
    "        X_test = ss.transform(X_test)\n",
    "    ols = LinearRegression(fit_intercept=fit_intercept, normalize=False)\n",
    "    ols.fit(X_train, y_train)\n",
    "    train_score = ols.score(X_train, y_train)\n",
    "    test_score = ols.score(X_test, y_test)\n",
    "    cv5_scores = np.mean(cross_val_score(ols, X, y, scoring='r2', cv=5, n_jobs=-1) )\n",
    "    cv10_scores = np.mean(cross_val_score(ols, X, y, scoring='r2', cv=10, n_jobs=-1) )\n",
    "    cvmse_5 = np.mean(cross_val_score(ols,X , y, cv=5, scoring='neg_mean_squared_error'))\n",
    "    cvmse_10 = np.mean(cross_val_score(ols,X, y, cv=10, scoring='neg_mean_squared_error'))\n",
    "    print(f\"train R2 score = {train_score}\")\n",
    "    print(f\"test R2 score = {test_score}\")\n",
    "    print(f\"cv5 R2 score = {cv5_scores}\")\n",
    "    print(f\"cv10 R2 score = {cv10_scores}\")\n",
    "    print(f\"cv5 MSE score = {cvmse_5}\")\n",
    "    print(f\"cv10  MSE score = {cvmse_10}\")\n",
    "\n",
    "    return ols"
   ]
  },
  {
   "cell_type": "code",
   "execution_count": 353,
   "metadata": {},
   "outputs": [
    {
     "name": "stdout",
     "output_type": "stream",
     "text": [
      "train R2 score = 0.6417816835276549\n",
      "test R2 score = 0.6436124946955284\n",
      "cv5 R2 score = 0.6389592120215141\n",
      "cv10 R2 score = 0.6358549924919048\n",
      "cv5 MSE score = -8336745839.758519\n",
      "cv10  MSE score = -8351442524.931444\n"
     ]
    },
    {
     "data": {
      "text/plain": [
       "LinearRegression(copy_X=True, fit_intercept=False, n_jobs=None, normalize=False)"
      ]
     },
     "execution_count": 353,
     "metadata": {},
     "output_type": "execute_result"
    }
   ],
   "source": [
    "make_ols_sklearn(X, y)"
   ]
  },
  {
   "cell_type": "code",
   "execution_count": 354,
   "metadata": {},
   "outputs": [
    {
     "name": "stdout",
     "output_type": "stream",
     "text": [
      "train R2 score = 0.642598157275565\n",
      "test R2 score = 0.6408168595779588\n",
      "cv5 R2 score = 0.6389592120215141\n",
      "cv10 R2 score = 0.6358549924919048\n",
      "cv5 MSE score = -8336745839.758519\n",
      "cv10  MSE score = -8351442524.931444\n"
     ]
    },
    {
     "data": {
      "text/plain": [
       "LinearRegression(copy_X=True, fit_intercept=False, n_jobs=None, normalize=False)"
      ]
     },
     "execution_count": 354,
     "metadata": {},
     "output_type": "execute_result"
    }
   ],
   "source": [
    "make_ols_sklearn(X, y)"
   ]
  },
  {
   "cell_type": "code",
   "execution_count": 355,
   "metadata": {},
   "outputs": [],
   "source": [
    "residuals = model.resid\n",
    "resid = pd.DataFrame(df['price'])\n",
    "resid['residuals']  = residuals"
   ]
  },
  {
   "cell_type": "code",
   "execution_count": 356,
   "metadata": {},
   "outputs": [],
   "source": [
    "resid['residuals']  = residuals"
   ]
  },
  {
   "cell_type": "code",
   "execution_count": 357,
   "metadata": {
    "scrolled": true
   },
   "outputs": [
    {
     "data": {
      "text/html": [
       "<div>\n",
       "<style scoped>\n",
       "    .dataframe tbody tr th:only-of-type {\n",
       "        vertical-align: middle;\n",
       "    }\n",
       "\n",
       "    .dataframe tbody tr th {\n",
       "        vertical-align: top;\n",
       "    }\n",
       "\n",
       "    .dataframe thead th {\n",
       "        text-align: right;\n",
       "    }\n",
       "</style>\n",
       "<table border=\"1\" class=\"dataframe\">\n",
       "  <thead>\n",
       "    <tr style=\"text-align: right;\">\n",
       "      <th></th>\n",
       "      <th>price</th>\n",
       "      <th>residuals</th>\n",
       "    </tr>\n",
       "  </thead>\n",
       "  <tbody>\n",
       "    <tr>\n",
       "      <td>0</td>\n",
       "      <td>538000.0</td>\n",
       "      <td>59693.926497</td>\n",
       "    </tr>\n",
       "    <tr>\n",
       "      <td>1</td>\n",
       "      <td>180000.0</td>\n",
       "      <td>-46209.423206</td>\n",
       "    </tr>\n",
       "    <tr>\n",
       "      <td>2</td>\n",
       "      <td>604000.0</td>\n",
       "      <td>129334.822206</td>\n",
       "    </tr>\n",
       "    <tr>\n",
       "      <td>3</td>\n",
       "      <td>510000.0</td>\n",
       "      <td>29140.186405</td>\n",
       "    </tr>\n",
       "    <tr>\n",
       "      <td>5</td>\n",
       "      <td>291850.0</td>\n",
       "      <td>50004.741703</td>\n",
       "    </tr>\n",
       "    <tr>\n",
       "      <td>...</td>\n",
       "      <td>...</td>\n",
       "      <td>...</td>\n",
       "    </tr>\n",
       "    <tr>\n",
       "      <td>17201</td>\n",
       "      <td>475000.0</td>\n",
       "      <td>9558.474127</td>\n",
       "    </tr>\n",
       "    <tr>\n",
       "      <td>17202</td>\n",
       "      <td>360000.0</td>\n",
       "      <td>-101243.117714</td>\n",
       "    </tr>\n",
       "    <tr>\n",
       "      <td>17203</td>\n",
       "      <td>400000.0</td>\n",
       "      <td>-107881.226027</td>\n",
       "    </tr>\n",
       "    <tr>\n",
       "      <td>17204</td>\n",
       "      <td>402101.0</td>\n",
       "      <td>-60347.244864</td>\n",
       "    </tr>\n",
       "    <tr>\n",
       "      <td>17205</td>\n",
       "      <td>325000.0</td>\n",
       "      <td>-137363.604945</td>\n",
       "    </tr>\n",
       "  </tbody>\n",
       "</table>\n",
       "<p>13336 rows × 2 columns</p>\n",
       "</div>"
      ],
      "text/plain": [
       "          price      residuals\n",
       "0      538000.0   59693.926497\n",
       "1      180000.0  -46209.423206\n",
       "2      604000.0  129334.822206\n",
       "3      510000.0   29140.186405\n",
       "5      291850.0   50004.741703\n",
       "...         ...            ...\n",
       "17201  475000.0    9558.474127\n",
       "17202  360000.0 -101243.117714\n",
       "17203  400000.0 -107881.226027\n",
       "17204  402101.0  -60347.244864\n",
       "17205  325000.0 -137363.604945\n",
       "\n",
       "[13336 rows x 2 columns]"
      ]
     },
     "execution_count": 357,
     "metadata": {},
     "output_type": "execute_result"
    }
   ],
   "source": [
    "resid"
   ]
  },
  {
   "cell_type": "code",
   "execution_count": 358,
   "metadata": {},
   "outputs": [],
   "source": [
    "import seaborn as sns"
   ]
  },
  {
   "cell_type": "code",
   "execution_count": 359,
   "metadata": {},
   "outputs": [
    {
     "data": {
      "text/plain": [
       "<matplotlib.axes._subplots.AxesSubplot at 0x1c244566d8>"
      ]
     },
     "execution_count": 359,
     "metadata": {},
     "output_type": "execute_result"
    },
    {
     "data": {
      "image/png": "[encoded data removed]",
      "text/plain": [
       "<Figure size 720x720 with 1 Axes>"
      ]
     },
     "metadata": {},
     "output_type": "display_data"
    }
   ],
   "source": [
    "plt.figure(figsize= (10,10))\n",
    "\n",
    "sns.scatterplot(y='residuals',x='price',data=resid)"
   ]
  },
  {
   "cell_type": "code",
   "execution_count": null,
   "metadata": {},
   "outputs": [],
   "source": []
  },
  {
   "cell_type": "code",
   "execution_count": null,
   "metadata": {},
   "outputs": [],
   "source": []
  },
  {
   "cell_type": "code",
   "execution_count": null,
   "metadata": {},
   "outputs": [],
   "source": []
  }
 ],
 "metadata": {
  "kernelspec": {
   "display_name": "Python [conda env:learn-env] *",
   "language": "python",
   "name": "conda-env-learn-env-py"
  },
  "language_info": {
   "codemirror_mode": {
    "name": "ipython",
    "version": 3
   },
   "file_extension": ".py",
   "mimetype": "text/x-python",
   "name": "python",
   "nbconvert_exporter": "python",
   "pygments_lexer": "ipython3",
   "version": "3.6.9"
  }
 },
 "nbformat": 4,
 "nbformat_minor": 2
}
