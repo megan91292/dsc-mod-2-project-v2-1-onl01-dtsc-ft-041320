{
 "cells": [
  {
   "cell_type": "code",
   "execution_count": 6,
   "metadata": {},
   "outputs": [],
   "source": [
    "import pandas as pd\n",
    "import numpy as np\n",
    "import matplotlib.pyplot as plt\n",
    "import seaborn as sns\n",
    "import matplotlib as mpl\n",
    "import scipy.stats as scs\n",
    "import statsmodels.api as sm\n",
    "from statsmodels.formula.api import ols"
   ]
  },
  {
   "cell_type": "code",
   "execution_count": 7,
   "metadata": {},
   "outputs": [],
   "source": [
    "df = pd.read_csv('data_correlation_gone_norm.csv',index_col = 0)"
   ]
  },
  {
   "cell_type": "code",
   "execution_count": 8,
   "metadata": {},
   "outputs": [
    {
     "data": {
      "text/plain": [
       "Index(['date', 'price', 'bedrooms', 'bathrooms', 'sqft_living', 'sqft_lot',\n",
       "       'floors', 'waterfront', 'view', 'condition', 'grade', 'zipcode',\n",
       "       'Age_of_House', 'Years_last_renovation', 'basement', 'biggerliving',\n",
       "       'biggerlot', 'distance_from_a_city', 'distance_from_airport'],\n",
       "      dtype='object')"
      ]
     },
     "execution_count": 8,
     "metadata": {},
     "output_type": "execute_result"
    }
   ],
   "source": [
    "df.columns"
   ]
  },
  {
   "cell_type": "code",
   "execution_count": 9,
   "metadata": {},
   "outputs": [
    {
     "data": {
      "text/html": [
       "<div>\n",
       "<style scoped>\n",
       "    .dataframe tbody tr th:only-of-type {\n",
       "        vertical-align: middle;\n",
       "    }\n",
       "\n",
       "    .dataframe tbody tr th {\n",
       "        vertical-align: top;\n",
       "    }\n",
       "\n",
       "    .dataframe thead th {\n",
       "        text-align: right;\n",
       "    }\n",
       "</style>\n",
       "<table border=\"1\" class=\"dataframe\">\n",
       "  <thead>\n",
       "    <tr style=\"text-align: right;\">\n",
       "      <th></th>\n",
       "      <th>date</th>\n",
       "      <th>price</th>\n",
       "      <th>bedrooms</th>\n",
       "      <th>bathrooms</th>\n",
       "      <th>sqft_living</th>\n",
       "      <th>sqft_lot</th>\n",
       "      <th>floors</th>\n",
       "      <th>waterfront</th>\n",
       "      <th>view</th>\n",
       "      <th>condition</th>\n",
       "      <th>grade</th>\n",
       "      <th>zipcode</th>\n",
       "      <th>Age_of_House</th>\n",
       "      <th>Years_last_renovation</th>\n",
       "      <th>basement</th>\n",
       "      <th>biggerliving</th>\n",
       "      <th>biggerlot</th>\n",
       "      <th>distance_from_a_city</th>\n",
       "      <th>distance_from_airport</th>\n",
       "    </tr>\n",
       "  </thead>\n",
       "  <tbody>\n",
       "    <tr>\n",
       "      <td>0</td>\n",
       "      <td>2014-12-09</td>\n",
       "      <td>538000.0</td>\n",
       "      <td>-0.378652</td>\n",
       "      <td>0.300253</td>\n",
       "      <td>0.829689</td>\n",
       "      <td>-0.227077</td>\n",
       "      <td>2.0</td>\n",
       "      <td>0.0</td>\n",
       "      <td>0.0</td>\n",
       "      <td>3</td>\n",
       "      <td>7</td>\n",
       "      <td>98125</td>\n",
       "      <td>0.661504</td>\n",
       "      <td>-0.644230</td>\n",
       "      <td>1</td>\n",
       "      <td>1</td>\n",
       "      <td>0</td>\n",
       "      <td>-0.249526</td>\n",
       "      <td>1.041175</td>\n",
       "    </tr>\n",
       "    <tr>\n",
       "      <td>1</td>\n",
       "      <td>2015-02-25</td>\n",
       "      <td>180000.0</td>\n",
       "      <td>-1.549166</td>\n",
       "      <td>-1.506346</td>\n",
       "      <td>-1.595932</td>\n",
       "      <td>0.012078</td>\n",
       "      <td>1.0</td>\n",
       "      <td>0.0</td>\n",
       "      <td>0.0</td>\n",
       "      <td>3</td>\n",
       "      <td>6</td>\n",
       "      <td>98028</td>\n",
       "      <td>1.271581</td>\n",
       "      <td>1.344265</td>\n",
       "      <td>0</td>\n",
       "      <td>0</td>\n",
       "      <td>1</td>\n",
       "      <td>-0.054656</td>\n",
       "      <td>1.283006</td>\n",
       "    </tr>\n",
       "    <tr>\n",
       "      <td>2</td>\n",
       "      <td>2014-12-09</td>\n",
       "      <td>604000.0</td>\n",
       "      <td>0.791862</td>\n",
       "      <td>1.384213</td>\n",
       "      <td>0.007673</td>\n",
       "      <td>-0.421487</td>\n",
       "      <td>1.0</td>\n",
       "      <td>0.0</td>\n",
       "      <td>0.0</td>\n",
       "      <td>5</td>\n",
       "      <td>7</td>\n",
       "      <td>98136</td>\n",
       "      <td>0.187000</td>\n",
       "      <td>0.247164</td>\n",
       "      <td>1</td>\n",
       "      <td>1</td>\n",
       "      <td>0</td>\n",
       "      <td>-0.470318</td>\n",
       "      <td>-1.091792</td>\n",
       "    </tr>\n",
       "    <tr>\n",
       "      <td>3</td>\n",
       "      <td>2015-02-18</td>\n",
       "      <td>510000.0</td>\n",
       "      <td>-0.378652</td>\n",
       "      <td>-0.061067</td>\n",
       "      <td>-0.369646</td>\n",
       "      <td>-0.154411</td>\n",
       "      <td>1.0</td>\n",
       "      <td>0.0</td>\n",
       "      <td>0.0</td>\n",
       "      <td>3</td>\n",
       "      <td>8</td>\n",
       "      <td>98074</td>\n",
       "      <td>-0.558651</td>\n",
       "      <td>-0.507093</td>\n",
       "      <td>0</td>\n",
       "      <td>0</td>\n",
       "      <td>1</td>\n",
       "      <td>-0.352378</td>\n",
       "      <td>0.651681</td>\n",
       "    </tr>\n",
       "    <tr>\n",
       "      <td>4</td>\n",
       "      <td>2014-06-27</td>\n",
       "      <td>257500.0</td>\n",
       "      <td>-0.378652</td>\n",
       "      <td>0.300253</td>\n",
       "      <td>-0.322481</td>\n",
       "      <td>-0.263756</td>\n",
       "      <td>2.0</td>\n",
       "      <td>0.0</td>\n",
       "      <td>0.0</td>\n",
       "      <td>3</td>\n",
       "      <td>7</td>\n",
       "      <td>98003</td>\n",
       "      <td>-0.829796</td>\n",
       "      <td>-0.781368</td>\n",
       "      <td>0</td>\n",
       "      <td>0</td>\n",
       "      <td>0</td>\n",
       "      <td>2.022363</td>\n",
       "      <td>-0.661723</td>\n",
       "    </tr>\n",
       "  </tbody>\n",
       "</table>\n",
       "</div>"
      ],
      "text/plain": [
       "         date     price  bedrooms  bathrooms  sqft_living  sqft_lot  floors  \\\n",
       "0  2014-12-09  538000.0 -0.378652   0.300253     0.829689 -0.227077     2.0   \n",
       "1  2015-02-25  180000.0 -1.549166  -1.506346    -1.595932  0.012078     1.0   \n",
       "2  2014-12-09  604000.0  0.791862   1.384213     0.007673 -0.421487     1.0   \n",
       "3  2015-02-18  510000.0 -0.378652  -0.061067    -0.369646 -0.154411     1.0   \n",
       "4  2014-06-27  257500.0 -0.378652   0.300253    -0.322481 -0.263756     2.0   \n",
       "\n",
       "   waterfront  view  condition  grade  zipcode  Age_of_House  \\\n",
       "0         0.0   0.0          3      7    98125      0.661504   \n",
       "1         0.0   0.0          3      6    98028      1.271581   \n",
       "2         0.0   0.0          5      7    98136      0.187000   \n",
       "3         0.0   0.0          3      8    98074     -0.558651   \n",
       "4         0.0   0.0          3      7    98003     -0.829796   \n",
       "\n",
       "   Years_last_renovation  basement  biggerliving  biggerlot  \\\n",
       "0              -0.644230         1             1          0   \n",
       "1               1.344265         0             0          1   \n",
       "2               0.247164         1             1          0   \n",
       "3              -0.507093         0             0          1   \n",
       "4              -0.781368         0             0          0   \n",
       "\n",
       "   distance_from_a_city  distance_from_airport  \n",
       "0             -0.249526               1.041175  \n",
       "1             -0.054656               1.283006  \n",
       "2             -0.470318              -1.091792  \n",
       "3             -0.352378               0.651681  \n",
       "4              2.022363              -0.661723  "
      ]
     },
     "execution_count": 9,
     "metadata": {},
     "output_type": "execute_result"
    }
   ],
   "source": [
    "df.head()"
   ]
  },
  {
   "cell_type": "code",
   "execution_count": 10,
   "metadata": {},
   "outputs": [
    {
     "data": {
      "text/plain": [
       "<matplotlib.axes._subplots.AxesSubplot at 0x1c247740f0>"
      ]
     },
     "execution_count": 10,
     "metadata": {},
     "output_type": "execute_result"
    },
    {
     "data": {
      "image/png": "[encoded data removed]",
      "text/plain": [
       "<Figure size 432x288 with 1 Axes>"
      ]
     },
     "metadata": {
      "needs_background": "light"
     },
     "output_type": "display_data"
    }
   ],
   "source": [
    "df['price'].hist()"
   ]
  },
  {
   "cell_type": "code",
   "execution_count": 11,
   "metadata": {},
   "outputs": [
    {
     "data": {
      "text/html": [
       "<div>\n",
       "<style scoped>\n",
       "    .dataframe tbody tr th:only-of-type {\n",
       "        vertical-align: middle;\n",
       "    }\n",
       "\n",
       "    .dataframe tbody tr th {\n",
       "        vertical-align: top;\n",
       "    }\n",
       "\n",
       "    .dataframe thead th {\n",
       "        text-align: right;\n",
       "    }\n",
       "</style>\n",
       "<table border=\"1\" class=\"dataframe\">\n",
       "  <thead>\n",
       "    <tr style=\"text-align: right;\">\n",
       "      <th></th>\n",
       "      <th>date</th>\n",
       "      <th>price</th>\n",
       "      <th>bedrooms</th>\n",
       "      <th>bathrooms</th>\n",
       "      <th>sqft_living</th>\n",
       "      <th>sqft_lot</th>\n",
       "      <th>floors</th>\n",
       "      <th>waterfront</th>\n",
       "      <th>view</th>\n",
       "      <th>condition</th>\n",
       "      <th>grade</th>\n",
       "      <th>zipcode</th>\n",
       "      <th>Age_of_House</th>\n",
       "      <th>Years_last_renovation</th>\n",
       "      <th>basement</th>\n",
       "      <th>biggerliving</th>\n",
       "      <th>biggerlot</th>\n",
       "      <th>distance_from_a_city</th>\n",
       "      <th>distance_from_airport</th>\n",
       "    </tr>\n",
       "  </thead>\n",
       "  <tbody>\n",
       "    <tr>\n",
       "      <td>0</td>\n",
       "      <td>2014-12-09</td>\n",
       "      <td>538000.0</td>\n",
       "      <td>-0.378652</td>\n",
       "      <td>0.300253</td>\n",
       "      <td>0.829689</td>\n",
       "      <td>-0.227077</td>\n",
       "      <td>2.0</td>\n",
       "      <td>0.0</td>\n",
       "      <td>0.0</td>\n",
       "      <td>3</td>\n",
       "      <td>7</td>\n",
       "      <td>98125</td>\n",
       "      <td>0.661504</td>\n",
       "      <td>-0.644230</td>\n",
       "      <td>1</td>\n",
       "      <td>1</td>\n",
       "      <td>0</td>\n",
       "      <td>-0.249526</td>\n",
       "      <td>1.041175</td>\n",
       "    </tr>\n",
       "    <tr>\n",
       "      <td>1</td>\n",
       "      <td>2015-02-25</td>\n",
       "      <td>180000.0</td>\n",
       "      <td>-1.549166</td>\n",
       "      <td>-1.506346</td>\n",
       "      <td>-1.595932</td>\n",
       "      <td>0.012078</td>\n",
       "      <td>1.0</td>\n",
       "      <td>0.0</td>\n",
       "      <td>0.0</td>\n",
       "      <td>3</td>\n",
       "      <td>6</td>\n",
       "      <td>98028</td>\n",
       "      <td>1.271581</td>\n",
       "      <td>1.344265</td>\n",
       "      <td>0</td>\n",
       "      <td>0</td>\n",
       "      <td>1</td>\n",
       "      <td>-0.054656</td>\n",
       "      <td>1.283006</td>\n",
       "    </tr>\n",
       "    <tr>\n",
       "      <td>2</td>\n",
       "      <td>2014-12-09</td>\n",
       "      <td>604000.0</td>\n",
       "      <td>0.791862</td>\n",
       "      <td>1.384213</td>\n",
       "      <td>0.007673</td>\n",
       "      <td>-0.421487</td>\n",
       "      <td>1.0</td>\n",
       "      <td>0.0</td>\n",
       "      <td>0.0</td>\n",
       "      <td>5</td>\n",
       "      <td>7</td>\n",
       "      <td>98136</td>\n",
       "      <td>0.187000</td>\n",
       "      <td>0.247164</td>\n",
       "      <td>1</td>\n",
       "      <td>1</td>\n",
       "      <td>0</td>\n",
       "      <td>-0.470318</td>\n",
       "      <td>-1.091792</td>\n",
       "    </tr>\n",
       "    <tr>\n",
       "      <td>3</td>\n",
       "      <td>2015-02-18</td>\n",
       "      <td>510000.0</td>\n",
       "      <td>-0.378652</td>\n",
       "      <td>-0.061067</td>\n",
       "      <td>-0.369646</td>\n",
       "      <td>-0.154411</td>\n",
       "      <td>1.0</td>\n",
       "      <td>0.0</td>\n",
       "      <td>0.0</td>\n",
       "      <td>3</td>\n",
       "      <td>8</td>\n",
       "      <td>98074</td>\n",
       "      <td>-0.558651</td>\n",
       "      <td>-0.507093</td>\n",
       "      <td>0</td>\n",
       "      <td>0</td>\n",
       "      <td>1</td>\n",
       "      <td>-0.352378</td>\n",
       "      <td>0.651681</td>\n",
       "    </tr>\n",
       "    <tr>\n",
       "      <td>4</td>\n",
       "      <td>2014-06-27</td>\n",
       "      <td>257500.0</td>\n",
       "      <td>-0.378652</td>\n",
       "      <td>0.300253</td>\n",
       "      <td>-0.322481</td>\n",
       "      <td>-0.263756</td>\n",
       "      <td>2.0</td>\n",
       "      <td>0.0</td>\n",
       "      <td>0.0</td>\n",
       "      <td>3</td>\n",
       "      <td>7</td>\n",
       "      <td>98003</td>\n",
       "      <td>-0.829796</td>\n",
       "      <td>-0.781368</td>\n",
       "      <td>0</td>\n",
       "      <td>0</td>\n",
       "      <td>0</td>\n",
       "      <td>2.022363</td>\n",
       "      <td>-0.661723</td>\n",
       "    </tr>\n",
       "  </tbody>\n",
       "</table>\n",
       "</div>"
      ],
      "text/plain": [
       "         date     price  bedrooms  bathrooms  sqft_living  sqft_lot  floors  \\\n",
       "0  2014-12-09  538000.0 -0.378652   0.300253     0.829689 -0.227077     2.0   \n",
       "1  2015-02-25  180000.0 -1.549166  -1.506346    -1.595932  0.012078     1.0   \n",
       "2  2014-12-09  604000.0  0.791862   1.384213     0.007673 -0.421487     1.0   \n",
       "3  2015-02-18  510000.0 -0.378652  -0.061067    -0.369646 -0.154411     1.0   \n",
       "4  2014-06-27  257500.0 -0.378652   0.300253    -0.322481 -0.263756     2.0   \n",
       "\n",
       "   waterfront  view  condition  grade  zipcode  Age_of_House  \\\n",
       "0         0.0   0.0          3      7    98125      0.661504   \n",
       "1         0.0   0.0          3      6    98028      1.271581   \n",
       "2         0.0   0.0          5      7    98136      0.187000   \n",
       "3         0.0   0.0          3      8    98074     -0.558651   \n",
       "4         0.0   0.0          3      7    98003     -0.829796   \n",
       "\n",
       "   Years_last_renovation  basement  biggerliving  biggerlot  \\\n",
       "0              -0.644230         1             1          0   \n",
       "1               1.344265         0             0          1   \n",
       "2               0.247164         1             1          0   \n",
       "3              -0.507093         0             0          1   \n",
       "4              -0.781368         0             0          0   \n",
       "\n",
       "   distance_from_a_city  distance_from_airport  \n",
       "0             -0.249526               1.041175  \n",
       "1             -0.054656               1.283006  \n",
       "2             -0.470318              -1.091792  \n",
       "3             -0.352378               0.651681  \n",
       "4              2.022363              -0.661723  "
      ]
     },
     "execution_count": 11,
     "metadata": {},
     "output_type": "execute_result"
    }
   ],
   "source": [
    "df.head()"
   ]
  },
  {
   "cell_type": "code",
   "execution_count": 12,
   "metadata": {},
   "outputs": [
    {
     "data": {
      "text/plain": [
       "<matplotlib.axes._subplots.AxesSubplot at 0x1c24cc1eb8>"
      ]
     },
     "execution_count": 12,
     "metadata": {},
     "output_type": "execute_result"
    },
    {
     "data": {
      "image/png": "[encoded data removed]",
      "text/plain": [
       "<Figure size 432x288 with 1 Axes>"
      ]
     },
     "metadata": {
      "needs_background": "light"
     },
     "output_type": "display_data"
    }
   ],
   "source": [
    "df['condition'].hist()"
   ]
  },
  {
   "cell_type": "code",
   "execution_count": 13,
   "metadata": {},
   "outputs": [
    {
     "data": {
      "text/plain": [
       "<matplotlib.axes._subplots.AxesSubplot at 0x1c24e1b2b0>"
      ]
     },
     "execution_count": 13,
     "metadata": {},
     "output_type": "execute_result"
    },
    {
     "data": {
      "image/png": "[encoded data removed]",
      "text/plain": [
       "<Figure size 432x288 with 1 Axes>"
      ]
     },
     "metadata": {
      "needs_background": "light"
     },
     "output_type": "display_data"
    }
   ],
   "source": [
    "df['grade'].hist()"
   ]
  },
  {
   "cell_type": "code",
   "execution_count": 14,
   "metadata": {},
   "outputs": [
    {
     "data": {
      "text/plain": [
       "7     7561\n",
       "8     4994\n",
       "9     1936\n",
       "6     1711\n",
       "10     677\n",
       "5      185\n",
       "11     117\n",
       "4       25\n",
       "Name: grade, dtype: int64"
      ]
     },
     "execution_count": 14,
     "metadata": {},
     "output_type": "execute_result"
    }
   ],
   "source": [
    "df['grade'].value_counts()"
   ]
  },
  {
   "cell_type": "code",
   "execution_count": 15,
   "metadata": {},
   "outputs": [
    {
     "data": {
      "text/plain": [
       "0.0    17206\n",
       "Name: waterfront, dtype: int64"
      ]
     },
     "execution_count": 15,
     "metadata": {},
     "output_type": "execute_result"
    }
   ],
   "source": [
    "df['waterfront'].value_counts()"
   ]
  },
  {
   "cell_type": "code",
   "execution_count": 16,
   "metadata": {},
   "outputs": [
    {
     "data": {
      "text/plain": [
       "<matplotlib.axes._subplots.AxesSubplot at 0x1c24f3cc88>"
      ]
     },
     "execution_count": 16,
     "metadata": {},
     "output_type": "execute_result"
    },
    {
     "data": {
      "image/png": "[encoded data removed]",
      "text/plain": [
       "<Figure size 432x288 with 1 Axes>"
      ]
     },
     "metadata": {
      "needs_background": "light"
     },
     "output_type": "display_data"
    }
   ],
   "source": [
    "df['bedrooms'].hist()"
   ]
  },
  {
   "cell_type": "code",
   "execution_count": 17,
   "metadata": {},
   "outputs": [
    {
     "data": {
      "text/plain": [
       "Index(['date', 'price', 'bedrooms', 'bathrooms', 'sqft_living', 'sqft_lot',\n",
       "       'floors', 'waterfront', 'view', 'condition', 'grade', 'zipcode',\n",
       "       'Age_of_House', 'Years_last_renovation', 'basement', 'biggerliving',\n",
       "       'biggerlot', 'distance_from_a_city', 'distance_from_airport'],\n",
       "      dtype='object')"
      ]
     },
     "execution_count": 17,
     "metadata": {},
     "output_type": "execute_result"
    }
   ],
   "source": [
    "df.columns"
   ]
  },
  {
   "cell_type": "code",
   "execution_count": 18,
   "metadata": {},
   "outputs": [],
   "source": [
    "# tomodel = ['grade','distance_from_a_city','basement','biggerliving','biggerlot','Years_last_renovation','view']"
   ]
  },
  {
   "cell_type": "code",
   "execution_count": 19,
   "metadata": {},
   "outputs": [
    {
     "data": {
      "text/html": [
       "<div>\n",
       "<style scoped>\n",
       "    .dataframe tbody tr th:only-of-type {\n",
       "        vertical-align: middle;\n",
       "    }\n",
       "\n",
       "    .dataframe tbody tr th {\n",
       "        vertical-align: top;\n",
       "    }\n",
       "\n",
       "    .dataframe thead th {\n",
       "        text-align: right;\n",
       "    }\n",
       "</style>\n",
       "<table border=\"1\" class=\"dataframe\">\n",
       "  <thead>\n",
       "    <tr style=\"text-align: right;\">\n",
       "      <th></th>\n",
       "      <th>date</th>\n",
       "      <th>price</th>\n",
       "      <th>bedrooms</th>\n",
       "      <th>bathrooms</th>\n",
       "      <th>sqft_living</th>\n",
       "      <th>sqft_lot</th>\n",
       "      <th>floors</th>\n",
       "      <th>waterfront</th>\n",
       "      <th>view</th>\n",
       "      <th>condition</th>\n",
       "      <th>grade</th>\n",
       "      <th>zipcode</th>\n",
       "      <th>Age_of_House</th>\n",
       "      <th>Years_last_renovation</th>\n",
       "      <th>basement</th>\n",
       "      <th>biggerliving</th>\n",
       "      <th>biggerlot</th>\n",
       "      <th>distance_from_a_city</th>\n",
       "      <th>distance_from_airport</th>\n",
       "    </tr>\n",
       "  </thead>\n",
       "  <tbody>\n",
       "    <tr>\n",
       "      <td>0</td>\n",
       "      <td>2014-12-09</td>\n",
       "      <td>538000.0</td>\n",
       "      <td>-0.378652</td>\n",
       "      <td>0.300253</td>\n",
       "      <td>0.829689</td>\n",
       "      <td>-0.227077</td>\n",
       "      <td>2.0</td>\n",
       "      <td>0.0</td>\n",
       "      <td>0.0</td>\n",
       "      <td>3</td>\n",
       "      <td>7</td>\n",
       "      <td>98125</td>\n",
       "      <td>0.661504</td>\n",
       "      <td>-0.644230</td>\n",
       "      <td>1</td>\n",
       "      <td>1</td>\n",
       "      <td>0</td>\n",
       "      <td>-0.249526</td>\n",
       "      <td>1.041175</td>\n",
       "    </tr>\n",
       "    <tr>\n",
       "      <td>1</td>\n",
       "      <td>2015-02-25</td>\n",
       "      <td>180000.0</td>\n",
       "      <td>-1.549166</td>\n",
       "      <td>-1.506346</td>\n",
       "      <td>-1.595932</td>\n",
       "      <td>0.012078</td>\n",
       "      <td>1.0</td>\n",
       "      <td>0.0</td>\n",
       "      <td>0.0</td>\n",
       "      <td>3</td>\n",
       "      <td>6</td>\n",
       "      <td>98028</td>\n",
       "      <td>1.271581</td>\n",
       "      <td>1.344265</td>\n",
       "      <td>0</td>\n",
       "      <td>0</td>\n",
       "      <td>1</td>\n",
       "      <td>-0.054656</td>\n",
       "      <td>1.283006</td>\n",
       "    </tr>\n",
       "    <tr>\n",
       "      <td>2</td>\n",
       "      <td>2014-12-09</td>\n",
       "      <td>604000.0</td>\n",
       "      <td>0.791862</td>\n",
       "      <td>1.384213</td>\n",
       "      <td>0.007673</td>\n",
       "      <td>-0.421487</td>\n",
       "      <td>1.0</td>\n",
       "      <td>0.0</td>\n",
       "      <td>0.0</td>\n",
       "      <td>5</td>\n",
       "      <td>7</td>\n",
       "      <td>98136</td>\n",
       "      <td>0.187000</td>\n",
       "      <td>0.247164</td>\n",
       "      <td>1</td>\n",
       "      <td>1</td>\n",
       "      <td>0</td>\n",
       "      <td>-0.470318</td>\n",
       "      <td>-1.091792</td>\n",
       "    </tr>\n",
       "    <tr>\n",
       "      <td>3</td>\n",
       "      <td>2015-02-18</td>\n",
       "      <td>510000.0</td>\n",
       "      <td>-0.378652</td>\n",
       "      <td>-0.061067</td>\n",
       "      <td>-0.369646</td>\n",
       "      <td>-0.154411</td>\n",
       "      <td>1.0</td>\n",
       "      <td>0.0</td>\n",
       "      <td>0.0</td>\n",
       "      <td>3</td>\n",
       "      <td>8</td>\n",
       "      <td>98074</td>\n",
       "      <td>-0.558651</td>\n",
       "      <td>-0.507093</td>\n",
       "      <td>0</td>\n",
       "      <td>0</td>\n",
       "      <td>1</td>\n",
       "      <td>-0.352378</td>\n",
       "      <td>0.651681</td>\n",
       "    </tr>\n",
       "    <tr>\n",
       "      <td>4</td>\n",
       "      <td>2014-06-27</td>\n",
       "      <td>257500.0</td>\n",
       "      <td>-0.378652</td>\n",
       "      <td>0.300253</td>\n",
       "      <td>-0.322481</td>\n",
       "      <td>-0.263756</td>\n",
       "      <td>2.0</td>\n",
       "      <td>0.0</td>\n",
       "      <td>0.0</td>\n",
       "      <td>3</td>\n",
       "      <td>7</td>\n",
       "      <td>98003</td>\n",
       "      <td>-0.829796</td>\n",
       "      <td>-0.781368</td>\n",
       "      <td>0</td>\n",
       "      <td>0</td>\n",
       "      <td>0</td>\n",
       "      <td>2.022363</td>\n",
       "      <td>-0.661723</td>\n",
       "    </tr>\n",
       "  </tbody>\n",
       "</table>\n",
       "</div>"
      ],
      "text/plain": [
       "         date     price  bedrooms  bathrooms  sqft_living  sqft_lot  floors  \\\n",
       "0  2014-12-09  538000.0 -0.378652   0.300253     0.829689 -0.227077     2.0   \n",
       "1  2015-02-25  180000.0 -1.549166  -1.506346    -1.595932  0.012078     1.0   \n",
       "2  2014-12-09  604000.0  0.791862   1.384213     0.007673 -0.421487     1.0   \n",
       "3  2015-02-18  510000.0 -0.378652  -0.061067    -0.369646 -0.154411     1.0   \n",
       "4  2014-06-27  257500.0 -0.378652   0.300253    -0.322481 -0.263756     2.0   \n",
       "\n",
       "   waterfront  view  condition  grade  zipcode  Age_of_House  \\\n",
       "0         0.0   0.0          3      7    98125      0.661504   \n",
       "1         0.0   0.0          3      6    98028      1.271581   \n",
       "2         0.0   0.0          5      7    98136      0.187000   \n",
       "3         0.0   0.0          3      8    98074     -0.558651   \n",
       "4         0.0   0.0          3      7    98003     -0.829796   \n",
       "\n",
       "   Years_last_renovation  basement  biggerliving  biggerlot  \\\n",
       "0              -0.644230         1             1          0   \n",
       "1               1.344265         0             0          1   \n",
       "2               0.247164         1             1          0   \n",
       "3              -0.507093         0             0          1   \n",
       "4              -0.781368         0             0          0   \n",
       "\n",
       "   distance_from_a_city  distance_from_airport  \n",
       "0             -0.249526               1.041175  \n",
       "1             -0.054656               1.283006  \n",
       "2             -0.470318              -1.091792  \n",
       "3             -0.352378               0.651681  \n",
       "4              2.022363              -0.661723  "
      ]
     },
     "execution_count": 19,
     "metadata": {},
     "output_type": "execute_result"
    }
   ],
   "source": [
    "df.head()"
   ]
  },
  {
   "cell_type": "code",
   "execution_count": 20,
   "metadata": {},
   "outputs": [
    {
     "data": {
      "text/html": [
       "<div>\n",
       "<style scoped>\n",
       "    .dataframe tbody tr th:only-of-type {\n",
       "        vertical-align: middle;\n",
       "    }\n",
       "\n",
       "    .dataframe tbody tr th {\n",
       "        vertical-align: top;\n",
       "    }\n",
       "\n",
       "    .dataframe thead th {\n",
       "        text-align: right;\n",
       "    }\n",
       "</style>\n",
       "<table border=\"1\" class=\"dataframe\">\n",
       "  <thead>\n",
       "    <tr style=\"text-align: right;\">\n",
       "      <th></th>\n",
       "      <th>date</th>\n",
       "      <th>price</th>\n",
       "      <th>bedrooms</th>\n",
       "      <th>bathrooms</th>\n",
       "      <th>sqft_living</th>\n",
       "      <th>sqft_lot</th>\n",
       "      <th>floors</th>\n",
       "      <th>waterfront</th>\n",
       "      <th>view</th>\n",
       "      <th>condition</th>\n",
       "      <th>grade</th>\n",
       "      <th>zipcode</th>\n",
       "      <th>Age_of_House</th>\n",
       "      <th>Years_last_renovation</th>\n",
       "      <th>basement</th>\n",
       "      <th>biggerliving</th>\n",
       "      <th>biggerlot</th>\n",
       "      <th>distance_from_a_city</th>\n",
       "      <th>distance_from_airport</th>\n",
       "    </tr>\n",
       "  </thead>\n",
       "  <tbody>\n",
       "    <tr>\n",
       "      <td>0</td>\n",
       "      <td>2014-12-09</td>\n",
       "      <td>538000.0</td>\n",
       "      <td>-0.378652</td>\n",
       "      <td>0.300253</td>\n",
       "      <td>0.829689</td>\n",
       "      <td>-0.227077</td>\n",
       "      <td>2.0</td>\n",
       "      <td>0.0</td>\n",
       "      <td>0.0</td>\n",
       "      <td>3</td>\n",
       "      <td>7</td>\n",
       "      <td>98125</td>\n",
       "      <td>0.661504</td>\n",
       "      <td>-0.644230</td>\n",
       "      <td>1</td>\n",
       "      <td>1</td>\n",
       "      <td>0</td>\n",
       "      <td>-0.249526</td>\n",
       "      <td>1.041175</td>\n",
       "    </tr>\n",
       "    <tr>\n",
       "      <td>1</td>\n",
       "      <td>2015-02-25</td>\n",
       "      <td>180000.0</td>\n",
       "      <td>-1.549166</td>\n",
       "      <td>-1.506346</td>\n",
       "      <td>-1.595932</td>\n",
       "      <td>0.012078</td>\n",
       "      <td>1.0</td>\n",
       "      <td>0.0</td>\n",
       "      <td>0.0</td>\n",
       "      <td>3</td>\n",
       "      <td>6</td>\n",
       "      <td>98028</td>\n",
       "      <td>1.271581</td>\n",
       "      <td>1.344265</td>\n",
       "      <td>0</td>\n",
       "      <td>0</td>\n",
       "      <td>1</td>\n",
       "      <td>-0.054656</td>\n",
       "      <td>1.283006</td>\n",
       "    </tr>\n",
       "    <tr>\n",
       "      <td>2</td>\n",
       "      <td>2014-12-09</td>\n",
       "      <td>604000.0</td>\n",
       "      <td>0.791862</td>\n",
       "      <td>1.384213</td>\n",
       "      <td>0.007673</td>\n",
       "      <td>-0.421487</td>\n",
       "      <td>1.0</td>\n",
       "      <td>0.0</td>\n",
       "      <td>0.0</td>\n",
       "      <td>5</td>\n",
       "      <td>7</td>\n",
       "      <td>98136</td>\n",
       "      <td>0.187000</td>\n",
       "      <td>0.247164</td>\n",
       "      <td>1</td>\n",
       "      <td>1</td>\n",
       "      <td>0</td>\n",
       "      <td>-0.470318</td>\n",
       "      <td>-1.091792</td>\n",
       "    </tr>\n",
       "    <tr>\n",
       "      <td>3</td>\n",
       "      <td>2015-02-18</td>\n",
       "      <td>510000.0</td>\n",
       "      <td>-0.378652</td>\n",
       "      <td>-0.061067</td>\n",
       "      <td>-0.369646</td>\n",
       "      <td>-0.154411</td>\n",
       "      <td>1.0</td>\n",
       "      <td>0.0</td>\n",
       "      <td>0.0</td>\n",
       "      <td>3</td>\n",
       "      <td>8</td>\n",
       "      <td>98074</td>\n",
       "      <td>-0.558651</td>\n",
       "      <td>-0.507093</td>\n",
       "      <td>0</td>\n",
       "      <td>0</td>\n",
       "      <td>1</td>\n",
       "      <td>-0.352378</td>\n",
       "      <td>0.651681</td>\n",
       "    </tr>\n",
       "    <tr>\n",
       "      <td>4</td>\n",
       "      <td>2014-06-27</td>\n",
       "      <td>257500.0</td>\n",
       "      <td>-0.378652</td>\n",
       "      <td>0.300253</td>\n",
       "      <td>-0.322481</td>\n",
       "      <td>-0.263756</td>\n",
       "      <td>2.0</td>\n",
       "      <td>0.0</td>\n",
       "      <td>0.0</td>\n",
       "      <td>3</td>\n",
       "      <td>7</td>\n",
       "      <td>98003</td>\n",
       "      <td>-0.829796</td>\n",
       "      <td>-0.781368</td>\n",
       "      <td>0</td>\n",
       "      <td>0</td>\n",
       "      <td>0</td>\n",
       "      <td>2.022363</td>\n",
       "      <td>-0.661723</td>\n",
       "    </tr>\n",
       "  </tbody>\n",
       "</table>\n",
       "</div>"
      ],
      "text/plain": [
       "         date     price  bedrooms  bathrooms  sqft_living  sqft_lot  floors  \\\n",
       "0  2014-12-09  538000.0 -0.378652   0.300253     0.829689 -0.227077     2.0   \n",
       "1  2015-02-25  180000.0 -1.549166  -1.506346    -1.595932  0.012078     1.0   \n",
       "2  2014-12-09  604000.0  0.791862   1.384213     0.007673 -0.421487     1.0   \n",
       "3  2015-02-18  510000.0 -0.378652  -0.061067    -0.369646 -0.154411     1.0   \n",
       "4  2014-06-27  257500.0 -0.378652   0.300253    -0.322481 -0.263756     2.0   \n",
       "\n",
       "   waterfront  view  condition  grade  zipcode  Age_of_House  \\\n",
       "0         0.0   0.0          3      7    98125      0.661504   \n",
       "1         0.0   0.0          3      6    98028      1.271581   \n",
       "2         0.0   0.0          5      7    98136      0.187000   \n",
       "3         0.0   0.0          3      8    98074     -0.558651   \n",
       "4         0.0   0.0          3      7    98003     -0.829796   \n",
       "\n",
       "   Years_last_renovation  basement  biggerliving  biggerlot  \\\n",
       "0              -0.644230         1             1          0   \n",
       "1               1.344265         0             0          1   \n",
       "2               0.247164         1             1          0   \n",
       "3              -0.507093         0             0          1   \n",
       "4              -0.781368         0             0          0   \n",
       "\n",
       "   distance_from_a_city  distance_from_airport  \n",
       "0             -0.249526               1.041175  \n",
       "1             -0.054656               1.283006  \n",
       "2             -0.470318              -1.091792  \n",
       "3             -0.352378               0.651681  \n",
       "4              2.022363              -0.661723  "
      ]
     },
     "execution_count": 20,
     "metadata": {},
     "output_type": "execute_result"
    }
   ],
   "source": [
    "df.head()"
   ]
  },
  {
   "cell_type": "code",
   "execution_count": 21,
   "metadata": {},
   "outputs": [
    {
     "data": {
      "text/plain": [
       "-0.378652    8020\n",
       " 0.791862    5416\n",
       "-1.549166    2306\n",
       " 1.962377    1151\n",
       "-2.719680     157\n",
       " 3.132891     156\n",
       "Name: bedrooms, dtype: int64"
      ]
     },
     "execution_count": 21,
     "metadata": {},
     "output_type": "execute_result"
    }
   ],
   "source": [
    "df['bedrooms'].value_counts()"
   ]
  },
  {
   "cell_type": "code",
   "execution_count": 22,
   "metadata": {},
   "outputs": [],
   "source": [
    "# df = df.round({'bathrooms': 0})\n"
   ]
  },
  {
   "cell_type": "code",
   "execution_count": 23,
   "metadata": {},
   "outputs": [
    {
     "data": {
      "text/plain": [
       "<matplotlib.axes._subplots.AxesSubplot at 0x1c24feca20>"
      ]
     },
     "execution_count": 23,
     "metadata": {},
     "output_type": "execute_result"
    },
    {
     "data": {
      "image/png": "[encoded data removed]",
      "text/plain": [
       "<Figure size 432x288 with 1 Axes>"
      ]
     },
     "metadata": {
      "needs_background": "light"
     },
     "output_type": "display_data"
    }
   ],
   "source": [
    "df['sqft_living'].hist()"
   ]
  },
  {
   "cell_type": "code",
   "execution_count": 24,
   "metadata": {},
   "outputs": [
    {
     "data": {
      "text/plain": [
       "<matplotlib.axes._subplots.AxesSubplot at 0x1c254ca9e8>"
      ]
     },
     "execution_count": 24,
     "metadata": {},
     "output_type": "execute_result"
    },
    {
     "data": {
      "image/png": "[encoded data removed]",
      "text/plain": [
       "<Figure size 432x288 with 1 Axes>"
      ]
     },
     "metadata": {
      "needs_background": "light"
     },
     "output_type": "display_data"
    }
   ],
   "source": [
    "df['sqft_lot'].hist()"
   ]
  },
  {
   "cell_type": "code",
   "execution_count": 25,
   "metadata": {},
   "outputs": [],
   "source": [
    "df['bedbath'] = df['bedrooms']*df['bathrooms']"
   ]
  },
  {
   "cell_type": "code",
   "execution_count": 69,
   "metadata": {},
   "outputs": [],
   "source": [
    "tomodel = ['bedrooms','bathrooms','sqft_living','sqft_lot','distance_from_a_city',\n",
    "           'Years_last_renovation','basement','grade','bedbath']"
   ]
  },
  {
   "cell_type": "code",
   "execution_count": 70,
   "metadata": {},
   "outputs": [],
   "source": [
    "# tomodel = ['distance_from_a_city','Years_last_renovation','sqft_living']"
   ]
  },
  {
   "cell_type": "code",
   "execution_count": 71,
   "metadata": {},
   "outputs": [],
   "source": [
    "X = df[tomodel]\n",
    "y = df['price']"
   ]
  },
  {
   "cell_type": "code",
   "execution_count": 72,
   "metadata": {},
   "outputs": [
    {
     "data": {
      "text/html": [
       "<div>\n",
       "<style scoped>\n",
       "    .dataframe tbody tr th:only-of-type {\n",
       "        vertical-align: middle;\n",
       "    }\n",
       "\n",
       "    .dataframe tbody tr th {\n",
       "        vertical-align: top;\n",
       "    }\n",
       "\n",
       "    .dataframe thead th {\n",
       "        text-align: right;\n",
       "    }\n",
       "</style>\n",
       "<table border=\"1\" class=\"dataframe\">\n",
       "  <thead>\n",
       "    <tr style=\"text-align: right;\">\n",
       "      <th></th>\n",
       "      <th>bedrooms</th>\n",
       "      <th>bathrooms</th>\n",
       "      <th>sqft_living</th>\n",
       "      <th>sqft_lot</th>\n",
       "      <th>distance_from_a_city</th>\n",
       "      <th>Years_last_renovation</th>\n",
       "      <th>basement</th>\n",
       "      <th>grade</th>\n",
       "      <th>bedbath</th>\n",
       "    </tr>\n",
       "  </thead>\n",
       "  <tbody>\n",
       "    <tr>\n",
       "      <td>bedrooms</td>\n",
       "      <td>1.000000</td>\n",
       "      <td>0.498379</td>\n",
       "      <td>0.613395</td>\n",
       "      <td>0.105611</td>\n",
       "      <td>0.060438</td>\n",
       "      <td>-0.179649</td>\n",
       "      <td>0.136273</td>\n",
       "      <td>0.345567</td>\n",
       "      <td>-0.035377</td>\n",
       "    </tr>\n",
       "    <tr>\n",
       "      <td>bathrooms</td>\n",
       "      <td>0.498379</td>\n",
       "      <td>1.000000</td>\n",
       "      <td>0.712744</td>\n",
       "      <td>0.057083</td>\n",
       "      <td>0.050117</td>\n",
       "      <td>-0.569961</td>\n",
       "      <td>0.131824</td>\n",
       "      <td>0.618668</td>\n",
       "      <td>-0.028101</td>\n",
       "    </tr>\n",
       "    <tr>\n",
       "      <td>sqft_living</td>\n",
       "      <td>0.613395</td>\n",
       "      <td>0.712744</td>\n",
       "      <td>1.000000</td>\n",
       "      <td>0.224760</td>\n",
       "      <td>0.030026</td>\n",
       "      <td>-0.363715</td>\n",
       "      <td>0.164882</td>\n",
       "      <td>0.709547</td>\n",
       "      <td>0.026305</td>\n",
       "    </tr>\n",
       "    <tr>\n",
       "      <td>sqft_lot</td>\n",
       "      <td>0.105611</td>\n",
       "      <td>0.057083</td>\n",
       "      <td>0.224760</td>\n",
       "      <td>1.000000</td>\n",
       "      <td>0.194143</td>\n",
       "      <td>-0.021239</td>\n",
       "      <td>-0.027258</td>\n",
       "      <td>0.135447</td>\n",
       "      <td>-0.001899</td>\n",
       "    </tr>\n",
       "    <tr>\n",
       "      <td>distance_from_a_city</td>\n",
       "      <td>0.060438</td>\n",
       "      <td>0.050117</td>\n",
       "      <td>0.030026</td>\n",
       "      <td>0.194143</td>\n",
       "      <td>1.000000</td>\n",
       "      <td>-0.281116</td>\n",
       "      <td>-0.214278</td>\n",
       "      <td>-0.067751</td>\n",
       "      <td>-0.074683</td>\n",
       "    </tr>\n",
       "    <tr>\n",
       "      <td>Years_last_renovation</td>\n",
       "      <td>-0.179649</td>\n",
       "      <td>-0.569961</td>\n",
       "      <td>-0.363715</td>\n",
       "      <td>-0.021239</td>\n",
       "      <td>-0.281116</td>\n",
       "      <td>1.000000</td>\n",
       "      <td>0.147005</td>\n",
       "      <td>-0.485990</td>\n",
       "      <td>0.109985</td>\n",
       "    </tr>\n",
       "    <tr>\n",
       "      <td>basement</td>\n",
       "      <td>0.136273</td>\n",
       "      <td>0.131824</td>\n",
       "      <td>0.164882</td>\n",
       "      <td>-0.027258</td>\n",
       "      <td>-0.214278</td>\n",
       "      <td>0.147005</td>\n",
       "      <td>1.000000</td>\n",
       "      <td>0.002407</td>\n",
       "      <td>-0.045691</td>\n",
       "    </tr>\n",
       "    <tr>\n",
       "      <td>grade</td>\n",
       "      <td>0.345567</td>\n",
       "      <td>0.618668</td>\n",
       "      <td>0.709547</td>\n",
       "      <td>0.135447</td>\n",
       "      <td>-0.067751</td>\n",
       "      <td>-0.485990</td>\n",
       "      <td>0.002407</td>\n",
       "      <td>1.000000</td>\n",
       "      <td>-0.062949</td>\n",
       "    </tr>\n",
       "    <tr>\n",
       "      <td>bedbath</td>\n",
       "      <td>-0.035377</td>\n",
       "      <td>-0.028101</td>\n",
       "      <td>0.026305</td>\n",
       "      <td>-0.001899</td>\n",
       "      <td>-0.074683</td>\n",
       "      <td>0.109985</td>\n",
       "      <td>-0.045691</td>\n",
       "      <td>-0.062949</td>\n",
       "      <td>1.000000</td>\n",
       "    </tr>\n",
       "  </tbody>\n",
       "</table>\n",
       "</div>"
      ],
      "text/plain": [
       "                       bedrooms  bathrooms  sqft_living  sqft_lot  \\\n",
       "bedrooms               1.000000   0.498379     0.613395  0.105611   \n",
       "bathrooms              0.498379   1.000000     0.712744  0.057083   \n",
       "sqft_living            0.613395   0.712744     1.000000  0.224760   \n",
       "sqft_lot               0.105611   0.057083     0.224760  1.000000   \n",
       "distance_from_a_city   0.060438   0.050117     0.030026  0.194143   \n",
       "Years_last_renovation -0.179649  -0.569961    -0.363715 -0.021239   \n",
       "basement               0.136273   0.131824     0.164882 -0.027258   \n",
       "grade                  0.345567   0.618668     0.709547  0.135447   \n",
       "bedbath               -0.035377  -0.028101     0.026305 -0.001899   \n",
       "\n",
       "                       distance_from_a_city  Years_last_renovation  basement  \\\n",
       "bedrooms                           0.060438              -0.179649  0.136273   \n",
       "bathrooms                          0.050117              -0.569961  0.131824   \n",
       "sqft_living                        0.030026              -0.363715  0.164882   \n",
       "sqft_lot                           0.194143              -0.021239 -0.027258   \n",
       "distance_from_a_city               1.000000              -0.281116 -0.214278   \n",
       "Years_last_renovation             -0.281116               1.000000  0.147005   \n",
       "basement                          -0.214278               0.147005  1.000000   \n",
       "grade                             -0.067751              -0.485990  0.002407   \n",
       "bedbath                           -0.074683               0.109985 -0.045691   \n",
       "\n",
       "                          grade   bedbath  \n",
       "bedrooms               0.345567 -0.035377  \n",
       "bathrooms              0.618668 -0.028101  \n",
       "sqft_living            0.709547  0.026305  \n",
       "sqft_lot               0.135447 -0.001899  \n",
       "distance_from_a_city  -0.067751 -0.074683  \n",
       "Years_last_renovation -0.485990  0.109985  \n",
       "basement               0.002407 -0.045691  \n",
       "grade                  1.000000 -0.062949  \n",
       "bedbath               -0.062949  1.000000  "
      ]
     },
     "execution_count": 72,
     "metadata": {},
     "output_type": "execute_result"
    }
   ],
   "source": [
    "X.corr()"
   ]
  },
  {
   "cell_type": "code",
   "execution_count": 73,
   "metadata": {},
   "outputs": [
    {
     "data": {
      "text/html": [
       "<table class=\"simpletable\">\n",
       "<caption>OLS Regression Results</caption>\n",
       "<tr>\n",
       "  <th>Dep. Variable:</th>          <td>price</td>      <th>  R-squared (uncentered):</th>       <td>   0.943</td>  \n",
       "</tr>\n",
       "<tr>\n",
       "  <th>Model:</th>                   <td>OLS</td>       <th>  Adj. R-squared (uncentered):</th>  <td>   0.943</td>  \n",
       "</tr>\n",
       "<tr>\n",
       "  <th>Method:</th>             <td>Least Squares</td>  <th>  F-statistic:       </th>           <td>3.146e+04</td> \n",
       "</tr>\n",
       "<tr>\n",
       "  <th>Date:</th>             <td>Thu, 04 Jun 2020</td> <th>  Prob (F-statistic):</th>            <td>  0.00</td>   \n",
       "</tr>\n",
       "<tr>\n",
       "  <th>Time:</th>                 <td>10:51:42</td>     <th>  Log-Likelihood:    </th>          <td>-2.2698e+05</td>\n",
       "</tr>\n",
       "<tr>\n",
       "  <th>No. Observations:</th>      <td> 17206</td>      <th>  AIC:               </th>           <td>4.540e+05</td> \n",
       "</tr>\n",
       "<tr>\n",
       "  <th>Df Residuals:</th>          <td> 17197</td>      <th>  BIC:               </th>           <td>4.540e+05</td> \n",
       "</tr>\n",
       "<tr>\n",
       "  <th>Df Model:</th>              <td>     9</td>      <th>                     </th>               <td> </td>     \n",
       "</tr>\n",
       "<tr>\n",
       "  <th>Covariance Type:</th>      <td>nonrobust</td>    <th>                     </th>               <td> </td>     \n",
       "</tr>\n",
       "</table>\n",
       "<table class=\"simpletable\">\n",
       "<tr>\n",
       "            <td></td>               <th>coef</th>     <th>std err</th>      <th>t</th>      <th>P>|t|</th>  <th>[0.025</th>    <th>0.975]</th>  \n",
       "</tr>\n",
       "<tr>\n",
       "  <th>bedrooms</th>              <td>-1.451e+04</td> <td> 1280.333</td> <td>  -11.335</td> <td> 0.000</td> <td> -1.7e+04</td> <td> -1.2e+04</td>\n",
       "</tr>\n",
       "<tr>\n",
       "  <th>bathrooms</th>             <td> 1.979e+04</td> <td> 1656.769</td> <td>   11.948</td> <td> 0.000</td> <td> 1.65e+04</td> <td>  2.3e+04</td>\n",
       "</tr>\n",
       "<tr>\n",
       "  <th>sqft_living</th>           <td> 1.087e+05</td> <td> 1619.344</td> <td>   67.111</td> <td> 0.000</td> <td> 1.06e+05</td> <td> 1.12e+05</td>\n",
       "</tr>\n",
       "<tr>\n",
       "  <th>sqft_lot</th>              <td> 1.017e+04</td> <td> 1051.788</td> <td>    9.665</td> <td> 0.000</td> <td> 8104.165</td> <td> 1.22e+04</td>\n",
       "</tr>\n",
       "<tr>\n",
       "  <th>distance_from_a_city</th>  <td> -1.08e+05</td> <td> 1079.248</td> <td> -100.059</td> <td> 0.000</td> <td> -1.1e+05</td> <td>-1.06e+05</td>\n",
       "</tr>\n",
       "<tr>\n",
       "  <th>Years_last_renovation</th> <td> 3.357e+04</td> <td> 1332.657</td> <td>   25.191</td> <td> 0.000</td> <td>  3.1e+04</td> <td> 3.62e+04</td>\n",
       "</tr>\n",
       "<tr>\n",
       "  <th>basement</th>              <td>-2.322e+04</td> <td> 2156.917</td> <td>  -10.766</td> <td> 0.000</td> <td>-2.74e+04</td> <td> -1.9e+04</td>\n",
       "</tr>\n",
       "<tr>\n",
       "  <th>grade</th>                 <td> 6.562e+04</td> <td>  180.142</td> <td>  364.276</td> <td> 0.000</td> <td> 6.53e+04</td> <td>  6.6e+04</td>\n",
       "</tr>\n",
       "<tr>\n",
       "  <th>bedbath</th>               <td> 4664.3155</td> <td>  926.785</td> <td>    5.033</td> <td> 0.000</td> <td> 2847.722</td> <td> 6480.909</td>\n",
       "</tr>\n",
       "</table>\n",
       "<table class=\"simpletable\">\n",
       "<tr>\n",
       "  <th>Omnibus:</th>       <td>4132.588</td> <th>  Durbin-Watson:     </th> <td>   1.980</td> \n",
       "</tr>\n",
       "<tr>\n",
       "  <th>Prob(Omnibus):</th>  <td> 0.000</td>  <th>  Jarque-Bera (JB):  </th> <td>16673.321</td>\n",
       "</tr>\n",
       "<tr>\n",
       "  <th>Skew:</th>           <td> 1.141</td>  <th>  Prob(JB):          </th> <td>    0.00</td> \n",
       "</tr>\n",
       "<tr>\n",
       "  <th>Kurtosis:</th>       <td> 7.248</td>  <th>  Cond. No.          </th> <td>    17.4</td> \n",
       "</tr>\n",
       "</table><br/><br/>Warnings:<br/>[1] Standard Errors assume that the covariance matrix of the errors is correctly specified."
      ],
      "text/plain": [
       "<class 'statsmodels.iolib.summary.Summary'>\n",
       "\"\"\"\n",
       "                                 OLS Regression Results                                \n",
       "=======================================================================================\n",
       "Dep. Variable:                  price   R-squared (uncentered):                   0.943\n",
       "Model:                            OLS   Adj. R-squared (uncentered):              0.943\n",
       "Method:                 Least Squares   F-statistic:                          3.146e+04\n",
       "Date:                Thu, 04 Jun 2020   Prob (F-statistic):                        0.00\n",
       "Time:                        10:51:42   Log-Likelihood:                     -2.2698e+05\n",
       "No. Observations:               17206   AIC:                                  4.540e+05\n",
       "Df Residuals:                   17197   BIC:                                  4.540e+05\n",
       "Df Model:                           9                                                  \n",
       "Covariance Type:            nonrobust                                                  \n",
       "=========================================================================================\n",
       "                            coef    std err          t      P>|t|      [0.025      0.975]\n",
       "-----------------------------------------------------------------------------------------\n",
       "bedrooms              -1.451e+04   1280.333    -11.335      0.000    -1.7e+04    -1.2e+04\n",
       "bathrooms              1.979e+04   1656.769     11.948      0.000    1.65e+04     2.3e+04\n",
       "sqft_living            1.087e+05   1619.344     67.111      0.000    1.06e+05    1.12e+05\n",
       "sqft_lot               1.017e+04   1051.788      9.665      0.000    8104.165    1.22e+04\n",
       "distance_from_a_city   -1.08e+05   1079.248   -100.059      0.000    -1.1e+05   -1.06e+05\n",
       "Years_last_renovation  3.357e+04   1332.657     25.191      0.000     3.1e+04    3.62e+04\n",
       "basement              -2.322e+04   2156.917    -10.766      0.000   -2.74e+04    -1.9e+04\n",
       "grade                  6.562e+04    180.142    364.276      0.000    6.53e+04     6.6e+04\n",
       "bedbath                4664.3155    926.785      5.033      0.000    2847.722    6480.909\n",
       "==============================================================================\n",
       "Omnibus:                     4132.588   Durbin-Watson:                   1.980\n",
       "Prob(Omnibus):                  0.000   Jarque-Bera (JB):            16673.321\n",
       "Skew:                           1.141   Prob(JB):                         0.00\n",
       "Kurtosis:                       7.248   Cond. No.                         17.4\n",
       "==============================================================================\n",
       "\n",
       "Warnings:\n",
       "[1] Standard Errors assume that the covariance matrix of the errors is correctly specified.\n",
       "\"\"\""
      ]
     },
     "execution_count": 73,
     "metadata": {},
     "output_type": "execute_result"
    }
   ],
   "source": [
    "model = sm.OLS(y,X).fit()\n",
    "model.summary()"
   ]
  },
  {
   "cell_type": "code",
   "execution_count": 74,
   "metadata": {},
   "outputs": [
    {
     "data": {
      "text/html": [
       "<table class=\"simpletable\">\n",
       "<caption>OLS Regression Results</caption>\n",
       "<tr>\n",
       "  <th>Dep. Variable:</th>          <td>price</td>      <th>  R-squared (uncentered):</th>       <td>   0.943</td>  \n",
       "</tr>\n",
       "<tr>\n",
       "  <th>Model:</th>                   <td>OLS</td>       <th>  Adj. R-squared (uncentered):</th>  <td>   0.943</td>  \n",
       "</tr>\n",
       "<tr>\n",
       "  <th>Method:</th>             <td>Least Squares</td>  <th>  F-statistic:       </th>           <td>3.146e+04</td> \n",
       "</tr>\n",
       "<tr>\n",
       "  <th>Date:</th>             <td>Thu, 04 Jun 2020</td> <th>  Prob (F-statistic):</th>            <td>  0.00</td>   \n",
       "</tr>\n",
       "<tr>\n",
       "  <th>Time:</th>                 <td>10:51:43</td>     <th>  Log-Likelihood:    </th>          <td>-2.2698e+05</td>\n",
       "</tr>\n",
       "<tr>\n",
       "  <th>No. Observations:</th>      <td> 17206</td>      <th>  AIC:               </th>           <td>4.540e+05</td> \n",
       "</tr>\n",
       "<tr>\n",
       "  <th>Df Residuals:</th>          <td> 17197</td>      <th>  BIC:               </th>           <td>4.540e+05</td> \n",
       "</tr>\n",
       "<tr>\n",
       "  <th>Df Model:</th>              <td>     9</td>      <th>                     </th>               <td> </td>     \n",
       "</tr>\n",
       "<tr>\n",
       "  <th>Covariance Type:</th>      <td>nonrobust</td>    <th>                     </th>               <td> </td>     \n",
       "</tr>\n",
       "</table>\n",
       "<table class=\"simpletable\">\n",
       "<tr>\n",
       "            <td></td>               <th>coef</th>     <th>std err</th>      <th>t</th>      <th>P>|t|</th>  <th>[0.025</th>    <th>0.975]</th>  \n",
       "</tr>\n",
       "<tr>\n",
       "  <th>bedrooms</th>              <td>-1.451e+04</td> <td> 1280.333</td> <td>  -11.335</td> <td> 0.000</td> <td> -1.7e+04</td> <td> -1.2e+04</td>\n",
       "</tr>\n",
       "<tr>\n",
       "  <th>bathrooms</th>             <td> 1.979e+04</td> <td> 1656.769</td> <td>   11.948</td> <td> 0.000</td> <td> 1.65e+04</td> <td>  2.3e+04</td>\n",
       "</tr>\n",
       "<tr>\n",
       "  <th>sqft_living</th>           <td> 1.087e+05</td> <td> 1619.344</td> <td>   67.111</td> <td> 0.000</td> <td> 1.06e+05</td> <td> 1.12e+05</td>\n",
       "</tr>\n",
       "<tr>\n",
       "  <th>sqft_lot</th>              <td> 1.017e+04</td> <td> 1051.788</td> <td>    9.665</td> <td> 0.000</td> <td> 8104.165</td> <td> 1.22e+04</td>\n",
       "</tr>\n",
       "<tr>\n",
       "  <th>distance_from_a_city</th>  <td> -1.08e+05</td> <td> 1079.248</td> <td> -100.059</td> <td> 0.000</td> <td> -1.1e+05</td> <td>-1.06e+05</td>\n",
       "</tr>\n",
       "<tr>\n",
       "  <th>Years_last_renovation</th> <td> 3.357e+04</td> <td> 1332.657</td> <td>   25.191</td> <td> 0.000</td> <td>  3.1e+04</td> <td> 3.62e+04</td>\n",
       "</tr>\n",
       "<tr>\n",
       "  <th>basement</th>              <td>-2.322e+04</td> <td> 2156.917</td> <td>  -10.766</td> <td> 0.000</td> <td>-2.74e+04</td> <td> -1.9e+04</td>\n",
       "</tr>\n",
       "<tr>\n",
       "  <th>grade</th>                 <td> 6.562e+04</td> <td>  180.142</td> <td>  364.276</td> <td> 0.000</td> <td> 6.53e+04</td> <td>  6.6e+04</td>\n",
       "</tr>\n",
       "<tr>\n",
       "  <th>bedbath</th>               <td> 4664.3155</td> <td>  926.785</td> <td>    5.033</td> <td> 0.000</td> <td> 2847.722</td> <td> 6480.909</td>\n",
       "</tr>\n",
       "</table>\n",
       "<table class=\"simpletable\">\n",
       "<tr>\n",
       "  <th>Omnibus:</th>       <td>4132.588</td> <th>  Durbin-Watson:     </th> <td>   1.980</td> \n",
       "</tr>\n",
       "<tr>\n",
       "  <th>Prob(Omnibus):</th>  <td> 0.000</td>  <th>  Jarque-Bera (JB):  </th> <td>16673.321</td>\n",
       "</tr>\n",
       "<tr>\n",
       "  <th>Skew:</th>           <td> 1.141</td>  <th>  Prob(JB):          </th> <td>    0.00</td> \n",
       "</tr>\n",
       "<tr>\n",
       "  <th>Kurtosis:</th>       <td> 7.248</td>  <th>  Cond. No.          </th> <td>    17.4</td> \n",
       "</tr>\n",
       "</table><br/><br/>Warnings:<br/>[1] Standard Errors assume that the covariance matrix of the errors is correctly specified."
      ],
      "text/plain": [
       "<class 'statsmodels.iolib.summary.Summary'>\n",
       "\"\"\"\n",
       "                                 OLS Regression Results                                \n",
       "=======================================================================================\n",
       "Dep. Variable:                  price   R-squared (uncentered):                   0.943\n",
       "Model:                            OLS   Adj. R-squared (uncentered):              0.943\n",
       "Method:                 Least Squares   F-statistic:                          3.146e+04\n",
       "Date:                Thu, 04 Jun 2020   Prob (F-statistic):                        0.00\n",
       "Time:                        10:51:43   Log-Likelihood:                     -2.2698e+05\n",
       "No. Observations:               17206   AIC:                                  4.540e+05\n",
       "Df Residuals:                   17197   BIC:                                  4.540e+05\n",
       "Df Model:                           9                                                  \n",
       "Covariance Type:            nonrobust                                                  \n",
       "=========================================================================================\n",
       "                            coef    std err          t      P>|t|      [0.025      0.975]\n",
       "-----------------------------------------------------------------------------------------\n",
       "bedrooms              -1.451e+04   1280.333    -11.335      0.000    -1.7e+04    -1.2e+04\n",
       "bathrooms              1.979e+04   1656.769     11.948      0.000    1.65e+04     2.3e+04\n",
       "sqft_living            1.087e+05   1619.344     67.111      0.000    1.06e+05    1.12e+05\n",
       "sqft_lot               1.017e+04   1051.788      9.665      0.000    8104.165    1.22e+04\n",
       "distance_from_a_city   -1.08e+05   1079.248   -100.059      0.000    -1.1e+05   -1.06e+05\n",
       "Years_last_renovation  3.357e+04   1332.657     25.191      0.000     3.1e+04    3.62e+04\n",
       "basement              -2.322e+04   2156.917    -10.766      0.000   -2.74e+04    -1.9e+04\n",
       "grade                  6.562e+04    180.142    364.276      0.000    6.53e+04     6.6e+04\n",
       "bedbath                4664.3155    926.785      5.033      0.000    2847.722    6480.909\n",
       "==============================================================================\n",
       "Omnibus:                     4132.588   Durbin-Watson:                   1.980\n",
       "Prob(Omnibus):                  0.000   Jarque-Bera (JB):            16673.321\n",
       "Skew:                           1.141   Prob(JB):                         0.00\n",
       "Kurtosis:                       7.248   Cond. No.                         17.4\n",
       "==============================================================================\n",
       "\n",
       "Warnings:\n",
       "[1] Standard Errors assume that the covariance matrix of the errors is correctly specified.\n",
       "\"\"\""
      ]
     },
     "execution_count": 74,
     "metadata": {},
     "output_type": "execute_result"
    }
   ],
   "source": [
    "model = sm.OLS(y,X).fit()\n",
    "model.summary()"
   ]
  },
  {
   "cell_type": "code",
   "execution_count": 75,
   "metadata": {},
   "outputs": [
    {
     "name": "stdout",
     "output_type": "stream",
     "text": [
      "9 9\n",
      "['bedrooms', 'bathrooms', 'sqft_living', 'sqft_lot', 'distance_from_a_city']\n"
     ]
    },
    {
     "data": {
      "text/html": [
       "<div>\n",
       "<style scoped>\n",
       "    .dataframe tbody tr th:only-of-type {\n",
       "        vertical-align: middle;\n",
       "    }\n",
       "\n",
       "    .dataframe tbody tr th {\n",
       "        vertical-align: top;\n",
       "    }\n",
       "\n",
       "    .dataframe thead th {\n",
       "        text-align: right;\n",
       "    }\n",
       "</style>\n",
       "<table border=\"1\" class=\"dataframe\">\n",
       "  <thead>\n",
       "    <tr style=\"text-align: right;\">\n",
       "      <th></th>\n",
       "      <th>coef</th>\n",
       "      <th>std err</th>\n",
       "      <th>t</th>\n",
       "      <th>P&gt;|t|</th>\n",
       "      <th>[0.025</th>\n",
       "      <th>0.975]</th>\n",
       "    </tr>\n",
       "    <tr>\n",
       "      <th></th>\n",
       "      <th></th>\n",
       "      <th></th>\n",
       "      <th></th>\n",
       "      <th></th>\n",
       "      <th></th>\n",
       "      <th></th>\n",
       "    </tr>\n",
       "  </thead>\n",
       "  <tbody>\n",
       "    <tr>\n",
       "      <td>bedrooms</td>\n",
       "      <td>-1.451e+04</td>\n",
       "      <td>1280.333</td>\n",
       "      <td>-11.335</td>\n",
       "      <td>0.0</td>\n",
       "      <td>-1.7e+04</td>\n",
       "      <td>-1.2e+04</td>\n",
       "    </tr>\n",
       "    <tr>\n",
       "      <td>bathrooms</td>\n",
       "      <td>1.979e+04</td>\n",
       "      <td>1656.769</td>\n",
       "      <td>11.948</td>\n",
       "      <td>0.0</td>\n",
       "      <td>1.65e+04</td>\n",
       "      <td>2.3e+04</td>\n",
       "    </tr>\n",
       "    <tr>\n",
       "      <td>sqft_living</td>\n",
       "      <td>1.087e+05</td>\n",
       "      <td>1619.344</td>\n",
       "      <td>67.111</td>\n",
       "      <td>0.0</td>\n",
       "      <td>1.06e+05</td>\n",
       "      <td>1.12e+05</td>\n",
       "    </tr>\n",
       "    <tr>\n",
       "      <td>sqft_lot</td>\n",
       "      <td>1.017e+04</td>\n",
       "      <td>1051.788</td>\n",
       "      <td>9.665</td>\n",
       "      <td>0.0</td>\n",
       "      <td>8104.165</td>\n",
       "      <td>1.22e+04</td>\n",
       "    </tr>\n",
       "    <tr>\n",
       "      <td>distance_from_a_city</td>\n",
       "      <td>-1.08e+05</td>\n",
       "      <td>1079.248</td>\n",
       "      <td>-100.059</td>\n",
       "      <td>0.0</td>\n",
       "      <td>-1.1e+05</td>\n",
       "      <td>-1.06e+05</td>\n",
       "    </tr>\n",
       "  </tbody>\n",
       "</table>\n",
       "</div>"
      ],
      "text/plain": [
       "0                           coef    std err          t  P>|t|     [0.025  \\\n",
       "                                                                           \n",
       "bedrooms              -1.451e+04   1280.333    -11.335    0.0   -1.7e+04   \n",
       "bathrooms              1.979e+04   1656.769     11.948    0.0   1.65e+04   \n",
       "sqft_living            1.087e+05   1619.344     67.111    0.0   1.06e+05   \n",
       "sqft_lot               1.017e+04   1051.788      9.665    0.0   8104.165   \n",
       "distance_from_a_city   -1.08e+05   1079.248   -100.059    0.0   -1.1e+05   \n",
       "\n",
       "0                        0.975]  \n",
       "                                 \n",
       "bedrooms               -1.2e+04  \n",
       "bathrooms               2.3e+04  \n",
       "sqft_living            1.12e+05  \n",
       "sqft_lot               1.22e+04  \n",
       "distance_from_a_city  -1.06e+05  "
      ]
     },
     "execution_count": 75,
     "metadata": {},
     "output_type": "execute_result"
    }
   ],
   "source": [
    "summary = model.summary()\n",
    "p_table = summary.tables[1]\n",
    "p_table = pd.DataFrame(p_table.data)\n",
    "p_table.columns = p_table.iloc[0]\n",
    "p_table = p_table.drop(0)\n",
    "p_table = p_table.set_index(p_table.columns[0])\n",
    "p_table['P>|t|'] = p_table['P>|t|'].astype(float)\n",
    "x_cols = list(p_table[p_table['P>|t|'] < 0.05].index)\n",
    "print(len(p_table), len(x_cols))\n",
    "print(x_cols[:5])\n",
    "p_table.head()"
   ]
  },
  {
   "cell_type": "code",
   "execution_count": 76,
   "metadata": {},
   "outputs": [],
   "source": [
    "X = df[x_cols]\n",
    "y= df['price']"
   ]
  },
  {
   "cell_type": "code",
   "execution_count": 77,
   "metadata": {},
   "outputs": [
    {
     "data": {
      "text/html": [
       "<table class=\"simpletable\">\n",
       "<caption>OLS Regression Results</caption>\n",
       "<tr>\n",
       "  <th>Dep. Variable:</th>          <td>price</td>      <th>  R-squared (uncentered):</th>       <td>   0.943</td>  \n",
       "</tr>\n",
       "<tr>\n",
       "  <th>Model:</th>                   <td>OLS</td>       <th>  Adj. R-squared (uncentered):</th>  <td>   0.943</td>  \n",
       "</tr>\n",
       "<tr>\n",
       "  <th>Method:</th>             <td>Least Squares</td>  <th>  F-statistic:       </th>           <td>3.146e+04</td> \n",
       "</tr>\n",
       "<tr>\n",
       "  <th>Date:</th>             <td>Thu, 04 Jun 2020</td> <th>  Prob (F-statistic):</th>            <td>  0.00</td>   \n",
       "</tr>\n",
       "<tr>\n",
       "  <th>Time:</th>                 <td>10:51:47</td>     <th>  Log-Likelihood:    </th>          <td>-2.2698e+05</td>\n",
       "</tr>\n",
       "<tr>\n",
       "  <th>No. Observations:</th>      <td> 17206</td>      <th>  AIC:               </th>           <td>4.540e+05</td> \n",
       "</tr>\n",
       "<tr>\n",
       "  <th>Df Residuals:</th>          <td> 17197</td>      <th>  BIC:               </th>           <td>4.540e+05</td> \n",
       "</tr>\n",
       "<tr>\n",
       "  <th>Df Model:</th>              <td>     9</td>      <th>                     </th>               <td> </td>     \n",
       "</tr>\n",
       "<tr>\n",
       "  <th>Covariance Type:</th>      <td>nonrobust</td>    <th>                     </th>               <td> </td>     \n",
       "</tr>\n",
       "</table>\n",
       "<table class=\"simpletable\">\n",
       "<tr>\n",
       "            <td></td>               <th>coef</th>     <th>std err</th>      <th>t</th>      <th>P>|t|</th>  <th>[0.025</th>    <th>0.975]</th>  \n",
       "</tr>\n",
       "<tr>\n",
       "  <th>bedrooms</th>              <td>-1.451e+04</td> <td> 1280.333</td> <td>  -11.335</td> <td> 0.000</td> <td> -1.7e+04</td> <td> -1.2e+04</td>\n",
       "</tr>\n",
       "<tr>\n",
       "  <th>bathrooms</th>             <td> 1.979e+04</td> <td> 1656.769</td> <td>   11.948</td> <td> 0.000</td> <td> 1.65e+04</td> <td>  2.3e+04</td>\n",
       "</tr>\n",
       "<tr>\n",
       "  <th>sqft_living</th>           <td> 1.087e+05</td> <td> 1619.344</td> <td>   67.111</td> <td> 0.000</td> <td> 1.06e+05</td> <td> 1.12e+05</td>\n",
       "</tr>\n",
       "<tr>\n",
       "  <th>sqft_lot</th>              <td> 1.017e+04</td> <td> 1051.788</td> <td>    9.665</td> <td> 0.000</td> <td> 8104.165</td> <td> 1.22e+04</td>\n",
       "</tr>\n",
       "<tr>\n",
       "  <th>distance_from_a_city</th>  <td> -1.08e+05</td> <td> 1079.248</td> <td> -100.059</td> <td> 0.000</td> <td> -1.1e+05</td> <td>-1.06e+05</td>\n",
       "</tr>\n",
       "<tr>\n",
       "  <th>Years_last_renovation</th> <td> 3.357e+04</td> <td> 1332.657</td> <td>   25.191</td> <td> 0.000</td> <td>  3.1e+04</td> <td> 3.62e+04</td>\n",
       "</tr>\n",
       "<tr>\n",
       "  <th>basement</th>              <td>-2.322e+04</td> <td> 2156.917</td> <td>  -10.766</td> <td> 0.000</td> <td>-2.74e+04</td> <td> -1.9e+04</td>\n",
       "</tr>\n",
       "<tr>\n",
       "  <th>grade</th>                 <td> 6.562e+04</td> <td>  180.142</td> <td>  364.276</td> <td> 0.000</td> <td> 6.53e+04</td> <td>  6.6e+04</td>\n",
       "</tr>\n",
       "<tr>\n",
       "  <th>bedbath</th>               <td> 4664.3155</td> <td>  926.785</td> <td>    5.033</td> <td> 0.000</td> <td> 2847.722</td> <td> 6480.909</td>\n",
       "</tr>\n",
       "</table>\n",
       "<table class=\"simpletable\">\n",
       "<tr>\n",
       "  <th>Omnibus:</th>       <td>4132.588</td> <th>  Durbin-Watson:     </th> <td>   1.980</td> \n",
       "</tr>\n",
       "<tr>\n",
       "  <th>Prob(Omnibus):</th>  <td> 0.000</td>  <th>  Jarque-Bera (JB):  </th> <td>16673.321</td>\n",
       "</tr>\n",
       "<tr>\n",
       "  <th>Skew:</th>           <td> 1.141</td>  <th>  Prob(JB):          </th> <td>    0.00</td> \n",
       "</tr>\n",
       "<tr>\n",
       "  <th>Kurtosis:</th>       <td> 7.248</td>  <th>  Cond. No.          </th> <td>    17.4</td> \n",
       "</tr>\n",
       "</table><br/><br/>Warnings:<br/>[1] Standard Errors assume that the covariance matrix of the errors is correctly specified."
      ],
      "text/plain": [
       "<class 'statsmodels.iolib.summary.Summary'>\n",
       "\"\"\"\n",
       "                                 OLS Regression Results                                \n",
       "=======================================================================================\n",
       "Dep. Variable:                  price   R-squared (uncentered):                   0.943\n",
       "Model:                            OLS   Adj. R-squared (uncentered):              0.943\n",
       "Method:                 Least Squares   F-statistic:                          3.146e+04\n",
       "Date:                Thu, 04 Jun 2020   Prob (F-statistic):                        0.00\n",
       "Time:                        10:51:47   Log-Likelihood:                     -2.2698e+05\n",
       "No. Observations:               17206   AIC:                                  4.540e+05\n",
       "Df Residuals:                   17197   BIC:                                  4.540e+05\n",
       "Df Model:                           9                                                  \n",
       "Covariance Type:            nonrobust                                                  \n",
       "=========================================================================================\n",
       "                            coef    std err          t      P>|t|      [0.025      0.975]\n",
       "-----------------------------------------------------------------------------------------\n",
       "bedrooms              -1.451e+04   1280.333    -11.335      0.000    -1.7e+04    -1.2e+04\n",
       "bathrooms              1.979e+04   1656.769     11.948      0.000    1.65e+04     2.3e+04\n",
       "sqft_living            1.087e+05   1619.344     67.111      0.000    1.06e+05    1.12e+05\n",
       "sqft_lot               1.017e+04   1051.788      9.665      0.000    8104.165    1.22e+04\n",
       "distance_from_a_city   -1.08e+05   1079.248   -100.059      0.000    -1.1e+05   -1.06e+05\n",
       "Years_last_renovation  3.357e+04   1332.657     25.191      0.000     3.1e+04    3.62e+04\n",
       "basement              -2.322e+04   2156.917    -10.766      0.000   -2.74e+04    -1.9e+04\n",
       "grade                  6.562e+04    180.142    364.276      0.000    6.53e+04     6.6e+04\n",
       "bedbath                4664.3155    926.785      5.033      0.000    2847.722    6480.909\n",
       "==============================================================================\n",
       "Omnibus:                     4132.588   Durbin-Watson:                   1.980\n",
       "Prob(Omnibus):                  0.000   Jarque-Bera (JB):            16673.321\n",
       "Skew:                           1.141   Prob(JB):                         0.00\n",
       "Kurtosis:                       7.248   Cond. No.                         17.4\n",
       "==============================================================================\n",
       "\n",
       "Warnings:\n",
       "[1] Standard Errors assume that the covariance matrix of the errors is correctly specified.\n",
       "\"\"\""
      ]
     },
     "execution_count": 77,
     "metadata": {},
     "output_type": "execute_result"
    }
   ],
   "source": [
    "model = sm.OLS(y,X).fit()\n",
    "model.summary()"
   ]
  },
  {
   "cell_type": "code",
   "execution_count": 78,
   "metadata": {},
   "outputs": [
    {
     "data": {
      "text/plain": [
       "[('bedrooms', 1.6765225867389721),\n",
       " ('bathrooms', 2.807292148503073),\n",
       " ('sqft_living', 2.6818956673290493),\n",
       " ('sqft_lot', 1.1314101209692993),\n",
       " ('distance_from_a_city', 1.1912577038838188),\n",
       " ('Years_last_renovation', 1.8163525186933382),\n",
       " ('basement', 1.7765657676418374),\n",
       " ('grade', 1.9201576604541735),\n",
       " ('bedbath', 1.2380550349132442)]"
      ]
     },
     "execution_count": 78,
     "metadata": {},
     "output_type": "execute_result"
    }
   ],
   "source": [
    "# Your code here - Code a way to identify multicollinearity\n",
    "from statsmodels.stats.outliers_influence import variance_inflation_factor\n",
    "X = df[x_cols]\n",
    "vif = [variance_inflation_factor(X.values,i) for i in range(X.shape[1])]\n",
    "list(zip(x_cols,vif))"
   ]
  },
  {
   "cell_type": "code",
   "execution_count": 79,
   "metadata": {},
   "outputs": [
    {
     "name": "stdout",
     "output_type": "stream",
     "text": [
      "9 9\n"
     ]
    }
   ],
   "source": [
    "vif_scores = list(zip(x_cols, vif))\n",
    "x_cols = [x for x,vif in vif_scores if vif < 5]\n",
    "print(len(vif_scores), len(x_cols))"
   ]
  },
  {
   "cell_type": "code",
   "execution_count": 80,
   "metadata": {},
   "outputs": [],
   "source": [
    "X = df[x_cols]\n",
    "y= df['price']"
   ]
  },
  {
   "cell_type": "code",
   "execution_count": 81,
   "metadata": {
    "scrolled": false
   },
   "outputs": [
    {
     "data": {
      "text/html": [
       "<table class=\"simpletable\">\n",
       "<caption>OLS Regression Results</caption>\n",
       "<tr>\n",
       "  <th>Dep. Variable:</th>          <td>price</td>      <th>  R-squared (uncentered):</th>       <td>   0.943</td>  \n",
       "</tr>\n",
       "<tr>\n",
       "  <th>Model:</th>                   <td>OLS</td>       <th>  Adj. R-squared (uncentered):</th>  <td>   0.943</td>  \n",
       "</tr>\n",
       "<tr>\n",
       "  <th>Method:</th>             <td>Least Squares</td>  <th>  F-statistic:       </th>           <td>3.146e+04</td> \n",
       "</tr>\n",
       "<tr>\n",
       "  <th>Date:</th>             <td>Thu, 04 Jun 2020</td> <th>  Prob (F-statistic):</th>            <td>  0.00</td>   \n",
       "</tr>\n",
       "<tr>\n",
       "  <th>Time:</th>                 <td>10:51:49</td>     <th>  Log-Likelihood:    </th>          <td>-2.2698e+05</td>\n",
       "</tr>\n",
       "<tr>\n",
       "  <th>No. Observations:</th>      <td> 17206</td>      <th>  AIC:               </th>           <td>4.540e+05</td> \n",
       "</tr>\n",
       "<tr>\n",
       "  <th>Df Residuals:</th>          <td> 17197</td>      <th>  BIC:               </th>           <td>4.540e+05</td> \n",
       "</tr>\n",
       "<tr>\n",
       "  <th>Df Model:</th>              <td>     9</td>      <th>                     </th>               <td> </td>     \n",
       "</tr>\n",
       "<tr>\n",
       "  <th>Covariance Type:</th>      <td>nonrobust</td>    <th>                     </th>               <td> </td>     \n",
       "</tr>\n",
       "</table>\n",
       "<table class=\"simpletable\">\n",
       "<tr>\n",
       "            <td></td>               <th>coef</th>     <th>std err</th>      <th>t</th>      <th>P>|t|</th>  <th>[0.025</th>    <th>0.975]</th>  \n",
       "</tr>\n",
       "<tr>\n",
       "  <th>bedrooms</th>              <td>-1.451e+04</td> <td> 1280.333</td> <td>  -11.335</td> <td> 0.000</td> <td> -1.7e+04</td> <td> -1.2e+04</td>\n",
       "</tr>\n",
       "<tr>\n",
       "  <th>bathrooms</th>             <td> 1.979e+04</td> <td> 1656.769</td> <td>   11.948</td> <td> 0.000</td> <td> 1.65e+04</td> <td>  2.3e+04</td>\n",
       "</tr>\n",
       "<tr>\n",
       "  <th>sqft_living</th>           <td> 1.087e+05</td> <td> 1619.344</td> <td>   67.111</td> <td> 0.000</td> <td> 1.06e+05</td> <td> 1.12e+05</td>\n",
       "</tr>\n",
       "<tr>\n",
       "  <th>sqft_lot</th>              <td> 1.017e+04</td> <td> 1051.788</td> <td>    9.665</td> <td> 0.000</td> <td> 8104.165</td> <td> 1.22e+04</td>\n",
       "</tr>\n",
       "<tr>\n",
       "  <th>distance_from_a_city</th>  <td> -1.08e+05</td> <td> 1079.248</td> <td> -100.059</td> <td> 0.000</td> <td> -1.1e+05</td> <td>-1.06e+05</td>\n",
       "</tr>\n",
       "<tr>\n",
       "  <th>Years_last_renovation</th> <td> 3.357e+04</td> <td> 1332.657</td> <td>   25.191</td> <td> 0.000</td> <td>  3.1e+04</td> <td> 3.62e+04</td>\n",
       "</tr>\n",
       "<tr>\n",
       "  <th>basement</th>              <td>-2.322e+04</td> <td> 2156.917</td> <td>  -10.766</td> <td> 0.000</td> <td>-2.74e+04</td> <td> -1.9e+04</td>\n",
       "</tr>\n",
       "<tr>\n",
       "  <th>grade</th>                 <td> 6.562e+04</td> <td>  180.142</td> <td>  364.276</td> <td> 0.000</td> <td> 6.53e+04</td> <td>  6.6e+04</td>\n",
       "</tr>\n",
       "<tr>\n",
       "  <th>bedbath</th>               <td> 4664.3155</td> <td>  926.785</td> <td>    5.033</td> <td> 0.000</td> <td> 2847.722</td> <td> 6480.909</td>\n",
       "</tr>\n",
       "</table>\n",
       "<table class=\"simpletable\">\n",
       "<tr>\n",
       "  <th>Omnibus:</th>       <td>4132.588</td> <th>  Durbin-Watson:     </th> <td>   1.980</td> \n",
       "</tr>\n",
       "<tr>\n",
       "  <th>Prob(Omnibus):</th>  <td> 0.000</td>  <th>  Jarque-Bera (JB):  </th> <td>16673.321</td>\n",
       "</tr>\n",
       "<tr>\n",
       "  <th>Skew:</th>           <td> 1.141</td>  <th>  Prob(JB):          </th> <td>    0.00</td> \n",
       "</tr>\n",
       "<tr>\n",
       "  <th>Kurtosis:</th>       <td> 7.248</td>  <th>  Cond. No.          </th> <td>    17.4</td> \n",
       "</tr>\n",
       "</table><br/><br/>Warnings:<br/>[1] Standard Errors assume that the covariance matrix of the errors is correctly specified."
      ],
      "text/plain": [
       "<class 'statsmodels.iolib.summary.Summary'>\n",
       "\"\"\"\n",
       "                                 OLS Regression Results                                \n",
       "=======================================================================================\n",
       "Dep. Variable:                  price   R-squared (uncentered):                   0.943\n",
       "Model:                            OLS   Adj. R-squared (uncentered):              0.943\n",
       "Method:                 Least Squares   F-statistic:                          3.146e+04\n",
       "Date:                Thu, 04 Jun 2020   Prob (F-statistic):                        0.00\n",
       "Time:                        10:51:49   Log-Likelihood:                     -2.2698e+05\n",
       "No. Observations:               17206   AIC:                                  4.540e+05\n",
       "Df Residuals:                   17197   BIC:                                  4.540e+05\n",
       "Df Model:                           9                                                  \n",
       "Covariance Type:            nonrobust                                                  \n",
       "=========================================================================================\n",
       "                            coef    std err          t      P>|t|      [0.025      0.975]\n",
       "-----------------------------------------------------------------------------------------\n",
       "bedrooms              -1.451e+04   1280.333    -11.335      0.000    -1.7e+04    -1.2e+04\n",
       "bathrooms              1.979e+04   1656.769     11.948      0.000    1.65e+04     2.3e+04\n",
       "sqft_living            1.087e+05   1619.344     67.111      0.000    1.06e+05    1.12e+05\n",
       "sqft_lot               1.017e+04   1051.788      9.665      0.000    8104.165    1.22e+04\n",
       "distance_from_a_city   -1.08e+05   1079.248   -100.059      0.000    -1.1e+05   -1.06e+05\n",
       "Years_last_renovation  3.357e+04   1332.657     25.191      0.000     3.1e+04    3.62e+04\n",
       "basement              -2.322e+04   2156.917    -10.766      0.000   -2.74e+04    -1.9e+04\n",
       "grade                  6.562e+04    180.142    364.276      0.000    6.53e+04     6.6e+04\n",
       "bedbath                4664.3155    926.785      5.033      0.000    2847.722    6480.909\n",
       "==============================================================================\n",
       "Omnibus:                     4132.588   Durbin-Watson:                   1.980\n",
       "Prob(Omnibus):                  0.000   Jarque-Bera (JB):            16673.321\n",
       "Skew:                           1.141   Prob(JB):                         0.00\n",
       "Kurtosis:                       7.248   Cond. No.                         17.4\n",
       "==============================================================================\n",
       "\n",
       "Warnings:\n",
       "[1] Standard Errors assume that the covariance matrix of the errors is correctly specified.\n",
       "\"\"\""
      ]
     },
     "execution_count": 81,
     "metadata": {},
     "output_type": "execute_result"
    }
   ],
   "source": [
    "model = sm.OLS(y,X).fit()\n",
    "model.summary()"
   ]
  },
  {
   "cell_type": "code",
   "execution_count": 82,
   "metadata": {},
   "outputs": [
    {
     "data": {
      "text/plain": [
       "[('bedrooms', 1.6765225867389721),\n",
       " ('bathrooms', 2.807292148503073),\n",
       " ('sqft_living', 2.6818956673290493),\n",
       " ('sqft_lot', 1.1314101209692993),\n",
       " ('distance_from_a_city', 1.1912577038838188),\n",
       " ('Years_last_renovation', 1.8163525186933382),\n",
       " ('basement', 1.7765657676418374),\n",
       " ('grade', 1.9201576604541735),\n",
       " ('bedbath', 1.2380550349132442)]"
      ]
     },
     "execution_count": 82,
     "metadata": {},
     "output_type": "execute_result"
    }
   ],
   "source": [
    "from statsmodels.stats.outliers_influence import variance_inflation_factor\n",
    "X = df[x_cols]\n",
    "vif = [variance_inflation_factor(X.values,i) for i in range(X.shape[1])]\n",
    "list(zip(x_cols,vif))"
   ]
  },
  {
   "cell_type": "code",
   "execution_count": 83,
   "metadata": {},
   "outputs": [],
   "source": [
    "def plot_residuals(resids):\n",
    "    plt.hist(resids)\n",
    "    plt.title(\"Residuals\")\n",
    "    plt.show()\n",
    "    \n",
    "    xspace = np.linspace(0, 1, len(resids))\n",
    "    plt.scatter(xspace, resids)\n",
    "    plt.title(\"resids\")\n",
    "    plt.hlines(0, xmin=0, xmax=1)\n",
    "    plt.show()"
   ]
  },
  {
   "cell_type": "code",
   "execution_count": 84,
   "metadata": {},
   "outputs": [],
   "source": [
    "residuals = model.resid"
   ]
  },
  {
   "cell_type": "code",
   "execution_count": 85,
   "metadata": {},
   "outputs": [
    {
     "data": {
      "image/png": "[encoded data removed]",
      "text/plain": [
       "<Figure size 432x288 with 1 Axes>"
      ]
     },
     "metadata": {
      "needs_background": "light"
     },
     "output_type": "display_data"
    },
    {
     "data": {
      "image/png": "[encoded data removed]",
      "text/plain": [
       "<Figure size 432x288 with 1 Axes>"
      ]
     },
     "metadata": {
      "needs_background": "light"
     },
     "output_type": "display_data"
    }
   ],
   "source": [
    "plot_residuals(residuals)"
   ]
  },
  {
   "cell_type": "code",
   "execution_count": 86,
   "metadata": {},
   "outputs": [
    {
     "data": {
      "image/png": "[encoded data removed]",
      "text/plain": [
       "<Figure size 432x288 with 1 Axes>"
      ]
     },
     "metadata": {
      "needs_background": "light"
     },
     "output_type": "display_data"
    }
   ],
   "source": [
    "fig = sm.graphics.qqplot(residuals, dist=scs.norm, line='45', fit=True)\n"
   ]
  },
  {
   "cell_type": "markdown",
   "metadata": {},
   "source": [
    "# Build Mode in Sklearn"
   ]
  },
  {
   "cell_type": "code",
   "execution_count": 87,
   "metadata": {},
   "outputs": [],
   "source": [
    "from sklearn.utils import shuffle\n",
    "from sklearn.linear_model import LinearRegression\n",
    "from sklearn.model_selection import train_test_split, cross_val_score\n",
    "from sklearn.preprocessing import StandardScaler\n",
    "from sklearn.feature_selection import RFE\n",
    "\n",
    "from sklearn.metrics import r2_score"
   ]
  },
  {
   "cell_type": "code",
   "execution_count": 88,
   "metadata": {},
   "outputs": [],
   "source": [
    "X_train, X_test, y_train, y_test = train_test_split(X, y, test_size=0.20)"
   ]
  },
  {
   "cell_type": "code",
   "execution_count": 89,
   "metadata": {},
   "outputs": [],
   "source": [
    "ols = LinearRegression(fit_intercept=False, normalize=False, n_jobs=-1)"
   ]
  },
  {
   "cell_type": "code",
   "execution_count": 90,
   "metadata": {},
   "outputs": [
    {
     "data": {
      "text/plain": [
       "LinearRegression(copy_X=True, fit_intercept=False, n_jobs=-1, normalize=False)"
      ]
     },
     "execution_count": 90,
     "metadata": {},
     "output_type": "execute_result"
    }
   ],
   "source": [
    "ols.fit(X_train, y_train)"
   ]
  },
  {
   "cell_type": "code",
   "execution_count": 91,
   "metadata": {},
   "outputs": [
    {
     "data": {
      "text/plain": [
       "array([ -14732.56021727,   20336.2628946 ,  108886.07016318,\n",
       "          9635.26570691, -107517.26321474,   33919.7312875 ,\n",
       "        -25058.92843342,   65722.08615429,    4624.01077509])"
      ]
     },
     "execution_count": 91,
     "metadata": {},
     "output_type": "execute_result"
    }
   ],
   "source": [
    "ols.coef_"
   ]
  },
  {
   "cell_type": "code",
   "execution_count": 92,
   "metadata": {},
   "outputs": [
    {
     "data": {
      "text/plain": [
       "0.0"
      ]
     },
     "execution_count": 92,
     "metadata": {},
     "output_type": "execute_result"
    }
   ],
   "source": [
    "ols.intercept_"
   ]
  },
  {
   "cell_type": "code",
   "execution_count": 93,
   "metadata": {},
   "outputs": [
    {
     "data": {
      "text/plain": [
       "array([815290.13241362, 586011.85067593, 316188.21435727, ...,\n",
       "       700439.03461231, 337770.12577   , 400530.67927913])"
      ]
     },
     "execution_count": 93,
     "metadata": {},
     "output_type": "execute_result"
    }
   ],
   "source": [
    "# let's get our training predictions\n",
    "y_train_preds = ols.predict(X_train)\n",
    "y_train_preds"
   ]
  },
  {
   "cell_type": "code",
   "execution_count": 94,
   "metadata": {},
   "outputs": [
    {
     "data": {
      "text/plain": [
       "0.6968750658198528"
      ]
     },
     "execution_count": 94,
     "metadata": {},
     "output_type": "execute_result"
    }
   ],
   "source": [
    "r2_score(y_train, y_train_preds)"
   ]
  },
  {
   "cell_type": "code",
   "execution_count": 95,
   "metadata": {},
   "outputs": [],
   "source": [
    "def get_score(model ,X_train, y_train):\n",
    "    y_train_preds = model.predict(X_train)"
   ]
  },
  {
   "cell_type": "code",
   "execution_count": 96,
   "metadata": {},
   "outputs": [
    {
     "data": {
      "text/plain": [
       "0.6968750658198528"
      ]
     },
     "execution_count": 96,
     "metadata": {},
     "output_type": "execute_result"
    }
   ],
   "source": [
    "# r2 \n",
    "training_score = ols.score(X_train, y_train)\n",
    "# ols.score is calculating the y_train_preds and then using those to get the r2 score\n",
    "training_score"
   ]
  },
  {
   "cell_type": "code",
   "execution_count": 97,
   "metadata": {},
   "outputs": [
    {
     "data": {
      "text/plain": [
       "0.713885872638047"
      ]
     },
     "execution_count": 97,
     "metadata": {},
     "output_type": "execute_result"
    }
   ],
   "source": [
    "testing_score = ols.score(X_test, y_test)\n",
    "testing_score"
   ]
  },
  {
   "cell_type": "code",
   "execution_count": 98,
   "metadata": {},
   "outputs": [
    {
     "data": {
      "text/plain": [
       "0.6981782890918067"
      ]
     },
     "execution_count": 98,
     "metadata": {},
     "output_type": "execute_result"
    }
   ],
   "source": [
    "cv_scores = np.mean(cross_val_score(ols, X, y, scoring='r2', cv=10, n_jobs=-1) )\n",
    "# cv breaks your data into that many equal pieces \n",
    "cv_scores"
   ]
  },
  {
   "cell_type": "code",
   "execution_count": 99,
   "metadata": {},
   "outputs": [],
   "source": [
    "def make_ols_sklearn(X, y, test_size=0.20, fit_intercept=False, standardize=False):\n",
    "    X_train, X_test, y_train, y_test = train_test_split(X, y, test_size=test_size)\n",
    "    if standardize:\n",
    "        ss = StandardScaler()\n",
    "        ss.fit(X_train)\n",
    "        X_train = ss.transform(X_train)\n",
    "        X_test = ss.transform(X_test)\n",
    "    ols = LinearRegression(fit_intercept=fit_intercept, normalize=False)\n",
    "    ols.fit(X_train, y_train)\n",
    "    train_score = ols.score(X_train, y_train)\n",
    "    test_score = ols.score(X_test, y_test)\n",
    "    print(f\"train score = {train_score}\")\n",
    "    print(f\"test score = {test_score}\")\n",
    "    return ols"
   ]
  },
  {
   "cell_type": "code",
   "execution_count": 63,
   "metadata": {},
   "outputs": [
    {
     "name": "stdout",
     "output_type": "stream",
     "text": [
      "train score = 0.710075170915688\n",
      "test score = 0.6864462195669506\n"
     ]
    },
    {
     "data": {
      "text/plain": [
       "LinearRegression(copy_X=True, fit_intercept=False, n_jobs=None, normalize=False)"
      ]
     },
     "execution_count": 63,
     "metadata": {},
     "output_type": "execute_result"
    }
   ],
   "source": [
    "make_ols_sklearn(X, y)"
   ]
  },
  {
   "cell_type": "code",
   "execution_count": 64,
   "metadata": {},
   "outputs": [
    {
     "name": "stdout",
     "output_type": "stream",
     "text": [
      "train score = 0.7036966333732857\n",
      "test score = 0.7115197483003837\n"
     ]
    },
    {
     "data": {
      "text/plain": [
       "LinearRegression(copy_X=True, fit_intercept=False, n_jobs=None, normalize=False)"
      ]
     },
     "execution_count": 64,
     "metadata": {},
     "output_type": "execute_result"
    }
   ],
   "source": [
    "make_ols_sklearn(X, y)"
   ]
  },
  {
   "cell_type": "code",
   "execution_count": 65,
   "metadata": {},
   "outputs": [
    {
     "name": "stdout",
     "output_type": "stream",
     "text": [
      "train score = 0.7042241866634101\n",
      "test score = 0.7093284346498551\n"
     ]
    },
    {
     "data": {
      "text/plain": [
       "LinearRegression(copy_X=True, fit_intercept=False, n_jobs=None, normalize=False)"
      ]
     },
     "execution_count": 65,
     "metadata": {},
     "output_type": "execute_result"
    }
   ],
   "source": [
    "make_ols_sklearn(X, y)"
   ]
  },
  {
   "cell_type": "code",
   "execution_count": 66,
   "metadata": {},
   "outputs": [],
   "source": [
    "residuals = model.resid\n",
    "resid = pd.DataFrame(df['price'])\n",
    "resid['residuals']  = residuals"
   ]
  },
  {
   "cell_type": "code",
   "execution_count": 67,
   "metadata": {},
   "outputs": [],
   "source": [
    "import seaborn as sns"
   ]
  },
  {
   "cell_type": "code",
   "execution_count": 68,
   "metadata": {},
   "outputs": [
    {
     "data": {
      "text/plain": [
       "<matplotlib.axes._subplots.AxesSubplot at 0x1c2c6c8470>"
      ]
     },
     "execution_count": 68,
     "metadata": {},
     "output_type": "execute_result"
    },
    {
     "data": {
      "image/png": "[encoded data removed]",
      "text/plain": [
       "<Figure size 720x720 with 1 Axes>"
      ]
     },
     "metadata": {
      "needs_background": "light"
     },
     "output_type": "display_data"
    }
   ],
   "source": [
    "plt.figure(figsize= (10,10))\n",
    "\n",
    "sns.scatterplot(y='residuals',x='price',data=resid)"
   ]
  },
  {
   "cell_type": "code",
   "execution_count": null,
   "metadata": {},
   "outputs": [],
   "source": []
  }
 ],
 "metadata": {
  "kernelspec": {
   "display_name": "Python [conda env:learn-env] *",
   "language": "python",
   "name": "conda-env-learn-env-py"
  },
  "language_info": {
   "codemirror_mode": {
    "name": "ipython",
    "version": 3
   },
   "file_extension": ".py",
   "mimetype": "text/x-python",
   "name": "python",
   "nbconvert_exporter": "python",
   "pygments_lexer": "ipython3",
   "version": "3.6.9"
  }
 },
 "nbformat": 4,
 "nbformat_minor": 2
}
