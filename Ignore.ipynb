{
 "cells": [
  {
   "cell_type": "code",
   "execution_count": 70,
   "metadata": {},
   "outputs": [],
   "source": [
    "import numpy as np\n",
    "import pandas as pd\n",
    "import statsmodels.api as sm\n",
    "import scipy.stats as scs\n",
    "\n",
    "import matplotlib.pyplot as plt\n",
    "import seaborn as sns\n",
    "\n",
    "import matplotlib.pyplot as plt\n",
    "%matplotlib inline\n"
   ]
  },
  {
   "cell_type": "code",
   "execution_count": 71,
   "metadata": {},
   "outputs": [],
   "source": [
    "df = pd.read_csv('datawithnewcols.csv',index_col = 0)"
   ]
  },
  {
   "cell_type": "code",
   "execution_count": 72,
   "metadata": {},
   "outputs": [
    {
     "data": {
      "text/html": [
       "<div>\n",
       "<style scoped>\n",
       "    .dataframe tbody tr th:only-of-type {\n",
       "        vertical-align: middle;\n",
       "    }\n",
       "\n",
       "    .dataframe tbody tr th {\n",
       "        vertical-align: top;\n",
       "    }\n",
       "\n",
       "    .dataframe thead th {\n",
       "        text-align: right;\n",
       "    }\n",
       "</style>\n",
       "<table border=\"1\" class=\"dataframe\">\n",
       "  <thead>\n",
       "    <tr style=\"text-align: right;\">\n",
       "      <th></th>\n",
       "      <th>id</th>\n",
       "      <th>date</th>\n",
       "      <th>price</th>\n",
       "      <th>bedrooms</th>\n",
       "      <th>bathrooms</th>\n",
       "      <th>sqft_living</th>\n",
       "      <th>sqft_lot</th>\n",
       "      <th>floors</th>\n",
       "      <th>waterfront</th>\n",
       "      <th>view</th>\n",
       "      <th>...</th>\n",
       "      <th>sqft_lot15</th>\n",
       "      <th>Age_of_House</th>\n",
       "      <th>Years_last_renovation</th>\n",
       "      <th>basement</th>\n",
       "      <th>biggerliving</th>\n",
       "      <th>biggerlot</th>\n",
       "      <th>distance_from_seattle</th>\n",
       "      <th>distance_from_bellevue</th>\n",
       "      <th>distance_from_a_city</th>\n",
       "      <th>distance_from_airport</th>\n",
       "    </tr>\n",
       "  </thead>\n",
       "  <tbody>\n",
       "    <tr>\n",
       "      <td>0</td>\n",
       "      <td>6414100192</td>\n",
       "      <td>2014-12-09</td>\n",
       "      <td>538000.0</td>\n",
       "      <td>3</td>\n",
       "      <td>2.25</td>\n",
       "      <td>2570</td>\n",
       "      <td>7242</td>\n",
       "      <td>2.0</td>\n",
       "      <td>0.0</td>\n",
       "      <td>0.0</td>\n",
       "      <td>...</td>\n",
       "      <td>7639</td>\n",
       "      <td>69</td>\n",
       "      <td>29</td>\n",
       "      <td>1</td>\n",
       "      <td>1</td>\n",
       "      <td>0</td>\n",
       "      <td>12.613856</td>\n",
       "      <td>15.150174</td>\n",
       "      <td>12.613856</td>\n",
       "      <td>30.859494</td>\n",
       "    </tr>\n",
       "    <tr>\n",
       "      <td>1</td>\n",
       "      <td>5631500400</td>\n",
       "      <td>2015-02-25</td>\n",
       "      <td>180000.0</td>\n",
       "      <td>2</td>\n",
       "      <td>1.00</td>\n",
       "      <td>770</td>\n",
       "      <td>10000</td>\n",
       "      <td>1.0</td>\n",
       "      <td>0.0</td>\n",
       "      <td>0.0</td>\n",
       "      <td>...</td>\n",
       "      <td>8062</td>\n",
       "      <td>87</td>\n",
       "      <td>87</td>\n",
       "      <td>0</td>\n",
       "      <td>0</td>\n",
       "      <td>1</td>\n",
       "      <td>16.333282</td>\n",
       "      <td>14.375822</td>\n",
       "      <td>14.375822</td>\n",
       "      <td>33.112379</td>\n",
       "    </tr>\n",
       "    <tr>\n",
       "      <td>2</td>\n",
       "      <td>2487200875</td>\n",
       "      <td>2014-12-09</td>\n",
       "      <td>604000.0</td>\n",
       "      <td>4</td>\n",
       "      <td>3.00</td>\n",
       "      <td>1960</td>\n",
       "      <td>5000</td>\n",
       "      <td>1.0</td>\n",
       "      <td>0.0</td>\n",
       "      <td>0.0</td>\n",
       "      <td>...</td>\n",
       "      <td>5000</td>\n",
       "      <td>55</td>\n",
       "      <td>55</td>\n",
       "      <td>1</td>\n",
       "      <td>1</td>\n",
       "      <td>0</td>\n",
       "      <td>10.617501</td>\n",
       "      <td>17.522706</td>\n",
       "      <td>10.617501</td>\n",
       "      <td>10.988905</td>\n",
       "    </tr>\n",
       "    <tr>\n",
       "      <td>3</td>\n",
       "      <td>1954400510</td>\n",
       "      <td>2015-02-18</td>\n",
       "      <td>510000.0</td>\n",
       "      <td>3</td>\n",
       "      <td>2.00</td>\n",
       "      <td>1680</td>\n",
       "      <td>8080</td>\n",
       "      <td>1.0</td>\n",
       "      <td>0.0</td>\n",
       "      <td>0.0</td>\n",
       "      <td>...</td>\n",
       "      <td>7503</td>\n",
       "      <td>33</td>\n",
       "      <td>33</td>\n",
       "      <td>0</td>\n",
       "      <td>0</td>\n",
       "      <td>1</td>\n",
       "      <td>21.759524</td>\n",
       "      <td>11.683886</td>\n",
       "      <td>11.683886</td>\n",
       "      <td>27.230991</td>\n",
       "    </tr>\n",
       "    <tr>\n",
       "      <td>4</td>\n",
       "      <td>7237550310</td>\n",
       "      <td>2014-05-12</td>\n",
       "      <td>1230000.0</td>\n",
       "      <td>4</td>\n",
       "      <td>4.50</td>\n",
       "      <td>5420</td>\n",
       "      <td>101930</td>\n",
       "      <td>1.0</td>\n",
       "      <td>0.0</td>\n",
       "      <td>0.0</td>\n",
       "      <td>...</td>\n",
       "      <td>101930</td>\n",
       "      <td>19</td>\n",
       "      <td>19</td>\n",
       "      <td>1</td>\n",
       "      <td>1</td>\n",
       "      <td>0</td>\n",
       "      <td>25.295727</td>\n",
       "      <td>15.508940</td>\n",
       "      <td>15.508940</td>\n",
       "      <td>32.449837</td>\n",
       "    </tr>\n",
       "  </tbody>\n",
       "</table>\n",
       "<p>5 rows × 30 columns</p>\n",
       "</div>"
      ],
      "text/plain": [
       "           id        date      price  bedrooms  bathrooms  sqft_living  \\\n",
       "0  6414100192  2014-12-09   538000.0         3       2.25         2570   \n",
       "1  5631500400  2015-02-25   180000.0         2       1.00          770   \n",
       "2  2487200875  2014-12-09   604000.0         4       3.00         1960   \n",
       "3  1954400510  2015-02-18   510000.0         3       2.00         1680   \n",
       "4  7237550310  2014-05-12  1230000.0         4       4.50         5420   \n",
       "\n",
       "   sqft_lot  floors  waterfront  view  ...  sqft_lot15  Age_of_House  \\\n",
       "0      7242     2.0         0.0   0.0  ...        7639            69   \n",
       "1     10000     1.0         0.0   0.0  ...        8062            87   \n",
       "2      5000     1.0         0.0   0.0  ...        5000            55   \n",
       "3      8080     1.0         0.0   0.0  ...        7503            33   \n",
       "4    101930     1.0         0.0   0.0  ...      101930            19   \n",
       "\n",
       "   Years_last_renovation  basement  biggerliving  biggerlot  \\\n",
       "0                     29         1             1          0   \n",
       "1                     87         0             0          1   \n",
       "2                     55         1             1          0   \n",
       "3                     33         0             0          1   \n",
       "4                     19         1             1          0   \n",
       "\n",
       "   distance_from_seattle  distance_from_bellevue  distance_from_a_city  \\\n",
       "0              12.613856               15.150174             12.613856   \n",
       "1              16.333282               14.375822             14.375822   \n",
       "2              10.617501               17.522706             10.617501   \n",
       "3              21.759524               11.683886             11.683886   \n",
       "4              25.295727               15.508940             15.508940   \n",
       "\n",
       "   distance_from_airport  \n",
       "0              30.859494  \n",
       "1              33.112379  \n",
       "2              10.988905  \n",
       "3              27.230991  \n",
       "4              32.449837  \n",
       "\n",
       "[5 rows x 30 columns]"
      ]
     },
     "execution_count": 72,
     "metadata": {},
     "output_type": "execute_result"
    }
   ],
   "source": [
    "df.head()"
   ]
  },
  {
   "cell_type": "code",
   "execution_count": 73,
   "metadata": {},
   "outputs": [
    {
     "data": {
      "text/plain": [
       "(19221, 30)"
      ]
     },
     "execution_count": 73,
     "metadata": {},
     "output_type": "execute_result"
    }
   ],
   "source": [
    "df.shape"
   ]
  },
  {
   "cell_type": "code",
   "execution_count": 74,
   "metadata": {},
   "outputs": [
    {
     "data": {
      "text/plain": [
       "Index(['id', 'date', 'price', 'bedrooms', 'bathrooms', 'sqft_living',\n",
       "       'sqft_lot', 'floors', 'waterfront', 'view', 'condition', 'grade',\n",
       "       'sqft_above', 'sqft_basement', 'yr_built', 'yr_renovated', 'zipcode',\n",
       "       'lat', 'long', 'sqft_living15', 'sqft_lot15', 'Age_of_House',\n",
       "       'Years_last_renovation', 'basement', 'biggerliving', 'biggerlot',\n",
       "       'distance_from_seattle', 'distance_from_bellevue',\n",
       "       'distance_from_a_city', 'distance_from_airport'],\n",
       "      dtype='object')"
      ]
     },
     "execution_count": 74,
     "metadata": {},
     "output_type": "execute_result"
    }
   ],
   "source": [
    "df.columns"
   ]
  },
  {
   "cell_type": "code",
   "execution_count": 75,
   "metadata": {},
   "outputs": [
    {
     "data": {
      "text/plain": [
       "0        2.0\n",
       "1        1.0\n",
       "2        1.0\n",
       "3        1.0\n",
       "4        1.0\n",
       "        ... \n",
       "19216    2.0\n",
       "19217    3.0\n",
       "19218    2.0\n",
       "19219    2.0\n",
       "19220    2.0\n",
       "Name: floors, Length: 19221, dtype: float64"
      ]
     },
     "execution_count": 75,
     "metadata": {},
     "output_type": "execute_result"
    }
   ],
   "source": [
    "df.floors"
   ]
  },
  {
   "cell_type": "code",
   "execution_count": 76,
   "metadata": {},
   "outputs": [
    {
     "data": {
      "text/plain": [
       "1.0    9493\n",
       "2.0    7350\n",
       "1.5    1681\n",
       "3.0     546\n",
       "2.5     145\n",
       "3.5       6\n",
       "Name: floors, dtype: int64"
      ]
     },
     "execution_count": 76,
     "metadata": {},
     "output_type": "execute_result"
    }
   ],
   "source": [
    "df.floors.value_counts()"
   ]
  },
  {
   "cell_type": "code",
   "execution_count": 77,
   "metadata": {},
   "outputs": [],
   "source": [
    "categoricals = ['floors','view','condition','grade','waterfront','basement','zipcode']"
   ]
  },
  {
   "cell_type": "code",
   "execution_count": 78,
   "metadata": {},
   "outputs": [],
   "source": [
    "numericals = ['price',\n",
    " 'bedrooms',\n",
    " 'bathrooms',\n",
    " 'sqft_living',\n",
    " 'sqft_lot',\n",
    " 'sqft_living15',\n",
    " 'sqft_lot15',\n",
    " 'Age_of_House',\n",
    " 'Years_last_renovation',\n",
    " 'distance_from_a_city',\n",
    "       'distance_from_airport']"
   ]
  },
  {
   "cell_type": "code",
   "execution_count": 79,
   "metadata": {},
   "outputs": [
    {
     "name": "stdout",
     "output_type": "stream",
     "text": [
      "<class 'pandas.core.frame.DataFrame'>\n",
      "Int64Index: 19221 entries, 0 to 19220\n",
      "Data columns (total 11 columns):\n",
      "price                    19221 non-null float64\n",
      "bedrooms                 19221 non-null int64\n",
      "bathrooms                19221 non-null float64\n",
      "sqft_living              19221 non-null int64\n",
      "sqft_lot                 19221 non-null int64\n",
      "sqft_living15            19221 non-null int64\n",
      "sqft_lot15               19221 non-null int64\n",
      "Age_of_House             19221 non-null int64\n",
      "Years_last_renovation    19221 non-null int64\n",
      "distance_from_a_city     19221 non-null float64\n",
      "distance_from_airport    19221 non-null float64\n",
      "dtypes: float64(4), int64(7)\n",
      "memory usage: 1.8 MB\n"
     ]
    }
   ],
   "source": [
    "df[numericals].info()"
   ]
  },
  {
   "cell_type": "code",
   "execution_count": 80,
   "metadata": {},
   "outputs": [],
   "source": [
    "totransform = ['bathrooms','bedrooms','distance_from_a_city','sqft_lot']"
   ]
  },
  {
   "cell_type": "code",
   "execution_count": 81,
   "metadata": {},
   "outputs": [],
   "source": [
    "nottransform = ['Age_of_House','distance_from_airport','Years_last_renovation']"
   ]
  },
  {
   "cell_type": "code",
   "execution_count": 82,
   "metadata": {},
   "outputs": [
    {
     "data": {
      "text/html": [
       "<div>\n",
       "<style scoped>\n",
       "    .dataframe tbody tr th:only-of-type {\n",
       "        vertical-align: middle;\n",
       "    }\n",
       "\n",
       "    .dataframe tbody tr th {\n",
       "        vertical-align: top;\n",
       "    }\n",
       "\n",
       "    .dataframe thead th {\n",
       "        text-align: right;\n",
       "    }\n",
       "</style>\n",
       "<table border=\"1\" class=\"dataframe\">\n",
       "  <thead>\n",
       "    <tr style=\"text-align: right;\">\n",
       "      <th></th>\n",
       "      <th>bathrooms_log</th>\n",
       "      <th>bedrooms_log</th>\n",
       "      <th>distance_from_a_city_log</th>\n",
       "      <th>sqft_lot_log</th>\n",
       "    </tr>\n",
       "  </thead>\n",
       "  <tbody>\n",
       "    <tr>\n",
       "      <td>0</td>\n",
       "      <td>0.338160</td>\n",
       "      <td>-0.281249</td>\n",
       "      <td>0.030521</td>\n",
       "      <td>-0.115136</td>\n",
       "    </tr>\n",
       "    <tr>\n",
       "      <td>1</td>\n",
       "      <td>-1.728664</td>\n",
       "      <td>-1.713210</td>\n",
       "      <td>0.218200</td>\n",
       "      <td>0.242247</td>\n",
       "    </tr>\n",
       "    <tr>\n",
       "      <td>2</td>\n",
       "      <td>1.071378</td>\n",
       "      <td>0.734744</td>\n",
       "      <td>-0.216785</td>\n",
       "      <td>-0.525427</td>\n",
       "    </tr>\n",
       "    <tr>\n",
       "      <td>3</td>\n",
       "      <td>0.037966</td>\n",
       "      <td>-0.281249</td>\n",
       "      <td>-0.079409</td>\n",
       "      <td>0.006131</td>\n",
       "    </tr>\n",
       "    <tr>\n",
       "      <td>4</td>\n",
       "      <td>2.104790</td>\n",
       "      <td>0.734744</td>\n",
       "      <td>0.327101</td>\n",
       "      <td>2.813574</td>\n",
       "    </tr>\n",
       "    <tr>\n",
       "      <td>...</td>\n",
       "      <td>...</td>\n",
       "      <td>...</td>\n",
       "      <td>...</td>\n",
       "      <td>...</td>\n",
       "    </tr>\n",
       "    <tr>\n",
       "      <td>19216</td>\n",
       "      <td>0.606693</td>\n",
       "      <td>-0.281249</td>\n",
       "      <td>-0.920874</td>\n",
       "      <td>-2.022459</td>\n",
       "    </tr>\n",
       "    <tr>\n",
       "      <td>19217</td>\n",
       "      <td>0.606693</td>\n",
       "      <td>-0.281249</td>\n",
       "      <td>-0.277658</td>\n",
       "      <td>-2.171571</td>\n",
       "    </tr>\n",
       "    <tr>\n",
       "      <td>19218</td>\n",
       "      <td>0.606693</td>\n",
       "      <td>0.734744</td>\n",
       "      <td>-0.166045</td>\n",
       "      <td>-0.358569</td>\n",
       "    </tr>\n",
       "    <tr>\n",
       "      <td>19219</td>\n",
       "      <td>-2.461882</td>\n",
       "      <td>-1.713210</td>\n",
       "      <td>-1.982209</td>\n",
       "      <td>-1.975538</td>\n",
       "    </tr>\n",
       "    <tr>\n",
       "      <td>19220</td>\n",
       "      <td>-2.461882</td>\n",
       "      <td>-1.713210</td>\n",
       "      <td>-1.974648</td>\n",
       "      <td>-2.226783</td>\n",
       "    </tr>\n",
       "  </tbody>\n",
       "</table>\n",
       "<p>19221 rows × 4 columns</p>\n",
       "</div>"
      ],
      "text/plain": [
       "       bathrooms_log  bedrooms_log  distance_from_a_city_log  sqft_lot_log\n",
       "0           0.338160     -0.281249                  0.030521     -0.115136\n",
       "1          -1.728664     -1.713210                  0.218200      0.242247\n",
       "2           1.071378      0.734744                 -0.216785     -0.525427\n",
       "3           0.037966     -0.281249                 -0.079409      0.006131\n",
       "4           2.104790      0.734744                  0.327101      2.813574\n",
       "...              ...           ...                       ...           ...\n",
       "19216       0.606693     -0.281249                 -0.920874     -2.022459\n",
       "19217       0.606693     -0.281249                 -0.277658     -2.171571\n",
       "19218       0.606693      0.734744                 -0.166045     -0.358569\n",
       "19219      -2.461882     -1.713210                 -1.982209     -1.975538\n",
       "19220      -2.461882     -1.713210                 -1.974648     -2.226783\n",
       "\n",
       "[19221 rows x 4 columns]"
      ]
     },
     "execution_count": 82,
     "metadata": {},
     "output_type": "execute_result"
    }
   ],
   "source": [
    "data_log = pd.DataFrame([])\n",
    "for name in totransform:\n",
    "    title = name + '_log'\n",
    "    data_log[title] = df[name].map(lambda x: np.log(x))    \n",
    "data_log\n",
    "\n",
    "def normalize(feature):\n",
    "    return (feature - feature.mean()) / feature.std()\n",
    "\n",
    "data_log_norm = data_log.apply(normalize)\n",
    "data_log_norm"
   ]
  },
  {
   "cell_type": "code",
   "execution_count": 83,
   "metadata": {},
   "outputs": [],
   "source": [
    "floor_dummies = pd.get_dummies(df['floors'], prefix='floor', drop_first=True)\n",
    "view_dummies = pd.get_dummies(df['view'], prefix='view', drop_first=True)\n",
    "cond_dummies = pd.get_dummies(df['condition'], prefix='cond', drop_first=True)\n",
    "grade_dummies = pd.get_dummies(df['grade'], prefix='grade', drop_first=True)\n",
    "water_dummies = pd.get_dummies(df['waterfront'], prefix='water', drop_first=True)\n",
    "base_dummies = pd.get_dummies(df['basement'], prefix='base', drop_first=True)\n",
    "zipcode_dummies = pd.get_dummies(df['zipcode'],prefix='zip',drop_first=True)"
   ]
  },
  {
   "cell_type": "code",
   "execution_count": 84,
   "metadata": {},
   "outputs": [],
   "source": [
    "dfnew = pd.concat([data_log_norm,floor_dummies,view_dummies,cond_dummies,grade_dummies,water_dummies,base_dummies,zipcode_dummies],axis = 1)"
   ]
  },
  {
   "cell_type": "code",
   "execution_count": 85,
   "metadata": {},
   "outputs": [],
   "source": [
    "datanottransform = df[nottransform].apply(normalize)"
   ]
  },
  {
   "cell_type": "code",
   "execution_count": 86,
   "metadata": {},
   "outputs": [],
   "source": [
    "dfnew = pd.concat([dfnew,datanottransform],axis = 1)"
   ]
  },
  {
   "cell_type": "code",
   "execution_count": 91,
   "metadata": {},
   "outputs": [
    {
     "data": {
      "text/html": [
       "<div>\n",
       "<style scoped>\n",
       "    .dataframe tbody tr th:only-of-type {\n",
       "        vertical-align: middle;\n",
       "    }\n",
       "\n",
       "    .dataframe tbody tr th {\n",
       "        vertical-align: top;\n",
       "    }\n",
       "\n",
       "    .dataframe thead th {\n",
       "        text-align: right;\n",
       "    }\n",
       "</style>\n",
       "<table border=\"1\" class=\"dataframe\">\n",
       "  <thead>\n",
       "    <tr style=\"text-align: right;\">\n",
       "      <th></th>\n",
       "      <th>bathrooms_log</th>\n",
       "      <th>bedrooms_log</th>\n",
       "      <th>distance_from_a_city_log</th>\n",
       "      <th>sqft_lot_log</th>\n",
       "      <th>floor_1.5</th>\n",
       "      <th>floor_2.0</th>\n",
       "      <th>floor_2.5</th>\n",
       "      <th>floor_3.0</th>\n",
       "      <th>floor_3.5</th>\n",
       "      <th>view_1.0</th>\n",
       "      <th>...</th>\n",
       "      <th>zip_98168</th>\n",
       "      <th>zip_98177</th>\n",
       "      <th>zip_98178</th>\n",
       "      <th>zip_98188</th>\n",
       "      <th>zip_98198</th>\n",
       "      <th>zip_98199</th>\n",
       "      <th>Age_of_House</th>\n",
       "      <th>distance_from_airport</th>\n",
       "      <th>Years_last_renovation</th>\n",
       "      <th>price</th>\n",
       "    </tr>\n",
       "  </thead>\n",
       "  <tbody>\n",
       "    <tr>\n",
       "      <td>0</td>\n",
       "      <td>0.338160</td>\n",
       "      <td>-0.281249</td>\n",
       "      <td>0.030521</td>\n",
       "      <td>-0.115136</td>\n",
       "      <td>0</td>\n",
       "      <td>1</td>\n",
       "      <td>0</td>\n",
       "      <td>0</td>\n",
       "      <td>0</td>\n",
       "      <td>0</td>\n",
       "      <td>...</td>\n",
       "      <td>0</td>\n",
       "      <td>0</td>\n",
       "      <td>0</td>\n",
       "      <td>0</td>\n",
       "      <td>0</td>\n",
       "      <td>0</td>\n",
       "      <td>0.681982</td>\n",
       "      <td>0.961978</td>\n",
       "      <td>-0.622779</td>\n",
       "      <td>538000.0</td>\n",
       "    </tr>\n",
       "    <tr>\n",
       "      <td>1</td>\n",
       "      <td>-1.728664</td>\n",
       "      <td>-1.713210</td>\n",
       "      <td>0.218200</td>\n",
       "      <td>0.242247</td>\n",
       "      <td>0</td>\n",
       "      <td>0</td>\n",
       "      <td>0</td>\n",
       "      <td>0</td>\n",
       "      <td>0</td>\n",
       "      <td>0</td>\n",
       "      <td>...</td>\n",
       "      <td>0</td>\n",
       "      <td>0</td>\n",
       "      <td>0</td>\n",
       "      <td>0</td>\n",
       "      <td>0</td>\n",
       "      <td>0</td>\n",
       "      <td>1.294546</td>\n",
       "      <td>1.196583</td>\n",
       "      <td>1.379532</td>\n",
       "      <td>180000.0</td>\n",
       "    </tr>\n",
       "    <tr>\n",
       "      <td>2</td>\n",
       "      <td>1.071378</td>\n",
       "      <td>0.734744</td>\n",
       "      <td>-0.216785</td>\n",
       "      <td>-0.525427</td>\n",
       "      <td>0</td>\n",
       "      <td>0</td>\n",
       "      <td>0</td>\n",
       "      <td>0</td>\n",
       "      <td>0</td>\n",
       "      <td>0</td>\n",
       "      <td>...</td>\n",
       "      <td>0</td>\n",
       "      <td>0</td>\n",
       "      <td>0</td>\n",
       "      <td>0</td>\n",
       "      <td>0</td>\n",
       "      <td>0</td>\n",
       "      <td>0.205543</td>\n",
       "      <td>-1.107252</td>\n",
       "      <td>0.274809</td>\n",
       "      <td>604000.0</td>\n",
       "    </tr>\n",
       "    <tr>\n",
       "      <td>3</td>\n",
       "      <td>0.037966</td>\n",
       "      <td>-0.281249</td>\n",
       "      <td>-0.079409</td>\n",
       "      <td>0.006131</td>\n",
       "      <td>0</td>\n",
       "      <td>0</td>\n",
       "      <td>0</td>\n",
       "      <td>0</td>\n",
       "      <td>0</td>\n",
       "      <td>0</td>\n",
       "      <td>...</td>\n",
       "      <td>0</td>\n",
       "      <td>0</td>\n",
       "      <td>0</td>\n",
       "      <td>0</td>\n",
       "      <td>0</td>\n",
       "      <td>0</td>\n",
       "      <td>-0.543147</td>\n",
       "      <td>0.584123</td>\n",
       "      <td>-0.484689</td>\n",
       "      <td>510000.0</td>\n",
       "    </tr>\n",
       "    <tr>\n",
       "      <td>4</td>\n",
       "      <td>2.104790</td>\n",
       "      <td>0.734744</td>\n",
       "      <td>0.327101</td>\n",
       "      <td>2.813574</td>\n",
       "      <td>0</td>\n",
       "      <td>0</td>\n",
       "      <td>0</td>\n",
       "      <td>0</td>\n",
       "      <td>0</td>\n",
       "      <td>0</td>\n",
       "      <td>...</td>\n",
       "      <td>0</td>\n",
       "      <td>0</td>\n",
       "      <td>0</td>\n",
       "      <td>0</td>\n",
       "      <td>0</td>\n",
       "      <td>0</td>\n",
       "      <td>-1.019586</td>\n",
       "      <td>1.127589</td>\n",
       "      <td>-0.968005</td>\n",
       "      <td>1230000.0</td>\n",
       "    </tr>\n",
       "  </tbody>\n",
       "</table>\n",
       "<p>5 rows × 102 columns</p>\n",
       "</div>"
      ],
      "text/plain": [
       "   bathrooms_log  bedrooms_log  distance_from_a_city_log  sqft_lot_log  \\\n",
       "0       0.338160     -0.281249                  0.030521     -0.115136   \n",
       "1      -1.728664     -1.713210                  0.218200      0.242247   \n",
       "2       1.071378      0.734744                 -0.216785     -0.525427   \n",
       "3       0.037966     -0.281249                 -0.079409      0.006131   \n",
       "4       2.104790      0.734744                  0.327101      2.813574   \n",
       "\n",
       "   floor_1.5  floor_2.0  floor_2.5  floor_3.0  floor_3.5  view_1.0  ...  \\\n",
       "0          0          1          0          0          0         0  ...   \n",
       "1          0          0          0          0          0         0  ...   \n",
       "2          0          0          0          0          0         0  ...   \n",
       "3          0          0          0          0          0         0  ...   \n",
       "4          0          0          0          0          0         0  ...   \n",
       "\n",
       "   zip_98168  zip_98177  zip_98178  zip_98188  zip_98198  zip_98199  \\\n",
       "0          0          0          0          0          0          0   \n",
       "1          0          0          0          0          0          0   \n",
       "2          0          0          0          0          0          0   \n",
       "3          0          0          0          0          0          0   \n",
       "4          0          0          0          0          0          0   \n",
       "\n",
       "   Age_of_House  distance_from_airport  Years_last_renovation      price  \n",
       "0      0.681982               0.961978              -0.622779   538000.0  \n",
       "1      1.294546               1.196583               1.379532   180000.0  \n",
       "2      0.205543              -1.107252               0.274809   604000.0  \n",
       "3     -0.543147               0.584123              -0.484689   510000.0  \n",
       "4     -1.019586               1.127589              -0.968005  1230000.0  \n",
       "\n",
       "[5 rows x 102 columns]"
      ]
     },
     "execution_count": 91,
     "metadata": {},
     "output_type": "execute_result"
    }
   ],
   "source": [
    "dfnew.head()"
   ]
  },
  {
   "cell_type": "code",
   "execution_count": 88,
   "metadata": {},
   "outputs": [],
   "source": [
    "dfnew['price'] = df.price"
   ]
  },
  {
   "cell_type": "code",
   "execution_count": 89,
   "metadata": {},
   "outputs": [
    {
     "data": {
      "text/html": [
       "<div>\n",
       "<style scoped>\n",
       "    .dataframe tbody tr th:only-of-type {\n",
       "        vertical-align: middle;\n",
       "    }\n",
       "\n",
       "    .dataframe tbody tr th {\n",
       "        vertical-align: top;\n",
       "    }\n",
       "\n",
       "    .dataframe thead th {\n",
       "        text-align: right;\n",
       "    }\n",
       "</style>\n",
       "<table border=\"1\" class=\"dataframe\">\n",
       "  <thead>\n",
       "    <tr style=\"text-align: right;\">\n",
       "      <th></th>\n",
       "      <th>bathrooms_log</th>\n",
       "      <th>bedrooms_log</th>\n",
       "      <th>distance_from_a_city_log</th>\n",
       "      <th>sqft_lot_log</th>\n",
       "      <th>floor_1.5</th>\n",
       "      <th>floor_2.0</th>\n",
       "      <th>floor_2.5</th>\n",
       "      <th>floor_3.0</th>\n",
       "      <th>floor_3.5</th>\n",
       "      <th>view_1.0</th>\n",
       "      <th>...</th>\n",
       "      <th>zip_98168</th>\n",
       "      <th>zip_98177</th>\n",
       "      <th>zip_98178</th>\n",
       "      <th>zip_98188</th>\n",
       "      <th>zip_98198</th>\n",
       "      <th>zip_98199</th>\n",
       "      <th>Age_of_House</th>\n",
       "      <th>distance_from_airport</th>\n",
       "      <th>Years_last_renovation</th>\n",
       "      <th>price</th>\n",
       "    </tr>\n",
       "  </thead>\n",
       "  <tbody>\n",
       "    <tr>\n",
       "      <td>0</td>\n",
       "      <td>0.338160</td>\n",
       "      <td>-0.281249</td>\n",
       "      <td>0.030521</td>\n",
       "      <td>-0.115136</td>\n",
       "      <td>0</td>\n",
       "      <td>1</td>\n",
       "      <td>0</td>\n",
       "      <td>0</td>\n",
       "      <td>0</td>\n",
       "      <td>0</td>\n",
       "      <td>...</td>\n",
       "      <td>0</td>\n",
       "      <td>0</td>\n",
       "      <td>0</td>\n",
       "      <td>0</td>\n",
       "      <td>0</td>\n",
       "      <td>0</td>\n",
       "      <td>0.681982</td>\n",
       "      <td>0.961978</td>\n",
       "      <td>-0.622779</td>\n",
       "      <td>538000.0</td>\n",
       "    </tr>\n",
       "    <tr>\n",
       "      <td>1</td>\n",
       "      <td>-1.728664</td>\n",
       "      <td>-1.713210</td>\n",
       "      <td>0.218200</td>\n",
       "      <td>0.242247</td>\n",
       "      <td>0</td>\n",
       "      <td>0</td>\n",
       "      <td>0</td>\n",
       "      <td>0</td>\n",
       "      <td>0</td>\n",
       "      <td>0</td>\n",
       "      <td>...</td>\n",
       "      <td>0</td>\n",
       "      <td>0</td>\n",
       "      <td>0</td>\n",
       "      <td>0</td>\n",
       "      <td>0</td>\n",
       "      <td>0</td>\n",
       "      <td>1.294546</td>\n",
       "      <td>1.196583</td>\n",
       "      <td>1.379532</td>\n",
       "      <td>180000.0</td>\n",
       "    </tr>\n",
       "    <tr>\n",
       "      <td>2</td>\n",
       "      <td>1.071378</td>\n",
       "      <td>0.734744</td>\n",
       "      <td>-0.216785</td>\n",
       "      <td>-0.525427</td>\n",
       "      <td>0</td>\n",
       "      <td>0</td>\n",
       "      <td>0</td>\n",
       "      <td>0</td>\n",
       "      <td>0</td>\n",
       "      <td>0</td>\n",
       "      <td>...</td>\n",
       "      <td>0</td>\n",
       "      <td>0</td>\n",
       "      <td>0</td>\n",
       "      <td>0</td>\n",
       "      <td>0</td>\n",
       "      <td>0</td>\n",
       "      <td>0.205543</td>\n",
       "      <td>-1.107252</td>\n",
       "      <td>0.274809</td>\n",
       "      <td>604000.0</td>\n",
       "    </tr>\n",
       "    <tr>\n",
       "      <td>3</td>\n",
       "      <td>0.037966</td>\n",
       "      <td>-0.281249</td>\n",
       "      <td>-0.079409</td>\n",
       "      <td>0.006131</td>\n",
       "      <td>0</td>\n",
       "      <td>0</td>\n",
       "      <td>0</td>\n",
       "      <td>0</td>\n",
       "      <td>0</td>\n",
       "      <td>0</td>\n",
       "      <td>...</td>\n",
       "      <td>0</td>\n",
       "      <td>0</td>\n",
       "      <td>0</td>\n",
       "      <td>0</td>\n",
       "      <td>0</td>\n",
       "      <td>0</td>\n",
       "      <td>-0.543147</td>\n",
       "      <td>0.584123</td>\n",
       "      <td>-0.484689</td>\n",
       "      <td>510000.0</td>\n",
       "    </tr>\n",
       "    <tr>\n",
       "      <td>4</td>\n",
       "      <td>2.104790</td>\n",
       "      <td>0.734744</td>\n",
       "      <td>0.327101</td>\n",
       "      <td>2.813574</td>\n",
       "      <td>0</td>\n",
       "      <td>0</td>\n",
       "      <td>0</td>\n",
       "      <td>0</td>\n",
       "      <td>0</td>\n",
       "      <td>0</td>\n",
       "      <td>...</td>\n",
       "      <td>0</td>\n",
       "      <td>0</td>\n",
       "      <td>0</td>\n",
       "      <td>0</td>\n",
       "      <td>0</td>\n",
       "      <td>0</td>\n",
       "      <td>-1.019586</td>\n",
       "      <td>1.127589</td>\n",
       "      <td>-0.968005</td>\n",
       "      <td>1230000.0</td>\n",
       "    </tr>\n",
       "  </tbody>\n",
       "</table>\n",
       "<p>5 rows × 102 columns</p>\n",
       "</div>"
      ],
      "text/plain": [
       "   bathrooms_log  bedrooms_log  distance_from_a_city_log  sqft_lot_log  \\\n",
       "0       0.338160     -0.281249                  0.030521     -0.115136   \n",
       "1      -1.728664     -1.713210                  0.218200      0.242247   \n",
       "2       1.071378      0.734744                 -0.216785     -0.525427   \n",
       "3       0.037966     -0.281249                 -0.079409      0.006131   \n",
       "4       2.104790      0.734744                  0.327101      2.813574   \n",
       "\n",
       "   floor_1.5  floor_2.0  floor_2.5  floor_3.0  floor_3.5  view_1.0  ...  \\\n",
       "0          0          1          0          0          0         0  ...   \n",
       "1          0          0          0          0          0         0  ...   \n",
       "2          0          0          0          0          0         0  ...   \n",
       "3          0          0          0          0          0         0  ...   \n",
       "4          0          0          0          0          0         0  ...   \n",
       "\n",
       "   zip_98168  zip_98177  zip_98178  zip_98188  zip_98198  zip_98199  \\\n",
       "0          0          0          0          0          0          0   \n",
       "1          0          0          0          0          0          0   \n",
       "2          0          0          0          0          0          0   \n",
       "3          0          0          0          0          0          0   \n",
       "4          0          0          0          0          0          0   \n",
       "\n",
       "   Age_of_House  distance_from_airport  Years_last_renovation      price  \n",
       "0      0.681982               0.961978              -0.622779   538000.0  \n",
       "1      1.294546               1.196583               1.379532   180000.0  \n",
       "2      0.205543              -1.107252               0.274809   604000.0  \n",
       "3     -0.543147               0.584123              -0.484689   510000.0  \n",
       "4     -1.019586               1.127589              -0.968005  1230000.0  \n",
       "\n",
       "[5 rows x 102 columns]"
      ]
     },
     "execution_count": 89,
     "metadata": {},
     "output_type": "execute_result"
    }
   ],
   "source": [
    "dfnew.head()"
   ]
  },
  {
   "cell_type": "code",
   "execution_count": 105,
   "metadata": {},
   "outputs": [],
   "source": [
    "import statsmodels.api as sm\n",
    "from statsmodels.formula.api import ols"
   ]
  },
  {
   "cell_type": "code",
   "execution_count": 65,
   "metadata": {},
   "outputs": [],
   "source": [
    "modeldata = ['distance_from_a_city','distance_from_airport','sqft_living','sqft_lot']"
   ]
  },
  {
   "cell_type": "code",
   "execution_count": 54,
   "metadata": {},
   "outputs": [],
   "source": [
    "model2data = ['distance_from_a_city','Years_last_renovation','sqft_living','waterfront']"
   ]
  },
  {
   "cell_type": "code",
   "execution_count": 7,
   "metadata": {},
   "outputs": [],
   "source": [
    "df1 = df[modeldata]"
   ]
  },
  {
   "cell_type": "code",
   "execution_count": 37,
   "metadata": {},
   "outputs": [],
   "source": [
    "zipcode_dummies = pd.get_dummies(df['zipcode'],prefix='zip',drop_first=True)"
   ]
  },
  {
   "cell_type": "code",
   "execution_count": 39,
   "metadata": {},
   "outputs": [],
   "source": [
    "df1= pd.concat([df[model2data],zipcode_dummies],axis = 1)"
   ]
  },
  {
   "cell_type": "code",
   "execution_count": 81,
   "metadata": {},
   "outputs": [
    {
     "data": {
      "text/html": [
       "<div>\n",
       "<style scoped>\n",
       "    .dataframe tbody tr th:only-of-type {\n",
       "        vertical-align: middle;\n",
       "    }\n",
       "\n",
       "    .dataframe tbody tr th {\n",
       "        vertical-align: top;\n",
       "    }\n",
       "\n",
       "    .dataframe thead th {\n",
       "        text-align: right;\n",
       "    }\n",
       "</style>\n",
       "<table border=\"1\" class=\"dataframe\">\n",
       "  <thead>\n",
       "    <tr style=\"text-align: right;\">\n",
       "      <th></th>\n",
       "      <th>distance_from_a_city_log</th>\n",
       "      <th>Age_of_House_log</th>\n",
       "      <th>bedrooms_log</th>\n",
       "    </tr>\n",
       "  </thead>\n",
       "  <tbody>\n",
       "    <tr>\n",
       "      <td>1</td>\n",
       "      <td>0.016928</td>\n",
       "      <td>0.769485</td>\n",
       "      <td>-0.269661</td>\n",
       "    </tr>\n",
       "    <tr>\n",
       "      <td>2</td>\n",
       "      <td>0.206141</td>\n",
       "      <td>1.080199</td>\n",
       "      <td>-1.717736</td>\n",
       "    </tr>\n",
       "    <tr>\n",
       "      <td>3</td>\n",
       "      <td>-0.232398</td>\n",
       "      <td>0.465511</td>\n",
       "      <td>0.757765</td>\n",
       "    </tr>\n",
       "    <tr>\n",
       "      <td>4</td>\n",
       "      <td>-0.093899</td>\n",
       "      <td>-0.219216</td>\n",
       "      <td>-0.269661</td>\n",
       "    </tr>\n",
       "    <tr>\n",
       "      <td>5</td>\n",
       "      <td>0.315932</td>\n",
       "      <td>-0.959226</td>\n",
       "      <td>0.757765</td>\n",
       "    </tr>\n",
       "    <tr>\n",
       "      <td>...</td>\n",
       "      <td>...</td>\n",
       "      <td>...</td>\n",
       "      <td>...</td>\n",
       "    </tr>\n",
       "    <tr>\n",
       "      <td>21591</td>\n",
       "      <td>-0.942240</td>\n",
       "      <td>-1.575198</td>\n",
       "      <td>-0.269661</td>\n",
       "    </tr>\n",
       "    <tr>\n",
       "      <td>21592</td>\n",
       "      <td>-0.293768</td>\n",
       "      <td>-1.691831</td>\n",
       "      <td>-0.269661</td>\n",
       "    </tr>\n",
       "    <tr>\n",
       "      <td>21593</td>\n",
       "      <td>-0.181243</td>\n",
       "      <td>-2.504315</td>\n",
       "      <td>0.757765</td>\n",
       "    </tr>\n",
       "    <tr>\n",
       "      <td>21594</td>\n",
       "      <td>-2.012248</td>\n",
       "      <td>-1.691831</td>\n",
       "      <td>-1.717736</td>\n",
       "    </tr>\n",
       "    <tr>\n",
       "      <td>21596</td>\n",
       "      <td>-2.004625</td>\n",
       "      <td>-1.575198</td>\n",
       "      <td>-1.717736</td>\n",
       "    </tr>\n",
       "  </tbody>\n",
       "</table>\n",
       "<p>19002 rows × 3 columns</p>\n",
       "</div>"
      ],
      "text/plain": [
       "       distance_from_a_city_log  Age_of_House_log  bedrooms_log\n",
       "1                      0.016928          0.769485     -0.269661\n",
       "2                      0.206141          1.080199     -1.717736\n",
       "3                     -0.232398          0.465511      0.757765\n",
       "4                     -0.093899         -0.219216     -0.269661\n",
       "5                      0.315932         -0.959226      0.757765\n",
       "...                         ...               ...           ...\n",
       "21591                 -0.942240         -1.575198     -0.269661\n",
       "21592                 -0.293768         -1.691831     -0.269661\n",
       "21593                 -0.181243         -2.504315      0.757765\n",
       "21594                 -2.012248         -1.691831     -1.717736\n",
       "21596                 -2.004625         -1.575198     -1.717736\n",
       "\n",
       "[19002 rows x 3 columns]"
      ]
     },
     "execution_count": 81,
     "metadata": {},
     "output_type": "execute_result"
    }
   ],
   "source": [
    "data_log = pd.DataFrame([])\n",
    "\n",
    "for name in modeldata:\n",
    "    title = name + '_log'\n",
    "    data_log[title] = df[name].map(lambda x: np.log(x))    \n",
    "data_log\n",
    "\n",
    "def normalize(feature):\n",
    "    return (feature - feature.mean()) / feature.std()\n",
    "\n",
    "data_log_norm = data_log.apply(normalize)\n",
    "data_log_norm"
   ]
  },
  {
   "cell_type": "code",
   "execution_count": null,
   "metadata": {},
   "outputs": [],
   "source": []
  },
  {
   "cell_type": "code",
   "execution_count": null,
   "metadata": {},
   "outputs": [],
   "source": []
  },
  {
   "cell_type": "code",
   "execution_count": 79,
   "metadata": {},
   "outputs": [],
   "source": [
    "X = data_log\n",
    "y = df['price']"
   ]
  },
  {
   "cell_type": "code",
   "execution_count": 40,
   "metadata": {},
   "outputs": [],
   "source": [
    "X = dfnew[mode]\n",
    "y = df['price']"
   ]
  },
  {
   "cell_type": "code",
   "execution_count": 55,
   "metadata": {},
   "outputs": [],
   "source": [
    "X = df[model2data]\n",
    "y = df['price']"
   ]
  },
  {
   "cell_type": "code",
   "execution_count": 90,
   "metadata": {},
   "outputs": [
    {
     "ename": "KeyError",
     "evalue": "\"['sqft_living', 'distance_from_a_city', 'sqft_lot'] not in index\"",
     "output_type": "error",
     "traceback": [
      "\u001b[0;31m---------------------------------------------------------------------------\u001b[0m",
      "\u001b[0;31mKeyError\u001b[0m                                  Traceback (most recent call last)",
      "\u001b[0;32m<ipython-input-90-0ca46dcb7a31>\u001b[0m in \u001b[0;36m<module>\u001b[0;34m\u001b[0m\n\u001b[0;32m----> 1\u001b[0;31m \u001b[0mX\u001b[0m \u001b[0;34m=\u001b[0m \u001b[0mdfnew\u001b[0m\u001b[0;34m[\u001b[0m\u001b[0mmodeldata\u001b[0m\u001b[0;34m]\u001b[0m\u001b[0;34m\u001b[0m\u001b[0;34m\u001b[0m\u001b[0m\n\u001b[0m\u001b[1;32m      2\u001b[0m \u001b[0my\u001b[0m \u001b[0;34m=\u001b[0m \u001b[0mdf\u001b[0m\u001b[0;34m[\u001b[0m\u001b[0;34m'price'\u001b[0m\u001b[0;34m]\u001b[0m\u001b[0;34m\u001b[0m\u001b[0;34m\u001b[0m\u001b[0m\n",
      "\u001b[0;32m/opt/anaconda3/envs/learn-env/lib/python3.6/site-packages/pandas/core/frame.py\u001b[0m in \u001b[0;36m__getitem__\u001b[0;34m(self, key)\u001b[0m\n\u001b[1;32m   2984\u001b[0m             \u001b[0;32mif\u001b[0m \u001b[0mis_iterator\u001b[0m\u001b[0;34m(\u001b[0m\u001b[0mkey\u001b[0m\u001b[0;34m)\u001b[0m\u001b[0;34m:\u001b[0m\u001b[0;34m\u001b[0m\u001b[0;34m\u001b[0m\u001b[0m\n\u001b[1;32m   2985\u001b[0m                 \u001b[0mkey\u001b[0m \u001b[0;34m=\u001b[0m \u001b[0mlist\u001b[0m\u001b[0;34m(\u001b[0m\u001b[0mkey\u001b[0m\u001b[0;34m)\u001b[0m\u001b[0;34m\u001b[0m\u001b[0;34m\u001b[0m\u001b[0m\n\u001b[0;32m-> 2986\u001b[0;31m             \u001b[0mindexer\u001b[0m \u001b[0;34m=\u001b[0m \u001b[0mself\u001b[0m\u001b[0;34m.\u001b[0m\u001b[0mloc\u001b[0m\u001b[0;34m.\u001b[0m\u001b[0m_convert_to_indexer\u001b[0m\u001b[0;34m(\u001b[0m\u001b[0mkey\u001b[0m\u001b[0;34m,\u001b[0m \u001b[0maxis\u001b[0m\u001b[0;34m=\u001b[0m\u001b[0;36m1\u001b[0m\u001b[0;34m,\u001b[0m \u001b[0mraise_missing\u001b[0m\u001b[0;34m=\u001b[0m\u001b[0;32mTrue\u001b[0m\u001b[0;34m)\u001b[0m\u001b[0;34m\u001b[0m\u001b[0;34m\u001b[0m\u001b[0m\n\u001b[0m\u001b[1;32m   2987\u001b[0m \u001b[0;34m\u001b[0m\u001b[0m\n\u001b[1;32m   2988\u001b[0m         \u001b[0;31m# take() does not accept boolean indexers\u001b[0m\u001b[0;34m\u001b[0m\u001b[0;34m\u001b[0m\u001b[0;34m\u001b[0m\u001b[0m\n",
      "\u001b[0;32m/opt/anaconda3/envs/learn-env/lib/python3.6/site-packages/pandas/core/indexing.py\u001b[0m in \u001b[0;36m_convert_to_indexer\u001b[0;34m(self, obj, axis, is_setter, raise_missing)\u001b[0m\n\u001b[1;32m   1283\u001b[0m                 \u001b[0;31m# When setting, missing keys are not allowed, even with .loc:\u001b[0m\u001b[0;34m\u001b[0m\u001b[0;34m\u001b[0m\u001b[0;34m\u001b[0m\u001b[0m\n\u001b[1;32m   1284\u001b[0m                 \u001b[0mkwargs\u001b[0m \u001b[0;34m=\u001b[0m \u001b[0;34m{\u001b[0m\u001b[0;34m\"raise_missing\"\u001b[0m\u001b[0;34m:\u001b[0m \u001b[0;32mTrue\u001b[0m \u001b[0;32mif\u001b[0m \u001b[0mis_setter\u001b[0m \u001b[0;32melse\u001b[0m \u001b[0mraise_missing\u001b[0m\u001b[0;34m}\u001b[0m\u001b[0;34m\u001b[0m\u001b[0;34m\u001b[0m\u001b[0m\n\u001b[0;32m-> 1285\u001b[0;31m                 \u001b[0;32mreturn\u001b[0m \u001b[0mself\u001b[0m\u001b[0;34m.\u001b[0m\u001b[0m_get_listlike_indexer\u001b[0m\u001b[0;34m(\u001b[0m\u001b[0mobj\u001b[0m\u001b[0;34m,\u001b[0m \u001b[0maxis\u001b[0m\u001b[0;34m,\u001b[0m \u001b[0;34m**\u001b[0m\u001b[0mkwargs\u001b[0m\u001b[0;34m)\u001b[0m\u001b[0;34m[\u001b[0m\u001b[0;36m1\u001b[0m\u001b[0;34m]\u001b[0m\u001b[0;34m\u001b[0m\u001b[0;34m\u001b[0m\u001b[0m\n\u001b[0m\u001b[1;32m   1286\u001b[0m         \u001b[0;32melse\u001b[0m\u001b[0;34m:\u001b[0m\u001b[0;34m\u001b[0m\u001b[0;34m\u001b[0m\u001b[0m\n\u001b[1;32m   1287\u001b[0m             \u001b[0;32mtry\u001b[0m\u001b[0;34m:\u001b[0m\u001b[0;34m\u001b[0m\u001b[0;34m\u001b[0m\u001b[0m\n",
      "\u001b[0;32m/opt/anaconda3/envs/learn-env/lib/python3.6/site-packages/pandas/core/indexing.py\u001b[0m in \u001b[0;36m_get_listlike_indexer\u001b[0;34m(self, key, axis, raise_missing)\u001b[0m\n\u001b[1;32m   1090\u001b[0m \u001b[0;34m\u001b[0m\u001b[0m\n\u001b[1;32m   1091\u001b[0m         self._validate_read_indexer(\n\u001b[0;32m-> 1092\u001b[0;31m             \u001b[0mkeyarr\u001b[0m\u001b[0;34m,\u001b[0m \u001b[0mindexer\u001b[0m\u001b[0;34m,\u001b[0m \u001b[0mo\u001b[0m\u001b[0;34m.\u001b[0m\u001b[0m_get_axis_number\u001b[0m\u001b[0;34m(\u001b[0m\u001b[0maxis\u001b[0m\u001b[0;34m)\u001b[0m\u001b[0;34m,\u001b[0m \u001b[0mraise_missing\u001b[0m\u001b[0;34m=\u001b[0m\u001b[0mraise_missing\u001b[0m\u001b[0;34m\u001b[0m\u001b[0;34m\u001b[0m\u001b[0m\n\u001b[0m\u001b[1;32m   1093\u001b[0m         )\n\u001b[1;32m   1094\u001b[0m         \u001b[0;32mreturn\u001b[0m \u001b[0mkeyarr\u001b[0m\u001b[0;34m,\u001b[0m \u001b[0mindexer\u001b[0m\u001b[0;34m\u001b[0m\u001b[0;34m\u001b[0m\u001b[0m\n",
      "\u001b[0;32m/opt/anaconda3/envs/learn-env/lib/python3.6/site-packages/pandas/core/indexing.py\u001b[0m in \u001b[0;36m_validate_read_indexer\u001b[0;34m(self, key, indexer, axis, raise_missing)\u001b[0m\n\u001b[1;32m   1183\u001b[0m             \u001b[0;32mif\u001b[0m \u001b[0;32mnot\u001b[0m \u001b[0;34m(\u001b[0m\u001b[0mself\u001b[0m\u001b[0;34m.\u001b[0m\u001b[0mname\u001b[0m \u001b[0;34m==\u001b[0m \u001b[0;34m\"loc\"\u001b[0m \u001b[0;32mand\u001b[0m \u001b[0;32mnot\u001b[0m \u001b[0mraise_missing\u001b[0m\u001b[0;34m)\u001b[0m\u001b[0;34m:\u001b[0m\u001b[0;34m\u001b[0m\u001b[0;34m\u001b[0m\u001b[0m\n\u001b[1;32m   1184\u001b[0m                 \u001b[0mnot_found\u001b[0m \u001b[0;34m=\u001b[0m \u001b[0mlist\u001b[0m\u001b[0;34m(\u001b[0m\u001b[0mset\u001b[0m\u001b[0;34m(\u001b[0m\u001b[0mkey\u001b[0m\u001b[0;34m)\u001b[0m \u001b[0;34m-\u001b[0m \u001b[0mset\u001b[0m\u001b[0;34m(\u001b[0m\u001b[0max\u001b[0m\u001b[0;34m)\u001b[0m\u001b[0;34m)\u001b[0m\u001b[0;34m\u001b[0m\u001b[0;34m\u001b[0m\u001b[0m\n\u001b[0;32m-> 1185\u001b[0;31m                 \u001b[0;32mraise\u001b[0m \u001b[0mKeyError\u001b[0m\u001b[0;34m(\u001b[0m\u001b[0;34m\"{} not in index\"\u001b[0m\u001b[0;34m.\u001b[0m\u001b[0mformat\u001b[0m\u001b[0;34m(\u001b[0m\u001b[0mnot_found\u001b[0m\u001b[0;34m)\u001b[0m\u001b[0;34m)\u001b[0m\u001b[0;34m\u001b[0m\u001b[0;34m\u001b[0m\u001b[0m\n\u001b[0m\u001b[1;32m   1186\u001b[0m \u001b[0;34m\u001b[0m\u001b[0m\n\u001b[1;32m   1187\u001b[0m             \u001b[0;31m# we skip the warning on Categorical/Interval\u001b[0m\u001b[0;34m\u001b[0m\u001b[0;34m\u001b[0m\u001b[0;34m\u001b[0m\u001b[0m\n",
      "\u001b[0;31mKeyError\u001b[0m: \"['sqft_living', 'distance_from_a_city', 'sqft_lot'] not in index\""
     ]
    }
   ],
   "source": [
    "X = dfnew[modeldata]\n",
    "y = df['price']"
   ]
  },
  {
   "cell_type": "code",
   "execution_count": 67,
   "metadata": {
    "scrolled": false
   },
   "outputs": [
    {
     "data": {
      "text/html": [
       "<table class=\"simpletable\">\n",
       "<caption>OLS Regression Results</caption>\n",
       "<tr>\n",
       "  <th>Dep. Variable:</th>          <td>price</td>      <th>  R-squared (uncentered):</th>       <td>   0.915</td>  \n",
       "</tr>\n",
       "<tr>\n",
       "  <th>Model:</th>                   <td>OLS</td>       <th>  Adj. R-squared (uncentered):</th>  <td>   0.915</td>  \n",
       "</tr>\n",
       "<tr>\n",
       "  <th>Method:</th>             <td>Least Squares</td>  <th>  F-statistic:       </th>           <td>5.137e+04</td> \n",
       "</tr>\n",
       "<tr>\n",
       "  <th>Date:</th>             <td>Mon, 01 Jun 2020</td> <th>  Prob (F-statistic):</th>            <td>  0.00</td>   \n",
       "</tr>\n",
       "<tr>\n",
       "  <th>Time:</th>                 <td>22:24:40</td>     <th>  Log-Likelihood:    </th>          <td>-2.5609e+05</td>\n",
       "</tr>\n",
       "<tr>\n",
       "  <th>No. Observations:</th>      <td> 19002</td>      <th>  AIC:               </th>           <td>5.122e+05</td> \n",
       "</tr>\n",
       "<tr>\n",
       "  <th>Df Residuals:</th>          <td> 18998</td>      <th>  BIC:               </th>           <td>5.122e+05</td> \n",
       "</tr>\n",
       "<tr>\n",
       "  <th>Df Model:</th>              <td>     4</td>      <th>                     </th>               <td> </td>     \n",
       "</tr>\n",
       "<tr>\n",
       "  <th>Covariance Type:</th>      <td>nonrobust</td>    <th>                     </th>               <td> </td>     \n",
       "</tr>\n",
       "</table>\n",
       "<table class=\"simpletable\">\n",
       "<tr>\n",
       "            <td></td>               <th>coef</th>     <th>std err</th>      <th>t</th>      <th>P>|t|</th>  <th>[0.025</th>    <th>0.975]</th>  \n",
       "</tr>\n",
       "<tr>\n",
       "  <th>distance_from_a_city</th>  <td>-1.082e+04</td> <td>  117.293</td> <td>  -92.247</td> <td> 0.000</td> <td> -1.1e+04</td> <td>-1.06e+04</td>\n",
       "</tr>\n",
       "<tr>\n",
       "  <th>distance_from_airport</th> <td> 7139.2132</td> <td>  111.762</td> <td>   63.879</td> <td> 0.000</td> <td> 6920.150</td> <td> 7358.277</td>\n",
       "</tr>\n",
       "<tr>\n",
       "  <th>sqft_living</th>           <td>  251.6047</td> <td>    1.176</td> <td>  213.996</td> <td> 0.000</td> <td>  249.300</td> <td>  253.909</td>\n",
       "</tr>\n",
       "<tr>\n",
       "  <th>sqft_lot</th>              <td>    0.2176</td> <td>    0.032</td> <td>    6.818</td> <td> 0.000</td> <td>    0.155</td> <td>    0.280</td>\n",
       "</tr>\n",
       "</table>\n",
       "<table class=\"simpletable\">\n",
       "<tr>\n",
       "  <th>Omnibus:</th>       <td>5212.833</td> <th>  Durbin-Watson:     </th> <td>   1.978</td> \n",
       "</tr>\n",
       "<tr>\n",
       "  <th>Prob(Omnibus):</th>  <td> 0.000</td>  <th>  Jarque-Bera (JB):  </th> <td>26686.699</td>\n",
       "</tr>\n",
       "<tr>\n",
       "  <th>Skew:</th>           <td> 1.233</td>  <th>  Prob(JB):          </th> <td>    0.00</td> \n",
       "</tr>\n",
       "<tr>\n",
       "  <th>Kurtosis:</th>       <td> 8.256</td>  <th>  Cond. No.          </th> <td>4.59e+03</td> \n",
       "</tr>\n",
       "</table><br/><br/>Warnings:<br/>[1] Standard Errors assume that the covariance matrix of the errors is correctly specified.<br/>[2] The condition number is large, 4.59e+03. This might indicate that there are<br/>strong multicollinearity or other numerical problems."
      ],
      "text/plain": [
       "<class 'statsmodels.iolib.summary.Summary'>\n",
       "\"\"\"\n",
       "                                 OLS Regression Results                                \n",
       "=======================================================================================\n",
       "Dep. Variable:                  price   R-squared (uncentered):                   0.915\n",
       "Model:                            OLS   Adj. R-squared (uncentered):              0.915\n",
       "Method:                 Least Squares   F-statistic:                          5.137e+04\n",
       "Date:                Mon, 01 Jun 2020   Prob (F-statistic):                        0.00\n",
       "Time:                        22:24:40   Log-Likelihood:                     -2.5609e+05\n",
       "No. Observations:               19002   AIC:                                  5.122e+05\n",
       "Df Residuals:                   18998   BIC:                                  5.122e+05\n",
       "Df Model:                           4                                                  \n",
       "Covariance Type:            nonrobust                                                  \n",
       "=========================================================================================\n",
       "                            coef    std err          t      P>|t|      [0.025      0.975]\n",
       "-----------------------------------------------------------------------------------------\n",
       "distance_from_a_city  -1.082e+04    117.293    -92.247      0.000    -1.1e+04   -1.06e+04\n",
       "distance_from_airport  7139.2132    111.762     63.879      0.000    6920.150    7358.277\n",
       "sqft_living             251.6047      1.176    213.996      0.000     249.300     253.909\n",
       "sqft_lot                  0.2176      0.032      6.818      0.000       0.155       0.280\n",
       "==============================================================================\n",
       "Omnibus:                     5212.833   Durbin-Watson:                   1.978\n",
       "Prob(Omnibus):                  0.000   Jarque-Bera (JB):            26686.699\n",
       "Skew:                           1.233   Prob(JB):                         0.00\n",
       "Kurtosis:                       8.256   Cond. No.                     4.59e+03\n",
       "==============================================================================\n",
       "\n",
       "Warnings:\n",
       "[1] Standard Errors assume that the covariance matrix of the errors is correctly specified.\n",
       "[2] The condition number is large, 4.59e+03. This might indicate that there are\n",
       "strong multicollinearity or other numerical problems.\n",
       "\"\"\""
      ]
     },
     "execution_count": 67,
     "metadata": {},
     "output_type": "execute_result"
    }
   ],
   "source": [
    "model = sm.OLS(y,X).fit()\n",
    "model.summary()"
   ]
  },
  {
   "cell_type": "code",
   "execution_count": 68,
   "metadata": {},
   "outputs": [
    {
     "name": "stdout",
     "output_type": "stream",
     "text": [
      "4 4\n",
      "['distance_from_a_city', 'distance_from_airport', 'sqft_living', 'sqft_lot']\n"
     ]
    },
    {
     "data": {
      "text/html": [
       "<div>\n",
       "<style scoped>\n",
       "    .dataframe tbody tr th:only-of-type {\n",
       "        vertical-align: middle;\n",
       "    }\n",
       "\n",
       "    .dataframe tbody tr th {\n",
       "        vertical-align: top;\n",
       "    }\n",
       "\n",
       "    .dataframe thead th {\n",
       "        text-align: right;\n",
       "    }\n",
       "</style>\n",
       "<table border=\"1\" class=\"dataframe\">\n",
       "  <thead>\n",
       "    <tr style=\"text-align: right;\">\n",
       "      <th></th>\n",
       "      <th>coef</th>\n",
       "      <th>std err</th>\n",
       "      <th>t</th>\n",
       "      <th>P&gt;|t|</th>\n",
       "      <th>[0.025</th>\n",
       "      <th>0.975]</th>\n",
       "    </tr>\n",
       "    <tr>\n",
       "      <th></th>\n",
       "      <th></th>\n",
       "      <th></th>\n",
       "      <th></th>\n",
       "      <th></th>\n",
       "      <th></th>\n",
       "      <th></th>\n",
       "    </tr>\n",
       "  </thead>\n",
       "  <tbody>\n",
       "    <tr>\n",
       "      <td>distance_from_a_city</td>\n",
       "      <td>-1.082e+04</td>\n",
       "      <td>117.293</td>\n",
       "      <td>-92.247</td>\n",
       "      <td>0.0</td>\n",
       "      <td>-1.1e+04</td>\n",
       "      <td>-1.06e+04</td>\n",
       "    </tr>\n",
       "    <tr>\n",
       "      <td>distance_from_airport</td>\n",
       "      <td>7139.2132</td>\n",
       "      <td>111.762</td>\n",
       "      <td>63.879</td>\n",
       "      <td>0.0</td>\n",
       "      <td>6920.150</td>\n",
       "      <td>7358.277</td>\n",
       "    </tr>\n",
       "    <tr>\n",
       "      <td>sqft_living</td>\n",
       "      <td>251.6047</td>\n",
       "      <td>1.176</td>\n",
       "      <td>213.996</td>\n",
       "      <td>0.0</td>\n",
       "      <td>249.300</td>\n",
       "      <td>253.909</td>\n",
       "    </tr>\n",
       "    <tr>\n",
       "      <td>sqft_lot</td>\n",
       "      <td>0.2176</td>\n",
       "      <td>0.032</td>\n",
       "      <td>6.818</td>\n",
       "      <td>0.0</td>\n",
       "      <td>0.155</td>\n",
       "      <td>0.280</td>\n",
       "    </tr>\n",
       "  </tbody>\n",
       "</table>\n",
       "</div>"
      ],
      "text/plain": [
       "0                            coef    std err          t  P>|t|     [0.025  \\\n",
       "                                                                            \n",
       "distance_from_a_city   -1.082e+04    117.293    -92.247    0.0   -1.1e+04   \n",
       "distance_from_airport   7139.2132    111.762     63.879    0.0   6920.150   \n",
       "sqft_living              251.6047      1.176    213.996    0.0    249.300   \n",
       "sqft_lot                   0.2176      0.032      6.818    0.0      0.155   \n",
       "\n",
       "0                         0.975]  \n",
       "                                  \n",
       "distance_from_a_city   -1.06e+04  \n",
       "distance_from_airport   7358.277  \n",
       "sqft_living              253.909  \n",
       "sqft_lot                   0.280  "
      ]
     },
     "execution_count": 68,
     "metadata": {},
     "output_type": "execute_result"
    }
   ],
   "source": [
    "# Your code here - Remove features which do not appear to be statistically relevant\n",
    "summary = model.summary()\n",
    "p_table = summary.tables[1]\n",
    "p_table = pd.DataFrame(p_table.data)\n",
    "p_table.columns = p_table.iloc[0]\n",
    "p_table = p_table.drop(0)\n",
    "p_table = p_table.set_index(p_table.columns[0])\n",
    "p_table['P>|t|'] = p_table['P>|t|'].astype(float)\n",
    "x_cols = list(p_table[p_table['P>|t|'] < 0.05].index)\n",
    "print(len(p_table), len(x_cols))\n",
    "print(x_cols[:5])\n",
    "p_table.head()"
   ]
  },
  {
   "cell_type": "code",
   "execution_count": 69,
   "metadata": {},
   "outputs": [],
   "source": [
    "X = df[x_cols]\n",
    "y= df['price']"
   ]
  },
  {
   "cell_type": "code",
   "execution_count": 70,
   "metadata": {
    "scrolled": false
   },
   "outputs": [
    {
     "data": {
      "text/html": [
       "<table class=\"simpletable\">\n",
       "<caption>OLS Regression Results</caption>\n",
       "<tr>\n",
       "  <th>Dep. Variable:</th>          <td>price</td>      <th>  R-squared (uncentered):</th>       <td>   0.915</td>  \n",
       "</tr>\n",
       "<tr>\n",
       "  <th>Model:</th>                   <td>OLS</td>       <th>  Adj. R-squared (uncentered):</th>  <td>   0.915</td>  \n",
       "</tr>\n",
       "<tr>\n",
       "  <th>Method:</th>             <td>Least Squares</td>  <th>  F-statistic:       </th>           <td>5.137e+04</td> \n",
       "</tr>\n",
       "<tr>\n",
       "  <th>Date:</th>             <td>Mon, 01 Jun 2020</td> <th>  Prob (F-statistic):</th>            <td>  0.00</td>   \n",
       "</tr>\n",
       "<tr>\n",
       "  <th>Time:</th>                 <td>22:24:48</td>     <th>  Log-Likelihood:    </th>          <td>-2.5609e+05</td>\n",
       "</tr>\n",
       "<tr>\n",
       "  <th>No. Observations:</th>      <td> 19002</td>      <th>  AIC:               </th>           <td>5.122e+05</td> \n",
       "</tr>\n",
       "<tr>\n",
       "  <th>Df Residuals:</th>          <td> 18998</td>      <th>  BIC:               </th>           <td>5.122e+05</td> \n",
       "</tr>\n",
       "<tr>\n",
       "  <th>Df Model:</th>              <td>     4</td>      <th>                     </th>               <td> </td>     \n",
       "</tr>\n",
       "<tr>\n",
       "  <th>Covariance Type:</th>      <td>nonrobust</td>    <th>                     </th>               <td> </td>     \n",
       "</tr>\n",
       "</table>\n",
       "<table class=\"simpletable\">\n",
       "<tr>\n",
       "            <td></td>               <th>coef</th>     <th>std err</th>      <th>t</th>      <th>P>|t|</th>  <th>[0.025</th>    <th>0.975]</th>  \n",
       "</tr>\n",
       "<tr>\n",
       "  <th>distance_from_a_city</th>  <td>-1.082e+04</td> <td>  117.293</td> <td>  -92.247</td> <td> 0.000</td> <td> -1.1e+04</td> <td>-1.06e+04</td>\n",
       "</tr>\n",
       "<tr>\n",
       "  <th>distance_from_airport</th> <td> 7139.2132</td> <td>  111.762</td> <td>   63.879</td> <td> 0.000</td> <td> 6920.150</td> <td> 7358.277</td>\n",
       "</tr>\n",
       "<tr>\n",
       "  <th>sqft_living</th>           <td>  251.6047</td> <td>    1.176</td> <td>  213.996</td> <td> 0.000</td> <td>  249.300</td> <td>  253.909</td>\n",
       "</tr>\n",
       "<tr>\n",
       "  <th>sqft_lot</th>              <td>    0.2176</td> <td>    0.032</td> <td>    6.818</td> <td> 0.000</td> <td>    0.155</td> <td>    0.280</td>\n",
       "</tr>\n",
       "</table>\n",
       "<table class=\"simpletable\">\n",
       "<tr>\n",
       "  <th>Omnibus:</th>       <td>5212.833</td> <th>  Durbin-Watson:     </th> <td>   1.978</td> \n",
       "</tr>\n",
       "<tr>\n",
       "  <th>Prob(Omnibus):</th>  <td> 0.000</td>  <th>  Jarque-Bera (JB):  </th> <td>26686.699</td>\n",
       "</tr>\n",
       "<tr>\n",
       "  <th>Skew:</th>           <td> 1.233</td>  <th>  Prob(JB):          </th> <td>    0.00</td> \n",
       "</tr>\n",
       "<tr>\n",
       "  <th>Kurtosis:</th>       <td> 8.256</td>  <th>  Cond. No.          </th> <td>4.59e+03</td> \n",
       "</tr>\n",
       "</table><br/><br/>Warnings:<br/>[1] Standard Errors assume that the covariance matrix of the errors is correctly specified.<br/>[2] The condition number is large, 4.59e+03. This might indicate that there are<br/>strong multicollinearity or other numerical problems."
      ],
      "text/plain": [
       "<class 'statsmodels.iolib.summary.Summary'>\n",
       "\"\"\"\n",
       "                                 OLS Regression Results                                \n",
       "=======================================================================================\n",
       "Dep. Variable:                  price   R-squared (uncentered):                   0.915\n",
       "Model:                            OLS   Adj. R-squared (uncentered):              0.915\n",
       "Method:                 Least Squares   F-statistic:                          5.137e+04\n",
       "Date:                Mon, 01 Jun 2020   Prob (F-statistic):                        0.00\n",
       "Time:                        22:24:48   Log-Likelihood:                     -2.5609e+05\n",
       "No. Observations:               19002   AIC:                                  5.122e+05\n",
       "Df Residuals:                   18998   BIC:                                  5.122e+05\n",
       "Df Model:                           4                                                  \n",
       "Covariance Type:            nonrobust                                                  \n",
       "=========================================================================================\n",
       "                            coef    std err          t      P>|t|      [0.025      0.975]\n",
       "-----------------------------------------------------------------------------------------\n",
       "distance_from_a_city  -1.082e+04    117.293    -92.247      0.000    -1.1e+04   -1.06e+04\n",
       "distance_from_airport  7139.2132    111.762     63.879      0.000    6920.150    7358.277\n",
       "sqft_living             251.6047      1.176    213.996      0.000     249.300     253.909\n",
       "sqft_lot                  0.2176      0.032      6.818      0.000       0.155       0.280\n",
       "==============================================================================\n",
       "Omnibus:                     5212.833   Durbin-Watson:                   1.978\n",
       "Prob(Omnibus):                  0.000   Jarque-Bera (JB):            26686.699\n",
       "Skew:                           1.233   Prob(JB):                         0.00\n",
       "Kurtosis:                       8.256   Cond. No.                     4.59e+03\n",
       "==============================================================================\n",
       "\n",
       "Warnings:\n",
       "[1] Standard Errors assume that the covariance matrix of the errors is correctly specified.\n",
       "[2] The condition number is large, 4.59e+03. This might indicate that there are\n",
       "strong multicollinearity or other numerical problems.\n",
       "\"\"\""
      ]
     },
     "execution_count": 70,
     "metadata": {},
     "output_type": "execute_result"
    }
   ],
   "source": [
    "model = sm.OLS(y,X).fit()\n",
    "model.summary()"
   ]
  },
  {
   "cell_type": "code",
   "execution_count": 71,
   "metadata": {},
   "outputs": [
    {
     "data": {
      "text/plain": [
       "[('distance_from_a_city', 2.9533972206227617),\n",
       " ('distance_from_airport', 4.4685870040166735),\n",
       " ('sqft_living', 4.348297162247787),\n",
       " ('sqft_lot', 1.2054124308902214)]"
      ]
     },
     "execution_count": 71,
     "metadata": {},
     "output_type": "execute_result"
    }
   ],
   "source": [
    "# Your code here - Code a way to identify multicollinearity\n",
    "from statsmodels.stats.outliers_influence import variance_inflation_factor\n",
    "X = df[x_cols]\n",
    "vif = [variance_inflation_factor(X.values,i) for i in range(X.shape[1])]\n",
    "list(zip(x_cols,vif))"
   ]
  },
  {
   "cell_type": "code",
   "execution_count": 49,
   "metadata": {},
   "outputs": [
    {
     "name": "stdout",
     "output_type": "stream",
     "text": [
      "4 4\n"
     ]
    }
   ],
   "source": [
    "vif_scores = list(zip(x_cols, vif))\n",
    "x_cols = [x for x,vif in vif_scores if vif < 5]\n",
    "print(len(vif_scores), len(x_cols))"
   ]
  },
  {
   "cell_type": "code",
   "execution_count": 50,
   "metadata": {},
   "outputs": [],
   "source": [
    "X = df[x_cols]"
   ]
  },
  {
   "cell_type": "code",
   "execution_count": 51,
   "metadata": {},
   "outputs": [
    {
     "data": {
      "text/html": [
       "<table class=\"simpletable\">\n",
       "<caption>OLS Regression Results</caption>\n",
       "<tr>\n",
       "  <th>Dep. Variable:</th>          <td>price</td>      <th>  R-squared (uncentered):</th>       <td>   0.914</td>  \n",
       "</tr>\n",
       "<tr>\n",
       "  <th>Model:</th>                   <td>OLS</td>       <th>  Adj. R-squared (uncentered):</th>  <td>   0.914</td>  \n",
       "</tr>\n",
       "<tr>\n",
       "  <th>Method:</th>             <td>Least Squares</td>  <th>  F-statistic:       </th>           <td>5.053e+04</td> \n",
       "</tr>\n",
       "<tr>\n",
       "  <th>Date:</th>             <td>Mon, 01 Jun 2020</td> <th>  Prob (F-statistic):</th>            <td>  0.00</td>   \n",
       "</tr>\n",
       "<tr>\n",
       "  <th>Time:</th>                 <td>22:22:00</td>     <th>  Log-Likelihood:    </th>          <td>-2.5624e+05</td>\n",
       "</tr>\n",
       "<tr>\n",
       "  <th>No. Observations:</th>      <td> 19002</td>      <th>  AIC:               </th>           <td>5.125e+05</td> \n",
       "</tr>\n",
       "<tr>\n",
       "  <th>Df Residuals:</th>          <td> 18998</td>      <th>  BIC:               </th>           <td>5.125e+05</td> \n",
       "</tr>\n",
       "<tr>\n",
       "  <th>Df Model:</th>              <td>     4</td>      <th>                     </th>               <td> </td>     \n",
       "</tr>\n",
       "<tr>\n",
       "  <th>Covariance Type:</th>      <td>nonrobust</td>    <th>                     </th>               <td> </td>     \n",
       "</tr>\n",
       "</table>\n",
       "<table class=\"simpletable\">\n",
       "<tr>\n",
       "            <td></td>              <th>coef</th>     <th>std err</th>      <th>t</th>      <th>P>|t|</th>  <th>[0.025</th>    <th>0.975]</th>  \n",
       "</tr>\n",
       "<tr>\n",
       "  <th>distance_from_a_city</th> <td>-9188.1812</td> <td>  110.986</td> <td>  -82.787</td> <td> 0.000</td> <td>-9405.724</td> <td>-8970.639</td>\n",
       "</tr>\n",
       "<tr>\n",
       "  <th>Age_of_House</th>         <td> 1767.5697</td> <td>   32.692</td> <td>   54.068</td> <td> 0.000</td> <td> 1703.491</td> <td> 1831.649</td>\n",
       "</tr>\n",
       "<tr>\n",
       "  <th>sqft_living</th>          <td>  274.1775</td> <td>    1.015</td> <td>  270.151</td> <td> 0.000</td> <td>  272.188</td> <td>  276.167</td>\n",
       "</tr>\n",
       "<tr>\n",
       "  <th>waterfront</th>           <td> 4.767e+05</td> <td> 1.72e+04</td> <td>   27.717</td> <td> 0.000</td> <td> 4.43e+05</td> <td>  5.1e+05</td>\n",
       "</tr>\n",
       "</table>\n",
       "<table class=\"simpletable\">\n",
       "<tr>\n",
       "  <th>Omnibus:</th>       <td>2983.311</td> <th>  Durbin-Watson:     </th> <td>   1.974</td> \n",
       "</tr>\n",
       "<tr>\n",
       "  <th>Prob(Omnibus):</th>  <td> 0.000</td>  <th>  Jarque-Bera (JB):  </th> <td>12531.901</td>\n",
       "</tr>\n",
       "<tr>\n",
       "  <th>Skew:</th>           <td> 0.726</td>  <th>  Prob(JB):          </th> <td>    0.00</td> \n",
       "</tr>\n",
       "<tr>\n",
       "  <th>Kurtosis:</th>       <td> 6.704</td>  <th>  Cond. No.          </th> <td>3.03e+04</td> \n",
       "</tr>\n",
       "</table><br/><br/>Warnings:<br/>[1] Standard Errors assume that the covariance matrix of the errors is correctly specified.<br/>[2] The condition number is large, 3.03e+04. This might indicate that there are<br/>strong multicollinearity or other numerical problems."
      ],
      "text/plain": [
       "<class 'statsmodels.iolib.summary.Summary'>\n",
       "\"\"\"\n",
       "                                 OLS Regression Results                                \n",
       "=======================================================================================\n",
       "Dep. Variable:                  price   R-squared (uncentered):                   0.914\n",
       "Model:                            OLS   Adj. R-squared (uncentered):              0.914\n",
       "Method:                 Least Squares   F-statistic:                          5.053e+04\n",
       "Date:                Mon, 01 Jun 2020   Prob (F-statistic):                        0.00\n",
       "Time:                        22:22:00   Log-Likelihood:                     -2.5624e+05\n",
       "No. Observations:               19002   AIC:                                  5.125e+05\n",
       "Df Residuals:                   18998   BIC:                                  5.125e+05\n",
       "Df Model:                           4                                                  \n",
       "Covariance Type:            nonrobust                                                  \n",
       "========================================================================================\n",
       "                           coef    std err          t      P>|t|      [0.025      0.975]\n",
       "----------------------------------------------------------------------------------------\n",
       "distance_from_a_city -9188.1812    110.986    -82.787      0.000   -9405.724   -8970.639\n",
       "Age_of_House          1767.5697     32.692     54.068      0.000    1703.491    1831.649\n",
       "sqft_living            274.1775      1.015    270.151      0.000     272.188     276.167\n",
       "waterfront            4.767e+05   1.72e+04     27.717      0.000    4.43e+05     5.1e+05\n",
       "==============================================================================\n",
       "Omnibus:                     2983.311   Durbin-Watson:                   1.974\n",
       "Prob(Omnibus):                  0.000   Jarque-Bera (JB):            12531.901\n",
       "Skew:                           0.726   Prob(JB):                         0.00\n",
       "Kurtosis:                       6.704   Cond. No.                     3.03e+04\n",
       "==============================================================================\n",
       "\n",
       "Warnings:\n",
       "[1] Standard Errors assume that the covariance matrix of the errors is correctly specified.\n",
       "[2] The condition number is large, 3.03e+04. This might indicate that there are\n",
       "strong multicollinearity or other numerical problems.\n",
       "\"\"\""
      ]
     },
     "execution_count": 51,
     "metadata": {},
     "output_type": "execute_result"
    }
   ],
   "source": [
    "model = sm.OLS(y,X).fit()\n",
    "model.summary()"
   ]
  },
  {
   "cell_type": "code",
   "execution_count": 193,
   "metadata": {},
   "outputs": [
    {
     "name": "stdout",
     "output_type": "stream",
     "text": [
      "15 15\n",
      "['bathrooms_log', 'bedrooms_log', 'distance_from_city_log', 'floor_1.5', 'floor_2.0']\n"
     ]
    },
    {
     "data": {
      "text/html": [
       "<div>\n",
       "<style scoped>\n",
       "    .dataframe tbody tr th:only-of-type {\n",
       "        vertical-align: middle;\n",
       "    }\n",
       "\n",
       "    .dataframe tbody tr th {\n",
       "        vertical-align: top;\n",
       "    }\n",
       "\n",
       "    .dataframe thead th {\n",
       "        text-align: right;\n",
       "    }\n",
       "</style>\n",
       "<table border=\"1\" class=\"dataframe\">\n",
       "  <thead>\n",
       "    <tr style=\"text-align: right;\">\n",
       "      <th></th>\n",
       "      <th>coef</th>\n",
       "      <th>std err</th>\n",
       "      <th>t</th>\n",
       "      <th>P&gt;|t|</th>\n",
       "      <th>[0.025</th>\n",
       "      <th>0.975]</th>\n",
       "    </tr>\n",
       "    <tr>\n",
       "      <th></th>\n",
       "      <th></th>\n",
       "      <th></th>\n",
       "      <th></th>\n",
       "      <th></th>\n",
       "      <th></th>\n",
       "      <th></th>\n",
       "    </tr>\n",
       "  </thead>\n",
       "  <tbody>\n",
       "    <tr>\n",
       "      <td>bathrooms_log</td>\n",
       "      <td>-5.437e+04</td>\n",
       "      <td>2759.808</td>\n",
       "      <td>-19.702</td>\n",
       "      <td>0.0</td>\n",
       "      <td>-5.98e+04</td>\n",
       "      <td>-4.9e+04</td>\n",
       "    </tr>\n",
       "    <tr>\n",
       "      <td>bedrooms_log</td>\n",
       "      <td>3.496e+04</td>\n",
       "      <td>2527.895</td>\n",
       "      <td>13.830</td>\n",
       "      <td>0.0</td>\n",
       "      <td>3e+04</td>\n",
       "      <td>3.99e+04</td>\n",
       "    </tr>\n",
       "    <tr>\n",
       "      <td>distance_from_city_log</td>\n",
       "      <td>-4.886e+04</td>\n",
       "      <td>2274.722</td>\n",
       "      <td>-21.479</td>\n",
       "      <td>0.0</td>\n",
       "      <td>-5.33e+04</td>\n",
       "      <td>-4.44e+04</td>\n",
       "    </tr>\n",
       "    <tr>\n",
       "      <td>floor_1.5</td>\n",
       "      <td>3.055e+05</td>\n",
       "      <td>7447.323</td>\n",
       "      <td>41.023</td>\n",
       "      <td>0.0</td>\n",
       "      <td>2.91e+05</td>\n",
       "      <td>3.2e+05</td>\n",
       "    </tr>\n",
       "    <tr>\n",
       "      <td>floor_2.0</td>\n",
       "      <td>5.039e+05</td>\n",
       "      <td>3926.002</td>\n",
       "      <td>128.347</td>\n",
       "      <td>0.0</td>\n",
       "      <td>4.96e+05</td>\n",
       "      <td>5.12e+05</td>\n",
       "    </tr>\n",
       "  </tbody>\n",
       "</table>\n",
       "</div>"
      ],
      "text/plain": [
       "0                             coef    std err          t  P>|t|     [0.025  \\\n",
       "                                                                             \n",
       "bathrooms_log           -5.437e+04   2759.808    -19.702    0.0  -5.98e+04   \n",
       "bedrooms_log             3.496e+04   2527.895     13.830    0.0      3e+04   \n",
       "distance_from_city_log  -4.886e+04   2274.722    -21.479    0.0  -5.33e+04   \n",
       "floor_1.5                3.055e+05   7447.323     41.023    0.0   2.91e+05   \n",
       "floor_2.0                5.039e+05   3926.002    128.347    0.0   4.96e+05   \n",
       "\n",
       "0                          0.975]  \n",
       "                                   \n",
       "bathrooms_log            -4.9e+04  \n",
       "bedrooms_log             3.99e+04  \n",
       "distance_from_city_log  -4.44e+04  \n",
       "floor_1.5                 3.2e+05  \n",
       "floor_2.0                5.12e+05  "
      ]
     },
     "execution_count": 193,
     "metadata": {},
     "output_type": "execute_result"
    }
   ],
   "source": [
    "summary = model.summary()\n",
    "p_table = summary.tables[1]\n",
    "p_table = pd.DataFrame(p_table.data)\n",
    "p_table.columns = p_table.iloc[0]\n",
    "p_table = p_table.drop(0)\n",
    "p_table = p_table.set_index(p_table.columns[0])\n",
    "p_table['P>|t|'] = p_table['P>|t|'].astype(float)\n",
    "x_cols = list(p_table[p_table['P>|t|'] < 0.05].index)\n",
    "print(len(p_table), len(x_cols))\n",
    "print(x_cols[:5])\n",
    "p_table.head()"
   ]
  },
  {
   "cell_type": "code",
   "execution_count": 194,
   "metadata": {},
   "outputs": [],
   "source": [
    "X = dfnew[x_cols]"
   ]
  },
  {
   "cell_type": "code",
   "execution_count": 195,
   "metadata": {},
   "outputs": [
    {
     "data": {
      "text/html": [
       "<table class=\"simpletable\">\n",
       "<caption>OLS Regression Results</caption>\n",
       "<tr>\n",
       "  <th>Dep. Variable:</th>          <td>price</td>      <th>  R-squared (uncentered):</th>       <td>   0.738</td>  \n",
       "</tr>\n",
       "<tr>\n",
       "  <th>Model:</th>                   <td>OLS</td>       <th>  Adj. R-squared (uncentered):</th>  <td>   0.738</td>  \n",
       "</tr>\n",
       "<tr>\n",
       "  <th>Method:</th>             <td>Least Squares</td>  <th>  F-statistic:       </th>           <td>   3897.</td>  \n",
       "</tr>\n",
       "<tr>\n",
       "  <th>Date:</th>             <td>Mon, 01 Jun 2020</td> <th>  Prob (F-statistic):</th>            <td>  0.00</td>   \n",
       "</tr>\n",
       "<tr>\n",
       "  <th>Time:</th>                 <td>16:05:23</td>     <th>  Log-Likelihood:    </th>          <td>-2.9113e+05</td>\n",
       "</tr>\n",
       "<tr>\n",
       "  <th>No. Observations:</th>      <td> 20754</td>      <th>  AIC:               </th>           <td>5.823e+05</td> \n",
       "</tr>\n",
       "<tr>\n",
       "  <th>Df Residuals:</th>          <td> 20739</td>      <th>  BIC:               </th>           <td>5.824e+05</td> \n",
       "</tr>\n",
       "<tr>\n",
       "  <th>Df Model:</th>              <td>    15</td>      <th>                     </th>               <td> </td>     \n",
       "</tr>\n",
       "<tr>\n",
       "  <th>Covariance Type:</th>      <td>nonrobust</td>    <th>                     </th>               <td> </td>     \n",
       "</tr>\n",
       "</table>\n",
       "<table class=\"simpletable\">\n",
       "<tr>\n",
       "             <td></td>               <th>coef</th>     <th>std err</th>      <th>t</th>      <th>P>|t|</th>  <th>[0.025</th>    <th>0.975]</th>  \n",
       "</tr>\n",
       "<tr>\n",
       "  <th>bathrooms_log</th>          <td>-5.437e+04</td> <td> 2759.808</td> <td>  -19.702</td> <td> 0.000</td> <td>-5.98e+04</td> <td> -4.9e+04</td>\n",
       "</tr>\n",
       "<tr>\n",
       "  <th>bedrooms_log</th>           <td> 3.496e+04</td> <td> 2527.895</td> <td>   13.830</td> <td> 0.000</td> <td>    3e+04</td> <td> 3.99e+04</td>\n",
       "</tr>\n",
       "<tr>\n",
       "  <th>distance_from_city_log</th> <td>-4.886e+04</td> <td> 2274.722</td> <td>  -21.479</td> <td> 0.000</td> <td>-5.33e+04</td> <td>-4.44e+04</td>\n",
       "</tr>\n",
       "<tr>\n",
       "  <th>floor_1.5</th>              <td> 3.055e+05</td> <td> 7447.323</td> <td>   41.023</td> <td> 0.000</td> <td> 2.91e+05</td> <td>  3.2e+05</td>\n",
       "</tr>\n",
       "<tr>\n",
       "  <th>floor_2.0</th>              <td> 5.039e+05</td> <td> 3926.002</td> <td>  128.347</td> <td> 0.000</td> <td> 4.96e+05</td> <td> 5.12e+05</td>\n",
       "</tr>\n",
       "<tr>\n",
       "  <th>floor_3.0</th>              <td> 4.303e+05</td> <td> 1.27e+04</td> <td>   33.788</td> <td> 0.000</td> <td> 4.05e+05</td> <td> 4.55e+05</td>\n",
       "</tr>\n",
       "<tr>\n",
       "  <th>view_1.0</th>               <td> 2.867e+05</td> <td> 1.72e+04</td> <td>   16.641</td> <td> 0.000</td> <td> 2.53e+05</td> <td>  3.2e+05</td>\n",
       "</tr>\n",
       "<tr>\n",
       "  <th>view_2.0</th>               <td> 2.524e+05</td> <td> 1.04e+04</td> <td>   24.234</td> <td> 0.000</td> <td> 2.32e+05</td> <td> 2.73e+05</td>\n",
       "</tr>\n",
       "<tr>\n",
       "  <th>view_3.0</th>               <td> 3.703e+05</td> <td> 1.46e+04</td> <td>   25.373</td> <td> 0.000</td> <td> 3.42e+05</td> <td> 3.99e+05</td>\n",
       "</tr>\n",
       "<tr>\n",
       "  <th>view_4.0</th>               <td> 5.673e+05</td> <td> 1.96e+04</td> <td>   28.907</td> <td> 0.000</td> <td> 5.29e+05</td> <td> 6.06e+05</td>\n",
       "</tr>\n",
       "<tr>\n",
       "  <th>grade_4</th>                <td> 1.691e+05</td> <td>  5.8e+04</td> <td>    2.916</td> <td> 0.004</td> <td> 5.54e+04</td> <td> 2.83e+05</td>\n",
       "</tr>\n",
       "<tr>\n",
       "  <th>grade_12</th>               <td>  8.75e+05</td> <td> 5.31e+04</td> <td>   16.464</td> <td> 0.000</td> <td> 7.71e+05</td> <td> 9.79e+05</td>\n",
       "</tr>\n",
       "<tr>\n",
       "  <th>water_True</th>             <td> 1.179e+05</td> <td> 6471.472</td> <td>   18.226</td> <td> 0.000</td> <td> 1.05e+05</td> <td> 1.31e+05</td>\n",
       "</tr>\n",
       "<tr>\n",
       "  <th>base_True</th>              <td> 3.558e+05</td> <td> 3797.244</td> <td>   93.699</td> <td> 0.000</td> <td> 3.48e+05</td> <td> 3.63e+05</td>\n",
       "</tr>\n",
       "<tr>\n",
       "  <th>distance_from_airport</th>  <td> 6.178e+04</td> <td> 2122.990</td> <td>   29.100</td> <td> 0.000</td> <td> 5.76e+04</td> <td> 6.59e+04</td>\n",
       "</tr>\n",
       "</table>\n",
       "<table class=\"simpletable\">\n",
       "<tr>\n",
       "  <th>Omnibus:</th>       <td>1879.749</td> <th>  Durbin-Watson:     </th> <td>   1.718</td>\n",
       "</tr>\n",
       "<tr>\n",
       "  <th>Prob(Omnibus):</th>  <td> 0.000</td>  <th>  Jarque-Bera (JB):  </th> <td>4362.408</td>\n",
       "</tr>\n",
       "<tr>\n",
       "  <th>Skew:</th>           <td> 0.559</td>  <th>  Prob(JB):          </th> <td>    0.00</td>\n",
       "</tr>\n",
       "<tr>\n",
       "  <th>Kurtosis:</th>       <td> 4.948</td>  <th>  Cond. No.          </th> <td>    36.2</td>\n",
       "</tr>\n",
       "</table><br/><br/>Warnings:<br/>[1] Standard Errors assume that the covariance matrix of the errors is correctly specified."
      ],
      "text/plain": [
       "<class 'statsmodels.iolib.summary.Summary'>\n",
       "\"\"\"\n",
       "                                 OLS Regression Results                                \n",
       "=======================================================================================\n",
       "Dep. Variable:                  price   R-squared (uncentered):                   0.738\n",
       "Model:                            OLS   Adj. R-squared (uncentered):              0.738\n",
       "Method:                 Least Squares   F-statistic:                              3897.\n",
       "Date:                Mon, 01 Jun 2020   Prob (F-statistic):                        0.00\n",
       "Time:                        16:05:23   Log-Likelihood:                     -2.9113e+05\n",
       "No. Observations:               20754   AIC:                                  5.823e+05\n",
       "Df Residuals:                   20739   BIC:                                  5.824e+05\n",
       "Df Model:                          15                                                  \n",
       "Covariance Type:            nonrobust                                                  \n",
       "==========================================================================================\n",
       "                             coef    std err          t      P>|t|      [0.025      0.975]\n",
       "------------------------------------------------------------------------------------------\n",
       "bathrooms_log          -5.437e+04   2759.808    -19.702      0.000   -5.98e+04    -4.9e+04\n",
       "bedrooms_log            3.496e+04   2527.895     13.830      0.000       3e+04    3.99e+04\n",
       "distance_from_city_log -4.886e+04   2274.722    -21.479      0.000   -5.33e+04   -4.44e+04\n",
       "floor_1.5               3.055e+05   7447.323     41.023      0.000    2.91e+05     3.2e+05\n",
       "floor_2.0               5.039e+05   3926.002    128.347      0.000    4.96e+05    5.12e+05\n",
       "floor_3.0               4.303e+05   1.27e+04     33.788      0.000    4.05e+05    4.55e+05\n",
       "view_1.0                2.867e+05   1.72e+04     16.641      0.000    2.53e+05     3.2e+05\n",
       "view_2.0                2.524e+05   1.04e+04     24.234      0.000    2.32e+05    2.73e+05\n",
       "view_3.0                3.703e+05   1.46e+04     25.373      0.000    3.42e+05    3.99e+05\n",
       "view_4.0                5.673e+05   1.96e+04     28.907      0.000    5.29e+05    6.06e+05\n",
       "grade_4                 1.691e+05    5.8e+04      2.916      0.004    5.54e+04    2.83e+05\n",
       "grade_12                 8.75e+05   5.31e+04     16.464      0.000    7.71e+05    9.79e+05\n",
       "water_True              1.179e+05   6471.472     18.226      0.000    1.05e+05    1.31e+05\n",
       "base_True               3.558e+05   3797.244     93.699      0.000    3.48e+05    3.63e+05\n",
       "distance_from_airport   6.178e+04   2122.990     29.100      0.000    5.76e+04    6.59e+04\n",
       "==============================================================================\n",
       "Omnibus:                     1879.749   Durbin-Watson:                   1.718\n",
       "Prob(Omnibus):                  0.000   Jarque-Bera (JB):             4362.408\n",
       "Skew:                           0.559   Prob(JB):                         0.00\n",
       "Kurtosis:                       4.948   Cond. No.                         36.2\n",
       "==============================================================================\n",
       "\n",
       "Warnings:\n",
       "[1] Standard Errors assume that the covariance matrix of the errors is correctly specified.\n",
       "\"\"\""
      ]
     },
     "execution_count": 195,
     "metadata": {},
     "output_type": "execute_result"
    }
   ],
   "source": [
    "model = sm.OLS(y,X).fit()\n",
    "model.summary()"
   ]
  },
  {
   "cell_type": "code",
   "execution_count": 198,
   "metadata": {},
   "outputs": [],
   "source": [
    "resids = model.resid"
   ]
  },
  {
   "cell_type": "code",
   "execution_count": 200,
   "metadata": {},
   "outputs": [],
   "source": [
    "def plot_residuals(resids):\n",
    "    plt.hist(resids)\n",
    "    plt.title(\"Residuals\")\n",
    "    plt.show()\n",
    "    \n",
    "    xspace = np.linspace(0, 1, len(resids))\n",
    "    plt.scatter(x, resids)\n",
    "    plt.title(\"resids\")\n",
    "    plt.hlines(0, xmin=0, xmax=1)\n",
    "    plt.show()"
   ]
  },
  {
   "cell_type": "code",
   "execution_count": 201,
   "metadata": {},
   "outputs": [
    {
     "data": {
      "image/png": "[encoded data removed]",
      "text/plain": [
       "<Figure size 432x288 with 1 Axes>"
      ]
     },
     "metadata": {
      "needs_background": "light"
     },
     "output_type": "display_data"
    },
    {
     "ename": "NameError",
     "evalue": "name 'x' is not defined",
     "output_type": "error",
     "traceback": [
      "\u001b[0;31m---------------------------------------------------------------------------\u001b[0m",
      "\u001b[0;31mNameError\u001b[0m                                 Traceback (most recent call last)",
      "\u001b[0;32m<ipython-input-201-a0da60b6e239>\u001b[0m in \u001b[0;36m<module>\u001b[0;34m\u001b[0m\n\u001b[0;32m----> 1\u001b[0;31m \u001b[0mplot_residuals\u001b[0m\u001b[0;34m(\u001b[0m\u001b[0mresids\u001b[0m\u001b[0;34m)\u001b[0m\u001b[0;34m\u001b[0m\u001b[0;34m\u001b[0m\u001b[0m\n\u001b[0m",
      "\u001b[0;32m<ipython-input-200-60f6f991a033>\u001b[0m in \u001b[0;36mplot_residuals\u001b[0;34m(resids)\u001b[0m\n\u001b[1;32m      5\u001b[0m \u001b[0;34m\u001b[0m\u001b[0m\n\u001b[1;32m      6\u001b[0m     \u001b[0mxspace\u001b[0m \u001b[0;34m=\u001b[0m \u001b[0mnp\u001b[0m\u001b[0;34m.\u001b[0m\u001b[0mlinspace\u001b[0m\u001b[0;34m(\u001b[0m\u001b[0;36m0\u001b[0m\u001b[0;34m,\u001b[0m \u001b[0;36m1\u001b[0m\u001b[0;34m,\u001b[0m \u001b[0mlen\u001b[0m\u001b[0;34m(\u001b[0m\u001b[0mresids\u001b[0m\u001b[0;34m)\u001b[0m\u001b[0;34m)\u001b[0m\u001b[0;34m\u001b[0m\u001b[0;34m\u001b[0m\u001b[0m\n\u001b[0;32m----> 7\u001b[0;31m     \u001b[0mplt\u001b[0m\u001b[0;34m.\u001b[0m\u001b[0mscatter\u001b[0m\u001b[0;34m(\u001b[0m\u001b[0mx\u001b[0m\u001b[0;34m,\u001b[0m \u001b[0mresids\u001b[0m\u001b[0;34m)\u001b[0m\u001b[0;34m\u001b[0m\u001b[0;34m\u001b[0m\u001b[0m\n\u001b[0m\u001b[1;32m      8\u001b[0m     \u001b[0mplt\u001b[0m\u001b[0;34m.\u001b[0m\u001b[0mtitle\u001b[0m\u001b[0;34m(\u001b[0m\u001b[0;34m\"resids\"\u001b[0m\u001b[0;34m)\u001b[0m\u001b[0;34m\u001b[0m\u001b[0;34m\u001b[0m\u001b[0m\n\u001b[1;32m      9\u001b[0m     \u001b[0mplt\u001b[0m\u001b[0;34m.\u001b[0m\u001b[0mhlines\u001b[0m\u001b[0;34m(\u001b[0m\u001b[0;36m0\u001b[0m\u001b[0;34m,\u001b[0m \u001b[0mxmin\u001b[0m\u001b[0;34m=\u001b[0m\u001b[0;36m0\u001b[0m\u001b[0;34m,\u001b[0m \u001b[0mxmax\u001b[0m\u001b[0;34m=\u001b[0m\u001b[0;36m1\u001b[0m\u001b[0;34m)\u001b[0m\u001b[0;34m\u001b[0m\u001b[0;34m\u001b[0m\u001b[0m\n",
      "\u001b[0;31mNameError\u001b[0m: name 'x' is not defined"
     ]
    }
   ],
   "source": [
    "plot_residuals(resids)"
   ]
  },
  {
   "cell_type": "code",
   "execution_count": 202,
   "metadata": {},
   "outputs": [],
   "source": [
    "finaldf = dfnew[x_cols]"
   ]
  },
  {
   "cell_type": "code",
   "execution_count": 206,
   "metadata": {},
   "outputs": [
    {
     "name": "stderr",
     "output_type": "stream",
     "text": [
      "/opt/anaconda3/envs/learn-env/lib/python3.6/site-packages/ipykernel_launcher.py:1: SettingWithCopyWarning: \n",
      "A value is trying to be set on a copy of a slice from a DataFrame.\n",
      "Try using .loc[row_indexer,col_indexer] = value instead\n",
      "\n",
      "See the caveats in the documentation: http://pandas.pydata.org/pandas-docs/stable/user_guide/indexing.html#returning-a-view-versus-a-copy\n",
      "  \"\"\"Entry point for launching an IPython kernel.\n"
     ]
    }
   ],
   "source": [
    "finaldf['price']=dfnew['price']"
   ]
  },
  {
   "cell_type": "code",
   "execution_count": 208,
   "metadata": {},
   "outputs": [
    {
     "data": {
      "text/html": [
       "<div>\n",
       "<style scoped>\n",
       "    .dataframe tbody tr th:only-of-type {\n",
       "        vertical-align: middle;\n",
       "    }\n",
       "\n",
       "    .dataframe tbody tr th {\n",
       "        vertical-align: top;\n",
       "    }\n",
       "\n",
       "    .dataframe thead th {\n",
       "        text-align: right;\n",
       "    }\n",
       "</style>\n",
       "<table border=\"1\" class=\"dataframe\">\n",
       "  <thead>\n",
       "    <tr style=\"text-align: right;\">\n",
       "      <th></th>\n",
       "      <th>bathrooms_log</th>\n",
       "      <th>bedrooms_log</th>\n",
       "      <th>distance_from_city_log</th>\n",
       "      <th>floor_1.5</th>\n",
       "      <th>floor_2.0</th>\n",
       "      <th>floor_3.0</th>\n",
       "      <th>view_1.0</th>\n",
       "      <th>view_2.0</th>\n",
       "      <th>view_3.0</th>\n",
       "      <th>view_4.0</th>\n",
       "      <th>grade_4</th>\n",
       "      <th>grade_12</th>\n",
       "      <th>water_True</th>\n",
       "      <th>base_True</th>\n",
       "      <th>distance_from_airport</th>\n",
       "      <th>price</th>\n",
       "    </tr>\n",
       "  </thead>\n",
       "  <tbody>\n",
       "    <tr>\n",
       "      <td>0</td>\n",
       "      <td>-1.725633</td>\n",
       "      <td>-0.263045</td>\n",
       "      <td>-0.327227</td>\n",
       "      <td>0</td>\n",
       "      <td>0</td>\n",
       "      <td>0</td>\n",
       "      <td>0</td>\n",
       "      <td>0</td>\n",
       "      <td>0</td>\n",
       "      <td>0</td>\n",
       "      <td>0</td>\n",
       "      <td>0</td>\n",
       "      <td>1</td>\n",
       "      <td>0</td>\n",
       "      <td>-1.391529</td>\n",
       "      <td>221900.0</td>\n",
       "    </tr>\n",
       "    <tr>\n",
       "      <td>1</td>\n",
       "      <td>0.381165</td>\n",
       "      <td>-0.263045</td>\n",
       "      <td>-0.282862</td>\n",
       "      <td>0</td>\n",
       "      <td>1</td>\n",
       "      <td>0</td>\n",
       "      <td>0</td>\n",
       "      <td>0</td>\n",
       "      <td>0</td>\n",
       "      <td>0</td>\n",
       "      <td>0</td>\n",
       "      <td>0</td>\n",
       "      <td>0</td>\n",
       "      <td>1</td>\n",
       "      <td>0.992174</td>\n",
       "      <td>538000.0</td>\n",
       "    </tr>\n",
       "    <tr>\n",
       "      <td>2</td>\n",
       "      <td>-1.725633</td>\n",
       "      <td>-1.715623</td>\n",
       "      <td>0.110589</td>\n",
       "      <td>0</td>\n",
       "      <td>0</td>\n",
       "      <td>0</td>\n",
       "      <td>0</td>\n",
       "      <td>0</td>\n",
       "      <td>0</td>\n",
       "      <td>0</td>\n",
       "      <td>0</td>\n",
       "      <td>0</td>\n",
       "      <td>0</td>\n",
       "      <td>0</td>\n",
       "      <td>1.229509</td>\n",
       "      <td>180000.0</td>\n",
       "    </tr>\n",
       "    <tr>\n",
       "      <td>3</td>\n",
       "      <td>1.128563</td>\n",
       "      <td>0.767575</td>\n",
       "      <td>-0.545192</td>\n",
       "      <td>0</td>\n",
       "      <td>0</td>\n",
       "      <td>0</td>\n",
       "      <td>0</td>\n",
       "      <td>0</td>\n",
       "      <td>0</td>\n",
       "      <td>0</td>\n",
       "      <td>0</td>\n",
       "      <td>0</td>\n",
       "      <td>0</td>\n",
       "      <td>1</td>\n",
       "      <td>-1.101136</td>\n",
       "      <td>604000.0</td>\n",
       "    </tr>\n",
       "    <tr>\n",
       "      <td>4</td>\n",
       "      <td>0.075164</td>\n",
       "      <td>-0.263045</td>\n",
       "      <td>0.547339</td>\n",
       "      <td>0</td>\n",
       "      <td>0</td>\n",
       "      <td>0</td>\n",
       "      <td>0</td>\n",
       "      <td>0</td>\n",
       "      <td>0</td>\n",
       "      <td>0</td>\n",
       "      <td>0</td>\n",
       "      <td>0</td>\n",
       "      <td>0</td>\n",
       "      <td>0</td>\n",
       "      <td>0.609922</td>\n",
       "      <td>510000.0</td>\n",
       "    </tr>\n",
       "  </tbody>\n",
       "</table>\n",
       "</div>"
      ],
      "text/plain": [
       "   bathrooms_log  bedrooms_log  distance_from_city_log  floor_1.5  floor_2.0  \\\n",
       "0      -1.725633     -0.263045               -0.327227          0          0   \n",
       "1       0.381165     -0.263045               -0.282862          0          1   \n",
       "2      -1.725633     -1.715623                0.110589          0          0   \n",
       "3       1.128563      0.767575               -0.545192          0          0   \n",
       "4       0.075164     -0.263045                0.547339          0          0   \n",
       "\n",
       "   floor_3.0  view_1.0  view_2.0  view_3.0  view_4.0  grade_4  grade_12  \\\n",
       "0          0         0         0         0         0        0         0   \n",
       "1          0         0         0         0         0        0         0   \n",
       "2          0         0         0         0         0        0         0   \n",
       "3          0         0         0         0         0        0         0   \n",
       "4          0         0         0         0         0        0         0   \n",
       "\n",
       "   water_True  base_True  distance_from_airport     price  \n",
       "0           1          0              -1.391529  221900.0  \n",
       "1           0          1               0.992174  538000.0  \n",
       "2           0          0               1.229509  180000.0  \n",
       "3           0          1              -1.101136  604000.0  \n",
       "4           0          0               0.609922  510000.0  "
      ]
     },
     "execution_count": 208,
     "metadata": {},
     "output_type": "execute_result"
    }
   ],
   "source": [
    "finaldf.head()"
   ]
  },
  {
   "cell_type": "code",
   "execution_count": 210,
   "metadata": {},
   "outputs": [],
   "source": [
    "X = finaldf.drop(columns='price',axis=1)\n",
    "y = finaldf['price']"
   ]
  },
  {
   "cell_type": "code",
   "execution_count": 211,
   "metadata": {},
   "outputs": [],
   "source": [
    "from sklearn.utils import shuffle\n",
    "from sklearn.linear_model import LinearRegression\n",
    "from sklearn.model_selection import train_test_split, cross_val_score\n",
    "from sklearn.preprocessing import StandardScaler\n",
    "from sklearn.feature_selection import RFE\n",
    "\n",
    "from sklearn.metrics import r2_score"
   ]
  },
  {
   "cell_type": "code",
   "execution_count": 212,
   "metadata": {},
   "outputs": [],
   "source": [
    "X_train, X_test, y_train, y_test = train_test_split(X, y, test_size=0.20)"
   ]
  },
  {
   "cell_type": "code",
   "execution_count": 213,
   "metadata": {},
   "outputs": [],
   "source": [
    "ols = LinearRegression(fit_intercept=False, normalize=False, n_jobs=-1)"
   ]
  },
  {
   "cell_type": "code",
   "execution_count": 214,
   "metadata": {},
   "outputs": [
    {
     "data": {
      "text/plain": [
       "LinearRegression(copy_X=True, fit_intercept=False, n_jobs=-1, normalize=False)"
      ]
     },
     "execution_count": 214,
     "metadata": {},
     "output_type": "execute_result"
    }
   ],
   "source": [
    "ols.fit(X_train, y_train)"
   ]
  },
  {
   "cell_type": "code",
   "execution_count": 215,
   "metadata": {},
   "outputs": [
    {
     "data": {
      "text/plain": [
       "array([-53332.5132314 ,  36172.48361048, -47234.35240599, 310484.13266737,\n",
       "       501916.52704855, 434467.40154718, 278928.51987673, 254338.34851773,\n",
       "       366880.15857828, 566205.4573405 , 174126.64140848, 884070.05869901,\n",
       "       117738.89663688, 356520.35516341,  62293.37376362])"
      ]
     },
     "execution_count": 215,
     "metadata": {},
     "output_type": "execute_result"
    }
   ],
   "source": [
    "ols.coef_"
   ]
  },
  {
   "cell_type": "code",
   "execution_count": 216,
   "metadata": {},
   "outputs": [
    {
     "data": {
      "text/plain": [
       "array([443858.76562084, 493749.3453514 , 109642.63657952, ...,\n",
       "        93883.35178784, 478668.88883879,  69928.77523556])"
      ]
     },
     "execution_count": 216,
     "metadata": {},
     "output_type": "execute_result"
    }
   ],
   "source": [
    "y_train_preds = ols.predict(X_train)\n",
    "y_train_preds\n"
   ]
  },
  {
   "cell_type": "code",
   "execution_count": 217,
   "metadata": {},
   "outputs": [
    {
     "data": {
      "text/plain": [
       "-0.13966763739390875"
      ]
     },
     "execution_count": 217,
     "metadata": {},
     "output_type": "execute_result"
    }
   ],
   "source": [
    "r2_score(y_train, y_train_preds)"
   ]
  },
  {
   "cell_type": "code",
   "execution_count": 218,
   "metadata": {},
   "outputs": [],
   "source": [
    "def get_score(model ,X_train, y_train):\n",
    "    y_train_preds = model.predict(X_train)"
   ]
  },
  {
   "cell_type": "code",
   "execution_count": 219,
   "metadata": {},
   "outputs": [
    {
     "data": {
      "text/plain": [
       "-0.13966763739390875"
      ]
     },
     "execution_count": 219,
     "metadata": {},
     "output_type": "execute_result"
    }
   ],
   "source": [
    "# r2 \n",
    "training_score = ols.score(X_train, y_train)\n",
    "# ols.score is calculating the y_train_preds and then using those to get the r2 score\n",
    "training_score"
   ]
  },
  {
   "cell_type": "code",
   "execution_count": 220,
   "metadata": {},
   "outputs": [
    {
     "data": {
      "text/plain": [
       "-0.13586864337811644"
      ]
     },
     "execution_count": 220,
     "metadata": {},
     "output_type": "execute_result"
    }
   ],
   "source": [
    "testing_score = ols.score(X_test, y_test)\n",
    "testing_score"
   ]
  },
  {
   "cell_type": "code",
   "execution_count": 221,
   "metadata": {},
   "outputs": [
    {
     "data": {
      "text/plain": [
       "array([-0.15329018, -0.16789171, -0.14617542, -0.07656858, -0.21379668])"
      ]
     },
     "execution_count": 221,
     "metadata": {},
     "output_type": "execute_result"
    }
   ],
   "source": [
    "# cv = 5 means 80/20 splits\n",
    "# cv = 10 means 90/10 splits\n",
    "# cv = 3 means 67/33 splits\n",
    "\n",
    "cv_scores = cross_val_score(ols, X, y, scoring='r2', cv=5, n_jobs=-1) \n",
    "# cv breaks your data into that many equal pieces \n",
    "cv_scores"
   ]
  },
  {
   "cell_type": "code",
   "execution_count": 230,
   "metadata": {},
   "outputs": [],
   "source": [
    "rfe = RFE(ols, n_features_to_select=15, step=1, verbose=2)"
   ]
  },
  {
   "cell_type": "code",
   "execution_count": 231,
   "metadata": {},
   "outputs": [
    {
     "data": {
      "text/plain": [
       "RFE(estimator=LinearRegression(copy_X=True, fit_intercept=False, n_jobs=-1,\n",
       "                               normalize=False),\n",
       "    n_features_to_select=15, step=1, verbose=2)"
      ]
     },
     "execution_count": 231,
     "metadata": {},
     "output_type": "execute_result"
    }
   ],
   "source": [
    "X_all = finaldf.drop(columns=['price'])\n",
    "rfe.fit(X_all, y)"
   ]
  },
  {
   "cell_type": "code",
   "execution_count": 232,
   "metadata": {},
   "outputs": [
    {
     "data": {
      "text/plain": [
       "array([ True,  True,  True,  True,  True,  True,  True,  True,  True,\n",
       "        True,  True,  True,  True,  True,  True])"
      ]
     },
     "execution_count": 232,
     "metadata": {},
     "output_type": "execute_result"
    }
   ],
   "source": [
    "rfe.support_"
   ]
  },
  {
   "cell_type": "code",
   "execution_count": 233,
   "metadata": {},
   "outputs": [],
   "source": [
    "new_cols = X_all.columns[rfe.support_]"
   ]
  },
  {
   "cell_type": "code",
   "execution_count": 234,
   "metadata": {},
   "outputs": [
    {
     "data": {
      "text/plain": [
       "Index(['bathrooms_log', 'bedrooms_log', 'distance_from_city_log', 'floor_1.5',\n",
       "       'floor_2.0', 'floor_3.0', 'view_1.0', 'view_2.0', 'view_3.0',\n",
       "       'view_4.0', 'grade_4', 'grade_12', 'water_True', 'base_True',\n",
       "       'distance_from_airport'],\n",
       "      dtype='object')"
      ]
     },
     "execution_count": 234,
     "metadata": {},
     "output_type": "execute_result"
    }
   ],
   "source": [
    "new_cols"
   ]
  },
  {
   "cell_type": "code",
   "execution_count": null,
   "metadata": {},
   "outputs": [],
   "source": []
  }
 ],
 "metadata": {
  "kernelspec": {
   "display_name": "Python [conda env:learn-env] *",
   "language": "python",
   "name": "conda-env-learn-env-py"
  },
  "language_info": {
   "codemirror_mode": {
    "name": "ipython",
    "version": 3
   },
   "file_extension": ".py",
   "mimetype": "text/x-python",
   "name": "python",
   "nbconvert_exporter": "python",
   "pygments_lexer": "ipython3",
   "version": "3.6.9"
  }
 },
 "nbformat": 4,
 "nbformat_minor": 2
}
