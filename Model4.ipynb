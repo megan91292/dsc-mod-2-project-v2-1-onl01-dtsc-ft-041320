{
 "cells": [
  {
   "cell_type": "code",
   "execution_count": 75,
   "metadata": {},
   "outputs": [],
   "source": [
    "import pandas as pd\n",
    "import numpy as np\n",
    "import matplotlib.pyplot as plt\n",
    "import seaborn as sns\n",
    "import matplotlib as mpl\n",
    "import scipy.stats as scs\n",
    "import statsmodels.api as sm\n",
    "from statsmodels.formula.api import ols\n",
    "import warnings\n",
    "warnings.filterwarnings('ignore')"
   ]
  },
  {
   "cell_type": "code",
   "execution_count": 76,
   "metadata": {},
   "outputs": [],
   "source": [
    "df = pd.read_csv('data_correlation_gone.csv',index_col = 0)"
   ]
  },
  {
   "cell_type": "code",
   "execution_count": 77,
   "metadata": {},
   "outputs": [],
   "source": [
    "df.drop('waterfront',axis=1,inplace=True)"
   ]
  },
  {
   "cell_type": "code",
   "execution_count": 78,
   "metadata": {},
   "outputs": [
    {
     "data": {
      "text/html": [
       "<div>\n",
       "<style scoped>\n",
       "    .dataframe tbody tr th:only-of-type {\n",
       "        vertical-align: middle;\n",
       "    }\n",
       "\n",
       "    .dataframe tbody tr th {\n",
       "        vertical-align: top;\n",
       "    }\n",
       "\n",
       "    .dataframe thead th {\n",
       "        text-align: right;\n",
       "    }\n",
       "</style>\n",
       "<table border=\"1\" class=\"dataframe\">\n",
       "  <thead>\n",
       "    <tr style=\"text-align: right;\">\n",
       "      <th></th>\n",
       "      <th>date</th>\n",
       "      <th>price</th>\n",
       "      <th>bedrooms</th>\n",
       "      <th>bathrooms</th>\n",
       "      <th>sqft_living</th>\n",
       "      <th>sqft_lot</th>\n",
       "      <th>floors</th>\n",
       "      <th>view</th>\n",
       "      <th>condition</th>\n",
       "      <th>grade</th>\n",
       "      <th>zipcode</th>\n",
       "      <th>Age_of_House</th>\n",
       "      <th>Years_last_renovation</th>\n",
       "      <th>basement</th>\n",
       "      <th>biggerliving</th>\n",
       "      <th>biggerlot</th>\n",
       "      <th>distance_from_a_city</th>\n",
       "      <th>distance_from_airport</th>\n",
       "    </tr>\n",
       "  </thead>\n",
       "  <tbody>\n",
       "    <tr>\n",
       "      <td>0</td>\n",
       "      <td>2014-12-09</td>\n",
       "      <td>538000.0</td>\n",
       "      <td>3</td>\n",
       "      <td>2.25</td>\n",
       "      <td>2570</td>\n",
       "      <td>7242</td>\n",
       "      <td>2.0</td>\n",
       "      <td>0.0</td>\n",
       "      <td>3</td>\n",
       "      <td>7</td>\n",
       "      <td>98125</td>\n",
       "      <td>69</td>\n",
       "      <td>29</td>\n",
       "      <td>1</td>\n",
       "      <td>1</td>\n",
       "      <td>0</td>\n",
       "      <td>12.613856</td>\n",
       "      <td>30.859494</td>\n",
       "    </tr>\n",
       "    <tr>\n",
       "      <td>1</td>\n",
       "      <td>2015-02-25</td>\n",
       "      <td>180000.0</td>\n",
       "      <td>2</td>\n",
       "      <td>1.00</td>\n",
       "      <td>770</td>\n",
       "      <td>10000</td>\n",
       "      <td>1.0</td>\n",
       "      <td>0.0</td>\n",
       "      <td>3</td>\n",
       "      <td>6</td>\n",
       "      <td>98028</td>\n",
       "      <td>87</td>\n",
       "      <td>87</td>\n",
       "      <td>0</td>\n",
       "      <td>0</td>\n",
       "      <td>1</td>\n",
       "      <td>14.375822</td>\n",
       "      <td>33.112379</td>\n",
       "    </tr>\n",
       "    <tr>\n",
       "      <td>2</td>\n",
       "      <td>2014-12-09</td>\n",
       "      <td>604000.0</td>\n",
       "      <td>4</td>\n",
       "      <td>3.00</td>\n",
       "      <td>1960</td>\n",
       "      <td>5000</td>\n",
       "      <td>1.0</td>\n",
       "      <td>0.0</td>\n",
       "      <td>5</td>\n",
       "      <td>7</td>\n",
       "      <td>98136</td>\n",
       "      <td>55</td>\n",
       "      <td>55</td>\n",
       "      <td>1</td>\n",
       "      <td>1</td>\n",
       "      <td>0</td>\n",
       "      <td>10.617501</td>\n",
       "      <td>10.988905</td>\n",
       "    </tr>\n",
       "    <tr>\n",
       "      <td>3</td>\n",
       "      <td>2015-02-18</td>\n",
       "      <td>510000.0</td>\n",
       "      <td>3</td>\n",
       "      <td>2.00</td>\n",
       "      <td>1680</td>\n",
       "      <td>8080</td>\n",
       "      <td>1.0</td>\n",
       "      <td>0.0</td>\n",
       "      <td>3</td>\n",
       "      <td>8</td>\n",
       "      <td>98074</td>\n",
       "      <td>33</td>\n",
       "      <td>33</td>\n",
       "      <td>0</td>\n",
       "      <td>0</td>\n",
       "      <td>1</td>\n",
       "      <td>11.683886</td>\n",
       "      <td>27.230991</td>\n",
       "    </tr>\n",
       "    <tr>\n",
       "      <td>5</td>\n",
       "      <td>2014-06-27</td>\n",
       "      <td>257500.0</td>\n",
       "      <td>3</td>\n",
       "      <td>2.25</td>\n",
       "      <td>1715</td>\n",
       "      <td>6819</td>\n",
       "      <td>2.0</td>\n",
       "      <td>0.0</td>\n",
       "      <td>3</td>\n",
       "      <td>7</td>\n",
       "      <td>98003</td>\n",
       "      <td>25</td>\n",
       "      <td>25</td>\n",
       "      <td>0</td>\n",
       "      <td>0</td>\n",
       "      <td>0</td>\n",
       "      <td>33.155745</td>\n",
       "      <td>14.995397</td>\n",
       "    </tr>\n",
       "  </tbody>\n",
       "</table>\n",
       "</div>"
      ],
      "text/plain": [
       "         date     price  bedrooms  bathrooms  sqft_living  sqft_lot  floors  \\\n",
       "0  2014-12-09  538000.0         3       2.25         2570      7242     2.0   \n",
       "1  2015-02-25  180000.0         2       1.00          770     10000     1.0   \n",
       "2  2014-12-09  604000.0         4       3.00         1960      5000     1.0   \n",
       "3  2015-02-18  510000.0         3       2.00         1680      8080     1.0   \n",
       "5  2014-06-27  257500.0         3       2.25         1715      6819     2.0   \n",
       "\n",
       "   view  condition  grade  zipcode  Age_of_House  Years_last_renovation  \\\n",
       "0   0.0          3      7    98125            69                     29   \n",
       "1   0.0          3      6    98028            87                     87   \n",
       "2   0.0          5      7    98136            55                     55   \n",
       "3   0.0          3      8    98074            33                     33   \n",
       "5   0.0          3      7    98003            25                     25   \n",
       "\n",
       "   basement  biggerliving  biggerlot  distance_from_a_city  \\\n",
       "0         1             1          0             12.613856   \n",
       "1         0             0          1             14.375822   \n",
       "2         1             1          0             10.617501   \n",
       "3         0             0          1             11.683886   \n",
       "5         0             0          0             33.155745   \n",
       "\n",
       "   distance_from_airport  \n",
       "0              30.859494  \n",
       "1              33.112379  \n",
       "2              10.988905  \n",
       "3              27.230991  \n",
       "5              14.995397  "
      ]
     },
     "execution_count": 78,
     "metadata": {},
     "output_type": "execute_result"
    }
   ],
   "source": [
    "df.head()"
   ]
  },
  {
   "cell_type": "code",
   "execution_count": 79,
   "metadata": {},
   "outputs": [],
   "source": [
    "df = df.loc[df['sqft_lot']<45000.00]"
   ]
  },
  {
   "cell_type": "code",
   "execution_count": 82,
   "metadata": {},
   "outputs": [
    {
     "data": {
      "text/plain": [
       "1313991.30523476"
      ]
     },
     "execution_count": 82,
     "metadata": {},
     "output_type": "execute_result"
    }
   ],
   "source": [
    "df.price.mean()+3.5*df.price.std()"
   ]
  },
  {
   "cell_type": "code",
   "execution_count": 83,
   "metadata": {},
   "outputs": [],
   "source": [
    "df = df.loc[df['price']<1350000]"
   ]
  },
  {
   "cell_type": "code",
   "execution_count": 84,
   "metadata": {},
   "outputs": [],
   "source": [
    "tobox =  ['sqft_living','Age_of_House', 'Years_last_renovation','distance_from_a_city', 'distance_from_airport']"
   ]
  },
  {
   "cell_type": "code",
   "execution_count": 85,
   "metadata": {},
   "outputs": [],
   "source": [
    "for feat in tobox:\n",
    "    df[feat],b = scs.boxcox(df[feat])\n"
   ]
  },
  {
   "cell_type": "code",
   "execution_count": 86,
   "metadata": {},
   "outputs": [],
   "source": [
    "df['sqft_lot'] = np.log(df['sqft_lot'])"
   ]
  },
  {
   "cell_type": "code",
   "execution_count": 87,
   "metadata": {},
   "outputs": [],
   "source": [
    "def norm_feat(series):\n",
    "    return (series - series.mean())/series.std()"
   ]
  },
  {
   "cell_type": "code",
   "execution_count": 88,
   "metadata": {},
   "outputs": [
    {
     "data": {
      "text/plain": [
       "<matplotlib.axes._subplots.AxesSubplot at 0x1c274e70b8>"
      ]
     },
     "execution_count": 88,
     "metadata": {},
     "output_type": "execute_result"
    },
    {
     "data": {
      "image/png": "[encoded data removed]",
      "text/plain": [
       "<Figure size 432x288 with 1 Axes>"
      ]
     },
     "metadata": {
      "needs_background": "light"
     },
     "output_type": "display_data"
    }
   ],
   "source": [
    "df['grade'].hist()"
   ]
  },
  {
   "cell_type": "code",
   "execution_count": 89,
   "metadata": {},
   "outputs": [
    {
     "data": {
      "image/png": "[encoded data removed]",
      "text/plain": [
       "<Figure size 432x288 with 20 Axes>"
      ]
     },
     "metadata": {
      "needs_background": "light"
     },
     "output_type": "display_data"
    }
   ],
   "source": [
    "df.hist();"
   ]
  },
  {
   "cell_type": "markdown",
   "metadata": {},
   "source": [
    "# Making interaction feature so I can use bedrooms and bathrooms in my model"
   ]
  },
  {
   "cell_type": "code",
   "execution_count": 90,
   "metadata": {},
   "outputs": [],
   "source": [
    "df['bedbath'] = df['bedrooms']*df['bathrooms']"
   ]
  },
  {
   "cell_type": "code",
   "execution_count": 91,
   "metadata": {},
   "outputs": [
    {
     "data": {
      "text/plain": [
       "Index(['date', 'price', 'bedrooms', 'bathrooms', 'sqft_living', 'sqft_lot',\n",
       "       'floors', 'view', 'condition', 'grade', 'zipcode', 'Age_of_House',\n",
       "       'Years_last_renovation', 'basement', 'biggerliving', 'biggerlot',\n",
       "       'distance_from_a_city', 'distance_from_airport', 'bedbath'],\n",
       "      dtype='object')"
      ]
     },
     "execution_count": 91,
     "metadata": {},
     "output_type": "execute_result"
    }
   ],
   "source": [
    "df.columns"
   ]
  },
  {
   "cell_type": "markdown",
   "metadata": {},
   "source": [
    "# Choosing my features"
   ]
  },
  {
   "cell_type": "code",
   "execution_count": 92,
   "metadata": {},
   "outputs": [],
   "source": [
    "tomodel = ['bedrooms','bathrooms','sqft_living','sqft_lot','biggerliving','biggerlot',\n",
    "           'distance_from_a_city','Years_last_renovation','basement','bedbath']"
   ]
  },
  {
   "cell_type": "code",
   "execution_count": 93,
   "metadata": {},
   "outputs": [],
   "source": [
    "for feat in tomodel:\n",
    "    df[feat] = norm_feat(df[feat])"
   ]
  },
  {
   "cell_type": "code",
   "execution_count": null,
   "metadata": {},
   "outputs": [],
   "source": []
  },
  {
   "cell_type": "code",
   "execution_count": 104,
   "metadata": {},
   "outputs": [],
   "source": [
    "tomodel = ['bedrooms','bathrooms','sqft_living','sqft_lot','biggerliving','biggerlot',\n",
    "           'distance_from_a_city','Years_last_renovation','basement','grade']"
   ]
  },
  {
   "cell_type": "code",
   "execution_count": 105,
   "metadata": {},
   "outputs": [],
   "source": [
    "X = df[tomodel]\n",
    "y = df['price']"
   ]
  },
  {
   "cell_type": "code",
   "execution_count": 106,
   "metadata": {},
   "outputs": [
    {
     "data": {
      "text/html": [
       "<div>\n",
       "<style scoped>\n",
       "    .dataframe tbody tr th:only-of-type {\n",
       "        vertical-align: middle;\n",
       "    }\n",
       "\n",
       "    .dataframe tbody tr th {\n",
       "        vertical-align: top;\n",
       "    }\n",
       "\n",
       "    .dataframe thead th {\n",
       "        text-align: right;\n",
       "    }\n",
       "</style>\n",
       "<table border=\"1\" class=\"dataframe\">\n",
       "  <thead>\n",
       "    <tr style=\"text-align: right;\">\n",
       "      <th></th>\n",
       "      <th>bedrooms</th>\n",
       "      <th>bathrooms</th>\n",
       "      <th>sqft_living</th>\n",
       "      <th>sqft_lot</th>\n",
       "      <th>biggerliving</th>\n",
       "      <th>biggerlot</th>\n",
       "      <th>distance_from_a_city</th>\n",
       "      <th>Years_last_renovation</th>\n",
       "      <th>basement</th>\n",
       "      <th>grade</th>\n",
       "    </tr>\n",
       "  </thead>\n",
       "  <tbody>\n",
       "    <tr>\n",
       "      <td>bedrooms</td>\n",
       "      <td>1.000000</td>\n",
       "      <td>0.494748</td>\n",
       "      <td>0.640167</td>\n",
       "      <td>0.235108</td>\n",
       "      <td>0.362027</td>\n",
       "      <td>0.076527</td>\n",
       "      <td>0.071519</td>\n",
       "      <td>-0.169682</td>\n",
       "      <td>0.137492</td>\n",
       "      <td>0.340211</td>\n",
       "    </tr>\n",
       "    <tr>\n",
       "      <td>bathrooms</td>\n",
       "      <td>0.494748</td>\n",
       "      <td>1.000000</td>\n",
       "      <td>0.724627</td>\n",
       "      <td>-0.018146</td>\n",
       "      <td>0.305180</td>\n",
       "      <td>0.056968</td>\n",
       "      <td>0.056051</td>\n",
       "      <td>-0.587333</td>\n",
       "      <td>0.130464</td>\n",
       "      <td>0.611504</td>\n",
       "    </tr>\n",
       "    <tr>\n",
       "      <td>sqft_living</td>\n",
       "      <td>0.640167</td>\n",
       "      <td>0.724627</td>\n",
       "      <td>1.000000</td>\n",
       "      <td>0.276889</td>\n",
       "      <td>0.490774</td>\n",
       "      <td>0.108431</td>\n",
       "      <td>0.060344</td>\n",
       "      <td>-0.374732</td>\n",
       "      <td>0.194320</td>\n",
       "      <td>0.693417</td>\n",
       "    </tr>\n",
       "    <tr>\n",
       "      <td>sqft_lot</td>\n",
       "      <td>0.235108</td>\n",
       "      <td>-0.018146</td>\n",
       "      <td>0.276889</td>\n",
       "      <td>1.000000</td>\n",
       "      <td>0.061053</td>\n",
       "      <td>0.277861</td>\n",
       "      <td>0.336677</td>\n",
       "      <td>0.195827</td>\n",
       "      <td>-0.060499</td>\n",
       "      <td>0.076309</td>\n",
       "    </tr>\n",
       "    <tr>\n",
       "      <td>biggerliving</td>\n",
       "      <td>0.362027</td>\n",
       "      <td>0.305180</td>\n",
       "      <td>0.490774</td>\n",
       "      <td>0.061053</td>\n",
       "      <td>1.000000</td>\n",
       "      <td>0.067153</td>\n",
       "      <td>-0.008353</td>\n",
       "      <td>-0.048247</td>\n",
       "      <td>0.241815</td>\n",
       "      <td>0.160381</td>\n",
       "    </tr>\n",
       "    <tr>\n",
       "      <td>biggerlot</td>\n",
       "      <td>0.076527</td>\n",
       "      <td>0.056968</td>\n",
       "      <td>0.108431</td>\n",
       "      <td>0.277861</td>\n",
       "      <td>0.067153</td>\n",
       "      <td>1.000000</td>\n",
       "      <td>0.080305</td>\n",
       "      <td>-0.010340</td>\n",
       "      <td>-0.011023</td>\n",
       "      <td>0.041209</td>\n",
       "    </tr>\n",
       "    <tr>\n",
       "      <td>distance_from_a_city</td>\n",
       "      <td>0.071519</td>\n",
       "      <td>0.056051</td>\n",
       "      <td>0.060344</td>\n",
       "      <td>0.336677</td>\n",
       "      <td>-0.008353</td>\n",
       "      <td>0.080305</td>\n",
       "      <td>1.000000</td>\n",
       "      <td>-0.246329</td>\n",
       "      <td>-0.226694</td>\n",
       "      <td>-0.062142</td>\n",
       "    </tr>\n",
       "    <tr>\n",
       "      <td>Years_last_renovation</td>\n",
       "      <td>-0.169682</td>\n",
       "      <td>-0.587333</td>\n",
       "      <td>-0.374732</td>\n",
       "      <td>0.195827</td>\n",
       "      <td>-0.048247</td>\n",
       "      <td>-0.010340</td>\n",
       "      <td>-0.246329</td>\n",
       "      <td>1.000000</td>\n",
       "      <td>0.156914</td>\n",
       "      <td>-0.496279</td>\n",
       "    </tr>\n",
       "    <tr>\n",
       "      <td>basement</td>\n",
       "      <td>0.137492</td>\n",
       "      <td>0.130464</td>\n",
       "      <td>0.194320</td>\n",
       "      <td>-0.060499</td>\n",
       "      <td>0.241815</td>\n",
       "      <td>-0.011023</td>\n",
       "      <td>-0.226694</td>\n",
       "      <td>0.156914</td>\n",
       "      <td>1.000000</td>\n",
       "      <td>0.002340</td>\n",
       "    </tr>\n",
       "    <tr>\n",
       "      <td>grade</td>\n",
       "      <td>0.340211</td>\n",
       "      <td>0.611504</td>\n",
       "      <td>0.693417</td>\n",
       "      <td>0.076309</td>\n",
       "      <td>0.160381</td>\n",
       "      <td>0.041209</td>\n",
       "      <td>-0.062142</td>\n",
       "      <td>-0.496279</td>\n",
       "      <td>0.002340</td>\n",
       "      <td>1.000000</td>\n",
       "    </tr>\n",
       "  </tbody>\n",
       "</table>\n",
       "</div>"
      ],
      "text/plain": [
       "                       bedrooms  bathrooms  sqft_living  sqft_lot  \\\n",
       "bedrooms               1.000000   0.494748     0.640167  0.235108   \n",
       "bathrooms              0.494748   1.000000     0.724627 -0.018146   \n",
       "sqft_living            0.640167   0.724627     1.000000  0.276889   \n",
       "sqft_lot               0.235108  -0.018146     0.276889  1.000000   \n",
       "biggerliving           0.362027   0.305180     0.490774  0.061053   \n",
       "biggerlot              0.076527   0.056968     0.108431  0.277861   \n",
       "distance_from_a_city   0.071519   0.056051     0.060344  0.336677   \n",
       "Years_last_renovation -0.169682  -0.587333    -0.374732  0.195827   \n",
       "basement               0.137492   0.130464     0.194320 -0.060499   \n",
       "grade                  0.340211   0.611504     0.693417  0.076309   \n",
       "\n",
       "                       biggerliving  biggerlot  distance_from_a_city  \\\n",
       "bedrooms                   0.362027   0.076527              0.071519   \n",
       "bathrooms                  0.305180   0.056968              0.056051   \n",
       "sqft_living                0.490774   0.108431              0.060344   \n",
       "sqft_lot                   0.061053   0.277861              0.336677   \n",
       "biggerliving               1.000000   0.067153             -0.008353   \n",
       "biggerlot                  0.067153   1.000000              0.080305   \n",
       "distance_from_a_city      -0.008353   0.080305              1.000000   \n",
       "Years_last_renovation     -0.048247  -0.010340             -0.246329   \n",
       "basement                   0.241815  -0.011023             -0.226694   \n",
       "grade                      0.160381   0.041209             -0.062142   \n",
       "\n",
       "                       Years_last_renovation  basement     grade  \n",
       "bedrooms                           -0.169682  0.137492  0.340211  \n",
       "bathrooms                          -0.587333  0.130464  0.611504  \n",
       "sqft_living                        -0.374732  0.194320  0.693417  \n",
       "sqft_lot                            0.195827 -0.060499  0.076309  \n",
       "biggerliving                       -0.048247  0.241815  0.160381  \n",
       "biggerlot                          -0.010340 -0.011023  0.041209  \n",
       "distance_from_a_city               -0.246329 -0.226694 -0.062142  \n",
       "Years_last_renovation               1.000000  0.156914 -0.496279  \n",
       "basement                            0.156914  1.000000  0.002340  \n",
       "grade                              -0.496279  0.002340  1.000000  "
      ]
     },
     "execution_count": 106,
     "metadata": {},
     "output_type": "execute_result"
    }
   ],
   "source": [
    "X.corr()"
   ]
  },
  {
   "cell_type": "markdown",
   "metadata": {},
   "source": [
    "# Making My Model"
   ]
  },
  {
   "cell_type": "code",
   "execution_count": 107,
   "metadata": {},
   "outputs": [
    {
     "data": {
      "text/html": [
       "<table class=\"simpletable\">\n",
       "<caption>OLS Regression Results</caption>\n",
       "<tr>\n",
       "  <th>Dep. Variable:</th>          <td>price</td>      <th>  R-squared (uncentered):</th>       <td>   0.951</td>  \n",
       "</tr>\n",
       "<tr>\n",
       "  <th>Model:</th>                   <td>OLS</td>       <th>  Adj. R-squared (uncentered):</th>  <td>   0.951</td>  \n",
       "</tr>\n",
       "<tr>\n",
       "  <th>Method:</th>             <td>Least Squares</td>  <th>  F-statistic:       </th>           <td>3.219e+04</td> \n",
       "</tr>\n",
       "<tr>\n",
       "  <th>Date:</th>             <td>Wed, 03 Jun 2020</td> <th>  Prob (F-statistic):</th>            <td>  0.00</td>   \n",
       "</tr>\n",
       "<tr>\n",
       "  <th>Time:</th>                 <td>18:55:04</td>     <th>  Log-Likelihood:    </th>          <td>-2.1804e+05</td>\n",
       "</tr>\n",
       "<tr>\n",
       "  <th>No. Observations:</th>      <td> 16667</td>      <th>  AIC:               </th>           <td>4.361e+05</td> \n",
       "</tr>\n",
       "<tr>\n",
       "  <th>Df Residuals:</th>          <td> 16657</td>      <th>  BIC:               </th>           <td>4.362e+05</td> \n",
       "</tr>\n",
       "<tr>\n",
       "  <th>Df Model:</th>              <td>    10</td>      <th>                     </th>               <td> </td>     \n",
       "</tr>\n",
       "<tr>\n",
       "  <th>Covariance Type:</th>      <td>nonrobust</td>    <th>                     </th>               <td> </td>     \n",
       "</tr>\n",
       "</table>\n",
       "<table class=\"simpletable\">\n",
       "<tr>\n",
       "            <td></td>               <th>coef</th>     <th>std err</th>      <th>t</th>      <th>P>|t|</th>  <th>[0.025</th>    <th>0.975]</th>  \n",
       "</tr>\n",
       "<tr>\n",
       "  <th>bedrooms</th>              <td>-1.476e+04</td> <td> 1194.947</td> <td>  -12.352</td> <td> 0.000</td> <td>-1.71e+04</td> <td>-1.24e+04</td>\n",
       "</tr>\n",
       "<tr>\n",
       "  <th>bathrooms</th>             <td> 1.316e+04</td> <td> 1558.549</td> <td>    8.446</td> <td> 0.000</td> <td> 1.01e+04</td> <td> 1.62e+04</td>\n",
       "</tr>\n",
       "<tr>\n",
       "  <th>sqft_living</th>           <td> 1.052e+05</td> <td> 1743.020</td> <td>   60.328</td> <td> 0.000</td> <td> 1.02e+05</td> <td> 1.09e+05</td>\n",
       "</tr>\n",
       "<tr>\n",
       "  <th>sqft_lot</th>              <td> 1.357e+04</td> <td> 1202.120</td> <td>   11.285</td> <td> 0.000</td> <td> 1.12e+04</td> <td> 1.59e+04</td>\n",
       "</tr>\n",
       "<tr>\n",
       "  <th>biggerliving</th>          <td>  -1.3e+04</td> <td> 1076.723</td> <td>  -12.078</td> <td> 0.000</td> <td>-1.51e+04</td> <td>-1.09e+04</td>\n",
       "</tr>\n",
       "<tr>\n",
       "  <th>biggerlot</th>             <td>-3168.4223</td> <td>  942.546</td> <td>   -3.362</td> <td> 0.001</td> <td>-5015.913</td> <td>-1320.932</td>\n",
       "</tr>\n",
       "<tr>\n",
       "  <th>distance_from_a_city</th>  <td> -1.15e+05</td> <td> 1056.090</td> <td> -108.908</td> <td> 0.000</td> <td>-1.17e+05</td> <td>-1.13e+05</td>\n",
       "</tr>\n",
       "<tr>\n",
       "  <th>Years_last_renovation</th> <td> 2.279e+04</td> <td> 1308.634</td> <td>   17.417</td> <td> 0.000</td> <td> 2.02e+04</td> <td> 2.54e+04</td>\n",
       "</tr>\n",
       "<tr>\n",
       "  <th>basement</th>              <td>-1.208e+04</td> <td>  989.676</td> <td>  -12.210</td> <td> 0.000</td> <td> -1.4e+04</td> <td>-1.01e+04</td>\n",
       "</tr>\n",
       "<tr>\n",
       "  <th>grade</th>                 <td> 6.346e+04</td> <td>  119.507</td> <td>  531.038</td> <td> 0.000</td> <td> 6.32e+04</td> <td> 6.37e+04</td>\n",
       "</tr>\n",
       "</table>\n",
       "<table class=\"simpletable\">\n",
       "<tr>\n",
       "  <th>Omnibus:</th>       <td>1781.723</td> <th>  Durbin-Watson:     </th> <td>   2.001</td>\n",
       "</tr>\n",
       "<tr>\n",
       "  <th>Prob(Omnibus):</th>  <td> 0.000</td>  <th>  Jarque-Bera (JB):  </th> <td>4046.976</td>\n",
       "</tr>\n",
       "<tr>\n",
       "  <th>Skew:</th>           <td> 0.653</td>  <th>  Prob(JB):          </th> <td>    0.00</td>\n",
       "</tr>\n",
       "<tr>\n",
       "  <th>Kurtosis:</th>       <td> 5.030</td>  <th>  Cond. No.          </th> <td>    18.1</td>\n",
       "</tr>\n",
       "</table><br/><br/>Warnings:<br/>[1] Standard Errors assume that the covariance matrix of the errors is correctly specified."
      ],
      "text/plain": [
       "<class 'statsmodels.iolib.summary.Summary'>\n",
       "\"\"\"\n",
       "                                 OLS Regression Results                                \n",
       "=======================================================================================\n",
       "Dep. Variable:                  price   R-squared (uncentered):                   0.951\n",
       "Model:                            OLS   Adj. R-squared (uncentered):              0.951\n",
       "Method:                 Least Squares   F-statistic:                          3.219e+04\n",
       "Date:                Wed, 03 Jun 2020   Prob (F-statistic):                        0.00\n",
       "Time:                        18:55:04   Log-Likelihood:                     -2.1804e+05\n",
       "No. Observations:               16667   AIC:                                  4.361e+05\n",
       "Df Residuals:                   16657   BIC:                                  4.362e+05\n",
       "Df Model:                          10                                                  \n",
       "Covariance Type:            nonrobust                                                  \n",
       "=========================================================================================\n",
       "                            coef    std err          t      P>|t|      [0.025      0.975]\n",
       "-----------------------------------------------------------------------------------------\n",
       "bedrooms              -1.476e+04   1194.947    -12.352      0.000   -1.71e+04   -1.24e+04\n",
       "bathrooms              1.316e+04   1558.549      8.446      0.000    1.01e+04    1.62e+04\n",
       "sqft_living            1.052e+05   1743.020     60.328      0.000    1.02e+05    1.09e+05\n",
       "sqft_lot               1.357e+04   1202.120     11.285      0.000    1.12e+04    1.59e+04\n",
       "biggerliving            -1.3e+04   1076.723    -12.078      0.000   -1.51e+04   -1.09e+04\n",
       "biggerlot             -3168.4223    942.546     -3.362      0.001   -5015.913   -1320.932\n",
       "distance_from_a_city   -1.15e+05   1056.090   -108.908      0.000   -1.17e+05   -1.13e+05\n",
       "Years_last_renovation  2.279e+04   1308.634     17.417      0.000    2.02e+04    2.54e+04\n",
       "basement              -1.208e+04    989.676    -12.210      0.000    -1.4e+04   -1.01e+04\n",
       "grade                  6.346e+04    119.507    531.038      0.000    6.32e+04    6.37e+04\n",
       "==============================================================================\n",
       "Omnibus:                     1781.723   Durbin-Watson:                   2.001\n",
       "Prob(Omnibus):                  0.000   Jarque-Bera (JB):             4046.976\n",
       "Skew:                           0.653   Prob(JB):                         0.00\n",
       "Kurtosis:                       5.030   Cond. No.                         18.1\n",
       "==============================================================================\n",
       "\n",
       "Warnings:\n",
       "[1] Standard Errors assume that the covariance matrix of the errors is correctly specified.\n",
       "\"\"\""
      ]
     },
     "execution_count": 107,
     "metadata": {},
     "output_type": "execute_result"
    }
   ],
   "source": [
    "model = sm.OLS(y,X).fit()\n",
    "model.summary()"
   ]
  },
  {
   "cell_type": "code",
   "execution_count": 108,
   "metadata": {},
   "outputs": [
    {
     "data": {
      "text/html": [
       "<table class=\"simpletable\">\n",
       "<caption>OLS Regression Results</caption>\n",
       "<tr>\n",
       "  <th>Dep. Variable:</th>          <td>price</td>      <th>  R-squared (uncentered):</th>       <td>   0.951</td>  \n",
       "</tr>\n",
       "<tr>\n",
       "  <th>Model:</th>                   <td>OLS</td>       <th>  Adj. R-squared (uncentered):</th>  <td>   0.951</td>  \n",
       "</tr>\n",
       "<tr>\n",
       "  <th>Method:</th>             <td>Least Squares</td>  <th>  F-statistic:       </th>           <td>3.219e+04</td> \n",
       "</tr>\n",
       "<tr>\n",
       "  <th>Date:</th>             <td>Wed, 03 Jun 2020</td> <th>  Prob (F-statistic):</th>            <td>  0.00</td>   \n",
       "</tr>\n",
       "<tr>\n",
       "  <th>Time:</th>                 <td>18:55:04</td>     <th>  Log-Likelihood:    </th>          <td>-2.1804e+05</td>\n",
       "</tr>\n",
       "<tr>\n",
       "  <th>No. Observations:</th>      <td> 16667</td>      <th>  AIC:               </th>           <td>4.361e+05</td> \n",
       "</tr>\n",
       "<tr>\n",
       "  <th>Df Residuals:</th>          <td> 16657</td>      <th>  BIC:               </th>           <td>4.362e+05</td> \n",
       "</tr>\n",
       "<tr>\n",
       "  <th>Df Model:</th>              <td>    10</td>      <th>                     </th>               <td> </td>     \n",
       "</tr>\n",
       "<tr>\n",
       "  <th>Covariance Type:</th>      <td>nonrobust</td>    <th>                     </th>               <td> </td>     \n",
       "</tr>\n",
       "</table>\n",
       "<table class=\"simpletable\">\n",
       "<tr>\n",
       "            <td></td>               <th>coef</th>     <th>std err</th>      <th>t</th>      <th>P>|t|</th>  <th>[0.025</th>    <th>0.975]</th>  \n",
       "</tr>\n",
       "<tr>\n",
       "  <th>bedrooms</th>              <td>-1.476e+04</td> <td> 1194.947</td> <td>  -12.352</td> <td> 0.000</td> <td>-1.71e+04</td> <td>-1.24e+04</td>\n",
       "</tr>\n",
       "<tr>\n",
       "  <th>bathrooms</th>             <td> 1.316e+04</td> <td> 1558.549</td> <td>    8.446</td> <td> 0.000</td> <td> 1.01e+04</td> <td> 1.62e+04</td>\n",
       "</tr>\n",
       "<tr>\n",
       "  <th>sqft_living</th>           <td> 1.052e+05</td> <td> 1743.020</td> <td>   60.328</td> <td> 0.000</td> <td> 1.02e+05</td> <td> 1.09e+05</td>\n",
       "</tr>\n",
       "<tr>\n",
       "  <th>sqft_lot</th>              <td> 1.357e+04</td> <td> 1202.120</td> <td>   11.285</td> <td> 0.000</td> <td> 1.12e+04</td> <td> 1.59e+04</td>\n",
       "</tr>\n",
       "<tr>\n",
       "  <th>biggerliving</th>          <td>  -1.3e+04</td> <td> 1076.723</td> <td>  -12.078</td> <td> 0.000</td> <td>-1.51e+04</td> <td>-1.09e+04</td>\n",
       "</tr>\n",
       "<tr>\n",
       "  <th>biggerlot</th>             <td>-3168.4223</td> <td>  942.546</td> <td>   -3.362</td> <td> 0.001</td> <td>-5015.913</td> <td>-1320.932</td>\n",
       "</tr>\n",
       "<tr>\n",
       "  <th>distance_from_a_city</th>  <td> -1.15e+05</td> <td> 1056.090</td> <td> -108.908</td> <td> 0.000</td> <td>-1.17e+05</td> <td>-1.13e+05</td>\n",
       "</tr>\n",
       "<tr>\n",
       "  <th>Years_last_renovation</th> <td> 2.279e+04</td> <td> 1308.634</td> <td>   17.417</td> <td> 0.000</td> <td> 2.02e+04</td> <td> 2.54e+04</td>\n",
       "</tr>\n",
       "<tr>\n",
       "  <th>basement</th>              <td>-1.208e+04</td> <td>  989.676</td> <td>  -12.210</td> <td> 0.000</td> <td> -1.4e+04</td> <td>-1.01e+04</td>\n",
       "</tr>\n",
       "<tr>\n",
       "  <th>grade</th>                 <td> 6.346e+04</td> <td>  119.507</td> <td>  531.038</td> <td> 0.000</td> <td> 6.32e+04</td> <td> 6.37e+04</td>\n",
       "</tr>\n",
       "</table>\n",
       "<table class=\"simpletable\">\n",
       "<tr>\n",
       "  <th>Omnibus:</th>       <td>1781.723</td> <th>  Durbin-Watson:     </th> <td>   2.001</td>\n",
       "</tr>\n",
       "<tr>\n",
       "  <th>Prob(Omnibus):</th>  <td> 0.000</td>  <th>  Jarque-Bera (JB):  </th> <td>4046.976</td>\n",
       "</tr>\n",
       "<tr>\n",
       "  <th>Skew:</th>           <td> 0.653</td>  <th>  Prob(JB):          </th> <td>    0.00</td>\n",
       "</tr>\n",
       "<tr>\n",
       "  <th>Kurtosis:</th>       <td> 5.030</td>  <th>  Cond. No.          </th> <td>    18.1</td>\n",
       "</tr>\n",
       "</table><br/><br/>Warnings:<br/>[1] Standard Errors assume that the covariance matrix of the errors is correctly specified."
      ],
      "text/plain": [
       "<class 'statsmodels.iolib.summary.Summary'>\n",
       "\"\"\"\n",
       "                                 OLS Regression Results                                \n",
       "=======================================================================================\n",
       "Dep. Variable:                  price   R-squared (uncentered):                   0.951\n",
       "Model:                            OLS   Adj. R-squared (uncentered):              0.951\n",
       "Method:                 Least Squares   F-statistic:                          3.219e+04\n",
       "Date:                Wed, 03 Jun 2020   Prob (F-statistic):                        0.00\n",
       "Time:                        18:55:04   Log-Likelihood:                     -2.1804e+05\n",
       "No. Observations:               16667   AIC:                                  4.361e+05\n",
       "Df Residuals:                   16657   BIC:                                  4.362e+05\n",
       "Df Model:                          10                                                  \n",
       "Covariance Type:            nonrobust                                                  \n",
       "=========================================================================================\n",
       "                            coef    std err          t      P>|t|      [0.025      0.975]\n",
       "-----------------------------------------------------------------------------------------\n",
       "bedrooms              -1.476e+04   1194.947    -12.352      0.000   -1.71e+04   -1.24e+04\n",
       "bathrooms              1.316e+04   1558.549      8.446      0.000    1.01e+04    1.62e+04\n",
       "sqft_living            1.052e+05   1743.020     60.328      0.000    1.02e+05    1.09e+05\n",
       "sqft_lot               1.357e+04   1202.120     11.285      0.000    1.12e+04    1.59e+04\n",
       "biggerliving            -1.3e+04   1076.723    -12.078      0.000   -1.51e+04   -1.09e+04\n",
       "biggerlot             -3168.4223    942.546     -3.362      0.001   -5015.913   -1320.932\n",
       "distance_from_a_city   -1.15e+05   1056.090   -108.908      0.000   -1.17e+05   -1.13e+05\n",
       "Years_last_renovation  2.279e+04   1308.634     17.417      0.000    2.02e+04    2.54e+04\n",
       "basement              -1.208e+04    989.676    -12.210      0.000    -1.4e+04   -1.01e+04\n",
       "grade                  6.346e+04    119.507    531.038      0.000    6.32e+04    6.37e+04\n",
       "==============================================================================\n",
       "Omnibus:                     1781.723   Durbin-Watson:                   2.001\n",
       "Prob(Omnibus):                  0.000   Jarque-Bera (JB):             4046.976\n",
       "Skew:                           0.653   Prob(JB):                         0.00\n",
       "Kurtosis:                       5.030   Cond. No.                         18.1\n",
       "==============================================================================\n",
       "\n",
       "Warnings:\n",
       "[1] Standard Errors assume that the covariance matrix of the errors is correctly specified.\n",
       "\"\"\""
      ]
     },
     "execution_count": 108,
     "metadata": {},
     "output_type": "execute_result"
    }
   ],
   "source": [
    "model = sm.OLS(y,X).fit()\n",
    "model.summary()"
   ]
  },
  {
   "cell_type": "code",
   "execution_count": 109,
   "metadata": {},
   "outputs": [
    {
     "name": "stdout",
     "output_type": "stream",
     "text": [
      "10 10\n",
      "['bedrooms', 'bathrooms', 'sqft_living', 'sqft_lot', 'biggerliving']\n"
     ]
    },
    {
     "data": {
      "text/html": [
       "<div>\n",
       "<style scoped>\n",
       "    .dataframe tbody tr th:only-of-type {\n",
       "        vertical-align: middle;\n",
       "    }\n",
       "\n",
       "    .dataframe tbody tr th {\n",
       "        vertical-align: top;\n",
       "    }\n",
       "\n",
       "    .dataframe thead th {\n",
       "        text-align: right;\n",
       "    }\n",
       "</style>\n",
       "<table border=\"1\" class=\"dataframe\">\n",
       "  <thead>\n",
       "    <tr style=\"text-align: right;\">\n",
       "      <th></th>\n",
       "      <th>coef</th>\n",
       "      <th>std err</th>\n",
       "      <th>t</th>\n",
       "      <th>P&gt;|t|</th>\n",
       "      <th>[0.025</th>\n",
       "      <th>0.975]</th>\n",
       "    </tr>\n",
       "    <tr>\n",
       "      <th></th>\n",
       "      <th></th>\n",
       "      <th></th>\n",
       "      <th></th>\n",
       "      <th></th>\n",
       "      <th></th>\n",
       "      <th></th>\n",
       "    </tr>\n",
       "  </thead>\n",
       "  <tbody>\n",
       "    <tr>\n",
       "      <td>bedrooms</td>\n",
       "      <td>-1.476e+04</td>\n",
       "      <td>1194.947</td>\n",
       "      <td>-12.352</td>\n",
       "      <td>0.0</td>\n",
       "      <td>-1.71e+04</td>\n",
       "      <td>-1.24e+04</td>\n",
       "    </tr>\n",
       "    <tr>\n",
       "      <td>bathrooms</td>\n",
       "      <td>1.316e+04</td>\n",
       "      <td>1558.549</td>\n",
       "      <td>8.446</td>\n",
       "      <td>0.0</td>\n",
       "      <td>1.01e+04</td>\n",
       "      <td>1.62e+04</td>\n",
       "    </tr>\n",
       "    <tr>\n",
       "      <td>sqft_living</td>\n",
       "      <td>1.052e+05</td>\n",
       "      <td>1743.020</td>\n",
       "      <td>60.328</td>\n",
       "      <td>0.0</td>\n",
       "      <td>1.02e+05</td>\n",
       "      <td>1.09e+05</td>\n",
       "    </tr>\n",
       "    <tr>\n",
       "      <td>sqft_lot</td>\n",
       "      <td>1.357e+04</td>\n",
       "      <td>1202.120</td>\n",
       "      <td>11.285</td>\n",
       "      <td>0.0</td>\n",
       "      <td>1.12e+04</td>\n",
       "      <td>1.59e+04</td>\n",
       "    </tr>\n",
       "    <tr>\n",
       "      <td>biggerliving</td>\n",
       "      <td>-1.3e+04</td>\n",
       "      <td>1076.723</td>\n",
       "      <td>-12.078</td>\n",
       "      <td>0.0</td>\n",
       "      <td>-1.51e+04</td>\n",
       "      <td>-1.09e+04</td>\n",
       "    </tr>\n",
       "  </tbody>\n",
       "</table>\n",
       "</div>"
      ],
      "text/plain": [
       "0                   coef    std err          t  P>|t|     [0.025     0.975]\n",
       "                                                                           \n",
       "bedrooms      -1.476e+04   1194.947    -12.352    0.0  -1.71e+04  -1.24e+04\n",
       "bathrooms      1.316e+04   1558.549      8.446    0.0   1.01e+04   1.62e+04\n",
       "sqft_living    1.052e+05   1743.020     60.328    0.0   1.02e+05   1.09e+05\n",
       "sqft_lot       1.357e+04   1202.120     11.285    0.0   1.12e+04   1.59e+04\n",
       "biggerliving    -1.3e+04   1076.723    -12.078    0.0  -1.51e+04  -1.09e+04"
      ]
     },
     "execution_count": 109,
     "metadata": {},
     "output_type": "execute_result"
    }
   ],
   "source": [
    "summary = model.summary()\n",
    "p_table = summary.tables[1]\n",
    "p_table = pd.DataFrame(p_table.data)\n",
    "p_table.columns = p_table.iloc[0]\n",
    "p_table = p_table.drop(0)\n",
    "p_table = p_table.set_index(p_table.columns[0])\n",
    "p_table['P>|t|'] = p_table['P>|t|'].astype(float)\n",
    "x_cols = list(p_table[p_table['P>|t|'] <= 0.05].index)\n",
    "print(len(p_table), len(x_cols))\n",
    "print(x_cols[:5])\n",
    "p_table.head()"
   ]
  },
  {
   "cell_type": "code",
   "execution_count": 110,
   "metadata": {},
   "outputs": [],
   "source": [
    "X = df[x_cols]\n",
    "y= df['price']"
   ]
  },
  {
   "cell_type": "code",
   "execution_count": 111,
   "metadata": {},
   "outputs": [
    {
     "data": {
      "text/html": [
       "<table class=\"simpletable\">\n",
       "<caption>OLS Regression Results</caption>\n",
       "<tr>\n",
       "  <th>Dep. Variable:</th>          <td>price</td>      <th>  R-squared (uncentered):</th>       <td>   0.951</td>  \n",
       "</tr>\n",
       "<tr>\n",
       "  <th>Model:</th>                   <td>OLS</td>       <th>  Adj. R-squared (uncentered):</th>  <td>   0.951</td>  \n",
       "</tr>\n",
       "<tr>\n",
       "  <th>Method:</th>             <td>Least Squares</td>  <th>  F-statistic:       </th>           <td>3.219e+04</td> \n",
       "</tr>\n",
       "<tr>\n",
       "  <th>Date:</th>             <td>Wed, 03 Jun 2020</td> <th>  Prob (F-statistic):</th>            <td>  0.00</td>   \n",
       "</tr>\n",
       "<tr>\n",
       "  <th>Time:</th>                 <td>18:55:06</td>     <th>  Log-Likelihood:    </th>          <td>-2.1804e+05</td>\n",
       "</tr>\n",
       "<tr>\n",
       "  <th>No. Observations:</th>      <td> 16667</td>      <th>  AIC:               </th>           <td>4.361e+05</td> \n",
       "</tr>\n",
       "<tr>\n",
       "  <th>Df Residuals:</th>          <td> 16657</td>      <th>  BIC:               </th>           <td>4.362e+05</td> \n",
       "</tr>\n",
       "<tr>\n",
       "  <th>Df Model:</th>              <td>    10</td>      <th>                     </th>               <td> </td>     \n",
       "</tr>\n",
       "<tr>\n",
       "  <th>Covariance Type:</th>      <td>nonrobust</td>    <th>                     </th>               <td> </td>     \n",
       "</tr>\n",
       "</table>\n",
       "<table class=\"simpletable\">\n",
       "<tr>\n",
       "            <td></td>               <th>coef</th>     <th>std err</th>      <th>t</th>      <th>P>|t|</th>  <th>[0.025</th>    <th>0.975]</th>  \n",
       "</tr>\n",
       "<tr>\n",
       "  <th>bedrooms</th>              <td>-1.476e+04</td> <td> 1194.947</td> <td>  -12.352</td> <td> 0.000</td> <td>-1.71e+04</td> <td>-1.24e+04</td>\n",
       "</tr>\n",
       "<tr>\n",
       "  <th>bathrooms</th>             <td> 1.316e+04</td> <td> 1558.549</td> <td>    8.446</td> <td> 0.000</td> <td> 1.01e+04</td> <td> 1.62e+04</td>\n",
       "</tr>\n",
       "<tr>\n",
       "  <th>sqft_living</th>           <td> 1.052e+05</td> <td> 1743.020</td> <td>   60.328</td> <td> 0.000</td> <td> 1.02e+05</td> <td> 1.09e+05</td>\n",
       "</tr>\n",
       "<tr>\n",
       "  <th>sqft_lot</th>              <td> 1.357e+04</td> <td> 1202.120</td> <td>   11.285</td> <td> 0.000</td> <td> 1.12e+04</td> <td> 1.59e+04</td>\n",
       "</tr>\n",
       "<tr>\n",
       "  <th>biggerliving</th>          <td>  -1.3e+04</td> <td> 1076.723</td> <td>  -12.078</td> <td> 0.000</td> <td>-1.51e+04</td> <td>-1.09e+04</td>\n",
       "</tr>\n",
       "<tr>\n",
       "  <th>biggerlot</th>             <td>-3168.4223</td> <td>  942.546</td> <td>   -3.362</td> <td> 0.001</td> <td>-5015.913</td> <td>-1320.932</td>\n",
       "</tr>\n",
       "<tr>\n",
       "  <th>distance_from_a_city</th>  <td> -1.15e+05</td> <td> 1056.090</td> <td> -108.908</td> <td> 0.000</td> <td>-1.17e+05</td> <td>-1.13e+05</td>\n",
       "</tr>\n",
       "<tr>\n",
       "  <th>Years_last_renovation</th> <td> 2.279e+04</td> <td> 1308.634</td> <td>   17.417</td> <td> 0.000</td> <td> 2.02e+04</td> <td> 2.54e+04</td>\n",
       "</tr>\n",
       "<tr>\n",
       "  <th>basement</th>              <td>-1.208e+04</td> <td>  989.676</td> <td>  -12.210</td> <td> 0.000</td> <td> -1.4e+04</td> <td>-1.01e+04</td>\n",
       "</tr>\n",
       "<tr>\n",
       "  <th>grade</th>                 <td> 6.346e+04</td> <td>  119.507</td> <td>  531.038</td> <td> 0.000</td> <td> 6.32e+04</td> <td> 6.37e+04</td>\n",
       "</tr>\n",
       "</table>\n",
       "<table class=\"simpletable\">\n",
       "<tr>\n",
       "  <th>Omnibus:</th>       <td>1781.723</td> <th>  Durbin-Watson:     </th> <td>   2.001</td>\n",
       "</tr>\n",
       "<tr>\n",
       "  <th>Prob(Omnibus):</th>  <td> 0.000</td>  <th>  Jarque-Bera (JB):  </th> <td>4046.976</td>\n",
       "</tr>\n",
       "<tr>\n",
       "  <th>Skew:</th>           <td> 0.653</td>  <th>  Prob(JB):          </th> <td>    0.00</td>\n",
       "</tr>\n",
       "<tr>\n",
       "  <th>Kurtosis:</th>       <td> 5.030</td>  <th>  Cond. No.          </th> <td>    18.1</td>\n",
       "</tr>\n",
       "</table><br/><br/>Warnings:<br/>[1] Standard Errors assume that the covariance matrix of the errors is correctly specified."
      ],
      "text/plain": [
       "<class 'statsmodels.iolib.summary.Summary'>\n",
       "\"\"\"\n",
       "                                 OLS Regression Results                                \n",
       "=======================================================================================\n",
       "Dep. Variable:                  price   R-squared (uncentered):                   0.951\n",
       "Model:                            OLS   Adj. R-squared (uncentered):              0.951\n",
       "Method:                 Least Squares   F-statistic:                          3.219e+04\n",
       "Date:                Wed, 03 Jun 2020   Prob (F-statistic):                        0.00\n",
       "Time:                        18:55:06   Log-Likelihood:                     -2.1804e+05\n",
       "No. Observations:               16667   AIC:                                  4.361e+05\n",
       "Df Residuals:                   16657   BIC:                                  4.362e+05\n",
       "Df Model:                          10                                                  \n",
       "Covariance Type:            nonrobust                                                  \n",
       "=========================================================================================\n",
       "                            coef    std err          t      P>|t|      [0.025      0.975]\n",
       "-----------------------------------------------------------------------------------------\n",
       "bedrooms              -1.476e+04   1194.947    -12.352      0.000   -1.71e+04   -1.24e+04\n",
       "bathrooms              1.316e+04   1558.549      8.446      0.000    1.01e+04    1.62e+04\n",
       "sqft_living            1.052e+05   1743.020     60.328      0.000    1.02e+05    1.09e+05\n",
       "sqft_lot               1.357e+04   1202.120     11.285      0.000    1.12e+04    1.59e+04\n",
       "biggerliving            -1.3e+04   1076.723    -12.078      0.000   -1.51e+04   -1.09e+04\n",
       "biggerlot             -3168.4223    942.546     -3.362      0.001   -5015.913   -1320.932\n",
       "distance_from_a_city   -1.15e+05   1056.090   -108.908      0.000   -1.17e+05   -1.13e+05\n",
       "Years_last_renovation  2.279e+04   1308.634     17.417      0.000    2.02e+04    2.54e+04\n",
       "basement              -1.208e+04    989.676    -12.210      0.000    -1.4e+04   -1.01e+04\n",
       "grade                  6.346e+04    119.507    531.038      0.000    6.32e+04    6.37e+04\n",
       "==============================================================================\n",
       "Omnibus:                     1781.723   Durbin-Watson:                   2.001\n",
       "Prob(Omnibus):                  0.000   Jarque-Bera (JB):             4046.976\n",
       "Skew:                           0.653   Prob(JB):                         0.00\n",
       "Kurtosis:                       5.030   Cond. No.                         18.1\n",
       "==============================================================================\n",
       "\n",
       "Warnings:\n",
       "[1] Standard Errors assume that the covariance matrix of the errors is correctly specified.\n",
       "\"\"\""
      ]
     },
     "execution_count": 111,
     "metadata": {},
     "output_type": "execute_result"
    }
   ],
   "source": [
    "model = sm.OLS(y,X).fit()\n",
    "model.summary()"
   ]
  },
  {
   "cell_type": "code",
   "execution_count": 112,
   "metadata": {},
   "outputs": [
    {
     "data": {
      "text/plain": [
       "[('bedrooms', 1.761806329060175),\n",
       " ('bathrooms', 2.9971044529860142),\n",
       " ('sqft_living', 3.7485712063292462),\n",
       " ('sqft_lot', 1.783023331590588),\n",
       " ('biggerliving', 1.4304381265003154),\n",
       " ('biggerlot', 1.0961409059271094),\n",
       " ('distance_from_a_city', 1.3761399786569464),\n",
       " ('Years_last_renovation', 2.1129908957035872),\n",
       " ('basement', 1.208502066680506),\n",
       " ('grade', 1.011219322996725)]"
      ]
     },
     "execution_count": 112,
     "metadata": {},
     "output_type": "execute_result"
    }
   ],
   "source": [
    "# Your code here - Code a way to identify multicollinearity\n",
    "from statsmodels.stats.outliers_influence import variance_inflation_factor\n",
    "X = df[x_cols]\n",
    "vif = [variance_inflation_factor(X.values,i) for i in range(X.shape[1])]\n",
    "list(zip(x_cols,vif))"
   ]
  },
  {
   "cell_type": "code",
   "execution_count": 113,
   "metadata": {},
   "outputs": [
    {
     "name": "stdout",
     "output_type": "stream",
     "text": [
      "10 10\n"
     ]
    }
   ],
   "source": [
    "vif_scores = list(zip(x_cols, vif))\n",
    "x_cols = [x for x,vif in vif_scores if vif < 5]\n",
    "print(len(vif_scores), len(x_cols))"
   ]
  },
  {
   "cell_type": "code",
   "execution_count": 114,
   "metadata": {},
   "outputs": [],
   "source": [
    "X = df[x_cols]\n",
    "y= df['price']"
   ]
  },
  {
   "cell_type": "code",
   "execution_count": 115,
   "metadata": {
    "scrolled": false
   },
   "outputs": [
    {
     "data": {
      "text/html": [
       "<table class=\"simpletable\">\n",
       "<caption>OLS Regression Results</caption>\n",
       "<tr>\n",
       "  <th>Dep. Variable:</th>          <td>price</td>      <th>  R-squared (uncentered):</th>       <td>   0.951</td>  \n",
       "</tr>\n",
       "<tr>\n",
       "  <th>Model:</th>                   <td>OLS</td>       <th>  Adj. R-squared (uncentered):</th>  <td>   0.951</td>  \n",
       "</tr>\n",
       "<tr>\n",
       "  <th>Method:</th>             <td>Least Squares</td>  <th>  F-statistic:       </th>           <td>3.219e+04</td> \n",
       "</tr>\n",
       "<tr>\n",
       "  <th>Date:</th>             <td>Wed, 03 Jun 2020</td> <th>  Prob (F-statistic):</th>            <td>  0.00</td>   \n",
       "</tr>\n",
       "<tr>\n",
       "  <th>Time:</th>                 <td>18:55:09</td>     <th>  Log-Likelihood:    </th>          <td>-2.1804e+05</td>\n",
       "</tr>\n",
       "<tr>\n",
       "  <th>No. Observations:</th>      <td> 16667</td>      <th>  AIC:               </th>           <td>4.361e+05</td> \n",
       "</tr>\n",
       "<tr>\n",
       "  <th>Df Residuals:</th>          <td> 16657</td>      <th>  BIC:               </th>           <td>4.362e+05</td> \n",
       "</tr>\n",
       "<tr>\n",
       "  <th>Df Model:</th>              <td>    10</td>      <th>                     </th>               <td> </td>     \n",
       "</tr>\n",
       "<tr>\n",
       "  <th>Covariance Type:</th>      <td>nonrobust</td>    <th>                     </th>               <td> </td>     \n",
       "</tr>\n",
       "</table>\n",
       "<table class=\"simpletable\">\n",
       "<tr>\n",
       "            <td></td>               <th>coef</th>     <th>std err</th>      <th>t</th>      <th>P>|t|</th>  <th>[0.025</th>    <th>0.975]</th>  \n",
       "</tr>\n",
       "<tr>\n",
       "  <th>bedrooms</th>              <td>-1.476e+04</td> <td> 1194.947</td> <td>  -12.352</td> <td> 0.000</td> <td>-1.71e+04</td> <td>-1.24e+04</td>\n",
       "</tr>\n",
       "<tr>\n",
       "  <th>bathrooms</th>             <td> 1.316e+04</td> <td> 1558.549</td> <td>    8.446</td> <td> 0.000</td> <td> 1.01e+04</td> <td> 1.62e+04</td>\n",
       "</tr>\n",
       "<tr>\n",
       "  <th>sqft_living</th>           <td> 1.052e+05</td> <td> 1743.020</td> <td>   60.328</td> <td> 0.000</td> <td> 1.02e+05</td> <td> 1.09e+05</td>\n",
       "</tr>\n",
       "<tr>\n",
       "  <th>sqft_lot</th>              <td> 1.357e+04</td> <td> 1202.120</td> <td>   11.285</td> <td> 0.000</td> <td> 1.12e+04</td> <td> 1.59e+04</td>\n",
       "</tr>\n",
       "<tr>\n",
       "  <th>biggerliving</th>          <td>  -1.3e+04</td> <td> 1076.723</td> <td>  -12.078</td> <td> 0.000</td> <td>-1.51e+04</td> <td>-1.09e+04</td>\n",
       "</tr>\n",
       "<tr>\n",
       "  <th>biggerlot</th>             <td>-3168.4223</td> <td>  942.546</td> <td>   -3.362</td> <td> 0.001</td> <td>-5015.913</td> <td>-1320.932</td>\n",
       "</tr>\n",
       "<tr>\n",
       "  <th>distance_from_a_city</th>  <td> -1.15e+05</td> <td> 1056.090</td> <td> -108.908</td> <td> 0.000</td> <td>-1.17e+05</td> <td>-1.13e+05</td>\n",
       "</tr>\n",
       "<tr>\n",
       "  <th>Years_last_renovation</th> <td> 2.279e+04</td> <td> 1308.634</td> <td>   17.417</td> <td> 0.000</td> <td> 2.02e+04</td> <td> 2.54e+04</td>\n",
       "</tr>\n",
       "<tr>\n",
       "  <th>basement</th>              <td>-1.208e+04</td> <td>  989.676</td> <td>  -12.210</td> <td> 0.000</td> <td> -1.4e+04</td> <td>-1.01e+04</td>\n",
       "</tr>\n",
       "<tr>\n",
       "  <th>grade</th>                 <td> 6.346e+04</td> <td>  119.507</td> <td>  531.038</td> <td> 0.000</td> <td> 6.32e+04</td> <td> 6.37e+04</td>\n",
       "</tr>\n",
       "</table>\n",
       "<table class=\"simpletable\">\n",
       "<tr>\n",
       "  <th>Omnibus:</th>       <td>1781.723</td> <th>  Durbin-Watson:     </th> <td>   2.001</td>\n",
       "</tr>\n",
       "<tr>\n",
       "  <th>Prob(Omnibus):</th>  <td> 0.000</td>  <th>  Jarque-Bera (JB):  </th> <td>4046.976</td>\n",
       "</tr>\n",
       "<tr>\n",
       "  <th>Skew:</th>           <td> 0.653</td>  <th>  Prob(JB):          </th> <td>    0.00</td>\n",
       "</tr>\n",
       "<tr>\n",
       "  <th>Kurtosis:</th>       <td> 5.030</td>  <th>  Cond. No.          </th> <td>    18.1</td>\n",
       "</tr>\n",
       "</table><br/><br/>Warnings:<br/>[1] Standard Errors assume that the covariance matrix of the errors is correctly specified."
      ],
      "text/plain": [
       "<class 'statsmodels.iolib.summary.Summary'>\n",
       "\"\"\"\n",
       "                                 OLS Regression Results                                \n",
       "=======================================================================================\n",
       "Dep. Variable:                  price   R-squared (uncentered):                   0.951\n",
       "Model:                            OLS   Adj. R-squared (uncentered):              0.951\n",
       "Method:                 Least Squares   F-statistic:                          3.219e+04\n",
       "Date:                Wed, 03 Jun 2020   Prob (F-statistic):                        0.00\n",
       "Time:                        18:55:09   Log-Likelihood:                     -2.1804e+05\n",
       "No. Observations:               16667   AIC:                                  4.361e+05\n",
       "Df Residuals:                   16657   BIC:                                  4.362e+05\n",
       "Df Model:                          10                                                  \n",
       "Covariance Type:            nonrobust                                                  \n",
       "=========================================================================================\n",
       "                            coef    std err          t      P>|t|      [0.025      0.975]\n",
       "-----------------------------------------------------------------------------------------\n",
       "bedrooms              -1.476e+04   1194.947    -12.352      0.000   -1.71e+04   -1.24e+04\n",
       "bathrooms              1.316e+04   1558.549      8.446      0.000    1.01e+04    1.62e+04\n",
       "sqft_living            1.052e+05   1743.020     60.328      0.000    1.02e+05    1.09e+05\n",
       "sqft_lot               1.357e+04   1202.120     11.285      0.000    1.12e+04    1.59e+04\n",
       "biggerliving            -1.3e+04   1076.723    -12.078      0.000   -1.51e+04   -1.09e+04\n",
       "biggerlot             -3168.4223    942.546     -3.362      0.001   -5015.913   -1320.932\n",
       "distance_from_a_city   -1.15e+05   1056.090   -108.908      0.000   -1.17e+05   -1.13e+05\n",
       "Years_last_renovation  2.279e+04   1308.634     17.417      0.000    2.02e+04    2.54e+04\n",
       "basement              -1.208e+04    989.676    -12.210      0.000    -1.4e+04   -1.01e+04\n",
       "grade                  6.346e+04    119.507    531.038      0.000    6.32e+04    6.37e+04\n",
       "==============================================================================\n",
       "Omnibus:                     1781.723   Durbin-Watson:                   2.001\n",
       "Prob(Omnibus):                  0.000   Jarque-Bera (JB):             4046.976\n",
       "Skew:                           0.653   Prob(JB):                         0.00\n",
       "Kurtosis:                       5.030   Cond. No.                         18.1\n",
       "==============================================================================\n",
       "\n",
       "Warnings:\n",
       "[1] Standard Errors assume that the covariance matrix of the errors is correctly specified.\n",
       "\"\"\""
      ]
     },
     "execution_count": 115,
     "metadata": {},
     "output_type": "execute_result"
    }
   ],
   "source": [
    "model = sm.OLS(y,X).fit()\n",
    "model.summary()"
   ]
  },
  {
   "cell_type": "code",
   "execution_count": 116,
   "metadata": {},
   "outputs": [
    {
     "data": {
      "text/plain": [
       "[('bedrooms', 1.761806329060175),\n",
       " ('bathrooms', 2.9971044529860142),\n",
       " ('sqft_living', 3.7485712063292462),\n",
       " ('sqft_lot', 1.783023331590588),\n",
       " ('biggerliving', 1.4304381265003154),\n",
       " ('biggerlot', 1.0961409059271094),\n",
       " ('distance_from_a_city', 1.3761399786569464),\n",
       " ('Years_last_renovation', 2.1129908957035872),\n",
       " ('basement', 1.208502066680506),\n",
       " ('grade', 1.011219322996725)]"
      ]
     },
     "execution_count": 116,
     "metadata": {},
     "output_type": "execute_result"
    }
   ],
   "source": [
    "from statsmodels.stats.outliers_influence import variance_inflation_factor\n",
    "X = df[x_cols]\n",
    "vif = [variance_inflation_factor(X.values,i) for i in range(X.shape[1])]\n",
    "list(zip(x_cols,vif))"
   ]
  },
  {
   "cell_type": "code",
   "execution_count": 117,
   "metadata": {},
   "outputs": [],
   "source": [
    "def plot_residuals(resids):\n",
    "    plt.hist(resids)\n",
    "    plt.title(\"Residuals\")\n",
    "    plt.show()\n",
    "    \n",
    "    xspace = np.linspace(0, 1, len(resids))\n",
    "    plt.scatter(xspace, resids)\n",
    "    plt.title(\"resids\")\n",
    "    plt.hlines(0, xmin=0, xmax=1)\n",
    "    plt.show()"
   ]
  },
  {
   "cell_type": "code",
   "execution_count": 118,
   "metadata": {},
   "outputs": [],
   "source": [
    "residuals = model.resid"
   ]
  },
  {
   "cell_type": "code",
   "execution_count": 119,
   "metadata": {},
   "outputs": [
    {
     "data": {
      "image/png": "[encoded data removed]",
      "text/plain": [
       "<Figure size 432x288 with 1 Axes>"
      ]
     },
     "metadata": {
      "needs_background": "light"
     },
     "output_type": "display_data"
    },
    {
     "data": {
      "image/png": "[encoded data removed]",
      "text/plain": [
       "<Figure size 432x288 with 1 Axes>"
      ]
     },
     "metadata": {
      "needs_background": "light"
     },
     "output_type": "display_data"
    }
   ],
   "source": [
    "plot_residuals(residuals)"
   ]
  },
  {
   "cell_type": "code",
   "execution_count": 120,
   "metadata": {},
   "outputs": [
    {
     "data": {
      "image/png": "[encoded data removed]",
      "text/plain": [
       "<Figure size 432x288 with 1 Axes>"
      ]
     },
     "metadata": {
      "needs_background": "light"
     },
     "output_type": "display_data"
    }
   ],
   "source": [
    "fig = sm.graphics.qqplot(residuals, dist=scs.norm, line='45', fit=True)\n"
   ]
  },
  {
   "cell_type": "markdown",
   "metadata": {},
   "source": [
    "# Build Mode in Sklearn"
   ]
  },
  {
   "cell_type": "code",
   "execution_count": 32,
   "metadata": {},
   "outputs": [],
   "source": [
    "from sklearn.utils import shuffle\n",
    "from sklearn.linear_model import LinearRegression\n",
    "from sklearn.model_selection import train_test_split, cross_val_score\n",
    "from sklearn.preprocessing import StandardScaler\n",
    "from sklearn.feature_selection import RFE\n",
    "\n",
    "from sklearn.metrics import r2_score"
   ]
  },
  {
   "cell_type": "code",
   "execution_count": 33,
   "metadata": {},
   "outputs": [],
   "source": [
    "X_train, X_test, y_train, y_test = train_test_split(X, y, test_size=0.20)"
   ]
  },
  {
   "cell_type": "code",
   "execution_count": null,
   "metadata": {},
   "outputs": [],
   "source": []
  },
  {
   "cell_type": "code",
   "execution_count": 34,
   "metadata": {},
   "outputs": [],
   "source": [
    "ols = LinearRegression(fit_intercept=False, normalize=False, n_jobs=-1)"
   ]
  },
  {
   "cell_type": "code",
   "execution_count": 35,
   "metadata": {},
   "outputs": [
    {
     "data": {
      "text/plain": [
       "LinearRegression(copy_X=True, fit_intercept=False, n_jobs=-1, normalize=False)"
      ]
     },
     "execution_count": 35,
     "metadata": {},
     "output_type": "execute_result"
    }
   ],
   "source": [
    "ols.fit(X_train, y_train)"
   ]
  },
  {
   "cell_type": "code",
   "execution_count": 36,
   "metadata": {},
   "outputs": [
    {
     "data": {
      "text/plain": [
       "array([ 110273.37966723,   18350.20148301,  -14216.71671106,\n",
       "         -3986.80290411, -125127.52179907,   15026.07512247,\n",
       "        -11299.8599651 ,   64773.01824091])"
      ]
     },
     "execution_count": 36,
     "metadata": {},
     "output_type": "execute_result"
    }
   ],
   "source": [
    "ols.coef_"
   ]
  },
  {
   "cell_type": "code",
   "execution_count": 37,
   "metadata": {},
   "outputs": [
    {
     "data": {
      "text/plain": [
       "0.0"
      ]
     },
     "execution_count": 37,
     "metadata": {},
     "output_type": "execute_result"
    }
   ],
   "source": [
    "ols.intercept_"
   ]
  },
  {
   "cell_type": "code",
   "execution_count": 38,
   "metadata": {},
   "outputs": [
    {
     "data": {
      "text/plain": [
       "array([273726.62737984, 508356.32030348, 417696.69963763, ...,\n",
       "       473630.68716683, 362007.68014645, 495046.86091407])"
      ]
     },
     "execution_count": 38,
     "metadata": {},
     "output_type": "execute_result"
    }
   ],
   "source": [
    "# let's get our training predictions\n",
    "y_train_preds = ols.predict(X_train)\n",
    "y_train_preds"
   ]
  },
  {
   "cell_type": "code",
   "execution_count": 46,
   "metadata": {},
   "outputs": [
    {
     "data": {
      "text/plain": [
       "0.7086280229771649"
      ]
     },
     "execution_count": 46,
     "metadata": {},
     "output_type": "execute_result"
    }
   ],
   "source": [
    "r2_score(y_train, y_train_preds)"
   ]
  },
  {
   "cell_type": "code",
   "execution_count": 47,
   "metadata": {},
   "outputs": [],
   "source": [
    "y_hat_train = ols.predict(X_train)\n",
    "y_hat_test = ols.predict(X_test)"
   ]
  },
  {
   "cell_type": "code",
   "execution_count": 48,
   "metadata": {},
   "outputs": [
    {
     "data": {
      "text/plain": [
       "15991610296.00925"
      ]
     },
     "execution_count": 48,
     "metadata": {},
     "output_type": "execute_result"
    }
   ],
   "source": [
    "from sklearn.metrics import mean_squared_error\n",
    "test_residuals = y_hat_test - y_test\n",
    "\n",
    "test_mse = mean_squared_error(y_test, y_hat_test)\n",
    "test_mse"
   ]
  },
  {
   "cell_type": "code",
   "execution_count": 49,
   "metadata": {},
   "outputs": [
    {
     "data": {
      "text/plain": [
       "16301111413.861723"
      ]
     },
     "execution_count": 49,
     "metadata": {},
     "output_type": "execute_result"
    }
   ],
   "source": [
    "from sklearn.metrics import mean_squared_error\n",
    "\n",
    "train_mse = mean_squared_error(y_train, y_hat_train)\n",
    "train_mse"
   ]
  },
  {
   "cell_type": "code",
   "execution_count": 50,
   "metadata": {},
   "outputs": [],
   "source": [
    "def get_score(model ,X_train, y_train):\n",
    "    y_train_preds = model.predict(X_train)"
   ]
  },
  {
   "cell_type": "code",
   "execution_count": 51,
   "metadata": {},
   "outputs": [
    {
     "data": {
      "text/plain": [
       "0.7086280229771649"
      ]
     },
     "execution_count": 51,
     "metadata": {},
     "output_type": "execute_result"
    }
   ],
   "source": [
    "# r2 \n",
    "training_score = ols.score(X_train, y_train)\n",
    "# ols.score is calculating the y_train_preds and then using those to get the r2 score\n",
    "training_score"
   ]
  },
  {
   "cell_type": "code",
   "execution_count": 52,
   "metadata": {},
   "outputs": [
    {
     "data": {
      "text/plain": [
       "0.7181482681969089"
      ]
     },
     "execution_count": 52,
     "metadata": {},
     "output_type": "execute_result"
    }
   ],
   "source": [
    "testing_score = ols.score(X_test, y_test)\n",
    "testing_score"
   ]
  },
  {
   "cell_type": "code",
   "execution_count": 53,
   "metadata": {},
   "outputs": [
    {
     "data": {
      "text/plain": [
       "array([0.71921552, 0.70398318, 0.70973312, 0.7205715 , 0.69152455])"
      ]
     },
     "execution_count": 53,
     "metadata": {},
     "output_type": "execute_result"
    }
   ],
   "source": [
    "cv_scores = cross_val_score(ols, X, y, scoring='r2', cv=5, n_jobs=-1) \n",
    "# cv breaks your data into that many equal pieces \n",
    "cv_scores"
   ]
  },
  {
   "cell_type": "code",
   "execution_count": 54,
   "metadata": {},
   "outputs": [
    {
     "data": {
      "text/plain": [
       "0.7090055729492816"
      ]
     },
     "execution_count": 54,
     "metadata": {},
     "output_type": "execute_result"
    }
   ],
   "source": [
    "np.mean(cv_scores)"
   ]
  },
  {
   "cell_type": "code",
   "execution_count": 55,
   "metadata": {},
   "outputs": [
    {
     "name": "stdout",
     "output_type": "stream",
     "text": [
      "-16291190706.886204\n",
      "-16305161793.375626\n",
      "-16278814757.5634\n"
     ]
    }
   ],
   "source": [
    "\n",
    "cv_5 = np.mean(cross_val_score(ols,X , y, cv=5, scoring='neg_mean_squared_error'))\n",
    "cv_10 = np.mean(cross_val_score(ols,X, y, cv=10, scoring='neg_mean_squared_error'))\n",
    "cv_20 = np.mean(cross_val_score(ols,X , y, cv=20, scoring='neg_mean_squared_error'))\n",
    "print(cv_5)\n",
    "print(cv_10)\n",
    "print(cv_20)"
   ]
  },
  {
   "cell_type": "code",
   "execution_count": 56,
   "metadata": {},
   "outputs": [
    {
     "name": "stdout",
     "output_type": "stream",
     "text": [
      "0.7090055729492816\n",
      "0.7079759322327159\n",
      "0.7081980832202263\n"
     ]
    }
   ],
   "source": [
    "\n",
    "cv_5 = np.mean(cross_val_score(ols,X , y, cv=5, scoring=\"r2\"))\n",
    "cv_10 = np.mean(cross_val_score(ols,X, y, cv=10, scoring=\"r2\"))\n",
    "cv_20 = np.mean(cross_val_score(ols,X , y, cv=20, scoring=\"r2\"))\n",
    "print(cv_5)\n",
    "print(cv_10)\n",
    "print(cv_20)"
   ]
  },
  {
   "cell_type": "code",
   "execution_count": 57,
   "metadata": {},
   "outputs": [],
   "source": [
    "def make_ols_sklearn(X, y, test_size=0.20, fit_intercept=False, standardize=False):\n",
    "    X_train, X_test, y_train, y_test = train_test_split(X, y, test_size=test_size)\n",
    "    if standardize:\n",
    "        ss = StandardScaler()\n",
    "        ss.fit(X_train)\n",
    "        X_train = ss.transform(X_train)\n",
    "        X_test = ss.transform(X_test)\n",
    "    ols = LinearRegression(fit_intercept=fit_intercept, normalize=False)\n",
    "    ols.fit(X_train, y_train)\n",
    "    train_score = ols.score(X_train, y_train)\n",
    "    test_score = ols.score(X_test, y_test)\n",
    "    print(f\"train score = {train_score}\")\n",
    "    print(f\"test score = {test_score}\")\n",
    "    return ols"
   ]
  },
  {
   "cell_type": "code",
   "execution_count": 58,
   "metadata": {},
   "outputs": [
    {
     "name": "stdout",
     "output_type": "stream",
     "text": [
      "train score = 0.7103431855231624\n",
      "test score = 0.7115330448709584\n"
     ]
    },
    {
     "data": {
      "text/plain": [
       "LinearRegression(copy_X=True, fit_intercept=False, n_jobs=None, normalize=False)"
      ]
     },
     "execution_count": 58,
     "metadata": {},
     "output_type": "execute_result"
    }
   ],
   "source": [
    "make_ols_sklearn(X, y)"
   ]
  },
  {
   "cell_type": "code",
   "execution_count": 59,
   "metadata": {},
   "outputs": [
    {
     "name": "stdout",
     "output_type": "stream",
     "text": [
      "train score = 0.710277234594427\n",
      "test score = 0.7118771374690441\n"
     ]
    },
    {
     "data": {
      "text/plain": [
       "LinearRegression(copy_X=True, fit_intercept=False, n_jobs=None, normalize=False)"
      ]
     },
     "execution_count": 59,
     "metadata": {},
     "output_type": "execute_result"
    }
   ],
   "source": [
    "make_ols_sklearn(X, y)"
   ]
  },
  {
   "cell_type": "code",
   "execution_count": 60,
   "metadata": {},
   "outputs": [
    {
     "name": "stdout",
     "output_type": "stream",
     "text": [
      "train score = 0.7097223835299183\n",
      "test score = 0.7137731195225208\n"
     ]
    },
    {
     "data": {
      "text/plain": [
       "LinearRegression(copy_X=True, fit_intercept=False, n_jobs=None, normalize=False)"
      ]
     },
     "execution_count": 60,
     "metadata": {},
     "output_type": "execute_result"
    }
   ],
   "source": [
    "make_ols_sklearn(X, y)"
   ]
  },
  {
   "cell_type": "code",
   "execution_count": 61,
   "metadata": {},
   "outputs": [
    {
     "name": "stdout",
     "output_type": "stream",
     "text": [
      "train score = 0.7115044914364105\n",
      "test score = 0.7070222307350915\n"
     ]
    },
    {
     "data": {
      "text/plain": [
       "LinearRegression(copy_X=True, fit_intercept=False, n_jobs=None, normalize=False)"
      ]
     },
     "execution_count": 61,
     "metadata": {},
     "output_type": "execute_result"
    }
   ],
   "source": [
    "make_ols_sklearn(X, y)"
   ]
  },
  {
   "cell_type": "code",
   "execution_count": 62,
   "metadata": {},
   "outputs": [
    {
     "name": "stdout",
     "output_type": "stream",
     "text": [
      "train score = 0.7104937912537925\n",
      "test score = 0.7110494734757106\n"
     ]
    },
    {
     "data": {
      "text/plain": [
       "LinearRegression(copy_X=True, fit_intercept=False, n_jobs=None, normalize=False)"
      ]
     },
     "execution_count": 62,
     "metadata": {},
     "output_type": "execute_result"
    }
   ],
   "source": [
    "make_ols_sklearn(X, y)"
   ]
  },
  {
   "cell_type": "code",
   "execution_count": 63,
   "metadata": {},
   "outputs": [
    {
     "name": "stdout",
     "output_type": "stream",
     "text": [
      "train score = 0.7094146327763577\n",
      "test score = 0.7152429115856385\n"
     ]
    },
    {
     "data": {
      "text/plain": [
       "LinearRegression(copy_X=True, fit_intercept=False, n_jobs=None, normalize=False)"
      ]
     },
     "execution_count": 63,
     "metadata": {},
     "output_type": "execute_result"
    }
   ],
   "source": [
    "make_ols_sklearn(X, y)"
   ]
  },
  {
   "cell_type": "code",
   "execution_count": 64,
   "metadata": {},
   "outputs": [
    {
     "name": "stdout",
     "output_type": "stream",
     "text": [
      "train score = 0.7111197982862436\n",
      "test score = 0.7086122486293511\n"
     ]
    },
    {
     "data": {
      "text/plain": [
       "LinearRegression(copy_X=True, fit_intercept=False, n_jobs=None, normalize=False)"
      ]
     },
     "execution_count": 64,
     "metadata": {},
     "output_type": "execute_result"
    }
   ],
   "source": [
    "make_ols_sklearn(X, y)"
   ]
  },
  {
   "cell_type": "code",
   "execution_count": 65,
   "metadata": {},
   "outputs": [
    {
     "data": {
      "text/plain": [
       "0         18465.974669\n",
       "1         -6654.097775\n",
       "2        128355.118332\n",
       "3        -14436.370468\n",
       "5         21815.730712\n",
       "             ...      \n",
       "19216      1682.547462\n",
       "19217   -106810.844234\n",
       "19218   -175320.553075\n",
       "19219    -84903.025567\n",
       "19220   -156792.284461\n",
       "Length: 17206, dtype: float64"
      ]
     },
     "execution_count": 65,
     "metadata": {},
     "output_type": "execute_result"
    }
   ],
   "source": [
    "residuals"
   ]
  },
  {
   "cell_type": "code",
   "execution_count": 66,
   "metadata": {},
   "outputs": [
    {
     "data": {
      "text/plain": [
       "0        538000.0\n",
       "1        180000.0\n",
       "2        604000.0\n",
       "3        510000.0\n",
       "5        257500.0\n",
       "           ...   \n",
       "19216    475000.0\n",
       "19217    360000.0\n",
       "19218    400000.0\n",
       "19219    402101.0\n",
       "19220    325000.0\n",
       "Name: price, Length: 17206, dtype: float64"
      ]
     },
     "execution_count": 66,
     "metadata": {},
     "output_type": "execute_result"
    }
   ],
   "source": [
    "y"
   ]
  },
  {
   "cell_type": "code",
   "execution_count": 67,
   "metadata": {},
   "outputs": [],
   "source": [
    "resid = pd.DataFrame(y)"
   ]
  },
  {
   "cell_type": "code",
   "execution_count": 68,
   "metadata": {},
   "outputs": [],
   "source": [
    "resid['residuals']  = residuals"
   ]
  },
  {
   "cell_type": "code",
   "execution_count": 69,
   "metadata": {},
   "outputs": [
    {
     "data": {
      "text/html": [
       "<div>\n",
       "<style scoped>\n",
       "    .dataframe tbody tr th:only-of-type {\n",
       "        vertical-align: middle;\n",
       "    }\n",
       "\n",
       "    .dataframe tbody tr th {\n",
       "        vertical-align: top;\n",
       "    }\n",
       "\n",
       "    .dataframe thead th {\n",
       "        text-align: right;\n",
       "    }\n",
       "</style>\n",
       "<table border=\"1\" class=\"dataframe\">\n",
       "  <thead>\n",
       "    <tr style=\"text-align: right;\">\n",
       "      <th></th>\n",
       "      <th>price</th>\n",
       "      <th>residuals</th>\n",
       "    </tr>\n",
       "  </thead>\n",
       "  <tbody>\n",
       "    <tr>\n",
       "      <td>0</td>\n",
       "      <td>538000.0</td>\n",
       "      <td>18465.974669</td>\n",
       "    </tr>\n",
       "    <tr>\n",
       "      <td>1</td>\n",
       "      <td>180000.0</td>\n",
       "      <td>-6654.097775</td>\n",
       "    </tr>\n",
       "    <tr>\n",
       "      <td>2</td>\n",
       "      <td>604000.0</td>\n",
       "      <td>128355.118332</td>\n",
       "    </tr>\n",
       "    <tr>\n",
       "      <td>3</td>\n",
       "      <td>510000.0</td>\n",
       "      <td>-14436.370468</td>\n",
       "    </tr>\n",
       "    <tr>\n",
       "      <td>5</td>\n",
       "      <td>257500.0</td>\n",
       "      <td>21815.730712</td>\n",
       "    </tr>\n",
       "    <tr>\n",
       "      <td>...</td>\n",
       "      <td>...</td>\n",
       "      <td>...</td>\n",
       "    </tr>\n",
       "    <tr>\n",
       "      <td>19216</td>\n",
       "      <td>475000.0</td>\n",
       "      <td>1682.547462</td>\n",
       "    </tr>\n",
       "    <tr>\n",
       "      <td>19217</td>\n",
       "      <td>360000.0</td>\n",
       "      <td>-106810.844234</td>\n",
       "    </tr>\n",
       "    <tr>\n",
       "      <td>19218</td>\n",
       "      <td>400000.0</td>\n",
       "      <td>-175320.553075</td>\n",
       "    </tr>\n",
       "    <tr>\n",
       "      <td>19219</td>\n",
       "      <td>402101.0</td>\n",
       "      <td>-84903.025567</td>\n",
       "    </tr>\n",
       "    <tr>\n",
       "      <td>19220</td>\n",
       "      <td>325000.0</td>\n",
       "      <td>-156792.284461</td>\n",
       "    </tr>\n",
       "  </tbody>\n",
       "</table>\n",
       "<p>17206 rows × 2 columns</p>\n",
       "</div>"
      ],
      "text/plain": [
       "          price      residuals\n",
       "0      538000.0   18465.974669\n",
       "1      180000.0   -6654.097775\n",
       "2      604000.0  128355.118332\n",
       "3      510000.0  -14436.370468\n",
       "5      257500.0   21815.730712\n",
       "...         ...            ...\n",
       "19216  475000.0    1682.547462\n",
       "19217  360000.0 -106810.844234\n",
       "19218  400000.0 -175320.553075\n",
       "19219  402101.0  -84903.025567\n",
       "19220  325000.0 -156792.284461\n",
       "\n",
       "[17206 rows x 2 columns]"
      ]
     },
     "execution_count": 69,
     "metadata": {},
     "output_type": "execute_result"
    }
   ],
   "source": [
    "resid"
   ]
  },
  {
   "cell_type": "code",
   "execution_count": 70,
   "metadata": {},
   "outputs": [],
   "source": [
    "import seaborn as sns"
   ]
  },
  {
   "cell_type": "code",
   "execution_count": 71,
   "metadata": {},
   "outputs": [
    {
     "data": {
      "text/plain": [
       "<matplotlib.axes._subplots.AxesSubplot at 0x1c25af3fd0>"
      ]
     },
     "execution_count": 71,
     "metadata": {},
     "output_type": "execute_result"
    },
    {
     "data": {
      "image/png": "[encoded data removed]",
      "text/plain": [
       "<Figure size 1080x1080 with 1 Axes>"
      ]
     },
     "metadata": {
      "needs_background": "light"
     },
     "output_type": "display_data"
    }
   ],
   "source": [
    "plt.figure(figsize= (15,15))\n",
    "\n",
    "sns.regplot(y='residuals',x='price',data=resid)"
   ]
  },
  {
   "cell_type": "code",
   "execution_count": null,
   "metadata": {},
   "outputs": [],
   "source": []
  },
  {
   "cell_type": "code",
   "execution_count": null,
   "metadata": {},
   "outputs": [],
   "source": []
  },
  {
   "cell_type": "code",
   "execution_count": null,
   "metadata": {},
   "outputs": [],
   "source": []
  }
 ],
 "metadata": {
  "kernelspec": {
   "display_name": "Python [conda env:learn-env] *",
   "language": "python",
   "name": "conda-env-learn-env-py"
  },
  "language_info": {
   "codemirror_mode": {
    "name": "ipython",
    "version": 3
   },
   "file_extension": ".py",
   "mimetype": "text/x-python",
   "name": "python",
   "nbconvert_exporter": "python",
   "pygments_lexer": "ipython3",
   "version": "3.6.9"
  }
 },
 "nbformat": 4,
 "nbformat_minor": 2
}
