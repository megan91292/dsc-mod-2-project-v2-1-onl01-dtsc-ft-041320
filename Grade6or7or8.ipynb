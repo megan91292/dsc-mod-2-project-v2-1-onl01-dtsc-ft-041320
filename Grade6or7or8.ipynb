{
 "cells": [
  {
   "cell_type": "code",
   "execution_count": 4,
   "metadata": {},
   "outputs": [],
   "source": [
    "import pandas as pd\n",
    "import matplotlib.pyplot as plt\n",
    "import numpy as np\n",
    "import seaborn as sns\n",
    "sns.set_style('darkgrid')\n",
    "\n",
    "from statsmodels.formula.api import ols\n",
    "from statsmodels.stats.outliers_influence import variance_inflation_factor\n",
    "import statsmodels.api as sm\n",
    "import scipy.stats as scs\n",
    "from sklearn.model_selection import train_test_split\n",
    "from sklearn.preprocessing import PowerTransformer\n"
   ]
  },
  {
   "cell_type": "code",
   "execution_count": 5,
   "metadata": {},
   "outputs": [],
   "source": [
    "df = pd.read_csv('data_correlation_gone.csv',index_col = 0)"
   ]
  },
  {
   "cell_type": "code",
   "execution_count": 6,
   "metadata": {},
   "outputs": [
    {
     "data": {
      "text/plain": [
       "price                    1.000000\n",
       "bedrooms                 0.305216\n",
       "bathrooms                0.449451\n",
       "sqft_living              0.621417\n",
       "sqft_lot                 0.092917\n",
       "floors                   0.281286\n",
       "waterfront                    NaN\n",
       "view                     0.196068\n",
       "condition                0.047187\n",
       "grade                    0.633678\n",
       "zipcode                 -0.039173\n",
       "Age_of_House            -0.043720\n",
       "Years_last_renovation   -0.078572\n",
       "basement                 0.150544\n",
       "biggerliving             0.211362\n",
       "biggerlot                0.021882\n",
       "distance_from_a_city    -0.483953\n",
       "distance_from_airport    0.297453\n",
       "Name: price, dtype: float64"
      ]
     },
     "execution_count": 6,
     "metadata": {},
     "output_type": "execute_result"
    }
   ],
   "source": [
    "df.corr()['price']"
   ]
  },
  {
   "cell_type": "code",
   "execution_count": 7,
   "metadata": {},
   "outputs": [
    {
     "data": {
      "text/plain": [
       "(17206, 19)"
      ]
     },
     "execution_count": 7,
     "metadata": {},
     "output_type": "execute_result"
    }
   ],
   "source": [
    "df.shape"
   ]
  },
  {
   "cell_type": "code",
   "execution_count": 8,
   "metadata": {},
   "outputs": [],
   "source": [
    "df = df.loc[df['sqft_lot']<45000.00]"
   ]
  },
  {
   "cell_type": "code",
   "execution_count": 222,
   "metadata": {},
   "outputs": [],
   "source": [
    "df = df.loc[(df['grade']>7)]"
   ]
  },
  {
   "cell_type": "code",
   "execution_count": 223,
   "metadata": {},
   "outputs": [],
   "source": [
    "df = df.loc[(df['grade']==7)|(df['grade']==8)]"
   ]
  },
  {
   "cell_type": "code",
   "execution_count": 230,
   "metadata": {},
   "outputs": [
    {
     "data": {
      "image/png": "[encoded data removed]",
      "text/plain": [
       "<Figure size 432x288 with 1 Axes>"
      ]
     },
     "metadata": {},
     "output_type": "display_data"
    }
   ],
   "source": [
    "sns.violinplot(x='price', y='grade', data=df, orient='h')\n",
    "plt.show()"
   ]
  },
  {
   "cell_type": "code",
   "execution_count": 225,
   "metadata": {},
   "outputs": [
    {
     "data": {
      "text/plain": [
       "(4859, 19)"
      ]
     },
     "execution_count": 225,
     "metadata": {},
     "output_type": "execute_result"
    }
   ],
   "source": [
    "df.shape"
   ]
  },
  {
   "cell_type": "code",
   "execution_count": 90,
   "metadata": {},
   "outputs": [],
   "source": [
    "df['grade9'] = df.grade.apply(lambda x: 1 if x ==9 else 0)\n",
    "df['grade8'] = df.grade.apply(lambda x: 1 if x ==8 else 0)\n",
    "df['grade10'] = df.grade.apply(lambda x: 1 if x ==10 else 0)\n",
    "df['grade11'] = df.grade.apply(lambda x: 1 if x ==11 else 0)\n"
   ]
  },
  {
   "cell_type": "code",
   "execution_count": 91,
   "metadata": {},
   "outputs": [
    {
     "data": {
      "text/plain": [
       "Index(['date', 'price', 'bedrooms', 'bathrooms', 'sqft_living', 'sqft_lot',\n",
       "       'floors', 'waterfront', 'view', 'condition', 'grade', 'zipcode',\n",
       "       'Age_of_House', 'Years_last_renovation', 'basement', 'biggerliving',\n",
       "       'biggerlot', 'distance_from_a_city', 'distance_from_airport', 'grade9',\n",
       "       'grade8', 'grade10', 'grade11'],\n",
       "      dtype='object')"
      ]
     },
     "execution_count": 91,
     "metadata": {},
     "output_type": "execute_result"
    }
   ],
   "source": [
    "df.columns"
   ]
  },
  {
   "cell_type": "code",
   "execution_count": 92,
   "metadata": {},
   "outputs": [
    {
     "data": {
      "text/html": [
       "<div>\n",
       "<style scoped>\n",
       "    .dataframe tbody tr th:only-of-type {\n",
       "        vertical-align: middle;\n",
       "    }\n",
       "\n",
       "    .dataframe tbody tr th {\n",
       "        vertical-align: top;\n",
       "    }\n",
       "\n",
       "    .dataframe thead th {\n",
       "        text-align: right;\n",
       "    }\n",
       "</style>\n",
       "<table border=\"1\" class=\"dataframe\">\n",
       "  <thead>\n",
       "    <tr style=\"text-align: right;\">\n",
       "      <th></th>\n",
       "      <th>date</th>\n",
       "      <th>price</th>\n",
       "      <th>bedrooms</th>\n",
       "      <th>bathrooms</th>\n",
       "      <th>sqft_living</th>\n",
       "      <th>sqft_lot</th>\n",
       "      <th>floors</th>\n",
       "      <th>waterfront</th>\n",
       "      <th>view</th>\n",
       "      <th>condition</th>\n",
       "      <th>...</th>\n",
       "      <th>Years_last_renovation</th>\n",
       "      <th>basement</th>\n",
       "      <th>biggerliving</th>\n",
       "      <th>biggerlot</th>\n",
       "      <th>distance_from_a_city</th>\n",
       "      <th>distance_from_airport</th>\n",
       "      <th>grade9</th>\n",
       "      <th>grade8</th>\n",
       "      <th>grade10</th>\n",
       "      <th>grade11</th>\n",
       "    </tr>\n",
       "  </thead>\n",
       "  <tbody>\n",
       "    <tr>\n",
       "      <td>3</td>\n",
       "      <td>2015-02-18</td>\n",
       "      <td>510000.0</td>\n",
       "      <td>3</td>\n",
       "      <td>2.00</td>\n",
       "      <td>1680</td>\n",
       "      <td>8080</td>\n",
       "      <td>1.0</td>\n",
       "      <td>0.0</td>\n",
       "      <td>0.0</td>\n",
       "      <td>3</td>\n",
       "      <td>...</td>\n",
       "      <td>33</td>\n",
       "      <td>0</td>\n",
       "      <td>0</td>\n",
       "      <td>1</td>\n",
       "      <td>11.683886</td>\n",
       "      <td>27.230991</td>\n",
       "      <td>0</td>\n",
       "      <td>1</td>\n",
       "      <td>0</td>\n",
       "      <td>0</td>\n",
       "    </tr>\n",
       "    <tr>\n",
       "      <td>20</td>\n",
       "      <td>2014-07-03</td>\n",
       "      <td>285000.0</td>\n",
       "      <td>5</td>\n",
       "      <td>2.50</td>\n",
       "      <td>2270</td>\n",
       "      <td>6300</td>\n",
       "      <td>2.0</td>\n",
       "      <td>0.0</td>\n",
       "      <td>0.0</td>\n",
       "      <td>3</td>\n",
       "      <td>...</td>\n",
       "      <td>25</td>\n",
       "      <td>0</td>\n",
       "      <td>1</td>\n",
       "      <td>0</td>\n",
       "      <td>31.624508</td>\n",
       "      <td>16.386274</td>\n",
       "      <td>0</td>\n",
       "      <td>1</td>\n",
       "      <td>0</td>\n",
       "      <td>0</td>\n",
       "    </tr>\n",
       "    <tr>\n",
       "      <td>21</td>\n",
       "      <td>2014-11-20</td>\n",
       "      <td>329000.0</td>\n",
       "      <td>3</td>\n",
       "      <td>2.25</td>\n",
       "      <td>2450</td>\n",
       "      <td>6500</td>\n",
       "      <td>2.0</td>\n",
       "      <td>0.0</td>\n",
       "      <td>0.0</td>\n",
       "      <td>4</td>\n",
       "      <td>...</td>\n",
       "      <td>35</td>\n",
       "      <td>0</td>\n",
       "      <td>1</td>\n",
       "      <td>0</td>\n",
       "      <td>26.366708</td>\n",
       "      <td>12.449169</td>\n",
       "      <td>0</td>\n",
       "      <td>1</td>\n",
       "      <td>0</td>\n",
       "      <td>0</td>\n",
       "    </tr>\n",
       "    <tr>\n",
       "      <td>23</td>\n",
       "      <td>2014-06-26</td>\n",
       "      <td>937000.0</td>\n",
       "      <td>3</td>\n",
       "      <td>1.75</td>\n",
       "      <td>2450</td>\n",
       "      <td>2691</td>\n",
       "      <td>2.0</td>\n",
       "      <td>0.0</td>\n",
       "      <td>0.0</td>\n",
       "      <td>3</td>\n",
       "      <td>...</td>\n",
       "      <td>105</td>\n",
       "      <td>1</td>\n",
       "      <td>1</td>\n",
       "      <td>0</td>\n",
       "      <td>3.874600</td>\n",
       "      <td>22.112819</td>\n",
       "      <td>0</td>\n",
       "      <td>1</td>\n",
       "      <td>0</td>\n",
       "      <td>0</td>\n",
       "    </tr>\n",
       "    <tr>\n",
       "      <td>24</td>\n",
       "      <td>2014-12-01</td>\n",
       "      <td>667000.0</td>\n",
       "      <td>3</td>\n",
       "      <td>1.00</td>\n",
       "      <td>1400</td>\n",
       "      <td>1581</td>\n",
       "      <td>1.5</td>\n",
       "      <td>0.0</td>\n",
       "      <td>0.0</td>\n",
       "      <td>5</td>\n",
       "      <td>...</td>\n",
       "      <td>111</td>\n",
       "      <td>0</td>\n",
       "      <td>0</td>\n",
       "      <td>0</td>\n",
       "      <td>2.228173</td>\n",
       "      <td>19.863426</td>\n",
       "      <td>0</td>\n",
       "      <td>1</td>\n",
       "      <td>0</td>\n",
       "      <td>0</td>\n",
       "    </tr>\n",
       "  </tbody>\n",
       "</table>\n",
       "<p>5 rows × 23 columns</p>\n",
       "</div>"
      ],
      "text/plain": [
       "          date     price  bedrooms  bathrooms  sqft_living  sqft_lot  floors  \\\n",
       "3   2015-02-18  510000.0         3       2.00         1680      8080     1.0   \n",
       "20  2014-07-03  285000.0         5       2.50         2270      6300     2.0   \n",
       "21  2014-11-20  329000.0         3       2.25         2450      6500     2.0   \n",
       "23  2014-06-26  937000.0         3       1.75         2450      2691     2.0   \n",
       "24  2014-12-01  667000.0         3       1.00         1400      1581     1.5   \n",
       "\n",
       "    waterfront  view  condition  ...  Years_last_renovation  basement  \\\n",
       "3          0.0   0.0          3  ...                     33         0   \n",
       "20         0.0   0.0          3  ...                     25         0   \n",
       "21         0.0   0.0          4  ...                     35         0   \n",
       "23         0.0   0.0          3  ...                    105         1   \n",
       "24         0.0   0.0          5  ...                    111         0   \n",
       "\n",
       "    biggerliving  biggerlot  distance_from_a_city  distance_from_airport  \\\n",
       "3              0          1             11.683886              27.230991   \n",
       "20             1          0             31.624508              16.386274   \n",
       "21             1          0             26.366708              12.449169   \n",
       "23             1          0              3.874600              22.112819   \n",
       "24             0          0              2.228173              19.863426   \n",
       "\n",
       "    grade9  grade8  grade10  grade11  \n",
       "3        0       1        0        0  \n",
       "20       0       1        0        0  \n",
       "21       0       1        0        0  \n",
       "23       0       1        0        0  \n",
       "24       0       1        0        0  \n",
       "\n",
       "[5 rows x 23 columns]"
      ]
     },
     "execution_count": 92,
     "metadata": {},
     "output_type": "execute_result"
    }
   ],
   "source": [
    "df.head()"
   ]
  },
  {
   "cell_type": "code",
   "execution_count": 93,
   "metadata": {},
   "outputs": [
    {
     "data": {
      "text/plain": [
       "<matplotlib.axes._subplots.AxesSubplot at 0x1c1ae3aef0>"
      ]
     },
     "execution_count": 93,
     "metadata": {},
     "output_type": "execute_result"
    },
    {
     "data": {
      "image/png": "[encoded data removed]",
      "text/plain": [
       "<Figure size 432x288 with 1 Axes>"
      ]
     },
     "metadata": {},
     "output_type": "display_data"
    }
   ],
   "source": [
    "df['price'].hist()"
   ]
  },
  {
   "cell_type": "code",
   "execution_count": 94,
   "metadata": {},
   "outputs": [],
   "source": [
    "features =  ['sqft_living','Age_of_House', 'Years_last_renovation','distance_from_a_city','sqft_lot']"
   ]
  },
  {
   "cell_type": "code",
   "execution_count": 95,
   "metadata": {},
   "outputs": [
    {
     "data": {
      "image/png": "[encoded data removed]",
      "text/plain": [
       "<Figure size 432x288 with 6 Axes>"
      ]
     },
     "metadata": {},
     "output_type": "display_data"
    }
   ],
   "source": [
    "df[features].hist();"
   ]
  },
  {
   "cell_type": "code",
   "execution_count": 49,
   "metadata": {},
   "outputs": [],
   "source": [
    "tobox = ['distance_from_a_city','sqft_lot','sqft_living',]"
   ]
  },
  {
   "cell_type": "code",
   "execution_count": 96,
   "metadata": {},
   "outputs": [],
   "source": [
    "for feat in features:\n",
    "    df[feat],b = scs.boxcox(df[feat])\n"
   ]
  },
  {
   "cell_type": "code",
   "execution_count": 97,
   "metadata": {},
   "outputs": [
    {
     "data": {
      "image/png": "[encoded data removed]",
      "text/plain": [
       "<Figure size 432x288 with 6 Axes>"
      ]
     },
     "metadata": {},
     "output_type": "display_data"
    }
   ],
   "source": [
    "df[features].hist();"
   ]
  },
  {
   "cell_type": "code",
   "execution_count": 98,
   "metadata": {},
   "outputs": [],
   "source": [
    "def norm_feat(series):\n",
    "    return (series - series.mean())/series.std()"
   ]
  },
  {
   "cell_type": "code",
   "execution_count": 99,
   "metadata": {},
   "outputs": [],
   "source": [
    "df['bedbath'] = df['bedrooms']*df['bathrooms']"
   ]
  },
  {
   "cell_type": "code",
   "execution_count": 100,
   "metadata": {},
   "outputs": [],
   "source": [
    "df['livinglot'] = df['sqft_living']*df['sqft_lot']"
   ]
  },
  {
   "cell_type": "code",
   "execution_count": 101,
   "metadata": {},
   "outputs": [],
   "source": [
    "norm = ['bedrooms','bathrooms','sqft_living','sqft_lot','distance_from_a_city','Age_of_House',\n",
    "           'Years_last_renovation','bedbath','livinglot']\n"
   ]
  },
  {
   "cell_type": "code",
   "execution_count": 102,
   "metadata": {},
   "outputs": [],
   "source": [
    "for feat in norm:\n",
    "    df[feat] = norm_feat(df[feat])\n"
   ]
  },
  {
   "cell_type": "code",
   "execution_count": 103,
   "metadata": {},
   "outputs": [],
   "source": [
    "# tomodel = ['distance_from_a_city','Years_last_renovation','sqft_living']"
   ]
  },
  {
   "cell_type": "code",
   "execution_count": 104,
   "metadata": {},
   "outputs": [
    {
     "data": {
      "text/plain": [
       "Index(['date', 'price', 'bedrooms', 'bathrooms', 'sqft_living', 'sqft_lot',\n",
       "       'floors', 'waterfront', 'view', 'condition', 'grade', 'zipcode',\n",
       "       'Age_of_House', 'Years_last_renovation', 'basement', 'biggerliving',\n",
       "       'biggerlot', 'distance_from_a_city', 'distance_from_airport', 'grade9',\n",
       "       'grade8', 'grade10', 'grade11', 'bedbath', 'livinglot'],\n",
       "      dtype='object')"
      ]
     },
     "execution_count": 104,
     "metadata": {},
     "output_type": "execute_result"
    }
   ],
   "source": [
    "df.columns"
   ]
  },
  {
   "cell_type": "code",
   "execution_count": 105,
   "metadata": {},
   "outputs": [],
   "source": [
    "# x_cols = ['bedrooms','bathrooms','sqft_living','sqft_lot','distance_from_a_city',\n",
    "#            'Age_of_House','basement','bedbath','grade']\n",
    "# outcome = ['price']"
   ]
  },
  {
   "cell_type": "code",
   "execution_count": 166,
   "metadata": {},
   "outputs": [],
   "source": [
    "x_cols = ['bedrooms','bathrooms','sqft_living','sqft_lot','distance_from_a_city',\n",
    "           'Years_last_renovation','bedbath','grade8', 'grade9', 'grade10', 'grade11',]\n",
    "outcome = ['price']"
   ]
  },
  {
   "cell_type": "code",
   "execution_count": 167,
   "metadata": {},
   "outputs": [],
   "source": [
    "train, test = train_test_split(df)\n"
   ]
  },
  {
   "cell_type": "code",
   "execution_count": 168,
   "metadata": {},
   "outputs": [
    {
     "name": "stdout",
     "output_type": "stream",
     "text": [
      "5307 1769\n"
     ]
    },
    {
     "data": {
      "text/html": [
       "<div>\n",
       "<style scoped>\n",
       "    .dataframe tbody tr th:only-of-type {\n",
       "        vertical-align: middle;\n",
       "    }\n",
       "\n",
       "    .dataframe tbody tr th {\n",
       "        vertical-align: top;\n",
       "    }\n",
       "\n",
       "    .dataframe thead th {\n",
       "        text-align: right;\n",
       "    }\n",
       "</style>\n",
       "<table border=\"1\" class=\"dataframe\">\n",
       "  <thead>\n",
       "    <tr style=\"text-align: right;\">\n",
       "      <th></th>\n",
       "      <th>date</th>\n",
       "      <th>price</th>\n",
       "      <th>bedrooms</th>\n",
       "      <th>bathrooms</th>\n",
       "      <th>sqft_living</th>\n",
       "      <th>sqft_lot</th>\n",
       "      <th>floors</th>\n",
       "      <th>waterfront</th>\n",
       "      <th>view</th>\n",
       "      <th>condition</th>\n",
       "      <th>...</th>\n",
       "      <th>biggerliving</th>\n",
       "      <th>biggerlot</th>\n",
       "      <th>distance_from_a_city</th>\n",
       "      <th>distance_from_airport</th>\n",
       "      <th>grade9</th>\n",
       "      <th>grade8</th>\n",
       "      <th>grade10</th>\n",
       "      <th>grade11</th>\n",
       "      <th>bedbath</th>\n",
       "      <th>livinglot</th>\n",
       "    </tr>\n",
       "  </thead>\n",
       "  <tbody>\n",
       "    <tr>\n",
       "      <td>5025</td>\n",
       "      <td>2014-12-16</td>\n",
       "      <td>998000.0</td>\n",
       "      <td>0.541813</td>\n",
       "      <td>-0.399911</td>\n",
       "      <td>0.754136</td>\n",
       "      <td>0.466591</td>\n",
       "      <td>2.0</td>\n",
       "      <td>0.0</td>\n",
       "      <td>0.0</td>\n",
       "      <td>3</td>\n",
       "      <td>...</td>\n",
       "      <td>1</td>\n",
       "      <td>1</td>\n",
       "      <td>-0.601037</td>\n",
       "      <td>15.879033</td>\n",
       "      <td>1</td>\n",
       "      <td>0</td>\n",
       "      <td>0</td>\n",
       "      <td>0</td>\n",
       "      <td>0.015965</td>\n",
       "      <td>0.712839</td>\n",
       "    </tr>\n",
       "    <tr>\n",
       "      <td>1453</td>\n",
       "      <td>2014-10-29</td>\n",
       "      <td>810000.0</td>\n",
       "      <td>1.812682</td>\n",
       "      <td>1.969722</td>\n",
       "      <td>1.540405</td>\n",
       "      <td>0.387805</td>\n",
       "      <td>2.0</td>\n",
       "      <td>0.0</td>\n",
       "      <td>0.0</td>\n",
       "      <td>3</td>\n",
       "      <td>...</td>\n",
       "      <td>1</td>\n",
       "      <td>0</td>\n",
       "      <td>-0.535757</td>\n",
       "      <td>11.907127</td>\n",
       "      <td>1</td>\n",
       "      <td>0</td>\n",
       "      <td>0</td>\n",
       "      <td>0</td>\n",
       "      <td>2.669915</td>\n",
       "      <td>1.143068</td>\n",
       "    </tr>\n",
       "    <tr>\n",
       "      <td>2761</td>\n",
       "      <td>2015-04-16</td>\n",
       "      <td>750000.0</td>\n",
       "      <td>0.541813</td>\n",
       "      <td>-0.399911</td>\n",
       "      <td>0.089091</td>\n",
       "      <td>0.583435</td>\n",
       "      <td>1.0</td>\n",
       "      <td>0.0</td>\n",
       "      <td>2.0</td>\n",
       "      <td>4</td>\n",
       "      <td>...</td>\n",
       "      <td>1</td>\n",
       "      <td>1</td>\n",
       "      <td>0.077000</td>\n",
       "      <td>7.520892</td>\n",
       "      <td>0</td>\n",
       "      <td>1</td>\n",
       "      <td>0</td>\n",
       "      <td>0</td>\n",
       "      <td>0.015965</td>\n",
       "      <td>0.371569</td>\n",
       "    </tr>\n",
       "    <tr>\n",
       "      <td>1542</td>\n",
       "      <td>2014-11-07</td>\n",
       "      <td>785000.0</td>\n",
       "      <td>-0.729056</td>\n",
       "      <td>0.074015</td>\n",
       "      <td>0.779994</td>\n",
       "      <td>2.204159</td>\n",
       "      <td>2.0</td>\n",
       "      <td>0.0</td>\n",
       "      <td>2.0</td>\n",
       "      <td>3</td>\n",
       "      <td>...</td>\n",
       "      <td>0</td>\n",
       "      <td>0</td>\n",
       "      <td>0.013069</td>\n",
       "      <td>15.791403</td>\n",
       "      <td>1</td>\n",
       "      <td>0</td>\n",
       "      <td>0</td>\n",
       "      <td>0</td>\n",
       "      <td>-0.452379</td>\n",
       "      <td>1.915925</td>\n",
       "    </tr>\n",
       "    <tr>\n",
       "      <td>4513</td>\n",
       "      <td>2014-06-23</td>\n",
       "      <td>479000.0</td>\n",
       "      <td>-0.729056</td>\n",
       "      <td>-0.399911</td>\n",
       "      <td>-0.368480</td>\n",
       "      <td>0.607307</td>\n",
       "      <td>2.0</td>\n",
       "      <td>0.0</td>\n",
       "      <td>0.0</td>\n",
       "      <td>4</td>\n",
       "      <td>...</td>\n",
       "      <td>1</td>\n",
       "      <td>0</td>\n",
       "      <td>0.460606</td>\n",
       "      <td>36.292897</td>\n",
       "      <td>0</td>\n",
       "      <td>1</td>\n",
       "      <td>0</td>\n",
       "      <td>0</td>\n",
       "      <td>-0.686551</td>\n",
       "      <td>0.095904</td>\n",
       "    </tr>\n",
       "  </tbody>\n",
       "</table>\n",
       "<p>5 rows × 25 columns</p>\n",
       "</div>"
      ],
      "text/plain": [
       "            date     price  bedrooms  bathrooms  sqft_living  sqft_lot  \\\n",
       "5025  2014-12-16  998000.0  0.541813  -0.399911     0.754136  0.466591   \n",
       "1453  2014-10-29  810000.0  1.812682   1.969722     1.540405  0.387805   \n",
       "2761  2015-04-16  750000.0  0.541813  -0.399911     0.089091  0.583435   \n",
       "1542  2014-11-07  785000.0 -0.729056   0.074015     0.779994  2.204159   \n",
       "4513  2014-06-23  479000.0 -0.729056  -0.399911    -0.368480  0.607307   \n",
       "\n",
       "      floors  waterfront  view  condition  ...  biggerliving  biggerlot  \\\n",
       "5025     2.0         0.0   0.0          3  ...             1          1   \n",
       "1453     2.0         0.0   0.0          3  ...             1          0   \n",
       "2761     1.0         0.0   2.0          4  ...             1          1   \n",
       "1542     2.0         0.0   2.0          3  ...             0          0   \n",
       "4513     2.0         0.0   0.0          4  ...             1          0   \n",
       "\n",
       "      distance_from_a_city  distance_from_airport  grade9  grade8  grade10  \\\n",
       "5025             -0.601037              15.879033       1       0        0   \n",
       "1453             -0.535757              11.907127       1       0        0   \n",
       "2761              0.077000               7.520892       0       1        0   \n",
       "1542              0.013069              15.791403       1       0        0   \n",
       "4513              0.460606              36.292897       0       1        0   \n",
       "\n",
       "      grade11   bedbath  livinglot  \n",
       "5025        0  0.015965   0.712839  \n",
       "1453        0  2.669915   1.143068  \n",
       "2761        0  0.015965   0.371569  \n",
       "1542        0 -0.452379   1.915925  \n",
       "4513        0 -0.686551   0.095904  \n",
       "\n",
       "[5 rows x 25 columns]"
      ]
     },
     "execution_count": 168,
     "metadata": {},
     "output_type": "execute_result"
    }
   ],
   "source": [
    "print(len(train), len(test))\n",
    "train.head()"
   ]
  },
  {
   "cell_type": "code",
   "execution_count": 169,
   "metadata": {},
   "outputs": [
    {
     "data": {
      "text/html": [
       "<div>\n",
       "<style scoped>\n",
       "    .dataframe tbody tr th:only-of-type {\n",
       "        vertical-align: middle;\n",
       "    }\n",
       "\n",
       "    .dataframe tbody tr th {\n",
       "        vertical-align: top;\n",
       "    }\n",
       "\n",
       "    .dataframe thead th {\n",
       "        text-align: right;\n",
       "    }\n",
       "</style>\n",
       "<table border=\"1\" class=\"dataframe\">\n",
       "  <thead>\n",
       "    <tr style=\"text-align: right;\">\n",
       "      <th></th>\n",
       "      <th>bedrooms</th>\n",
       "      <th>bathrooms</th>\n",
       "      <th>sqft_living</th>\n",
       "      <th>sqft_lot</th>\n",
       "      <th>distance_from_a_city</th>\n",
       "      <th>Years_last_renovation</th>\n",
       "      <th>bedbath</th>\n",
       "      <th>grade8</th>\n",
       "      <th>grade9</th>\n",
       "      <th>grade10</th>\n",
       "      <th>grade11</th>\n",
       "    </tr>\n",
       "  </thead>\n",
       "  <tbody>\n",
       "    <tr>\n",
       "      <td>bedrooms</td>\n",
       "      <td>1.000000</td>\n",
       "      <td>0.357976</td>\n",
       "      <td>0.581413</td>\n",
       "      <td>0.324666</td>\n",
       "      <td>0.124818</td>\n",
       "      <td>0.053847</td>\n",
       "      <td>0.823536</td>\n",
       "      <td>-0.177353</td>\n",
       "      <td>0.133945</td>\n",
       "      <td>0.080127</td>\n",
       "      <td>0.050330</td>\n",
       "    </tr>\n",
       "    <tr>\n",
       "      <td>bathrooms</td>\n",
       "      <td>0.357976</td>\n",
       "      <td>1.000000</td>\n",
       "      <td>0.503430</td>\n",
       "      <td>0.030759</td>\n",
       "      <td>0.100518</td>\n",
       "      <td>-0.382035</td>\n",
       "      <td>0.805662</td>\n",
       "      <td>-0.303813</td>\n",
       "      <td>0.187811</td>\n",
       "      <td>0.202832</td>\n",
       "      <td>0.094316</td>\n",
       "    </tr>\n",
       "    <tr>\n",
       "      <td>sqft_living</td>\n",
       "      <td>0.581413</td>\n",
       "      <td>0.503430</td>\n",
       "      <td>1.000000</td>\n",
       "      <td>0.499138</td>\n",
       "      <td>0.194577</td>\n",
       "      <td>-0.039888</td>\n",
       "      <td>0.651775</td>\n",
       "      <td>-0.503011</td>\n",
       "      <td>0.308935</td>\n",
       "      <td>0.336191</td>\n",
       "      <td>0.164129</td>\n",
       "    </tr>\n",
       "    <tr>\n",
       "      <td>sqft_lot</td>\n",
       "      <td>0.324666</td>\n",
       "      <td>0.030759</td>\n",
       "      <td>0.499138</td>\n",
       "      <td>1.000000</td>\n",
       "      <td>0.323586</td>\n",
       "      <td>0.380932</td>\n",
       "      <td>0.209719</td>\n",
       "      <td>-0.203791</td>\n",
       "      <td>0.091438</td>\n",
       "      <td>0.181339</td>\n",
       "      <td>0.094594</td>\n",
       "    </tr>\n",
       "    <tr>\n",
       "      <td>distance_from_a_city</td>\n",
       "      <td>0.124818</td>\n",
       "      <td>0.100518</td>\n",
       "      <td>0.194577</td>\n",
       "      <td>0.323586</td>\n",
       "      <td>1.000000</td>\n",
       "      <td>-0.165918</td>\n",
       "      <td>0.129875</td>\n",
       "      <td>0.004401</td>\n",
       "      <td>-0.005081</td>\n",
       "      <td>-0.003917</td>\n",
       "      <td>0.011781</td>\n",
       "    </tr>\n",
       "    <tr>\n",
       "      <td>Years_last_renovation</td>\n",
       "      <td>0.053847</td>\n",
       "      <td>-0.382035</td>\n",
       "      <td>-0.039888</td>\n",
       "      <td>0.380932</td>\n",
       "      <td>-0.165918</td>\n",
       "      <td>1.000000</td>\n",
       "      <td>-0.199601</td>\n",
       "      <td>0.197651</td>\n",
       "      <td>-0.176317</td>\n",
       "      <td>-0.059802</td>\n",
       "      <td>-0.015468</td>\n",
       "    </tr>\n",
       "    <tr>\n",
       "      <td>bedbath</td>\n",
       "      <td>0.823536</td>\n",
       "      <td>0.805662</td>\n",
       "      <td>0.651775</td>\n",
       "      <td>0.209719</td>\n",
       "      <td>0.129875</td>\n",
       "      <td>-0.199601</td>\n",
       "      <td>1.000000</td>\n",
       "      <td>-0.287519</td>\n",
       "      <td>0.189727</td>\n",
       "      <td>0.171683</td>\n",
       "      <td>0.090691</td>\n",
       "    </tr>\n",
       "    <tr>\n",
       "      <td>grade8</td>\n",
       "      <td>-0.177353</td>\n",
       "      <td>-0.303813</td>\n",
       "      <td>-0.503011</td>\n",
       "      <td>-0.203791</td>\n",
       "      <td>0.004401</td>\n",
       "      <td>0.197651</td>\n",
       "      <td>-0.287519</td>\n",
       "      <td>1.000000</td>\n",
       "      <td>-0.815627</td>\n",
       "      <td>-0.405423</td>\n",
       "      <td>-0.140411</td>\n",
       "    </tr>\n",
       "    <tr>\n",
       "      <td>grade9</td>\n",
       "      <td>0.133945</td>\n",
       "      <td>0.187811</td>\n",
       "      <td>0.308935</td>\n",
       "      <td>0.091438</td>\n",
       "      <td>-0.005081</td>\n",
       "      <td>-0.176317</td>\n",
       "      <td>0.189727</td>\n",
       "      <td>-0.815627</td>\n",
       "      <td>1.000000</td>\n",
       "      <td>-0.157914</td>\n",
       "      <td>-0.054691</td>\n",
       "    </tr>\n",
       "    <tr>\n",
       "      <td>grade10</td>\n",
       "      <td>0.080127</td>\n",
       "      <td>0.202832</td>\n",
       "      <td>0.336191</td>\n",
       "      <td>0.181339</td>\n",
       "      <td>-0.003917</td>\n",
       "      <td>-0.059802</td>\n",
       "      <td>0.171683</td>\n",
       "      <td>-0.405423</td>\n",
       "      <td>-0.157914</td>\n",
       "      <td>1.000000</td>\n",
       "      <td>-0.027185</td>\n",
       "    </tr>\n",
       "    <tr>\n",
       "      <td>grade11</td>\n",
       "      <td>0.050330</td>\n",
       "      <td>0.094316</td>\n",
       "      <td>0.164129</td>\n",
       "      <td>0.094594</td>\n",
       "      <td>0.011781</td>\n",
       "      <td>-0.015468</td>\n",
       "      <td>0.090691</td>\n",
       "      <td>-0.140411</td>\n",
       "      <td>-0.054691</td>\n",
       "      <td>-0.027185</td>\n",
       "      <td>1.000000</td>\n",
       "    </tr>\n",
       "  </tbody>\n",
       "</table>\n",
       "</div>"
      ],
      "text/plain": [
       "                       bedrooms  bathrooms  sqft_living  sqft_lot  \\\n",
       "bedrooms               1.000000   0.357976     0.581413  0.324666   \n",
       "bathrooms              0.357976   1.000000     0.503430  0.030759   \n",
       "sqft_living            0.581413   0.503430     1.000000  0.499138   \n",
       "sqft_lot               0.324666   0.030759     0.499138  1.000000   \n",
       "distance_from_a_city   0.124818   0.100518     0.194577  0.323586   \n",
       "Years_last_renovation  0.053847  -0.382035    -0.039888  0.380932   \n",
       "bedbath                0.823536   0.805662     0.651775  0.209719   \n",
       "grade8                -0.177353  -0.303813    -0.503011 -0.203791   \n",
       "grade9                 0.133945   0.187811     0.308935  0.091438   \n",
       "grade10                0.080127   0.202832     0.336191  0.181339   \n",
       "grade11                0.050330   0.094316     0.164129  0.094594   \n",
       "\n",
       "                       distance_from_a_city  Years_last_renovation   bedbath  \\\n",
       "bedrooms                           0.124818               0.053847  0.823536   \n",
       "bathrooms                          0.100518              -0.382035  0.805662   \n",
       "sqft_living                        0.194577              -0.039888  0.651775   \n",
       "sqft_lot                           0.323586               0.380932  0.209719   \n",
       "distance_from_a_city               1.000000              -0.165918  0.129875   \n",
       "Years_last_renovation             -0.165918               1.000000 -0.199601   \n",
       "bedbath                            0.129875              -0.199601  1.000000   \n",
       "grade8                             0.004401               0.197651 -0.287519   \n",
       "grade9                            -0.005081              -0.176317  0.189727   \n",
       "grade10                           -0.003917              -0.059802  0.171683   \n",
       "grade11                            0.011781              -0.015468  0.090691   \n",
       "\n",
       "                         grade8    grade9   grade10   grade11  \n",
       "bedrooms              -0.177353  0.133945  0.080127  0.050330  \n",
       "bathrooms             -0.303813  0.187811  0.202832  0.094316  \n",
       "sqft_living           -0.503011  0.308935  0.336191  0.164129  \n",
       "sqft_lot              -0.203791  0.091438  0.181339  0.094594  \n",
       "distance_from_a_city   0.004401 -0.005081 -0.003917  0.011781  \n",
       "Years_last_renovation  0.197651 -0.176317 -0.059802 -0.015468  \n",
       "bedbath               -0.287519  0.189727  0.171683  0.090691  \n",
       "grade8                 1.000000 -0.815627 -0.405423 -0.140411  \n",
       "grade9                -0.815627  1.000000 -0.157914 -0.054691  \n",
       "grade10               -0.405423 -0.157914  1.000000 -0.027185  \n",
       "grade11               -0.140411 -0.054691 -0.027185  1.000000  "
      ]
     },
     "execution_count": 169,
     "metadata": {},
     "output_type": "execute_result"
    }
   ],
   "source": [
    "df[x_cols].corr()"
   ]
  },
  {
   "cell_type": "code",
   "execution_count": 170,
   "metadata": {},
   "outputs": [],
   "source": [
    "X = train[x_cols]\n",
    "y = train['price']"
   ]
  },
  {
   "cell_type": "code",
   "execution_count": 171,
   "metadata": {},
   "outputs": [
    {
     "data": {
      "text/html": [
       "<table class=\"simpletable\">\n",
       "<caption>OLS Regression Results</caption>\n",
       "<tr>\n",
       "  <th>Dep. Variable:</th>          <td>price</td>      <th>  R-squared:         </th> <td>   0.676</td> \n",
       "</tr>\n",
       "<tr>\n",
       "  <th>Model:</th>                   <td>OLS</td>       <th>  Adj. R-squared:    </th> <td>   0.676</td> \n",
       "</tr>\n",
       "<tr>\n",
       "  <th>Method:</th>             <td>Least Squares</td>  <th>  F-statistic:       </th> <td>   1106.</td> \n",
       "</tr>\n",
       "<tr>\n",
       "  <th>Date:</th>             <td>Wed, 03 Jun 2020</td> <th>  Prob (F-statistic):</th>  <td>  0.00</td>  \n",
       "</tr>\n",
       "<tr>\n",
       "  <th>Time:</th>                 <td>18:33:03</td>     <th>  Log-Likelihood:    </th> <td> -69290.</td> \n",
       "</tr>\n",
       "<tr>\n",
       "  <th>No. Observations:</th>      <td>  5307</td>      <th>  AIC:               </th> <td>1.386e+05</td>\n",
       "</tr>\n",
       "<tr>\n",
       "  <th>Df Residuals:</th>          <td>  5296</td>      <th>  BIC:               </th> <td>1.387e+05</td>\n",
       "</tr>\n",
       "<tr>\n",
       "  <th>Df Model:</th>              <td>    10</td>      <th>                     </th>     <td> </td>    \n",
       "</tr>\n",
       "<tr>\n",
       "  <th>Covariance Type:</th>      <td>nonrobust</td>    <th>                     </th>     <td> </td>    \n",
       "</tr>\n",
       "</table>\n",
       "<table class=\"simpletable\">\n",
       "<tr>\n",
       "            <td></td>               <th>coef</th>     <th>std err</th>      <th>t</th>      <th>P>|t|</th>  <th>[0.025</th>    <th>0.975]</th>  \n",
       "</tr>\n",
       "<tr>\n",
       "  <th>bedrooms</th>              <td>-2.473e+04</td> <td> 6737.590</td> <td>   -3.670</td> <td> 0.000</td> <td>-3.79e+04</td> <td>-1.15e+04</td>\n",
       "</tr>\n",
       "<tr>\n",
       "  <th>bathrooms</th>             <td>-1.439e+04</td> <td> 6541.397</td> <td>   -2.200</td> <td> 0.028</td> <td>-2.72e+04</td> <td>-1570.314</td>\n",
       "</tr>\n",
       "<tr>\n",
       "  <th>sqft_living</th>           <td> 9.748e+04</td> <td> 2731.362</td> <td>   35.687</td> <td> 0.000</td> <td> 9.21e+04</td> <td> 1.03e+05</td>\n",
       "</tr>\n",
       "<tr>\n",
       "  <th>sqft_lot</th>              <td> 1.416e+04</td> <td> 2214.280</td> <td>    6.396</td> <td> 0.000</td> <td> 9820.545</td> <td> 1.85e+04</td>\n",
       "</tr>\n",
       "<tr>\n",
       "  <th>distance_from_a_city</th>  <td> -1.28e+05</td> <td> 1823.068</td> <td>  -70.191</td> <td> 0.000</td> <td>-1.32e+05</td> <td>-1.24e+05</td>\n",
       "</tr>\n",
       "<tr>\n",
       "  <th>Years_last_renovation</th> <td> 3526.1041</td> <td> 2068.515</td> <td>    1.705</td> <td> 0.088</td> <td> -529.038</td> <td> 7581.246</td>\n",
       "</tr>\n",
       "<tr>\n",
       "  <th>bedbath</th>               <td> 2.627e+04</td> <td> 1.08e+04</td> <td>    2.437</td> <td> 0.015</td> <td> 5134.193</td> <td> 4.74e+04</td>\n",
       "</tr>\n",
       "<tr>\n",
       "  <th>grade8</th>                <td> 5.638e+05</td> <td> 2102.820</td> <td>  268.129</td> <td> 0.000</td> <td>  5.6e+05</td> <td> 5.68e+05</td>\n",
       "</tr>\n",
       "<tr>\n",
       "  <th>grade9</th>                <td> 6.405e+05</td> <td> 3348.472</td> <td>  191.287</td> <td> 0.000</td> <td> 6.34e+05</td> <td> 6.47e+05</td>\n",
       "</tr>\n",
       "<tr>\n",
       "  <th>grade10</th>               <td> 6.825e+05</td> <td> 6294.003</td> <td>  108.441</td> <td> 0.000</td> <td>  6.7e+05</td> <td> 6.95e+05</td>\n",
       "</tr>\n",
       "<tr>\n",
       "  <th>grade11</th>               <td> 7.609e+05</td> <td> 1.63e+04</td> <td>   46.806</td> <td> 0.000</td> <td> 7.29e+05</td> <td> 7.93e+05</td>\n",
       "</tr>\n",
       "</table>\n",
       "<table class=\"simpletable\">\n",
       "<tr>\n",
       "  <th>Omnibus:</th>       <td>107.772</td> <th>  Durbin-Watson:     </th> <td>   2.004</td>\n",
       "</tr>\n",
       "<tr>\n",
       "  <th>Prob(Omnibus):</th> <td> 0.000</td>  <th>  Jarque-Bera (JB):  </th> <td> 173.078</td>\n",
       "</tr>\n",
       "<tr>\n",
       "  <th>Skew:</th>          <td> 0.194</td>  <th>  Prob(JB):          </th> <td>2.61e-38</td>\n",
       "</tr>\n",
       "<tr>\n",
       "  <th>Kurtosis:</th>      <td> 3.795</td>  <th>  Cond. No.          </th> <td>    18.3</td>\n",
       "</tr>\n",
       "</table><br/><br/>Warnings:<br/>[1] Standard Errors assume that the covariance matrix of the errors is correctly specified."
      ],
      "text/plain": [
       "<class 'statsmodels.iolib.summary.Summary'>\n",
       "\"\"\"\n",
       "                            OLS Regression Results                            \n",
       "==============================================================================\n",
       "Dep. Variable:                  price   R-squared:                       0.676\n",
       "Model:                            OLS   Adj. R-squared:                  0.676\n",
       "Method:                 Least Squares   F-statistic:                     1106.\n",
       "Date:                Wed, 03 Jun 2020   Prob (F-statistic):               0.00\n",
       "Time:                        18:33:03   Log-Likelihood:                -69290.\n",
       "No. Observations:                5307   AIC:                         1.386e+05\n",
       "Df Residuals:                    5296   BIC:                         1.387e+05\n",
       "Df Model:                          10                                         \n",
       "Covariance Type:            nonrobust                                         \n",
       "=========================================================================================\n",
       "                            coef    std err          t      P>|t|      [0.025      0.975]\n",
       "-----------------------------------------------------------------------------------------\n",
       "bedrooms              -2.473e+04   6737.590     -3.670      0.000   -3.79e+04   -1.15e+04\n",
       "bathrooms             -1.439e+04   6541.397     -2.200      0.028   -2.72e+04   -1570.314\n",
       "sqft_living            9.748e+04   2731.362     35.687      0.000    9.21e+04    1.03e+05\n",
       "sqft_lot               1.416e+04   2214.280      6.396      0.000    9820.545    1.85e+04\n",
       "distance_from_a_city   -1.28e+05   1823.068    -70.191      0.000   -1.32e+05   -1.24e+05\n",
       "Years_last_renovation  3526.1041   2068.515      1.705      0.088    -529.038    7581.246\n",
       "bedbath                2.627e+04   1.08e+04      2.437      0.015    5134.193    4.74e+04\n",
       "grade8                 5.638e+05   2102.820    268.129      0.000     5.6e+05    5.68e+05\n",
       "grade9                 6.405e+05   3348.472    191.287      0.000    6.34e+05    6.47e+05\n",
       "grade10                6.825e+05   6294.003    108.441      0.000     6.7e+05    6.95e+05\n",
       "grade11                7.609e+05   1.63e+04     46.806      0.000    7.29e+05    7.93e+05\n",
       "==============================================================================\n",
       "Omnibus:                      107.772   Durbin-Watson:                   2.004\n",
       "Prob(Omnibus):                  0.000   Jarque-Bera (JB):              173.078\n",
       "Skew:                           0.194   Prob(JB):                     2.61e-38\n",
       "Kurtosis:                       3.795   Cond. No.                         18.3\n",
       "==============================================================================\n",
       "\n",
       "Warnings:\n",
       "[1] Standard Errors assume that the covariance matrix of the errors is correctly specified.\n",
       "\"\"\""
      ]
     },
     "execution_count": 171,
     "metadata": {},
     "output_type": "execute_result"
    }
   ],
   "source": [
    "model = sm.OLS(y,X).fit()\n",
    "model.summary()"
   ]
  },
  {
   "cell_type": "code",
   "execution_count": 172,
   "metadata": {},
   "outputs": [
    {
     "name": "stdout",
     "output_type": "stream",
     "text": [
      "11 10\n",
      "['bedrooms', 'bathrooms', 'sqft_living', 'sqft_lot', 'distance_from_a_city']\n"
     ]
    },
    {
     "data": {
      "text/html": [
       "<div>\n",
       "<style scoped>\n",
       "    .dataframe tbody tr th:only-of-type {\n",
       "        vertical-align: middle;\n",
       "    }\n",
       "\n",
       "    .dataframe tbody tr th {\n",
       "        vertical-align: top;\n",
       "    }\n",
       "\n",
       "    .dataframe thead th {\n",
       "        text-align: right;\n",
       "    }\n",
       "</style>\n",
       "<table border=\"1\" class=\"dataframe\">\n",
       "  <thead>\n",
       "    <tr style=\"text-align: right;\">\n",
       "      <th></th>\n",
       "      <th>coef</th>\n",
       "      <th>std err</th>\n",
       "      <th>t</th>\n",
       "      <th>P&gt;|t|</th>\n",
       "      <th>[0.025</th>\n",
       "      <th>0.975]</th>\n",
       "    </tr>\n",
       "    <tr>\n",
       "      <th></th>\n",
       "      <th></th>\n",
       "      <th></th>\n",
       "      <th></th>\n",
       "      <th></th>\n",
       "      <th></th>\n",
       "      <th></th>\n",
       "    </tr>\n",
       "  </thead>\n",
       "  <tbody>\n",
       "    <tr>\n",
       "      <td>bedrooms</td>\n",
       "      <td>-2.473e+04</td>\n",
       "      <td>6737.590</td>\n",
       "      <td>-3.670</td>\n",
       "      <td>0.000</td>\n",
       "      <td>-3.79e+04</td>\n",
       "      <td>-1.15e+04</td>\n",
       "    </tr>\n",
       "    <tr>\n",
       "      <td>bathrooms</td>\n",
       "      <td>-1.439e+04</td>\n",
       "      <td>6541.397</td>\n",
       "      <td>-2.200</td>\n",
       "      <td>0.028</td>\n",
       "      <td>-2.72e+04</td>\n",
       "      <td>-1570.314</td>\n",
       "    </tr>\n",
       "    <tr>\n",
       "      <td>sqft_living</td>\n",
       "      <td>9.748e+04</td>\n",
       "      <td>2731.362</td>\n",
       "      <td>35.687</td>\n",
       "      <td>0.000</td>\n",
       "      <td>9.21e+04</td>\n",
       "      <td>1.03e+05</td>\n",
       "    </tr>\n",
       "    <tr>\n",
       "      <td>sqft_lot</td>\n",
       "      <td>1.416e+04</td>\n",
       "      <td>2214.280</td>\n",
       "      <td>6.396</td>\n",
       "      <td>0.000</td>\n",
       "      <td>9820.545</td>\n",
       "      <td>1.85e+04</td>\n",
       "    </tr>\n",
       "    <tr>\n",
       "      <td>distance_from_a_city</td>\n",
       "      <td>-1.28e+05</td>\n",
       "      <td>1823.068</td>\n",
       "      <td>-70.191</td>\n",
       "      <td>0.000</td>\n",
       "      <td>-1.32e+05</td>\n",
       "      <td>-1.24e+05</td>\n",
       "    </tr>\n",
       "  </tbody>\n",
       "</table>\n",
       "</div>"
      ],
      "text/plain": [
       "0                           coef    std err          t  P>|t|     [0.025  \\\n",
       "                                                                           \n",
       "bedrooms              -2.473e+04   6737.590     -3.670  0.000  -3.79e+04   \n",
       "bathrooms             -1.439e+04   6541.397     -2.200  0.028  -2.72e+04   \n",
       "sqft_living            9.748e+04   2731.362     35.687  0.000   9.21e+04   \n",
       "sqft_lot               1.416e+04   2214.280      6.396  0.000   9820.545   \n",
       "distance_from_a_city   -1.28e+05   1823.068    -70.191  0.000  -1.32e+05   \n",
       "\n",
       "0                        0.975]  \n",
       "                                 \n",
       "bedrooms              -1.15e+04  \n",
       "bathrooms             -1570.314  \n",
       "sqft_living            1.03e+05  \n",
       "sqft_lot               1.85e+04  \n",
       "distance_from_a_city  -1.24e+05  "
      ]
     },
     "execution_count": 172,
     "metadata": {},
     "output_type": "execute_result"
    }
   ],
   "source": [
    "summary = model.summary()\n",
    "p_table = summary.tables[1]\n",
    "p_table = pd.DataFrame(p_table.data)\n",
    "p_table.columns = p_table.iloc[0]\n",
    "p_table = p_table.drop(0)\n",
    "p_table = p_table.set_index(p_table.columns[0])\n",
    "p_table['P>|t|'] = p_table['P>|t|'].astype(float)\n",
    "x_cols = list(p_table[p_table['P>|t|'] < 0.05].index)\n",
    "print(len(p_table), len(x_cols))\n",
    "print(x_cols[:5])\n",
    "p_table.head()"
   ]
  },
  {
   "cell_type": "code",
   "execution_count": 173,
   "metadata": {},
   "outputs": [],
   "source": [
    "X = train[x_cols]\n",
    "y= train['price']"
   ]
  },
  {
   "cell_type": "code",
   "execution_count": 174,
   "metadata": {},
   "outputs": [
    {
     "data": {
      "text/html": [
       "<table class=\"simpletable\">\n",
       "<caption>OLS Regression Results</caption>\n",
       "<tr>\n",
       "  <th>Dep. Variable:</th>          <td>price</td>      <th>  R-squared:         </th> <td>   0.676</td> \n",
       "</tr>\n",
       "<tr>\n",
       "  <th>Model:</th>                   <td>OLS</td>       <th>  Adj. R-squared:    </th> <td>   0.675</td> \n",
       "</tr>\n",
       "<tr>\n",
       "  <th>Method:</th>             <td>Least Squares</td>  <th>  F-statistic:       </th> <td>   1228.</td> \n",
       "</tr>\n",
       "<tr>\n",
       "  <th>Date:</th>             <td>Wed, 03 Jun 2020</td> <th>  Prob (F-statistic):</th>  <td>  0.00</td>  \n",
       "</tr>\n",
       "<tr>\n",
       "  <th>Time:</th>                 <td>18:33:05</td>     <th>  Log-Likelihood:    </th> <td> -69292.</td> \n",
       "</tr>\n",
       "<tr>\n",
       "  <th>No. Observations:</th>      <td>  5307</td>      <th>  AIC:               </th> <td>1.386e+05</td>\n",
       "</tr>\n",
       "<tr>\n",
       "  <th>Df Residuals:</th>          <td>  5297</td>      <th>  BIC:               </th> <td>1.387e+05</td>\n",
       "</tr>\n",
       "<tr>\n",
       "  <th>Df Model:</th>              <td>     9</td>      <th>                     </th>     <td> </td>    \n",
       "</tr>\n",
       "<tr>\n",
       "  <th>Covariance Type:</th>      <td>nonrobust</td>    <th>                     </th>     <td> </td>    \n",
       "</tr>\n",
       "</table>\n",
       "<table class=\"simpletable\">\n",
       "<tr>\n",
       "            <td></td>              <th>coef</th>     <th>std err</th>      <th>t</th>      <th>P>|t|</th>  <th>[0.025</th>    <th>0.975]</th>  \n",
       "</tr>\n",
       "<tr>\n",
       "  <th>bedrooms</th>             <td>-2.381e+04</td> <td> 6717.521</td> <td>   -3.545</td> <td> 0.000</td> <td> -3.7e+04</td> <td>-1.06e+04</td>\n",
       "</tr>\n",
       "<tr>\n",
       "  <th>bathrooms</th>            <td>-1.492e+04</td> <td> 6535.213</td> <td>   -2.283</td> <td> 0.022</td> <td>-2.77e+04</td> <td>-2111.223</td>\n",
       "</tr>\n",
       "<tr>\n",
       "  <th>sqft_living</th>          <td> 9.741e+04</td> <td> 2731.564</td> <td>   35.660</td> <td> 0.000</td> <td> 9.21e+04</td> <td> 1.03e+05</td>\n",
       "</tr>\n",
       "<tr>\n",
       "  <th>sqft_lot</th>             <td> 1.593e+04</td> <td> 1957.142</td> <td>    8.138</td> <td> 0.000</td> <td> 1.21e+04</td> <td> 1.98e+04</td>\n",
       "</tr>\n",
       "<tr>\n",
       "  <th>distance_from_a_city</th> <td>-1.291e+05</td> <td> 1701.695</td> <td>  -75.853</td> <td> 0.000</td> <td>-1.32e+05</td> <td>-1.26e+05</td>\n",
       "</tr>\n",
       "<tr>\n",
       "  <th>bedbath</th>              <td>  2.52e+04</td> <td> 1.08e+04</td> <td>    2.340</td> <td> 0.019</td> <td> 4089.463</td> <td> 4.63e+04</td>\n",
       "</tr>\n",
       "<tr>\n",
       "  <th>grade8</th>               <td> 5.643e+05</td> <td> 2084.212</td> <td>  270.754</td> <td> 0.000</td> <td>  5.6e+05</td> <td> 5.68e+05</td>\n",
       "</tr>\n",
       "<tr>\n",
       "  <th>grade9</th>               <td> 6.395e+05</td> <td> 3294.425</td> <td>  194.113</td> <td> 0.000</td> <td> 6.33e+05</td> <td> 6.46e+05</td>\n",
       "</tr>\n",
       "<tr>\n",
       "  <th>grade10</th>              <td> 6.815e+05</td> <td> 6264.268</td> <td>  108.787</td> <td> 0.000</td> <td> 6.69e+05</td> <td> 6.94e+05</td>\n",
       "</tr>\n",
       "<tr>\n",
       "  <th>grade11</th>              <td>   7.6e+05</td> <td> 1.63e+04</td> <td>   46.766</td> <td> 0.000</td> <td> 7.28e+05</td> <td> 7.92e+05</td>\n",
       "</tr>\n",
       "</table>\n",
       "<table class=\"simpletable\">\n",
       "<tr>\n",
       "  <th>Omnibus:</th>       <td>112.810</td> <th>  Durbin-Watson:     </th> <td>   2.005</td>\n",
       "</tr>\n",
       "<tr>\n",
       "  <th>Prob(Omnibus):</th> <td> 0.000</td>  <th>  Jarque-Bera (JB):  </th> <td> 183.599</td>\n",
       "</tr>\n",
       "<tr>\n",
       "  <th>Skew:</th>          <td> 0.198</td>  <th>  Prob(JB):          </th> <td>1.35e-40</td>\n",
       "</tr>\n",
       "<tr>\n",
       "  <th>Kurtosis:</th>      <td> 3.820</td>  <th>  Cond. No.          </th> <td>    18.2</td>\n",
       "</tr>\n",
       "</table><br/><br/>Warnings:<br/>[1] Standard Errors assume that the covariance matrix of the errors is correctly specified."
      ],
      "text/plain": [
       "<class 'statsmodels.iolib.summary.Summary'>\n",
       "\"\"\"\n",
       "                            OLS Regression Results                            \n",
       "==============================================================================\n",
       "Dep. Variable:                  price   R-squared:                       0.676\n",
       "Model:                            OLS   Adj. R-squared:                  0.675\n",
       "Method:                 Least Squares   F-statistic:                     1228.\n",
       "Date:                Wed, 03 Jun 2020   Prob (F-statistic):               0.00\n",
       "Time:                        18:33:05   Log-Likelihood:                -69292.\n",
       "No. Observations:                5307   AIC:                         1.386e+05\n",
       "Df Residuals:                    5297   BIC:                         1.387e+05\n",
       "Df Model:                           9                                         \n",
       "Covariance Type:            nonrobust                                         \n",
       "========================================================================================\n",
       "                           coef    std err          t      P>|t|      [0.025      0.975]\n",
       "----------------------------------------------------------------------------------------\n",
       "bedrooms             -2.381e+04   6717.521     -3.545      0.000    -3.7e+04   -1.06e+04\n",
       "bathrooms            -1.492e+04   6535.213     -2.283      0.022   -2.77e+04   -2111.223\n",
       "sqft_living           9.741e+04   2731.564     35.660      0.000    9.21e+04    1.03e+05\n",
       "sqft_lot              1.593e+04   1957.142      8.138      0.000    1.21e+04    1.98e+04\n",
       "distance_from_a_city -1.291e+05   1701.695    -75.853      0.000   -1.32e+05   -1.26e+05\n",
       "bedbath                2.52e+04   1.08e+04      2.340      0.019    4089.463    4.63e+04\n",
       "grade8                5.643e+05   2084.212    270.754      0.000     5.6e+05    5.68e+05\n",
       "grade9                6.395e+05   3294.425    194.113      0.000    6.33e+05    6.46e+05\n",
       "grade10               6.815e+05   6264.268    108.787      0.000    6.69e+05    6.94e+05\n",
       "grade11                 7.6e+05   1.63e+04     46.766      0.000    7.28e+05    7.92e+05\n",
       "==============================================================================\n",
       "Omnibus:                      112.810   Durbin-Watson:                   2.005\n",
       "Prob(Omnibus):                  0.000   Jarque-Bera (JB):              183.599\n",
       "Skew:                           0.198   Prob(JB):                     1.35e-40\n",
       "Kurtosis:                       3.820   Cond. No.                         18.2\n",
       "==============================================================================\n",
       "\n",
       "Warnings:\n",
       "[1] Standard Errors assume that the covariance matrix of the errors is correctly specified.\n",
       "\"\"\""
      ]
     },
     "execution_count": 174,
     "metadata": {},
     "output_type": "execute_result"
    }
   ],
   "source": [
    "model = sm.OLS(y,X).fit()\n",
    "model.summary()"
   ]
  },
  {
   "cell_type": "code",
   "execution_count": 175,
   "metadata": {},
   "outputs": [
    {
     "data": {
      "text/plain": [
       "[('bedrooms', 18.55223178134968),\n",
       " ('bathrooms', 16.643310918764673),\n",
       " ('sqft_living', 2.9488700976511777),\n",
       " ('sqft_lot', 1.611749319567428),\n",
       " ('distance_from_a_city', 1.1381619356387613),\n",
       " ('bedbath', 44.60139199430446),\n",
       " ('grade8', 1.2052392126054228),\n",
       " ('grade9', 1.0979967063690308),\n",
       " ('grade10', 1.1809081749093744),\n",
       " ('grade11', 1.0472479326314186)]"
      ]
     },
     "execution_count": 175,
     "metadata": {},
     "output_type": "execute_result"
    }
   ],
   "source": [
    "# Your code here - Code a way to identify multicollinearity\n",
    "from statsmodels.stats.outliers_influence import variance_inflation_factor\n",
    "X = train[x_cols]\n",
    "vif = [variance_inflation_factor(X.values,i) for i in range(X.shape[1])]\n",
    "list(zip(x_cols,vif))"
   ]
  },
  {
   "cell_type": "code",
   "execution_count": 176,
   "metadata": {},
   "outputs": [
    {
     "name": "stdout",
     "output_type": "stream",
     "text": [
      "10 7\n"
     ]
    }
   ],
   "source": [
    "vif_scores = list(zip(x_cols, vif))\n",
    "x_cols = [x for x,vif in vif_scores if vif < 5.5]\n",
    "print(len(vif_scores), len(x_cols))"
   ]
  },
  {
   "cell_type": "code",
   "execution_count": 177,
   "metadata": {},
   "outputs": [
    {
     "data": {
      "text/html": [
       "<table class=\"simpletable\">\n",
       "<caption>OLS Regression Results</caption>\n",
       "<tr>\n",
       "  <th>Dep. Variable:</th>          <td>price</td>      <th>  R-squared:         </th> <td>   0.674</td> \n",
       "</tr>\n",
       "<tr>\n",
       "  <th>Model:</th>                   <td>OLS</td>       <th>  Adj. R-squared:    </th> <td>   0.674</td> \n",
       "</tr>\n",
       "<tr>\n",
       "  <th>Method:</th>             <td>Least Squares</td>  <th>  F-statistic:       </th> <td>   1830.</td> \n",
       "</tr>\n",
       "<tr>\n",
       "  <th>Date:</th>             <td>Wed, 03 Jun 2020</td> <th>  Prob (F-statistic):</th>  <td>  0.00</td>  \n",
       "</tr>\n",
       "<tr>\n",
       "  <th>Time:</th>                 <td>18:33:09</td>     <th>  Log-Likelihood:    </th> <td> -69305.</td> \n",
       "</tr>\n",
       "<tr>\n",
       "  <th>No. Observations:</th>      <td>  5307</td>      <th>  AIC:               </th> <td>1.386e+05</td>\n",
       "</tr>\n",
       "<tr>\n",
       "  <th>Df Residuals:</th>          <td>  5300</td>      <th>  BIC:               </th> <td>1.387e+05</td>\n",
       "</tr>\n",
       "<tr>\n",
       "  <th>Df Model:</th>              <td>     6</td>      <th>                     </th>     <td> </td>    \n",
       "</tr>\n",
       "<tr>\n",
       "  <th>Covariance Type:</th>      <td>nonrobust</td>    <th>                     </th>     <td> </td>    \n",
       "</tr>\n",
       "</table>\n",
       "<table class=\"simpletable\">\n",
       "<tr>\n",
       "            <td></td>              <th>coef</th>     <th>std err</th>      <th>t</th>      <th>P>|t|</th>  <th>[0.025</th>    <th>0.975]</th>  \n",
       "</tr>\n",
       "<tr>\n",
       "  <th>sqft_living</th>          <td> 9.133e+04</td> <td> 2139.059</td> <td>   42.695</td> <td> 0.000</td> <td> 8.71e+04</td> <td> 9.55e+04</td>\n",
       "</tr>\n",
       "<tr>\n",
       "  <th>sqft_lot</th>             <td> 1.544e+04</td> <td> 1852.298</td> <td>    8.336</td> <td> 0.000</td> <td> 1.18e+04</td> <td> 1.91e+04</td>\n",
       "</tr>\n",
       "<tr>\n",
       "  <th>distance_from_a_city</th> <td>-1.291e+05</td> <td> 1698.390</td> <td>  -75.995</td> <td> 0.000</td> <td>-1.32e+05</td> <td>-1.26e+05</td>\n",
       "</tr>\n",
       "<tr>\n",
       "  <th>grade8</th>               <td> 5.631e+05</td> <td> 2068.594</td> <td>  272.215</td> <td> 0.000</td> <td> 5.59e+05</td> <td> 5.67e+05</td>\n",
       "</tr>\n",
       "<tr>\n",
       "  <th>grade9</th>               <td> 6.403e+05</td> <td> 3289.424</td> <td>  194.662</td> <td> 0.000</td> <td> 6.34e+05</td> <td> 6.47e+05</td>\n",
       "</tr>\n",
       "<tr>\n",
       "  <th>grade10</th>              <td> 6.863e+05</td> <td> 6173.383</td> <td>  111.165</td> <td> 0.000</td> <td> 6.74e+05</td> <td> 6.98e+05</td>\n",
       "</tr>\n",
       "<tr>\n",
       "  <th>grade11</th>              <td> 7.668e+05</td> <td> 1.62e+04</td> <td>   47.296</td> <td> 0.000</td> <td> 7.35e+05</td> <td> 7.99e+05</td>\n",
       "</tr>\n",
       "</table>\n",
       "<table class=\"simpletable\">\n",
       "<tr>\n",
       "  <th>Omnibus:</th>       <td>117.065</td> <th>  Durbin-Watson:     </th> <td>   2.006</td>\n",
       "</tr>\n",
       "<tr>\n",
       "  <th>Prob(Omnibus):</th> <td> 0.000</td>  <th>  Jarque-Bera (JB):  </th> <td> 186.741</td>\n",
       "</tr>\n",
       "<tr>\n",
       "  <th>Skew:</th>          <td> 0.213</td>  <th>  Prob(JB):          </th> <td>2.82e-41</td>\n",
       "</tr>\n",
       "<tr>\n",
       "  <th>Kurtosis:</th>      <td> 3.814</td>  <th>  Cond. No.          </th> <td>    13.6</td>\n",
       "</tr>\n",
       "</table><br/><br/>Warnings:<br/>[1] Standard Errors assume that the covariance matrix of the errors is correctly specified."
      ],
      "text/plain": [
       "<class 'statsmodels.iolib.summary.Summary'>\n",
       "\"\"\"\n",
       "                            OLS Regression Results                            \n",
       "==============================================================================\n",
       "Dep. Variable:                  price   R-squared:                       0.674\n",
       "Model:                            OLS   Adj. R-squared:                  0.674\n",
       "Method:                 Least Squares   F-statistic:                     1830.\n",
       "Date:                Wed, 03 Jun 2020   Prob (F-statistic):               0.00\n",
       "Time:                        18:33:09   Log-Likelihood:                -69305.\n",
       "No. Observations:                5307   AIC:                         1.386e+05\n",
       "Df Residuals:                    5300   BIC:                         1.387e+05\n",
       "Df Model:                           6                                         \n",
       "Covariance Type:            nonrobust                                         \n",
       "========================================================================================\n",
       "                           coef    std err          t      P>|t|      [0.025      0.975]\n",
       "----------------------------------------------------------------------------------------\n",
       "sqft_living           9.133e+04   2139.059     42.695      0.000    8.71e+04    9.55e+04\n",
       "sqft_lot              1.544e+04   1852.298      8.336      0.000    1.18e+04    1.91e+04\n",
       "distance_from_a_city -1.291e+05   1698.390    -75.995      0.000   -1.32e+05   -1.26e+05\n",
       "grade8                5.631e+05   2068.594    272.215      0.000    5.59e+05    5.67e+05\n",
       "grade9                6.403e+05   3289.424    194.662      0.000    6.34e+05    6.47e+05\n",
       "grade10               6.863e+05   6173.383    111.165      0.000    6.74e+05    6.98e+05\n",
       "grade11               7.668e+05   1.62e+04     47.296      0.000    7.35e+05    7.99e+05\n",
       "==============================================================================\n",
       "Omnibus:                      117.065   Durbin-Watson:                   2.006\n",
       "Prob(Omnibus):                  0.000   Jarque-Bera (JB):              186.741\n",
       "Skew:                           0.213   Prob(JB):                     2.82e-41\n",
       "Kurtosis:                       3.814   Cond. No.                         13.6\n",
       "==============================================================================\n",
       "\n",
       "Warnings:\n",
       "[1] Standard Errors assume that the covariance matrix of the errors is correctly specified.\n",
       "\"\"\""
      ]
     },
     "execution_count": 177,
     "metadata": {},
     "output_type": "execute_result"
    }
   ],
   "source": [
    "X = train[x_cols]\n",
    "y= train['price']\n",
    "model = sm.OLS(y,X).fit()\n",
    "model.summary()"
   ]
  },
  {
   "cell_type": "code",
   "execution_count": 178,
   "metadata": {
    "scrolled": false
   },
   "outputs": [
    {
     "data": {
      "text/html": [
       "<table class=\"simpletable\">\n",
       "<caption>OLS Regression Results</caption>\n",
       "<tr>\n",
       "  <th>Dep. Variable:</th>          <td>price</td>      <th>  R-squared:         </th> <td>   0.674</td> \n",
       "</tr>\n",
       "<tr>\n",
       "  <th>Model:</th>                   <td>OLS</td>       <th>  Adj. R-squared:    </th> <td>   0.674</td> \n",
       "</tr>\n",
       "<tr>\n",
       "  <th>Method:</th>             <td>Least Squares</td>  <th>  F-statistic:       </th> <td>   1830.</td> \n",
       "</tr>\n",
       "<tr>\n",
       "  <th>Date:</th>             <td>Wed, 03 Jun 2020</td> <th>  Prob (F-statistic):</th>  <td>  0.00</td>  \n",
       "</tr>\n",
       "<tr>\n",
       "  <th>Time:</th>                 <td>18:33:13</td>     <th>  Log-Likelihood:    </th> <td> -69305.</td> \n",
       "</tr>\n",
       "<tr>\n",
       "  <th>No. Observations:</th>      <td>  5307</td>      <th>  AIC:               </th> <td>1.386e+05</td>\n",
       "</tr>\n",
       "<tr>\n",
       "  <th>Df Residuals:</th>          <td>  5300</td>      <th>  BIC:               </th> <td>1.387e+05</td>\n",
       "</tr>\n",
       "<tr>\n",
       "  <th>Df Model:</th>              <td>     6</td>      <th>                     </th>     <td> </td>    \n",
       "</tr>\n",
       "<tr>\n",
       "  <th>Covariance Type:</th>      <td>nonrobust</td>    <th>                     </th>     <td> </td>    \n",
       "</tr>\n",
       "</table>\n",
       "<table class=\"simpletable\">\n",
       "<tr>\n",
       "            <td></td>              <th>coef</th>     <th>std err</th>      <th>t</th>      <th>P>|t|</th>  <th>[0.025</th>    <th>0.975]</th>  \n",
       "</tr>\n",
       "<tr>\n",
       "  <th>sqft_living</th>          <td> 9.133e+04</td> <td> 2139.059</td> <td>   42.695</td> <td> 0.000</td> <td> 8.71e+04</td> <td> 9.55e+04</td>\n",
       "</tr>\n",
       "<tr>\n",
       "  <th>sqft_lot</th>             <td> 1.544e+04</td> <td> 1852.298</td> <td>    8.336</td> <td> 0.000</td> <td> 1.18e+04</td> <td> 1.91e+04</td>\n",
       "</tr>\n",
       "<tr>\n",
       "  <th>distance_from_a_city</th> <td>-1.291e+05</td> <td> 1698.390</td> <td>  -75.995</td> <td> 0.000</td> <td>-1.32e+05</td> <td>-1.26e+05</td>\n",
       "</tr>\n",
       "<tr>\n",
       "  <th>grade8</th>               <td> 5.631e+05</td> <td> 2068.594</td> <td>  272.215</td> <td> 0.000</td> <td> 5.59e+05</td> <td> 5.67e+05</td>\n",
       "</tr>\n",
       "<tr>\n",
       "  <th>grade9</th>               <td> 6.403e+05</td> <td> 3289.424</td> <td>  194.662</td> <td> 0.000</td> <td> 6.34e+05</td> <td> 6.47e+05</td>\n",
       "</tr>\n",
       "<tr>\n",
       "  <th>grade10</th>              <td> 6.863e+05</td> <td> 6173.383</td> <td>  111.165</td> <td> 0.000</td> <td> 6.74e+05</td> <td> 6.98e+05</td>\n",
       "</tr>\n",
       "<tr>\n",
       "  <th>grade11</th>              <td> 7.668e+05</td> <td> 1.62e+04</td> <td>   47.296</td> <td> 0.000</td> <td> 7.35e+05</td> <td> 7.99e+05</td>\n",
       "</tr>\n",
       "</table>\n",
       "<table class=\"simpletable\">\n",
       "<tr>\n",
       "  <th>Omnibus:</th>       <td>117.065</td> <th>  Durbin-Watson:     </th> <td>   2.006</td>\n",
       "</tr>\n",
       "<tr>\n",
       "  <th>Prob(Omnibus):</th> <td> 0.000</td>  <th>  Jarque-Bera (JB):  </th> <td> 186.741</td>\n",
       "</tr>\n",
       "<tr>\n",
       "  <th>Skew:</th>          <td> 0.213</td>  <th>  Prob(JB):          </th> <td>2.82e-41</td>\n",
       "</tr>\n",
       "<tr>\n",
       "  <th>Kurtosis:</th>      <td> 3.814</td>  <th>  Cond. No.          </th> <td>    13.6</td>\n",
       "</tr>\n",
       "</table><br/><br/>Warnings:<br/>[1] Standard Errors assume that the covariance matrix of the errors is correctly specified."
      ],
      "text/plain": [
       "<class 'statsmodels.iolib.summary.Summary'>\n",
       "\"\"\"\n",
       "                            OLS Regression Results                            \n",
       "==============================================================================\n",
       "Dep. Variable:                  price   R-squared:                       0.674\n",
       "Model:                            OLS   Adj. R-squared:                  0.674\n",
       "Method:                 Least Squares   F-statistic:                     1830.\n",
       "Date:                Wed, 03 Jun 2020   Prob (F-statistic):               0.00\n",
       "Time:                        18:33:13   Log-Likelihood:                -69305.\n",
       "No. Observations:                5307   AIC:                         1.386e+05\n",
       "Df Residuals:                    5300   BIC:                         1.387e+05\n",
       "Df Model:                           6                                         \n",
       "Covariance Type:            nonrobust                                         \n",
       "========================================================================================\n",
       "                           coef    std err          t      P>|t|      [0.025      0.975]\n",
       "----------------------------------------------------------------------------------------\n",
       "sqft_living           9.133e+04   2139.059     42.695      0.000    8.71e+04    9.55e+04\n",
       "sqft_lot              1.544e+04   1852.298      8.336      0.000    1.18e+04    1.91e+04\n",
       "distance_from_a_city -1.291e+05   1698.390    -75.995      0.000   -1.32e+05   -1.26e+05\n",
       "grade8                5.631e+05   2068.594    272.215      0.000    5.59e+05    5.67e+05\n",
       "grade9                6.403e+05   3289.424    194.662      0.000    6.34e+05    6.47e+05\n",
       "grade10               6.863e+05   6173.383    111.165      0.000    6.74e+05    6.98e+05\n",
       "grade11               7.668e+05   1.62e+04     47.296      0.000    7.35e+05    7.99e+05\n",
       "==============================================================================\n",
       "Omnibus:                      117.065   Durbin-Watson:                   2.006\n",
       "Prob(Omnibus):                  0.000   Jarque-Bera (JB):              186.741\n",
       "Skew:                           0.213   Prob(JB):                     2.82e-41\n",
       "Kurtosis:                       3.814   Cond. No.                         13.6\n",
       "==============================================================================\n",
       "\n",
       "Warnings:\n",
       "[1] Standard Errors assume that the covariance matrix of the errors is correctly specified.\n",
       "\"\"\""
      ]
     },
     "execution_count": 178,
     "metadata": {},
     "output_type": "execute_result"
    }
   ],
   "source": [
    "model = sm.OLS(y,X).fit()\n",
    "model.summary()"
   ]
  },
  {
   "cell_type": "code",
   "execution_count": 179,
   "metadata": {},
   "outputs": [
    {
     "data": {
      "image/png": "[encoded data removed]",
      "text/plain": [
       "<Figure size 432x288 with 1 Axes>"
      ]
     },
     "metadata": {},
     "output_type": "display_data"
    }
   ],
   "source": [
    "fig = sm.graphics.qqplot(model.resid, dist=scs.norm, line='45', fit=True)\n"
   ]
  },
  {
   "cell_type": "code",
   "execution_count": 180,
   "metadata": {},
   "outputs": [
    {
     "data": {
      "text/plain": [
       "[<matplotlib.lines.Line2D at 0x1c1ea999b0>]"
      ]
     },
     "execution_count": 180,
     "metadata": {},
     "output_type": "execute_result"
    },
    {
     "data": {
      "image/png": "[encoded data removed]",
      "text/plain": [
       "<Figure size 432x288 with 1 Axes>"
      ]
     },
     "metadata": {},
     "output_type": "display_data"
    }
   ],
   "source": [
    "plt.scatter(model.predict(train[x_cols]), model.resid)\n",
    "plt.plot(model.predict(train[x_cols]), [0 for i in range(len(train))])"
   ]
  },
  {
   "cell_type": "code",
   "execution_count": 181,
   "metadata": {},
   "outputs": [
    {
     "data": {
      "text/plain": [
       "<matplotlib.axes._subplots.AxesSubplot at 0x1c1ec0d748>"
      ]
     },
     "execution_count": 181,
     "metadata": {},
     "output_type": "execute_result"
    },
    {
     "data": {
      "image/png": "[encoded data removed]",
      "text/plain": [
       "<Figure size 432x288 with 1 Axes>"
      ]
     },
     "metadata": {},
     "output_type": "display_data"
    }
   ],
   "source": [
    "df.price.hist()"
   ]
  },
  {
   "cell_type": "code",
   "execution_count": 182,
   "metadata": {},
   "outputs": [
    {
     "name": "stdout",
     "output_type": "stream",
     "text": [
      "0.8 percentile: 760000.0\n",
      "0.81 percentile: 769000.0\n",
      "0.82 percentile: 779665.0\n",
      "0.83 percentile: 787222.0\n",
      "0.84 percentile: 799000.0\n",
      "0.85 percentile: 805000.0\n",
      "0.86 percentile: 815000.0\n",
      "0.87 percentile: 825000.0\n",
      "0.88 percentile: 839000.0\n",
      "0.89 percentile: 850000.0\n",
      "0.9 percentile: 860000.0\n",
      "0.91 percentile: 872562.5\n",
      "0.92 percentile: 889000.0\n",
      "0.93 percentile: 900000.0\n",
      "0.94 percentile: 920500.0\n",
      "0.95 percentile: 940000.0\n",
      "0.96 percentile: 963990.0\n",
      "0.97 percentile: 985750.0\n",
      "0.98 percentile: 1010000.0\n",
      "0.99 percentile: 1052500.0\n"
     ]
    }
   ],
   "source": [
    "for i in range(80,100):\n",
    "    q = i/100\n",
    "    print(\"{} percentile: {}\".format(q, df.price.quantile(q=q)))"
   ]
  },
  {
   "cell_type": "code",
   "execution_count": 184,
   "metadata": {},
   "outputs": [
    {
     "name": "stdout",
     "output_type": "stream",
     "text": [
      "Percent removed: 0.023742227247032222\n"
     ]
    }
   ],
   "source": [
    "orig_tot = len(df)\n",
    "df = df[df.price < 1000000] # Subsetting to remove extreme outliers\n",
    "print('Percent removed:', (orig_tot -len(df))/orig_tot)\n",
    "train, test = train_test_split(df)"
   ]
  },
  {
   "cell_type": "code",
   "execution_count": 185,
   "metadata": {},
   "outputs": [],
   "source": [
    "X = train[x_cols]\n",
    "y = train['price']"
   ]
  },
  {
   "cell_type": "code",
   "execution_count": 186,
   "metadata": {},
   "outputs": [
    {
     "data": {
      "text/html": [
       "<table class=\"simpletable\">\n",
       "<caption>OLS Regression Results</caption>\n",
       "<tr>\n",
       "  <th>Dep. Variable:</th>          <td>price</td>      <th>  R-squared:         </th> <td>   0.668</td> \n",
       "</tr>\n",
       "<tr>\n",
       "  <th>Model:</th>                   <td>OLS</td>       <th>  Adj. R-squared:    </th> <td>   0.667</td> \n",
       "</tr>\n",
       "<tr>\n",
       "  <th>Method:</th>             <td>Least Squares</td>  <th>  F-statistic:       </th> <td>   1734.</td> \n",
       "</tr>\n",
       "<tr>\n",
       "  <th>Date:</th>             <td>Wed, 03 Jun 2020</td> <th>  Prob (F-statistic):</th>  <td>  0.00</td>  \n",
       "</tr>\n",
       "<tr>\n",
       "  <th>Time:</th>                 <td>18:33:26</td>     <th>  Log-Likelihood:    </th> <td> -67423.</td> \n",
       "</tr>\n",
       "<tr>\n",
       "  <th>No. Observations:</th>      <td>  5181</td>      <th>  AIC:               </th> <td>1.349e+05</td>\n",
       "</tr>\n",
       "<tr>\n",
       "  <th>Df Residuals:</th>          <td>  5174</td>      <th>  BIC:               </th> <td>1.349e+05</td>\n",
       "</tr>\n",
       "<tr>\n",
       "  <th>Df Model:</th>              <td>     6</td>      <th>                     </th>     <td> </td>    \n",
       "</tr>\n",
       "<tr>\n",
       "  <th>Covariance Type:</th>      <td>nonrobust</td>    <th>                     </th>     <td> </td>    \n",
       "</tr>\n",
       "</table>\n",
       "<table class=\"simpletable\">\n",
       "<tr>\n",
       "            <td></td>              <th>coef</th>     <th>std err</th>      <th>t</th>      <th>P>|t|</th>  <th>[0.025</th>    <th>0.975]</th>  \n",
       "</tr>\n",
       "<tr>\n",
       "  <th>sqft_living</th>          <td> 8.581e+04</td> <td> 2067.452</td> <td>   41.505</td> <td> 0.000</td> <td> 8.18e+04</td> <td> 8.99e+04</td>\n",
       "</tr>\n",
       "<tr>\n",
       "  <th>sqft_lot</th>             <td> 1.678e+04</td> <td> 1801.108</td> <td>    9.317</td> <td> 0.000</td> <td> 1.33e+04</td> <td> 2.03e+04</td>\n",
       "</tr>\n",
       "<tr>\n",
       "  <th>distance_from_a_city</th> <td>-1.229e+05</td> <td> 1648.962</td> <td>  -74.533</td> <td> 0.000</td> <td>-1.26e+05</td> <td> -1.2e+05</td>\n",
       "</tr>\n",
       "<tr>\n",
       "  <th>grade8</th>               <td>  5.59e+05</td> <td> 1996.738</td> <td>  279.942</td> <td> 0.000</td> <td> 5.55e+05</td> <td> 5.63e+05</td>\n",
       "</tr>\n",
       "<tr>\n",
       "  <th>grade9</th>               <td> 6.322e+05</td> <td> 3219.337</td> <td>  196.370</td> <td> 0.000</td> <td> 6.26e+05</td> <td> 6.38e+05</td>\n",
       "</tr>\n",
       "<tr>\n",
       "  <th>grade10</th>              <td> 6.844e+05</td> <td> 5977.731</td> <td>  114.490</td> <td> 0.000</td> <td> 6.73e+05</td> <td> 6.96e+05</td>\n",
       "</tr>\n",
       "<tr>\n",
       "  <th>grade11</th>              <td> 7.431e+05</td> <td> 1.72e+04</td> <td>   43.217</td> <td> 0.000</td> <td> 7.09e+05</td> <td> 7.77e+05</td>\n",
       "</tr>\n",
       "</table>\n",
       "<table class=\"simpletable\">\n",
       "<tr>\n",
       "  <th>Omnibus:</th>       <td>66.379</td> <th>  Durbin-Watson:     </th> <td>   2.057</td>\n",
       "</tr>\n",
       "<tr>\n",
       "  <th>Prob(Omnibus):</th> <td> 0.000</td> <th>  Jarque-Bera (JB):  </th> <td> 112.959</td>\n",
       "</tr>\n",
       "<tr>\n",
       "  <th>Skew:</th>          <td> 0.073</td> <th>  Prob(JB):          </th> <td>2.96e-25</td>\n",
       "</tr>\n",
       "<tr>\n",
       "  <th>Kurtosis:</th>      <td> 3.708</td> <th>  Cond. No.          </th> <td>    15.0</td>\n",
       "</tr>\n",
       "</table><br/><br/>Warnings:<br/>[1] Standard Errors assume that the covariance matrix of the errors is correctly specified."
      ],
      "text/plain": [
       "<class 'statsmodels.iolib.summary.Summary'>\n",
       "\"\"\"\n",
       "                            OLS Regression Results                            \n",
       "==============================================================================\n",
       "Dep. Variable:                  price   R-squared:                       0.668\n",
       "Model:                            OLS   Adj. R-squared:                  0.667\n",
       "Method:                 Least Squares   F-statistic:                     1734.\n",
       "Date:                Wed, 03 Jun 2020   Prob (F-statistic):               0.00\n",
       "Time:                        18:33:26   Log-Likelihood:                -67423.\n",
       "No. Observations:                5181   AIC:                         1.349e+05\n",
       "Df Residuals:                    5174   BIC:                         1.349e+05\n",
       "Df Model:                           6                                         \n",
       "Covariance Type:            nonrobust                                         \n",
       "========================================================================================\n",
       "                           coef    std err          t      P>|t|      [0.025      0.975]\n",
       "----------------------------------------------------------------------------------------\n",
       "sqft_living           8.581e+04   2067.452     41.505      0.000    8.18e+04    8.99e+04\n",
       "sqft_lot              1.678e+04   1801.108      9.317      0.000    1.33e+04    2.03e+04\n",
       "distance_from_a_city -1.229e+05   1648.962    -74.533      0.000   -1.26e+05    -1.2e+05\n",
       "grade8                 5.59e+05   1996.738    279.942      0.000    5.55e+05    5.63e+05\n",
       "grade9                6.322e+05   3219.337    196.370      0.000    6.26e+05    6.38e+05\n",
       "grade10               6.844e+05   5977.731    114.490      0.000    6.73e+05    6.96e+05\n",
       "grade11               7.431e+05   1.72e+04     43.217      0.000    7.09e+05    7.77e+05\n",
       "==============================================================================\n",
       "Omnibus:                       66.379   Durbin-Watson:                   2.057\n",
       "Prob(Omnibus):                  0.000   Jarque-Bera (JB):              112.959\n",
       "Skew:                           0.073   Prob(JB):                     2.96e-25\n",
       "Kurtosis:                       3.708   Cond. No.                         15.0\n",
       "==============================================================================\n",
       "\n",
       "Warnings:\n",
       "[1] Standard Errors assume that the covariance matrix of the errors is correctly specified.\n",
       "\"\"\""
      ]
     },
     "execution_count": 186,
     "metadata": {},
     "output_type": "execute_result"
    }
   ],
   "source": [
    "model = sm.OLS(y,X).fit()\n",
    "model.summary()"
   ]
  },
  {
   "cell_type": "code",
   "execution_count": 187,
   "metadata": {},
   "outputs": [
    {
     "name": "stdout",
     "output_type": "stream",
     "text": [
      "7 7\n",
      "['sqft_living', 'sqft_lot', 'distance_from_a_city', 'grade8', 'grade9']\n"
     ]
    },
    {
     "data": {
      "text/html": [
       "<div>\n",
       "<style scoped>\n",
       "    .dataframe tbody tr th:only-of-type {\n",
       "        vertical-align: middle;\n",
       "    }\n",
       "\n",
       "    .dataframe tbody tr th {\n",
       "        vertical-align: top;\n",
       "    }\n",
       "\n",
       "    .dataframe thead th {\n",
       "        text-align: right;\n",
       "    }\n",
       "</style>\n",
       "<table border=\"1\" class=\"dataframe\">\n",
       "  <thead>\n",
       "    <tr style=\"text-align: right;\">\n",
       "      <th></th>\n",
       "      <th>coef</th>\n",
       "      <th>std err</th>\n",
       "      <th>t</th>\n",
       "      <th>P&gt;|t|</th>\n",
       "      <th>[0.025</th>\n",
       "      <th>0.975]</th>\n",
       "    </tr>\n",
       "    <tr>\n",
       "      <th></th>\n",
       "      <th></th>\n",
       "      <th></th>\n",
       "      <th></th>\n",
       "      <th></th>\n",
       "      <th></th>\n",
       "      <th></th>\n",
       "    </tr>\n",
       "  </thead>\n",
       "  <tbody>\n",
       "    <tr>\n",
       "      <td>sqft_living</td>\n",
       "      <td>8.581e+04</td>\n",
       "      <td>2067.452</td>\n",
       "      <td>41.505</td>\n",
       "      <td>0.0</td>\n",
       "      <td>8.18e+04</td>\n",
       "      <td>8.99e+04</td>\n",
       "    </tr>\n",
       "    <tr>\n",
       "      <td>sqft_lot</td>\n",
       "      <td>1.678e+04</td>\n",
       "      <td>1801.108</td>\n",
       "      <td>9.317</td>\n",
       "      <td>0.0</td>\n",
       "      <td>1.33e+04</td>\n",
       "      <td>2.03e+04</td>\n",
       "    </tr>\n",
       "    <tr>\n",
       "      <td>distance_from_a_city</td>\n",
       "      <td>-1.229e+05</td>\n",
       "      <td>1648.962</td>\n",
       "      <td>-74.533</td>\n",
       "      <td>0.0</td>\n",
       "      <td>-1.26e+05</td>\n",
       "      <td>-1.2e+05</td>\n",
       "    </tr>\n",
       "    <tr>\n",
       "      <td>grade8</td>\n",
       "      <td>5.59e+05</td>\n",
       "      <td>1996.738</td>\n",
       "      <td>279.942</td>\n",
       "      <td>0.0</td>\n",
       "      <td>5.55e+05</td>\n",
       "      <td>5.63e+05</td>\n",
       "    </tr>\n",
       "    <tr>\n",
       "      <td>grade9</td>\n",
       "      <td>6.322e+05</td>\n",
       "      <td>3219.337</td>\n",
       "      <td>196.370</td>\n",
       "      <td>0.0</td>\n",
       "      <td>6.26e+05</td>\n",
       "      <td>6.38e+05</td>\n",
       "    </tr>\n",
       "  </tbody>\n",
       "</table>\n",
       "</div>"
      ],
      "text/plain": [
       "0                           coef    std err          t  P>|t|     [0.025  \\\n",
       "                                                                           \n",
       "sqft_living            8.581e+04   2067.452     41.505    0.0   8.18e+04   \n",
       "sqft_lot               1.678e+04   1801.108      9.317    0.0   1.33e+04   \n",
       "distance_from_a_city  -1.229e+05   1648.962    -74.533    0.0  -1.26e+05   \n",
       "grade8                  5.59e+05   1996.738    279.942    0.0   5.55e+05   \n",
       "grade9                 6.322e+05   3219.337    196.370    0.0   6.26e+05   \n",
       "\n",
       "0                        0.975]  \n",
       "                                 \n",
       "sqft_living            8.99e+04  \n",
       "sqft_lot               2.03e+04  \n",
       "distance_from_a_city   -1.2e+05  \n",
       "grade8                 5.63e+05  \n",
       "grade9                 6.38e+05  "
      ]
     },
     "execution_count": 187,
     "metadata": {},
     "output_type": "execute_result"
    }
   ],
   "source": [
    "summary = model.summary()\n",
    "p_table = summary.tables[1]\n",
    "p_table = pd.DataFrame(p_table.data)\n",
    "p_table.columns = p_table.iloc[0]\n",
    "p_table = p_table.drop(0)\n",
    "p_table = p_table.set_index(p_table.columns[0])\n",
    "p_table['P>|t|'] = p_table['P>|t|'].astype(float)\n",
    "x_cols = list(p_table[p_table['P>|t|'] < 0.05].index)\n",
    "print(len(p_table), len(x_cols))\n",
    "print(x_cols[:5])\n",
    "p_table.head()"
   ]
  },
  {
   "cell_type": "code",
   "execution_count": 188,
   "metadata": {},
   "outputs": [
    {
     "data": {
      "text/html": [
       "<table class=\"simpletable\">\n",
       "<caption>OLS Regression Results</caption>\n",
       "<tr>\n",
       "  <th>Dep. Variable:</th>          <td>price</td>      <th>  R-squared:         </th> <td>   0.668</td> \n",
       "</tr>\n",
       "<tr>\n",
       "  <th>Model:</th>                   <td>OLS</td>       <th>  Adj. R-squared:    </th> <td>   0.667</td> \n",
       "</tr>\n",
       "<tr>\n",
       "  <th>Method:</th>             <td>Least Squares</td>  <th>  F-statistic:       </th> <td>   1734.</td> \n",
       "</tr>\n",
       "<tr>\n",
       "  <th>Date:</th>             <td>Wed, 03 Jun 2020</td> <th>  Prob (F-statistic):</th>  <td>  0.00</td>  \n",
       "</tr>\n",
       "<tr>\n",
       "  <th>Time:</th>                 <td>18:33:30</td>     <th>  Log-Likelihood:    </th> <td> -67423.</td> \n",
       "</tr>\n",
       "<tr>\n",
       "  <th>No. Observations:</th>      <td>  5181</td>      <th>  AIC:               </th> <td>1.349e+05</td>\n",
       "</tr>\n",
       "<tr>\n",
       "  <th>Df Residuals:</th>          <td>  5174</td>      <th>  BIC:               </th> <td>1.349e+05</td>\n",
       "</tr>\n",
       "<tr>\n",
       "  <th>Df Model:</th>              <td>     6</td>      <th>                     </th>     <td> </td>    \n",
       "</tr>\n",
       "<tr>\n",
       "  <th>Covariance Type:</th>      <td>nonrobust</td>    <th>                     </th>     <td> </td>    \n",
       "</tr>\n",
       "</table>\n",
       "<table class=\"simpletable\">\n",
       "<tr>\n",
       "            <td></td>              <th>coef</th>     <th>std err</th>      <th>t</th>      <th>P>|t|</th>  <th>[0.025</th>    <th>0.975]</th>  \n",
       "</tr>\n",
       "<tr>\n",
       "  <th>sqft_living</th>          <td> 8.581e+04</td> <td> 2067.452</td> <td>   41.505</td> <td> 0.000</td> <td> 8.18e+04</td> <td> 8.99e+04</td>\n",
       "</tr>\n",
       "<tr>\n",
       "  <th>sqft_lot</th>             <td> 1.678e+04</td> <td> 1801.108</td> <td>    9.317</td> <td> 0.000</td> <td> 1.33e+04</td> <td> 2.03e+04</td>\n",
       "</tr>\n",
       "<tr>\n",
       "  <th>distance_from_a_city</th> <td>-1.229e+05</td> <td> 1648.962</td> <td>  -74.533</td> <td> 0.000</td> <td>-1.26e+05</td> <td> -1.2e+05</td>\n",
       "</tr>\n",
       "<tr>\n",
       "  <th>grade8</th>               <td>  5.59e+05</td> <td> 1996.738</td> <td>  279.942</td> <td> 0.000</td> <td> 5.55e+05</td> <td> 5.63e+05</td>\n",
       "</tr>\n",
       "<tr>\n",
       "  <th>grade9</th>               <td> 6.322e+05</td> <td> 3219.337</td> <td>  196.370</td> <td> 0.000</td> <td> 6.26e+05</td> <td> 6.38e+05</td>\n",
       "</tr>\n",
       "<tr>\n",
       "  <th>grade10</th>              <td> 6.844e+05</td> <td> 5977.731</td> <td>  114.490</td> <td> 0.000</td> <td> 6.73e+05</td> <td> 6.96e+05</td>\n",
       "</tr>\n",
       "<tr>\n",
       "  <th>grade11</th>              <td> 7.431e+05</td> <td> 1.72e+04</td> <td>   43.217</td> <td> 0.000</td> <td> 7.09e+05</td> <td> 7.77e+05</td>\n",
       "</tr>\n",
       "</table>\n",
       "<table class=\"simpletable\">\n",
       "<tr>\n",
       "  <th>Omnibus:</th>       <td>66.379</td> <th>  Durbin-Watson:     </th> <td>   2.057</td>\n",
       "</tr>\n",
       "<tr>\n",
       "  <th>Prob(Omnibus):</th> <td> 0.000</td> <th>  Jarque-Bera (JB):  </th> <td> 112.959</td>\n",
       "</tr>\n",
       "<tr>\n",
       "  <th>Skew:</th>          <td> 0.073</td> <th>  Prob(JB):          </th> <td>2.96e-25</td>\n",
       "</tr>\n",
       "<tr>\n",
       "  <th>Kurtosis:</th>      <td> 3.708</td> <th>  Cond. No.          </th> <td>    15.0</td>\n",
       "</tr>\n",
       "</table><br/><br/>Warnings:<br/>[1] Standard Errors assume that the covariance matrix of the errors is correctly specified."
      ],
      "text/plain": [
       "<class 'statsmodels.iolib.summary.Summary'>\n",
       "\"\"\"\n",
       "                            OLS Regression Results                            \n",
       "==============================================================================\n",
       "Dep. Variable:                  price   R-squared:                       0.668\n",
       "Model:                            OLS   Adj. R-squared:                  0.667\n",
       "Method:                 Least Squares   F-statistic:                     1734.\n",
       "Date:                Wed, 03 Jun 2020   Prob (F-statistic):               0.00\n",
       "Time:                        18:33:30   Log-Likelihood:                -67423.\n",
       "No. Observations:                5181   AIC:                         1.349e+05\n",
       "Df Residuals:                    5174   BIC:                         1.349e+05\n",
       "Df Model:                           6                                         \n",
       "Covariance Type:            nonrobust                                         \n",
       "========================================================================================\n",
       "                           coef    std err          t      P>|t|      [0.025      0.975]\n",
       "----------------------------------------------------------------------------------------\n",
       "sqft_living           8.581e+04   2067.452     41.505      0.000    8.18e+04    8.99e+04\n",
       "sqft_lot              1.678e+04   1801.108      9.317      0.000    1.33e+04    2.03e+04\n",
       "distance_from_a_city -1.229e+05   1648.962    -74.533      0.000   -1.26e+05    -1.2e+05\n",
       "grade8                 5.59e+05   1996.738    279.942      0.000    5.55e+05    5.63e+05\n",
       "grade9                6.322e+05   3219.337    196.370      0.000    6.26e+05    6.38e+05\n",
       "grade10               6.844e+05   5977.731    114.490      0.000    6.73e+05    6.96e+05\n",
       "grade11               7.431e+05   1.72e+04     43.217      0.000    7.09e+05    7.77e+05\n",
       "==============================================================================\n",
       "Omnibus:                       66.379   Durbin-Watson:                   2.057\n",
       "Prob(Omnibus):                  0.000   Jarque-Bera (JB):              112.959\n",
       "Skew:                           0.073   Prob(JB):                     2.96e-25\n",
       "Kurtosis:                       3.708   Cond. No.                         15.0\n",
       "==============================================================================\n",
       "\n",
       "Warnings:\n",
       "[1] Standard Errors assume that the covariance matrix of the errors is correctly specified.\n",
       "\"\"\""
      ]
     },
     "execution_count": 188,
     "metadata": {},
     "output_type": "execute_result"
    }
   ],
   "source": [
    "X = train[x_cols]\n",
    "y= train['price']\n",
    "model = sm.OLS(y,X).fit()\n",
    "model.summary()"
   ]
  },
  {
   "cell_type": "code",
   "execution_count": 189,
   "metadata": {},
   "outputs": [
    {
     "data": {
      "text/plain": [
       "[('sqft_living', 1.7757196145336014),\n",
       " ('sqft_lot', 1.463205956723765),\n",
       " ('distance_from_a_city', 1.1414105166429005),\n",
       " ('grade8', 1.194636047924547),\n",
       " ('grade9', 1.0864288901335006),\n",
       " ('grade10', 1.1243369968201558),\n",
       " ('grade11', 1.0279270369184441)]"
      ]
     },
     "execution_count": 189,
     "metadata": {},
     "output_type": "execute_result"
    }
   ],
   "source": [
    "# Your code here - Code a way to identify multicollinearity\n",
    "from statsmodels.stats.outliers_influence import variance_inflation_factor\n",
    "X = train[x_cols]\n",
    "vif = [variance_inflation_factor(X.values,i) for i in range(X.shape[1])]\n",
    "list(zip(x_cols,vif))"
   ]
  },
  {
   "cell_type": "code",
   "execution_count": 190,
   "metadata": {},
   "outputs": [
    {
     "name": "stdout",
     "output_type": "stream",
     "text": [
      "7 7\n"
     ]
    }
   ],
   "source": [
    "vif_scores = list(zip(x_cols, vif))\n",
    "x_cols = [x for x,vif in vif_scores if vif < 5]\n",
    "print(len(vif_scores), len(x_cols))"
   ]
  },
  {
   "cell_type": "code",
   "execution_count": 191,
   "metadata": {},
   "outputs": [
    {
     "data": {
      "text/html": [
       "<table class=\"simpletable\">\n",
       "<caption>OLS Regression Results</caption>\n",
       "<tr>\n",
       "  <th>Dep. Variable:</th>          <td>price</td>      <th>  R-squared:         </th> <td>   0.668</td> \n",
       "</tr>\n",
       "<tr>\n",
       "  <th>Model:</th>                   <td>OLS</td>       <th>  Adj. R-squared:    </th> <td>   0.667</td> \n",
       "</tr>\n",
       "<tr>\n",
       "  <th>Method:</th>             <td>Least Squares</td>  <th>  F-statistic:       </th> <td>   1734.</td> \n",
       "</tr>\n",
       "<tr>\n",
       "  <th>Date:</th>             <td>Wed, 03 Jun 2020</td> <th>  Prob (F-statistic):</th>  <td>  0.00</td>  \n",
       "</tr>\n",
       "<tr>\n",
       "  <th>Time:</th>                 <td>18:33:33</td>     <th>  Log-Likelihood:    </th> <td> -67423.</td> \n",
       "</tr>\n",
       "<tr>\n",
       "  <th>No. Observations:</th>      <td>  5181</td>      <th>  AIC:               </th> <td>1.349e+05</td>\n",
       "</tr>\n",
       "<tr>\n",
       "  <th>Df Residuals:</th>          <td>  5174</td>      <th>  BIC:               </th> <td>1.349e+05</td>\n",
       "</tr>\n",
       "<tr>\n",
       "  <th>Df Model:</th>              <td>     6</td>      <th>                     </th>     <td> </td>    \n",
       "</tr>\n",
       "<tr>\n",
       "  <th>Covariance Type:</th>      <td>nonrobust</td>    <th>                     </th>     <td> </td>    \n",
       "</tr>\n",
       "</table>\n",
       "<table class=\"simpletable\">\n",
       "<tr>\n",
       "            <td></td>              <th>coef</th>     <th>std err</th>      <th>t</th>      <th>P>|t|</th>  <th>[0.025</th>    <th>0.975]</th>  \n",
       "</tr>\n",
       "<tr>\n",
       "  <th>sqft_living</th>          <td> 8.581e+04</td> <td> 2067.452</td> <td>   41.505</td> <td> 0.000</td> <td> 8.18e+04</td> <td> 8.99e+04</td>\n",
       "</tr>\n",
       "<tr>\n",
       "  <th>sqft_lot</th>             <td> 1.678e+04</td> <td> 1801.108</td> <td>    9.317</td> <td> 0.000</td> <td> 1.33e+04</td> <td> 2.03e+04</td>\n",
       "</tr>\n",
       "<tr>\n",
       "  <th>distance_from_a_city</th> <td>-1.229e+05</td> <td> 1648.962</td> <td>  -74.533</td> <td> 0.000</td> <td>-1.26e+05</td> <td> -1.2e+05</td>\n",
       "</tr>\n",
       "<tr>\n",
       "  <th>grade8</th>               <td>  5.59e+05</td> <td> 1996.738</td> <td>  279.942</td> <td> 0.000</td> <td> 5.55e+05</td> <td> 5.63e+05</td>\n",
       "</tr>\n",
       "<tr>\n",
       "  <th>grade9</th>               <td> 6.322e+05</td> <td> 3219.337</td> <td>  196.370</td> <td> 0.000</td> <td> 6.26e+05</td> <td> 6.38e+05</td>\n",
       "</tr>\n",
       "<tr>\n",
       "  <th>grade10</th>              <td> 6.844e+05</td> <td> 5977.731</td> <td>  114.490</td> <td> 0.000</td> <td> 6.73e+05</td> <td> 6.96e+05</td>\n",
       "</tr>\n",
       "<tr>\n",
       "  <th>grade11</th>              <td> 7.431e+05</td> <td> 1.72e+04</td> <td>   43.217</td> <td> 0.000</td> <td> 7.09e+05</td> <td> 7.77e+05</td>\n",
       "</tr>\n",
       "</table>\n",
       "<table class=\"simpletable\">\n",
       "<tr>\n",
       "  <th>Omnibus:</th>       <td>66.379</td> <th>  Durbin-Watson:     </th> <td>   2.057</td>\n",
       "</tr>\n",
       "<tr>\n",
       "  <th>Prob(Omnibus):</th> <td> 0.000</td> <th>  Jarque-Bera (JB):  </th> <td> 112.959</td>\n",
       "</tr>\n",
       "<tr>\n",
       "  <th>Skew:</th>          <td> 0.073</td> <th>  Prob(JB):          </th> <td>2.96e-25</td>\n",
       "</tr>\n",
       "<tr>\n",
       "  <th>Kurtosis:</th>      <td> 3.708</td> <th>  Cond. No.          </th> <td>    15.0</td>\n",
       "</tr>\n",
       "</table><br/><br/>Warnings:<br/>[1] Standard Errors assume that the covariance matrix of the errors is correctly specified."
      ],
      "text/plain": [
       "<class 'statsmodels.iolib.summary.Summary'>\n",
       "\"\"\"\n",
       "                            OLS Regression Results                            \n",
       "==============================================================================\n",
       "Dep. Variable:                  price   R-squared:                       0.668\n",
       "Model:                            OLS   Adj. R-squared:                  0.667\n",
       "Method:                 Least Squares   F-statistic:                     1734.\n",
       "Date:                Wed, 03 Jun 2020   Prob (F-statistic):               0.00\n",
       "Time:                        18:33:33   Log-Likelihood:                -67423.\n",
       "No. Observations:                5181   AIC:                         1.349e+05\n",
       "Df Residuals:                    5174   BIC:                         1.349e+05\n",
       "Df Model:                           6                                         \n",
       "Covariance Type:            nonrobust                                         \n",
       "========================================================================================\n",
       "                           coef    std err          t      P>|t|      [0.025      0.975]\n",
       "----------------------------------------------------------------------------------------\n",
       "sqft_living           8.581e+04   2067.452     41.505      0.000    8.18e+04    8.99e+04\n",
       "sqft_lot              1.678e+04   1801.108      9.317      0.000    1.33e+04    2.03e+04\n",
       "distance_from_a_city -1.229e+05   1648.962    -74.533      0.000   -1.26e+05    -1.2e+05\n",
       "grade8                 5.59e+05   1996.738    279.942      0.000    5.55e+05    5.63e+05\n",
       "grade9                6.322e+05   3219.337    196.370      0.000    6.26e+05    6.38e+05\n",
       "grade10               6.844e+05   5977.731    114.490      0.000    6.73e+05    6.96e+05\n",
       "grade11               7.431e+05   1.72e+04     43.217      0.000    7.09e+05    7.77e+05\n",
       "==============================================================================\n",
       "Omnibus:                       66.379   Durbin-Watson:                   2.057\n",
       "Prob(Omnibus):                  0.000   Jarque-Bera (JB):              112.959\n",
       "Skew:                           0.073   Prob(JB):                     2.96e-25\n",
       "Kurtosis:                       3.708   Cond. No.                         15.0\n",
       "==============================================================================\n",
       "\n",
       "Warnings:\n",
       "[1] Standard Errors assume that the covariance matrix of the errors is correctly specified.\n",
       "\"\"\""
      ]
     },
     "execution_count": 191,
     "metadata": {},
     "output_type": "execute_result"
    }
   ],
   "source": [
    "X = train[x_cols]\n",
    "y= train['price']\n",
    "model = sm.OLS(y,X).fit()\n",
    "model.summary()"
   ]
  },
  {
   "cell_type": "code",
   "execution_count": 192,
   "metadata": {},
   "outputs": [
    {
     "data": {
      "image/png": "[encoded data removed]",
      "text/plain": [
       "<Figure size 432x288 with 1 Axes>"
      ]
     },
     "metadata": {},
     "output_type": "display_data"
    }
   ],
   "source": [
    "fig = sm.graphics.qqplot(model.resid, dist=scs.norm, line='45', fit=True)\n"
   ]
  },
  {
   "cell_type": "code",
   "execution_count": 193,
   "metadata": {},
   "outputs": [
    {
     "data": {
      "text/plain": [
       "[<matplotlib.lines.Line2D at 0x1c1adf7ac8>]"
      ]
     },
     "execution_count": 193,
     "metadata": {},
     "output_type": "execute_result"
    },
    {
     "data": {
      "image/png": "[encoded data removed]",
      "text/plain": [
       "<Figure size 432x288 with 1 Axes>"
      ]
     },
     "metadata": {},
     "output_type": "display_data"
    }
   ],
   "source": [
    "plt.scatter(model.predict(train[x_cols]), model.resid)\n",
    "plt.plot(model.predict(train[x_cols]), [0 for i in range(len(train))])"
   ]
  },
  {
   "cell_type": "code",
   "execution_count": 194,
   "metadata": {},
   "outputs": [
    {
     "name": "stdout",
     "output_type": "stream",
     "text": [
      "0.8 percentile: 745000.0\n",
      "0.81 percentile: 750000.0\n",
      "0.82 percentile: 760000.0\n",
      "0.83 percentile: 769728.9999999995\n",
      "0.84 percentile: 779881.6000000001\n",
      "0.85 percentile: 785974.9999999999\n",
      "0.86 percentile: 798504.9999999999\n",
      "0.87 percentile: 804995.45\n",
      "0.88 percentile: 815000.0\n",
      "0.89 percentile: 825000.0\n",
      "0.9 percentile: 835030.0\n",
      "0.91 percentile: 849000.0\n",
      "0.92 percentile: 855534.6400000004\n",
      "0.93 percentile: 870000.0\n",
      "0.94 percentile: 882995.8\n",
      "0.95 percentile: 900000.0\n",
      "0.96 percentile: 915000.0\n",
      "0.97 percentile: 935000.0\n",
      "0.98 percentile: 955000.0\n",
      "0.99 percentile: 978465.0000000001\n"
     ]
    },
    {
     "data": {
      "text/plain": [
       "<matplotlib.axes._subplots.AxesSubplot at 0x1c1ae4a5c0>"
      ]
     },
     "execution_count": 194,
     "metadata": {},
     "output_type": "execute_result"
    },
    {
     "data": {
      "image/png": "[encoded data removed]",
      "text/plain": [
       "<Figure size 432x288 with 1 Axes>"
      ]
     },
     "metadata": {},
     "output_type": "display_data"
    }
   ],
   "source": [
    "for i in range(80,100):\n",
    "    q = i/100\n",
    "    print(\"{} percentile: {}\".format(q, df.price.quantile(q=q)))\n",
    "\n",
    "df.price.hist()"
   ]
  },
  {
   "cell_type": "code",
   "execution_count": 195,
   "metadata": {},
   "outputs": [],
   "source": [
    "df = df[df.price <= 9700000.0]\n",
    "train, test = train_test_split(df)"
   ]
  },
  {
   "cell_type": "code",
   "execution_count": 196,
   "metadata": {},
   "outputs": [
    {
     "data": {
      "text/html": [
       "<table class=\"simpletable\">\n",
       "<caption>OLS Regression Results</caption>\n",
       "<tr>\n",
       "  <th>Dep. Variable:</th>          <td>price</td>      <th>  R-squared:         </th> <td>   0.667</td> \n",
       "</tr>\n",
       "<tr>\n",
       "  <th>Model:</th>                   <td>OLS</td>       <th>  Adj. R-squared:    </th> <td>   0.667</td> \n",
       "</tr>\n",
       "<tr>\n",
       "  <th>Method:</th>             <td>Least Squares</td>  <th>  F-statistic:       </th> <td>   1730.</td> \n",
       "</tr>\n",
       "<tr>\n",
       "  <th>Date:</th>             <td>Wed, 03 Jun 2020</td> <th>  Prob (F-statistic):</th>  <td>  0.00</td>  \n",
       "</tr>\n",
       "<tr>\n",
       "  <th>Time:</th>                 <td>18:33:47</td>     <th>  Log-Likelihood:    </th> <td> -67382.</td> \n",
       "</tr>\n",
       "<tr>\n",
       "  <th>No. Observations:</th>      <td>  5181</td>      <th>  AIC:               </th> <td>1.348e+05</td>\n",
       "</tr>\n",
       "<tr>\n",
       "  <th>Df Residuals:</th>          <td>  5174</td>      <th>  BIC:               </th> <td>1.348e+05</td>\n",
       "</tr>\n",
       "<tr>\n",
       "  <th>Df Model:</th>              <td>     6</td>      <th>                     </th>     <td> </td>    \n",
       "</tr>\n",
       "<tr>\n",
       "  <th>Covariance Type:</th>      <td>nonrobust</td>    <th>                     </th>     <td> </td>    \n",
       "</tr>\n",
       "</table>\n",
       "<table class=\"simpletable\">\n",
       "<tr>\n",
       "            <td></td>              <th>coef</th>     <th>std err</th>      <th>t</th>      <th>P>|t|</th>  <th>[0.025</th>    <th>0.975]</th>  \n",
       "</tr>\n",
       "<tr>\n",
       "  <th>sqft_living</th>          <td> 8.485e+04</td> <td> 2058.896</td> <td>   41.210</td> <td> 0.000</td> <td> 8.08e+04</td> <td> 8.89e+04</td>\n",
       "</tr>\n",
       "<tr>\n",
       "  <th>sqft_lot</th>             <td> 1.689e+04</td> <td> 1785.041</td> <td>    9.462</td> <td> 0.000</td> <td> 1.34e+04</td> <td> 2.04e+04</td>\n",
       "</tr>\n",
       "<tr>\n",
       "  <th>distance_from_a_city</th> <td>-1.225e+05</td> <td> 1632.687</td> <td>  -75.018</td> <td> 0.000</td> <td>-1.26e+05</td> <td>-1.19e+05</td>\n",
       "</tr>\n",
       "<tr>\n",
       "  <th>grade8</th>               <td> 5.579e+05</td> <td> 1975.743</td> <td>  282.395</td> <td> 0.000</td> <td> 5.54e+05</td> <td> 5.62e+05</td>\n",
       "</tr>\n",
       "<tr>\n",
       "  <th>grade9</th>               <td> 6.338e+05</td> <td> 3186.834</td> <td>  198.871</td> <td> 0.000</td> <td> 6.28e+05</td> <td>  6.4e+05</td>\n",
       "</tr>\n",
       "<tr>\n",
       "  <th>grade10</th>              <td> 6.826e+05</td> <td> 6101.927</td> <td>  111.869</td> <td> 0.000</td> <td> 6.71e+05</td> <td> 6.95e+05</td>\n",
       "</tr>\n",
       "<tr>\n",
       "  <th>grade11</th>              <td> 7.538e+05</td> <td> 1.84e+04</td> <td>   40.915</td> <td> 0.000</td> <td> 7.18e+05</td> <td>  7.9e+05</td>\n",
       "</tr>\n",
       "</table>\n",
       "<table class=\"simpletable\">\n",
       "<tr>\n",
       "  <th>Omnibus:</th>       <td>72.050</td> <th>  Durbin-Watson:     </th> <td>   2.002</td>\n",
       "</tr>\n",
       "<tr>\n",
       "  <th>Prob(Omnibus):</th> <td> 0.000</td> <th>  Jarque-Bera (JB):  </th> <td> 125.112</td>\n",
       "</tr>\n",
       "<tr>\n",
       "  <th>Skew:</th>          <td> 0.080</td> <th>  Prob(JB):          </th> <td>6.80e-28</td>\n",
       "</tr>\n",
       "<tr>\n",
       "  <th>Kurtosis:</th>      <td> 3.744</td> <th>  Cond. No.          </th> <td>    16.2</td>\n",
       "</tr>\n",
       "</table><br/><br/>Warnings:<br/>[1] Standard Errors assume that the covariance matrix of the errors is correctly specified."
      ],
      "text/plain": [
       "<class 'statsmodels.iolib.summary.Summary'>\n",
       "\"\"\"\n",
       "                            OLS Regression Results                            \n",
       "==============================================================================\n",
       "Dep. Variable:                  price   R-squared:                       0.667\n",
       "Model:                            OLS   Adj. R-squared:                  0.667\n",
       "Method:                 Least Squares   F-statistic:                     1730.\n",
       "Date:                Wed, 03 Jun 2020   Prob (F-statistic):               0.00\n",
       "Time:                        18:33:47   Log-Likelihood:                -67382.\n",
       "No. Observations:                5181   AIC:                         1.348e+05\n",
       "Df Residuals:                    5174   BIC:                         1.348e+05\n",
       "Df Model:                           6                                         \n",
       "Covariance Type:            nonrobust                                         \n",
       "========================================================================================\n",
       "                           coef    std err          t      P>|t|      [0.025      0.975]\n",
       "----------------------------------------------------------------------------------------\n",
       "sqft_living           8.485e+04   2058.896     41.210      0.000    8.08e+04    8.89e+04\n",
       "sqft_lot              1.689e+04   1785.041      9.462      0.000    1.34e+04    2.04e+04\n",
       "distance_from_a_city -1.225e+05   1632.687    -75.018      0.000   -1.26e+05   -1.19e+05\n",
       "grade8                5.579e+05   1975.743    282.395      0.000    5.54e+05    5.62e+05\n",
       "grade9                6.338e+05   3186.834    198.871      0.000    6.28e+05     6.4e+05\n",
       "grade10               6.826e+05   6101.927    111.869      0.000    6.71e+05    6.95e+05\n",
       "grade11               7.538e+05   1.84e+04     40.915      0.000    7.18e+05     7.9e+05\n",
       "==============================================================================\n",
       "Omnibus:                       72.050   Durbin-Watson:                   2.002\n",
       "Prob(Omnibus):                  0.000   Jarque-Bera (JB):              125.112\n",
       "Skew:                           0.080   Prob(JB):                     6.80e-28\n",
       "Kurtosis:                       3.744   Cond. No.                         16.2\n",
       "==============================================================================\n",
       "\n",
       "Warnings:\n",
       "[1] Standard Errors assume that the covariance matrix of the errors is correctly specified.\n",
       "\"\"\""
      ]
     },
     "execution_count": 196,
     "metadata": {},
     "output_type": "execute_result"
    }
   ],
   "source": [
    "X = train[x_cols]\n",
    "y= train['price']\n",
    "model = sm.OLS(y,X).fit()\n",
    "model.summary()"
   ]
  },
  {
   "cell_type": "code",
   "execution_count": 197,
   "metadata": {},
   "outputs": [
    {
     "data": {
      "image/png": "[encoded data removed]",
      "text/plain": [
       "<Figure size 432x288 with 1 Axes>"
      ]
     },
     "metadata": {},
     "output_type": "display_data"
    }
   ],
   "source": [
    "fig = sm.graphics.qqplot(model.resid, dist=scs.norm, line='45', fit=True)\n"
   ]
  },
  {
   "cell_type": "code",
   "execution_count": 198,
   "metadata": {},
   "outputs": [
    {
     "data": {
      "text/plain": [
       "[<matplotlib.lines.Line2D at 0x1c1bb82860>]"
      ]
     },
     "execution_count": 198,
     "metadata": {},
     "output_type": "execute_result"
    },
    {
     "data": {
      "image/png": "[encoded data removed]",
      "text/plain": [
       "<Figure size 432x288 with 1 Axes>"
      ]
     },
     "metadata": {},
     "output_type": "display_data"
    }
   ],
   "source": [
    "plt.scatter(model.predict(train[x_cols]), model.resid)\n",
    "plt.plot(model.predict(train[x_cols]), [0 for i in range(len(train))])"
   ]
  },
  {
   "cell_type": "code",
   "execution_count": null,
   "metadata": {},
   "outputs": [],
   "source": []
  },
  {
   "cell_type": "code",
   "execution_count": 199,
   "metadata": {},
   "outputs": [],
   "source": [
    "def plot_residuals(resids):\n",
    "    plt.hist(resids)\n",
    "    plt.title(\"Residuals\")\n",
    "    plt.show()\n",
    "    \n",
    "    xspace = np.linspace(0, 1, len(resids))\n",
    "    plt.scatter(xspace, resids)\n",
    "    plt.title(\"resids\")\n",
    "    plt.hlines(0, xmin=0, xmax=1)\n",
    "    plt.show()"
   ]
  },
  {
   "cell_type": "code",
   "execution_count": 200,
   "metadata": {},
   "outputs": [],
   "source": [
    "residuals = model.resid"
   ]
  },
  {
   "cell_type": "code",
   "execution_count": 201,
   "metadata": {},
   "outputs": [
    {
     "data": {
      "image/png": "[encoded data removed]",
      "text/plain": [
       "<Figure size 432x288 with 1 Axes>"
      ]
     },
     "metadata": {},
     "output_type": "display_data"
    },
    {
     "data": {
      "image/png": "[encoded data removed]",
      "text/plain": [
       "<Figure size 432x288 with 1 Axes>"
      ]
     },
     "metadata": {},
     "output_type": "display_data"
    }
   ],
   "source": [
    "plot_residuals(residuals)"
   ]
  },
  {
   "cell_type": "code",
   "execution_count": 202,
   "metadata": {},
   "outputs": [],
   "source": [
    "from sklearn.utils import shuffle\n",
    "from sklearn.linear_model import LinearRegression\n",
    "from sklearn.model_selection import train_test_split, cross_val_score\n",
    "from sklearn.preprocessing import StandardScaler\n",
    "from sklearn.feature_selection import RFE\n",
    "\n",
    "from sklearn.metrics import r2_score"
   ]
  },
  {
   "cell_type": "code",
   "execution_count": 203,
   "metadata": {},
   "outputs": [],
   "source": [
    "ols = LinearRegression(fit_intercept=False, normalize=False, n_jobs=-1)"
   ]
  },
  {
   "cell_type": "code",
   "execution_count": 204,
   "metadata": {},
   "outputs": [],
   "source": [
    "X_train = train[x_cols]\n",
    "X_test = test[x_cols]"
   ]
  },
  {
   "cell_type": "code",
   "execution_count": 205,
   "metadata": {},
   "outputs": [],
   "source": [
    "y_train = train['price']\n",
    "y_test = test['price']"
   ]
  },
  {
   "cell_type": "code",
   "execution_count": 206,
   "metadata": {},
   "outputs": [
    {
     "data": {
      "text/plain": [
       "LinearRegression(copy_X=True, fit_intercept=False, n_jobs=-1, normalize=False)"
      ]
     },
     "execution_count": 206,
     "metadata": {},
     "output_type": "execute_result"
    }
   ],
   "source": [
    "ols.fit(train[x_cols], train['price'])"
   ]
  },
  {
   "cell_type": "code",
   "execution_count": 207,
   "metadata": {},
   "outputs": [
    {
     "data": {
      "text/plain": [
       "array([610376.37444635, 552248.77748559, 851726.15737575, ...,\n",
       "       998091.39838607, 272953.0078346 , 693639.56811664])"
      ]
     },
     "execution_count": 207,
     "metadata": {},
     "output_type": "execute_result"
    }
   ],
   "source": [
    "y_train_preds = ols.predict(train[x_cols])\n",
    "y_train_preds"
   ]
  },
  {
   "cell_type": "code",
   "execution_count": 208,
   "metadata": {},
   "outputs": [
    {
     "data": {
      "text/plain": [
       "0.6673069465003244"
      ]
     },
     "execution_count": 208,
     "metadata": {},
     "output_type": "execute_result"
    }
   ],
   "source": [
    "r2_score(train['price'], y_train_preds)"
   ]
  },
  {
   "cell_type": "code",
   "execution_count": 209,
   "metadata": {},
   "outputs": [
    {
     "data": {
      "text/plain": [
       "0.6673069465003244"
      ]
     },
     "execution_count": 209,
     "metadata": {},
     "output_type": "execute_result"
    }
   ],
   "source": [
    "# r2 \n",
    "training_score = ols.score(X_train, y_train)\n",
    "# ols.score is calculating the y_train_preds and then using those to get the r2 score\n",
    "training_score"
   ]
  },
  {
   "cell_type": "code",
   "execution_count": 210,
   "metadata": {},
   "outputs": [
    {
     "data": {
      "text/plain": [
       "0.6619115456243607"
      ]
     },
     "execution_count": 210,
     "metadata": {},
     "output_type": "execute_result"
    }
   ],
   "source": [
    "testing_score = ols.score(X_test, y_test)\n",
    "testing_score"
   ]
  },
  {
   "cell_type": "code",
   "execution_count": 211,
   "metadata": {},
   "outputs": [
    {
     "data": {
      "text/plain": [
       "(0.6664474371643827, 0.6658608591564106, 0.6650405649040814)"
      ]
     },
     "execution_count": 211,
     "metadata": {},
     "output_type": "execute_result"
    }
   ],
   "source": [
    "cv5_scores = np.mean(cross_val_score(ols, X, y, scoring='r2', cv=5, n_jobs=-1) )\n",
    "cv10_scores = np.mean(cross_val_score(ols, X, y, scoring='r2', cv=10, n_jobs=-1) )\n",
    "cv20_scores = np.mean(cross_val_score(ols, X, y, scoring='r2', cv=20, n_jobs=-1) )\n",
    "\n",
    "# cv breaks your data into that many equal pieces \n",
    "cv5_scores,cv10_scores,cv20_scores"
   ]
  },
  {
   "cell_type": "code",
   "execution_count": 212,
   "metadata": {},
   "outputs": [
    {
     "data": {
      "text/plain": [
       "(-11614094597.815866, -11621422734.799458, -11624945604.40733)"
      ]
     },
     "execution_count": 212,
     "metadata": {},
     "output_type": "execute_result"
    }
   ],
   "source": [
    "cv5mse_scores = np.mean(cross_val_score(ols, X, y, scoring='neg_mean_squared_error', cv=5, n_jobs=-1) )\n",
    "cv10mse_scores = np.mean(cross_val_score(ols, X, y, scoring='neg_mean_squared_error', cv=10, n_jobs=-1) )\n",
    "cv20mse_scores = np.mean(cross_val_score(ols, X, y, scoring='neg_mean_squared_error', cv=20, n_jobs=-1) )\n",
    "\n",
    "# cv breaks your data into that many equal pieces \n",
    "cv5mse_scores,cv10mse_scores,cv20mse_scores"
   ]
  },
  {
   "cell_type": "code",
   "execution_count": 213,
   "metadata": {},
   "outputs": [
    {
     "data": {
      "text/plain": [
       "(-83966.75680009706, -83995.14203404232, -84000.61994108271)"
      ]
     },
     "execution_count": 213,
     "metadata": {},
     "output_type": "execute_result"
    }
   ],
   "source": [
    "cv5mae_scores = np.mean(cross_val_score(ols, X, y, scoring='neg_mean_absolute_error', cv=5, n_jobs=-1) )\n",
    "cv10mae_scores = np.mean(cross_val_score(ols, X, y, scoring='neg_mean_absolute_error', cv=10, n_jobs=-1) )\n",
    "cv20mae_scores = np.mean(cross_val_score(ols, X, y, scoring='neg_mean_absolute_error', cv=20, n_jobs=-1) )\n",
    "\n",
    "# cv breaks your data into that many equal pieces \n",
    "cv5mae_scores,cv10mae_scores,cv20mae_scores"
   ]
  },
  {
   "cell_type": "code",
   "execution_count": 214,
   "metadata": {},
   "outputs": [],
   "source": [
    "def make_ols_sklearn(X, y, test_size=0.20, fit_intercept=False, standardize=False):\n",
    "    X_train, X_test, y_train, y_test = train_test_split(X, y, test_size=test_size)\n",
    "    if standardize:\n",
    "        ss = StandardScaler()\n",
    "        ss.fit(X_train)\n",
    "        X_train = ss.transform(X_train)\n",
    "        X_test = ss.transform(X_test)\n",
    "    ols = LinearRegression(fit_intercept=fit_intercept, normalize=False)\n",
    "    ols.fit(X_train, y_train)\n",
    "    train_score = ols.score(X_train, y_train)\n",
    "    test_score = ols.score(X_test, y_test)\n",
    "    cv5_scores = np.mean(cross_val_score(ols, X, y, scoring='r2', cv=5, n_jobs=-1) )\n",
    "    cv10_scores = np.mean(cross_val_score(ols, X, y, scoring='r2', cv=10, n_jobs=-1) )\n",
    "    cvmse_5 = np.mean(cross_val_score(ols,X , y, cv=5, scoring='neg_mean_squared_error'))\n",
    "    cvmse_10 = np.mean(cross_val_score(ols,X, y, cv=10, scoring='neg_mean_squared_error'))\n",
    "    print(f\"train R2 score = {train_score}\")\n",
    "    print(f\"test R2 score = {test_score}\")\n",
    "    print(f\"cv5 R2 score = {cv5_scores}\")\n",
    "    print(f\"cv10 R2 score = {cv10_scores}\")\n",
    "    print(f\"cv5 MSE score = {cvmse_5}\")\n",
    "    print(f\"cv10  MSE score = {cvmse_10}\")\n",
    "\n",
    "    return ols"
   ]
  },
  {
   "cell_type": "code",
   "execution_count": 215,
   "metadata": {},
   "outputs": [
    {
     "name": "stdout",
     "output_type": "stream",
     "text": [
      "train R2 score = 0.6661228960456327\n",
      "test R2 score = 0.67132624523968\n",
      "cv5 R2 score = 0.6664474371643827\n",
      "cv10 R2 score = 0.6658608591564106\n",
      "cv5 MSE score = -11614094597.815866\n",
      "cv10  MSE score = -11621422734.799454\n"
     ]
    },
    {
     "data": {
      "text/plain": [
       "LinearRegression(copy_X=True, fit_intercept=False, n_jobs=None, normalize=False)"
      ]
     },
     "execution_count": 215,
     "metadata": {},
     "output_type": "execute_result"
    }
   ],
   "source": [
    "make_ols_sklearn(X, y)"
   ]
  },
  {
   "cell_type": "code",
   "execution_count": 217,
   "metadata": {},
   "outputs": [
    {
     "name": "stdout",
     "output_type": "stream",
     "text": [
      "train R2 score = 0.6700536151862291\n",
      "test R2 score = 0.6559675729697316\n",
      "cv5 R2 score = 0.6664474371643827\n",
      "cv10 R2 score = 0.6658608591564106\n",
      "cv5 MSE score = -11614094597.815866\n",
      "cv10  MSE score = -11621422734.799454\n"
     ]
    },
    {
     "data": {
      "text/plain": [
       "LinearRegression(copy_X=True, fit_intercept=False, n_jobs=None, normalize=False)"
      ]
     },
     "execution_count": 217,
     "metadata": {},
     "output_type": "execute_result"
    }
   ],
   "source": [
    "make_ols_sklearn(X, y)"
   ]
  },
  {
   "cell_type": "code",
   "execution_count": null,
   "metadata": {},
   "outputs": [],
   "source": []
  }
 ],
 "metadata": {
  "kernelspec": {
   "display_name": "Python [conda env:learn-env] *",
   "language": "python",
   "name": "conda-env-learn-env-py"
  },
  "language_info": {
   "codemirror_mode": {
    "name": "ipython",
    "version": 3
   },
   "file_extension": ".py",
   "mimetype": "text/x-python",
   "name": "python",
   "nbconvert_exporter": "python",
   "pygments_lexer": "ipython3",
   "version": "3.6.9"
  }
 },
 "nbformat": 4,
 "nbformat_minor": 2
}
