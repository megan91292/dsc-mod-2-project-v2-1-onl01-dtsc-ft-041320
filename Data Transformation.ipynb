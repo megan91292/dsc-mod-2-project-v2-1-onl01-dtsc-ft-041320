{
 "cells": [
  {
   "cell_type": "code",
   "execution_count": 99,
   "metadata": {},
   "outputs": [],
   "source": [
    "import numpy as np\n",
    "import pandas as pd\n",
    "import statsmodels.api as sm\n",
    "import scipy.stats as scs\n",
    "\n",
    "import matplotlib.pyplot as plt\n",
    "import seaborn as sns\n",
    "\n",
    "import matplotlib.pyplot as plt\n",
    "%matplotlib inline\n"
   ]
  },
  {
   "cell_type": "code",
   "execution_count": 100,
   "metadata": {},
   "outputs": [],
   "source": [
    "df = pd.read_csv('datawithnewcols.csv',index_col = 0)"
   ]
  },
  {
   "cell_type": "code",
   "execution_count": 101,
   "metadata": {},
   "outputs": [
    {
     "data": {
      "text/html": [
       "<div>\n",
       "<style scoped>\n",
       "    .dataframe tbody tr th:only-of-type {\n",
       "        vertical-align: middle;\n",
       "    }\n",
       "\n",
       "    .dataframe tbody tr th {\n",
       "        vertical-align: top;\n",
       "    }\n",
       "\n",
       "    .dataframe thead th {\n",
       "        text-align: right;\n",
       "    }\n",
       "</style>\n",
       "<table border=\"1\" class=\"dataframe\">\n",
       "  <thead>\n",
       "    <tr style=\"text-align: right;\">\n",
       "      <th></th>\n",
       "      <th>id</th>\n",
       "      <th>date</th>\n",
       "      <th>price</th>\n",
       "      <th>bedrooms</th>\n",
       "      <th>bathrooms</th>\n",
       "      <th>sqft_living</th>\n",
       "      <th>sqft_lot</th>\n",
       "      <th>floors</th>\n",
       "      <th>waterfront</th>\n",
       "      <th>view</th>\n",
       "      <th>...</th>\n",
       "      <th>long</th>\n",
       "      <th>sqft_living15</th>\n",
       "      <th>sqft_lot15</th>\n",
       "      <th>Age_of_House</th>\n",
       "      <th>Years_last_renovation</th>\n",
       "      <th>basement</th>\n",
       "      <th>distance_from_city</th>\n",
       "      <th>distance_from_airport</th>\n",
       "      <th>sqft_living_comparison</th>\n",
       "      <th>sqft_lot_comparison</th>\n",
       "    </tr>\n",
       "  </thead>\n",
       "  <tbody>\n",
       "    <tr>\n",
       "      <td>1</td>\n",
       "      <td>6414100192</td>\n",
       "      <td>2014-12-09</td>\n",
       "      <td>538000.0</td>\n",
       "      <td>3</td>\n",
       "      <td>2.25</td>\n",
       "      <td>2570</td>\n",
       "      <td>7242</td>\n",
       "      <td>2.0</td>\n",
       "      <td>0.0</td>\n",
       "      <td>0.0</td>\n",
       "      <td>...</td>\n",
       "      <td>-122.319</td>\n",
       "      <td>1690</td>\n",
       "      <td>7639</td>\n",
       "      <td>69</td>\n",
       "      <td>29</td>\n",
       "      <td>True</td>\n",
       "      <td>12.613856</td>\n",
       "      <td>30.859494</td>\n",
       "      <td>1.520710</td>\n",
       "      <td>0.948030</td>\n",
       "    </tr>\n",
       "    <tr>\n",
       "      <td>2</td>\n",
       "      <td>5631500400</td>\n",
       "      <td>2015-02-25</td>\n",
       "      <td>180000.0</td>\n",
       "      <td>2</td>\n",
       "      <td>1.00</td>\n",
       "      <td>770</td>\n",
       "      <td>10000</td>\n",
       "      <td>1.0</td>\n",
       "      <td>0.0</td>\n",
       "      <td>0.0</td>\n",
       "      <td>...</td>\n",
       "      <td>-122.233</td>\n",
       "      <td>2720</td>\n",
       "      <td>8062</td>\n",
       "      <td>87</td>\n",
       "      <td>87</td>\n",
       "      <td>False</td>\n",
       "      <td>16.333282</td>\n",
       "      <td>33.112379</td>\n",
       "      <td>0.283088</td>\n",
       "      <td>1.240387</td>\n",
       "    </tr>\n",
       "    <tr>\n",
       "      <td>3</td>\n",
       "      <td>2487200875</td>\n",
       "      <td>2014-12-09</td>\n",
       "      <td>604000.0</td>\n",
       "      <td>4</td>\n",
       "      <td>3.00</td>\n",
       "      <td>1960</td>\n",
       "      <td>5000</td>\n",
       "      <td>1.0</td>\n",
       "      <td>0.0</td>\n",
       "      <td>0.0</td>\n",
       "      <td>...</td>\n",
       "      <td>-122.393</td>\n",
       "      <td>1360</td>\n",
       "      <td>5000</td>\n",
       "      <td>55</td>\n",
       "      <td>55</td>\n",
       "      <td>True</td>\n",
       "      <td>10.617501</td>\n",
       "      <td>10.988905</td>\n",
       "      <td>1.441176</td>\n",
       "      <td>1.000000</td>\n",
       "    </tr>\n",
       "    <tr>\n",
       "      <td>4</td>\n",
       "      <td>1954400510</td>\n",
       "      <td>2015-02-18</td>\n",
       "      <td>510000.0</td>\n",
       "      <td>3</td>\n",
       "      <td>2.00</td>\n",
       "      <td>1680</td>\n",
       "      <td>8080</td>\n",
       "      <td>1.0</td>\n",
       "      <td>0.0</td>\n",
       "      <td>0.0</td>\n",
       "      <td>...</td>\n",
       "      <td>-122.045</td>\n",
       "      <td>1800</td>\n",
       "      <td>7503</td>\n",
       "      <td>33</td>\n",
       "      <td>33</td>\n",
       "      <td>False</td>\n",
       "      <td>21.759524</td>\n",
       "      <td>27.230991</td>\n",
       "      <td>0.933333</td>\n",
       "      <td>1.076903</td>\n",
       "    </tr>\n",
       "    <tr>\n",
       "      <td>5</td>\n",
       "      <td>7237550310</td>\n",
       "      <td>2014-05-12</td>\n",
       "      <td>1230000.0</td>\n",
       "      <td>4</td>\n",
       "      <td>4.50</td>\n",
       "      <td>5420</td>\n",
       "      <td>101930</td>\n",
       "      <td>1.0</td>\n",
       "      <td>0.0</td>\n",
       "      <td>0.0</td>\n",
       "      <td>...</td>\n",
       "      <td>-122.005</td>\n",
       "      <td>4760</td>\n",
       "      <td>101930</td>\n",
       "      <td>19</td>\n",
       "      <td>19</td>\n",
       "      <td>True</td>\n",
       "      <td>25.295727</td>\n",
       "      <td>32.449837</td>\n",
       "      <td>1.138655</td>\n",
       "      <td>1.000000</td>\n",
       "    </tr>\n",
       "  </tbody>\n",
       "</table>\n",
       "<p>5 rows × 28 columns</p>\n",
       "</div>"
      ],
      "text/plain": [
       "           id        date      price  bedrooms  bathrooms  sqft_living  \\\n",
       "1  6414100192  2014-12-09   538000.0         3       2.25         2570   \n",
       "2  5631500400  2015-02-25   180000.0         2       1.00          770   \n",
       "3  2487200875  2014-12-09   604000.0         4       3.00         1960   \n",
       "4  1954400510  2015-02-18   510000.0         3       2.00         1680   \n",
       "5  7237550310  2014-05-12  1230000.0         4       4.50         5420   \n",
       "\n",
       "   sqft_lot  floors  waterfront  view  ...     long  sqft_living15  \\\n",
       "1      7242     2.0         0.0   0.0  ... -122.319           1690   \n",
       "2     10000     1.0         0.0   0.0  ... -122.233           2720   \n",
       "3      5000     1.0         0.0   0.0  ... -122.393           1360   \n",
       "4      8080     1.0         0.0   0.0  ... -122.045           1800   \n",
       "5    101930     1.0         0.0   0.0  ... -122.005           4760   \n",
       "\n",
       "   sqft_lot15  Age_of_House  Years_last_renovation  basement  \\\n",
       "1        7639            69                     29      True   \n",
       "2        8062            87                     87     False   \n",
       "3        5000            55                     55      True   \n",
       "4        7503            33                     33     False   \n",
       "5      101930            19                     19      True   \n",
       "\n",
       "   distance_from_city  distance_from_airport  sqft_living_comparison  \\\n",
       "1           12.613856              30.859494                1.520710   \n",
       "2           16.333282              33.112379                0.283088   \n",
       "3           10.617501              10.988905                1.441176   \n",
       "4           21.759524              27.230991                0.933333   \n",
       "5           25.295727              32.449837                1.138655   \n",
       "\n",
       "   sqft_lot_comparison  \n",
       "1             0.948030  \n",
       "2             1.240387  \n",
       "3             1.000000  \n",
       "4             1.076903  \n",
       "5             1.000000  \n",
       "\n",
       "[5 rows x 28 columns]"
      ]
     },
     "execution_count": 101,
     "metadata": {},
     "output_type": "execute_result"
    }
   ],
   "source": [
    "df.head()"
   ]
  },
  {
   "cell_type": "code",
   "execution_count": 102,
   "metadata": {},
   "outputs": [
    {
     "data": {
      "text/plain": [
       "(19221, 28)"
      ]
     },
     "execution_count": 102,
     "metadata": {},
     "output_type": "execute_result"
    }
   ],
   "source": [
    "df.shape"
   ]
  },
  {
   "cell_type": "code",
   "execution_count": 103,
   "metadata": {},
   "outputs": [
    {
     "data": {
      "text/plain": [
       "Index(['id', 'date', 'price', 'bedrooms', 'bathrooms', 'sqft_living',\n",
       "       'sqft_lot', 'floors', 'waterfront', 'view', 'condition', 'grade',\n",
       "       'sqft_above', 'sqft_basement', 'yr_built', 'yr_renovated', 'zipcode',\n",
       "       'lat', 'long', 'sqft_living15', 'sqft_lot15', 'Age_of_House',\n",
       "       'Years_last_renovation', 'basement', 'distance_from_city',\n",
       "       'distance_from_airport', 'sqft_living_comparison',\n",
       "       'sqft_lot_comparison'],\n",
       "      dtype='object')"
      ]
     },
     "execution_count": 103,
     "metadata": {},
     "output_type": "execute_result"
    }
   ],
   "source": [
    "df.columns"
   ]
  },
  {
   "cell_type": "code",
   "execution_count": 104,
   "metadata": {},
   "outputs": [],
   "source": [
    "categoricals = ['floors','view','condition','grade','waterfront','basement','zipcode']"
   ]
  },
  {
   "cell_type": "code",
   "execution_count": 105,
   "metadata": {},
   "outputs": [],
   "source": [
    "numericals = ['price',\n",
    " 'bedrooms',\n",
    " 'bathrooms',\n",
    " 'sqft_living',\n",
    " 'sqft_lot',\n",
    " 'sqft_living15',\n",
    " 'sqft_lot15',\n",
    " 'Age_of_House',\n",
    " 'Years_last_renovation',\n",
    " 'distance_from_city',\n",
    " 'distance_from_airport']"
   ]
  },
  {
   "cell_type": "code",
   "execution_count": 106,
   "metadata": {},
   "outputs": [
    {
     "name": "stdout",
     "output_type": "stream",
     "text": [
      "<class 'pandas.core.frame.DataFrame'>\n",
      "Int64Index: 19221 entries, 1 to 21596\n",
      "Data columns (total 11 columns):\n",
      "price                    19221 non-null float64\n",
      "bedrooms                 19221 non-null int64\n",
      "bathrooms                19221 non-null float64\n",
      "sqft_living              19221 non-null int64\n",
      "sqft_lot                 19221 non-null int64\n",
      "sqft_living15            19221 non-null int64\n",
      "sqft_lot15               19221 non-null int64\n",
      "Age_of_House             19221 non-null int64\n",
      "Years_last_renovation    19221 non-null int64\n",
      "distance_from_city       19221 non-null float64\n",
      "distance_from_airport    19221 non-null float64\n",
      "dtypes: float64(4), int64(7)\n",
      "memory usage: 1.8 MB\n"
     ]
    }
   ],
   "source": [
    "df[numericals].info()"
   ]
  },
  {
   "cell_type": "code",
   "execution_count": 84,
   "metadata": {},
   "outputs": [],
   "source": [
    "totransform = ['bathrooms','bedrooms','distance_from_city','sqft_lot']"
   ]
  },
  {
   "cell_type": "code",
   "execution_count": 85,
   "metadata": {},
   "outputs": [],
   "source": [
    "nottransform = ['Age_of_House','distance_from_airport','Years_last_renovation']"
   ]
  },
  {
   "cell_type": "code",
   "execution_count": 107,
   "metadata": {},
   "outputs": [],
   "source": [
    "def remove_outliers(df, col, threshold = 4):\n",
    "    zscores = scs.zscore(df[col])\n",
    "    indices = np.abs(np.where(zscores > threshold))\n",
    "    return indices[0]\n"
   ]
  },
  {
   "cell_type": "code",
   "execution_count": 87,
   "metadata": {},
   "outputs": [],
   "source": [
    "to_remove = remove_outliers(df,'price')"
   ]
  },
  {
   "cell_type": "code",
   "execution_count": 88,
   "metadata": {},
   "outputs": [
    {
     "data": {
      "text/plain": [
       "(19221, 28)"
      ]
     },
     "execution_count": 88,
     "metadata": {},
     "output_type": "execute_result"
    }
   ],
   "source": [
    "df.shape"
   ]
  },
  {
   "cell_type": "code",
   "execution_count": 89,
   "metadata": {},
   "outputs": [
    {
     "data": {
      "text/plain": [
       "array([  139,   221,   243,   254,   268,   278,   463,   482,   579,\n",
       "         690,   722,   911,  1032,  1132,  1142,  1172,  1211,  1275,\n",
       "        1289,  1486,  1568,  1723,  1807,  1851,  2016,  2168,  2320,\n",
       "        2537,  2568,  2632,  2670,  2952,  2989,  3106,  3288,  3301,\n",
       "        3361,  3400,  3408,  3451,  3534,  3551,  3554,  3655,  3695,\n",
       "        3834,  3894,  3898,  4100,  4256,  4303,  4827,  4971,  5048,\n",
       "        5197,  5276,  5342,  5346,  5471,  5505,  5660,  5752,  5936,\n",
       "        5984,  5996,  6187,  6219,  6358,  6415,  6467,  6469,  6572,\n",
       "        6638,  6762,  6987,  7057,  7148,  7240,  7268,  7628,  8183,\n",
       "        8245,  8392,  9086,  9185,  9251,  9270,  9961,  9992, 10013,\n",
       "       10119, 10161, 10315, 10428, 10605, 10628, 10824, 10990, 11240,\n",
       "       11297, 11356, 11444, 11575, 11621, 11788, 11927, 12029, 12188,\n",
       "       12196, 12426, 12483, 12504, 12534, 12584, 12625, 12668, 12800,\n",
       "       12915, 12956, 13012, 13187, 13366, 13484, 13510, 13569, 13575,\n",
       "       13578, 13782, 13843, 13907, 14084, 14460, 14501, 14776, 14871,\n",
       "       15071, 15095, 15123, 15377, 15416, 15626, 15806, 15922, 16192,\n",
       "       16216, 16284, 16305, 16377, 16418, 16438, 16443, 16505, 16695,\n",
       "       16801, 16924, 17031, 17113, 17194, 17336, 17519, 17583, 17599,\n",
       "       17641, 17672, 17808, 17934, 18007, 18020, 18063, 18089, 18190,\n",
       "       18205, 18275, 18385, 18479, 18724, 18875, 18960, 19008, 19127,\n",
       "       19149, 19191])"
      ]
     },
     "execution_count": 89,
     "metadata": {},
     "output_type": "execute_result"
    }
   ],
   "source": [
    "to_remove"
   ]
  },
  {
   "cell_type": "code",
   "execution_count": 95,
   "metadata": {},
   "outputs": [],
   "source": [
    "all_indices = []\n",
    "for col in numericals:\n",
    "    indices = remove_outliers(df, col, threshold = 4)\n",
    "    all_indices.extend(indices)\n",
    "all_indices = np.unique(all_indices)"
   ]
  },
  {
   "cell_type": "code",
   "execution_count": 96,
   "metadata": {},
   "outputs": [],
   "source": [
    "list_indices = list(all_indices)"
   ]
  },
  {
   "cell_type": "code",
   "execution_count": 97,
   "metadata": {},
   "outputs": [
    {
     "data": {
      "text/html": [
       "<div>\n",
       "<style scoped>\n",
       "    .dataframe tbody tr th:only-of-type {\n",
       "        vertical-align: middle;\n",
       "    }\n",
       "\n",
       "    .dataframe tbody tr th {\n",
       "        vertical-align: top;\n",
       "    }\n",
       "\n",
       "    .dataframe thead th {\n",
       "        text-align: right;\n",
       "    }\n",
       "</style>\n",
       "<table border=\"1\" class=\"dataframe\">\n",
       "  <thead>\n",
       "    <tr style=\"text-align: right;\">\n",
       "      <th></th>\n",
       "      <th>id</th>\n",
       "      <th>date</th>\n",
       "      <th>price</th>\n",
       "      <th>bedrooms</th>\n",
       "      <th>bathrooms</th>\n",
       "      <th>sqft_living</th>\n",
       "      <th>sqft_lot</th>\n",
       "      <th>floors</th>\n",
       "      <th>waterfront</th>\n",
       "      <th>view</th>\n",
       "      <th>...</th>\n",
       "      <th>long</th>\n",
       "      <th>sqft_living15</th>\n",
       "      <th>sqft_lot15</th>\n",
       "      <th>Age_of_House</th>\n",
       "      <th>Years_last_renovation</th>\n",
       "      <th>basement</th>\n",
       "      <th>distance_from_city</th>\n",
       "      <th>distance_from_airport</th>\n",
       "      <th>sqft_living_comparison</th>\n",
       "      <th>sqft_lot_comparison</th>\n",
       "    </tr>\n",
       "  </thead>\n",
       "  <tbody>\n",
       "    <tr>\n",
       "      <td>15856</td>\n",
       "      <td>2402100895</td>\n",
       "      <td>2014-06-25</td>\n",
       "      <td>640000.0</td>\n",
       "      <td>33</td>\n",
       "      <td>1.75</td>\n",
       "      <td>1620</td>\n",
       "      <td>6000</td>\n",
       "      <td>1.0</td>\n",
       "      <td>0.0</td>\n",
       "      <td>0.0</td>\n",
       "      <td>...</td>\n",
       "      <td>-122.331</td>\n",
       "      <td>1330</td>\n",
       "      <td>4700</td>\n",
       "      <td>73</td>\n",
       "      <td>73</td>\n",
       "      <td>True</td>\n",
       "      <td>8.871826</td>\n",
       "      <td>27.231767</td>\n",
       "      <td>1.218045</td>\n",
       "      <td>1.276596</td>\n",
       "    </tr>\n",
       "  </tbody>\n",
       "</table>\n",
       "<p>1 rows × 28 columns</p>\n",
       "</div>"
      ],
      "text/plain": [
       "               id        date     price  bedrooms  bathrooms  sqft_living  \\\n",
       "15856  2402100895  2014-06-25  640000.0        33       1.75         1620   \n",
       "\n",
       "       sqft_lot  floors  waterfront  view  ...     long  sqft_living15  \\\n",
       "15856      6000     1.0         0.0   0.0  ... -122.331           1330   \n",
       "\n",
       "       sqft_lot15  Age_of_House  Years_last_renovation  basement  \\\n",
       "15856        4700            73                     73      True   \n",
       "\n",
       "       distance_from_city  distance_from_airport  sqft_living_comparison  \\\n",
       "15856            8.871826              27.231767                1.218045   \n",
       "\n",
       "       sqft_lot_comparison  \n",
       "15856             1.276596  \n",
       "\n",
       "[1 rows x 28 columns]"
      ]
     },
     "execution_count": 97,
     "metadata": {},
     "output_type": "execute_result"
    }
   ],
   "source": [
    "df.loc[df['bedrooms'] == 33]"
   ]
  },
  {
   "cell_type": "code",
   "execution_count": 98,
   "metadata": {},
   "outputs": [
    {
     "ename": "KeyError",
     "evalue": "'[  371  1357  1497  2021  2537  2619  2952  3554  3708  3834  4059  5276\\n  5342  5516  6158  6187  6438  6493  6897  7628  7742  8044  8256  8392\\n  8950  9136  9270  9672  9678 11361 11622 11659 11826 12103 12534 12584\\n 12768 14488 14616 15045 15068 15183 16105 16305 16392 16986 17038 17333\\n 17672 17934 18875 19025 19127 19139] not found in axis'",
     "output_type": "error",
     "traceback": [
      "\u001b[0;31m---------------------------------------------------------------------------\u001b[0m",
      "\u001b[0;31mKeyError\u001b[0m                                  Traceback (most recent call last)",
      "\u001b[0;32m<ipython-input-98-ba3e514a80da>\u001b[0m in \u001b[0;36m<module>\u001b[0;34m\u001b[0m\n\u001b[0;32m----> 1\u001b[0;31m \u001b[0mdf\u001b[0m\u001b[0;34m.\u001b[0m\u001b[0mdrop\u001b[0m\u001b[0;34m(\u001b[0m\u001b[0mindex\u001b[0m \u001b[0;34m=\u001b[0m \u001b[0mlist_indices\u001b[0m\u001b[0;34m,\u001b[0m\u001b[0minplace\u001b[0m \u001b[0;34m=\u001b[0m \u001b[0;32mTrue\u001b[0m\u001b[0;34m)\u001b[0m\u001b[0;34m\u001b[0m\u001b[0;34m\u001b[0m\u001b[0m\n\u001b[0m",
      "\u001b[0;32m/opt/anaconda3/envs/learn-env/lib/python3.6/site-packages/pandas/core/frame.py\u001b[0m in \u001b[0;36mdrop\u001b[0;34m(self, labels, axis, index, columns, level, inplace, errors)\u001b[0m\n\u001b[1;32m   4100\u001b[0m             \u001b[0mlevel\u001b[0m\u001b[0;34m=\u001b[0m\u001b[0mlevel\u001b[0m\u001b[0;34m,\u001b[0m\u001b[0;34m\u001b[0m\u001b[0;34m\u001b[0m\u001b[0m\n\u001b[1;32m   4101\u001b[0m             \u001b[0minplace\u001b[0m\u001b[0;34m=\u001b[0m\u001b[0minplace\u001b[0m\u001b[0;34m,\u001b[0m\u001b[0;34m\u001b[0m\u001b[0;34m\u001b[0m\u001b[0m\n\u001b[0;32m-> 4102\u001b[0;31m             \u001b[0merrors\u001b[0m\u001b[0;34m=\u001b[0m\u001b[0merrors\u001b[0m\u001b[0;34m,\u001b[0m\u001b[0;34m\u001b[0m\u001b[0;34m\u001b[0m\u001b[0m\n\u001b[0m\u001b[1;32m   4103\u001b[0m         )\n\u001b[1;32m   4104\u001b[0m \u001b[0;34m\u001b[0m\u001b[0m\n",
      "\u001b[0;32m/opt/anaconda3/envs/learn-env/lib/python3.6/site-packages/pandas/core/generic.py\u001b[0m in \u001b[0;36mdrop\u001b[0;34m(self, labels, axis, index, columns, level, inplace, errors)\u001b[0m\n\u001b[1;32m   3912\u001b[0m         \u001b[0;32mfor\u001b[0m \u001b[0maxis\u001b[0m\u001b[0;34m,\u001b[0m \u001b[0mlabels\u001b[0m \u001b[0;32min\u001b[0m \u001b[0maxes\u001b[0m\u001b[0;34m.\u001b[0m\u001b[0mitems\u001b[0m\u001b[0;34m(\u001b[0m\u001b[0;34m)\u001b[0m\u001b[0;34m:\u001b[0m\u001b[0;34m\u001b[0m\u001b[0;34m\u001b[0m\u001b[0m\n\u001b[1;32m   3913\u001b[0m             \u001b[0;32mif\u001b[0m \u001b[0mlabels\u001b[0m \u001b[0;32mis\u001b[0m \u001b[0;32mnot\u001b[0m \u001b[0;32mNone\u001b[0m\u001b[0;34m:\u001b[0m\u001b[0;34m\u001b[0m\u001b[0;34m\u001b[0m\u001b[0m\n\u001b[0;32m-> 3914\u001b[0;31m                 \u001b[0mobj\u001b[0m \u001b[0;34m=\u001b[0m \u001b[0mobj\u001b[0m\u001b[0;34m.\u001b[0m\u001b[0m_drop_axis\u001b[0m\u001b[0;34m(\u001b[0m\u001b[0mlabels\u001b[0m\u001b[0;34m,\u001b[0m \u001b[0maxis\u001b[0m\u001b[0;34m,\u001b[0m \u001b[0mlevel\u001b[0m\u001b[0;34m=\u001b[0m\u001b[0mlevel\u001b[0m\u001b[0;34m,\u001b[0m \u001b[0merrors\u001b[0m\u001b[0;34m=\u001b[0m\u001b[0merrors\u001b[0m\u001b[0;34m)\u001b[0m\u001b[0;34m\u001b[0m\u001b[0;34m\u001b[0m\u001b[0m\n\u001b[0m\u001b[1;32m   3915\u001b[0m \u001b[0;34m\u001b[0m\u001b[0m\n\u001b[1;32m   3916\u001b[0m         \u001b[0;32mif\u001b[0m \u001b[0minplace\u001b[0m\u001b[0;34m:\u001b[0m\u001b[0;34m\u001b[0m\u001b[0;34m\u001b[0m\u001b[0m\n",
      "\u001b[0;32m/opt/anaconda3/envs/learn-env/lib/python3.6/site-packages/pandas/core/generic.py\u001b[0m in \u001b[0;36m_drop_axis\u001b[0;34m(self, labels, axis, level, errors)\u001b[0m\n\u001b[1;32m   3944\u001b[0m                 \u001b[0mnew_axis\u001b[0m \u001b[0;34m=\u001b[0m \u001b[0maxis\u001b[0m\u001b[0;34m.\u001b[0m\u001b[0mdrop\u001b[0m\u001b[0;34m(\u001b[0m\u001b[0mlabels\u001b[0m\u001b[0;34m,\u001b[0m \u001b[0mlevel\u001b[0m\u001b[0;34m=\u001b[0m\u001b[0mlevel\u001b[0m\u001b[0;34m,\u001b[0m \u001b[0merrors\u001b[0m\u001b[0;34m=\u001b[0m\u001b[0merrors\u001b[0m\u001b[0;34m)\u001b[0m\u001b[0;34m\u001b[0m\u001b[0;34m\u001b[0m\u001b[0m\n\u001b[1;32m   3945\u001b[0m             \u001b[0;32melse\u001b[0m\u001b[0;34m:\u001b[0m\u001b[0;34m\u001b[0m\u001b[0;34m\u001b[0m\u001b[0m\n\u001b[0;32m-> 3946\u001b[0;31m                 \u001b[0mnew_axis\u001b[0m \u001b[0;34m=\u001b[0m \u001b[0maxis\u001b[0m\u001b[0;34m.\u001b[0m\u001b[0mdrop\u001b[0m\u001b[0;34m(\u001b[0m\u001b[0mlabels\u001b[0m\u001b[0;34m,\u001b[0m \u001b[0merrors\u001b[0m\u001b[0;34m=\u001b[0m\u001b[0merrors\u001b[0m\u001b[0;34m)\u001b[0m\u001b[0;34m\u001b[0m\u001b[0;34m\u001b[0m\u001b[0m\n\u001b[0m\u001b[1;32m   3947\u001b[0m             \u001b[0mresult\u001b[0m \u001b[0;34m=\u001b[0m \u001b[0mself\u001b[0m\u001b[0;34m.\u001b[0m\u001b[0mreindex\u001b[0m\u001b[0;34m(\u001b[0m\u001b[0;34m**\u001b[0m\u001b[0;34m{\u001b[0m\u001b[0maxis_name\u001b[0m\u001b[0;34m:\u001b[0m \u001b[0mnew_axis\u001b[0m\u001b[0;34m}\u001b[0m\u001b[0;34m)\u001b[0m\u001b[0;34m\u001b[0m\u001b[0;34m\u001b[0m\u001b[0m\n\u001b[1;32m   3948\u001b[0m \u001b[0;34m\u001b[0m\u001b[0m\n",
      "\u001b[0;32m/opt/anaconda3/envs/learn-env/lib/python3.6/site-packages/pandas/core/indexes/base.py\u001b[0m in \u001b[0;36mdrop\u001b[0;34m(self, labels, errors)\u001b[0m\n\u001b[1;32m   5338\u001b[0m         \u001b[0;32mif\u001b[0m \u001b[0mmask\u001b[0m\u001b[0;34m.\u001b[0m\u001b[0many\u001b[0m\u001b[0;34m(\u001b[0m\u001b[0;34m)\u001b[0m\u001b[0;34m:\u001b[0m\u001b[0;34m\u001b[0m\u001b[0;34m\u001b[0m\u001b[0m\n\u001b[1;32m   5339\u001b[0m             \u001b[0;32mif\u001b[0m \u001b[0merrors\u001b[0m \u001b[0;34m!=\u001b[0m \u001b[0;34m\"ignore\"\u001b[0m\u001b[0;34m:\u001b[0m\u001b[0;34m\u001b[0m\u001b[0;34m\u001b[0m\u001b[0m\n\u001b[0;32m-> 5340\u001b[0;31m                 \u001b[0;32mraise\u001b[0m \u001b[0mKeyError\u001b[0m\u001b[0;34m(\u001b[0m\u001b[0;34m\"{} not found in axis\"\u001b[0m\u001b[0;34m.\u001b[0m\u001b[0mformat\u001b[0m\u001b[0;34m(\u001b[0m\u001b[0mlabels\u001b[0m\u001b[0;34m[\u001b[0m\u001b[0mmask\u001b[0m\u001b[0;34m]\u001b[0m\u001b[0;34m)\u001b[0m\u001b[0;34m)\u001b[0m\u001b[0;34m\u001b[0m\u001b[0;34m\u001b[0m\u001b[0m\n\u001b[0m\u001b[1;32m   5341\u001b[0m             \u001b[0mindexer\u001b[0m \u001b[0;34m=\u001b[0m \u001b[0mindexer\u001b[0m\u001b[0;34m[\u001b[0m\u001b[0;34m~\u001b[0m\u001b[0mmask\u001b[0m\u001b[0;34m]\u001b[0m\u001b[0;34m\u001b[0m\u001b[0;34m\u001b[0m\u001b[0m\n\u001b[1;32m   5342\u001b[0m         \u001b[0;32mreturn\u001b[0m \u001b[0mself\u001b[0m\u001b[0;34m.\u001b[0m\u001b[0mdelete\u001b[0m\u001b[0;34m(\u001b[0m\u001b[0mindexer\u001b[0m\u001b[0;34m)\u001b[0m\u001b[0;34m\u001b[0m\u001b[0;34m\u001b[0m\u001b[0m\n",
      "\u001b[0;31mKeyError\u001b[0m: '[  371  1357  1497  2021  2537  2619  2952  3554  3708  3834  4059  5276\\n  5342  5516  6158  6187  6438  6493  6897  7628  7742  8044  8256  8392\\n  8950  9136  9270  9672  9678 11361 11622 11659 11826 12103 12534 12584\\n 12768 14488 14616 15045 15068 15183 16105 16305 16392 16986 17038 17333\\n 17672 17934 18875 19025 19127 19139] not found in axis'"
     ]
    }
   ],
   "source": [
    "df.drop(index = list_indices,inplace = True)"
   ]
  },
  {
   "cell_type": "code",
   "execution_count": 364,
   "metadata": {},
   "outputs": [
    {
     "data": {
      "text/html": [
       "<div>\n",
       "<style scoped>\n",
       "    .dataframe tbody tr th:only-of-type {\n",
       "        vertical-align: middle;\n",
       "    }\n",
       "\n",
       "    .dataframe tbody tr th {\n",
       "        vertical-align: top;\n",
       "    }\n",
       "\n",
       "    .dataframe thead th {\n",
       "        text-align: right;\n",
       "    }\n",
       "</style>\n",
       "<table border=\"1\" class=\"dataframe\">\n",
       "  <thead>\n",
       "    <tr style=\"text-align: right;\">\n",
       "      <th></th>\n",
       "      <th>bathrooms_log</th>\n",
       "      <th>bedrooms_log</th>\n",
       "      <th>distance_from_city_log</th>\n",
       "      <th>sqft_lot_log</th>\n",
       "    </tr>\n",
       "  </thead>\n",
       "  <tbody>\n",
       "    <tr>\n",
       "      <td>0</td>\n",
       "      <td>-1.727276</td>\n",
       "      <td>-0.267365</td>\n",
       "      <td>-0.325988</td>\n",
       "      <td>-0.356548</td>\n",
       "    </tr>\n",
       "    <tr>\n",
       "      <td>1</td>\n",
       "      <td>0.375566</td>\n",
       "      <td>-0.267365</td>\n",
       "      <td>-0.281628</td>\n",
       "      <td>-0.041963</td>\n",
       "    </tr>\n",
       "    <tr>\n",
       "      <td>2</td>\n",
       "      <td>-1.727276</td>\n",
       "      <td>-1.717368</td>\n",
       "      <td>0.111767</td>\n",
       "      <td>0.366964</td>\n",
       "    </tr>\n",
       "    <tr>\n",
       "      <td>3</td>\n",
       "      <td>1.121561</td>\n",
       "      <td>0.761429</td>\n",
       "      <td>-0.543921</td>\n",
       "      <td>-0.511428</td>\n",
       "    </tr>\n",
       "    <tr>\n",
       "      <td>4</td>\n",
       "      <td>0.070140</td>\n",
       "      <td>-0.267365</td>\n",
       "      <td>0.548454</td>\n",
       "      <td>0.096794</td>\n",
       "    </tr>\n",
       "    <tr>\n",
       "      <td>...</td>\n",
       "      <td>...</td>\n",
       "      <td>...</td>\n",
       "      <td>...</td>\n",
       "      <td>...</td>\n",
       "    </tr>\n",
       "    <tr>\n",
       "      <td>21592</td>\n",
       "      <td>0.648778</td>\n",
       "      <td>-0.267365</td>\n",
       "      <td>-0.608484</td>\n",
       "      <td>-2.394990</td>\n",
       "    </tr>\n",
       "    <tr>\n",
       "      <td>21593</td>\n",
       "      <td>0.648778</td>\n",
       "      <td>0.761429</td>\n",
       "      <td>-0.490106</td>\n",
       "      <td>-0.320505</td>\n",
       "    </tr>\n",
       "    <tr>\n",
       "      <td>21594</td>\n",
       "      <td>-2.473272</td>\n",
       "      <td>-1.717368</td>\n",
       "      <td>-2.416336</td>\n",
       "      <td>-2.170683</td>\n",
       "    </tr>\n",
       "    <tr>\n",
       "      <td>21595</td>\n",
       "      <td>0.648778</td>\n",
       "      <td>-0.267365</td>\n",
       "      <td>0.534622</td>\n",
       "      <td>-1.447904</td>\n",
       "    </tr>\n",
       "    <tr>\n",
       "      <td>21596</td>\n",
       "      <td>-2.473272</td>\n",
       "      <td>-1.717368</td>\n",
       "      <td>-2.408317</td>\n",
       "      <td>-2.458164</td>\n",
       "    </tr>\n",
       "  </tbody>\n",
       "</table>\n",
       "<p>20909 rows × 4 columns</p>\n",
       "</div>"
      ],
      "text/plain": [
       "       bathrooms_log  bedrooms_log  distance_from_city_log  sqft_lot_log\n",
       "0          -1.727276     -0.267365               -0.325988     -0.356548\n",
       "1           0.375566     -0.267365               -0.281628     -0.041963\n",
       "2          -1.727276     -1.717368                0.111767      0.366964\n",
       "3           1.121561      0.761429               -0.543921     -0.511428\n",
       "4           0.070140     -0.267365                0.548454      0.096794\n",
       "...              ...           ...                     ...           ...\n",
       "21592       0.648778     -0.267365               -0.608484     -2.394990\n",
       "21593       0.648778      0.761429               -0.490106     -0.320505\n",
       "21594      -2.473272     -1.717368               -2.416336     -2.170683\n",
       "21595       0.648778     -0.267365                0.534622     -1.447904\n",
       "21596      -2.473272     -1.717368               -2.408317     -2.458164\n",
       "\n",
       "[20909 rows x 4 columns]"
      ]
     },
     "execution_count": 364,
     "metadata": {},
     "output_type": "execute_result"
    }
   ],
   "source": [
    "data_log = pd.DataFrame([])\n",
    "\n",
    "for name in totransform:\n",
    "    title = name + '_log'\n",
    "    data_log[title] = df[name].map(lambda x: np.log(x))    \n",
    "data_log\n",
    "\n",
    "def normalize(feature):\n",
    "    return (feature - feature.mean()) / feature.std()\n",
    "\n",
    "data_log_norm = data_log.apply(normalize)\n",
    "data_log_norm"
   ]
  },
  {
   "cell_type": "code",
   "execution_count": 365,
   "metadata": {},
   "outputs": [],
   "source": [
    "floor_dummies = pd.get_dummies(df['floors'], prefix='floor', drop_first=True)\n",
    "view_dummies = pd.get_dummies(df['view'], prefix='view', drop_first=True)\n",
    "cond_dummies = pd.get_dummies(df['condition'], prefix='cond', drop_first=True)\n",
    "grade_dummies = pd.get_dummies(df['grade'], prefix='grade', drop_first=True)\n",
    "water_dummies = pd.get_dummies(df['waterfront'], prefix='water', drop_first=True)\n",
    "base_dummies = pd.get_dummies(df['basement'], prefix='base', drop_first=True)\n",
    "zipcode_dummies = pd.get_dummies(df['zipcode'],prefix='zip',drop_first=True)"
   ]
  },
  {
   "cell_type": "code",
   "execution_count": 366,
   "metadata": {},
   "outputs": [],
   "source": [
    "dfnew  = pd.concat([data_log_norm,floor_dummies,view_dummies,cond_dummies,grade_dummies,water_dummies,base_dummies,zipcode_dummies],axis = 1)"
   ]
  },
  {
   "cell_type": "code",
   "execution_count": 367,
   "metadata": {},
   "outputs": [],
   "source": [
    "datanottransform = df[nottransform].apply(normalize)"
   ]
  },
  {
   "cell_type": "code",
   "execution_count": 368,
   "metadata": {},
   "outputs": [],
   "source": [
    "dfnew = pd.concat([dfnew,datanottransform],axis = 1)"
   ]
  },
  {
   "cell_type": "code",
   "execution_count": 369,
   "metadata": {},
   "outputs": [
    {
     "data": {
      "text/html": [
       "<div>\n",
       "<style scoped>\n",
       "    .dataframe tbody tr th:only-of-type {\n",
       "        vertical-align: middle;\n",
       "    }\n",
       "\n",
       "    .dataframe tbody tr th {\n",
       "        vertical-align: top;\n",
       "    }\n",
       "\n",
       "    .dataframe thead th {\n",
       "        text-align: right;\n",
       "    }\n",
       "</style>\n",
       "<table border=\"1\" class=\"dataframe\">\n",
       "  <thead>\n",
       "    <tr style=\"text-align: right;\">\n",
       "      <th></th>\n",
       "      <th>bathrooms_log</th>\n",
       "      <th>bedrooms_log</th>\n",
       "      <th>distance_from_city_log</th>\n",
       "      <th>sqft_lot_log</th>\n",
       "      <th>floor_1.5</th>\n",
       "      <th>floor_2.0</th>\n",
       "      <th>floor_2.5</th>\n",
       "      <th>floor_3.0</th>\n",
       "      <th>floor_3.5</th>\n",
       "      <th>view_1.0</th>\n",
       "      <th>...</th>\n",
       "      <th>zip_98166</th>\n",
       "      <th>zip_98168</th>\n",
       "      <th>zip_98177</th>\n",
       "      <th>zip_98178</th>\n",
       "      <th>zip_98188</th>\n",
       "      <th>zip_98198</th>\n",
       "      <th>zip_98199</th>\n",
       "      <th>Age_of_House</th>\n",
       "      <th>distance_from_airport</th>\n",
       "      <th>Years_last_renovation</th>\n",
       "    </tr>\n",
       "  </thead>\n",
       "  <tbody>\n",
       "    <tr>\n",
       "      <td>0</td>\n",
       "      <td>-1.727276</td>\n",
       "      <td>-0.267365</td>\n",
       "      <td>-0.325988</td>\n",
       "      <td>-0.356548</td>\n",
       "      <td>0</td>\n",
       "      <td>0</td>\n",
       "      <td>0</td>\n",
       "      <td>0</td>\n",
       "      <td>0</td>\n",
       "      <td>0</td>\n",
       "      <td>...</td>\n",
       "      <td>0</td>\n",
       "      <td>0</td>\n",
       "      <td>0</td>\n",
       "      <td>1</td>\n",
       "      <td>0</td>\n",
       "      <td>0</td>\n",
       "      <td>0</td>\n",
       "      <td>0.535396</td>\n",
       "      <td>-1.389968</td>\n",
       "      <td>0.608127</td>\n",
       "    </tr>\n",
       "    <tr>\n",
       "      <td>1</td>\n",
       "      <td>0.375566</td>\n",
       "      <td>-0.267365</td>\n",
       "      <td>-0.281628</td>\n",
       "      <td>-0.041963</td>\n",
       "      <td>0</td>\n",
       "      <td>1</td>\n",
       "      <td>0</td>\n",
       "      <td>0</td>\n",
       "      <td>0</td>\n",
       "      <td>0</td>\n",
       "      <td>...</td>\n",
       "      <td>0</td>\n",
       "      <td>0</td>\n",
       "      <td>0</td>\n",
       "      <td>0</td>\n",
       "      <td>0</td>\n",
       "      <td>0</td>\n",
       "      <td>0</td>\n",
       "      <td>0.671615</td>\n",
       "      <td>0.993080</td>\n",
       "      <td>-0.634569</td>\n",
       "    </tr>\n",
       "    <tr>\n",
       "      <td>2</td>\n",
       "      <td>-1.727276</td>\n",
       "      <td>-1.717368</td>\n",
       "      <td>0.111767</td>\n",
       "      <td>0.366964</td>\n",
       "      <td>0</td>\n",
       "      <td>0</td>\n",
       "      <td>0</td>\n",
       "      <td>0</td>\n",
       "      <td>0</td>\n",
       "      <td>0</td>\n",
       "      <td>...</td>\n",
       "      <td>0</td>\n",
       "      <td>0</td>\n",
       "      <td>0</td>\n",
       "      <td>0</td>\n",
       "      <td>0</td>\n",
       "      <td>0</td>\n",
       "      <td>0</td>\n",
       "      <td>1.284598</td>\n",
       "      <td>1.230350</td>\n",
       "      <td>1.367553</td>\n",
       "    </tr>\n",
       "    <tr>\n",
       "      <td>3</td>\n",
       "      <td>1.121561</td>\n",
       "      <td>0.761429</td>\n",
       "      <td>-0.543921</td>\n",
       "      <td>-0.511428</td>\n",
       "      <td>0</td>\n",
       "      <td>0</td>\n",
       "      <td>0</td>\n",
       "      <td>0</td>\n",
       "      <td>0</td>\n",
       "      <td>0</td>\n",
       "      <td>...</td>\n",
       "      <td>0</td>\n",
       "      <td>0</td>\n",
       "      <td>0</td>\n",
       "      <td>0</td>\n",
       "      <td>0</td>\n",
       "      <td>0</td>\n",
       "      <td>0</td>\n",
       "      <td>0.194850</td>\n",
       "      <td>-1.099655</td>\n",
       "      <td>0.262934</td>\n",
       "    </tr>\n",
       "    <tr>\n",
       "      <td>4</td>\n",
       "      <td>0.070140</td>\n",
       "      <td>-0.267365</td>\n",
       "      <td>0.548454</td>\n",
       "      <td>0.096794</td>\n",
       "      <td>0</td>\n",
       "      <td>0</td>\n",
       "      <td>0</td>\n",
       "      <td>0</td>\n",
       "      <td>0</td>\n",
       "      <td>0</td>\n",
       "      <td>...</td>\n",
       "      <td>0</td>\n",
       "      <td>0</td>\n",
       "      <td>0</td>\n",
       "      <td>0</td>\n",
       "      <td>0</td>\n",
       "      <td>0</td>\n",
       "      <td>0</td>\n",
       "      <td>-0.554351</td>\n",
       "      <td>0.610933</td>\n",
       "      <td>-0.496491</td>\n",
       "    </tr>\n",
       "  </tbody>\n",
       "</table>\n",
       "<p>5 rows × 100 columns</p>\n",
       "</div>"
      ],
      "text/plain": [
       "   bathrooms_log  bedrooms_log  distance_from_city_log  sqft_lot_log  \\\n",
       "0      -1.727276     -0.267365               -0.325988     -0.356548   \n",
       "1       0.375566     -0.267365               -0.281628     -0.041963   \n",
       "2      -1.727276     -1.717368                0.111767      0.366964   \n",
       "3       1.121561      0.761429               -0.543921     -0.511428   \n",
       "4       0.070140     -0.267365                0.548454      0.096794   \n",
       "\n",
       "   floor_1.5  floor_2.0  floor_2.5  floor_3.0  floor_3.5  view_1.0  ...  \\\n",
       "0          0          0          0          0          0         0  ...   \n",
       "1          0          1          0          0          0         0  ...   \n",
       "2          0          0          0          0          0         0  ...   \n",
       "3          0          0          0          0          0         0  ...   \n",
       "4          0          0          0          0          0         0  ...   \n",
       "\n",
       "   zip_98166  zip_98168  zip_98177  zip_98178  zip_98188  zip_98198  \\\n",
       "0          0          0          0          1          0          0   \n",
       "1          0          0          0          0          0          0   \n",
       "2          0          0          0          0          0          0   \n",
       "3          0          0          0          0          0          0   \n",
       "4          0          0          0          0          0          0   \n",
       "\n",
       "   zip_98199  Age_of_House  distance_from_airport  Years_last_renovation  \n",
       "0          0      0.535396              -1.389968               0.608127  \n",
       "1          0      0.671615               0.993080              -0.634569  \n",
       "2          0      1.284598               1.230350               1.367553  \n",
       "3          0      0.194850              -1.099655               0.262934  \n",
       "4          0     -0.554351               0.610933              -0.496491  \n",
       "\n",
       "[5 rows x 100 columns]"
      ]
     },
     "execution_count": 369,
     "metadata": {},
     "output_type": "execute_result"
    }
   ],
   "source": [
    "dfnew.head()"
   ]
  },
  {
   "cell_type": "code",
   "execution_count": 370,
   "metadata": {},
   "outputs": [],
   "source": [
    "dfnew['price'] = df.price"
   ]
  },
  {
   "cell_type": "code",
   "execution_count": 371,
   "metadata": {},
   "outputs": [
    {
     "data": {
      "text/html": [
       "<div>\n",
       "<style scoped>\n",
       "    .dataframe tbody tr th:only-of-type {\n",
       "        vertical-align: middle;\n",
       "    }\n",
       "\n",
       "    .dataframe tbody tr th {\n",
       "        vertical-align: top;\n",
       "    }\n",
       "\n",
       "    .dataframe thead th {\n",
       "        text-align: right;\n",
       "    }\n",
       "</style>\n",
       "<table border=\"1\" class=\"dataframe\">\n",
       "  <thead>\n",
       "    <tr style=\"text-align: right;\">\n",
       "      <th></th>\n",
       "      <th>bathrooms_log</th>\n",
       "      <th>bedrooms_log</th>\n",
       "      <th>distance_from_city_log</th>\n",
       "      <th>sqft_lot_log</th>\n",
       "      <th>floor_1.5</th>\n",
       "      <th>floor_2.0</th>\n",
       "      <th>floor_2.5</th>\n",
       "      <th>floor_3.0</th>\n",
       "      <th>floor_3.5</th>\n",
       "      <th>view_1.0</th>\n",
       "      <th>...</th>\n",
       "      <th>zip_98168</th>\n",
       "      <th>zip_98177</th>\n",
       "      <th>zip_98178</th>\n",
       "      <th>zip_98188</th>\n",
       "      <th>zip_98198</th>\n",
       "      <th>zip_98199</th>\n",
       "      <th>Age_of_House</th>\n",
       "      <th>distance_from_airport</th>\n",
       "      <th>Years_last_renovation</th>\n",
       "      <th>price</th>\n",
       "    </tr>\n",
       "  </thead>\n",
       "  <tbody>\n",
       "    <tr>\n",
       "      <td>0</td>\n",
       "      <td>-1.727276</td>\n",
       "      <td>-0.267365</td>\n",
       "      <td>-0.325988</td>\n",
       "      <td>-0.356548</td>\n",
       "      <td>0</td>\n",
       "      <td>0</td>\n",
       "      <td>0</td>\n",
       "      <td>0</td>\n",
       "      <td>0</td>\n",
       "      <td>0</td>\n",
       "      <td>...</td>\n",
       "      <td>0</td>\n",
       "      <td>0</td>\n",
       "      <td>1</td>\n",
       "      <td>0</td>\n",
       "      <td>0</td>\n",
       "      <td>0</td>\n",
       "      <td>0.535396</td>\n",
       "      <td>-1.389968</td>\n",
       "      <td>0.608127</td>\n",
       "      <td>221900.0</td>\n",
       "    </tr>\n",
       "    <tr>\n",
       "      <td>1</td>\n",
       "      <td>0.375566</td>\n",
       "      <td>-0.267365</td>\n",
       "      <td>-0.281628</td>\n",
       "      <td>-0.041963</td>\n",
       "      <td>0</td>\n",
       "      <td>1</td>\n",
       "      <td>0</td>\n",
       "      <td>0</td>\n",
       "      <td>0</td>\n",
       "      <td>0</td>\n",
       "      <td>...</td>\n",
       "      <td>0</td>\n",
       "      <td>0</td>\n",
       "      <td>0</td>\n",
       "      <td>0</td>\n",
       "      <td>0</td>\n",
       "      <td>0</td>\n",
       "      <td>0.671615</td>\n",
       "      <td>0.993080</td>\n",
       "      <td>-0.634569</td>\n",
       "      <td>538000.0</td>\n",
       "    </tr>\n",
       "    <tr>\n",
       "      <td>2</td>\n",
       "      <td>-1.727276</td>\n",
       "      <td>-1.717368</td>\n",
       "      <td>0.111767</td>\n",
       "      <td>0.366964</td>\n",
       "      <td>0</td>\n",
       "      <td>0</td>\n",
       "      <td>0</td>\n",
       "      <td>0</td>\n",
       "      <td>0</td>\n",
       "      <td>0</td>\n",
       "      <td>...</td>\n",
       "      <td>0</td>\n",
       "      <td>0</td>\n",
       "      <td>0</td>\n",
       "      <td>0</td>\n",
       "      <td>0</td>\n",
       "      <td>0</td>\n",
       "      <td>1.284598</td>\n",
       "      <td>1.230350</td>\n",
       "      <td>1.367553</td>\n",
       "      <td>180000.0</td>\n",
       "    </tr>\n",
       "    <tr>\n",
       "      <td>3</td>\n",
       "      <td>1.121561</td>\n",
       "      <td>0.761429</td>\n",
       "      <td>-0.543921</td>\n",
       "      <td>-0.511428</td>\n",
       "      <td>0</td>\n",
       "      <td>0</td>\n",
       "      <td>0</td>\n",
       "      <td>0</td>\n",
       "      <td>0</td>\n",
       "      <td>0</td>\n",
       "      <td>...</td>\n",
       "      <td>0</td>\n",
       "      <td>0</td>\n",
       "      <td>0</td>\n",
       "      <td>0</td>\n",
       "      <td>0</td>\n",
       "      <td>0</td>\n",
       "      <td>0.194850</td>\n",
       "      <td>-1.099655</td>\n",
       "      <td>0.262934</td>\n",
       "      <td>604000.0</td>\n",
       "    </tr>\n",
       "    <tr>\n",
       "      <td>4</td>\n",
       "      <td>0.070140</td>\n",
       "      <td>-0.267365</td>\n",
       "      <td>0.548454</td>\n",
       "      <td>0.096794</td>\n",
       "      <td>0</td>\n",
       "      <td>0</td>\n",
       "      <td>0</td>\n",
       "      <td>0</td>\n",
       "      <td>0</td>\n",
       "      <td>0</td>\n",
       "      <td>...</td>\n",
       "      <td>0</td>\n",
       "      <td>0</td>\n",
       "      <td>0</td>\n",
       "      <td>0</td>\n",
       "      <td>0</td>\n",
       "      <td>0</td>\n",
       "      <td>-0.554351</td>\n",
       "      <td>0.610933</td>\n",
       "      <td>-0.496491</td>\n",
       "      <td>510000.0</td>\n",
       "    </tr>\n",
       "  </tbody>\n",
       "</table>\n",
       "<p>5 rows × 101 columns</p>\n",
       "</div>"
      ],
      "text/plain": [
       "   bathrooms_log  bedrooms_log  distance_from_city_log  sqft_lot_log  \\\n",
       "0      -1.727276     -0.267365               -0.325988     -0.356548   \n",
       "1       0.375566     -0.267365               -0.281628     -0.041963   \n",
       "2      -1.727276     -1.717368                0.111767      0.366964   \n",
       "3       1.121561      0.761429               -0.543921     -0.511428   \n",
       "4       0.070140     -0.267365                0.548454      0.096794   \n",
       "\n",
       "   floor_1.5  floor_2.0  floor_2.5  floor_3.0  floor_3.5  view_1.0  ...  \\\n",
       "0          0          0          0          0          0         0  ...   \n",
       "1          0          1          0          0          0         0  ...   \n",
       "2          0          0          0          0          0         0  ...   \n",
       "3          0          0          0          0          0         0  ...   \n",
       "4          0          0          0          0          0         0  ...   \n",
       "\n",
       "   zip_98168  zip_98177  zip_98178  zip_98188  zip_98198  zip_98199  \\\n",
       "0          0          0          1          0          0          0   \n",
       "1          0          0          0          0          0          0   \n",
       "2          0          0          0          0          0          0   \n",
       "3          0          0          0          0          0          0   \n",
       "4          0          0          0          0          0          0   \n",
       "\n",
       "   Age_of_House  distance_from_airport  Years_last_renovation     price  \n",
       "0      0.535396              -1.389968               0.608127  221900.0  \n",
       "1      0.671615               0.993080              -0.634569  538000.0  \n",
       "2      1.284598               1.230350               1.367553  180000.0  \n",
       "3      0.194850              -1.099655               0.262934  604000.0  \n",
       "4     -0.554351               0.610933              -0.496491  510000.0  \n",
       "\n",
       "[5 rows x 101 columns]"
      ]
     },
     "execution_count": 371,
     "metadata": {},
     "output_type": "execute_result"
    }
   ],
   "source": [
    "dfnew.head()"
   ]
  },
  {
   "cell_type": "code",
   "execution_count": 391,
   "metadata": {},
   "outputs": [],
   "source": [
    "import statsmodels.api as sm\n",
    "from statsmodels.formula.api import ols"
   ]
  },
  {
   "cell_type": "code",
   "execution_count": 62,
   "metadata": {},
   "outputs": [],
   "source": [
    "modeldata = ['distance_from_city','Age_of_House','bedrooms']"
   ]
  },
  {
   "cell_type": "code",
   "execution_count": 402,
   "metadata": {},
   "outputs": [
    {
     "data": {
      "text/html": [
       "<div>\n",
       "<style scoped>\n",
       "    .dataframe tbody tr th:only-of-type {\n",
       "        vertical-align: middle;\n",
       "    }\n",
       "\n",
       "    .dataframe tbody tr th {\n",
       "        vertical-align: top;\n",
       "    }\n",
       "\n",
       "    .dataframe thead th {\n",
       "        text-align: right;\n",
       "    }\n",
       "</style>\n",
       "<table border=\"1\" class=\"dataframe\">\n",
       "  <thead>\n",
       "    <tr style=\"text-align: right;\">\n",
       "      <th></th>\n",
       "      <th>distance_from_city_log</th>\n",
       "      <th>sqft_living_log</th>\n",
       "    </tr>\n",
       "  </thead>\n",
       "  <tbody>\n",
       "    <tr>\n",
       "      <td>0</td>\n",
       "      <td>2.505658</td>\n",
       "      <td>7.073270</td>\n",
       "    </tr>\n",
       "    <tr>\n",
       "      <td>1</td>\n",
       "      <td>2.534796</td>\n",
       "      <td>7.851661</td>\n",
       "    </tr>\n",
       "    <tr>\n",
       "      <td>2</td>\n",
       "      <td>2.793205</td>\n",
       "      <td>6.646391</td>\n",
       "    </tr>\n",
       "    <tr>\n",
       "      <td>3</td>\n",
       "      <td>2.362504</td>\n",
       "      <td>7.580700</td>\n",
       "    </tr>\n",
       "    <tr>\n",
       "      <td>4</td>\n",
       "      <td>3.080052</td>\n",
       "      <td>7.426549</td>\n",
       "    </tr>\n",
       "    <tr>\n",
       "      <td>...</td>\n",
       "      <td>...</td>\n",
       "      <td>...</td>\n",
       "    </tr>\n",
       "    <tr>\n",
       "      <td>21592</td>\n",
       "      <td>2.320095</td>\n",
       "      <td>7.333023</td>\n",
       "    </tr>\n",
       "    <tr>\n",
       "      <td>21593</td>\n",
       "      <td>2.397853</td>\n",
       "      <td>7.745003</td>\n",
       "    </tr>\n",
       "    <tr>\n",
       "      <td>21594</td>\n",
       "      <td>1.132572</td>\n",
       "      <td>6.927558</td>\n",
       "    </tr>\n",
       "    <tr>\n",
       "      <td>21595</td>\n",
       "      <td>3.070966</td>\n",
       "      <td>7.377759</td>\n",
       "    </tr>\n",
       "    <tr>\n",
       "      <td>21596</td>\n",
       "      <td>1.137839</td>\n",
       "      <td>6.927558</td>\n",
       "    </tr>\n",
       "  </tbody>\n",
       "</table>\n",
       "<p>21597 rows × 2 columns</p>\n",
       "</div>"
      ],
      "text/plain": [
       "       distance_from_city_log  sqft_living_log\n",
       "0                    2.505658         7.073270\n",
       "1                    2.534796         7.851661\n",
       "2                    2.793205         6.646391\n",
       "3                    2.362504         7.580700\n",
       "4                    3.080052         7.426549\n",
       "...                       ...              ...\n",
       "21592                2.320095         7.333023\n",
       "21593                2.397853         7.745003\n",
       "21594                1.132572         6.927558\n",
       "21595                3.070966         7.377759\n",
       "21596                1.137839         6.927558\n",
       "\n",
       "[21597 rows x 2 columns]"
      ]
     },
     "execution_count": 402,
     "metadata": {},
     "output_type": "execute_result"
    }
   ],
   "source": [
    "data_log = pd.DataFrame([])\n",
    "\n",
    "for name in modeldata:\n",
    "    title = name + '_log'\n",
    "    data_log[title] = df[name].map(lambda x: np.log(x))    \n",
    "data_log\n",
    "\n",
    "# def normalize(feature):\n",
    "#     return (feature - feature.mean()) / feature.std()\n",
    "\n",
    "# data_log_norm = data_log.apply(normalize)\n",
    "# data_log_norm"
   ]
  },
  {
   "cell_type": "code",
   "execution_count": 13,
   "metadata": {},
   "outputs": [],
   "source": [
    "df['waterfront'].dropna(inplace=True)"
   ]
  },
  {
   "cell_type": "code",
   "execution_count": 63,
   "metadata": {},
   "outputs": [],
   "source": [
    "X = df[modeldata]\n",
    "y = df['price']"
   ]
  },
  {
   "cell_type": "code",
   "execution_count": 64,
   "metadata": {
    "scrolled": false
   },
   "outputs": [
    {
     "data": {
      "text/html": [
       "<table class=\"simpletable\">\n",
       "<caption>OLS Regression Results</caption>\n",
       "<tr>\n",
       "  <th>Dep. Variable:</th>          <td>price</td>      <th>  R-squared (uncentered):</th>       <td>   0.728</td>  \n",
       "</tr>\n",
       "<tr>\n",
       "  <th>Model:</th>                   <td>OLS</td>       <th>  Adj. R-squared (uncentered):</th>  <td>   0.728</td>  \n",
       "</tr>\n",
       "<tr>\n",
       "  <th>Method:</th>             <td>Least Squares</td>  <th>  F-statistic:       </th>           <td>1.711e+04</td> \n",
       "</tr>\n",
       "<tr>\n",
       "  <th>Date:</th>             <td>Mon, 01 Jun 2020</td> <th>  Prob (F-statistic):</th>            <td>  0.00</td>   \n",
       "</tr>\n",
       "<tr>\n",
       "  <th>Time:</th>                 <td>17:59:39</td>     <th>  Log-Likelihood:    </th>          <td>-2.7225e+05</td>\n",
       "</tr>\n",
       "<tr>\n",
       "  <th>No. Observations:</th>      <td> 19221</td>      <th>  AIC:               </th>           <td>5.445e+05</td> \n",
       "</tr>\n",
       "<tr>\n",
       "  <th>Df Residuals:</th>          <td> 19218</td>      <th>  BIC:               </th>           <td>5.445e+05</td> \n",
       "</tr>\n",
       "<tr>\n",
       "  <th>Df Model:</th>              <td>     3</td>      <th>                     </th>               <td> </td>     \n",
       "</tr>\n",
       "<tr>\n",
       "  <th>Covariance Type:</th>      <td>nonrobust</td>    <th>                     </th>               <td> </td>     \n",
       "</tr>\n",
       "</table>\n",
       "<table class=\"simpletable\">\n",
       "<tr>\n",
       "           <td></td>             <th>coef</th>     <th>std err</th>      <th>t</th>      <th>P>|t|</th>  <th>[0.025</th>    <th>0.975]</th>  \n",
       "</tr>\n",
       "<tr>\n",
       "  <th>distance_from_city</th> <td>-8004.6636</td> <td>  215.402</td> <td>  -37.162</td> <td> 0.000</td> <td>-8426.870</td> <td>-7582.458</td>\n",
       "</tr>\n",
       "<tr>\n",
       "  <th>Age_of_House</th>       <td>  139.2447</td> <td>   73.549</td> <td>    1.893</td> <td> 0.058</td> <td>   -4.918</td> <td>  283.407</td>\n",
       "</tr>\n",
       "<tr>\n",
       "  <th>bedrooms</th>           <td> 1.974e+05</td> <td> 1706.735</td> <td>  115.670</td> <td> 0.000</td> <td> 1.94e+05</td> <td> 2.01e+05</td>\n",
       "</tr>\n",
       "</table>\n",
       "<table class=\"simpletable\">\n",
       "<tr>\n",
       "  <th>Omnibus:</th>       <td>15647.395</td> <th>  Durbin-Watson:     </th>  <td>   1.964</td>  \n",
       "</tr>\n",
       "<tr>\n",
       "  <th>Prob(Omnibus):</th>  <td> 0.000</td>   <th>  Jarque-Bera (JB):  </th> <td>1248217.639</td>\n",
       "</tr>\n",
       "<tr>\n",
       "  <th>Skew:</th>           <td> 3.393</td>   <th>  Prob(JB):          </th>  <td>    0.00</td>  \n",
       "</tr>\n",
       "<tr>\n",
       "  <th>Kurtosis:</th>       <td>41.891</td>   <th>  Cond. No.          </th>  <td>    40.8</td>  \n",
       "</tr>\n",
       "</table><br/><br/>Warnings:<br/>[1] Standard Errors assume that the covariance matrix of the errors is correctly specified."
      ],
      "text/plain": [
       "<class 'statsmodels.iolib.summary.Summary'>\n",
       "\"\"\"\n",
       "                                 OLS Regression Results                                \n",
       "=======================================================================================\n",
       "Dep. Variable:                  price   R-squared (uncentered):                   0.728\n",
       "Model:                            OLS   Adj. R-squared (uncentered):              0.728\n",
       "Method:                 Least Squares   F-statistic:                          1.711e+04\n",
       "Date:                Mon, 01 Jun 2020   Prob (F-statistic):                        0.00\n",
       "Time:                        17:59:39   Log-Likelihood:                     -2.7225e+05\n",
       "No. Observations:               19221   AIC:                                  5.445e+05\n",
       "Df Residuals:                   19218   BIC:                                  5.445e+05\n",
       "Df Model:                           3                                                  \n",
       "Covariance Type:            nonrobust                                                  \n",
       "======================================================================================\n",
       "                         coef    std err          t      P>|t|      [0.025      0.975]\n",
       "--------------------------------------------------------------------------------------\n",
       "distance_from_city -8004.6636    215.402    -37.162      0.000   -8426.870   -7582.458\n",
       "Age_of_House         139.2447     73.549      1.893      0.058      -4.918     283.407\n",
       "bedrooms            1.974e+05   1706.735    115.670      0.000    1.94e+05    2.01e+05\n",
       "==============================================================================\n",
       "Omnibus:                    15647.395   Durbin-Watson:                   1.964\n",
       "Prob(Omnibus):                  0.000   Jarque-Bera (JB):          1248217.639\n",
       "Skew:                           3.393   Prob(JB):                         0.00\n",
       "Kurtosis:                      41.891   Cond. No.                         40.8\n",
       "==============================================================================\n",
       "\n",
       "Warnings:\n",
       "[1] Standard Errors assume that the covariance matrix of the errors is correctly specified.\n",
       "\"\"\""
      ]
     },
     "execution_count": 64,
     "metadata": {},
     "output_type": "execute_result"
    }
   ],
   "source": [
    "model = sm.OLS(y,X).fit()\n",
    "model.summary()"
   ]
  },
  {
   "cell_type": "code",
   "execution_count": 65,
   "metadata": {},
   "outputs": [
    {
     "data": {
      "text/plain": [
       "[('distance_from_city', 3.4852548662487166),\n",
       " ('sqft_living', 2.881107030611114),\n",
       " ('waterfront', 5.829097114622086)]"
      ]
     },
     "execution_count": 65,
     "metadata": {},
     "output_type": "execute_result"
    }
   ],
   "source": [
    "# Your code here - Code a way to identify multicollinearity\n",
    "from statsmodels.stats.outliers_influence import variance_inflation_factor\n",
    "vif = [variance_inflation_factor(X.values,i) for i in range(X.shape[1])]\n",
    "list(zip(x_cols,vif))"
   ]
  },
  {
   "cell_type": "code",
   "execution_count": 66,
   "metadata": {},
   "outputs": [
    {
     "name": "stdout",
     "output_type": "stream",
     "text": [
      "3 2\n",
      "['distance_from_city', 'bedrooms']\n"
     ]
    },
    {
     "data": {
      "text/html": [
       "<div>\n",
       "<style scoped>\n",
       "    .dataframe tbody tr th:only-of-type {\n",
       "        vertical-align: middle;\n",
       "    }\n",
       "\n",
       "    .dataframe tbody tr th {\n",
       "        vertical-align: top;\n",
       "    }\n",
       "\n",
       "    .dataframe thead th {\n",
       "        text-align: right;\n",
       "    }\n",
       "</style>\n",
       "<table border=\"1\" class=\"dataframe\">\n",
       "  <thead>\n",
       "    <tr style=\"text-align: right;\">\n",
       "      <th></th>\n",
       "      <th>coef</th>\n",
       "      <th>std err</th>\n",
       "      <th>t</th>\n",
       "      <th>P&gt;|t|</th>\n",
       "      <th>[0.025</th>\n",
       "      <th>0.975]</th>\n",
       "    </tr>\n",
       "    <tr>\n",
       "      <th></th>\n",
       "      <th></th>\n",
       "      <th></th>\n",
       "      <th></th>\n",
       "      <th></th>\n",
       "      <th></th>\n",
       "      <th></th>\n",
       "    </tr>\n",
       "  </thead>\n",
       "  <tbody>\n",
       "    <tr>\n",
       "      <td>distance_from_city</td>\n",
       "      <td>-8004.6636</td>\n",
       "      <td>215.402</td>\n",
       "      <td>-37.162</td>\n",
       "      <td>0.000</td>\n",
       "      <td>-8426.870</td>\n",
       "      <td>-7582.458</td>\n",
       "    </tr>\n",
       "    <tr>\n",
       "      <td>Age_of_House</td>\n",
       "      <td>139.2447</td>\n",
       "      <td>73.549</td>\n",
       "      <td>1.893</td>\n",
       "      <td>0.058</td>\n",
       "      <td>-4.918</td>\n",
       "      <td>283.407</td>\n",
       "    </tr>\n",
       "    <tr>\n",
       "      <td>bedrooms</td>\n",
       "      <td>1.974e+05</td>\n",
       "      <td>1706.735</td>\n",
       "      <td>115.670</td>\n",
       "      <td>0.000</td>\n",
       "      <td>1.94e+05</td>\n",
       "      <td>2.01e+05</td>\n",
       "    </tr>\n",
       "  </tbody>\n",
       "</table>\n",
       "</div>"
      ],
      "text/plain": [
       "0                         coef    std err          t  P>|t|     [0.025  \\\n",
       "                                                                         \n",
       "distance_from_city  -8004.6636    215.402    -37.162  0.000  -8426.870   \n",
       "Age_of_House          139.2447     73.549      1.893  0.058     -4.918   \n",
       "bedrooms             1.974e+05   1706.735    115.670  0.000   1.94e+05   \n",
       "\n",
       "0                      0.975]  \n",
       "                               \n",
       "distance_from_city  -7582.458  \n",
       "Age_of_House          283.407  \n",
       "bedrooms             2.01e+05  "
      ]
     },
     "execution_count": 66,
     "metadata": {},
     "output_type": "execute_result"
    }
   ],
   "source": [
    "# Your code here - Remove features which do not appear to be statistically relevant\n",
    "summary = model.summary()\n",
    "p_table = summary.tables[1]\n",
    "p_table = pd.DataFrame(p_table.data)\n",
    "p_table.columns = p_table.iloc[0]\n",
    "p_table = p_table.drop(0)\n",
    "p_table = p_table.set_index(p_table.columns[0])\n",
    "p_table['P>|t|'] = p_table['P>|t|'].astype(float)\n",
    "x_cols = list(p_table[p_table['P>|t|'] < 0.05].index)\n",
    "print(len(p_table), len(x_cols))\n",
    "print(x_cols[:5])\n",
    "p_table.head()"
   ]
  },
  {
   "cell_type": "code",
   "execution_count": 71,
   "metadata": {},
   "outputs": [],
   "source": [
    "X = df[x_cols]\n",
    "y= df['price']"
   ]
  },
  {
   "cell_type": "code",
   "execution_count": 72,
   "metadata": {
    "scrolled": false
   },
   "outputs": [
    {
     "data": {
      "text/html": [
       "<table class=\"simpletable\">\n",
       "<caption>OLS Regression Results</caption>\n",
       "<tr>\n",
       "  <th>Dep. Variable:</th>          <td>price</td>      <th>  R-squared (uncentered):</th>       <td>   0.728</td>  \n",
       "</tr>\n",
       "<tr>\n",
       "  <th>Model:</th>                   <td>OLS</td>       <th>  Adj. R-squared (uncentered):</th>  <td>   0.728</td>  \n",
       "</tr>\n",
       "<tr>\n",
       "  <th>Method:</th>             <td>Least Squares</td>  <th>  F-statistic:       </th>           <td>2.566e+04</td> \n",
       "</tr>\n",
       "<tr>\n",
       "  <th>Date:</th>             <td>Mon, 01 Jun 2020</td> <th>  Prob (F-statistic):</th>            <td>  0.00</td>   \n",
       "</tr>\n",
       "<tr>\n",
       "  <th>Time:</th>                 <td>18:00:05</td>     <th>  Log-Likelihood:    </th>          <td>-2.7226e+05</td>\n",
       "</tr>\n",
       "<tr>\n",
       "  <th>No. Observations:</th>      <td> 19221</td>      <th>  AIC:               </th>           <td>5.445e+05</td> \n",
       "</tr>\n",
       "<tr>\n",
       "  <th>Df Residuals:</th>          <td> 19219</td>      <th>  BIC:               </th>           <td>5.445e+05</td> \n",
       "</tr>\n",
       "<tr>\n",
       "  <th>Df Model:</th>              <td>     2</td>      <th>                     </th>               <td> </td>     \n",
       "</tr>\n",
       "<tr>\n",
       "  <th>Covariance Type:</th>      <td>nonrobust</td>    <th>                     </th>               <td> </td>     \n",
       "</tr>\n",
       "</table>\n",
       "<table class=\"simpletable\">\n",
       "<tr>\n",
       "           <td></td>             <th>coef</th>     <th>std err</th>      <th>t</th>      <th>P>|t|</th>  <th>[0.025</th>    <th>0.975]</th>  \n",
       "</tr>\n",
       "<tr>\n",
       "  <th>distance_from_city</th> <td>-8051.0586</td> <td>  214.017</td> <td>  -37.619</td> <td> 0.000</td> <td>-8470.552</td> <td>-7631.566</td>\n",
       "</tr>\n",
       "<tr>\n",
       "  <th>bedrooms</th>           <td> 1.995e+05</td> <td> 1311.243</td> <td>  152.136</td> <td> 0.000</td> <td> 1.97e+05</td> <td> 2.02e+05</td>\n",
       "</tr>\n",
       "</table>\n",
       "<table class=\"simpletable\">\n",
       "<tr>\n",
       "  <th>Omnibus:</th>       <td>15584.962</td> <th>  Durbin-Watson:     </th>  <td>   1.964</td>  \n",
       "</tr>\n",
       "<tr>\n",
       "  <th>Prob(Omnibus):</th>  <td> 0.000</td>   <th>  Jarque-Bera (JB):  </th> <td>1250347.759</td>\n",
       "</tr>\n",
       "<tr>\n",
       "  <th>Skew:</th>           <td> 3.369</td>   <th>  Prob(JB):          </th>  <td>    0.00</td>  \n",
       "</tr>\n",
       "<tr>\n",
       "  <th>Kurtosis:</th>       <td>41.934</td>   <th>  Cond. No.          </th>  <td>    11.6</td>  \n",
       "</tr>\n",
       "</table><br/><br/>Warnings:<br/>[1] Standard Errors assume that the covariance matrix of the errors is correctly specified."
      ],
      "text/plain": [
       "<class 'statsmodels.iolib.summary.Summary'>\n",
       "\"\"\"\n",
       "                                 OLS Regression Results                                \n",
       "=======================================================================================\n",
       "Dep. Variable:                  price   R-squared (uncentered):                   0.728\n",
       "Model:                            OLS   Adj. R-squared (uncentered):              0.728\n",
       "Method:                 Least Squares   F-statistic:                          2.566e+04\n",
       "Date:                Mon, 01 Jun 2020   Prob (F-statistic):                        0.00\n",
       "Time:                        18:00:05   Log-Likelihood:                     -2.7226e+05\n",
       "No. Observations:               19221   AIC:                                  5.445e+05\n",
       "Df Residuals:                   19219   BIC:                                  5.445e+05\n",
       "Df Model:                           2                                                  \n",
       "Covariance Type:            nonrobust                                                  \n",
       "======================================================================================\n",
       "                         coef    std err          t      P>|t|      [0.025      0.975]\n",
       "--------------------------------------------------------------------------------------\n",
       "distance_from_city -8051.0586    214.017    -37.619      0.000   -8470.552   -7631.566\n",
       "bedrooms            1.995e+05   1311.243    152.136      0.000    1.97e+05    2.02e+05\n",
       "==============================================================================\n",
       "Omnibus:                    15584.962   Durbin-Watson:                   1.964\n",
       "Prob(Omnibus):                  0.000   Jarque-Bera (JB):          1250347.759\n",
       "Skew:                           3.369   Prob(JB):                         0.00\n",
       "Kurtosis:                      41.934   Cond. No.                         11.6\n",
       "==============================================================================\n",
       "\n",
       "Warnings:\n",
       "[1] Standard Errors assume that the covariance matrix of the errors is correctly specified.\n",
       "\"\"\""
      ]
     },
     "execution_count": 72,
     "metadata": {},
     "output_type": "execute_result"
    }
   ],
   "source": [
    "model = sm.OLS(y,X).fit()\n",
    "model.summary()"
   ]
  },
  {
   "cell_type": "code",
   "execution_count": 73,
   "metadata": {},
   "outputs": [
    {
     "name": "stdout",
     "output_type": "stream",
     "text": [
      "2 2\n",
      "['distance_from_city', 'bedrooms']\n"
     ]
    },
    {
     "data": {
      "text/html": [
       "<div>\n",
       "<style scoped>\n",
       "    .dataframe tbody tr th:only-of-type {\n",
       "        vertical-align: middle;\n",
       "    }\n",
       "\n",
       "    .dataframe tbody tr th {\n",
       "        vertical-align: top;\n",
       "    }\n",
       "\n",
       "    .dataframe thead th {\n",
       "        text-align: right;\n",
       "    }\n",
       "</style>\n",
       "<table border=\"1\" class=\"dataframe\">\n",
       "  <thead>\n",
       "    <tr style=\"text-align: right;\">\n",
       "      <th></th>\n",
       "      <th>coef</th>\n",
       "      <th>std err</th>\n",
       "      <th>t</th>\n",
       "      <th>P&gt;|t|</th>\n",
       "      <th>[0.025</th>\n",
       "      <th>0.975]</th>\n",
       "    </tr>\n",
       "    <tr>\n",
       "      <th></th>\n",
       "      <th></th>\n",
       "      <th></th>\n",
       "      <th></th>\n",
       "      <th></th>\n",
       "      <th></th>\n",
       "      <th></th>\n",
       "    </tr>\n",
       "  </thead>\n",
       "  <tbody>\n",
       "    <tr>\n",
       "      <td>distance_from_city</td>\n",
       "      <td>-8051.0586</td>\n",
       "      <td>214.017</td>\n",
       "      <td>-37.619</td>\n",
       "      <td>0.0</td>\n",
       "      <td>-8470.552</td>\n",
       "      <td>-7631.566</td>\n",
       "    </tr>\n",
       "    <tr>\n",
       "      <td>bedrooms</td>\n",
       "      <td>1.995e+05</td>\n",
       "      <td>1311.243</td>\n",
       "      <td>152.136</td>\n",
       "      <td>0.0</td>\n",
       "      <td>1.97e+05</td>\n",
       "      <td>2.02e+05</td>\n",
       "    </tr>\n",
       "  </tbody>\n",
       "</table>\n",
       "</div>"
      ],
      "text/plain": [
       "0                         coef    std err          t  P>|t|     [0.025  \\\n",
       "                                                                         \n",
       "distance_from_city  -8051.0586    214.017    -37.619    0.0  -8470.552   \n",
       "bedrooms             1.995e+05   1311.243    152.136    0.0   1.97e+05   \n",
       "\n",
       "0                      0.975]  \n",
       "                               \n",
       "distance_from_city  -7631.566  \n",
       "bedrooms             2.02e+05  "
      ]
     },
     "execution_count": 73,
     "metadata": {},
     "output_type": "execute_result"
    }
   ],
   "source": [
    "# Your code here - Continue to refine the model\n",
    "summary = model.summary()\n",
    "p_table = summary.tables[1]\n",
    "p_table = pd.DataFrame(p_table.data)\n",
    "p_table.columns = p_table.iloc[0]\n",
    "p_table = p_table.drop(0)\n",
    "p_table = p_table.set_index(p_table.columns[0])\n",
    "p_table['P>|t|'] = p_table['P>|t|'].astype(float)\n",
    "x_cols = list(p_table[p_table['P>|t|'] < 0.05].index)\n",
    "print(len(p_table), len(x_cols))\n",
    "print(x_cols[:5])\n",
    "p_table.head()"
   ]
  },
  {
   "cell_type": "code",
   "execution_count": 74,
   "metadata": {},
   "outputs": [
    {
     "ename": "NameError",
     "evalue": "name 'dfnew' is not defined",
     "output_type": "error",
     "traceback": [
      "\u001b[0;31m---------------------------------------------------------------------------\u001b[0m",
      "\u001b[0;31mNameError\u001b[0m                                 Traceback (most recent call last)",
      "\u001b[0;32m<ipython-input-74-bc9ef0134ce5>\u001b[0m in \u001b[0;36m<module>\u001b[0;34m\u001b[0m\n\u001b[0;32m----> 1\u001b[0;31m \u001b[0mX\u001b[0m \u001b[0;34m=\u001b[0m \u001b[0mdfnew\u001b[0m\u001b[0;34m[\u001b[0m\u001b[0mx_cols\u001b[0m\u001b[0;34m]\u001b[0m\u001b[0;34m\u001b[0m\u001b[0;34m\u001b[0m\u001b[0m\n\u001b[0m\u001b[1;32m      2\u001b[0m \u001b[0mmodel\u001b[0m \u001b[0;34m=\u001b[0m \u001b[0msm\u001b[0m\u001b[0;34m.\u001b[0m\u001b[0mOLS\u001b[0m\u001b[0;34m(\u001b[0m\u001b[0my\u001b[0m\u001b[0;34m,\u001b[0m\u001b[0mX\u001b[0m\u001b[0;34m)\u001b[0m\u001b[0;34m.\u001b[0m\u001b[0mfit\u001b[0m\u001b[0;34m(\u001b[0m\u001b[0;34m)\u001b[0m\u001b[0;34m\u001b[0m\u001b[0;34m\u001b[0m\u001b[0m\n\u001b[1;32m      3\u001b[0m \u001b[0mmodel\u001b[0m\u001b[0;34m.\u001b[0m\u001b[0msummary\u001b[0m\u001b[0;34m(\u001b[0m\u001b[0;34m)\u001b[0m\u001b[0;34m\u001b[0m\u001b[0;34m\u001b[0m\u001b[0m\n",
      "\u001b[0;31mNameError\u001b[0m: name 'dfnew' is not defined"
     ]
    }
   ],
   "source": [
    "X = dfnew[x_cols]\n",
    "model = sm.OLS(y,X).fit()\n",
    "model.summary()"
   ]
  },
  {
   "cell_type": "code",
   "execution_count": 55,
   "metadata": {},
   "outputs": [
    {
     "data": {
      "text/plain": [
       "[('distance_from_city', 2.86316082038757),\n",
       " ('sqft_living', 2.8945632378258117),\n",
       " ('waterfront', 1.0187058918252687)]"
      ]
     },
     "execution_count": 55,
     "metadata": {},
     "output_type": "execute_result"
    }
   ],
   "source": [
    "# Your code here - Code a way to identify multicollinearity\n",
    "from statsmodels.stats.outliers_influence import variance_inflation_factor\n",
    "X = df[x_cols]\n",
    "vif = [variance_inflation_factor(X.values,i) for i in range(X.shape[1])]\n",
    "list(zip(x_cols,vif))"
   ]
  },
  {
   "cell_type": "code",
   "execution_count": 56,
   "metadata": {},
   "outputs": [
    {
     "name": "stdout",
     "output_type": "stream",
     "text": [
      "3 3\n"
     ]
    }
   ],
   "source": [
    "vif_scores = list(zip(x_cols, vif))\n",
    "x_cols = [x for x,vif in vif_scores if vif < 5]\n",
    "print(len(vif_scores), len(x_cols))"
   ]
  },
  {
   "cell_type": "code",
   "execution_count": 59,
   "metadata": {},
   "outputs": [],
   "source": [
    "X = df[x_cols]"
   ]
  },
  {
   "cell_type": "code",
   "execution_count": 60,
   "metadata": {},
   "outputs": [
    {
     "data": {
      "text/html": [
       "<table class=\"simpletable\">\n",
       "<caption>OLS Regression Results</caption>\n",
       "<tr>\n",
       "  <th>Dep. Variable:</th>          <td>price</td>      <th>  R-squared (uncentered):</th>       <td>   0.880</td>  \n",
       "</tr>\n",
       "<tr>\n",
       "  <th>Model:</th>                   <td>OLS</td>       <th>  Adj. R-squared (uncentered):</th>  <td>   0.880</td>  \n",
       "</tr>\n",
       "<tr>\n",
       "  <th>Method:</th>             <td>Least Squares</td>  <th>  F-statistic:       </th>           <td>4.718e+04</td> \n",
       "</tr>\n",
       "<tr>\n",
       "  <th>Date:</th>             <td>Mon, 01 Jun 2020</td> <th>  Prob (F-statistic):</th>            <td>  0.00</td>   \n",
       "</tr>\n",
       "<tr>\n",
       "  <th>Time:</th>                 <td>17:58:46</td>     <th>  Log-Likelihood:    </th>          <td>-2.6434e+05</td>\n",
       "</tr>\n",
       "<tr>\n",
       "  <th>No. Observations:</th>      <td> 19221</td>      <th>  AIC:               </th>           <td>5.287e+05</td> \n",
       "</tr>\n",
       "<tr>\n",
       "  <th>Df Residuals:</th>          <td> 19218</td>      <th>  BIC:               </th>           <td>5.287e+05</td> \n",
       "</tr>\n",
       "<tr>\n",
       "  <th>Df Model:</th>              <td>     3</td>      <th>                     </th>               <td> </td>     \n",
       "</tr>\n",
       "<tr>\n",
       "  <th>Covariance Type:</th>      <td>nonrobust</td>    <th>                     </th>               <td> </td>     \n",
       "</tr>\n",
       "</table>\n",
       "<table class=\"simpletable\">\n",
       "<tr>\n",
       "           <td></td>             <th>coef</th>     <th>std err</th>      <th>t</th>      <th>P>|t|</th>  <th>[0.025</th>    <th>0.975]</th>  \n",
       "</tr>\n",
       "<tr>\n",
       "  <th>distance_from_city</th> <td>-8939.7343</td> <td>  129.336</td> <td>  -69.120</td> <td> 0.000</td> <td>-9193.245</td> <td>-8686.224</td>\n",
       "</tr>\n",
       "<tr>\n",
       "  <th>sqft_living</th>        <td>  328.1079</td> <td>    1.224</td> <td>  267.978</td> <td> 0.000</td> <td>  325.708</td> <td>  330.508</td>\n",
       "</tr>\n",
       "<tr>\n",
       "  <th>waterfront</th>         <td> 8.021e+05</td> <td>  1.9e+04</td> <td>   42.254</td> <td> 0.000</td> <td> 7.65e+05</td> <td> 8.39e+05</td>\n",
       "</tr>\n",
       "</table>\n",
       "<table class=\"simpletable\">\n",
       "<tr>\n",
       "  <th>Omnibus:</th>       <td>9880.492</td> <th>  Durbin-Watson:     </th>  <td>   1.976</td> \n",
       "</tr>\n",
       "<tr>\n",
       "  <th>Prob(Omnibus):</th>  <td> 0.000</td>  <th>  Jarque-Bera (JB):  </th> <td>328834.391</td>\n",
       "</tr>\n",
       "<tr>\n",
       "  <th>Skew:</th>           <td> 1.858</td>  <th>  Prob(JB):          </th>  <td>    0.00</td> \n",
       "</tr>\n",
       "<tr>\n",
       "  <th>Kurtosis:</th>       <td>22.919</td>  <th>  Cond. No.          </th>  <td>2.64e+04</td> \n",
       "</tr>\n",
       "</table><br/><br/>Warnings:<br/>[1] Standard Errors assume that the covariance matrix of the errors is correctly specified.<br/>[2] The condition number is large, 2.64e+04. This might indicate that there are<br/>strong multicollinearity or other numerical problems."
      ],
      "text/plain": [
       "<class 'statsmodels.iolib.summary.Summary'>\n",
       "\"\"\"\n",
       "                                 OLS Regression Results                                \n",
       "=======================================================================================\n",
       "Dep. Variable:                  price   R-squared (uncentered):                   0.880\n",
       "Model:                            OLS   Adj. R-squared (uncentered):              0.880\n",
       "Method:                 Least Squares   F-statistic:                          4.718e+04\n",
       "Date:                Mon, 01 Jun 2020   Prob (F-statistic):                        0.00\n",
       "Time:                        17:58:46   Log-Likelihood:                     -2.6434e+05\n",
       "No. Observations:               19221   AIC:                                  5.287e+05\n",
       "Df Residuals:                   19218   BIC:                                  5.287e+05\n",
       "Df Model:                           3                                                  \n",
       "Covariance Type:            nonrobust                                                  \n",
       "======================================================================================\n",
       "                         coef    std err          t      P>|t|      [0.025      0.975]\n",
       "--------------------------------------------------------------------------------------\n",
       "distance_from_city -8939.7343    129.336    -69.120      0.000   -9193.245   -8686.224\n",
       "sqft_living          328.1079      1.224    267.978      0.000     325.708     330.508\n",
       "waterfront          8.021e+05    1.9e+04     42.254      0.000    7.65e+05    8.39e+05\n",
       "==============================================================================\n",
       "Omnibus:                     9880.492   Durbin-Watson:                   1.976\n",
       "Prob(Omnibus):                  0.000   Jarque-Bera (JB):           328834.391\n",
       "Skew:                           1.858   Prob(JB):                         0.00\n",
       "Kurtosis:                      22.919   Cond. No.                     2.64e+04\n",
       "==============================================================================\n",
       "\n",
       "Warnings:\n",
       "[1] Standard Errors assume that the covariance matrix of the errors is correctly specified.\n",
       "[2] The condition number is large, 2.64e+04. This might indicate that there are\n",
       "strong multicollinearity or other numerical problems.\n",
       "\"\"\""
      ]
     },
     "execution_count": 60,
     "metadata": {},
     "output_type": "execute_result"
    }
   ],
   "source": [
    "model = sm.OLS(y,X).fit()\n",
    "model.summary()"
   ]
  },
  {
   "cell_type": "code",
   "execution_count": 193,
   "metadata": {},
   "outputs": [
    {
     "name": "stdout",
     "output_type": "stream",
     "text": [
      "15 15\n",
      "['bathrooms_log', 'bedrooms_log', 'distance_from_city_log', 'floor_1.5', 'floor_2.0']\n"
     ]
    },
    {
     "data": {
      "text/html": [
       "<div>\n",
       "<style scoped>\n",
       "    .dataframe tbody tr th:only-of-type {\n",
       "        vertical-align: middle;\n",
       "    }\n",
       "\n",
       "    .dataframe tbody tr th {\n",
       "        vertical-align: top;\n",
       "    }\n",
       "\n",
       "    .dataframe thead th {\n",
       "        text-align: right;\n",
       "    }\n",
       "</style>\n",
       "<table border=\"1\" class=\"dataframe\">\n",
       "  <thead>\n",
       "    <tr style=\"text-align: right;\">\n",
       "      <th></th>\n",
       "      <th>coef</th>\n",
       "      <th>std err</th>\n",
       "      <th>t</th>\n",
       "      <th>P&gt;|t|</th>\n",
       "      <th>[0.025</th>\n",
       "      <th>0.975]</th>\n",
       "    </tr>\n",
       "    <tr>\n",
       "      <th></th>\n",
       "      <th></th>\n",
       "      <th></th>\n",
       "      <th></th>\n",
       "      <th></th>\n",
       "      <th></th>\n",
       "      <th></th>\n",
       "    </tr>\n",
       "  </thead>\n",
       "  <tbody>\n",
       "    <tr>\n",
       "      <td>bathrooms_log</td>\n",
       "      <td>-5.437e+04</td>\n",
       "      <td>2759.808</td>\n",
       "      <td>-19.702</td>\n",
       "      <td>0.0</td>\n",
       "      <td>-5.98e+04</td>\n",
       "      <td>-4.9e+04</td>\n",
       "    </tr>\n",
       "    <tr>\n",
       "      <td>bedrooms_log</td>\n",
       "      <td>3.496e+04</td>\n",
       "      <td>2527.895</td>\n",
       "      <td>13.830</td>\n",
       "      <td>0.0</td>\n",
       "      <td>3e+04</td>\n",
       "      <td>3.99e+04</td>\n",
       "    </tr>\n",
       "    <tr>\n",
       "      <td>distance_from_city_log</td>\n",
       "      <td>-4.886e+04</td>\n",
       "      <td>2274.722</td>\n",
       "      <td>-21.479</td>\n",
       "      <td>0.0</td>\n",
       "      <td>-5.33e+04</td>\n",
       "      <td>-4.44e+04</td>\n",
       "    </tr>\n",
       "    <tr>\n",
       "      <td>floor_1.5</td>\n",
       "      <td>3.055e+05</td>\n",
       "      <td>7447.323</td>\n",
       "      <td>41.023</td>\n",
       "      <td>0.0</td>\n",
       "      <td>2.91e+05</td>\n",
       "      <td>3.2e+05</td>\n",
       "    </tr>\n",
       "    <tr>\n",
       "      <td>floor_2.0</td>\n",
       "      <td>5.039e+05</td>\n",
       "      <td>3926.002</td>\n",
       "      <td>128.347</td>\n",
       "      <td>0.0</td>\n",
       "      <td>4.96e+05</td>\n",
       "      <td>5.12e+05</td>\n",
       "    </tr>\n",
       "  </tbody>\n",
       "</table>\n",
       "</div>"
      ],
      "text/plain": [
       "0                             coef    std err          t  P>|t|     [0.025  \\\n",
       "                                                                             \n",
       "bathrooms_log           -5.437e+04   2759.808    -19.702    0.0  -5.98e+04   \n",
       "bedrooms_log             3.496e+04   2527.895     13.830    0.0      3e+04   \n",
       "distance_from_city_log  -4.886e+04   2274.722    -21.479    0.0  -5.33e+04   \n",
       "floor_1.5                3.055e+05   7447.323     41.023    0.0   2.91e+05   \n",
       "floor_2.0                5.039e+05   3926.002    128.347    0.0   4.96e+05   \n",
       "\n",
       "0                          0.975]  \n",
       "                                   \n",
       "bathrooms_log            -4.9e+04  \n",
       "bedrooms_log             3.99e+04  \n",
       "distance_from_city_log  -4.44e+04  \n",
       "floor_1.5                 3.2e+05  \n",
       "floor_2.0                5.12e+05  "
      ]
     },
     "execution_count": 193,
     "metadata": {},
     "output_type": "execute_result"
    }
   ],
   "source": [
    "summary = model.summary()\n",
    "p_table = summary.tables[1]\n",
    "p_table = pd.DataFrame(p_table.data)\n",
    "p_table.columns = p_table.iloc[0]\n",
    "p_table = p_table.drop(0)\n",
    "p_table = p_table.set_index(p_table.columns[0])\n",
    "p_table['P>|t|'] = p_table['P>|t|'].astype(float)\n",
    "x_cols = list(p_table[p_table['P>|t|'] < 0.05].index)\n",
    "print(len(p_table), len(x_cols))\n",
    "print(x_cols[:5])\n",
    "p_table.head()"
   ]
  },
  {
   "cell_type": "code",
   "execution_count": 194,
   "metadata": {},
   "outputs": [],
   "source": [
    "X = dfnew[x_cols]"
   ]
  },
  {
   "cell_type": "code",
   "execution_count": 195,
   "metadata": {},
   "outputs": [
    {
     "data": {
      "text/html": [
       "<table class=\"simpletable\">\n",
       "<caption>OLS Regression Results</caption>\n",
       "<tr>\n",
       "  <th>Dep. Variable:</th>          <td>price</td>      <th>  R-squared (uncentered):</th>       <td>   0.738</td>  \n",
       "</tr>\n",
       "<tr>\n",
       "  <th>Model:</th>                   <td>OLS</td>       <th>  Adj. R-squared (uncentered):</th>  <td>   0.738</td>  \n",
       "</tr>\n",
       "<tr>\n",
       "  <th>Method:</th>             <td>Least Squares</td>  <th>  F-statistic:       </th>           <td>   3897.</td>  \n",
       "</tr>\n",
       "<tr>\n",
       "  <th>Date:</th>             <td>Mon, 01 Jun 2020</td> <th>  Prob (F-statistic):</th>            <td>  0.00</td>   \n",
       "</tr>\n",
       "<tr>\n",
       "  <th>Time:</th>                 <td>16:05:23</td>     <th>  Log-Likelihood:    </th>          <td>-2.9113e+05</td>\n",
       "</tr>\n",
       "<tr>\n",
       "  <th>No. Observations:</th>      <td> 20754</td>      <th>  AIC:               </th>           <td>5.823e+05</td> \n",
       "</tr>\n",
       "<tr>\n",
       "  <th>Df Residuals:</th>          <td> 20739</td>      <th>  BIC:               </th>           <td>5.824e+05</td> \n",
       "</tr>\n",
       "<tr>\n",
       "  <th>Df Model:</th>              <td>    15</td>      <th>                     </th>               <td> </td>     \n",
       "</tr>\n",
       "<tr>\n",
       "  <th>Covariance Type:</th>      <td>nonrobust</td>    <th>                     </th>               <td> </td>     \n",
       "</tr>\n",
       "</table>\n",
       "<table class=\"simpletable\">\n",
       "<tr>\n",
       "             <td></td>               <th>coef</th>     <th>std err</th>      <th>t</th>      <th>P>|t|</th>  <th>[0.025</th>    <th>0.975]</th>  \n",
       "</tr>\n",
       "<tr>\n",
       "  <th>bathrooms_log</th>          <td>-5.437e+04</td> <td> 2759.808</td> <td>  -19.702</td> <td> 0.000</td> <td>-5.98e+04</td> <td> -4.9e+04</td>\n",
       "</tr>\n",
       "<tr>\n",
       "  <th>bedrooms_log</th>           <td> 3.496e+04</td> <td> 2527.895</td> <td>   13.830</td> <td> 0.000</td> <td>    3e+04</td> <td> 3.99e+04</td>\n",
       "</tr>\n",
       "<tr>\n",
       "  <th>distance_from_city_log</th> <td>-4.886e+04</td> <td> 2274.722</td> <td>  -21.479</td> <td> 0.000</td> <td>-5.33e+04</td> <td>-4.44e+04</td>\n",
       "</tr>\n",
       "<tr>\n",
       "  <th>floor_1.5</th>              <td> 3.055e+05</td> <td> 7447.323</td> <td>   41.023</td> <td> 0.000</td> <td> 2.91e+05</td> <td>  3.2e+05</td>\n",
       "</tr>\n",
       "<tr>\n",
       "  <th>floor_2.0</th>              <td> 5.039e+05</td> <td> 3926.002</td> <td>  128.347</td> <td> 0.000</td> <td> 4.96e+05</td> <td> 5.12e+05</td>\n",
       "</tr>\n",
       "<tr>\n",
       "  <th>floor_3.0</th>              <td> 4.303e+05</td> <td> 1.27e+04</td> <td>   33.788</td> <td> 0.000</td> <td> 4.05e+05</td> <td> 4.55e+05</td>\n",
       "</tr>\n",
       "<tr>\n",
       "  <th>view_1.0</th>               <td> 2.867e+05</td> <td> 1.72e+04</td> <td>   16.641</td> <td> 0.000</td> <td> 2.53e+05</td> <td>  3.2e+05</td>\n",
       "</tr>\n",
       "<tr>\n",
       "  <th>view_2.0</th>               <td> 2.524e+05</td> <td> 1.04e+04</td> <td>   24.234</td> <td> 0.000</td> <td> 2.32e+05</td> <td> 2.73e+05</td>\n",
       "</tr>\n",
       "<tr>\n",
       "  <th>view_3.0</th>               <td> 3.703e+05</td> <td> 1.46e+04</td> <td>   25.373</td> <td> 0.000</td> <td> 3.42e+05</td> <td> 3.99e+05</td>\n",
       "</tr>\n",
       "<tr>\n",
       "  <th>view_4.0</th>               <td> 5.673e+05</td> <td> 1.96e+04</td> <td>   28.907</td> <td> 0.000</td> <td> 5.29e+05</td> <td> 6.06e+05</td>\n",
       "</tr>\n",
       "<tr>\n",
       "  <th>grade_4</th>                <td> 1.691e+05</td> <td>  5.8e+04</td> <td>    2.916</td> <td> 0.004</td> <td> 5.54e+04</td> <td> 2.83e+05</td>\n",
       "</tr>\n",
       "<tr>\n",
       "  <th>grade_12</th>               <td>  8.75e+05</td> <td> 5.31e+04</td> <td>   16.464</td> <td> 0.000</td> <td> 7.71e+05</td> <td> 9.79e+05</td>\n",
       "</tr>\n",
       "<tr>\n",
       "  <th>water_True</th>             <td> 1.179e+05</td> <td> 6471.472</td> <td>   18.226</td> <td> 0.000</td> <td> 1.05e+05</td> <td> 1.31e+05</td>\n",
       "</tr>\n",
       "<tr>\n",
       "  <th>base_True</th>              <td> 3.558e+05</td> <td> 3797.244</td> <td>   93.699</td> <td> 0.000</td> <td> 3.48e+05</td> <td> 3.63e+05</td>\n",
       "</tr>\n",
       "<tr>\n",
       "  <th>distance_from_airport</th>  <td> 6.178e+04</td> <td> 2122.990</td> <td>   29.100</td> <td> 0.000</td> <td> 5.76e+04</td> <td> 6.59e+04</td>\n",
       "</tr>\n",
       "</table>\n",
       "<table class=\"simpletable\">\n",
       "<tr>\n",
       "  <th>Omnibus:</th>       <td>1879.749</td> <th>  Durbin-Watson:     </th> <td>   1.718</td>\n",
       "</tr>\n",
       "<tr>\n",
       "  <th>Prob(Omnibus):</th>  <td> 0.000</td>  <th>  Jarque-Bera (JB):  </th> <td>4362.408</td>\n",
       "</tr>\n",
       "<tr>\n",
       "  <th>Skew:</th>           <td> 0.559</td>  <th>  Prob(JB):          </th> <td>    0.00</td>\n",
       "</tr>\n",
       "<tr>\n",
       "  <th>Kurtosis:</th>       <td> 4.948</td>  <th>  Cond. No.          </th> <td>    36.2</td>\n",
       "</tr>\n",
       "</table><br/><br/>Warnings:<br/>[1] Standard Errors assume that the covariance matrix of the errors is correctly specified."
      ],
      "text/plain": [
       "<class 'statsmodels.iolib.summary.Summary'>\n",
       "\"\"\"\n",
       "                                 OLS Regression Results                                \n",
       "=======================================================================================\n",
       "Dep. Variable:                  price   R-squared (uncentered):                   0.738\n",
       "Model:                            OLS   Adj. R-squared (uncentered):              0.738\n",
       "Method:                 Least Squares   F-statistic:                              3897.\n",
       "Date:                Mon, 01 Jun 2020   Prob (F-statistic):                        0.00\n",
       "Time:                        16:05:23   Log-Likelihood:                     -2.9113e+05\n",
       "No. Observations:               20754   AIC:                                  5.823e+05\n",
       "Df Residuals:                   20739   BIC:                                  5.824e+05\n",
       "Df Model:                          15                                                  \n",
       "Covariance Type:            nonrobust                                                  \n",
       "==========================================================================================\n",
       "                             coef    std err          t      P>|t|      [0.025      0.975]\n",
       "------------------------------------------------------------------------------------------\n",
       "bathrooms_log          -5.437e+04   2759.808    -19.702      0.000   -5.98e+04    -4.9e+04\n",
       "bedrooms_log            3.496e+04   2527.895     13.830      0.000       3e+04    3.99e+04\n",
       "distance_from_city_log -4.886e+04   2274.722    -21.479      0.000   -5.33e+04   -4.44e+04\n",
       "floor_1.5               3.055e+05   7447.323     41.023      0.000    2.91e+05     3.2e+05\n",
       "floor_2.0               5.039e+05   3926.002    128.347      0.000    4.96e+05    5.12e+05\n",
       "floor_3.0               4.303e+05   1.27e+04     33.788      0.000    4.05e+05    4.55e+05\n",
       "view_1.0                2.867e+05   1.72e+04     16.641      0.000    2.53e+05     3.2e+05\n",
       "view_2.0                2.524e+05   1.04e+04     24.234      0.000    2.32e+05    2.73e+05\n",
       "view_3.0                3.703e+05   1.46e+04     25.373      0.000    3.42e+05    3.99e+05\n",
       "view_4.0                5.673e+05   1.96e+04     28.907      0.000    5.29e+05    6.06e+05\n",
       "grade_4                 1.691e+05    5.8e+04      2.916      0.004    5.54e+04    2.83e+05\n",
       "grade_12                 8.75e+05   5.31e+04     16.464      0.000    7.71e+05    9.79e+05\n",
       "water_True              1.179e+05   6471.472     18.226      0.000    1.05e+05    1.31e+05\n",
       "base_True               3.558e+05   3797.244     93.699      0.000    3.48e+05    3.63e+05\n",
       "distance_from_airport   6.178e+04   2122.990     29.100      0.000    5.76e+04    6.59e+04\n",
       "==============================================================================\n",
       "Omnibus:                     1879.749   Durbin-Watson:                   1.718\n",
       "Prob(Omnibus):                  0.000   Jarque-Bera (JB):             4362.408\n",
       "Skew:                           0.559   Prob(JB):                         0.00\n",
       "Kurtosis:                       4.948   Cond. No.                         36.2\n",
       "==============================================================================\n",
       "\n",
       "Warnings:\n",
       "[1] Standard Errors assume that the covariance matrix of the errors is correctly specified.\n",
       "\"\"\""
      ]
     },
     "execution_count": 195,
     "metadata": {},
     "output_type": "execute_result"
    }
   ],
   "source": [
    "model = sm.OLS(y,X).fit()\n",
    "model.summary()"
   ]
  },
  {
   "cell_type": "code",
   "execution_count": 198,
   "metadata": {},
   "outputs": [],
   "source": [
    "resids = model.resid"
   ]
  },
  {
   "cell_type": "code",
   "execution_count": 200,
   "metadata": {},
   "outputs": [],
   "source": [
    "def plot_residuals(resids):\n",
    "    plt.hist(resids)\n",
    "    plt.title(\"Residuals\")\n",
    "    plt.show()\n",
    "    \n",
    "    xspace = np.linspace(0, 1, len(resids))\n",
    "    plt.scatter(x, resids)\n",
    "    plt.title(\"resids\")\n",
    "    plt.hlines(0, xmin=0, xmax=1)\n",
    "    plt.show()"
   ]
  },
  {
   "cell_type": "code",
   "execution_count": 201,
   "metadata": {},
   "outputs": [
    {
     "data": {
      "image/png": "[encoded data removed]",
      "text/plain": [
       "<Figure size 432x288 with 1 Axes>"
      ]
     },
     "metadata": {
      "needs_background": "light"
     },
     "output_type": "display_data"
    },
    {
     "ename": "NameError",
     "evalue": "name 'x' is not defined",
     "output_type": "error",
     "traceback": [
      "\u001b[0;31m---------------------------------------------------------------------------\u001b[0m",
      "\u001b[0;31mNameError\u001b[0m                                 Traceback (most recent call last)",
      "\u001b[0;32m<ipython-input-201-a0da60b6e239>\u001b[0m in \u001b[0;36m<module>\u001b[0;34m\u001b[0m\n\u001b[0;32m----> 1\u001b[0;31m \u001b[0mplot_residuals\u001b[0m\u001b[0;34m(\u001b[0m\u001b[0mresids\u001b[0m\u001b[0;34m)\u001b[0m\u001b[0;34m\u001b[0m\u001b[0;34m\u001b[0m\u001b[0m\n\u001b[0m",
      "\u001b[0;32m<ipython-input-200-60f6f991a033>\u001b[0m in \u001b[0;36mplot_residuals\u001b[0;34m(resids)\u001b[0m\n\u001b[1;32m      5\u001b[0m \u001b[0;34m\u001b[0m\u001b[0m\n\u001b[1;32m      6\u001b[0m     \u001b[0mxspace\u001b[0m \u001b[0;34m=\u001b[0m \u001b[0mnp\u001b[0m\u001b[0;34m.\u001b[0m\u001b[0mlinspace\u001b[0m\u001b[0;34m(\u001b[0m\u001b[0;36m0\u001b[0m\u001b[0;34m,\u001b[0m \u001b[0;36m1\u001b[0m\u001b[0;34m,\u001b[0m \u001b[0mlen\u001b[0m\u001b[0;34m(\u001b[0m\u001b[0mresids\u001b[0m\u001b[0;34m)\u001b[0m\u001b[0;34m)\u001b[0m\u001b[0;34m\u001b[0m\u001b[0;34m\u001b[0m\u001b[0m\n\u001b[0;32m----> 7\u001b[0;31m     \u001b[0mplt\u001b[0m\u001b[0;34m.\u001b[0m\u001b[0mscatter\u001b[0m\u001b[0;34m(\u001b[0m\u001b[0mx\u001b[0m\u001b[0;34m,\u001b[0m \u001b[0mresids\u001b[0m\u001b[0;34m)\u001b[0m\u001b[0;34m\u001b[0m\u001b[0;34m\u001b[0m\u001b[0m\n\u001b[0m\u001b[1;32m      8\u001b[0m     \u001b[0mplt\u001b[0m\u001b[0;34m.\u001b[0m\u001b[0mtitle\u001b[0m\u001b[0;34m(\u001b[0m\u001b[0;34m\"resids\"\u001b[0m\u001b[0;34m)\u001b[0m\u001b[0;34m\u001b[0m\u001b[0;34m\u001b[0m\u001b[0m\n\u001b[1;32m      9\u001b[0m     \u001b[0mplt\u001b[0m\u001b[0;34m.\u001b[0m\u001b[0mhlines\u001b[0m\u001b[0;34m(\u001b[0m\u001b[0;36m0\u001b[0m\u001b[0;34m,\u001b[0m \u001b[0mxmin\u001b[0m\u001b[0;34m=\u001b[0m\u001b[0;36m0\u001b[0m\u001b[0;34m,\u001b[0m \u001b[0mxmax\u001b[0m\u001b[0;34m=\u001b[0m\u001b[0;36m1\u001b[0m\u001b[0;34m)\u001b[0m\u001b[0;34m\u001b[0m\u001b[0;34m\u001b[0m\u001b[0m\n",
      "\u001b[0;31mNameError\u001b[0m: name 'x' is not defined"
     ]
    }
   ],
   "source": [
    "plot_residuals(resids)"
   ]
  },
  {
   "cell_type": "code",
   "execution_count": 202,
   "metadata": {},
   "outputs": [],
   "source": [
    "finaldf = dfnew[x_cols]"
   ]
  },
  {
   "cell_type": "code",
   "execution_count": 206,
   "metadata": {},
   "outputs": [
    {
     "name": "stderr",
     "output_type": "stream",
     "text": [
      "/opt/anaconda3/envs/learn-env/lib/python3.6/site-packages/ipykernel_launcher.py:1: SettingWithCopyWarning: \n",
      "A value is trying to be set on a copy of a slice from a DataFrame.\n",
      "Try using .loc[row_indexer,col_indexer] = value instead\n",
      "\n",
      "See the caveats in the documentation: http://pandas.pydata.org/pandas-docs/stable/user_guide/indexing.html#returning-a-view-versus-a-copy\n",
      "  \"\"\"Entry point for launching an IPython kernel.\n"
     ]
    }
   ],
   "source": [
    "finaldf['price']=dfnew['price']"
   ]
  },
  {
   "cell_type": "code",
   "execution_count": 208,
   "metadata": {},
   "outputs": [
    {
     "data": {
      "text/html": [
       "<div>\n",
       "<style scoped>\n",
       "    .dataframe tbody tr th:only-of-type {\n",
       "        vertical-align: middle;\n",
       "    }\n",
       "\n",
       "    .dataframe tbody tr th {\n",
       "        vertical-align: top;\n",
       "    }\n",
       "\n",
       "    .dataframe thead th {\n",
       "        text-align: right;\n",
       "    }\n",
       "</style>\n",
       "<table border=\"1\" class=\"dataframe\">\n",
       "  <thead>\n",
       "    <tr style=\"text-align: right;\">\n",
       "      <th></th>\n",
       "      <th>bathrooms_log</th>\n",
       "      <th>bedrooms_log</th>\n",
       "      <th>distance_from_city_log</th>\n",
       "      <th>floor_1.5</th>\n",
       "      <th>floor_2.0</th>\n",
       "      <th>floor_3.0</th>\n",
       "      <th>view_1.0</th>\n",
       "      <th>view_2.0</th>\n",
       "      <th>view_3.0</th>\n",
       "      <th>view_4.0</th>\n",
       "      <th>grade_4</th>\n",
       "      <th>grade_12</th>\n",
       "      <th>water_True</th>\n",
       "      <th>base_True</th>\n",
       "      <th>distance_from_airport</th>\n",
       "      <th>price</th>\n",
       "    </tr>\n",
       "  </thead>\n",
       "  <tbody>\n",
       "    <tr>\n",
       "      <td>0</td>\n",
       "      <td>-1.725633</td>\n",
       "      <td>-0.263045</td>\n",
       "      <td>-0.327227</td>\n",
       "      <td>0</td>\n",
       "      <td>0</td>\n",
       "      <td>0</td>\n",
       "      <td>0</td>\n",
       "      <td>0</td>\n",
       "      <td>0</td>\n",
       "      <td>0</td>\n",
       "      <td>0</td>\n",
       "      <td>0</td>\n",
       "      <td>1</td>\n",
       "      <td>0</td>\n",
       "      <td>-1.391529</td>\n",
       "      <td>221900.0</td>\n",
       "    </tr>\n",
       "    <tr>\n",
       "      <td>1</td>\n",
       "      <td>0.381165</td>\n",
       "      <td>-0.263045</td>\n",
       "      <td>-0.282862</td>\n",
       "      <td>0</td>\n",
       "      <td>1</td>\n",
       "      <td>0</td>\n",
       "      <td>0</td>\n",
       "      <td>0</td>\n",
       "      <td>0</td>\n",
       "      <td>0</td>\n",
       "      <td>0</td>\n",
       "      <td>0</td>\n",
       "      <td>0</td>\n",
       "      <td>1</td>\n",
       "      <td>0.992174</td>\n",
       "      <td>538000.0</td>\n",
       "    </tr>\n",
       "    <tr>\n",
       "      <td>2</td>\n",
       "      <td>-1.725633</td>\n",
       "      <td>-1.715623</td>\n",
       "      <td>0.110589</td>\n",
       "      <td>0</td>\n",
       "      <td>0</td>\n",
       "      <td>0</td>\n",
       "      <td>0</td>\n",
       "      <td>0</td>\n",
       "      <td>0</td>\n",
       "      <td>0</td>\n",
       "      <td>0</td>\n",
       "      <td>0</td>\n",
       "      <td>0</td>\n",
       "      <td>0</td>\n",
       "      <td>1.229509</td>\n",
       "      <td>180000.0</td>\n",
       "    </tr>\n",
       "    <tr>\n",
       "      <td>3</td>\n",
       "      <td>1.128563</td>\n",
       "      <td>0.767575</td>\n",
       "      <td>-0.545192</td>\n",
       "      <td>0</td>\n",
       "      <td>0</td>\n",
       "      <td>0</td>\n",
       "      <td>0</td>\n",
       "      <td>0</td>\n",
       "      <td>0</td>\n",
       "      <td>0</td>\n",
       "      <td>0</td>\n",
       "      <td>0</td>\n",
       "      <td>0</td>\n",
       "      <td>1</td>\n",
       "      <td>-1.101136</td>\n",
       "      <td>604000.0</td>\n",
       "    </tr>\n",
       "    <tr>\n",
       "      <td>4</td>\n",
       "      <td>0.075164</td>\n",
       "      <td>-0.263045</td>\n",
       "      <td>0.547339</td>\n",
       "      <td>0</td>\n",
       "      <td>0</td>\n",
       "      <td>0</td>\n",
       "      <td>0</td>\n",
       "      <td>0</td>\n",
       "      <td>0</td>\n",
       "      <td>0</td>\n",
       "      <td>0</td>\n",
       "      <td>0</td>\n",
       "      <td>0</td>\n",
       "      <td>0</td>\n",
       "      <td>0.609922</td>\n",
       "      <td>510000.0</td>\n",
       "    </tr>\n",
       "  </tbody>\n",
       "</table>\n",
       "</div>"
      ],
      "text/plain": [
       "   bathrooms_log  bedrooms_log  distance_from_city_log  floor_1.5  floor_2.0  \\\n",
       "0      -1.725633     -0.263045               -0.327227          0          0   \n",
       "1       0.381165     -0.263045               -0.282862          0          1   \n",
       "2      -1.725633     -1.715623                0.110589          0          0   \n",
       "3       1.128563      0.767575               -0.545192          0          0   \n",
       "4       0.075164     -0.263045                0.547339          0          0   \n",
       "\n",
       "   floor_3.0  view_1.0  view_2.0  view_3.0  view_4.0  grade_4  grade_12  \\\n",
       "0          0         0         0         0         0        0         0   \n",
       "1          0         0         0         0         0        0         0   \n",
       "2          0         0         0         0         0        0         0   \n",
       "3          0         0         0         0         0        0         0   \n",
       "4          0         0         0         0         0        0         0   \n",
       "\n",
       "   water_True  base_True  distance_from_airport     price  \n",
       "0           1          0              -1.391529  221900.0  \n",
       "1           0          1               0.992174  538000.0  \n",
       "2           0          0               1.229509  180000.0  \n",
       "3           0          1              -1.101136  604000.0  \n",
       "4           0          0               0.609922  510000.0  "
      ]
     },
     "execution_count": 208,
     "metadata": {},
     "output_type": "execute_result"
    }
   ],
   "source": [
    "finaldf.head()"
   ]
  },
  {
   "cell_type": "code",
   "execution_count": 210,
   "metadata": {},
   "outputs": [],
   "source": [
    "X = finaldf.drop(columns='price',axis=1)\n",
    "y = finaldf['price']"
   ]
  },
  {
   "cell_type": "code",
   "execution_count": 211,
   "metadata": {},
   "outputs": [],
   "source": [
    "from sklearn.utils import shuffle\n",
    "from sklearn.linear_model import LinearRegression\n",
    "from sklearn.model_selection import train_test_split, cross_val_score\n",
    "from sklearn.preprocessing import StandardScaler\n",
    "from sklearn.feature_selection import RFE\n",
    "\n",
    "from sklearn.metrics import r2_score"
   ]
  },
  {
   "cell_type": "code",
   "execution_count": 212,
   "metadata": {},
   "outputs": [],
   "source": [
    "X_train, X_test, y_train, y_test = train_test_split(X, y, test_size=0.20)"
   ]
  },
  {
   "cell_type": "code",
   "execution_count": 213,
   "metadata": {},
   "outputs": [],
   "source": [
    "ols = LinearRegression(fit_intercept=False, normalize=False, n_jobs=-1)"
   ]
  },
  {
   "cell_type": "code",
   "execution_count": 214,
   "metadata": {},
   "outputs": [
    {
     "data": {
      "text/plain": [
       "LinearRegression(copy_X=True, fit_intercept=False, n_jobs=-1, normalize=False)"
      ]
     },
     "execution_count": 214,
     "metadata": {},
     "output_type": "execute_result"
    }
   ],
   "source": [
    "ols.fit(X_train, y_train)"
   ]
  },
  {
   "cell_type": "code",
   "execution_count": 215,
   "metadata": {},
   "outputs": [
    {
     "data": {
      "text/plain": [
       "array([-53332.5132314 ,  36172.48361048, -47234.35240599, 310484.13266737,\n",
       "       501916.52704855, 434467.40154718, 278928.51987673, 254338.34851773,\n",
       "       366880.15857828, 566205.4573405 , 174126.64140848, 884070.05869901,\n",
       "       117738.89663688, 356520.35516341,  62293.37376362])"
      ]
     },
     "execution_count": 215,
     "metadata": {},
     "output_type": "execute_result"
    }
   ],
   "source": [
    "ols.coef_"
   ]
  },
  {
   "cell_type": "code",
   "execution_count": 216,
   "metadata": {},
   "outputs": [
    {
     "data": {
      "text/plain": [
       "array([443858.76562084, 493749.3453514 , 109642.63657952, ...,\n",
       "        93883.35178784, 478668.88883879,  69928.77523556])"
      ]
     },
     "execution_count": 216,
     "metadata": {},
     "output_type": "execute_result"
    }
   ],
   "source": [
    "y_train_preds = ols.predict(X_train)\n",
    "y_train_preds\n"
   ]
  },
  {
   "cell_type": "code",
   "execution_count": 217,
   "metadata": {},
   "outputs": [
    {
     "data": {
      "text/plain": [
       "-0.13966763739390875"
      ]
     },
     "execution_count": 217,
     "metadata": {},
     "output_type": "execute_result"
    }
   ],
   "source": [
    "r2_score(y_train, y_train_preds)"
   ]
  },
  {
   "cell_type": "code",
   "execution_count": 218,
   "metadata": {},
   "outputs": [],
   "source": [
    "def get_score(model ,X_train, y_train):\n",
    "    y_train_preds = model.predict(X_train)"
   ]
  },
  {
   "cell_type": "code",
   "execution_count": 219,
   "metadata": {},
   "outputs": [
    {
     "data": {
      "text/plain": [
       "-0.13966763739390875"
      ]
     },
     "execution_count": 219,
     "metadata": {},
     "output_type": "execute_result"
    }
   ],
   "source": [
    "# r2 \n",
    "training_score = ols.score(X_train, y_train)\n",
    "# ols.score is calculating the y_train_preds and then using those to get the r2 score\n",
    "training_score"
   ]
  },
  {
   "cell_type": "code",
   "execution_count": 220,
   "metadata": {},
   "outputs": [
    {
     "data": {
      "text/plain": [
       "-0.13586864337811644"
      ]
     },
     "execution_count": 220,
     "metadata": {},
     "output_type": "execute_result"
    }
   ],
   "source": [
    "testing_score = ols.score(X_test, y_test)\n",
    "testing_score"
   ]
  },
  {
   "cell_type": "code",
   "execution_count": 221,
   "metadata": {},
   "outputs": [
    {
     "data": {
      "text/plain": [
       "array([-0.15329018, -0.16789171, -0.14617542, -0.07656858, -0.21379668])"
      ]
     },
     "execution_count": 221,
     "metadata": {},
     "output_type": "execute_result"
    }
   ],
   "source": [
    "# cv = 5 means 80/20 splits\n",
    "# cv = 10 means 90/10 splits\n",
    "# cv = 3 means 67/33 splits\n",
    "\n",
    "cv_scores = cross_val_score(ols, X, y, scoring='r2', cv=5, n_jobs=-1) \n",
    "# cv breaks your data into that many equal pieces \n",
    "cv_scores"
   ]
  },
  {
   "cell_type": "code",
   "execution_count": 230,
   "metadata": {},
   "outputs": [],
   "source": [
    "rfe = RFE(ols, n_features_to_select=15, step=1, verbose=2)"
   ]
  },
  {
   "cell_type": "code",
   "execution_count": 231,
   "metadata": {},
   "outputs": [
    {
     "data": {
      "text/plain": [
       "RFE(estimator=LinearRegression(copy_X=True, fit_intercept=False, n_jobs=-1,\n",
       "                               normalize=False),\n",
       "    n_features_to_select=15, step=1, verbose=2)"
      ]
     },
     "execution_count": 231,
     "metadata": {},
     "output_type": "execute_result"
    }
   ],
   "source": [
    "X_all = finaldf.drop(columns=['price'])\n",
    "rfe.fit(X_all, y)"
   ]
  },
  {
   "cell_type": "code",
   "execution_count": 232,
   "metadata": {},
   "outputs": [
    {
     "data": {
      "text/plain": [
       "array([ True,  True,  True,  True,  True,  True,  True,  True,  True,\n",
       "        True,  True,  True,  True,  True,  True])"
      ]
     },
     "execution_count": 232,
     "metadata": {},
     "output_type": "execute_result"
    }
   ],
   "source": [
    "rfe.support_"
   ]
  },
  {
   "cell_type": "code",
   "execution_count": 233,
   "metadata": {},
   "outputs": [],
   "source": [
    "new_cols = X_all.columns[rfe.support_]"
   ]
  },
  {
   "cell_type": "code",
   "execution_count": 234,
   "metadata": {},
   "outputs": [
    {
     "data": {
      "text/plain": [
       "Index(['bathrooms_log', 'bedrooms_log', 'distance_from_city_log', 'floor_1.5',\n",
       "       'floor_2.0', 'floor_3.0', 'view_1.0', 'view_2.0', 'view_3.0',\n",
       "       'view_4.0', 'grade_4', 'grade_12', 'water_True', 'base_True',\n",
       "       'distance_from_airport'],\n",
       "      dtype='object')"
      ]
     },
     "execution_count": 234,
     "metadata": {},
     "output_type": "execute_result"
    }
   ],
   "source": [
    "new_cols"
   ]
  },
  {
   "cell_type": "code",
   "execution_count": null,
   "metadata": {},
   "outputs": [],
   "source": []
  }
 ],
 "metadata": {
  "kernelspec": {
   "display_name": "Python [conda env:learn-env] *",
   "language": "python",
   "name": "conda-env-learn-env-py"
  },
  "language_info": {
   "codemirror_mode": {
    "name": "ipython",
    "version": 3
   },
   "file_extension": ".py",
   "mimetype": "text/x-python",
   "name": "python",
   "nbconvert_exporter": "python",
   "pygments_lexer": "ipython3",
   "version": "3.6.9"
  }
 },
 "nbformat": 4,
 "nbformat_minor": 2
}
