{
 "cells": [
  {
   "cell_type": "code",
   "execution_count": 94,
   "metadata": {},
   "outputs": [],
   "source": [
    "import numpy as np\n",
    "import pandas as pd\n",
    "import statsmodels.api as sm\n",
    "import scipy.stats as scs\n",
    "\n",
    "import matplotlib.pyplot as plt\n",
    "import seaborn as sns\n",
    "\n",
    "import matplotlib.pyplot as plt\n",
    "%matplotlib inline\n"
   ]
  },
  {
   "cell_type": "code",
   "execution_count": 95,
   "metadata": {},
   "outputs": [],
   "source": [
    "df = pd.read_csv('datawithnewcols.csv',index_col = 0)"
   ]
  },
  {
   "cell_type": "code",
   "execution_count": 96,
   "metadata": {},
   "outputs": [
    {
     "data": {
      "text/html": [
       "<div>\n",
       "<style scoped>\n",
       "    .dataframe tbody tr th:only-of-type {\n",
       "        vertical-align: middle;\n",
       "    }\n",
       "\n",
       "    .dataframe tbody tr th {\n",
       "        vertical-align: top;\n",
       "    }\n",
       "\n",
       "    .dataframe thead th {\n",
       "        text-align: right;\n",
       "    }\n",
       "</style>\n",
       "<table border=\"1\" class=\"dataframe\">\n",
       "  <thead>\n",
       "    <tr style=\"text-align: right;\">\n",
       "      <th></th>\n",
       "      <th>date</th>\n",
       "      <th>price</th>\n",
       "      <th>bedrooms</th>\n",
       "      <th>bathrooms</th>\n",
       "      <th>sqft_living</th>\n",
       "      <th>sqft_lot</th>\n",
       "      <th>floors</th>\n",
       "      <th>waterfront</th>\n",
       "      <th>view</th>\n",
       "      <th>condition</th>\n",
       "      <th>...</th>\n",
       "      <th>long</th>\n",
       "      <th>sqft_living15</th>\n",
       "      <th>sqft_lot15</th>\n",
       "      <th>Age_of_House</th>\n",
       "      <th>Years_last_renovation</th>\n",
       "      <th>basement</th>\n",
       "      <th>distance_from_seattle</th>\n",
       "      <th>distance_from_bellevue</th>\n",
       "      <th>distance_from_a_city</th>\n",
       "      <th>distance_from_airport</th>\n",
       "    </tr>\n",
       "  </thead>\n",
       "  <tbody>\n",
       "    <tr>\n",
       "      <td>1</td>\n",
       "      <td>2014-12-09</td>\n",
       "      <td>538000.0</td>\n",
       "      <td>3</td>\n",
       "      <td>2.25</td>\n",
       "      <td>2570</td>\n",
       "      <td>7242</td>\n",
       "      <td>2.0</td>\n",
       "      <td>0.0</td>\n",
       "      <td>0.0</td>\n",
       "      <td>3</td>\n",
       "      <td>...</td>\n",
       "      <td>-122.319</td>\n",
       "      <td>1690</td>\n",
       "      <td>7639</td>\n",
       "      <td>69</td>\n",
       "      <td>29</td>\n",
       "      <td>True</td>\n",
       "      <td>12.613856</td>\n",
       "      <td>15.150174</td>\n",
       "      <td>12.613856</td>\n",
       "      <td>30.859494</td>\n",
       "    </tr>\n",
       "    <tr>\n",
       "      <td>2</td>\n",
       "      <td>2015-02-25</td>\n",
       "      <td>180000.0</td>\n",
       "      <td>2</td>\n",
       "      <td>1.00</td>\n",
       "      <td>770</td>\n",
       "      <td>10000</td>\n",
       "      <td>1.0</td>\n",
       "      <td>0.0</td>\n",
       "      <td>0.0</td>\n",
       "      <td>3</td>\n",
       "      <td>...</td>\n",
       "      <td>-122.233</td>\n",
       "      <td>2720</td>\n",
       "      <td>8062</td>\n",
       "      <td>87</td>\n",
       "      <td>87</td>\n",
       "      <td>False</td>\n",
       "      <td>16.333282</td>\n",
       "      <td>14.375822</td>\n",
       "      <td>14.375822</td>\n",
       "      <td>33.112379</td>\n",
       "    </tr>\n",
       "    <tr>\n",
       "      <td>3</td>\n",
       "      <td>2014-12-09</td>\n",
       "      <td>604000.0</td>\n",
       "      <td>4</td>\n",
       "      <td>3.00</td>\n",
       "      <td>1960</td>\n",
       "      <td>5000</td>\n",
       "      <td>1.0</td>\n",
       "      <td>0.0</td>\n",
       "      <td>0.0</td>\n",
       "      <td>5</td>\n",
       "      <td>...</td>\n",
       "      <td>-122.393</td>\n",
       "      <td>1360</td>\n",
       "      <td>5000</td>\n",
       "      <td>55</td>\n",
       "      <td>55</td>\n",
       "      <td>True</td>\n",
       "      <td>10.617501</td>\n",
       "      <td>17.522706</td>\n",
       "      <td>10.617501</td>\n",
       "      <td>10.988905</td>\n",
       "    </tr>\n",
       "    <tr>\n",
       "      <td>4</td>\n",
       "      <td>2015-02-18</td>\n",
       "      <td>510000.0</td>\n",
       "      <td>3</td>\n",
       "      <td>2.00</td>\n",
       "      <td>1680</td>\n",
       "      <td>8080</td>\n",
       "      <td>1.0</td>\n",
       "      <td>0.0</td>\n",
       "      <td>0.0</td>\n",
       "      <td>3</td>\n",
       "      <td>...</td>\n",
       "      <td>-122.045</td>\n",
       "      <td>1800</td>\n",
       "      <td>7503</td>\n",
       "      <td>33</td>\n",
       "      <td>33</td>\n",
       "      <td>False</td>\n",
       "      <td>21.759524</td>\n",
       "      <td>11.683886</td>\n",
       "      <td>11.683886</td>\n",
       "      <td>27.230991</td>\n",
       "    </tr>\n",
       "    <tr>\n",
       "      <td>5</td>\n",
       "      <td>2014-05-12</td>\n",
       "      <td>1230000.0</td>\n",
       "      <td>4</td>\n",
       "      <td>4.50</td>\n",
       "      <td>5420</td>\n",
       "      <td>101930</td>\n",
       "      <td>1.0</td>\n",
       "      <td>0.0</td>\n",
       "      <td>0.0</td>\n",
       "      <td>3</td>\n",
       "      <td>...</td>\n",
       "      <td>-122.005</td>\n",
       "      <td>4760</td>\n",
       "      <td>101930</td>\n",
       "      <td>19</td>\n",
       "      <td>19</td>\n",
       "      <td>True</td>\n",
       "      <td>25.295727</td>\n",
       "      <td>15.508940</td>\n",
       "      <td>15.508940</td>\n",
       "      <td>32.449837</td>\n",
       "    </tr>\n",
       "  </tbody>\n",
       "</table>\n",
       "<p>5 rows × 27 columns</p>\n",
       "</div>"
      ],
      "text/plain": [
       "         date      price  bedrooms  bathrooms  sqft_living  sqft_lot  floors  \\\n",
       "1  2014-12-09   538000.0         3       2.25         2570      7242     2.0   \n",
       "2  2015-02-25   180000.0         2       1.00          770     10000     1.0   \n",
       "3  2014-12-09   604000.0         4       3.00         1960      5000     1.0   \n",
       "4  2015-02-18   510000.0         3       2.00         1680      8080     1.0   \n",
       "5  2014-05-12  1230000.0         4       4.50         5420    101930     1.0   \n",
       "\n",
       "   waterfront  view  condition  ...     long  sqft_living15  sqft_lot15  \\\n",
       "1         0.0   0.0          3  ... -122.319           1690        7639   \n",
       "2         0.0   0.0          3  ... -122.233           2720        8062   \n",
       "3         0.0   0.0          5  ... -122.393           1360        5000   \n",
       "4         0.0   0.0          3  ... -122.045           1800        7503   \n",
       "5         0.0   0.0          3  ... -122.005           4760      101930   \n",
       "\n",
       "   Age_of_House  Years_last_renovation  basement  distance_from_seattle  \\\n",
       "1            69                     29      True              12.613856   \n",
       "2            87                     87     False              16.333282   \n",
       "3            55                     55      True              10.617501   \n",
       "4            33                     33     False              21.759524   \n",
       "5            19                     19      True              25.295727   \n",
       "\n",
       "   distance_from_bellevue  distance_from_a_city  distance_from_airport  \n",
       "1               15.150174             12.613856              30.859494  \n",
       "2               14.375822             14.375822              33.112379  \n",
       "3               17.522706             10.617501              10.988905  \n",
       "4               11.683886             11.683886              27.230991  \n",
       "5               15.508940             15.508940              32.449837  \n",
       "\n",
       "[5 rows x 27 columns]"
      ]
     },
     "execution_count": 96,
     "metadata": {},
     "output_type": "execute_result"
    }
   ],
   "source": [
    "df.head()"
   ]
  },
  {
   "cell_type": "code",
   "execution_count": 97,
   "metadata": {},
   "outputs": [
    {
     "data": {
      "text/plain": [
       "(19002, 27)"
      ]
     },
     "execution_count": 97,
     "metadata": {},
     "output_type": "execute_result"
    }
   ],
   "source": [
    "df.shape"
   ]
  },
  {
   "cell_type": "code",
   "execution_count": 98,
   "metadata": {},
   "outputs": [
    {
     "data": {
      "text/plain": [
       "Index(['date', 'price', 'bedrooms', 'bathrooms', 'sqft_living', 'sqft_lot',\n",
       "       'floors', 'waterfront', 'view', 'condition', 'grade', 'sqft_above',\n",
       "       'sqft_basement', 'yr_built', 'yr_renovated', 'zipcode', 'lat', 'long',\n",
       "       'sqft_living15', 'sqft_lot15', 'Age_of_House', 'Years_last_renovation',\n",
       "       'basement', 'distance_from_seattle', 'distance_from_bellevue',\n",
       "       'distance_from_a_city', 'distance_from_airport'],\n",
       "      dtype='object')"
      ]
     },
     "execution_count": 98,
     "metadata": {},
     "output_type": "execute_result"
    }
   ],
   "source": [
    "df.columns"
   ]
  },
  {
   "cell_type": "code",
   "execution_count": 99,
   "metadata": {},
   "outputs": [],
   "source": [
    "categoricals = ['floors','view','condition','grade','waterfront','basement','zipcode']"
   ]
  },
  {
   "cell_type": "code",
   "execution_count": 100,
   "metadata": {},
   "outputs": [],
   "source": [
    "numericals = ['price',\n",
    " 'bedrooms',\n",
    " 'bathrooms',\n",
    " 'sqft_living',\n",
    " 'sqft_lot',\n",
    " 'sqft_living15',\n",
    " 'sqft_lot15',\n",
    " 'Age_of_House',\n",
    " 'Years_last_renovation',\n",
    " 'distance_from_a_city',\n",
    "       'distance_from_airport']"
   ]
  },
  {
   "cell_type": "code",
   "execution_count": 101,
   "metadata": {},
   "outputs": [
    {
     "name": "stdout",
     "output_type": "stream",
     "text": [
      "<class 'pandas.core.frame.DataFrame'>\n",
      "Int64Index: 19002 entries, 1 to 21596\n",
      "Data columns (total 11 columns):\n",
      "price                    19002 non-null float64\n",
      "bedrooms                 19002 non-null int64\n",
      "bathrooms                19002 non-null float64\n",
      "sqft_living              19002 non-null int64\n",
      "sqft_lot                 19002 non-null int64\n",
      "sqft_living15            19002 non-null int64\n",
      "sqft_lot15               19002 non-null int64\n",
      "Age_of_House             19002 non-null int64\n",
      "Years_last_renovation    19002 non-null int64\n",
      "distance_from_a_city     19002 non-null float64\n",
      "distance_from_airport    19002 non-null float64\n",
      "dtypes: float64(4), int64(7)\n",
      "memory usage: 1.7 MB\n"
     ]
    }
   ],
   "source": [
    "df[numericals].info()"
   ]
  },
  {
   "cell_type": "code",
   "execution_count": 102,
   "metadata": {},
   "outputs": [],
   "source": [
    "totransform = ['bathrooms','bedrooms','distance_from_a_city','sqft_lot']"
   ]
  },
  {
   "cell_type": "code",
   "execution_count": 103,
   "metadata": {},
   "outputs": [],
   "source": [
    "nottransform = ['Age_of_House','distance_from_airport','Years_last_renovation']"
   ]
  },
  {
   "cell_type": "code",
   "execution_count": 104,
   "metadata": {},
   "outputs": [
    {
     "data": {
      "text/html": [
       "<div>\n",
       "<style scoped>\n",
       "    .dataframe tbody tr th:only-of-type {\n",
       "        vertical-align: middle;\n",
       "    }\n",
       "\n",
       "    .dataframe tbody tr th {\n",
       "        vertical-align: top;\n",
       "    }\n",
       "\n",
       "    .dataframe thead th {\n",
       "        text-align: right;\n",
       "    }\n",
       "</style>\n",
       "<table border=\"1\" class=\"dataframe\">\n",
       "  <thead>\n",
       "    <tr style=\"text-align: right;\">\n",
       "      <th></th>\n",
       "      <th>bathrooms_log</th>\n",
       "      <th>bedrooms_log</th>\n",
       "      <th>distance_from_a_city_log</th>\n",
       "      <th>sqft_lot_log</th>\n",
       "    </tr>\n",
       "  </thead>\n",
       "  <tbody>\n",
       "    <tr>\n",
       "      <td>1</td>\n",
       "      <td>0.362692</td>\n",
       "      <td>-0.269661</td>\n",
       "      <td>0.016928</td>\n",
       "      <td>-0.107010</td>\n",
       "    </tr>\n",
       "    <tr>\n",
       "      <td>2</td>\n",
       "      <td>-1.733696</td>\n",
       "      <td>-1.717736</td>\n",
       "      <td>0.206141</td>\n",
       "      <td>0.251097</td>\n",
       "    </tr>\n",
       "    <tr>\n",
       "      <td>3</td>\n",
       "      <td>1.106397</td>\n",
       "      <td>0.757765</td>\n",
       "      <td>-0.232398</td>\n",
       "      <td>-0.518132</td>\n",
       "    </tr>\n",
       "    <tr>\n",
       "      <td>4</td>\n",
       "      <td>0.058204</td>\n",
       "      <td>-0.269661</td>\n",
       "      <td>-0.093899</td>\n",
       "      <td>0.014503</td>\n",
       "    </tr>\n",
       "    <tr>\n",
       "      <td>5</td>\n",
       "      <td>2.154591</td>\n",
       "      <td>0.757765</td>\n",
       "      <td>0.315932</td>\n",
       "      <td>2.827636</td>\n",
       "    </tr>\n",
       "    <tr>\n",
       "      <td>...</td>\n",
       "      <td>...</td>\n",
       "      <td>...</td>\n",
       "      <td>...</td>\n",
       "      <td>...</td>\n",
       "    </tr>\n",
       "    <tr>\n",
       "      <td>21591</td>\n",
       "      <td>0.635066</td>\n",
       "      <td>-0.269661</td>\n",
       "      <td>-0.942240</td>\n",
       "      <td>-2.018199</td>\n",
       "    </tr>\n",
       "    <tr>\n",
       "      <td>21592</td>\n",
       "      <td>0.635066</td>\n",
       "      <td>-0.269661</td>\n",
       "      <td>-0.293768</td>\n",
       "      <td>-2.167613</td>\n",
       "    </tr>\n",
       "    <tr>\n",
       "      <td>21593</td>\n",
       "      <td>0.635066</td>\n",
       "      <td>0.757765</td>\n",
       "      <td>-0.181243</td>\n",
       "      <td>-0.350937</td>\n",
       "    </tr>\n",
       "    <tr>\n",
       "      <td>21594</td>\n",
       "      <td>-2.477401</td>\n",
       "      <td>-1.717736</td>\n",
       "      <td>-2.012248</td>\n",
       "      <td>-1.971183</td>\n",
       "    </tr>\n",
       "    <tr>\n",
       "      <td>21596</td>\n",
       "      <td>-2.477401</td>\n",
       "      <td>-1.717736</td>\n",
       "      <td>-2.004625</td>\n",
       "      <td>-2.222937</td>\n",
       "    </tr>\n",
       "  </tbody>\n",
       "</table>\n",
       "<p>19002 rows × 4 columns</p>\n",
       "</div>"
      ],
      "text/plain": [
       "       bathrooms_log  bedrooms_log  distance_from_a_city_log  sqft_lot_log\n",
       "1           0.362692     -0.269661                  0.016928     -0.107010\n",
       "2          -1.733696     -1.717736                  0.206141      0.251097\n",
       "3           1.106397      0.757765                 -0.232398     -0.518132\n",
       "4           0.058204     -0.269661                 -0.093899      0.014503\n",
       "5           2.154591      0.757765                  0.315932      2.827636\n",
       "...              ...           ...                       ...           ...\n",
       "21591       0.635066     -0.269661                 -0.942240     -2.018199\n",
       "21592       0.635066     -0.269661                 -0.293768     -2.167613\n",
       "21593       0.635066      0.757765                 -0.181243     -0.350937\n",
       "21594      -2.477401     -1.717736                 -2.012248     -1.971183\n",
       "21596      -2.477401     -1.717736                 -2.004625     -2.222937\n",
       "\n",
       "[19002 rows x 4 columns]"
      ]
     },
     "execution_count": 104,
     "metadata": {},
     "output_type": "execute_result"
    }
   ],
   "source": [
    "data_log = pd.DataFrame([])\n",
    "\n",
    "for name in totransform:\n",
    "    title = name + '_log'\n",
    "    data_log[title] = df[name].map(lambda x: np.log(x))    \n",
    "data_log\n",
    "\n",
    "def normalize(feature):\n",
    "    return (feature - feature.mean()) / feature.std()\n",
    "\n",
    "data_log_norm = data_log.apply(normalize)\n",
    "data_log_norm"
   ]
  },
  {
   "cell_type": "code",
   "execution_count": 365,
   "metadata": {},
   "outputs": [],
   "source": [
    "floor_dummies = pd.get_dummies(df['floors'], prefix='floor', drop_first=True)\n",
    "view_dummies = pd.get_dummies(df['view'], prefix='view', drop_first=True)\n",
    "cond_dummies = pd.get_dummies(df['condition'], prefix='cond', drop_first=True)\n",
    "grade_dummies = pd.get_dummies(df['grade'], prefix='grade', drop_first=True)\n",
    "water_dummies = pd.get_dummies(df['waterfront'], prefix='water', drop_first=True)\n",
    "base_dummies = pd.get_dummies(df['basement'], prefix='base', drop_first=True)\n",
    "zipcode_dummies = pd.get_dummies(df['zipcode'],prefix='zip',drop_first=True)"
   ]
  },
  {
   "cell_type": "code",
   "execution_count": 366,
   "metadata": {},
   "outputs": [],
   "source": [
    "dfnew = pd.concat([data_log_norm,floor_dummies,view_dummies,cond_dummies,grade_dummies,water_dummies,base_dummies,zipcode_dummies],axis = 1)"
   ]
  },
  {
   "cell_type": "code",
   "execution_count": 367,
   "metadata": {},
   "outputs": [],
   "source": [
    "datanottransform = df[nottransform].apply(normalize)"
   ]
  },
  {
   "cell_type": "code",
   "execution_count": 368,
   "metadata": {},
   "outputs": [],
   "source": [
    "dfnew = pd.concat([dfnew,datanottransform],axis = 1)"
   ]
  },
  {
   "cell_type": "code",
   "execution_count": 369,
   "metadata": {},
   "outputs": [
    {
     "data": {
      "text/html": [
       "<div>\n",
       "<style scoped>\n",
       "    .dataframe tbody tr th:only-of-type {\n",
       "        vertical-align: middle;\n",
       "    }\n",
       "\n",
       "    .dataframe tbody tr th {\n",
       "        vertical-align: top;\n",
       "    }\n",
       "\n",
       "    .dataframe thead th {\n",
       "        text-align: right;\n",
       "    }\n",
       "</style>\n",
       "<table border=\"1\" class=\"dataframe\">\n",
       "  <thead>\n",
       "    <tr style=\"text-align: right;\">\n",
       "      <th></th>\n",
       "      <th>bathrooms_log</th>\n",
       "      <th>bedrooms_log</th>\n",
       "      <th>distance_from_city_log</th>\n",
       "      <th>sqft_lot_log</th>\n",
       "      <th>floor_1.5</th>\n",
       "      <th>floor_2.0</th>\n",
       "      <th>floor_2.5</th>\n",
       "      <th>floor_3.0</th>\n",
       "      <th>floor_3.5</th>\n",
       "      <th>view_1.0</th>\n",
       "      <th>...</th>\n",
       "      <th>zip_98166</th>\n",
       "      <th>zip_98168</th>\n",
       "      <th>zip_98177</th>\n",
       "      <th>zip_98178</th>\n",
       "      <th>zip_98188</th>\n",
       "      <th>zip_98198</th>\n",
       "      <th>zip_98199</th>\n",
       "      <th>Age_of_House</th>\n",
       "      <th>distance_from_airport</th>\n",
       "      <th>Years_last_renovation</th>\n",
       "    </tr>\n",
       "  </thead>\n",
       "  <tbody>\n",
       "    <tr>\n",
       "      <td>0</td>\n",
       "      <td>-1.727276</td>\n",
       "      <td>-0.267365</td>\n",
       "      <td>-0.325988</td>\n",
       "      <td>-0.356548</td>\n",
       "      <td>0</td>\n",
       "      <td>0</td>\n",
       "      <td>0</td>\n",
       "      <td>0</td>\n",
       "      <td>0</td>\n",
       "      <td>0</td>\n",
       "      <td>...</td>\n",
       "      <td>0</td>\n",
       "      <td>0</td>\n",
       "      <td>0</td>\n",
       "      <td>1</td>\n",
       "      <td>0</td>\n",
       "      <td>0</td>\n",
       "      <td>0</td>\n",
       "      <td>0.535396</td>\n",
       "      <td>-1.389968</td>\n",
       "      <td>0.608127</td>\n",
       "    </tr>\n",
       "    <tr>\n",
       "      <td>1</td>\n",
       "      <td>0.375566</td>\n",
       "      <td>-0.267365</td>\n",
       "      <td>-0.281628</td>\n",
       "      <td>-0.041963</td>\n",
       "      <td>0</td>\n",
       "      <td>1</td>\n",
       "      <td>0</td>\n",
       "      <td>0</td>\n",
       "      <td>0</td>\n",
       "      <td>0</td>\n",
       "      <td>...</td>\n",
       "      <td>0</td>\n",
       "      <td>0</td>\n",
       "      <td>0</td>\n",
       "      <td>0</td>\n",
       "      <td>0</td>\n",
       "      <td>0</td>\n",
       "      <td>0</td>\n",
       "      <td>0.671615</td>\n",
       "      <td>0.993080</td>\n",
       "      <td>-0.634569</td>\n",
       "    </tr>\n",
       "    <tr>\n",
       "      <td>2</td>\n",
       "      <td>-1.727276</td>\n",
       "      <td>-1.717368</td>\n",
       "      <td>0.111767</td>\n",
       "      <td>0.366964</td>\n",
       "      <td>0</td>\n",
       "      <td>0</td>\n",
       "      <td>0</td>\n",
       "      <td>0</td>\n",
       "      <td>0</td>\n",
       "      <td>0</td>\n",
       "      <td>...</td>\n",
       "      <td>0</td>\n",
       "      <td>0</td>\n",
       "      <td>0</td>\n",
       "      <td>0</td>\n",
       "      <td>0</td>\n",
       "      <td>0</td>\n",
       "      <td>0</td>\n",
       "      <td>1.284598</td>\n",
       "      <td>1.230350</td>\n",
       "      <td>1.367553</td>\n",
       "    </tr>\n",
       "    <tr>\n",
       "      <td>3</td>\n",
       "      <td>1.121561</td>\n",
       "      <td>0.761429</td>\n",
       "      <td>-0.543921</td>\n",
       "      <td>-0.511428</td>\n",
       "      <td>0</td>\n",
       "      <td>0</td>\n",
       "      <td>0</td>\n",
       "      <td>0</td>\n",
       "      <td>0</td>\n",
       "      <td>0</td>\n",
       "      <td>...</td>\n",
       "      <td>0</td>\n",
       "      <td>0</td>\n",
       "      <td>0</td>\n",
       "      <td>0</td>\n",
       "      <td>0</td>\n",
       "      <td>0</td>\n",
       "      <td>0</td>\n",
       "      <td>0.194850</td>\n",
       "      <td>-1.099655</td>\n",
       "      <td>0.262934</td>\n",
       "    </tr>\n",
       "    <tr>\n",
       "      <td>4</td>\n",
       "      <td>0.070140</td>\n",
       "      <td>-0.267365</td>\n",
       "      <td>0.548454</td>\n",
       "      <td>0.096794</td>\n",
       "      <td>0</td>\n",
       "      <td>0</td>\n",
       "      <td>0</td>\n",
       "      <td>0</td>\n",
       "      <td>0</td>\n",
       "      <td>0</td>\n",
       "      <td>...</td>\n",
       "      <td>0</td>\n",
       "      <td>0</td>\n",
       "      <td>0</td>\n",
       "      <td>0</td>\n",
       "      <td>0</td>\n",
       "      <td>0</td>\n",
       "      <td>0</td>\n",
       "      <td>-0.554351</td>\n",
       "      <td>0.610933</td>\n",
       "      <td>-0.496491</td>\n",
       "    </tr>\n",
       "  </tbody>\n",
       "</table>\n",
       "<p>5 rows × 100 columns</p>\n",
       "</div>"
      ],
      "text/plain": [
       "   bathrooms_log  bedrooms_log  distance_from_city_log  sqft_lot_log  \\\n",
       "0      -1.727276     -0.267365               -0.325988     -0.356548   \n",
       "1       0.375566     -0.267365               -0.281628     -0.041963   \n",
       "2      -1.727276     -1.717368                0.111767      0.366964   \n",
       "3       1.121561      0.761429               -0.543921     -0.511428   \n",
       "4       0.070140     -0.267365                0.548454      0.096794   \n",
       "\n",
       "   floor_1.5  floor_2.0  floor_2.5  floor_3.0  floor_3.5  view_1.0  ...  \\\n",
       "0          0          0          0          0          0         0  ...   \n",
       "1          0          1          0          0          0         0  ...   \n",
       "2          0          0          0          0          0         0  ...   \n",
       "3          0          0          0          0          0         0  ...   \n",
       "4          0          0          0          0          0         0  ...   \n",
       "\n",
       "   zip_98166  zip_98168  zip_98177  zip_98178  zip_98188  zip_98198  \\\n",
       "0          0          0          0          1          0          0   \n",
       "1          0          0          0          0          0          0   \n",
       "2          0          0          0          0          0          0   \n",
       "3          0          0          0          0          0          0   \n",
       "4          0          0          0          0          0          0   \n",
       "\n",
       "   zip_98199  Age_of_House  distance_from_airport  Years_last_renovation  \n",
       "0          0      0.535396              -1.389968               0.608127  \n",
       "1          0      0.671615               0.993080              -0.634569  \n",
       "2          0      1.284598               1.230350               1.367553  \n",
       "3          0      0.194850              -1.099655               0.262934  \n",
       "4          0     -0.554351               0.610933              -0.496491  \n",
       "\n",
       "[5 rows x 100 columns]"
      ]
     },
     "execution_count": 369,
     "metadata": {},
     "output_type": "execute_result"
    }
   ],
   "source": [
    "dfnew.head()"
   ]
  },
  {
   "cell_type": "code",
   "execution_count": 370,
   "metadata": {},
   "outputs": [],
   "source": [
    "dfnew['price'] = df.price"
   ]
  },
  {
   "cell_type": "code",
   "execution_count": 371,
   "metadata": {},
   "outputs": [
    {
     "data": {
      "text/html": [
       "<div>\n",
       "<style scoped>\n",
       "    .dataframe tbody tr th:only-of-type {\n",
       "        vertical-align: middle;\n",
       "    }\n",
       "\n",
       "    .dataframe tbody tr th {\n",
       "        vertical-align: top;\n",
       "    }\n",
       "\n",
       "    .dataframe thead th {\n",
       "        text-align: right;\n",
       "    }\n",
       "</style>\n",
       "<table border=\"1\" class=\"dataframe\">\n",
       "  <thead>\n",
       "    <tr style=\"text-align: right;\">\n",
       "      <th></th>\n",
       "      <th>bathrooms_log</th>\n",
       "      <th>bedrooms_log</th>\n",
       "      <th>distance_from_city_log</th>\n",
       "      <th>sqft_lot_log</th>\n",
       "      <th>floor_1.5</th>\n",
       "      <th>floor_2.0</th>\n",
       "      <th>floor_2.5</th>\n",
       "      <th>floor_3.0</th>\n",
       "      <th>floor_3.5</th>\n",
       "      <th>view_1.0</th>\n",
       "      <th>...</th>\n",
       "      <th>zip_98168</th>\n",
       "      <th>zip_98177</th>\n",
       "      <th>zip_98178</th>\n",
       "      <th>zip_98188</th>\n",
       "      <th>zip_98198</th>\n",
       "      <th>zip_98199</th>\n",
       "      <th>Age_of_House</th>\n",
       "      <th>distance_from_airport</th>\n",
       "      <th>Years_last_renovation</th>\n",
       "      <th>price</th>\n",
       "    </tr>\n",
       "  </thead>\n",
       "  <tbody>\n",
       "    <tr>\n",
       "      <td>0</td>\n",
       "      <td>-1.727276</td>\n",
       "      <td>-0.267365</td>\n",
       "      <td>-0.325988</td>\n",
       "      <td>-0.356548</td>\n",
       "      <td>0</td>\n",
       "      <td>0</td>\n",
       "      <td>0</td>\n",
       "      <td>0</td>\n",
       "      <td>0</td>\n",
       "      <td>0</td>\n",
       "      <td>...</td>\n",
       "      <td>0</td>\n",
       "      <td>0</td>\n",
       "      <td>1</td>\n",
       "      <td>0</td>\n",
       "      <td>0</td>\n",
       "      <td>0</td>\n",
       "      <td>0.535396</td>\n",
       "      <td>-1.389968</td>\n",
       "      <td>0.608127</td>\n",
       "      <td>221900.0</td>\n",
       "    </tr>\n",
       "    <tr>\n",
       "      <td>1</td>\n",
       "      <td>0.375566</td>\n",
       "      <td>-0.267365</td>\n",
       "      <td>-0.281628</td>\n",
       "      <td>-0.041963</td>\n",
       "      <td>0</td>\n",
       "      <td>1</td>\n",
       "      <td>0</td>\n",
       "      <td>0</td>\n",
       "      <td>0</td>\n",
       "      <td>0</td>\n",
       "      <td>...</td>\n",
       "      <td>0</td>\n",
       "      <td>0</td>\n",
       "      <td>0</td>\n",
       "      <td>0</td>\n",
       "      <td>0</td>\n",
       "      <td>0</td>\n",
       "      <td>0.671615</td>\n",
       "      <td>0.993080</td>\n",
       "      <td>-0.634569</td>\n",
       "      <td>538000.0</td>\n",
       "    </tr>\n",
       "    <tr>\n",
       "      <td>2</td>\n",
       "      <td>-1.727276</td>\n",
       "      <td>-1.717368</td>\n",
       "      <td>0.111767</td>\n",
       "      <td>0.366964</td>\n",
       "      <td>0</td>\n",
       "      <td>0</td>\n",
       "      <td>0</td>\n",
       "      <td>0</td>\n",
       "      <td>0</td>\n",
       "      <td>0</td>\n",
       "      <td>...</td>\n",
       "      <td>0</td>\n",
       "      <td>0</td>\n",
       "      <td>0</td>\n",
       "      <td>0</td>\n",
       "      <td>0</td>\n",
       "      <td>0</td>\n",
       "      <td>1.284598</td>\n",
       "      <td>1.230350</td>\n",
       "      <td>1.367553</td>\n",
       "      <td>180000.0</td>\n",
       "    </tr>\n",
       "    <tr>\n",
       "      <td>3</td>\n",
       "      <td>1.121561</td>\n",
       "      <td>0.761429</td>\n",
       "      <td>-0.543921</td>\n",
       "      <td>-0.511428</td>\n",
       "      <td>0</td>\n",
       "      <td>0</td>\n",
       "      <td>0</td>\n",
       "      <td>0</td>\n",
       "      <td>0</td>\n",
       "      <td>0</td>\n",
       "      <td>...</td>\n",
       "      <td>0</td>\n",
       "      <td>0</td>\n",
       "      <td>0</td>\n",
       "      <td>0</td>\n",
       "      <td>0</td>\n",
       "      <td>0</td>\n",
       "      <td>0.194850</td>\n",
       "      <td>-1.099655</td>\n",
       "      <td>0.262934</td>\n",
       "      <td>604000.0</td>\n",
       "    </tr>\n",
       "    <tr>\n",
       "      <td>4</td>\n",
       "      <td>0.070140</td>\n",
       "      <td>-0.267365</td>\n",
       "      <td>0.548454</td>\n",
       "      <td>0.096794</td>\n",
       "      <td>0</td>\n",
       "      <td>0</td>\n",
       "      <td>0</td>\n",
       "      <td>0</td>\n",
       "      <td>0</td>\n",
       "      <td>0</td>\n",
       "      <td>...</td>\n",
       "      <td>0</td>\n",
       "      <td>0</td>\n",
       "      <td>0</td>\n",
       "      <td>0</td>\n",
       "      <td>0</td>\n",
       "      <td>0</td>\n",
       "      <td>-0.554351</td>\n",
       "      <td>0.610933</td>\n",
       "      <td>-0.496491</td>\n",
       "      <td>510000.0</td>\n",
       "    </tr>\n",
       "  </tbody>\n",
       "</table>\n",
       "<p>5 rows × 101 columns</p>\n",
       "</div>"
      ],
      "text/plain": [
       "   bathrooms_log  bedrooms_log  distance_from_city_log  sqft_lot_log  \\\n",
       "0      -1.727276     -0.267365               -0.325988     -0.356548   \n",
       "1       0.375566     -0.267365               -0.281628     -0.041963   \n",
       "2      -1.727276     -1.717368                0.111767      0.366964   \n",
       "3       1.121561      0.761429               -0.543921     -0.511428   \n",
       "4       0.070140     -0.267365                0.548454      0.096794   \n",
       "\n",
       "   floor_1.5  floor_2.0  floor_2.5  floor_3.0  floor_3.5  view_1.0  ...  \\\n",
       "0          0          0          0          0          0         0  ...   \n",
       "1          0          1          0          0          0         0  ...   \n",
       "2          0          0          0          0          0         0  ...   \n",
       "3          0          0          0          0          0         0  ...   \n",
       "4          0          0          0          0          0         0  ...   \n",
       "\n",
       "   zip_98168  zip_98177  zip_98178  zip_98188  zip_98198  zip_98199  \\\n",
       "0          0          0          1          0          0          0   \n",
       "1          0          0          0          0          0          0   \n",
       "2          0          0          0          0          0          0   \n",
       "3          0          0          0          0          0          0   \n",
       "4          0          0          0          0          0          0   \n",
       "\n",
       "   Age_of_House  distance_from_airport  Years_last_renovation     price  \n",
       "0      0.535396              -1.389968               0.608127  221900.0  \n",
       "1      0.671615               0.993080              -0.634569  538000.0  \n",
       "2      1.284598               1.230350               1.367553  180000.0  \n",
       "3      0.194850              -1.099655               0.262934  604000.0  \n",
       "4     -0.554351               0.610933              -0.496491  510000.0  \n",
       "\n",
       "[5 rows x 101 columns]"
      ]
     },
     "execution_count": 371,
     "metadata": {},
     "output_type": "execute_result"
    }
   ],
   "source": [
    "dfnew.head()"
   ]
  },
  {
   "cell_type": "code",
   "execution_count": 105,
   "metadata": {},
   "outputs": [],
   "source": [
    "import statsmodels.api as sm\n",
    "from statsmodels.formula.api import ols"
   ]
  },
  {
   "cell_type": "code",
   "execution_count": 135,
   "metadata": {},
   "outputs": [],
   "source": [
    "modeldata = ['distance_from_a_city','Age_of_House','Years_last_renovation']"
   ]
  },
  {
   "cell_type": "code",
   "execution_count": 124,
   "metadata": {},
   "outputs": [],
   "source": [
    "df1 = df[modeldata]"
   ]
  },
  {
   "cell_type": "code",
   "execution_count": 125,
   "metadata": {},
   "outputs": [],
   "source": [
    "zipcode_dummies = pd.get_dummies(df['zipcode'],prefix='zip',drop_first=True)"
   ]
  },
  {
   "cell_type": "code",
   "execution_count": 126,
   "metadata": {},
   "outputs": [],
   "source": [
    "df1= pd.concat([df1,zipcode_dummies],axis = 1)"
   ]
  },
  {
   "cell_type": "code",
   "execution_count": 81,
   "metadata": {},
   "outputs": [
    {
     "data": {
      "text/html": [
       "<div>\n",
       "<style scoped>\n",
       "    .dataframe tbody tr th:only-of-type {\n",
       "        vertical-align: middle;\n",
       "    }\n",
       "\n",
       "    .dataframe tbody tr th {\n",
       "        vertical-align: top;\n",
       "    }\n",
       "\n",
       "    .dataframe thead th {\n",
       "        text-align: right;\n",
       "    }\n",
       "</style>\n",
       "<table border=\"1\" class=\"dataframe\">\n",
       "  <thead>\n",
       "    <tr style=\"text-align: right;\">\n",
       "      <th></th>\n",
       "      <th>distance_from_a_city_log</th>\n",
       "      <th>Age_of_House_log</th>\n",
       "      <th>bedrooms_log</th>\n",
       "    </tr>\n",
       "  </thead>\n",
       "  <tbody>\n",
       "    <tr>\n",
       "      <td>1</td>\n",
       "      <td>0.016928</td>\n",
       "      <td>0.769485</td>\n",
       "      <td>-0.269661</td>\n",
       "    </tr>\n",
       "    <tr>\n",
       "      <td>2</td>\n",
       "      <td>0.206141</td>\n",
       "      <td>1.080199</td>\n",
       "      <td>-1.717736</td>\n",
       "    </tr>\n",
       "    <tr>\n",
       "      <td>3</td>\n",
       "      <td>-0.232398</td>\n",
       "      <td>0.465511</td>\n",
       "      <td>0.757765</td>\n",
       "    </tr>\n",
       "    <tr>\n",
       "      <td>4</td>\n",
       "      <td>-0.093899</td>\n",
       "      <td>-0.219216</td>\n",
       "      <td>-0.269661</td>\n",
       "    </tr>\n",
       "    <tr>\n",
       "      <td>5</td>\n",
       "      <td>0.315932</td>\n",
       "      <td>-0.959226</td>\n",
       "      <td>0.757765</td>\n",
       "    </tr>\n",
       "    <tr>\n",
       "      <td>...</td>\n",
       "      <td>...</td>\n",
       "      <td>...</td>\n",
       "      <td>...</td>\n",
       "    </tr>\n",
       "    <tr>\n",
       "      <td>21591</td>\n",
       "      <td>-0.942240</td>\n",
       "      <td>-1.575198</td>\n",
       "      <td>-0.269661</td>\n",
       "    </tr>\n",
       "    <tr>\n",
       "      <td>21592</td>\n",
       "      <td>-0.293768</td>\n",
       "      <td>-1.691831</td>\n",
       "      <td>-0.269661</td>\n",
       "    </tr>\n",
       "    <tr>\n",
       "      <td>21593</td>\n",
       "      <td>-0.181243</td>\n",
       "      <td>-2.504315</td>\n",
       "      <td>0.757765</td>\n",
       "    </tr>\n",
       "    <tr>\n",
       "      <td>21594</td>\n",
       "      <td>-2.012248</td>\n",
       "      <td>-1.691831</td>\n",
       "      <td>-1.717736</td>\n",
       "    </tr>\n",
       "    <tr>\n",
       "      <td>21596</td>\n",
       "      <td>-2.004625</td>\n",
       "      <td>-1.575198</td>\n",
       "      <td>-1.717736</td>\n",
       "    </tr>\n",
       "  </tbody>\n",
       "</table>\n",
       "<p>19002 rows × 3 columns</p>\n",
       "</div>"
      ],
      "text/plain": [
       "       distance_from_a_city_log  Age_of_House_log  bedrooms_log\n",
       "1                      0.016928          0.769485     -0.269661\n",
       "2                      0.206141          1.080199     -1.717736\n",
       "3                     -0.232398          0.465511      0.757765\n",
       "4                     -0.093899         -0.219216     -0.269661\n",
       "5                      0.315932         -0.959226      0.757765\n",
       "...                         ...               ...           ...\n",
       "21591                 -0.942240         -1.575198     -0.269661\n",
       "21592                 -0.293768         -1.691831     -0.269661\n",
       "21593                 -0.181243         -2.504315      0.757765\n",
       "21594                 -2.012248         -1.691831     -1.717736\n",
       "21596                 -2.004625         -1.575198     -1.717736\n",
       "\n",
       "[19002 rows x 3 columns]"
      ]
     },
     "execution_count": 81,
     "metadata": {},
     "output_type": "execute_result"
    }
   ],
   "source": [
    "data_log = pd.DataFrame([])\n",
    "\n",
    "for name in modeldata:\n",
    "    title = name + '_log'\n",
    "    data_log[title] = df[name].map(lambda x: np.log(x))    \n",
    "data_log\n",
    "\n",
    "def normalize(feature):\n",
    "    return (feature - feature.mean()) / feature.std()\n",
    "\n",
    "data_log_norm = data_log.apply(normalize)\n",
    "data_log_norm"
   ]
  },
  {
   "cell_type": "code",
   "execution_count": 79,
   "metadata": {},
   "outputs": [],
   "source": [
    "X = data_log\n",
    "y = df['price']"
   ]
  },
  {
   "cell_type": "code",
   "execution_count": 133,
   "metadata": {},
   "outputs": [],
   "source": [
    "X = df1\n",
    "y = df['price']"
   ]
  },
  {
   "cell_type": "code",
   "execution_count": 136,
   "metadata": {},
   "outputs": [],
   "source": [
    "X = df[modeldata]\n",
    "y = df['price']"
   ]
  },
  {
   "cell_type": "code",
   "execution_count": 137,
   "metadata": {
    "scrolled": false
   },
   "outputs": [
    {
     "data": {
      "text/html": [
       "<table class=\"simpletable\">\n",
       "<caption>OLS Regression Results</caption>\n",
       "<tr>\n",
       "  <th>Dep. Variable:</th>          <td>price</td>      <th>  R-squared (uncentered):</th>       <td>   0.579</td>  \n",
       "</tr>\n",
       "<tr>\n",
       "  <th>Model:</th>                   <td>OLS</td>       <th>  Adj. R-squared (uncentered):</th>  <td>   0.579</td>  \n",
       "</tr>\n",
       "<tr>\n",
       "  <th>Method:</th>             <td>Least Squares</td>  <th>  F-statistic:       </th>           <td>   8701.</td>  \n",
       "</tr>\n",
       "<tr>\n",
       "  <th>Date:</th>             <td>Mon, 01 Jun 2020</td> <th>  Prob (F-statistic):</th>            <td>  0.00</td>   \n",
       "</tr>\n",
       "<tr>\n",
       "  <th>Time:</th>                 <td>21:37:46</td>     <th>  Log-Likelihood:    </th>          <td>-2.7134e+05</td>\n",
       "</tr>\n",
       "<tr>\n",
       "  <th>No. Observations:</th>      <td> 19002</td>      <th>  AIC:               </th>           <td>5.427e+05</td> \n",
       "</tr>\n",
       "<tr>\n",
       "  <th>Df Residuals:</th>          <td> 18999</td>      <th>  BIC:               </th>           <td>5.427e+05</td> \n",
       "</tr>\n",
       "<tr>\n",
       "  <th>Df Model:</th>              <td>     3</td>      <th>                     </th>               <td> </td>     \n",
       "</tr>\n",
       "<tr>\n",
       "  <th>Covariance Type:</th>      <td>nonrobust</td>    <th>                     </th>               <td> </td>     \n",
       "</tr>\n",
       "</table>\n",
       "<table class=\"simpletable\">\n",
       "<tr>\n",
       "            <td></td>               <th>coef</th>     <th>std err</th>      <th>t</th>      <th>P>|t|</th>  <th>[0.025</th>    <th>0.975]</th>  \n",
       "</tr>\n",
       "<tr>\n",
       "  <th>distance_from_a_city</th>  <td> 8446.1441</td> <td>  200.212</td> <td>   42.186</td> <td> 0.000</td> <td> 8053.712</td> <td> 8838.577</td>\n",
       "</tr>\n",
       "<tr>\n",
       "  <th>Age_of_House</th>          <td> 7036.2319</td> <td>  252.757</td> <td>   27.838</td> <td> 0.000</td> <td> 6540.806</td> <td> 7531.658</td>\n",
       "</tr>\n",
       "<tr>\n",
       "  <th>Years_last_renovation</th> <td>-1217.1683</td> <td>  261.056</td> <td>   -4.662</td> <td> 0.000</td> <td>-1728.861</td> <td> -705.476</td>\n",
       "</tr>\n",
       "</table>\n",
       "<table class=\"simpletable\">\n",
       "<tr>\n",
       "  <th>Omnibus:</th>       <td>3270.390</td> <th>  Durbin-Watson:     </th> <td>   1.738</td>\n",
       "</tr>\n",
       "<tr>\n",
       "  <th>Prob(Omnibus):</th>  <td> 0.000</td>  <th>  Jarque-Bera (JB):  </th> <td>6551.037</td>\n",
       "</tr>\n",
       "<tr>\n",
       "  <th>Skew:</th>           <td> 1.044</td>  <th>  Prob(JB):          </th> <td>    0.00</td>\n",
       "</tr>\n",
       "<tr>\n",
       "  <th>Kurtosis:</th>       <td> 4.978</td>  <th>  Cond. No.          </th> <td>    10.3</td>\n",
       "</tr>\n",
       "</table><br/><br/>Warnings:<br/>[1] Standard Errors assume that the covariance matrix of the errors is correctly specified."
      ],
      "text/plain": [
       "<class 'statsmodels.iolib.summary.Summary'>\n",
       "\"\"\"\n",
       "                                 OLS Regression Results                                \n",
       "=======================================================================================\n",
       "Dep. Variable:                  price   R-squared (uncentered):                   0.579\n",
       "Model:                            OLS   Adj. R-squared (uncentered):              0.579\n",
       "Method:                 Least Squares   F-statistic:                              8701.\n",
       "Date:                Mon, 01 Jun 2020   Prob (F-statistic):                        0.00\n",
       "Time:                        21:37:46   Log-Likelihood:                     -2.7134e+05\n",
       "No. Observations:               19002   AIC:                                  5.427e+05\n",
       "Df Residuals:                   18999   BIC:                                  5.427e+05\n",
       "Df Model:                           3                                                  \n",
       "Covariance Type:            nonrobust                                                  \n",
       "=========================================================================================\n",
       "                            coef    std err          t      P>|t|      [0.025      0.975]\n",
       "-----------------------------------------------------------------------------------------\n",
       "distance_from_a_city   8446.1441    200.212     42.186      0.000    8053.712    8838.577\n",
       "Age_of_House           7036.2319    252.757     27.838      0.000    6540.806    7531.658\n",
       "Years_last_renovation -1217.1683    261.056     -4.662      0.000   -1728.861    -705.476\n",
       "==============================================================================\n",
       "Omnibus:                     3270.390   Durbin-Watson:                   1.738\n",
       "Prob(Omnibus):                  0.000   Jarque-Bera (JB):             6551.037\n",
       "Skew:                           1.044   Prob(JB):                         0.00\n",
       "Kurtosis:                       4.978   Cond. No.                         10.3\n",
       "==============================================================================\n",
       "\n",
       "Warnings:\n",
       "[1] Standard Errors assume that the covariance matrix of the errors is correctly specified.\n",
       "\"\"\""
      ]
     },
     "execution_count": 137,
     "metadata": {},
     "output_type": "execute_result"
    }
   ],
   "source": [
    "model = sm.OLS(y,X).fit()\n",
    "model.summary()"
   ]
  },
  {
   "cell_type": "code",
   "execution_count": 112,
   "metadata": {},
   "outputs": [
    {
     "name": "stdout",
     "output_type": "stream",
     "text": [
      "3 3\n",
      "['distance_from_a_city', 'Age_of_House', 'bedrooms']\n"
     ]
    },
    {
     "data": {
      "text/html": [
       "<div>\n",
       "<style scoped>\n",
       "    .dataframe tbody tr th:only-of-type {\n",
       "        vertical-align: middle;\n",
       "    }\n",
       "\n",
       "    .dataframe tbody tr th {\n",
       "        vertical-align: top;\n",
       "    }\n",
       "\n",
       "    .dataframe thead th {\n",
       "        text-align: right;\n",
       "    }\n",
       "</style>\n",
       "<table border=\"1\" class=\"dataframe\">\n",
       "  <thead>\n",
       "    <tr style=\"text-align: right;\">\n",
       "      <th></th>\n",
       "      <th>coef</th>\n",
       "      <th>std err</th>\n",
       "      <th>t</th>\n",
       "      <th>P&gt;|t|</th>\n",
       "      <th>[0.025</th>\n",
       "      <th>0.975]</th>\n",
       "    </tr>\n",
       "    <tr>\n",
       "      <th></th>\n",
       "      <th></th>\n",
       "      <th></th>\n",
       "      <th></th>\n",
       "      <th></th>\n",
       "      <th></th>\n",
       "      <th></th>\n",
       "    </tr>\n",
       "  </thead>\n",
       "  <tbody>\n",
       "    <tr>\n",
       "      <td>distance_from_a_city</td>\n",
       "      <td>-9591.1695</td>\n",
       "      <td>175.058</td>\n",
       "      <td>-54.788</td>\n",
       "      <td>0.0</td>\n",
       "      <td>-9934.300</td>\n",
       "      <td>-9248.039</td>\n",
       "    </tr>\n",
       "    <tr>\n",
       "      <td>Age_of_House</td>\n",
       "      <td>451.7457</td>\n",
       "      <td>54.920</td>\n",
       "      <td>8.225</td>\n",
       "      <td>0.0</td>\n",
       "      <td>344.097</td>\n",
       "      <td>559.394</td>\n",
       "    </tr>\n",
       "    <tr>\n",
       "      <td>bedrooms</td>\n",
       "      <td>1.869e+05</td>\n",
       "      <td>1196.172</td>\n",
       "      <td>156.256</td>\n",
       "      <td>0.0</td>\n",
       "      <td>1.85e+05</td>\n",
       "      <td>1.89e+05</td>\n",
       "    </tr>\n",
       "  </tbody>\n",
       "</table>\n",
       "</div>"
      ],
      "text/plain": [
       "0                           coef    std err          t  P>|t|     [0.025  \\\n",
       "                                                                           \n",
       "distance_from_a_city  -9591.1695    175.058    -54.788    0.0  -9934.300   \n",
       "Age_of_House            451.7457     54.920      8.225    0.0    344.097   \n",
       "bedrooms               1.869e+05   1196.172    156.256    0.0   1.85e+05   \n",
       "\n",
       "0                        0.975]  \n",
       "                                 \n",
       "distance_from_a_city  -9248.039  \n",
       "Age_of_House            559.394  \n",
       "bedrooms               1.89e+05  "
      ]
     },
     "execution_count": 112,
     "metadata": {},
     "output_type": "execute_result"
    }
   ],
   "source": [
    "# Your code here - Remove features which do not appear to be statistically relevant\n",
    "summary = model.summary()\n",
    "p_table = summary.tables[1]\n",
    "p_table = pd.DataFrame(p_table.data)\n",
    "p_table.columns = p_table.iloc[0]\n",
    "p_table = p_table.drop(0)\n",
    "p_table = p_table.set_index(p_table.columns[0])\n",
    "p_table['P>|t|'] = p_table['P>|t|'].astype(float)\n",
    "x_cols = list(p_table[p_table['P>|t|'] < 0.05].index)\n",
    "print(len(p_table), len(x_cols))\n",
    "print(x_cols[:5])\n",
    "p_table.head()"
   ]
  },
  {
   "cell_type": "code",
   "execution_count": 113,
   "metadata": {},
   "outputs": [],
   "source": [
    "X = df[x_cols]\n",
    "y= df['price']"
   ]
  },
  {
   "cell_type": "code",
   "execution_count": 114,
   "metadata": {
    "scrolled": false
   },
   "outputs": [
    {
     "data": {
      "text/html": [
       "<table class=\"simpletable\">\n",
       "<caption>OLS Regression Results</caption>\n",
       "<tr>\n",
       "  <th>Dep. Variable:</th>          <td>price</td>      <th>  R-squared (uncentered):</th>       <td>   0.815</td>  \n",
       "</tr>\n",
       "<tr>\n",
       "  <th>Model:</th>                   <td>OLS</td>       <th>  Adj. R-squared (uncentered):</th>  <td>   0.815</td>  \n",
       "</tr>\n",
       "<tr>\n",
       "  <th>Method:</th>             <td>Least Squares</td>  <th>  F-statistic:       </th>           <td>2.798e+04</td> \n",
       "</tr>\n",
       "<tr>\n",
       "  <th>Date:</th>             <td>Mon, 01 Jun 2020</td> <th>  Prob (F-statistic):</th>            <td>  0.00</td>   \n",
       "</tr>\n",
       "<tr>\n",
       "  <th>Time:</th>                 <td>21:33:59</td>     <th>  Log-Likelihood:    </th>          <td>-2.6350e+05</td>\n",
       "</tr>\n",
       "<tr>\n",
       "  <th>No. Observations:</th>      <td> 19002</td>      <th>  AIC:               </th>           <td>5.270e+05</td> \n",
       "</tr>\n",
       "<tr>\n",
       "  <th>Df Residuals:</th>          <td> 18999</td>      <th>  BIC:               </th>           <td>5.270e+05</td> \n",
       "</tr>\n",
       "<tr>\n",
       "  <th>Df Model:</th>              <td>     3</td>      <th>                     </th>               <td> </td>     \n",
       "</tr>\n",
       "<tr>\n",
       "  <th>Covariance Type:</th>      <td>nonrobust</td>    <th>                     </th>               <td> </td>     \n",
       "</tr>\n",
       "</table>\n",
       "<table class=\"simpletable\">\n",
       "<tr>\n",
       "            <td></td>              <th>coef</th>     <th>std err</th>      <th>t</th>      <th>P>|t|</th>  <th>[0.025</th>    <th>0.975]</th>  \n",
       "</tr>\n",
       "<tr>\n",
       "  <th>distance_from_a_city</th> <td>-9591.1695</td> <td>  175.058</td> <td>  -54.788</td> <td> 0.000</td> <td>-9934.300</td> <td>-9248.039</td>\n",
       "</tr>\n",
       "<tr>\n",
       "  <th>Age_of_House</th>         <td>  451.7457</td> <td>   54.920</td> <td>    8.225</td> <td> 0.000</td> <td>  344.097</td> <td>  559.394</td>\n",
       "</tr>\n",
       "<tr>\n",
       "  <th>bedrooms</th>             <td> 1.869e+05</td> <td> 1196.172</td> <td>  156.256</td> <td> 0.000</td> <td> 1.85e+05</td> <td> 1.89e+05</td>\n",
       "</tr>\n",
       "</table>\n",
       "<table class=\"simpletable\">\n",
       "<tr>\n",
       "  <th>Omnibus:</th>       <td>4793.386</td> <th>  Durbin-Watson:     </th> <td>   1.960</td> \n",
       "</tr>\n",
       "<tr>\n",
       "  <th>Prob(Omnibus):</th>  <td> 0.000</td>  <th>  Jarque-Bera (JB):  </th> <td>17342.513</td>\n",
       "</tr>\n",
       "<tr>\n",
       "  <th>Skew:</th>           <td> 1.238</td>  <th>  Prob(JB):          </th> <td>    0.00</td> \n",
       "</tr>\n",
       "<tr>\n",
       "  <th>Kurtosis:</th>       <td> 6.972</td>  <th>  Cond. No.          </th> <td>    38.0</td> \n",
       "</tr>\n",
       "</table><br/><br/>Warnings:<br/>[1] Standard Errors assume that the covariance matrix of the errors is correctly specified."
      ],
      "text/plain": [
       "<class 'statsmodels.iolib.summary.Summary'>\n",
       "\"\"\"\n",
       "                                 OLS Regression Results                                \n",
       "=======================================================================================\n",
       "Dep. Variable:                  price   R-squared (uncentered):                   0.815\n",
       "Model:                            OLS   Adj. R-squared (uncentered):              0.815\n",
       "Method:                 Least Squares   F-statistic:                          2.798e+04\n",
       "Date:                Mon, 01 Jun 2020   Prob (F-statistic):                        0.00\n",
       "Time:                        21:33:59   Log-Likelihood:                     -2.6350e+05\n",
       "No. Observations:               19002   AIC:                                  5.270e+05\n",
       "Df Residuals:                   18999   BIC:                                  5.270e+05\n",
       "Df Model:                           3                                                  \n",
       "Covariance Type:            nonrobust                                                  \n",
       "========================================================================================\n",
       "                           coef    std err          t      P>|t|      [0.025      0.975]\n",
       "----------------------------------------------------------------------------------------\n",
       "distance_from_a_city -9591.1695    175.058    -54.788      0.000   -9934.300   -9248.039\n",
       "Age_of_House           451.7457     54.920      8.225      0.000     344.097     559.394\n",
       "bedrooms              1.869e+05   1196.172    156.256      0.000    1.85e+05    1.89e+05\n",
       "==============================================================================\n",
       "Omnibus:                     4793.386   Durbin-Watson:                   1.960\n",
       "Prob(Omnibus):                  0.000   Jarque-Bera (JB):            17342.513\n",
       "Skew:                           1.238   Prob(JB):                         0.00\n",
       "Kurtosis:                       6.972   Cond. No.                         38.0\n",
       "==============================================================================\n",
       "\n",
       "Warnings:\n",
       "[1] Standard Errors assume that the covariance matrix of the errors is correctly specified.\n",
       "\"\"\""
      ]
     },
     "execution_count": 114,
     "metadata": {},
     "output_type": "execute_result"
    }
   ],
   "source": [
    "model = sm.OLS(y,X).fit()\n",
    "model.summary()"
   ]
  },
  {
   "cell_type": "code",
   "execution_count": 117,
   "metadata": {},
   "outputs": [
    {
     "data": {
      "text/plain": [
       "[('distance_from_a_city', 3.0168785935197633),\n",
       " ('Age_of_House', 2.8729753783460166),\n",
       " ('bedrooms', 5.041371333526612)]"
      ]
     },
     "execution_count": 117,
     "metadata": {},
     "output_type": "execute_result"
    }
   ],
   "source": [
    "# Your code here - Code a way to identify multicollinearity\n",
    "from statsmodels.stats.outliers_influence import variance_inflation_factor\n",
    "X = df[x_cols]\n",
    "vif = [variance_inflation_factor(X.values,i) for i in range(X.shape[1])]\n",
    "list(zip(x_cols,vif))"
   ]
  },
  {
   "cell_type": "code",
   "execution_count": 118,
   "metadata": {},
   "outputs": [
    {
     "name": "stdout",
     "output_type": "stream",
     "text": [
      "3 2\n"
     ]
    }
   ],
   "source": [
    "vif_scores = list(zip(x_cols, vif))\n",
    "x_cols = [x for x,vif in vif_scores if vif < 5]\n",
    "print(len(vif_scores), len(x_cols))"
   ]
  },
  {
   "cell_type": "code",
   "execution_count": 119,
   "metadata": {},
   "outputs": [],
   "source": [
    "X = df[x_cols]"
   ]
  },
  {
   "cell_type": "code",
   "execution_count": 120,
   "metadata": {},
   "outputs": [
    {
     "data": {
      "text/html": [
       "<table class=\"simpletable\">\n",
       "<caption>OLS Regression Results</caption>\n",
       "<tr>\n",
       "  <th>Dep. Variable:</th>          <td>price</td>      <th>  R-squared (uncentered):</th>       <td>   0.578</td>  \n",
       "</tr>\n",
       "<tr>\n",
       "  <th>Model:</th>                   <td>OLS</td>       <th>  Adj. R-squared (uncentered):</th>  <td>   0.578</td>  \n",
       "</tr>\n",
       "<tr>\n",
       "  <th>Method:</th>             <td>Least Squares</td>  <th>  F-statistic:       </th>           <td>1.303e+04</td> \n",
       "</tr>\n",
       "<tr>\n",
       "  <th>Date:</th>             <td>Mon, 01 Jun 2020</td> <th>  Prob (F-statistic):</th>            <td>  0.00</td>   \n",
       "</tr>\n",
       "<tr>\n",
       "  <th>Time:</th>                 <td>21:34:12</td>     <th>  Log-Likelihood:    </th>          <td>-2.7135e+05</td>\n",
       "</tr>\n",
       "<tr>\n",
       "  <th>No. Observations:</th>      <td> 19002</td>      <th>  AIC:               </th>           <td>5.427e+05</td> \n",
       "</tr>\n",
       "<tr>\n",
       "  <th>Df Residuals:</th>          <td> 19000</td>      <th>  BIC:               </th>           <td>5.427e+05</td> \n",
       "</tr>\n",
       "<tr>\n",
       "  <th>Df Model:</th>              <td>     2</td>      <th>                     </th>               <td> </td>     \n",
       "</tr>\n",
       "<tr>\n",
       "  <th>Covariance Type:</th>      <td>nonrobust</td>    <th>                     </th>               <td> </td>     \n",
       "</tr>\n",
       "</table>\n",
       "<table class=\"simpletable\">\n",
       "<tr>\n",
       "            <td></td>              <th>coef</th>     <th>std err</th>      <th>t</th>      <th>P>|t|</th>  <th>[0.025</th>    <th>0.975]</th>  \n",
       "</tr>\n",
       "<tr>\n",
       "  <th>distance_from_a_city</th> <td> 8367.3242</td> <td>  199.605</td> <td>   41.919</td> <td> 0.000</td> <td> 7976.080</td> <td> 8758.569</td>\n",
       "</tr>\n",
       "<tr>\n",
       "  <th>Age_of_House</th>         <td> 5896.3265</td> <td>   64.170</td> <td>   91.886</td> <td> 0.000</td> <td> 5770.547</td> <td> 6022.106</td>\n",
       "</tr>\n",
       "</table>\n",
       "<table class=\"simpletable\">\n",
       "<tr>\n",
       "  <th>Omnibus:</th>       <td>3282.153</td> <th>  Durbin-Watson:     </th> <td>   1.738</td>\n",
       "</tr>\n",
       "<tr>\n",
       "  <th>Prob(Omnibus):</th>  <td> 0.000</td>  <th>  Jarque-Bera (JB):  </th> <td>6554.103</td>\n",
       "</tr>\n",
       "<tr>\n",
       "  <th>Skew:</th>           <td> 1.049</td>  <th>  Prob(JB):          </th> <td>    0.00</td>\n",
       "</tr>\n",
       "<tr>\n",
       "  <th>Kurtosis:</th>       <td> 4.968</td>  <th>  Cond. No.          </th> <td>    4.26</td>\n",
       "</tr>\n",
       "</table><br/><br/>Warnings:<br/>[1] Standard Errors assume that the covariance matrix of the errors is correctly specified."
      ],
      "text/plain": [
       "<class 'statsmodels.iolib.summary.Summary'>\n",
       "\"\"\"\n",
       "                                 OLS Regression Results                                \n",
       "=======================================================================================\n",
       "Dep. Variable:                  price   R-squared (uncentered):                   0.578\n",
       "Model:                            OLS   Adj. R-squared (uncentered):              0.578\n",
       "Method:                 Least Squares   F-statistic:                          1.303e+04\n",
       "Date:                Mon, 01 Jun 2020   Prob (F-statistic):                        0.00\n",
       "Time:                        21:34:12   Log-Likelihood:                     -2.7135e+05\n",
       "No. Observations:               19002   AIC:                                  5.427e+05\n",
       "Df Residuals:                   19000   BIC:                                  5.427e+05\n",
       "Df Model:                           2                                                  \n",
       "Covariance Type:            nonrobust                                                  \n",
       "========================================================================================\n",
       "                           coef    std err          t      P>|t|      [0.025      0.975]\n",
       "----------------------------------------------------------------------------------------\n",
       "distance_from_a_city  8367.3242    199.605     41.919      0.000    7976.080    8758.569\n",
       "Age_of_House          5896.3265     64.170     91.886      0.000    5770.547    6022.106\n",
       "==============================================================================\n",
       "Omnibus:                     3282.153   Durbin-Watson:                   1.738\n",
       "Prob(Omnibus):                  0.000   Jarque-Bera (JB):             6554.103\n",
       "Skew:                           1.049   Prob(JB):                         0.00\n",
       "Kurtosis:                       4.968   Cond. No.                         4.26\n",
       "==============================================================================\n",
       "\n",
       "Warnings:\n",
       "[1] Standard Errors assume that the covariance matrix of the errors is correctly specified.\n",
       "\"\"\""
      ]
     },
     "execution_count": 120,
     "metadata": {},
     "output_type": "execute_result"
    }
   ],
   "source": [
    "model = sm.OLS(y,X).fit()\n",
    "model.summary()"
   ]
  },
  {
   "cell_type": "code",
   "execution_count": 193,
   "metadata": {},
   "outputs": [
    {
     "name": "stdout",
     "output_type": "stream",
     "text": [
      "15 15\n",
      "['bathrooms_log', 'bedrooms_log', 'distance_from_city_log', 'floor_1.5', 'floor_2.0']\n"
     ]
    },
    {
     "data": {
      "text/html": [
       "<div>\n",
       "<style scoped>\n",
       "    .dataframe tbody tr th:only-of-type {\n",
       "        vertical-align: middle;\n",
       "    }\n",
       "\n",
       "    .dataframe tbody tr th {\n",
       "        vertical-align: top;\n",
       "    }\n",
       "\n",
       "    .dataframe thead th {\n",
       "        text-align: right;\n",
       "    }\n",
       "</style>\n",
       "<table border=\"1\" class=\"dataframe\">\n",
       "  <thead>\n",
       "    <tr style=\"text-align: right;\">\n",
       "      <th></th>\n",
       "      <th>coef</th>\n",
       "      <th>std err</th>\n",
       "      <th>t</th>\n",
       "      <th>P&gt;|t|</th>\n",
       "      <th>[0.025</th>\n",
       "      <th>0.975]</th>\n",
       "    </tr>\n",
       "    <tr>\n",
       "      <th></th>\n",
       "      <th></th>\n",
       "      <th></th>\n",
       "      <th></th>\n",
       "      <th></th>\n",
       "      <th></th>\n",
       "      <th></th>\n",
       "    </tr>\n",
       "  </thead>\n",
       "  <tbody>\n",
       "    <tr>\n",
       "      <td>bathrooms_log</td>\n",
       "      <td>-5.437e+04</td>\n",
       "      <td>2759.808</td>\n",
       "      <td>-19.702</td>\n",
       "      <td>0.0</td>\n",
       "      <td>-5.98e+04</td>\n",
       "      <td>-4.9e+04</td>\n",
       "    </tr>\n",
       "    <tr>\n",
       "      <td>bedrooms_log</td>\n",
       "      <td>3.496e+04</td>\n",
       "      <td>2527.895</td>\n",
       "      <td>13.830</td>\n",
       "      <td>0.0</td>\n",
       "      <td>3e+04</td>\n",
       "      <td>3.99e+04</td>\n",
       "    </tr>\n",
       "    <tr>\n",
       "      <td>distance_from_city_log</td>\n",
       "      <td>-4.886e+04</td>\n",
       "      <td>2274.722</td>\n",
       "      <td>-21.479</td>\n",
       "      <td>0.0</td>\n",
       "      <td>-5.33e+04</td>\n",
       "      <td>-4.44e+04</td>\n",
       "    </tr>\n",
       "    <tr>\n",
       "      <td>floor_1.5</td>\n",
       "      <td>3.055e+05</td>\n",
       "      <td>7447.323</td>\n",
       "      <td>41.023</td>\n",
       "      <td>0.0</td>\n",
       "      <td>2.91e+05</td>\n",
       "      <td>3.2e+05</td>\n",
       "    </tr>\n",
       "    <tr>\n",
       "      <td>floor_2.0</td>\n",
       "      <td>5.039e+05</td>\n",
       "      <td>3926.002</td>\n",
       "      <td>128.347</td>\n",
       "      <td>0.0</td>\n",
       "      <td>4.96e+05</td>\n",
       "      <td>5.12e+05</td>\n",
       "    </tr>\n",
       "  </tbody>\n",
       "</table>\n",
       "</div>"
      ],
      "text/plain": [
       "0                             coef    std err          t  P>|t|     [0.025  \\\n",
       "                                                                             \n",
       "bathrooms_log           -5.437e+04   2759.808    -19.702    0.0  -5.98e+04   \n",
       "bedrooms_log             3.496e+04   2527.895     13.830    0.0      3e+04   \n",
       "distance_from_city_log  -4.886e+04   2274.722    -21.479    0.0  -5.33e+04   \n",
       "floor_1.5                3.055e+05   7447.323     41.023    0.0   2.91e+05   \n",
       "floor_2.0                5.039e+05   3926.002    128.347    0.0   4.96e+05   \n",
       "\n",
       "0                          0.975]  \n",
       "                                   \n",
       "bathrooms_log            -4.9e+04  \n",
       "bedrooms_log             3.99e+04  \n",
       "distance_from_city_log  -4.44e+04  \n",
       "floor_1.5                 3.2e+05  \n",
       "floor_2.0                5.12e+05  "
      ]
     },
     "execution_count": 193,
     "metadata": {},
     "output_type": "execute_result"
    }
   ],
   "source": [
    "summary = model.summary()\n",
    "p_table = summary.tables[1]\n",
    "p_table = pd.DataFrame(p_table.data)\n",
    "p_table.columns = p_table.iloc[0]\n",
    "p_table = p_table.drop(0)\n",
    "p_table = p_table.set_index(p_table.columns[0])\n",
    "p_table['P>|t|'] = p_table['P>|t|'].astype(float)\n",
    "x_cols = list(p_table[p_table['P>|t|'] < 0.05].index)\n",
    "print(len(p_table), len(x_cols))\n",
    "print(x_cols[:5])\n",
    "p_table.head()"
   ]
  },
  {
   "cell_type": "code",
   "execution_count": 194,
   "metadata": {},
   "outputs": [],
   "source": [
    "X = dfnew[x_cols]"
   ]
  },
  {
   "cell_type": "code",
   "execution_count": 195,
   "metadata": {},
   "outputs": [
    {
     "data": {
      "text/html": [
       "<table class=\"simpletable\">\n",
       "<caption>OLS Regression Results</caption>\n",
       "<tr>\n",
       "  <th>Dep. Variable:</th>          <td>price</td>      <th>  R-squared (uncentered):</th>       <td>   0.738</td>  \n",
       "</tr>\n",
       "<tr>\n",
       "  <th>Model:</th>                   <td>OLS</td>       <th>  Adj. R-squared (uncentered):</th>  <td>   0.738</td>  \n",
       "</tr>\n",
       "<tr>\n",
       "  <th>Method:</th>             <td>Least Squares</td>  <th>  F-statistic:       </th>           <td>   3897.</td>  \n",
       "</tr>\n",
       "<tr>\n",
       "  <th>Date:</th>             <td>Mon, 01 Jun 2020</td> <th>  Prob (F-statistic):</th>            <td>  0.00</td>   \n",
       "</tr>\n",
       "<tr>\n",
       "  <th>Time:</th>                 <td>16:05:23</td>     <th>  Log-Likelihood:    </th>          <td>-2.9113e+05</td>\n",
       "</tr>\n",
       "<tr>\n",
       "  <th>No. Observations:</th>      <td> 20754</td>      <th>  AIC:               </th>           <td>5.823e+05</td> \n",
       "</tr>\n",
       "<tr>\n",
       "  <th>Df Residuals:</th>          <td> 20739</td>      <th>  BIC:               </th>           <td>5.824e+05</td> \n",
       "</tr>\n",
       "<tr>\n",
       "  <th>Df Model:</th>              <td>    15</td>      <th>                     </th>               <td> </td>     \n",
       "</tr>\n",
       "<tr>\n",
       "  <th>Covariance Type:</th>      <td>nonrobust</td>    <th>                     </th>               <td> </td>     \n",
       "</tr>\n",
       "</table>\n",
       "<table class=\"simpletable\">\n",
       "<tr>\n",
       "             <td></td>               <th>coef</th>     <th>std err</th>      <th>t</th>      <th>P>|t|</th>  <th>[0.025</th>    <th>0.975]</th>  \n",
       "</tr>\n",
       "<tr>\n",
       "  <th>bathrooms_log</th>          <td>-5.437e+04</td> <td> 2759.808</td> <td>  -19.702</td> <td> 0.000</td> <td>-5.98e+04</td> <td> -4.9e+04</td>\n",
       "</tr>\n",
       "<tr>\n",
       "  <th>bedrooms_log</th>           <td> 3.496e+04</td> <td> 2527.895</td> <td>   13.830</td> <td> 0.000</td> <td>    3e+04</td> <td> 3.99e+04</td>\n",
       "</tr>\n",
       "<tr>\n",
       "  <th>distance_from_city_log</th> <td>-4.886e+04</td> <td> 2274.722</td> <td>  -21.479</td> <td> 0.000</td> <td>-5.33e+04</td> <td>-4.44e+04</td>\n",
       "</tr>\n",
       "<tr>\n",
       "  <th>floor_1.5</th>              <td> 3.055e+05</td> <td> 7447.323</td> <td>   41.023</td> <td> 0.000</td> <td> 2.91e+05</td> <td>  3.2e+05</td>\n",
       "</tr>\n",
       "<tr>\n",
       "  <th>floor_2.0</th>              <td> 5.039e+05</td> <td> 3926.002</td> <td>  128.347</td> <td> 0.000</td> <td> 4.96e+05</td> <td> 5.12e+05</td>\n",
       "</tr>\n",
       "<tr>\n",
       "  <th>floor_3.0</th>              <td> 4.303e+05</td> <td> 1.27e+04</td> <td>   33.788</td> <td> 0.000</td> <td> 4.05e+05</td> <td> 4.55e+05</td>\n",
       "</tr>\n",
       "<tr>\n",
       "  <th>view_1.0</th>               <td> 2.867e+05</td> <td> 1.72e+04</td> <td>   16.641</td> <td> 0.000</td> <td> 2.53e+05</td> <td>  3.2e+05</td>\n",
       "</tr>\n",
       "<tr>\n",
       "  <th>view_2.0</th>               <td> 2.524e+05</td> <td> 1.04e+04</td> <td>   24.234</td> <td> 0.000</td> <td> 2.32e+05</td> <td> 2.73e+05</td>\n",
       "</tr>\n",
       "<tr>\n",
       "  <th>view_3.0</th>               <td> 3.703e+05</td> <td> 1.46e+04</td> <td>   25.373</td> <td> 0.000</td> <td> 3.42e+05</td> <td> 3.99e+05</td>\n",
       "</tr>\n",
       "<tr>\n",
       "  <th>view_4.0</th>               <td> 5.673e+05</td> <td> 1.96e+04</td> <td>   28.907</td> <td> 0.000</td> <td> 5.29e+05</td> <td> 6.06e+05</td>\n",
       "</tr>\n",
       "<tr>\n",
       "  <th>grade_4</th>                <td> 1.691e+05</td> <td>  5.8e+04</td> <td>    2.916</td> <td> 0.004</td> <td> 5.54e+04</td> <td> 2.83e+05</td>\n",
       "</tr>\n",
       "<tr>\n",
       "  <th>grade_12</th>               <td>  8.75e+05</td> <td> 5.31e+04</td> <td>   16.464</td> <td> 0.000</td> <td> 7.71e+05</td> <td> 9.79e+05</td>\n",
       "</tr>\n",
       "<tr>\n",
       "  <th>water_True</th>             <td> 1.179e+05</td> <td> 6471.472</td> <td>   18.226</td> <td> 0.000</td> <td> 1.05e+05</td> <td> 1.31e+05</td>\n",
       "</tr>\n",
       "<tr>\n",
       "  <th>base_True</th>              <td> 3.558e+05</td> <td> 3797.244</td> <td>   93.699</td> <td> 0.000</td> <td> 3.48e+05</td> <td> 3.63e+05</td>\n",
       "</tr>\n",
       "<tr>\n",
       "  <th>distance_from_airport</th>  <td> 6.178e+04</td> <td> 2122.990</td> <td>   29.100</td> <td> 0.000</td> <td> 5.76e+04</td> <td> 6.59e+04</td>\n",
       "</tr>\n",
       "</table>\n",
       "<table class=\"simpletable\">\n",
       "<tr>\n",
       "  <th>Omnibus:</th>       <td>1879.749</td> <th>  Durbin-Watson:     </th> <td>   1.718</td>\n",
       "</tr>\n",
       "<tr>\n",
       "  <th>Prob(Omnibus):</th>  <td> 0.000</td>  <th>  Jarque-Bera (JB):  </th> <td>4362.408</td>\n",
       "</tr>\n",
       "<tr>\n",
       "  <th>Skew:</th>           <td> 0.559</td>  <th>  Prob(JB):          </th> <td>    0.00</td>\n",
       "</tr>\n",
       "<tr>\n",
       "  <th>Kurtosis:</th>       <td> 4.948</td>  <th>  Cond. No.          </th> <td>    36.2</td>\n",
       "</tr>\n",
       "</table><br/><br/>Warnings:<br/>[1] Standard Errors assume that the covariance matrix of the errors is correctly specified."
      ],
      "text/plain": [
       "<class 'statsmodels.iolib.summary.Summary'>\n",
       "\"\"\"\n",
       "                                 OLS Regression Results                                \n",
       "=======================================================================================\n",
       "Dep. Variable:                  price   R-squared (uncentered):                   0.738\n",
       "Model:                            OLS   Adj. R-squared (uncentered):              0.738\n",
       "Method:                 Least Squares   F-statistic:                              3897.\n",
       "Date:                Mon, 01 Jun 2020   Prob (F-statistic):                        0.00\n",
       "Time:                        16:05:23   Log-Likelihood:                     -2.9113e+05\n",
       "No. Observations:               20754   AIC:                                  5.823e+05\n",
       "Df Residuals:                   20739   BIC:                                  5.824e+05\n",
       "Df Model:                          15                                                  \n",
       "Covariance Type:            nonrobust                                                  \n",
       "==========================================================================================\n",
       "                             coef    std err          t      P>|t|      [0.025      0.975]\n",
       "------------------------------------------------------------------------------------------\n",
       "bathrooms_log          -5.437e+04   2759.808    -19.702      0.000   -5.98e+04    -4.9e+04\n",
       "bedrooms_log            3.496e+04   2527.895     13.830      0.000       3e+04    3.99e+04\n",
       "distance_from_city_log -4.886e+04   2274.722    -21.479      0.000   -5.33e+04   -4.44e+04\n",
       "floor_1.5               3.055e+05   7447.323     41.023      0.000    2.91e+05     3.2e+05\n",
       "floor_2.0               5.039e+05   3926.002    128.347      0.000    4.96e+05    5.12e+05\n",
       "floor_3.0               4.303e+05   1.27e+04     33.788      0.000    4.05e+05    4.55e+05\n",
       "view_1.0                2.867e+05   1.72e+04     16.641      0.000    2.53e+05     3.2e+05\n",
       "view_2.0                2.524e+05   1.04e+04     24.234      0.000    2.32e+05    2.73e+05\n",
       "view_3.0                3.703e+05   1.46e+04     25.373      0.000    3.42e+05    3.99e+05\n",
       "view_4.0                5.673e+05   1.96e+04     28.907      0.000    5.29e+05    6.06e+05\n",
       "grade_4                 1.691e+05    5.8e+04      2.916      0.004    5.54e+04    2.83e+05\n",
       "grade_12                 8.75e+05   5.31e+04     16.464      0.000    7.71e+05    9.79e+05\n",
       "water_True              1.179e+05   6471.472     18.226      0.000    1.05e+05    1.31e+05\n",
       "base_True               3.558e+05   3797.244     93.699      0.000    3.48e+05    3.63e+05\n",
       "distance_from_airport   6.178e+04   2122.990     29.100      0.000    5.76e+04    6.59e+04\n",
       "==============================================================================\n",
       "Omnibus:                     1879.749   Durbin-Watson:                   1.718\n",
       "Prob(Omnibus):                  0.000   Jarque-Bera (JB):             4362.408\n",
       "Skew:                           0.559   Prob(JB):                         0.00\n",
       "Kurtosis:                       4.948   Cond. No.                         36.2\n",
       "==============================================================================\n",
       "\n",
       "Warnings:\n",
       "[1] Standard Errors assume that the covariance matrix of the errors is correctly specified.\n",
       "\"\"\""
      ]
     },
     "execution_count": 195,
     "metadata": {},
     "output_type": "execute_result"
    }
   ],
   "source": [
    "model = sm.OLS(y,X).fit()\n",
    "model.summary()"
   ]
  },
  {
   "cell_type": "code",
   "execution_count": 198,
   "metadata": {},
   "outputs": [],
   "source": [
    "resids = model.resid"
   ]
  },
  {
   "cell_type": "code",
   "execution_count": 200,
   "metadata": {},
   "outputs": [],
   "source": [
    "def plot_residuals(resids):\n",
    "    plt.hist(resids)\n",
    "    plt.title(\"Residuals\")\n",
    "    plt.show()\n",
    "    \n",
    "    xspace = np.linspace(0, 1, len(resids))\n",
    "    plt.scatter(x, resids)\n",
    "    plt.title(\"resids\")\n",
    "    plt.hlines(0, xmin=0, xmax=1)\n",
    "    plt.show()"
   ]
  },
  {
   "cell_type": "code",
   "execution_count": 201,
   "metadata": {},
   "outputs": [
    {
     "data": {
      "image/png": "[encoded data removed]",
      "text/plain": [
       "<Figure size 432x288 with 1 Axes>"
      ]
     },
     "metadata": {
      "needs_background": "light"
     },
     "output_type": "display_data"
    },
    {
     "ename": "NameError",
     "evalue": "name 'x' is not defined",
     "output_type": "error",
     "traceback": [
      "\u001b[0;31m---------------------------------------------------------------------------\u001b[0m",
      "\u001b[0;31mNameError\u001b[0m                                 Traceback (most recent call last)",
      "\u001b[0;32m<ipython-input-201-a0da60b6e239>\u001b[0m in \u001b[0;36m<module>\u001b[0;34m\u001b[0m\n\u001b[0;32m----> 1\u001b[0;31m \u001b[0mplot_residuals\u001b[0m\u001b[0;34m(\u001b[0m\u001b[0mresids\u001b[0m\u001b[0;34m)\u001b[0m\u001b[0;34m\u001b[0m\u001b[0;34m\u001b[0m\u001b[0m\n\u001b[0m",
      "\u001b[0;32m<ipython-input-200-60f6f991a033>\u001b[0m in \u001b[0;36mplot_residuals\u001b[0;34m(resids)\u001b[0m\n\u001b[1;32m      5\u001b[0m \u001b[0;34m\u001b[0m\u001b[0m\n\u001b[1;32m      6\u001b[0m     \u001b[0mxspace\u001b[0m \u001b[0;34m=\u001b[0m \u001b[0mnp\u001b[0m\u001b[0;34m.\u001b[0m\u001b[0mlinspace\u001b[0m\u001b[0;34m(\u001b[0m\u001b[0;36m0\u001b[0m\u001b[0;34m,\u001b[0m \u001b[0;36m1\u001b[0m\u001b[0;34m,\u001b[0m \u001b[0mlen\u001b[0m\u001b[0;34m(\u001b[0m\u001b[0mresids\u001b[0m\u001b[0;34m)\u001b[0m\u001b[0;34m)\u001b[0m\u001b[0;34m\u001b[0m\u001b[0;34m\u001b[0m\u001b[0m\n\u001b[0;32m----> 7\u001b[0;31m     \u001b[0mplt\u001b[0m\u001b[0;34m.\u001b[0m\u001b[0mscatter\u001b[0m\u001b[0;34m(\u001b[0m\u001b[0mx\u001b[0m\u001b[0;34m,\u001b[0m \u001b[0mresids\u001b[0m\u001b[0;34m)\u001b[0m\u001b[0;34m\u001b[0m\u001b[0;34m\u001b[0m\u001b[0m\n\u001b[0m\u001b[1;32m      8\u001b[0m     \u001b[0mplt\u001b[0m\u001b[0;34m.\u001b[0m\u001b[0mtitle\u001b[0m\u001b[0;34m(\u001b[0m\u001b[0;34m\"resids\"\u001b[0m\u001b[0;34m)\u001b[0m\u001b[0;34m\u001b[0m\u001b[0;34m\u001b[0m\u001b[0m\n\u001b[1;32m      9\u001b[0m     \u001b[0mplt\u001b[0m\u001b[0;34m.\u001b[0m\u001b[0mhlines\u001b[0m\u001b[0;34m(\u001b[0m\u001b[0;36m0\u001b[0m\u001b[0;34m,\u001b[0m \u001b[0mxmin\u001b[0m\u001b[0;34m=\u001b[0m\u001b[0;36m0\u001b[0m\u001b[0;34m,\u001b[0m \u001b[0mxmax\u001b[0m\u001b[0;34m=\u001b[0m\u001b[0;36m1\u001b[0m\u001b[0;34m)\u001b[0m\u001b[0;34m\u001b[0m\u001b[0;34m\u001b[0m\u001b[0m\n",
      "\u001b[0;31mNameError\u001b[0m: name 'x' is not defined"
     ]
    }
   ],
   "source": [
    "plot_residuals(resids)"
   ]
  },
  {
   "cell_type": "code",
   "execution_count": 202,
   "metadata": {},
   "outputs": [],
   "source": [
    "finaldf = dfnew[x_cols]"
   ]
  },
  {
   "cell_type": "code",
   "execution_count": 206,
   "metadata": {},
   "outputs": [
    {
     "name": "stderr",
     "output_type": "stream",
     "text": [
      "/opt/anaconda3/envs/learn-env/lib/python3.6/site-packages/ipykernel_launcher.py:1: SettingWithCopyWarning: \n",
      "A value is trying to be set on a copy of a slice from a DataFrame.\n",
      "Try using .loc[row_indexer,col_indexer] = value instead\n",
      "\n",
      "See the caveats in the documentation: http://pandas.pydata.org/pandas-docs/stable/user_guide/indexing.html#returning-a-view-versus-a-copy\n",
      "  \"\"\"Entry point for launching an IPython kernel.\n"
     ]
    }
   ],
   "source": [
    "finaldf['price']=dfnew['price']"
   ]
  },
  {
   "cell_type": "code",
   "execution_count": 208,
   "metadata": {},
   "outputs": [
    {
     "data": {
      "text/html": [
       "<div>\n",
       "<style scoped>\n",
       "    .dataframe tbody tr th:only-of-type {\n",
       "        vertical-align: middle;\n",
       "    }\n",
       "\n",
       "    .dataframe tbody tr th {\n",
       "        vertical-align: top;\n",
       "    }\n",
       "\n",
       "    .dataframe thead th {\n",
       "        text-align: right;\n",
       "    }\n",
       "</style>\n",
       "<table border=\"1\" class=\"dataframe\">\n",
       "  <thead>\n",
       "    <tr style=\"text-align: right;\">\n",
       "      <th></th>\n",
       "      <th>bathrooms_log</th>\n",
       "      <th>bedrooms_log</th>\n",
       "      <th>distance_from_city_log</th>\n",
       "      <th>floor_1.5</th>\n",
       "      <th>floor_2.0</th>\n",
       "      <th>floor_3.0</th>\n",
       "      <th>view_1.0</th>\n",
       "      <th>view_2.0</th>\n",
       "      <th>view_3.0</th>\n",
       "      <th>view_4.0</th>\n",
       "      <th>grade_4</th>\n",
       "      <th>grade_12</th>\n",
       "      <th>water_True</th>\n",
       "      <th>base_True</th>\n",
       "      <th>distance_from_airport</th>\n",
       "      <th>price</th>\n",
       "    </tr>\n",
       "  </thead>\n",
       "  <tbody>\n",
       "    <tr>\n",
       "      <td>0</td>\n",
       "      <td>-1.725633</td>\n",
       "      <td>-0.263045</td>\n",
       "      <td>-0.327227</td>\n",
       "      <td>0</td>\n",
       "      <td>0</td>\n",
       "      <td>0</td>\n",
       "      <td>0</td>\n",
       "      <td>0</td>\n",
       "      <td>0</td>\n",
       "      <td>0</td>\n",
       "      <td>0</td>\n",
       "      <td>0</td>\n",
       "      <td>1</td>\n",
       "      <td>0</td>\n",
       "      <td>-1.391529</td>\n",
       "      <td>221900.0</td>\n",
       "    </tr>\n",
       "    <tr>\n",
       "      <td>1</td>\n",
       "      <td>0.381165</td>\n",
       "      <td>-0.263045</td>\n",
       "      <td>-0.282862</td>\n",
       "      <td>0</td>\n",
       "      <td>1</td>\n",
       "      <td>0</td>\n",
       "      <td>0</td>\n",
       "      <td>0</td>\n",
       "      <td>0</td>\n",
       "      <td>0</td>\n",
       "      <td>0</td>\n",
       "      <td>0</td>\n",
       "      <td>0</td>\n",
       "      <td>1</td>\n",
       "      <td>0.992174</td>\n",
       "      <td>538000.0</td>\n",
       "    </tr>\n",
       "    <tr>\n",
       "      <td>2</td>\n",
       "      <td>-1.725633</td>\n",
       "      <td>-1.715623</td>\n",
       "      <td>0.110589</td>\n",
       "      <td>0</td>\n",
       "      <td>0</td>\n",
       "      <td>0</td>\n",
       "      <td>0</td>\n",
       "      <td>0</td>\n",
       "      <td>0</td>\n",
       "      <td>0</td>\n",
       "      <td>0</td>\n",
       "      <td>0</td>\n",
       "      <td>0</td>\n",
       "      <td>0</td>\n",
       "      <td>1.229509</td>\n",
       "      <td>180000.0</td>\n",
       "    </tr>\n",
       "    <tr>\n",
       "      <td>3</td>\n",
       "      <td>1.128563</td>\n",
       "      <td>0.767575</td>\n",
       "      <td>-0.545192</td>\n",
       "      <td>0</td>\n",
       "      <td>0</td>\n",
       "      <td>0</td>\n",
       "      <td>0</td>\n",
       "      <td>0</td>\n",
       "      <td>0</td>\n",
       "      <td>0</td>\n",
       "      <td>0</td>\n",
       "      <td>0</td>\n",
       "      <td>0</td>\n",
       "      <td>1</td>\n",
       "      <td>-1.101136</td>\n",
       "      <td>604000.0</td>\n",
       "    </tr>\n",
       "    <tr>\n",
       "      <td>4</td>\n",
       "      <td>0.075164</td>\n",
       "      <td>-0.263045</td>\n",
       "      <td>0.547339</td>\n",
       "      <td>0</td>\n",
       "      <td>0</td>\n",
       "      <td>0</td>\n",
       "      <td>0</td>\n",
       "      <td>0</td>\n",
       "      <td>0</td>\n",
       "      <td>0</td>\n",
       "      <td>0</td>\n",
       "      <td>0</td>\n",
       "      <td>0</td>\n",
       "      <td>0</td>\n",
       "      <td>0.609922</td>\n",
       "      <td>510000.0</td>\n",
       "    </tr>\n",
       "  </tbody>\n",
       "</table>\n",
       "</div>"
      ],
      "text/plain": [
       "   bathrooms_log  bedrooms_log  distance_from_city_log  floor_1.5  floor_2.0  \\\n",
       "0      -1.725633     -0.263045               -0.327227          0          0   \n",
       "1       0.381165     -0.263045               -0.282862          0          1   \n",
       "2      -1.725633     -1.715623                0.110589          0          0   \n",
       "3       1.128563      0.767575               -0.545192          0          0   \n",
       "4       0.075164     -0.263045                0.547339          0          0   \n",
       "\n",
       "   floor_3.0  view_1.0  view_2.0  view_3.0  view_4.0  grade_4  grade_12  \\\n",
       "0          0         0         0         0         0        0         0   \n",
       "1          0         0         0         0         0        0         0   \n",
       "2          0         0         0         0         0        0         0   \n",
       "3          0         0         0         0         0        0         0   \n",
       "4          0         0         0         0         0        0         0   \n",
       "\n",
       "   water_True  base_True  distance_from_airport     price  \n",
       "0           1          0              -1.391529  221900.0  \n",
       "1           0          1               0.992174  538000.0  \n",
       "2           0          0               1.229509  180000.0  \n",
       "3           0          1              -1.101136  604000.0  \n",
       "4           0          0               0.609922  510000.0  "
      ]
     },
     "execution_count": 208,
     "metadata": {},
     "output_type": "execute_result"
    }
   ],
   "source": [
    "finaldf.head()"
   ]
  },
  {
   "cell_type": "code",
   "execution_count": 210,
   "metadata": {},
   "outputs": [],
   "source": [
    "X = finaldf.drop(columns='price',axis=1)\n",
    "y = finaldf['price']"
   ]
  },
  {
   "cell_type": "code",
   "execution_count": 211,
   "metadata": {},
   "outputs": [],
   "source": [
    "from sklearn.utils import shuffle\n",
    "from sklearn.linear_model import LinearRegression\n",
    "from sklearn.model_selection import train_test_split, cross_val_score\n",
    "from sklearn.preprocessing import StandardScaler\n",
    "from sklearn.feature_selection import RFE\n",
    "\n",
    "from sklearn.metrics import r2_score"
   ]
  },
  {
   "cell_type": "code",
   "execution_count": 212,
   "metadata": {},
   "outputs": [],
   "source": [
    "X_train, X_test, y_train, y_test = train_test_split(X, y, test_size=0.20)"
   ]
  },
  {
   "cell_type": "code",
   "execution_count": 213,
   "metadata": {},
   "outputs": [],
   "source": [
    "ols = LinearRegression(fit_intercept=False, normalize=False, n_jobs=-1)"
   ]
  },
  {
   "cell_type": "code",
   "execution_count": 214,
   "metadata": {},
   "outputs": [
    {
     "data": {
      "text/plain": [
       "LinearRegression(copy_X=True, fit_intercept=False, n_jobs=-1, normalize=False)"
      ]
     },
     "execution_count": 214,
     "metadata": {},
     "output_type": "execute_result"
    }
   ],
   "source": [
    "ols.fit(X_train, y_train)"
   ]
  },
  {
   "cell_type": "code",
   "execution_count": 215,
   "metadata": {},
   "outputs": [
    {
     "data": {
      "text/plain": [
       "array([-53332.5132314 ,  36172.48361048, -47234.35240599, 310484.13266737,\n",
       "       501916.52704855, 434467.40154718, 278928.51987673, 254338.34851773,\n",
       "       366880.15857828, 566205.4573405 , 174126.64140848, 884070.05869901,\n",
       "       117738.89663688, 356520.35516341,  62293.37376362])"
      ]
     },
     "execution_count": 215,
     "metadata": {},
     "output_type": "execute_result"
    }
   ],
   "source": [
    "ols.coef_"
   ]
  },
  {
   "cell_type": "code",
   "execution_count": 216,
   "metadata": {},
   "outputs": [
    {
     "data": {
      "text/plain": [
       "array([443858.76562084, 493749.3453514 , 109642.63657952, ...,\n",
       "        93883.35178784, 478668.88883879,  69928.77523556])"
      ]
     },
     "execution_count": 216,
     "metadata": {},
     "output_type": "execute_result"
    }
   ],
   "source": [
    "y_train_preds = ols.predict(X_train)\n",
    "y_train_preds\n"
   ]
  },
  {
   "cell_type": "code",
   "execution_count": 217,
   "metadata": {},
   "outputs": [
    {
     "data": {
      "text/plain": [
       "-0.13966763739390875"
      ]
     },
     "execution_count": 217,
     "metadata": {},
     "output_type": "execute_result"
    }
   ],
   "source": [
    "r2_score(y_train, y_train_preds)"
   ]
  },
  {
   "cell_type": "code",
   "execution_count": 218,
   "metadata": {},
   "outputs": [],
   "source": [
    "def get_score(model ,X_train, y_train):\n",
    "    y_train_preds = model.predict(X_train)"
   ]
  },
  {
   "cell_type": "code",
   "execution_count": 219,
   "metadata": {},
   "outputs": [
    {
     "data": {
      "text/plain": [
       "-0.13966763739390875"
      ]
     },
     "execution_count": 219,
     "metadata": {},
     "output_type": "execute_result"
    }
   ],
   "source": [
    "# r2 \n",
    "training_score = ols.score(X_train, y_train)\n",
    "# ols.score is calculating the y_train_preds and then using those to get the r2 score\n",
    "training_score"
   ]
  },
  {
   "cell_type": "code",
   "execution_count": 220,
   "metadata": {},
   "outputs": [
    {
     "data": {
      "text/plain": [
       "-0.13586864337811644"
      ]
     },
     "execution_count": 220,
     "metadata": {},
     "output_type": "execute_result"
    }
   ],
   "source": [
    "testing_score = ols.score(X_test, y_test)\n",
    "testing_score"
   ]
  },
  {
   "cell_type": "code",
   "execution_count": 221,
   "metadata": {},
   "outputs": [
    {
     "data": {
      "text/plain": [
       "array([-0.15329018, -0.16789171, -0.14617542, -0.07656858, -0.21379668])"
      ]
     },
     "execution_count": 221,
     "metadata": {},
     "output_type": "execute_result"
    }
   ],
   "source": [
    "# cv = 5 means 80/20 splits\n",
    "# cv = 10 means 90/10 splits\n",
    "# cv = 3 means 67/33 splits\n",
    "\n",
    "cv_scores = cross_val_score(ols, X, y, scoring='r2', cv=5, n_jobs=-1) \n",
    "# cv breaks your data into that many equal pieces \n",
    "cv_scores"
   ]
  },
  {
   "cell_type": "code",
   "execution_count": 230,
   "metadata": {},
   "outputs": [],
   "source": [
    "rfe = RFE(ols, n_features_to_select=15, step=1, verbose=2)"
   ]
  },
  {
   "cell_type": "code",
   "execution_count": 231,
   "metadata": {},
   "outputs": [
    {
     "data": {
      "text/plain": [
       "RFE(estimator=LinearRegression(copy_X=True, fit_intercept=False, n_jobs=-1,\n",
       "                               normalize=False),\n",
       "    n_features_to_select=15, step=1, verbose=2)"
      ]
     },
     "execution_count": 231,
     "metadata": {},
     "output_type": "execute_result"
    }
   ],
   "source": [
    "X_all = finaldf.drop(columns=['price'])\n",
    "rfe.fit(X_all, y)"
   ]
  },
  {
   "cell_type": "code",
   "execution_count": 232,
   "metadata": {},
   "outputs": [
    {
     "data": {
      "text/plain": [
       "array([ True,  True,  True,  True,  True,  True,  True,  True,  True,\n",
       "        True,  True,  True,  True,  True,  True])"
      ]
     },
     "execution_count": 232,
     "metadata": {},
     "output_type": "execute_result"
    }
   ],
   "source": [
    "rfe.support_"
   ]
  },
  {
   "cell_type": "code",
   "execution_count": 233,
   "metadata": {},
   "outputs": [],
   "source": [
    "new_cols = X_all.columns[rfe.support_]"
   ]
  },
  {
   "cell_type": "code",
   "execution_count": 234,
   "metadata": {},
   "outputs": [
    {
     "data": {
      "text/plain": [
       "Index(['bathrooms_log', 'bedrooms_log', 'distance_from_city_log', 'floor_1.5',\n",
       "       'floor_2.0', 'floor_3.0', 'view_1.0', 'view_2.0', 'view_3.0',\n",
       "       'view_4.0', 'grade_4', 'grade_12', 'water_True', 'base_True',\n",
       "       'distance_from_airport'],\n",
       "      dtype='object')"
      ]
     },
     "execution_count": 234,
     "metadata": {},
     "output_type": "execute_result"
    }
   ],
   "source": [
    "new_cols"
   ]
  },
  {
   "cell_type": "code",
   "execution_count": null,
   "metadata": {},
   "outputs": [],
   "source": []
  }
 ],
 "metadata": {
  "kernelspec": {
   "display_name": "Python [conda env:learn-env] *",
   "language": "python",
   "name": "conda-env-learn-env-py"
  },
  "language_info": {
   "codemirror_mode": {
    "name": "ipython",
    "version": 3
   },
   "file_extension": ".py",
   "mimetype": "text/x-python",
   "name": "python",
   "nbconvert_exporter": "python",
   "pygments_lexer": "ipython3",
   "version": "3.6.9"
  }
 },
 "nbformat": 4,
 "nbformat_minor": 2
}
