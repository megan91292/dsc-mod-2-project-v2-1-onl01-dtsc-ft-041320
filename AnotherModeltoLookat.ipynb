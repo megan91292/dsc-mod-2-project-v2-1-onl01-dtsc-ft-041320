{
 "cells": [
  {
   "cell_type": "code",
   "execution_count": 1,
   "metadata": {},
   "outputs": [],
   "source": [
    "import pandas as pd\n",
    "import matplotlib.pyplot as plt\n",
    "import numpy as np\n",
    "import seaborn as sns\n",
    "sns.set_style('darkgrid')\n",
    "\n",
    "from statsmodels.formula.api import ols\n",
    "from statsmodels.stats.outliers_influence import variance_inflation_factor\n",
    "import statsmodels.api as sm\n",
    "import scipy.stats as stats\n",
    "from sklearn.model_selection import train_test_split"
   ]
  },
  {
   "cell_type": "code",
   "execution_count": 2,
   "metadata": {},
   "outputs": [],
   "source": [
    "df = pd.read_csv('data_correlation_gone_norm.csv',index_col = 0)"
   ]
  },
  {
   "cell_type": "code",
   "execution_count": 3,
   "metadata": {},
   "outputs": [],
   "source": [
    "df = df.loc[df['sqft_lot']<45000.00]"
   ]
  },
  {
   "cell_type": "code",
   "execution_count": 4,
   "metadata": {},
   "outputs": [
    {
     "data": {
      "text/plain": [
       "1316471.2385767912"
      ]
     },
     "execution_count": 4,
     "metadata": {},
     "output_type": "execute_result"
    }
   ],
   "source": [
    "df['price'].mean()+3.5*df['price'].std()"
   ]
  },
  {
   "cell_type": "code",
   "execution_count": 5,
   "metadata": {},
   "outputs": [],
   "source": [
    "df = df.loc[df['price']<1350000.00]"
   ]
  },
  {
   "cell_type": "code",
   "execution_count": 6,
   "metadata": {},
   "outputs": [
    {
     "data": {
      "text/plain": [
       "Index(['date', 'price', 'bedrooms', 'bathrooms', 'sqft_living', 'sqft_lot',\n",
       "       'floors', 'waterfront', 'view', 'condition', 'grade', 'zipcode',\n",
       "       'Age_of_House', 'Years_last_renovation', 'basement', 'biggerliving',\n",
       "       'biggerlot', 'distance_from_a_city', 'distance_from_airport'],\n",
       "      dtype='object')"
      ]
     },
     "execution_count": 6,
     "metadata": {},
     "output_type": "execute_result"
    }
   ],
   "source": [
    "df.columns"
   ]
  },
  {
   "cell_type": "code",
   "execution_count": 7,
   "metadata": {},
   "outputs": [
    {
     "data": {
      "text/html": [
       "<div>\n",
       "<style scoped>\n",
       "    .dataframe tbody tr th:only-of-type {\n",
       "        vertical-align: middle;\n",
       "    }\n",
       "\n",
       "    .dataframe tbody tr th {\n",
       "        vertical-align: top;\n",
       "    }\n",
       "\n",
       "    .dataframe thead th {\n",
       "        text-align: right;\n",
       "    }\n",
       "</style>\n",
       "<table border=\"1\" class=\"dataframe\">\n",
       "  <thead>\n",
       "    <tr style=\"text-align: right;\">\n",
       "      <th></th>\n",
       "      <th>date</th>\n",
       "      <th>price</th>\n",
       "      <th>bedrooms</th>\n",
       "      <th>bathrooms</th>\n",
       "      <th>sqft_living</th>\n",
       "      <th>sqft_lot</th>\n",
       "      <th>floors</th>\n",
       "      <th>waterfront</th>\n",
       "      <th>view</th>\n",
       "      <th>condition</th>\n",
       "      <th>grade</th>\n",
       "      <th>zipcode</th>\n",
       "      <th>Age_of_House</th>\n",
       "      <th>Years_last_renovation</th>\n",
       "      <th>basement</th>\n",
       "      <th>biggerliving</th>\n",
       "      <th>biggerlot</th>\n",
       "      <th>distance_from_a_city</th>\n",
       "      <th>distance_from_airport</th>\n",
       "    </tr>\n",
       "  </thead>\n",
       "  <tbody>\n",
       "    <tr>\n",
       "      <td>0</td>\n",
       "      <td>2014-12-09</td>\n",
       "      <td>538000.0</td>\n",
       "      <td>-0.378652</td>\n",
       "      <td>0.300253</td>\n",
       "      <td>0.829689</td>\n",
       "      <td>-0.227077</td>\n",
       "      <td>2.0</td>\n",
       "      <td>0.0</td>\n",
       "      <td>0.0</td>\n",
       "      <td>3</td>\n",
       "      <td>7</td>\n",
       "      <td>98125</td>\n",
       "      <td>0.661504</td>\n",
       "      <td>-0.644230</td>\n",
       "      <td>1</td>\n",
       "      <td>1</td>\n",
       "      <td>0</td>\n",
       "      <td>-0.249526</td>\n",
       "      <td>1.041175</td>\n",
       "    </tr>\n",
       "    <tr>\n",
       "      <td>1</td>\n",
       "      <td>2015-02-25</td>\n",
       "      <td>180000.0</td>\n",
       "      <td>-1.549166</td>\n",
       "      <td>-1.506346</td>\n",
       "      <td>-1.595932</td>\n",
       "      <td>0.012078</td>\n",
       "      <td>1.0</td>\n",
       "      <td>0.0</td>\n",
       "      <td>0.0</td>\n",
       "      <td>3</td>\n",
       "      <td>6</td>\n",
       "      <td>98028</td>\n",
       "      <td>1.271581</td>\n",
       "      <td>1.344265</td>\n",
       "      <td>0</td>\n",
       "      <td>0</td>\n",
       "      <td>1</td>\n",
       "      <td>-0.054656</td>\n",
       "      <td>1.283006</td>\n",
       "    </tr>\n",
       "    <tr>\n",
       "      <td>2</td>\n",
       "      <td>2014-12-09</td>\n",
       "      <td>604000.0</td>\n",
       "      <td>0.791862</td>\n",
       "      <td>1.384213</td>\n",
       "      <td>0.007673</td>\n",
       "      <td>-0.421487</td>\n",
       "      <td>1.0</td>\n",
       "      <td>0.0</td>\n",
       "      <td>0.0</td>\n",
       "      <td>5</td>\n",
       "      <td>7</td>\n",
       "      <td>98136</td>\n",
       "      <td>0.187000</td>\n",
       "      <td>0.247164</td>\n",
       "      <td>1</td>\n",
       "      <td>1</td>\n",
       "      <td>0</td>\n",
       "      <td>-0.470318</td>\n",
       "      <td>-1.091792</td>\n",
       "    </tr>\n",
       "    <tr>\n",
       "      <td>3</td>\n",
       "      <td>2015-02-18</td>\n",
       "      <td>510000.0</td>\n",
       "      <td>-0.378652</td>\n",
       "      <td>-0.061067</td>\n",
       "      <td>-0.369646</td>\n",
       "      <td>-0.154411</td>\n",
       "      <td>1.0</td>\n",
       "      <td>0.0</td>\n",
       "      <td>0.0</td>\n",
       "      <td>3</td>\n",
       "      <td>8</td>\n",
       "      <td>98074</td>\n",
       "      <td>-0.558651</td>\n",
       "      <td>-0.507093</td>\n",
       "      <td>0</td>\n",
       "      <td>0</td>\n",
       "      <td>1</td>\n",
       "      <td>-0.352378</td>\n",
       "      <td>0.651681</td>\n",
       "    </tr>\n",
       "    <tr>\n",
       "      <td>4</td>\n",
       "      <td>2014-06-27</td>\n",
       "      <td>257500.0</td>\n",
       "      <td>-0.378652</td>\n",
       "      <td>0.300253</td>\n",
       "      <td>-0.322481</td>\n",
       "      <td>-0.263756</td>\n",
       "      <td>2.0</td>\n",
       "      <td>0.0</td>\n",
       "      <td>0.0</td>\n",
       "      <td>3</td>\n",
       "      <td>7</td>\n",
       "      <td>98003</td>\n",
       "      <td>-0.829796</td>\n",
       "      <td>-0.781368</td>\n",
       "      <td>0</td>\n",
       "      <td>0</td>\n",
       "      <td>0</td>\n",
       "      <td>2.022363</td>\n",
       "      <td>-0.661723</td>\n",
       "    </tr>\n",
       "  </tbody>\n",
       "</table>\n",
       "</div>"
      ],
      "text/plain": [
       "         date     price  bedrooms  bathrooms  sqft_living  sqft_lot  floors  \\\n",
       "0  2014-12-09  538000.0 -0.378652   0.300253     0.829689 -0.227077     2.0   \n",
       "1  2015-02-25  180000.0 -1.549166  -1.506346    -1.595932  0.012078     1.0   \n",
       "2  2014-12-09  604000.0  0.791862   1.384213     0.007673 -0.421487     1.0   \n",
       "3  2015-02-18  510000.0 -0.378652  -0.061067    -0.369646 -0.154411     1.0   \n",
       "4  2014-06-27  257500.0 -0.378652   0.300253    -0.322481 -0.263756     2.0   \n",
       "\n",
       "   waterfront  view  condition  grade  zipcode  Age_of_House  \\\n",
       "0         0.0   0.0          3      7    98125      0.661504   \n",
       "1         0.0   0.0          3      6    98028      1.271581   \n",
       "2         0.0   0.0          5      7    98136      0.187000   \n",
       "3         0.0   0.0          3      8    98074     -0.558651   \n",
       "4         0.0   0.0          3      7    98003     -0.829796   \n",
       "\n",
       "   Years_last_renovation  basement  biggerliving  biggerlot  \\\n",
       "0              -0.644230         1             1          0   \n",
       "1               1.344265         0             0          1   \n",
       "2               0.247164         1             1          0   \n",
       "3              -0.507093         0             0          1   \n",
       "4              -0.781368         0             0          0   \n",
       "\n",
       "   distance_from_a_city  distance_from_airport  \n",
       "0             -0.249526               1.041175  \n",
       "1             -0.054656               1.283006  \n",
       "2             -0.470318              -1.091792  \n",
       "3             -0.352378               0.651681  \n",
       "4              2.022363              -0.661723  "
      ]
     },
     "execution_count": 7,
     "metadata": {},
     "output_type": "execute_result"
    }
   ],
   "source": [
    "df.head()"
   ]
  },
  {
   "cell_type": "code",
   "execution_count": 8,
   "metadata": {},
   "outputs": [
    {
     "data": {
      "text/plain": [
       "<matplotlib.axes._subplots.AxesSubplot at 0x1c22f36320>"
      ]
     },
     "execution_count": 8,
     "metadata": {},
     "output_type": "execute_result"
    },
    {
     "data": {
      "image/png": "[encoded data removed]",
      "text/plain": [
       "<Figure size 432x288 with 1 Axes>"
      ]
     },
     "metadata": {
      "needs_background": "light"
     },
     "output_type": "display_data"
    }
   ],
   "source": [
    "df['price'].hist()"
   ]
  },
  {
   "cell_type": "code",
   "execution_count": 9,
   "metadata": {},
   "outputs": [
    {
     "data": {
      "text/html": [
       "<div>\n",
       "<style scoped>\n",
       "    .dataframe tbody tr th:only-of-type {\n",
       "        vertical-align: middle;\n",
       "    }\n",
       "\n",
       "    .dataframe tbody tr th {\n",
       "        vertical-align: top;\n",
       "    }\n",
       "\n",
       "    .dataframe thead th {\n",
       "        text-align: right;\n",
       "    }\n",
       "</style>\n",
       "<table border=\"1\" class=\"dataframe\">\n",
       "  <thead>\n",
       "    <tr style=\"text-align: right;\">\n",
       "      <th></th>\n",
       "      <th>date</th>\n",
       "      <th>price</th>\n",
       "      <th>bedrooms</th>\n",
       "      <th>bathrooms</th>\n",
       "      <th>sqft_living</th>\n",
       "      <th>sqft_lot</th>\n",
       "      <th>floors</th>\n",
       "      <th>waterfront</th>\n",
       "      <th>view</th>\n",
       "      <th>condition</th>\n",
       "      <th>grade</th>\n",
       "      <th>zipcode</th>\n",
       "      <th>Age_of_House</th>\n",
       "      <th>Years_last_renovation</th>\n",
       "      <th>basement</th>\n",
       "      <th>biggerliving</th>\n",
       "      <th>biggerlot</th>\n",
       "      <th>distance_from_a_city</th>\n",
       "      <th>distance_from_airport</th>\n",
       "    </tr>\n",
       "  </thead>\n",
       "  <tbody>\n",
       "    <tr>\n",
       "      <td>0</td>\n",
       "      <td>2014-12-09</td>\n",
       "      <td>538000.0</td>\n",
       "      <td>-0.378652</td>\n",
       "      <td>0.300253</td>\n",
       "      <td>0.829689</td>\n",
       "      <td>-0.227077</td>\n",
       "      <td>2.0</td>\n",
       "      <td>0.0</td>\n",
       "      <td>0.0</td>\n",
       "      <td>3</td>\n",
       "      <td>7</td>\n",
       "      <td>98125</td>\n",
       "      <td>0.661504</td>\n",
       "      <td>-0.644230</td>\n",
       "      <td>1</td>\n",
       "      <td>1</td>\n",
       "      <td>0</td>\n",
       "      <td>-0.249526</td>\n",
       "      <td>1.041175</td>\n",
       "    </tr>\n",
       "    <tr>\n",
       "      <td>1</td>\n",
       "      <td>2015-02-25</td>\n",
       "      <td>180000.0</td>\n",
       "      <td>-1.549166</td>\n",
       "      <td>-1.506346</td>\n",
       "      <td>-1.595932</td>\n",
       "      <td>0.012078</td>\n",
       "      <td>1.0</td>\n",
       "      <td>0.0</td>\n",
       "      <td>0.0</td>\n",
       "      <td>3</td>\n",
       "      <td>6</td>\n",
       "      <td>98028</td>\n",
       "      <td>1.271581</td>\n",
       "      <td>1.344265</td>\n",
       "      <td>0</td>\n",
       "      <td>0</td>\n",
       "      <td>1</td>\n",
       "      <td>-0.054656</td>\n",
       "      <td>1.283006</td>\n",
       "    </tr>\n",
       "    <tr>\n",
       "      <td>2</td>\n",
       "      <td>2014-12-09</td>\n",
       "      <td>604000.0</td>\n",
       "      <td>0.791862</td>\n",
       "      <td>1.384213</td>\n",
       "      <td>0.007673</td>\n",
       "      <td>-0.421487</td>\n",
       "      <td>1.0</td>\n",
       "      <td>0.0</td>\n",
       "      <td>0.0</td>\n",
       "      <td>5</td>\n",
       "      <td>7</td>\n",
       "      <td>98136</td>\n",
       "      <td>0.187000</td>\n",
       "      <td>0.247164</td>\n",
       "      <td>1</td>\n",
       "      <td>1</td>\n",
       "      <td>0</td>\n",
       "      <td>-0.470318</td>\n",
       "      <td>-1.091792</td>\n",
       "    </tr>\n",
       "    <tr>\n",
       "      <td>3</td>\n",
       "      <td>2015-02-18</td>\n",
       "      <td>510000.0</td>\n",
       "      <td>-0.378652</td>\n",
       "      <td>-0.061067</td>\n",
       "      <td>-0.369646</td>\n",
       "      <td>-0.154411</td>\n",
       "      <td>1.0</td>\n",
       "      <td>0.0</td>\n",
       "      <td>0.0</td>\n",
       "      <td>3</td>\n",
       "      <td>8</td>\n",
       "      <td>98074</td>\n",
       "      <td>-0.558651</td>\n",
       "      <td>-0.507093</td>\n",
       "      <td>0</td>\n",
       "      <td>0</td>\n",
       "      <td>1</td>\n",
       "      <td>-0.352378</td>\n",
       "      <td>0.651681</td>\n",
       "    </tr>\n",
       "    <tr>\n",
       "      <td>4</td>\n",
       "      <td>2014-06-27</td>\n",
       "      <td>257500.0</td>\n",
       "      <td>-0.378652</td>\n",
       "      <td>0.300253</td>\n",
       "      <td>-0.322481</td>\n",
       "      <td>-0.263756</td>\n",
       "      <td>2.0</td>\n",
       "      <td>0.0</td>\n",
       "      <td>0.0</td>\n",
       "      <td>3</td>\n",
       "      <td>7</td>\n",
       "      <td>98003</td>\n",
       "      <td>-0.829796</td>\n",
       "      <td>-0.781368</td>\n",
       "      <td>0</td>\n",
       "      <td>0</td>\n",
       "      <td>0</td>\n",
       "      <td>2.022363</td>\n",
       "      <td>-0.661723</td>\n",
       "    </tr>\n",
       "  </tbody>\n",
       "</table>\n",
       "</div>"
      ],
      "text/plain": [
       "         date     price  bedrooms  bathrooms  sqft_living  sqft_lot  floors  \\\n",
       "0  2014-12-09  538000.0 -0.378652   0.300253     0.829689 -0.227077     2.0   \n",
       "1  2015-02-25  180000.0 -1.549166  -1.506346    -1.595932  0.012078     1.0   \n",
       "2  2014-12-09  604000.0  0.791862   1.384213     0.007673 -0.421487     1.0   \n",
       "3  2015-02-18  510000.0 -0.378652  -0.061067    -0.369646 -0.154411     1.0   \n",
       "4  2014-06-27  257500.0 -0.378652   0.300253    -0.322481 -0.263756     2.0   \n",
       "\n",
       "   waterfront  view  condition  grade  zipcode  Age_of_House  \\\n",
       "0         0.0   0.0          3      7    98125      0.661504   \n",
       "1         0.0   0.0          3      6    98028      1.271581   \n",
       "2         0.0   0.0          5      7    98136      0.187000   \n",
       "3         0.0   0.0          3      8    98074     -0.558651   \n",
       "4         0.0   0.0          3      7    98003     -0.829796   \n",
       "\n",
       "   Years_last_renovation  basement  biggerliving  biggerlot  \\\n",
       "0              -0.644230         1             1          0   \n",
       "1               1.344265         0             0          1   \n",
       "2               0.247164         1             1          0   \n",
       "3              -0.507093         0             0          1   \n",
       "4              -0.781368         0             0          0   \n",
       "\n",
       "   distance_from_a_city  distance_from_airport  \n",
       "0             -0.249526               1.041175  \n",
       "1             -0.054656               1.283006  \n",
       "2             -0.470318              -1.091792  \n",
       "3             -0.352378               0.651681  \n",
       "4              2.022363              -0.661723  "
      ]
     },
     "execution_count": 9,
     "metadata": {},
     "output_type": "execute_result"
    }
   ],
   "source": [
    "df.head()"
   ]
  },
  {
   "cell_type": "code",
   "execution_count": 10,
   "metadata": {},
   "outputs": [
    {
     "data": {
      "text/plain": [
       "<matplotlib.axes._subplots.AxesSubplot at 0x1c2187ffd0>"
      ]
     },
     "execution_count": 10,
     "metadata": {},
     "output_type": "execute_result"
    },
    {
     "data": {
      "image/png": "[encoded data removed]",
      "text/plain": [
       "<Figure size 432x288 with 1 Axes>"
      ]
     },
     "metadata": {
      "needs_background": "light"
     },
     "output_type": "display_data"
    }
   ],
   "source": [
    "df['condition'].hist()"
   ]
  },
  {
   "cell_type": "code",
   "execution_count": 11,
   "metadata": {},
   "outputs": [
    {
     "data": {
      "text/plain": [
       "<matplotlib.axes._subplots.AxesSubplot at 0x1c2195bfd0>"
      ]
     },
     "execution_count": 11,
     "metadata": {},
     "output_type": "execute_result"
    },
    {
     "data": {
      "image/png": "[encoded data removed]",
      "text/plain": [
       "<Figure size 432x288 with 1 Axes>"
      ]
     },
     "metadata": {
      "needs_background": "light"
     },
     "output_type": "display_data"
    }
   ],
   "source": [
    "df['grade'].hist()"
   ]
  },
  {
   "cell_type": "code",
   "execution_count": 12,
   "metadata": {},
   "outputs": [
    {
     "data": {
      "text/plain": [
       "7     7557\n",
       "8     4978\n",
       "9     1873\n",
       "6     1711\n",
       "10     625\n",
       "5      185\n",
       "11     102\n",
       "4       25\n",
       "Name: grade, dtype: int64"
      ]
     },
     "execution_count": 12,
     "metadata": {},
     "output_type": "execute_result"
    }
   ],
   "source": [
    "df['grade'].value_counts()"
   ]
  },
  {
   "cell_type": "code",
   "execution_count": 13,
   "metadata": {},
   "outputs": [
    {
     "data": {
      "text/plain": [
       "0.0    17056\n",
       "Name: waterfront, dtype: int64"
      ]
     },
     "execution_count": 13,
     "metadata": {},
     "output_type": "execute_result"
    }
   ],
   "source": [
    "df['waterfront'].value_counts()"
   ]
  },
  {
   "cell_type": "code",
   "execution_count": 14,
   "metadata": {},
   "outputs": [
    {
     "data": {
      "text/plain": [
       "<matplotlib.axes._subplots.AxesSubplot at 0x1c21a276a0>"
      ]
     },
     "execution_count": 14,
     "metadata": {},
     "output_type": "execute_result"
    },
    {
     "data": {
      "image/png": "[encoded data removed]",
      "text/plain": [
       "<Figure size 432x288 with 1 Axes>"
      ]
     },
     "metadata": {
      "needs_background": "light"
     },
     "output_type": "display_data"
    }
   ],
   "source": [
    "df['bedrooms'].hist()"
   ]
  },
  {
   "cell_type": "code",
   "execution_count": 15,
   "metadata": {},
   "outputs": [
    {
     "data": {
      "text/plain": [
       "Index(['date', 'price', 'bedrooms', 'bathrooms', 'sqft_living', 'sqft_lot',\n",
       "       'floors', 'waterfront', 'view', 'condition', 'grade', 'zipcode',\n",
       "       'Age_of_House', 'Years_last_renovation', 'basement', 'biggerliving',\n",
       "       'biggerlot', 'distance_from_a_city', 'distance_from_airport'],\n",
       "      dtype='object')"
      ]
     },
     "execution_count": 15,
     "metadata": {},
     "output_type": "execute_result"
    }
   ],
   "source": [
    "df.columns"
   ]
  },
  {
   "cell_type": "code",
   "execution_count": 16,
   "metadata": {},
   "outputs": [],
   "source": [
    "# tomodel = ['grade','distance_from_a_city','basement','biggerliving','biggerlot','Years_last_renovation','view']"
   ]
  },
  {
   "cell_type": "code",
   "execution_count": 17,
   "metadata": {},
   "outputs": [
    {
     "data": {
      "text/html": [
       "<div>\n",
       "<style scoped>\n",
       "    .dataframe tbody tr th:only-of-type {\n",
       "        vertical-align: middle;\n",
       "    }\n",
       "\n",
       "    .dataframe tbody tr th {\n",
       "        vertical-align: top;\n",
       "    }\n",
       "\n",
       "    .dataframe thead th {\n",
       "        text-align: right;\n",
       "    }\n",
       "</style>\n",
       "<table border=\"1\" class=\"dataframe\">\n",
       "  <thead>\n",
       "    <tr style=\"text-align: right;\">\n",
       "      <th></th>\n",
       "      <th>date</th>\n",
       "      <th>price</th>\n",
       "      <th>bedrooms</th>\n",
       "      <th>bathrooms</th>\n",
       "      <th>sqft_living</th>\n",
       "      <th>sqft_lot</th>\n",
       "      <th>floors</th>\n",
       "      <th>waterfront</th>\n",
       "      <th>view</th>\n",
       "      <th>condition</th>\n",
       "      <th>grade</th>\n",
       "      <th>zipcode</th>\n",
       "      <th>Age_of_House</th>\n",
       "      <th>Years_last_renovation</th>\n",
       "      <th>basement</th>\n",
       "      <th>biggerliving</th>\n",
       "      <th>biggerlot</th>\n",
       "      <th>distance_from_a_city</th>\n",
       "      <th>distance_from_airport</th>\n",
       "    </tr>\n",
       "  </thead>\n",
       "  <tbody>\n",
       "    <tr>\n",
       "      <td>0</td>\n",
       "      <td>2014-12-09</td>\n",
       "      <td>538000.0</td>\n",
       "      <td>-0.378652</td>\n",
       "      <td>0.300253</td>\n",
       "      <td>0.829689</td>\n",
       "      <td>-0.227077</td>\n",
       "      <td>2.0</td>\n",
       "      <td>0.0</td>\n",
       "      <td>0.0</td>\n",
       "      <td>3</td>\n",
       "      <td>7</td>\n",
       "      <td>98125</td>\n",
       "      <td>0.661504</td>\n",
       "      <td>-0.644230</td>\n",
       "      <td>1</td>\n",
       "      <td>1</td>\n",
       "      <td>0</td>\n",
       "      <td>-0.249526</td>\n",
       "      <td>1.041175</td>\n",
       "    </tr>\n",
       "    <tr>\n",
       "      <td>1</td>\n",
       "      <td>2015-02-25</td>\n",
       "      <td>180000.0</td>\n",
       "      <td>-1.549166</td>\n",
       "      <td>-1.506346</td>\n",
       "      <td>-1.595932</td>\n",
       "      <td>0.012078</td>\n",
       "      <td>1.0</td>\n",
       "      <td>0.0</td>\n",
       "      <td>0.0</td>\n",
       "      <td>3</td>\n",
       "      <td>6</td>\n",
       "      <td>98028</td>\n",
       "      <td>1.271581</td>\n",
       "      <td>1.344265</td>\n",
       "      <td>0</td>\n",
       "      <td>0</td>\n",
       "      <td>1</td>\n",
       "      <td>-0.054656</td>\n",
       "      <td>1.283006</td>\n",
       "    </tr>\n",
       "    <tr>\n",
       "      <td>2</td>\n",
       "      <td>2014-12-09</td>\n",
       "      <td>604000.0</td>\n",
       "      <td>0.791862</td>\n",
       "      <td>1.384213</td>\n",
       "      <td>0.007673</td>\n",
       "      <td>-0.421487</td>\n",
       "      <td>1.0</td>\n",
       "      <td>0.0</td>\n",
       "      <td>0.0</td>\n",
       "      <td>5</td>\n",
       "      <td>7</td>\n",
       "      <td>98136</td>\n",
       "      <td>0.187000</td>\n",
       "      <td>0.247164</td>\n",
       "      <td>1</td>\n",
       "      <td>1</td>\n",
       "      <td>0</td>\n",
       "      <td>-0.470318</td>\n",
       "      <td>-1.091792</td>\n",
       "    </tr>\n",
       "    <tr>\n",
       "      <td>3</td>\n",
       "      <td>2015-02-18</td>\n",
       "      <td>510000.0</td>\n",
       "      <td>-0.378652</td>\n",
       "      <td>-0.061067</td>\n",
       "      <td>-0.369646</td>\n",
       "      <td>-0.154411</td>\n",
       "      <td>1.0</td>\n",
       "      <td>0.0</td>\n",
       "      <td>0.0</td>\n",
       "      <td>3</td>\n",
       "      <td>8</td>\n",
       "      <td>98074</td>\n",
       "      <td>-0.558651</td>\n",
       "      <td>-0.507093</td>\n",
       "      <td>0</td>\n",
       "      <td>0</td>\n",
       "      <td>1</td>\n",
       "      <td>-0.352378</td>\n",
       "      <td>0.651681</td>\n",
       "    </tr>\n",
       "    <tr>\n",
       "      <td>4</td>\n",
       "      <td>2014-06-27</td>\n",
       "      <td>257500.0</td>\n",
       "      <td>-0.378652</td>\n",
       "      <td>0.300253</td>\n",
       "      <td>-0.322481</td>\n",
       "      <td>-0.263756</td>\n",
       "      <td>2.0</td>\n",
       "      <td>0.0</td>\n",
       "      <td>0.0</td>\n",
       "      <td>3</td>\n",
       "      <td>7</td>\n",
       "      <td>98003</td>\n",
       "      <td>-0.829796</td>\n",
       "      <td>-0.781368</td>\n",
       "      <td>0</td>\n",
       "      <td>0</td>\n",
       "      <td>0</td>\n",
       "      <td>2.022363</td>\n",
       "      <td>-0.661723</td>\n",
       "    </tr>\n",
       "  </tbody>\n",
       "</table>\n",
       "</div>"
      ],
      "text/plain": [
       "         date     price  bedrooms  bathrooms  sqft_living  sqft_lot  floors  \\\n",
       "0  2014-12-09  538000.0 -0.378652   0.300253     0.829689 -0.227077     2.0   \n",
       "1  2015-02-25  180000.0 -1.549166  -1.506346    -1.595932  0.012078     1.0   \n",
       "2  2014-12-09  604000.0  0.791862   1.384213     0.007673 -0.421487     1.0   \n",
       "3  2015-02-18  510000.0 -0.378652  -0.061067    -0.369646 -0.154411     1.0   \n",
       "4  2014-06-27  257500.0 -0.378652   0.300253    -0.322481 -0.263756     2.0   \n",
       "\n",
       "   waterfront  view  condition  grade  zipcode  Age_of_House  \\\n",
       "0         0.0   0.0          3      7    98125      0.661504   \n",
       "1         0.0   0.0          3      6    98028      1.271581   \n",
       "2         0.0   0.0          5      7    98136      0.187000   \n",
       "3         0.0   0.0          3      8    98074     -0.558651   \n",
       "4         0.0   0.0          3      7    98003     -0.829796   \n",
       "\n",
       "   Years_last_renovation  basement  biggerliving  biggerlot  \\\n",
       "0              -0.644230         1             1          0   \n",
       "1               1.344265         0             0          1   \n",
       "2               0.247164         1             1          0   \n",
       "3              -0.507093         0             0          1   \n",
       "4              -0.781368         0             0          0   \n",
       "\n",
       "   distance_from_a_city  distance_from_airport  \n",
       "0             -0.249526               1.041175  \n",
       "1             -0.054656               1.283006  \n",
       "2             -0.470318              -1.091792  \n",
       "3             -0.352378               0.651681  \n",
       "4              2.022363              -0.661723  "
      ]
     },
     "execution_count": 17,
     "metadata": {},
     "output_type": "execute_result"
    }
   ],
   "source": [
    "df.head()"
   ]
  },
  {
   "cell_type": "code",
   "execution_count": 18,
   "metadata": {},
   "outputs": [
    {
     "data": {
      "text/html": [
       "<div>\n",
       "<style scoped>\n",
       "    .dataframe tbody tr th:only-of-type {\n",
       "        vertical-align: middle;\n",
       "    }\n",
       "\n",
       "    .dataframe tbody tr th {\n",
       "        vertical-align: top;\n",
       "    }\n",
       "\n",
       "    .dataframe thead th {\n",
       "        text-align: right;\n",
       "    }\n",
       "</style>\n",
       "<table border=\"1\" class=\"dataframe\">\n",
       "  <thead>\n",
       "    <tr style=\"text-align: right;\">\n",
       "      <th></th>\n",
       "      <th>date</th>\n",
       "      <th>price</th>\n",
       "      <th>bedrooms</th>\n",
       "      <th>bathrooms</th>\n",
       "      <th>sqft_living</th>\n",
       "      <th>sqft_lot</th>\n",
       "      <th>floors</th>\n",
       "      <th>waterfront</th>\n",
       "      <th>view</th>\n",
       "      <th>condition</th>\n",
       "      <th>grade</th>\n",
       "      <th>zipcode</th>\n",
       "      <th>Age_of_House</th>\n",
       "      <th>Years_last_renovation</th>\n",
       "      <th>basement</th>\n",
       "      <th>biggerliving</th>\n",
       "      <th>biggerlot</th>\n",
       "      <th>distance_from_a_city</th>\n",
       "      <th>distance_from_airport</th>\n",
       "    </tr>\n",
       "  </thead>\n",
       "  <tbody>\n",
       "    <tr>\n",
       "      <td>0</td>\n",
       "      <td>2014-12-09</td>\n",
       "      <td>538000.0</td>\n",
       "      <td>-0.378652</td>\n",
       "      <td>0.300253</td>\n",
       "      <td>0.829689</td>\n",
       "      <td>-0.227077</td>\n",
       "      <td>2.0</td>\n",
       "      <td>0.0</td>\n",
       "      <td>0.0</td>\n",
       "      <td>3</td>\n",
       "      <td>7</td>\n",
       "      <td>98125</td>\n",
       "      <td>0.661504</td>\n",
       "      <td>-0.644230</td>\n",
       "      <td>1</td>\n",
       "      <td>1</td>\n",
       "      <td>0</td>\n",
       "      <td>-0.249526</td>\n",
       "      <td>1.041175</td>\n",
       "    </tr>\n",
       "    <tr>\n",
       "      <td>1</td>\n",
       "      <td>2015-02-25</td>\n",
       "      <td>180000.0</td>\n",
       "      <td>-1.549166</td>\n",
       "      <td>-1.506346</td>\n",
       "      <td>-1.595932</td>\n",
       "      <td>0.012078</td>\n",
       "      <td>1.0</td>\n",
       "      <td>0.0</td>\n",
       "      <td>0.0</td>\n",
       "      <td>3</td>\n",
       "      <td>6</td>\n",
       "      <td>98028</td>\n",
       "      <td>1.271581</td>\n",
       "      <td>1.344265</td>\n",
       "      <td>0</td>\n",
       "      <td>0</td>\n",
       "      <td>1</td>\n",
       "      <td>-0.054656</td>\n",
       "      <td>1.283006</td>\n",
       "    </tr>\n",
       "    <tr>\n",
       "      <td>2</td>\n",
       "      <td>2014-12-09</td>\n",
       "      <td>604000.0</td>\n",
       "      <td>0.791862</td>\n",
       "      <td>1.384213</td>\n",
       "      <td>0.007673</td>\n",
       "      <td>-0.421487</td>\n",
       "      <td>1.0</td>\n",
       "      <td>0.0</td>\n",
       "      <td>0.0</td>\n",
       "      <td>5</td>\n",
       "      <td>7</td>\n",
       "      <td>98136</td>\n",
       "      <td>0.187000</td>\n",
       "      <td>0.247164</td>\n",
       "      <td>1</td>\n",
       "      <td>1</td>\n",
       "      <td>0</td>\n",
       "      <td>-0.470318</td>\n",
       "      <td>-1.091792</td>\n",
       "    </tr>\n",
       "    <tr>\n",
       "      <td>3</td>\n",
       "      <td>2015-02-18</td>\n",
       "      <td>510000.0</td>\n",
       "      <td>-0.378652</td>\n",
       "      <td>-0.061067</td>\n",
       "      <td>-0.369646</td>\n",
       "      <td>-0.154411</td>\n",
       "      <td>1.0</td>\n",
       "      <td>0.0</td>\n",
       "      <td>0.0</td>\n",
       "      <td>3</td>\n",
       "      <td>8</td>\n",
       "      <td>98074</td>\n",
       "      <td>-0.558651</td>\n",
       "      <td>-0.507093</td>\n",
       "      <td>0</td>\n",
       "      <td>0</td>\n",
       "      <td>1</td>\n",
       "      <td>-0.352378</td>\n",
       "      <td>0.651681</td>\n",
       "    </tr>\n",
       "    <tr>\n",
       "      <td>4</td>\n",
       "      <td>2014-06-27</td>\n",
       "      <td>257500.0</td>\n",
       "      <td>-0.378652</td>\n",
       "      <td>0.300253</td>\n",
       "      <td>-0.322481</td>\n",
       "      <td>-0.263756</td>\n",
       "      <td>2.0</td>\n",
       "      <td>0.0</td>\n",
       "      <td>0.0</td>\n",
       "      <td>3</td>\n",
       "      <td>7</td>\n",
       "      <td>98003</td>\n",
       "      <td>-0.829796</td>\n",
       "      <td>-0.781368</td>\n",
       "      <td>0</td>\n",
       "      <td>0</td>\n",
       "      <td>0</td>\n",
       "      <td>2.022363</td>\n",
       "      <td>-0.661723</td>\n",
       "    </tr>\n",
       "  </tbody>\n",
       "</table>\n",
       "</div>"
      ],
      "text/plain": [
       "         date     price  bedrooms  bathrooms  sqft_living  sqft_lot  floors  \\\n",
       "0  2014-12-09  538000.0 -0.378652   0.300253     0.829689 -0.227077     2.0   \n",
       "1  2015-02-25  180000.0 -1.549166  -1.506346    -1.595932  0.012078     1.0   \n",
       "2  2014-12-09  604000.0  0.791862   1.384213     0.007673 -0.421487     1.0   \n",
       "3  2015-02-18  510000.0 -0.378652  -0.061067    -0.369646 -0.154411     1.0   \n",
       "4  2014-06-27  257500.0 -0.378652   0.300253    -0.322481 -0.263756     2.0   \n",
       "\n",
       "   waterfront  view  condition  grade  zipcode  Age_of_House  \\\n",
       "0         0.0   0.0          3      7    98125      0.661504   \n",
       "1         0.0   0.0          3      6    98028      1.271581   \n",
       "2         0.0   0.0          5      7    98136      0.187000   \n",
       "3         0.0   0.0          3      8    98074     -0.558651   \n",
       "4         0.0   0.0          3      7    98003     -0.829796   \n",
       "\n",
       "   Years_last_renovation  basement  biggerliving  biggerlot  \\\n",
       "0              -0.644230         1             1          0   \n",
       "1               1.344265         0             0          1   \n",
       "2               0.247164         1             1          0   \n",
       "3              -0.507093         0             0          1   \n",
       "4              -0.781368         0             0          0   \n",
       "\n",
       "   distance_from_a_city  distance_from_airport  \n",
       "0             -0.249526               1.041175  \n",
       "1             -0.054656               1.283006  \n",
       "2             -0.470318              -1.091792  \n",
       "3             -0.352378               0.651681  \n",
       "4              2.022363              -0.661723  "
      ]
     },
     "execution_count": 18,
     "metadata": {},
     "output_type": "execute_result"
    }
   ],
   "source": [
    "df.head()"
   ]
  },
  {
   "cell_type": "code",
   "execution_count": 19,
   "metadata": {},
   "outputs": [],
   "source": [
    "df['bedbath'] = df['bedrooms']*df['bathrooms']"
   ]
  },
  {
   "cell_type": "code",
   "execution_count": 20,
   "metadata": {},
   "outputs": [],
   "source": [
    "# tomodel = ['distance_from_a_city','Years_last_renovation','sqft_living']"
   ]
  },
  {
   "cell_type": "code",
   "execution_count": 21,
   "metadata": {},
   "outputs": [],
   "source": [
    "x_cols = ['bedrooms','bathrooms','sqft_living','sqft_lot','distance_from_a_city',\n",
    "           'Age_of_House','basement','grade']\n",
    "outcome = ['price']"
   ]
  },
  {
   "cell_type": "code",
   "execution_count": 22,
   "metadata": {},
   "outputs": [],
   "source": [
    "train, test = train_test_split(df)\n"
   ]
  },
  {
   "cell_type": "code",
   "execution_count": 23,
   "metadata": {},
   "outputs": [
    {
     "name": "stdout",
     "output_type": "stream",
     "text": [
      "12792 4264\n"
     ]
    },
    {
     "data": {
      "text/html": [
       "<div>\n",
       "<style scoped>\n",
       "    .dataframe tbody tr th:only-of-type {\n",
       "        vertical-align: middle;\n",
       "    }\n",
       "\n",
       "    .dataframe tbody tr th {\n",
       "        vertical-align: top;\n",
       "    }\n",
       "\n",
       "    .dataframe thead th {\n",
       "        text-align: right;\n",
       "    }\n",
       "</style>\n",
       "<table border=\"1\" class=\"dataframe\">\n",
       "  <thead>\n",
       "    <tr style=\"text-align: right;\">\n",
       "      <th></th>\n",
       "      <th>date</th>\n",
       "      <th>price</th>\n",
       "      <th>bedrooms</th>\n",
       "      <th>bathrooms</th>\n",
       "      <th>sqft_living</th>\n",
       "      <th>sqft_lot</th>\n",
       "      <th>floors</th>\n",
       "      <th>waterfront</th>\n",
       "      <th>view</th>\n",
       "      <th>condition</th>\n",
       "      <th>grade</th>\n",
       "      <th>zipcode</th>\n",
       "      <th>Age_of_House</th>\n",
       "      <th>Years_last_renovation</th>\n",
       "      <th>basement</th>\n",
       "      <th>biggerliving</th>\n",
       "      <th>biggerlot</th>\n",
       "      <th>distance_from_a_city</th>\n",
       "      <th>distance_from_airport</th>\n",
       "      <th>bedbath</th>\n",
       "    </tr>\n",
       "  </thead>\n",
       "  <tbody>\n",
       "    <tr>\n",
       "      <td>13270</td>\n",
       "      <td>2014-10-15</td>\n",
       "      <td>795000.0</td>\n",
       "      <td>0.791862</td>\n",
       "      <td>1.022893</td>\n",
       "      <td>1.260910</td>\n",
       "      <td>0.566783</td>\n",
       "      <td>2.0</td>\n",
       "      <td>0.0</td>\n",
       "      <td>0.0</td>\n",
       "      <td>3</td>\n",
       "      <td>10</td>\n",
       "      <td>98077</td>\n",
       "      <td>-0.897582</td>\n",
       "      <td>-0.849937</td>\n",
       "      <td>0</td>\n",
       "      <td>0</td>\n",
       "      <td>0</td>\n",
       "      <td>-0.019889</td>\n",
       "      <td>1.407302</td>\n",
       "      <td>0.809990</td>\n",
       "    </tr>\n",
       "    <tr>\n",
       "      <td>15067</td>\n",
       "      <td>2014-06-11</td>\n",
       "      <td>234000.0</td>\n",
       "      <td>-0.378652</td>\n",
       "      <td>-0.061067</td>\n",
       "      <td>-0.423549</td>\n",
       "      <td>-0.397208</td>\n",
       "      <td>1.5</td>\n",
       "      <td>0.0</td>\n",
       "      <td>0.0</td>\n",
       "      <td>5</td>\n",
       "      <td>6</td>\n",
       "      <td>98002</td>\n",
       "      <td>2.051125</td>\n",
       "      <td>2.132806</td>\n",
       "      <td>0</td>\n",
       "      <td>1</td>\n",
       "      <td>0</td>\n",
       "      <td>2.062049</td>\n",
       "      <td>-0.512815</td>\n",
       "      <td>0.023123</td>\n",
       "    </tr>\n",
       "    <tr>\n",
       "      <td>14497</td>\n",
       "      <td>2015-02-11</td>\n",
       "      <td>900000.0</td>\n",
       "      <td>3.132891</td>\n",
       "      <td>1.384213</td>\n",
       "      <td>0.897067</td>\n",
       "      <td>-0.477851</td>\n",
       "      <td>1.0</td>\n",
       "      <td>0.0</td>\n",
       "      <td>0.0</td>\n",
       "      <td>3</td>\n",
       "      <td>7</td>\n",
       "      <td>98117</td>\n",
       "      <td>0.458145</td>\n",
       "      <td>0.521439</td>\n",
       "      <td>1</td>\n",
       "      <td>1</td>\n",
       "      <td>1</td>\n",
       "      <td>-0.729164</td>\n",
       "      <td>0.583658</td>\n",
       "      <td>4.336587</td>\n",
       "    </tr>\n",
       "    <tr>\n",
       "      <td>4900</td>\n",
       "      <td>2014-08-19</td>\n",
       "      <td>792000.0</td>\n",
       "      <td>0.791862</td>\n",
       "      <td>1.022893</td>\n",
       "      <td>1.543899</td>\n",
       "      <td>0.033323</td>\n",
       "      <td>2.0</td>\n",
       "      <td>0.0</td>\n",
       "      <td>0.0</td>\n",
       "      <td>3</td>\n",
       "      <td>10</td>\n",
       "      <td>98052</td>\n",
       "      <td>-0.965369</td>\n",
       "      <td>-0.918506</td>\n",
       "      <td>0</td>\n",
       "      <td>0</td>\n",
       "      <td>1</td>\n",
       "      <td>-0.435953</td>\n",
       "      <td>1.015767</td>\n",
       "      <td>0.809990</td>\n",
       "    </tr>\n",
       "    <tr>\n",
       "      <td>14363</td>\n",
       "      <td>2015-02-10</td>\n",
       "      <td>539950.0</td>\n",
       "      <td>-0.378652</td>\n",
       "      <td>0.300253</td>\n",
       "      <td>-0.127084</td>\n",
       "      <td>-0.719954</td>\n",
       "      <td>3.0</td>\n",
       "      <td>0.0</td>\n",
       "      <td>0.0</td>\n",
       "      <td>3</td>\n",
       "      <td>8</td>\n",
       "      <td>98103</td>\n",
       "      <td>-1.473767</td>\n",
       "      <td>-1.432772</td>\n",
       "      <td>0</td>\n",
       "      <td>1</td>\n",
       "      <td>0</td>\n",
       "      <td>-0.506236</td>\n",
       "      <td>0.809584</td>\n",
       "      <td>-0.113691</td>\n",
       "    </tr>\n",
       "  </tbody>\n",
       "</table>\n",
       "</div>"
      ],
      "text/plain": [
       "             date     price  bedrooms  bathrooms  sqft_living  sqft_lot  \\\n",
       "13270  2014-10-15  795000.0  0.791862   1.022893     1.260910  0.566783   \n",
       "15067  2014-06-11  234000.0 -0.378652  -0.061067    -0.423549 -0.397208   \n",
       "14497  2015-02-11  900000.0  3.132891   1.384213     0.897067 -0.477851   \n",
       "4900   2014-08-19  792000.0  0.791862   1.022893     1.543899  0.033323   \n",
       "14363  2015-02-10  539950.0 -0.378652   0.300253    -0.127084 -0.719954   \n",
       "\n",
       "       floors  waterfront  view  condition  grade  zipcode  Age_of_House  \\\n",
       "13270     2.0         0.0   0.0          3     10    98077     -0.897582   \n",
       "15067     1.5         0.0   0.0          5      6    98002      2.051125   \n",
       "14497     1.0         0.0   0.0          3      7    98117      0.458145   \n",
       "4900      2.0         0.0   0.0          3     10    98052     -0.965369   \n",
       "14363     3.0         0.0   0.0          3      8    98103     -1.473767   \n",
       "\n",
       "       Years_last_renovation  basement  biggerliving  biggerlot  \\\n",
       "13270              -0.849937         0             0          0   \n",
       "15067               2.132806         0             1          0   \n",
       "14497               0.521439         1             1          1   \n",
       "4900               -0.918506         0             0          1   \n",
       "14363              -1.432772         0             1          0   \n",
       "\n",
       "       distance_from_a_city  distance_from_airport   bedbath  \n",
       "13270             -0.019889               1.407302  0.809990  \n",
       "15067              2.062049              -0.512815  0.023123  \n",
       "14497             -0.729164               0.583658  4.336587  \n",
       "4900              -0.435953               1.015767  0.809990  \n",
       "14363             -0.506236               0.809584 -0.113691  "
      ]
     },
     "execution_count": 23,
     "metadata": {},
     "output_type": "execute_result"
    }
   ],
   "source": [
    "print(len(train), len(test))\n",
    "train.head()"
   ]
  },
  {
   "cell_type": "code",
   "execution_count": 24,
   "metadata": {},
   "outputs": [],
   "source": [
    "X = train[x_cols]\n",
    "y = train['price']"
   ]
  },
  {
   "cell_type": "code",
   "execution_count": 25,
   "metadata": {},
   "outputs": [
    {
     "data": {
      "text/html": [
       "<table class=\"simpletable\">\n",
       "<caption>OLS Regression Results</caption>\n",
       "<tr>\n",
       "  <th>Dep. Variable:</th>          <td>price</td>      <th>  R-squared (uncentered):</th>       <td>   0.949</td>  \n",
       "</tr>\n",
       "<tr>\n",
       "  <th>Model:</th>                   <td>OLS</td>       <th>  Adj. R-squared (uncentered):</th>  <td>   0.949</td>  \n",
       "</tr>\n",
       "<tr>\n",
       "  <th>Method:</th>             <td>Least Squares</td>  <th>  F-statistic:       </th>           <td>3.000e+04</td> \n",
       "</tr>\n",
       "<tr>\n",
       "  <th>Date:</th>             <td>Thu, 04 Jun 2020</td> <th>  Prob (F-statistic):</th>            <td>  0.00</td>   \n",
       "</tr>\n",
       "<tr>\n",
       "  <th>Time:</th>                 <td>10:52:22</td>     <th>  Log-Likelihood:    </th>          <td>-1.6754e+05</td>\n",
       "</tr>\n",
       "<tr>\n",
       "  <th>No. Observations:</th>      <td> 12792</td>      <th>  AIC:               </th>           <td>3.351e+05</td> \n",
       "</tr>\n",
       "<tr>\n",
       "  <th>Df Residuals:</th>          <td> 12784</td>      <th>  BIC:               </th>           <td>3.352e+05</td> \n",
       "</tr>\n",
       "<tr>\n",
       "  <th>Df Model:</th>              <td>     8</td>      <th>                     </th>               <td> </td>     \n",
       "</tr>\n",
       "<tr>\n",
       "  <th>Covariance Type:</th>      <td>nonrobust</td>    <th>                     </th>               <td> </td>     \n",
       "</tr>\n",
       "</table>\n",
       "<table class=\"simpletable\">\n",
       "<tr>\n",
       "            <td></td>              <th>coef</th>     <th>std err</th>      <th>t</th>      <th>P>|t|</th>  <th>[0.025</th>    <th>0.975]</th>  \n",
       "</tr>\n",
       "<tr>\n",
       "  <th>bedrooms</th>             <td>-1.347e+04</td> <td> 1352.416</td> <td>   -9.958</td> <td> 0.000</td> <td>-1.61e+04</td> <td>-1.08e+04</td>\n",
       "</tr>\n",
       "<tr>\n",
       "  <th>bathrooms</th>            <td> 1.933e+04</td> <td> 1731.686</td> <td>   11.162</td> <td> 0.000</td> <td> 1.59e+04</td> <td> 2.27e+04</td>\n",
       "</tr>\n",
       "<tr>\n",
       "  <th>sqft_living</th>          <td> 1.007e+05</td> <td> 1730.104</td> <td>   58.199</td> <td> 0.000</td> <td> 9.73e+04</td> <td> 1.04e+05</td>\n",
       "</tr>\n",
       "<tr>\n",
       "  <th>sqft_lot</th>             <td> 1.042e+04</td> <td> 1124.287</td> <td>    9.265</td> <td> 0.000</td> <td> 8212.411</td> <td> 1.26e+04</td>\n",
       "</tr>\n",
       "<tr>\n",
       "  <th>distance_from_a_city</th> <td>-1.011e+05</td> <td> 1153.088</td> <td>  -87.689</td> <td> 0.000</td> <td>-1.03e+05</td> <td>-9.89e+04</td>\n",
       "</tr>\n",
       "<tr>\n",
       "  <th>Age_of_House</th>         <td> 3.576e+04</td> <td> 1397.675</td> <td>   25.584</td> <td> 0.000</td> <td>  3.3e+04</td> <td> 3.85e+04</td>\n",
       "</tr>\n",
       "<tr>\n",
       "  <th>basement</th>             <td>-2.303e+04</td> <td> 2276.911</td> <td>  -10.114</td> <td> 0.000</td> <td>-2.75e+04</td> <td>-1.86e+04</td>\n",
       "</tr>\n",
       "<tr>\n",
       "  <th>grade</th>                <td> 6.521e+04</td> <td>  177.274</td> <td>  367.839</td> <td> 0.000</td> <td> 6.49e+04</td> <td> 6.56e+04</td>\n",
       "</tr>\n",
       "</table>\n",
       "<table class=\"simpletable\">\n",
       "<tr>\n",
       "  <th>Omnibus:</th>       <td>1456.085</td> <th>  Durbin-Watson:     </th> <td>   2.015</td>\n",
       "</tr>\n",
       "<tr>\n",
       "  <th>Prob(Omnibus):</th>  <td> 0.000</td>  <th>  Jarque-Bera (JB):  </th> <td>3443.211</td>\n",
       "</tr>\n",
       "<tr>\n",
       "  <th>Skew:</th>           <td> 0.677</td>  <th>  Prob(JB):          </th> <td>    0.00</td>\n",
       "</tr>\n",
       "<tr>\n",
       "  <th>Kurtosis:</th>       <td> 5.151</td>  <th>  Cond. No.          </th> <td>    17.2</td>\n",
       "</tr>\n",
       "</table><br/><br/>Warnings:<br/>[1] Standard Errors assume that the covariance matrix of the errors is correctly specified."
      ],
      "text/plain": [
       "<class 'statsmodels.iolib.summary.Summary'>\n",
       "\"\"\"\n",
       "                                 OLS Regression Results                                \n",
       "=======================================================================================\n",
       "Dep. Variable:                  price   R-squared (uncentered):                   0.949\n",
       "Model:                            OLS   Adj. R-squared (uncentered):              0.949\n",
       "Method:                 Least Squares   F-statistic:                          3.000e+04\n",
       "Date:                Thu, 04 Jun 2020   Prob (F-statistic):                        0.00\n",
       "Time:                        10:52:22   Log-Likelihood:                     -1.6754e+05\n",
       "No. Observations:               12792   AIC:                                  3.351e+05\n",
       "Df Residuals:                   12784   BIC:                                  3.352e+05\n",
       "Df Model:                           8                                                  \n",
       "Covariance Type:            nonrobust                                                  \n",
       "========================================================================================\n",
       "                           coef    std err          t      P>|t|      [0.025      0.975]\n",
       "----------------------------------------------------------------------------------------\n",
       "bedrooms             -1.347e+04   1352.416     -9.958      0.000   -1.61e+04   -1.08e+04\n",
       "bathrooms             1.933e+04   1731.686     11.162      0.000    1.59e+04    2.27e+04\n",
       "sqft_living           1.007e+05   1730.104     58.199      0.000    9.73e+04    1.04e+05\n",
       "sqft_lot              1.042e+04   1124.287      9.265      0.000    8212.411    1.26e+04\n",
       "distance_from_a_city -1.011e+05   1153.088    -87.689      0.000   -1.03e+05   -9.89e+04\n",
       "Age_of_House          3.576e+04   1397.675     25.584      0.000     3.3e+04    3.85e+04\n",
       "basement             -2.303e+04   2276.911    -10.114      0.000   -2.75e+04   -1.86e+04\n",
       "grade                 6.521e+04    177.274    367.839      0.000    6.49e+04    6.56e+04\n",
       "==============================================================================\n",
       "Omnibus:                     1456.085   Durbin-Watson:                   2.015\n",
       "Prob(Omnibus):                  0.000   Jarque-Bera (JB):             3443.211\n",
       "Skew:                           0.677   Prob(JB):                         0.00\n",
       "Kurtosis:                       5.151   Cond. No.                         17.2\n",
       "==============================================================================\n",
       "\n",
       "Warnings:\n",
       "[1] Standard Errors assume that the covariance matrix of the errors is correctly specified.\n",
       "\"\"\""
      ]
     },
     "execution_count": 25,
     "metadata": {},
     "output_type": "execute_result"
    }
   ],
   "source": [
    "model = sm.OLS(y,X).fit()\n",
    "model.summary()"
   ]
  },
  {
   "cell_type": "code",
   "execution_count": 26,
   "metadata": {},
   "outputs": [
    {
     "name": "stdout",
     "output_type": "stream",
     "text": [
      "8 8\n",
      "['bedrooms', 'bathrooms', 'sqft_living', 'sqft_lot', 'distance_from_a_city']\n"
     ]
    },
    {
     "data": {
      "text/html": [
       "<div>\n",
       "<style scoped>\n",
       "    .dataframe tbody tr th:only-of-type {\n",
       "        vertical-align: middle;\n",
       "    }\n",
       "\n",
       "    .dataframe tbody tr th {\n",
       "        vertical-align: top;\n",
       "    }\n",
       "\n",
       "    .dataframe thead th {\n",
       "        text-align: right;\n",
       "    }\n",
       "</style>\n",
       "<table border=\"1\" class=\"dataframe\">\n",
       "  <thead>\n",
       "    <tr style=\"text-align: right;\">\n",
       "      <th></th>\n",
       "      <th>coef</th>\n",
       "      <th>std err</th>\n",
       "      <th>t</th>\n",
       "      <th>P&gt;|t|</th>\n",
       "      <th>[0.025</th>\n",
       "      <th>0.975]</th>\n",
       "    </tr>\n",
       "    <tr>\n",
       "      <th></th>\n",
       "      <th></th>\n",
       "      <th></th>\n",
       "      <th></th>\n",
       "      <th></th>\n",
       "      <th></th>\n",
       "      <th></th>\n",
       "    </tr>\n",
       "  </thead>\n",
       "  <tbody>\n",
       "    <tr>\n",
       "      <td>bedrooms</td>\n",
       "      <td>-1.347e+04</td>\n",
       "      <td>1352.416</td>\n",
       "      <td>-9.958</td>\n",
       "      <td>0.0</td>\n",
       "      <td>-1.61e+04</td>\n",
       "      <td>-1.08e+04</td>\n",
       "    </tr>\n",
       "    <tr>\n",
       "      <td>bathrooms</td>\n",
       "      <td>1.933e+04</td>\n",
       "      <td>1731.686</td>\n",
       "      <td>11.162</td>\n",
       "      <td>0.0</td>\n",
       "      <td>1.59e+04</td>\n",
       "      <td>2.27e+04</td>\n",
       "    </tr>\n",
       "    <tr>\n",
       "      <td>sqft_living</td>\n",
       "      <td>1.007e+05</td>\n",
       "      <td>1730.104</td>\n",
       "      <td>58.199</td>\n",
       "      <td>0.0</td>\n",
       "      <td>9.73e+04</td>\n",
       "      <td>1.04e+05</td>\n",
       "    </tr>\n",
       "    <tr>\n",
       "      <td>sqft_lot</td>\n",
       "      <td>1.042e+04</td>\n",
       "      <td>1124.287</td>\n",
       "      <td>9.265</td>\n",
       "      <td>0.0</td>\n",
       "      <td>8212.411</td>\n",
       "      <td>1.26e+04</td>\n",
       "    </tr>\n",
       "    <tr>\n",
       "      <td>distance_from_a_city</td>\n",
       "      <td>-1.011e+05</td>\n",
       "      <td>1153.088</td>\n",
       "      <td>-87.689</td>\n",
       "      <td>0.0</td>\n",
       "      <td>-1.03e+05</td>\n",
       "      <td>-9.89e+04</td>\n",
       "    </tr>\n",
       "  </tbody>\n",
       "</table>\n",
       "</div>"
      ],
      "text/plain": [
       "0                           coef    std err          t  P>|t|     [0.025  \\\n",
       "                                                                           \n",
       "bedrooms              -1.347e+04   1352.416     -9.958    0.0  -1.61e+04   \n",
       "bathrooms              1.933e+04   1731.686     11.162    0.0   1.59e+04   \n",
       "sqft_living            1.007e+05   1730.104     58.199    0.0   9.73e+04   \n",
       "sqft_lot               1.042e+04   1124.287      9.265    0.0   8212.411   \n",
       "distance_from_a_city  -1.011e+05   1153.088    -87.689    0.0  -1.03e+05   \n",
       "\n",
       "0                        0.975]  \n",
       "                                 \n",
       "bedrooms              -1.08e+04  \n",
       "bathrooms              2.27e+04  \n",
       "sqft_living            1.04e+05  \n",
       "sqft_lot               1.26e+04  \n",
       "distance_from_a_city  -9.89e+04  "
      ]
     },
     "execution_count": 26,
     "metadata": {},
     "output_type": "execute_result"
    }
   ],
   "source": [
    "summary = model.summary()\n",
    "p_table = summary.tables[1]\n",
    "p_table = pd.DataFrame(p_table.data)\n",
    "p_table.columns = p_table.iloc[0]\n",
    "p_table = p_table.drop(0)\n",
    "p_table = p_table.set_index(p_table.columns[0])\n",
    "p_table['P>|t|'] = p_table['P>|t|'].astype(float)\n",
    "x_cols = list(p_table[p_table['P>|t|'] < 0.05].index)\n",
    "print(len(p_table), len(x_cols))\n",
    "print(x_cols[:5])\n",
    "p_table.head()"
   ]
  },
  {
   "cell_type": "code",
   "execution_count": 27,
   "metadata": {},
   "outputs": [],
   "source": [
    "X = train[x_cols]\n",
    "y= train['price']"
   ]
  },
  {
   "cell_type": "code",
   "execution_count": 28,
   "metadata": {},
   "outputs": [
    {
     "data": {
      "text/html": [
       "<table class=\"simpletable\">\n",
       "<caption>OLS Regression Results</caption>\n",
       "<tr>\n",
       "  <th>Dep. Variable:</th>          <td>price</td>      <th>  R-squared (uncentered):</th>       <td>   0.949</td>  \n",
       "</tr>\n",
       "<tr>\n",
       "  <th>Model:</th>                   <td>OLS</td>       <th>  Adj. R-squared (uncentered):</th>  <td>   0.949</td>  \n",
       "</tr>\n",
       "<tr>\n",
       "  <th>Method:</th>             <td>Least Squares</td>  <th>  F-statistic:       </th>           <td>3.000e+04</td> \n",
       "</tr>\n",
       "<tr>\n",
       "  <th>Date:</th>             <td>Thu, 04 Jun 2020</td> <th>  Prob (F-statistic):</th>            <td>  0.00</td>   \n",
       "</tr>\n",
       "<tr>\n",
       "  <th>Time:</th>                 <td>10:52:23</td>     <th>  Log-Likelihood:    </th>          <td>-1.6754e+05</td>\n",
       "</tr>\n",
       "<tr>\n",
       "  <th>No. Observations:</th>      <td> 12792</td>      <th>  AIC:               </th>           <td>3.351e+05</td> \n",
       "</tr>\n",
       "<tr>\n",
       "  <th>Df Residuals:</th>          <td> 12784</td>      <th>  BIC:               </th>           <td>3.352e+05</td> \n",
       "</tr>\n",
       "<tr>\n",
       "  <th>Df Model:</th>              <td>     8</td>      <th>                     </th>               <td> </td>     \n",
       "</tr>\n",
       "<tr>\n",
       "  <th>Covariance Type:</th>      <td>nonrobust</td>    <th>                     </th>               <td> </td>     \n",
       "</tr>\n",
       "</table>\n",
       "<table class=\"simpletable\">\n",
       "<tr>\n",
       "            <td></td>              <th>coef</th>     <th>std err</th>      <th>t</th>      <th>P>|t|</th>  <th>[0.025</th>    <th>0.975]</th>  \n",
       "</tr>\n",
       "<tr>\n",
       "  <th>bedrooms</th>             <td>-1.347e+04</td> <td> 1352.416</td> <td>   -9.958</td> <td> 0.000</td> <td>-1.61e+04</td> <td>-1.08e+04</td>\n",
       "</tr>\n",
       "<tr>\n",
       "  <th>bathrooms</th>            <td> 1.933e+04</td> <td> 1731.686</td> <td>   11.162</td> <td> 0.000</td> <td> 1.59e+04</td> <td> 2.27e+04</td>\n",
       "</tr>\n",
       "<tr>\n",
       "  <th>sqft_living</th>          <td> 1.007e+05</td> <td> 1730.104</td> <td>   58.199</td> <td> 0.000</td> <td> 9.73e+04</td> <td> 1.04e+05</td>\n",
       "</tr>\n",
       "<tr>\n",
       "  <th>sqft_lot</th>             <td> 1.042e+04</td> <td> 1124.287</td> <td>    9.265</td> <td> 0.000</td> <td> 8212.411</td> <td> 1.26e+04</td>\n",
       "</tr>\n",
       "<tr>\n",
       "  <th>distance_from_a_city</th> <td>-1.011e+05</td> <td> 1153.088</td> <td>  -87.689</td> <td> 0.000</td> <td>-1.03e+05</td> <td>-9.89e+04</td>\n",
       "</tr>\n",
       "<tr>\n",
       "  <th>Age_of_House</th>         <td> 3.576e+04</td> <td> 1397.675</td> <td>   25.584</td> <td> 0.000</td> <td>  3.3e+04</td> <td> 3.85e+04</td>\n",
       "</tr>\n",
       "<tr>\n",
       "  <th>basement</th>             <td>-2.303e+04</td> <td> 2276.911</td> <td>  -10.114</td> <td> 0.000</td> <td>-2.75e+04</td> <td>-1.86e+04</td>\n",
       "</tr>\n",
       "<tr>\n",
       "  <th>grade</th>                <td> 6.521e+04</td> <td>  177.274</td> <td>  367.839</td> <td> 0.000</td> <td> 6.49e+04</td> <td> 6.56e+04</td>\n",
       "</tr>\n",
       "</table>\n",
       "<table class=\"simpletable\">\n",
       "<tr>\n",
       "  <th>Omnibus:</th>       <td>1456.085</td> <th>  Durbin-Watson:     </th> <td>   2.015</td>\n",
       "</tr>\n",
       "<tr>\n",
       "  <th>Prob(Omnibus):</th>  <td> 0.000</td>  <th>  Jarque-Bera (JB):  </th> <td>3443.211</td>\n",
       "</tr>\n",
       "<tr>\n",
       "  <th>Skew:</th>           <td> 0.677</td>  <th>  Prob(JB):          </th> <td>    0.00</td>\n",
       "</tr>\n",
       "<tr>\n",
       "  <th>Kurtosis:</th>       <td> 5.151</td>  <th>  Cond. No.          </th> <td>    17.2</td>\n",
       "</tr>\n",
       "</table><br/><br/>Warnings:<br/>[1] Standard Errors assume that the covariance matrix of the errors is correctly specified."
      ],
      "text/plain": [
       "<class 'statsmodels.iolib.summary.Summary'>\n",
       "\"\"\"\n",
       "                                 OLS Regression Results                                \n",
       "=======================================================================================\n",
       "Dep. Variable:                  price   R-squared (uncentered):                   0.949\n",
       "Model:                            OLS   Adj. R-squared (uncentered):              0.949\n",
       "Method:                 Least Squares   F-statistic:                          3.000e+04\n",
       "Date:                Thu, 04 Jun 2020   Prob (F-statistic):                        0.00\n",
       "Time:                        10:52:23   Log-Likelihood:                     -1.6754e+05\n",
       "No. Observations:               12792   AIC:                                  3.351e+05\n",
       "Df Residuals:                   12784   BIC:                                  3.352e+05\n",
       "Df Model:                           8                                                  \n",
       "Covariance Type:            nonrobust                                                  \n",
       "========================================================================================\n",
       "                           coef    std err          t      P>|t|      [0.025      0.975]\n",
       "----------------------------------------------------------------------------------------\n",
       "bedrooms             -1.347e+04   1352.416     -9.958      0.000   -1.61e+04   -1.08e+04\n",
       "bathrooms             1.933e+04   1731.686     11.162      0.000    1.59e+04    2.27e+04\n",
       "sqft_living           1.007e+05   1730.104     58.199      0.000    9.73e+04    1.04e+05\n",
       "sqft_lot              1.042e+04   1124.287      9.265      0.000    8212.411    1.26e+04\n",
       "distance_from_a_city -1.011e+05   1153.088    -87.689      0.000   -1.03e+05   -9.89e+04\n",
       "Age_of_House          3.576e+04   1397.675     25.584      0.000     3.3e+04    3.85e+04\n",
       "basement             -2.303e+04   2276.911    -10.114      0.000   -2.75e+04   -1.86e+04\n",
       "grade                 6.521e+04    177.274    367.839      0.000    6.49e+04    6.56e+04\n",
       "==============================================================================\n",
       "Omnibus:                     1456.085   Durbin-Watson:                   2.015\n",
       "Prob(Omnibus):                  0.000   Jarque-Bera (JB):             3443.211\n",
       "Skew:                           0.677   Prob(JB):                         0.00\n",
       "Kurtosis:                       5.151   Cond. No.                         17.2\n",
       "==============================================================================\n",
       "\n",
       "Warnings:\n",
       "[1] Standard Errors assume that the covariance matrix of the errors is correctly specified.\n",
       "\"\"\""
      ]
     },
     "execution_count": 28,
     "metadata": {},
     "output_type": "execute_result"
    }
   ],
   "source": [
    "model = sm.OLS(y,X).fit()\n",
    "model.summary()"
   ]
  },
  {
   "cell_type": "code",
   "execution_count": 29,
   "metadata": {},
   "outputs": [
    {
     "data": {
      "text/plain": [
       "[('bedrooms', 1.664838831684881),\n",
       " ('bathrooms', 2.733843641894712),\n",
       " ('sqft_living', 2.6407057594970946),\n",
       " ('sqft_lot', 1.131895090582777),\n",
       " ('distance_from_a_city', 1.2101396104053066),\n",
       " ('Age_of_House', 1.7884941306606994),\n",
       " ('basement', 1.7696628099548788),\n",
       " ('grade', 1.6566620686275275)]"
      ]
     },
     "execution_count": 29,
     "metadata": {},
     "output_type": "execute_result"
    }
   ],
   "source": [
    "# Your code here - Code a way to identify multicollinearity\n",
    "from statsmodels.stats.outliers_influence import variance_inflation_factor\n",
    "X = df[x_cols]\n",
    "vif = [variance_inflation_factor(X.values,i) for i in range(X.shape[1])]\n",
    "list(zip(x_cols,vif))"
   ]
  },
  {
   "cell_type": "code",
   "execution_count": 30,
   "metadata": {},
   "outputs": [
    {
     "name": "stdout",
     "output_type": "stream",
     "text": [
      "8 8\n"
     ]
    }
   ],
   "source": [
    "vif_scores = list(zip(x_cols, vif))\n",
    "x_cols = [x for x,vif in vif_scores if vif < 5]\n",
    "print(len(vif_scores), len(x_cols))"
   ]
  },
  {
   "cell_type": "code",
   "execution_count": 31,
   "metadata": {},
   "outputs": [
    {
     "data": {
      "text/html": [
       "<table class=\"simpletable\">\n",
       "<caption>OLS Regression Results</caption>\n",
       "<tr>\n",
       "  <th>Dep. Variable:</th>          <td>price</td>      <th>  R-squared (uncentered):</th>       <td>   0.949</td>  \n",
       "</tr>\n",
       "<tr>\n",
       "  <th>Model:</th>                   <td>OLS</td>       <th>  Adj. R-squared (uncentered):</th>  <td>   0.949</td>  \n",
       "</tr>\n",
       "<tr>\n",
       "  <th>Method:</th>             <td>Least Squares</td>  <th>  F-statistic:       </th>           <td>3.000e+04</td> \n",
       "</tr>\n",
       "<tr>\n",
       "  <th>Date:</th>             <td>Thu, 04 Jun 2020</td> <th>  Prob (F-statistic):</th>            <td>  0.00</td>   \n",
       "</tr>\n",
       "<tr>\n",
       "  <th>Time:</th>                 <td>10:52:24</td>     <th>  Log-Likelihood:    </th>          <td>-1.6754e+05</td>\n",
       "</tr>\n",
       "<tr>\n",
       "  <th>No. Observations:</th>      <td> 12792</td>      <th>  AIC:               </th>           <td>3.351e+05</td> \n",
       "</tr>\n",
       "<tr>\n",
       "  <th>Df Residuals:</th>          <td> 12784</td>      <th>  BIC:               </th>           <td>3.352e+05</td> \n",
       "</tr>\n",
       "<tr>\n",
       "  <th>Df Model:</th>              <td>     8</td>      <th>                     </th>               <td> </td>     \n",
       "</tr>\n",
       "<tr>\n",
       "  <th>Covariance Type:</th>      <td>nonrobust</td>    <th>                     </th>               <td> </td>     \n",
       "</tr>\n",
       "</table>\n",
       "<table class=\"simpletable\">\n",
       "<tr>\n",
       "            <td></td>              <th>coef</th>     <th>std err</th>      <th>t</th>      <th>P>|t|</th>  <th>[0.025</th>    <th>0.975]</th>  \n",
       "</tr>\n",
       "<tr>\n",
       "  <th>bedrooms</th>             <td>-1.347e+04</td> <td> 1352.416</td> <td>   -9.958</td> <td> 0.000</td> <td>-1.61e+04</td> <td>-1.08e+04</td>\n",
       "</tr>\n",
       "<tr>\n",
       "  <th>bathrooms</th>            <td> 1.933e+04</td> <td> 1731.686</td> <td>   11.162</td> <td> 0.000</td> <td> 1.59e+04</td> <td> 2.27e+04</td>\n",
       "</tr>\n",
       "<tr>\n",
       "  <th>sqft_living</th>          <td> 1.007e+05</td> <td> 1730.104</td> <td>   58.199</td> <td> 0.000</td> <td> 9.73e+04</td> <td> 1.04e+05</td>\n",
       "</tr>\n",
       "<tr>\n",
       "  <th>sqft_lot</th>             <td> 1.042e+04</td> <td> 1124.287</td> <td>    9.265</td> <td> 0.000</td> <td> 8212.411</td> <td> 1.26e+04</td>\n",
       "</tr>\n",
       "<tr>\n",
       "  <th>distance_from_a_city</th> <td>-1.011e+05</td> <td> 1153.088</td> <td>  -87.689</td> <td> 0.000</td> <td>-1.03e+05</td> <td>-9.89e+04</td>\n",
       "</tr>\n",
       "<tr>\n",
       "  <th>Age_of_House</th>         <td> 3.576e+04</td> <td> 1397.675</td> <td>   25.584</td> <td> 0.000</td> <td>  3.3e+04</td> <td> 3.85e+04</td>\n",
       "</tr>\n",
       "<tr>\n",
       "  <th>basement</th>             <td>-2.303e+04</td> <td> 2276.911</td> <td>  -10.114</td> <td> 0.000</td> <td>-2.75e+04</td> <td>-1.86e+04</td>\n",
       "</tr>\n",
       "<tr>\n",
       "  <th>grade</th>                <td> 6.521e+04</td> <td>  177.274</td> <td>  367.839</td> <td> 0.000</td> <td> 6.49e+04</td> <td> 6.56e+04</td>\n",
       "</tr>\n",
       "</table>\n",
       "<table class=\"simpletable\">\n",
       "<tr>\n",
       "  <th>Omnibus:</th>       <td>1456.085</td> <th>  Durbin-Watson:     </th> <td>   2.015</td>\n",
       "</tr>\n",
       "<tr>\n",
       "  <th>Prob(Omnibus):</th>  <td> 0.000</td>  <th>  Jarque-Bera (JB):  </th> <td>3443.211</td>\n",
       "</tr>\n",
       "<tr>\n",
       "  <th>Skew:</th>           <td> 0.677</td>  <th>  Prob(JB):          </th> <td>    0.00</td>\n",
       "</tr>\n",
       "<tr>\n",
       "  <th>Kurtosis:</th>       <td> 5.151</td>  <th>  Cond. No.          </th> <td>    17.2</td>\n",
       "</tr>\n",
       "</table><br/><br/>Warnings:<br/>[1] Standard Errors assume that the covariance matrix of the errors is correctly specified."
      ],
      "text/plain": [
       "<class 'statsmodels.iolib.summary.Summary'>\n",
       "\"\"\"\n",
       "                                 OLS Regression Results                                \n",
       "=======================================================================================\n",
       "Dep. Variable:                  price   R-squared (uncentered):                   0.949\n",
       "Model:                            OLS   Adj. R-squared (uncentered):              0.949\n",
       "Method:                 Least Squares   F-statistic:                          3.000e+04\n",
       "Date:                Thu, 04 Jun 2020   Prob (F-statistic):                        0.00\n",
       "Time:                        10:52:24   Log-Likelihood:                     -1.6754e+05\n",
       "No. Observations:               12792   AIC:                                  3.351e+05\n",
       "Df Residuals:                   12784   BIC:                                  3.352e+05\n",
       "Df Model:                           8                                                  \n",
       "Covariance Type:            nonrobust                                                  \n",
       "========================================================================================\n",
       "                           coef    std err          t      P>|t|      [0.025      0.975]\n",
       "----------------------------------------------------------------------------------------\n",
       "bedrooms             -1.347e+04   1352.416     -9.958      0.000   -1.61e+04   -1.08e+04\n",
       "bathrooms             1.933e+04   1731.686     11.162      0.000    1.59e+04    2.27e+04\n",
       "sqft_living           1.007e+05   1730.104     58.199      0.000    9.73e+04    1.04e+05\n",
       "sqft_lot              1.042e+04   1124.287      9.265      0.000    8212.411    1.26e+04\n",
       "distance_from_a_city -1.011e+05   1153.088    -87.689      0.000   -1.03e+05   -9.89e+04\n",
       "Age_of_House          3.576e+04   1397.675     25.584      0.000     3.3e+04    3.85e+04\n",
       "basement             -2.303e+04   2276.911    -10.114      0.000   -2.75e+04   -1.86e+04\n",
       "grade                 6.521e+04    177.274    367.839      0.000    6.49e+04    6.56e+04\n",
       "==============================================================================\n",
       "Omnibus:                     1456.085   Durbin-Watson:                   2.015\n",
       "Prob(Omnibus):                  0.000   Jarque-Bera (JB):             3443.211\n",
       "Skew:                           0.677   Prob(JB):                         0.00\n",
       "Kurtosis:                       5.151   Cond. No.                         17.2\n",
       "==============================================================================\n",
       "\n",
       "Warnings:\n",
       "[1] Standard Errors assume that the covariance matrix of the errors is correctly specified.\n",
       "\"\"\""
      ]
     },
     "execution_count": 31,
     "metadata": {},
     "output_type": "execute_result"
    }
   ],
   "source": [
    "X = train[x_cols]\n",
    "y= train['price']\n",
    "model = sm.OLS(y,X).fit()\n",
    "model.summary()"
   ]
  },
  {
   "cell_type": "code",
   "execution_count": 32,
   "metadata": {
    "scrolled": false
   },
   "outputs": [
    {
     "data": {
      "text/html": [
       "<table class=\"simpletable\">\n",
       "<caption>OLS Regression Results</caption>\n",
       "<tr>\n",
       "  <th>Dep. Variable:</th>          <td>price</td>      <th>  R-squared (uncentered):</th>       <td>   0.949</td>  \n",
       "</tr>\n",
       "<tr>\n",
       "  <th>Model:</th>                   <td>OLS</td>       <th>  Adj. R-squared (uncentered):</th>  <td>   0.949</td>  \n",
       "</tr>\n",
       "<tr>\n",
       "  <th>Method:</th>             <td>Least Squares</td>  <th>  F-statistic:       </th>           <td>3.000e+04</td> \n",
       "</tr>\n",
       "<tr>\n",
       "  <th>Date:</th>             <td>Thu, 04 Jun 2020</td> <th>  Prob (F-statistic):</th>            <td>  0.00</td>   \n",
       "</tr>\n",
       "<tr>\n",
       "  <th>Time:</th>                 <td>10:52:25</td>     <th>  Log-Likelihood:    </th>          <td>-1.6754e+05</td>\n",
       "</tr>\n",
       "<tr>\n",
       "  <th>No. Observations:</th>      <td> 12792</td>      <th>  AIC:               </th>           <td>3.351e+05</td> \n",
       "</tr>\n",
       "<tr>\n",
       "  <th>Df Residuals:</th>          <td> 12784</td>      <th>  BIC:               </th>           <td>3.352e+05</td> \n",
       "</tr>\n",
       "<tr>\n",
       "  <th>Df Model:</th>              <td>     8</td>      <th>                     </th>               <td> </td>     \n",
       "</tr>\n",
       "<tr>\n",
       "  <th>Covariance Type:</th>      <td>nonrobust</td>    <th>                     </th>               <td> </td>     \n",
       "</tr>\n",
       "</table>\n",
       "<table class=\"simpletable\">\n",
       "<tr>\n",
       "            <td></td>              <th>coef</th>     <th>std err</th>      <th>t</th>      <th>P>|t|</th>  <th>[0.025</th>    <th>0.975]</th>  \n",
       "</tr>\n",
       "<tr>\n",
       "  <th>bedrooms</th>             <td>-1.347e+04</td> <td> 1352.416</td> <td>   -9.958</td> <td> 0.000</td> <td>-1.61e+04</td> <td>-1.08e+04</td>\n",
       "</tr>\n",
       "<tr>\n",
       "  <th>bathrooms</th>            <td> 1.933e+04</td> <td> 1731.686</td> <td>   11.162</td> <td> 0.000</td> <td> 1.59e+04</td> <td> 2.27e+04</td>\n",
       "</tr>\n",
       "<tr>\n",
       "  <th>sqft_living</th>          <td> 1.007e+05</td> <td> 1730.104</td> <td>   58.199</td> <td> 0.000</td> <td> 9.73e+04</td> <td> 1.04e+05</td>\n",
       "</tr>\n",
       "<tr>\n",
       "  <th>sqft_lot</th>             <td> 1.042e+04</td> <td> 1124.287</td> <td>    9.265</td> <td> 0.000</td> <td> 8212.411</td> <td> 1.26e+04</td>\n",
       "</tr>\n",
       "<tr>\n",
       "  <th>distance_from_a_city</th> <td>-1.011e+05</td> <td> 1153.088</td> <td>  -87.689</td> <td> 0.000</td> <td>-1.03e+05</td> <td>-9.89e+04</td>\n",
       "</tr>\n",
       "<tr>\n",
       "  <th>Age_of_House</th>         <td> 3.576e+04</td> <td> 1397.675</td> <td>   25.584</td> <td> 0.000</td> <td>  3.3e+04</td> <td> 3.85e+04</td>\n",
       "</tr>\n",
       "<tr>\n",
       "  <th>basement</th>             <td>-2.303e+04</td> <td> 2276.911</td> <td>  -10.114</td> <td> 0.000</td> <td>-2.75e+04</td> <td>-1.86e+04</td>\n",
       "</tr>\n",
       "<tr>\n",
       "  <th>grade</th>                <td> 6.521e+04</td> <td>  177.274</td> <td>  367.839</td> <td> 0.000</td> <td> 6.49e+04</td> <td> 6.56e+04</td>\n",
       "</tr>\n",
       "</table>\n",
       "<table class=\"simpletable\">\n",
       "<tr>\n",
       "  <th>Omnibus:</th>       <td>1456.085</td> <th>  Durbin-Watson:     </th> <td>   2.015</td>\n",
       "</tr>\n",
       "<tr>\n",
       "  <th>Prob(Omnibus):</th>  <td> 0.000</td>  <th>  Jarque-Bera (JB):  </th> <td>3443.211</td>\n",
       "</tr>\n",
       "<tr>\n",
       "  <th>Skew:</th>           <td> 0.677</td>  <th>  Prob(JB):          </th> <td>    0.00</td>\n",
       "</tr>\n",
       "<tr>\n",
       "  <th>Kurtosis:</th>       <td> 5.151</td>  <th>  Cond. No.          </th> <td>    17.2</td>\n",
       "</tr>\n",
       "</table><br/><br/>Warnings:<br/>[1] Standard Errors assume that the covariance matrix of the errors is correctly specified."
      ],
      "text/plain": [
       "<class 'statsmodels.iolib.summary.Summary'>\n",
       "\"\"\"\n",
       "                                 OLS Regression Results                                \n",
       "=======================================================================================\n",
       "Dep. Variable:                  price   R-squared (uncentered):                   0.949\n",
       "Model:                            OLS   Adj. R-squared (uncentered):              0.949\n",
       "Method:                 Least Squares   F-statistic:                          3.000e+04\n",
       "Date:                Thu, 04 Jun 2020   Prob (F-statistic):                        0.00\n",
       "Time:                        10:52:25   Log-Likelihood:                     -1.6754e+05\n",
       "No. Observations:               12792   AIC:                                  3.351e+05\n",
       "Df Residuals:                   12784   BIC:                                  3.352e+05\n",
       "Df Model:                           8                                                  \n",
       "Covariance Type:            nonrobust                                                  \n",
       "========================================================================================\n",
       "                           coef    std err          t      P>|t|      [0.025      0.975]\n",
       "----------------------------------------------------------------------------------------\n",
       "bedrooms             -1.347e+04   1352.416     -9.958      0.000   -1.61e+04   -1.08e+04\n",
       "bathrooms             1.933e+04   1731.686     11.162      0.000    1.59e+04    2.27e+04\n",
       "sqft_living           1.007e+05   1730.104     58.199      0.000    9.73e+04    1.04e+05\n",
       "sqft_lot              1.042e+04   1124.287      9.265      0.000    8212.411    1.26e+04\n",
       "distance_from_a_city -1.011e+05   1153.088    -87.689      0.000   -1.03e+05   -9.89e+04\n",
       "Age_of_House          3.576e+04   1397.675     25.584      0.000     3.3e+04    3.85e+04\n",
       "basement             -2.303e+04   2276.911    -10.114      0.000   -2.75e+04   -1.86e+04\n",
       "grade                 6.521e+04    177.274    367.839      0.000    6.49e+04    6.56e+04\n",
       "==============================================================================\n",
       "Omnibus:                     1456.085   Durbin-Watson:                   2.015\n",
       "Prob(Omnibus):                  0.000   Jarque-Bera (JB):             3443.211\n",
       "Skew:                           0.677   Prob(JB):                         0.00\n",
       "Kurtosis:                       5.151   Cond. No.                         17.2\n",
       "==============================================================================\n",
       "\n",
       "Warnings:\n",
       "[1] Standard Errors assume that the covariance matrix of the errors is correctly specified.\n",
       "\"\"\""
      ]
     },
     "execution_count": 32,
     "metadata": {},
     "output_type": "execute_result"
    }
   ],
   "source": [
    "model = sm.OLS(y,X).fit()\n",
    "model.summary()"
   ]
  },
  {
   "cell_type": "code",
   "execution_count": 33,
   "metadata": {},
   "outputs": [
    {
     "data": {
      "image/png": "[encoded data removed]",
      "text/plain": [
       "<Figure size 432x288 with 1 Axes>"
      ]
     },
     "metadata": {
      "needs_background": "light"
     },
     "output_type": "display_data"
    }
   ],
   "source": [
    "fig = sm.graphics.qqplot(model.resid, dist=stats.norm, line='45', fit=True)\n"
   ]
  },
  {
   "cell_type": "code",
   "execution_count": 34,
   "metadata": {},
   "outputs": [
    {
     "data": {
      "text/plain": [
       "[<matplotlib.lines.Line2D at 0x1c253086d8>]"
      ]
     },
     "execution_count": 34,
     "metadata": {},
     "output_type": "execute_result"
    },
    {
     "data": {
      "image/png": "[encoded data removed]",
      "text/plain": [
       "<Figure size 432x288 with 1 Axes>"
      ]
     },
     "metadata": {
      "needs_background": "light"
     },
     "output_type": "display_data"
    }
   ],
   "source": [
    "plt.scatter(model.predict(train[x_cols]), model.resid)\n",
    "plt.plot(model.predict(train[x_cols]), [0 for i in range(len(train))])"
   ]
  },
  {
   "cell_type": "code",
   "execution_count": 35,
   "metadata": {},
   "outputs": [
    {
     "data": {
      "text/plain": [
       "<matplotlib.axes._subplots.AxesSubplot at 0x1c25266d68>"
      ]
     },
     "execution_count": 35,
     "metadata": {},
     "output_type": "execute_result"
    },
    {
     "data": {
      "image/png": "[encoded data removed]",
      "text/plain": [
       "<Figure size 432x288 with 1 Axes>"
      ]
     },
     "metadata": {
      "needs_background": "light"
     },
     "output_type": "display_data"
    }
   ],
   "source": [
    "df.price.hist()"
   ]
  },
  {
   "cell_type": "code",
   "execution_count": 36,
   "metadata": {},
   "outputs": [
    {
     "name": "stdout",
     "output_type": "stream",
     "text": [
      "0.8 percentile: 649000.0\n",
      "0.81 percentile: 655775.0000000005\n",
      "0.82 percentile: 669894.2\n",
      "0.83 percentile: 680000.0\n",
      "0.84 percentile: 695000.0\n",
      "0.85 percentile: 705000.0\n",
      "0.86 percentile: 720000.0\n",
      "0.87 percentile: 735000.0\n",
      "0.88 percentile: 750000.0\n",
      "0.89 percentile: 765000.0\n",
      "0.9 percentile: 780000.0\n",
      "0.91 percentile: 800000.0\n",
      "0.92 percentile: 820000.0\n",
      "0.93 percentile: 844150.0000000014\n",
      "0.94 percentile: 865000.0\n",
      "0.95 percentile: 898597.0\n",
      "0.96 percentile: 932951.9999999999\n",
      "0.97 percentile: 980000.0\n",
      "0.98 percentile: 1050000.0\n",
      "0.99 percentile: 1190000.0\n"
     ]
    }
   ],
   "source": [
    "for i in range(80,100):\n",
    "    q = i/100\n",
    "    print(\"{} percentile: {}\".format(q, df.price.quantile(q=q)))"
   ]
  },
  {
   "cell_type": "code",
   "execution_count": 37,
   "metadata": {},
   "outputs": [
    {
     "name": "stdout",
     "output_type": "stream",
     "text": [
      "Percent removed: 0.016651031894934335\n"
     ]
    }
   ],
   "source": [
    "orig_tot = len(df)\n",
    "df = df[df.price < 1100000] # Subsetting to remove extreme outliers\n",
    "print('Percent removed:', (orig_tot -len(df))/orig_tot)\n",
    "train, test = train_test_split(df)"
   ]
  },
  {
   "cell_type": "code",
   "execution_count": 38,
   "metadata": {},
   "outputs": [],
   "source": [
    "X = train[x_cols]\n",
    "y = train['price']"
   ]
  },
  {
   "cell_type": "code",
   "execution_count": 39,
   "metadata": {},
   "outputs": [
    {
     "data": {
      "text/html": [
       "<table class=\"simpletable\">\n",
       "<caption>OLS Regression Results</caption>\n",
       "<tr>\n",
       "  <th>Dep. Variable:</th>          <td>price</td>      <th>  R-squared (uncentered):</th>       <td>   0.955</td>  \n",
       "</tr>\n",
       "<tr>\n",
       "  <th>Model:</th>                   <td>OLS</td>       <th>  Adj. R-squared (uncentered):</th>  <td>   0.955</td>  \n",
       "</tr>\n",
       "<tr>\n",
       "  <th>Method:</th>             <td>Least Squares</td>  <th>  F-statistic:       </th>           <td>3.355e+04</td> \n",
       "</tr>\n",
       "<tr>\n",
       "  <th>Date:</th>             <td>Thu, 04 Jun 2020</td> <th>  Prob (F-statistic):</th>            <td>  0.00</td>   \n",
       "</tr>\n",
       "<tr>\n",
       "  <th>Time:</th>                 <td>10:52:27</td>     <th>  Log-Likelihood:    </th>          <td>-1.6350e+05</td>\n",
       "</tr>\n",
       "<tr>\n",
       "  <th>No. Observations:</th>      <td> 12579</td>      <th>  AIC:               </th>           <td>3.270e+05</td> \n",
       "</tr>\n",
       "<tr>\n",
       "  <th>Df Residuals:</th>          <td> 12571</td>      <th>  BIC:               </th>           <td>3.271e+05</td> \n",
       "</tr>\n",
       "<tr>\n",
       "  <th>Df Model:</th>              <td>     8</td>      <th>                     </th>               <td> </td>     \n",
       "</tr>\n",
       "<tr>\n",
       "  <th>Covariance Type:</th>      <td>nonrobust</td>    <th>                     </th>               <td> </td>     \n",
       "</tr>\n",
       "</table>\n",
       "<table class=\"simpletable\">\n",
       "<tr>\n",
       "            <td></td>              <th>coef</th>     <th>std err</th>      <th>t</th>      <th>P>|t|</th>  <th>[0.025</th>    <th>0.975]</th>  \n",
       "</tr>\n",
       "<tr>\n",
       "  <th>bedrooms</th>             <td>-1.201e+04</td> <td> 1236.657</td> <td>   -9.714</td> <td> 0.000</td> <td>-1.44e+04</td> <td>-9589.159</td>\n",
       "</tr>\n",
       "<tr>\n",
       "  <th>bathrooms</th>            <td> 1.739e+04</td> <td> 1584.927</td> <td>   10.970</td> <td> 0.000</td> <td> 1.43e+04</td> <td> 2.05e+04</td>\n",
       "</tr>\n",
       "<tr>\n",
       "  <th>sqft_living</th>          <td> 9.152e+04</td> <td> 1593.532</td> <td>   57.434</td> <td> 0.000</td> <td> 8.84e+04</td> <td> 9.46e+04</td>\n",
       "</tr>\n",
       "<tr>\n",
       "  <th>sqft_lot</th>             <td> 1.192e+04</td> <td> 1022.349</td> <td>   11.657</td> <td> 0.000</td> <td> 9913.855</td> <td> 1.39e+04</td>\n",
       "</tr>\n",
       "<tr>\n",
       "  <th>distance_from_a_city</th> <td>-9.557e+04</td> <td> 1052.752</td> <td>  -90.779</td> <td> 0.000</td> <td>-9.76e+04</td> <td>-9.35e+04</td>\n",
       "</tr>\n",
       "<tr>\n",
       "  <th>Age_of_House</th>         <td> 3.372e+04</td> <td> 1288.119</td> <td>   26.178</td> <td> 0.000</td> <td> 3.12e+04</td> <td> 3.62e+04</td>\n",
       "</tr>\n",
       "<tr>\n",
       "  <th>basement</th>             <td>-2.234e+04</td> <td> 2082.930</td> <td>  -10.725</td> <td> 0.000</td> <td>-2.64e+04</td> <td>-1.83e+04</td>\n",
       "</tr>\n",
       "<tr>\n",
       "  <th>grade</th>                <td> 6.421e+04</td> <td>  162.802</td> <td>  394.379</td> <td> 0.000</td> <td> 6.39e+04</td> <td> 6.45e+04</td>\n",
       "</tr>\n",
       "</table>\n",
       "<table class=\"simpletable\">\n",
       "<tr>\n",
       "  <th>Omnibus:</th>       <td>553.842</td> <th>  Durbin-Watson:     </th> <td>   2.021</td> \n",
       "</tr>\n",
       "<tr>\n",
       "  <th>Prob(Omnibus):</th> <td> 0.000</td>  <th>  Jarque-Bera (JB):  </th> <td> 992.498</td> \n",
       "</tr>\n",
       "<tr>\n",
       "  <th>Skew:</th>          <td> 0.353</td>  <th>  Prob(JB):          </th> <td>3.03e-216</td>\n",
       "</tr>\n",
       "<tr>\n",
       "  <th>Kurtosis:</th>      <td> 4.181</td>  <th>  Cond. No.          </th> <td>    17.3</td> \n",
       "</tr>\n",
       "</table><br/><br/>Warnings:<br/>[1] Standard Errors assume that the covariance matrix of the errors is correctly specified."
      ],
      "text/plain": [
       "<class 'statsmodels.iolib.summary.Summary'>\n",
       "\"\"\"\n",
       "                                 OLS Regression Results                                \n",
       "=======================================================================================\n",
       "Dep. Variable:                  price   R-squared (uncentered):                   0.955\n",
       "Model:                            OLS   Adj. R-squared (uncentered):              0.955\n",
       "Method:                 Least Squares   F-statistic:                          3.355e+04\n",
       "Date:                Thu, 04 Jun 2020   Prob (F-statistic):                        0.00\n",
       "Time:                        10:52:27   Log-Likelihood:                     -1.6350e+05\n",
       "No. Observations:               12579   AIC:                                  3.270e+05\n",
       "Df Residuals:                   12571   BIC:                                  3.271e+05\n",
       "Df Model:                           8                                                  \n",
       "Covariance Type:            nonrobust                                                  \n",
       "========================================================================================\n",
       "                           coef    std err          t      P>|t|      [0.025      0.975]\n",
       "----------------------------------------------------------------------------------------\n",
       "bedrooms             -1.201e+04   1236.657     -9.714      0.000   -1.44e+04   -9589.159\n",
       "bathrooms             1.739e+04   1584.927     10.970      0.000    1.43e+04    2.05e+04\n",
       "sqft_living           9.152e+04   1593.532     57.434      0.000    8.84e+04    9.46e+04\n",
       "sqft_lot              1.192e+04   1022.349     11.657      0.000    9913.855    1.39e+04\n",
       "distance_from_a_city -9.557e+04   1052.752    -90.779      0.000   -9.76e+04   -9.35e+04\n",
       "Age_of_House          3.372e+04   1288.119     26.178      0.000    3.12e+04    3.62e+04\n",
       "basement             -2.234e+04   2082.930    -10.725      0.000   -2.64e+04   -1.83e+04\n",
       "grade                 6.421e+04    162.802    394.379      0.000    6.39e+04    6.45e+04\n",
       "==============================================================================\n",
       "Omnibus:                      553.842   Durbin-Watson:                   2.021\n",
       "Prob(Omnibus):                  0.000   Jarque-Bera (JB):              992.498\n",
       "Skew:                           0.353   Prob(JB):                    3.03e-216\n",
       "Kurtosis:                       4.181   Cond. No.                         17.3\n",
       "==============================================================================\n",
       "\n",
       "Warnings:\n",
       "[1] Standard Errors assume that the covariance matrix of the errors is correctly specified.\n",
       "\"\"\""
      ]
     },
     "execution_count": 39,
     "metadata": {},
     "output_type": "execute_result"
    }
   ],
   "source": [
    "model = sm.OLS(y,X).fit()\n",
    "model.summary()"
   ]
  },
  {
   "cell_type": "code",
   "execution_count": 40,
   "metadata": {},
   "outputs": [
    {
     "name": "stdout",
     "output_type": "stream",
     "text": [
      "8 8\n",
      "['bedrooms', 'bathrooms', 'sqft_living', 'sqft_lot', 'distance_from_a_city']\n"
     ]
    },
    {
     "data": {
      "text/html": [
       "<div>\n",
       "<style scoped>\n",
       "    .dataframe tbody tr th:only-of-type {\n",
       "        vertical-align: middle;\n",
       "    }\n",
       "\n",
       "    .dataframe tbody tr th {\n",
       "        vertical-align: top;\n",
       "    }\n",
       "\n",
       "    .dataframe thead th {\n",
       "        text-align: right;\n",
       "    }\n",
       "</style>\n",
       "<table border=\"1\" class=\"dataframe\">\n",
       "  <thead>\n",
       "    <tr style=\"text-align: right;\">\n",
       "      <th></th>\n",
       "      <th>coef</th>\n",
       "      <th>std err</th>\n",
       "      <th>t</th>\n",
       "      <th>P&gt;|t|</th>\n",
       "      <th>[0.025</th>\n",
       "      <th>0.975]</th>\n",
       "    </tr>\n",
       "    <tr>\n",
       "      <th></th>\n",
       "      <th></th>\n",
       "      <th></th>\n",
       "      <th></th>\n",
       "      <th></th>\n",
       "      <th></th>\n",
       "      <th></th>\n",
       "    </tr>\n",
       "  </thead>\n",
       "  <tbody>\n",
       "    <tr>\n",
       "      <td>bedrooms</td>\n",
       "      <td>-1.201e+04</td>\n",
       "      <td>1236.657</td>\n",
       "      <td>-9.714</td>\n",
       "      <td>0.0</td>\n",
       "      <td>-1.44e+04</td>\n",
       "      <td>-9589.159</td>\n",
       "    </tr>\n",
       "    <tr>\n",
       "      <td>bathrooms</td>\n",
       "      <td>1.739e+04</td>\n",
       "      <td>1584.927</td>\n",
       "      <td>10.970</td>\n",
       "      <td>0.0</td>\n",
       "      <td>1.43e+04</td>\n",
       "      <td>2.05e+04</td>\n",
       "    </tr>\n",
       "    <tr>\n",
       "      <td>sqft_living</td>\n",
       "      <td>9.152e+04</td>\n",
       "      <td>1593.532</td>\n",
       "      <td>57.434</td>\n",
       "      <td>0.0</td>\n",
       "      <td>8.84e+04</td>\n",
       "      <td>9.46e+04</td>\n",
       "    </tr>\n",
       "    <tr>\n",
       "      <td>sqft_lot</td>\n",
       "      <td>1.192e+04</td>\n",
       "      <td>1022.349</td>\n",
       "      <td>11.657</td>\n",
       "      <td>0.0</td>\n",
       "      <td>9913.855</td>\n",
       "      <td>1.39e+04</td>\n",
       "    </tr>\n",
       "    <tr>\n",
       "      <td>distance_from_a_city</td>\n",
       "      <td>-9.557e+04</td>\n",
       "      <td>1052.752</td>\n",
       "      <td>-90.779</td>\n",
       "      <td>0.0</td>\n",
       "      <td>-9.76e+04</td>\n",
       "      <td>-9.35e+04</td>\n",
       "    </tr>\n",
       "  </tbody>\n",
       "</table>\n",
       "</div>"
      ],
      "text/plain": [
       "0                           coef    std err          t  P>|t|     [0.025  \\\n",
       "                                                                           \n",
       "bedrooms              -1.201e+04   1236.657     -9.714    0.0  -1.44e+04   \n",
       "bathrooms              1.739e+04   1584.927     10.970    0.0   1.43e+04   \n",
       "sqft_living            9.152e+04   1593.532     57.434    0.0   8.84e+04   \n",
       "sqft_lot               1.192e+04   1022.349     11.657    0.0   9913.855   \n",
       "distance_from_a_city  -9.557e+04   1052.752    -90.779    0.0  -9.76e+04   \n",
       "\n",
       "0                        0.975]  \n",
       "                                 \n",
       "bedrooms              -9589.159  \n",
       "bathrooms              2.05e+04  \n",
       "sqft_living            9.46e+04  \n",
       "sqft_lot               1.39e+04  \n",
       "distance_from_a_city  -9.35e+04  "
      ]
     },
     "execution_count": 40,
     "metadata": {},
     "output_type": "execute_result"
    }
   ],
   "source": [
    "summary = model.summary()\n",
    "p_table = summary.tables[1]\n",
    "p_table = pd.DataFrame(p_table.data)\n",
    "p_table.columns = p_table.iloc[0]\n",
    "p_table = p_table.drop(0)\n",
    "p_table = p_table.set_index(p_table.columns[0])\n",
    "p_table['P>|t|'] = p_table['P>|t|'].astype(float)\n",
    "x_cols = list(p_table[p_table['P>|t|'] < 0.05].index)\n",
    "print(len(p_table), len(x_cols))\n",
    "print(x_cols[:5])\n",
    "p_table.head()"
   ]
  },
  {
   "cell_type": "code",
   "execution_count": 41,
   "metadata": {},
   "outputs": [
    {
     "data": {
      "text/html": [
       "<table class=\"simpletable\">\n",
       "<caption>OLS Regression Results</caption>\n",
       "<tr>\n",
       "  <th>Dep. Variable:</th>          <td>price</td>      <th>  R-squared (uncentered):</th>       <td>   0.955</td>  \n",
       "</tr>\n",
       "<tr>\n",
       "  <th>Model:</th>                   <td>OLS</td>       <th>  Adj. R-squared (uncentered):</th>  <td>   0.955</td>  \n",
       "</tr>\n",
       "<tr>\n",
       "  <th>Method:</th>             <td>Least Squares</td>  <th>  F-statistic:       </th>           <td>3.355e+04</td> \n",
       "</tr>\n",
       "<tr>\n",
       "  <th>Date:</th>             <td>Thu, 04 Jun 2020</td> <th>  Prob (F-statistic):</th>            <td>  0.00</td>   \n",
       "</tr>\n",
       "<tr>\n",
       "  <th>Time:</th>                 <td>10:52:28</td>     <th>  Log-Likelihood:    </th>          <td>-1.6350e+05</td>\n",
       "</tr>\n",
       "<tr>\n",
       "  <th>No. Observations:</th>      <td> 12579</td>      <th>  AIC:               </th>           <td>3.270e+05</td> \n",
       "</tr>\n",
       "<tr>\n",
       "  <th>Df Residuals:</th>          <td> 12571</td>      <th>  BIC:               </th>           <td>3.271e+05</td> \n",
       "</tr>\n",
       "<tr>\n",
       "  <th>Df Model:</th>              <td>     8</td>      <th>                     </th>               <td> </td>     \n",
       "</tr>\n",
       "<tr>\n",
       "  <th>Covariance Type:</th>      <td>nonrobust</td>    <th>                     </th>               <td> </td>     \n",
       "</tr>\n",
       "</table>\n",
       "<table class=\"simpletable\">\n",
       "<tr>\n",
       "            <td></td>              <th>coef</th>     <th>std err</th>      <th>t</th>      <th>P>|t|</th>  <th>[0.025</th>    <th>0.975]</th>  \n",
       "</tr>\n",
       "<tr>\n",
       "  <th>bedrooms</th>             <td>-1.201e+04</td> <td> 1236.657</td> <td>   -9.714</td> <td> 0.000</td> <td>-1.44e+04</td> <td>-9589.159</td>\n",
       "</tr>\n",
       "<tr>\n",
       "  <th>bathrooms</th>            <td> 1.739e+04</td> <td> 1584.927</td> <td>   10.970</td> <td> 0.000</td> <td> 1.43e+04</td> <td> 2.05e+04</td>\n",
       "</tr>\n",
       "<tr>\n",
       "  <th>sqft_living</th>          <td> 9.152e+04</td> <td> 1593.532</td> <td>   57.434</td> <td> 0.000</td> <td> 8.84e+04</td> <td> 9.46e+04</td>\n",
       "</tr>\n",
       "<tr>\n",
       "  <th>sqft_lot</th>             <td> 1.192e+04</td> <td> 1022.349</td> <td>   11.657</td> <td> 0.000</td> <td> 9913.855</td> <td> 1.39e+04</td>\n",
       "</tr>\n",
       "<tr>\n",
       "  <th>distance_from_a_city</th> <td>-9.557e+04</td> <td> 1052.752</td> <td>  -90.779</td> <td> 0.000</td> <td>-9.76e+04</td> <td>-9.35e+04</td>\n",
       "</tr>\n",
       "<tr>\n",
       "  <th>Age_of_House</th>         <td> 3.372e+04</td> <td> 1288.119</td> <td>   26.178</td> <td> 0.000</td> <td> 3.12e+04</td> <td> 3.62e+04</td>\n",
       "</tr>\n",
       "<tr>\n",
       "  <th>basement</th>             <td>-2.234e+04</td> <td> 2082.930</td> <td>  -10.725</td> <td> 0.000</td> <td>-2.64e+04</td> <td>-1.83e+04</td>\n",
       "</tr>\n",
       "<tr>\n",
       "  <th>grade</th>                <td> 6.421e+04</td> <td>  162.802</td> <td>  394.379</td> <td> 0.000</td> <td> 6.39e+04</td> <td> 6.45e+04</td>\n",
       "</tr>\n",
       "</table>\n",
       "<table class=\"simpletable\">\n",
       "<tr>\n",
       "  <th>Omnibus:</th>       <td>553.842</td> <th>  Durbin-Watson:     </th> <td>   2.021</td> \n",
       "</tr>\n",
       "<tr>\n",
       "  <th>Prob(Omnibus):</th> <td> 0.000</td>  <th>  Jarque-Bera (JB):  </th> <td> 992.498</td> \n",
       "</tr>\n",
       "<tr>\n",
       "  <th>Skew:</th>          <td> 0.353</td>  <th>  Prob(JB):          </th> <td>3.03e-216</td>\n",
       "</tr>\n",
       "<tr>\n",
       "  <th>Kurtosis:</th>      <td> 4.181</td>  <th>  Cond. No.          </th> <td>    17.3</td> \n",
       "</tr>\n",
       "</table><br/><br/>Warnings:<br/>[1] Standard Errors assume that the covariance matrix of the errors is correctly specified."
      ],
      "text/plain": [
       "<class 'statsmodels.iolib.summary.Summary'>\n",
       "\"\"\"\n",
       "                                 OLS Regression Results                                \n",
       "=======================================================================================\n",
       "Dep. Variable:                  price   R-squared (uncentered):                   0.955\n",
       "Model:                            OLS   Adj. R-squared (uncentered):              0.955\n",
       "Method:                 Least Squares   F-statistic:                          3.355e+04\n",
       "Date:                Thu, 04 Jun 2020   Prob (F-statistic):                        0.00\n",
       "Time:                        10:52:28   Log-Likelihood:                     -1.6350e+05\n",
       "No. Observations:               12579   AIC:                                  3.270e+05\n",
       "Df Residuals:                   12571   BIC:                                  3.271e+05\n",
       "Df Model:                           8                                                  \n",
       "Covariance Type:            nonrobust                                                  \n",
       "========================================================================================\n",
       "                           coef    std err          t      P>|t|      [0.025      0.975]\n",
       "----------------------------------------------------------------------------------------\n",
       "bedrooms             -1.201e+04   1236.657     -9.714      0.000   -1.44e+04   -9589.159\n",
       "bathrooms             1.739e+04   1584.927     10.970      0.000    1.43e+04    2.05e+04\n",
       "sqft_living           9.152e+04   1593.532     57.434      0.000    8.84e+04    9.46e+04\n",
       "sqft_lot              1.192e+04   1022.349     11.657      0.000    9913.855    1.39e+04\n",
       "distance_from_a_city -9.557e+04   1052.752    -90.779      0.000   -9.76e+04   -9.35e+04\n",
       "Age_of_House          3.372e+04   1288.119     26.178      0.000    3.12e+04    3.62e+04\n",
       "basement             -2.234e+04   2082.930    -10.725      0.000   -2.64e+04   -1.83e+04\n",
       "grade                 6.421e+04    162.802    394.379      0.000    6.39e+04    6.45e+04\n",
       "==============================================================================\n",
       "Omnibus:                      553.842   Durbin-Watson:                   2.021\n",
       "Prob(Omnibus):                  0.000   Jarque-Bera (JB):              992.498\n",
       "Skew:                           0.353   Prob(JB):                    3.03e-216\n",
       "Kurtosis:                       4.181   Cond. No.                         17.3\n",
       "==============================================================================\n",
       "\n",
       "Warnings:\n",
       "[1] Standard Errors assume that the covariance matrix of the errors is correctly specified.\n",
       "\"\"\""
      ]
     },
     "execution_count": 41,
     "metadata": {},
     "output_type": "execute_result"
    }
   ],
   "source": [
    "X = train[x_cols]\n",
    "y= train['price']\n",
    "model = sm.OLS(y,X).fit()\n",
    "model.summary()"
   ]
  },
  {
   "cell_type": "code",
   "execution_count": 42,
   "metadata": {},
   "outputs": [
    {
     "data": {
      "text/plain": [
       "[('bedrooms', 1.66373100073868),\n",
       " ('bathrooms', 2.712055307823811),\n",
       " ('sqft_living', 2.6134140946827027),\n",
       " ('sqft_lot', 1.132628777143108),\n",
       " ('distance_from_a_city', 1.2088091060927226),\n",
       " ('Age_of_House', 1.811193357929755),\n",
       " ('basement', 1.755167878140606),\n",
       " ('grade', 1.655430701813613)]"
      ]
     },
     "execution_count": 42,
     "metadata": {},
     "output_type": "execute_result"
    }
   ],
   "source": [
    "# Your code here - Code a way to identify multicollinearity\n",
    "from statsmodels.stats.outliers_influence import variance_inflation_factor\n",
    "X = df[x_cols]\n",
    "vif = [variance_inflation_factor(X.values,i) for i in range(X.shape[1])]\n",
    "list(zip(x_cols,vif))"
   ]
  },
  {
   "cell_type": "code",
   "execution_count": 43,
   "metadata": {},
   "outputs": [
    {
     "data": {
      "image/png": "[encoded data removed]",
      "text/plain": [
       "<Figure size 432x288 with 1 Axes>"
      ]
     },
     "metadata": {
      "needs_background": "light"
     },
     "output_type": "display_data"
    }
   ],
   "source": [
    "fig = sm.graphics.qqplot(model.resid, dist=stats.norm, line='45', fit=True)\n"
   ]
  },
  {
   "cell_type": "code",
   "execution_count": 44,
   "metadata": {},
   "outputs": [
    {
     "data": {
      "text/plain": [
       "[<matplotlib.lines.Line2D at 0x1c224ac630>]"
      ]
     },
     "execution_count": 44,
     "metadata": {},
     "output_type": "execute_result"
    },
    {
     "data": {
      "image/png": "[encoded data removed]",
      "text/plain": [
       "<Figure size 432x288 with 1 Axes>"
      ]
     },
     "metadata": {
      "needs_background": "light"
     },
     "output_type": "display_data"
    }
   ],
   "source": [
    "plt.scatter(model.predict(train[x_cols]), model.resid)\n",
    "plt.plot(model.predict(train[x_cols]), [0 for i in range(len(train))])"
   ]
  },
  {
   "cell_type": "code",
   "execution_count": 45,
   "metadata": {},
   "outputs": [
    {
     "name": "stdout",
     "output_type": "stream",
     "text": [
      "0.8 percentile: 632500.0\n",
      "0.81 percentile: 643729.5000000001\n",
      "0.82 percentile: 650583.5999999997\n",
      "0.83 percentile: 665000.0\n",
      "0.84 percentile: 675000.0\n",
      "0.85 percentile: 689175.0000000002\n",
      "0.86 percentile: 700000.0\n",
      "0.87 percentile: 715000.0\n",
      "0.88 percentile: 727000.0\n",
      "0.89 percentile: 742000.0\n",
      "0.9 percentile: 755000.0\n",
      "0.91 percentile: 775000.0\n",
      "0.92 percentile: 790000.0\n",
      "0.93 percentile: 809950.0\n",
      "0.94 percentile: 830000.0\n",
      "0.95 percentile: 850000.0\n",
      "0.96 percentile: 875145.44\n",
      "0.97 percentile: 909993.5\n",
      "0.98 percentile: 950000.0\n",
      "0.99 percentile: 998000.0\n"
     ]
    },
    {
     "data": {
      "text/plain": [
       "<matplotlib.axes._subplots.AxesSubplot at 0x1c27fa8470>"
      ]
     },
     "execution_count": 45,
     "metadata": {},
     "output_type": "execute_result"
    },
    {
     "data": {
      "image/png": "[encoded data removed]",
      "text/plain": [
       "<Figure size 432x288 with 1 Axes>"
      ]
     },
     "metadata": {
      "needs_background": "light"
     },
     "output_type": "display_data"
    }
   ],
   "source": [
    "for i in range(80,100):\n",
    "    q = i/100\n",
    "    print(\"{} percentile: {}\".format(q, df.price.quantile(q=q)))\n",
    "\n",
    "df.price.hist()"
   ]
  },
  {
   "cell_type": "code",
   "execution_count": 46,
   "metadata": {},
   "outputs": [],
   "source": [
    "df = df[df.price <= 9250000]\n",
    "train, test = train_test_split(df)"
   ]
  },
  {
   "cell_type": "code",
   "execution_count": 47,
   "metadata": {},
   "outputs": [
    {
     "data": {
      "text/html": [
       "<table class=\"simpletable\">\n",
       "<caption>OLS Regression Results</caption>\n",
       "<tr>\n",
       "  <th>Dep. Variable:</th>          <td>price</td>      <th>  R-squared (uncentered):</th>       <td>   0.955</td>  \n",
       "</tr>\n",
       "<tr>\n",
       "  <th>Model:</th>                   <td>OLS</td>       <th>  Adj. R-squared (uncentered):</th>  <td>   0.955</td>  \n",
       "</tr>\n",
       "<tr>\n",
       "  <th>Method:</th>             <td>Least Squares</td>  <th>  F-statistic:       </th>           <td>3.340e+04</td> \n",
       "</tr>\n",
       "<tr>\n",
       "  <th>Date:</th>             <td>Thu, 04 Jun 2020</td> <th>  Prob (F-statistic):</th>            <td>  0.00</td>   \n",
       "</tr>\n",
       "<tr>\n",
       "  <th>Time:</th>                 <td>10:52:31</td>     <th>  Log-Likelihood:    </th>          <td>-1.6358e+05</td>\n",
       "</tr>\n",
       "<tr>\n",
       "  <th>No. Observations:</th>      <td> 12579</td>      <th>  AIC:               </th>           <td>3.272e+05</td> \n",
       "</tr>\n",
       "<tr>\n",
       "  <th>Df Residuals:</th>          <td> 12571</td>      <th>  BIC:               </th>           <td>3.272e+05</td> \n",
       "</tr>\n",
       "<tr>\n",
       "  <th>Df Model:</th>              <td>     8</td>      <th>                     </th>               <td> </td>     \n",
       "</tr>\n",
       "<tr>\n",
       "  <th>Covariance Type:</th>      <td>nonrobust</td>    <th>                     </th>               <td> </td>     \n",
       "</tr>\n",
       "</table>\n",
       "<table class=\"simpletable\">\n",
       "<tr>\n",
       "            <td></td>              <th>coef</th>     <th>std err</th>      <th>t</th>      <th>P>|t|</th>  <th>[0.025</th>    <th>0.975]</th>  \n",
       "</tr>\n",
       "<tr>\n",
       "  <th>bedrooms</th>             <td>-1.343e+04</td> <td> 1255.755</td> <td>  -10.696</td> <td> 0.000</td> <td>-1.59e+04</td> <td> -1.1e+04</td>\n",
       "</tr>\n",
       "<tr>\n",
       "  <th>bathrooms</th>            <td> 1.784e+04</td> <td> 1603.676</td> <td>   11.127</td> <td> 0.000</td> <td> 1.47e+04</td> <td>  2.1e+04</td>\n",
       "</tr>\n",
       "<tr>\n",
       "  <th>sqft_living</th>          <td> 9.221e+04</td> <td> 1608.105</td> <td>   57.343</td> <td> 0.000</td> <td> 8.91e+04</td> <td> 9.54e+04</td>\n",
       "</tr>\n",
       "<tr>\n",
       "  <th>sqft_lot</th>             <td> 1.056e+04</td> <td> 1012.935</td> <td>   10.429</td> <td> 0.000</td> <td> 8577.893</td> <td> 1.25e+04</td>\n",
       "</tr>\n",
       "<tr>\n",
       "  <th>distance_from_a_city</th> <td>-9.478e+04</td> <td> 1058.520</td> <td>  -89.544</td> <td> 0.000</td> <td>-9.69e+04</td> <td>-9.27e+04</td>\n",
       "</tr>\n",
       "<tr>\n",
       "  <th>Age_of_House</th>         <td> 3.396e+04</td> <td> 1299.416</td> <td>   26.134</td> <td> 0.000</td> <td> 3.14e+04</td> <td> 3.65e+04</td>\n",
       "</tr>\n",
       "<tr>\n",
       "  <th>basement</th>             <td>-2.178e+04</td> <td> 2097.163</td> <td>  -10.388</td> <td> 0.000</td> <td>-2.59e+04</td> <td>-1.77e+04</td>\n",
       "</tr>\n",
       "<tr>\n",
       "  <th>grade</th>                <td> 6.429e+04</td> <td>  163.608</td> <td>  392.968</td> <td> 0.000</td> <td>  6.4e+04</td> <td> 6.46e+04</td>\n",
       "</tr>\n",
       "</table>\n",
       "<table class=\"simpletable\">\n",
       "<tr>\n",
       "  <th>Omnibus:</th>       <td>510.666</td> <th>  Durbin-Watson:     </th> <td>   2.025</td> \n",
       "</tr>\n",
       "<tr>\n",
       "  <th>Prob(Omnibus):</th> <td> 0.000</td>  <th>  Jarque-Bera (JB):  </th> <td> 858.782</td> \n",
       "</tr>\n",
       "<tr>\n",
       "  <th>Skew:</th>          <td> 0.349</td>  <th>  Prob(JB):          </th> <td>3.30e-187</td>\n",
       "</tr>\n",
       "<tr>\n",
       "  <th>Kurtosis:</th>      <td> 4.073</td>  <th>  Cond. No.          </th> <td>    17.3</td> \n",
       "</tr>\n",
       "</table><br/><br/>Warnings:<br/>[1] Standard Errors assume that the covariance matrix of the errors is correctly specified."
      ],
      "text/plain": [
       "<class 'statsmodels.iolib.summary.Summary'>\n",
       "\"\"\"\n",
       "                                 OLS Regression Results                                \n",
       "=======================================================================================\n",
       "Dep. Variable:                  price   R-squared (uncentered):                   0.955\n",
       "Model:                            OLS   Adj. R-squared (uncentered):              0.955\n",
       "Method:                 Least Squares   F-statistic:                          3.340e+04\n",
       "Date:                Thu, 04 Jun 2020   Prob (F-statistic):                        0.00\n",
       "Time:                        10:52:31   Log-Likelihood:                     -1.6358e+05\n",
       "No. Observations:               12579   AIC:                                  3.272e+05\n",
       "Df Residuals:                   12571   BIC:                                  3.272e+05\n",
       "Df Model:                           8                                                  \n",
       "Covariance Type:            nonrobust                                                  \n",
       "========================================================================================\n",
       "                           coef    std err          t      P>|t|      [0.025      0.975]\n",
       "----------------------------------------------------------------------------------------\n",
       "bedrooms             -1.343e+04   1255.755    -10.696      0.000   -1.59e+04    -1.1e+04\n",
       "bathrooms             1.784e+04   1603.676     11.127      0.000    1.47e+04     2.1e+04\n",
       "sqft_living           9.221e+04   1608.105     57.343      0.000    8.91e+04    9.54e+04\n",
       "sqft_lot              1.056e+04   1012.935     10.429      0.000    8577.893    1.25e+04\n",
       "distance_from_a_city -9.478e+04   1058.520    -89.544      0.000   -9.69e+04   -9.27e+04\n",
       "Age_of_House          3.396e+04   1299.416     26.134      0.000    3.14e+04    3.65e+04\n",
       "basement             -2.178e+04   2097.163    -10.388      0.000   -2.59e+04   -1.77e+04\n",
       "grade                 6.429e+04    163.608    392.968      0.000     6.4e+04    6.46e+04\n",
       "==============================================================================\n",
       "Omnibus:                      510.666   Durbin-Watson:                   2.025\n",
       "Prob(Omnibus):                  0.000   Jarque-Bera (JB):              858.782\n",
       "Skew:                           0.349   Prob(JB):                    3.30e-187\n",
       "Kurtosis:                       4.073   Cond. No.                         17.3\n",
       "==============================================================================\n",
       "\n",
       "Warnings:\n",
       "[1] Standard Errors assume that the covariance matrix of the errors is correctly specified.\n",
       "\"\"\""
      ]
     },
     "execution_count": 47,
     "metadata": {},
     "output_type": "execute_result"
    }
   ],
   "source": [
    "X = train[x_cols]\n",
    "y= train['price']\n",
    "model = sm.OLS(y,X).fit()\n",
    "model.summary()"
   ]
  },
  {
   "cell_type": "code",
   "execution_count": 48,
   "metadata": {},
   "outputs": [
    {
     "data": {
      "image/png": "[encoded data removed]",
      "text/plain": [
       "<Figure size 432x288 with 1 Axes>"
      ]
     },
     "metadata": {
      "needs_background": "light"
     },
     "output_type": "display_data"
    }
   ],
   "source": [
    "fig = sm.graphics.qqplot(model.resid, dist=stats.norm, line='45', fit=True)\n"
   ]
  },
  {
   "cell_type": "code",
   "execution_count": 49,
   "metadata": {},
   "outputs": [
    {
     "data": {
      "text/plain": [
       "[<matplotlib.lines.Line2D at 0x1c21fa4940>]"
      ]
     },
     "execution_count": 49,
     "metadata": {},
     "output_type": "execute_result"
    },
    {
     "data": {
      "image/png": "[encoded data removed]",
      "text/plain": [
       "<Figure size 432x288 with 1 Axes>"
      ]
     },
     "metadata": {
      "needs_background": "light"
     },
     "output_type": "display_data"
    }
   ],
   "source": [
    "plt.scatter(model.predict(train[x_cols]), model.resid)\n",
    "plt.plot(model.predict(train[x_cols]), [0 for i in range(len(train))])"
   ]
  },
  {
   "cell_type": "code",
   "execution_count": 50,
   "metadata": {},
   "outputs": [],
   "source": [
    "def plot_residuals(resids):\n",
    "    plt.hist(resids)\n",
    "    plt.title(\"Residuals\")\n",
    "    plt.show()\n",
    "    \n",
    "    xspace = np.linspace(0, 1, len(resids))\n",
    "    plt.scatter(xspace, resids)\n",
    "    plt.title(\"resids\")\n",
    "    plt.hlines(0, xmin=0, xmax=1)\n",
    "    plt.show()"
   ]
  },
  {
   "cell_type": "code",
   "execution_count": 51,
   "metadata": {},
   "outputs": [],
   "source": [
    "residuals = model.resid"
   ]
  },
  {
   "cell_type": "code",
   "execution_count": 52,
   "metadata": {},
   "outputs": [
    {
     "data": {
      "image/png": "[encoded data removed]",
      "text/plain": [
       "<Figure size 432x288 with 1 Axes>"
      ]
     },
     "metadata": {
      "needs_background": "light"
     },
     "output_type": "display_data"
    },
    {
     "data": {
      "image/png": "[encoded data removed]",
      "text/plain": [
       "<Figure size 432x288 with 1 Axes>"
      ]
     },
     "metadata": {
      "needs_background": "light"
     },
     "output_type": "display_data"
    }
   ],
   "source": [
    "plot_residuals(residuals)"
   ]
  },
  {
   "cell_type": "code",
   "execution_count": 53,
   "metadata": {},
   "outputs": [],
   "source": [
    "from sklearn.utils import shuffle\n",
    "from sklearn.linear_model import LinearRegression\n",
    "from sklearn.model_selection import train_test_split, cross_val_score\n",
    "from sklearn.preprocessing import StandardScaler\n",
    "from sklearn.feature_selection import RFE\n",
    "\n",
    "from sklearn.metrics import r2_score"
   ]
  },
  {
   "cell_type": "code",
   "execution_count": 54,
   "metadata": {},
   "outputs": [],
   "source": [
    "ols = LinearRegression(fit_intercept=False, normalize=False, n_jobs=-1)"
   ]
  },
  {
   "cell_type": "code",
   "execution_count": 55,
   "metadata": {},
   "outputs": [],
   "source": [
    "X_train = train[x_cols]\n",
    "X_test = test[x_cols]"
   ]
  },
  {
   "cell_type": "code",
   "execution_count": 56,
   "metadata": {},
   "outputs": [],
   "source": [
    "y_train = train['price']\n",
    "y_test = test['price']"
   ]
  },
  {
   "cell_type": "code",
   "execution_count": 57,
   "metadata": {},
   "outputs": [
    {
     "data": {
      "text/plain": [
       "LinearRegression(copy_X=True, fit_intercept=False, n_jobs=-1, normalize=False)"
      ]
     },
     "execution_count": 57,
     "metadata": {},
     "output_type": "execute_result"
    }
   ],
   "source": [
    "ols.fit(train[x_cols], train['price'])"
   ]
  },
  {
   "cell_type": "code",
   "execution_count": 58,
   "metadata": {},
   "outputs": [
    {
     "data": {
      "text/plain": [
       "array([-13431.75855869,  17844.6114372 ,  92213.31229397,  10563.40117501,\n",
       "       -94783.75022741,  33959.22851215, -21784.57611278,  64292.86928503])"
      ]
     },
     "execution_count": 58,
     "metadata": {},
     "output_type": "execute_result"
    }
   ],
   "source": [
    "ols.coef_"
   ]
  },
  {
   "cell_type": "code",
   "execution_count": 59,
   "metadata": {},
   "outputs": [
    {
     "data": {
      "text/plain": [
       "0.0"
      ]
     },
     "execution_count": 59,
     "metadata": {},
     "output_type": "execute_result"
    }
   ],
   "source": [
    "ols.intercept_"
   ]
  },
  {
   "cell_type": "code",
   "execution_count": 60,
   "metadata": {},
   "outputs": [
    {
     "data": {
      "text/plain": [
       "array([320498.20979539, 197350.7964476 , 360115.54057806, ...,\n",
       "       724299.56776536, 670659.19743406, 632261.85912075])"
      ]
     },
     "execution_count": 60,
     "metadata": {},
     "output_type": "execute_result"
    }
   ],
   "source": [
    "y_train_preds = ols.predict(train[x_cols])\n",
    "y_train_preds"
   ]
  },
  {
   "cell_type": "code",
   "execution_count": 61,
   "metadata": {},
   "outputs": [
    {
     "data": {
      "text/plain": [
       "0.7079314842147872"
      ]
     },
     "execution_count": 61,
     "metadata": {},
     "output_type": "execute_result"
    }
   ],
   "source": [
    "r2_score(train['price'], y_train_preds)"
   ]
  },
  {
   "cell_type": "code",
   "execution_count": 62,
   "metadata": {},
   "outputs": [
    {
     "data": {
      "text/plain": [
       "0.7079314842147874"
      ]
     },
     "execution_count": 62,
     "metadata": {},
     "output_type": "execute_result"
    }
   ],
   "source": [
    "# r2 \n",
    "training_score = ols.score(X_train, y_train)\n",
    "# ols.score is calculating the y_train_preds and then using those to get the r2 score\n",
    "training_score"
   ]
  },
  {
   "cell_type": "code",
   "execution_count": 63,
   "metadata": {},
   "outputs": [
    {
     "data": {
      "text/plain": [
       "0.7049428669926519"
      ]
     },
     "execution_count": 63,
     "metadata": {},
     "output_type": "execute_result"
    }
   ],
   "source": [
    "testing_score = ols.score(X_test, y_test)\n",
    "testing_score"
   ]
  },
  {
   "cell_type": "code",
   "execution_count": 64,
   "metadata": {},
   "outputs": [
    {
     "data": {
      "text/plain": [
       "(0.7068101989300823, 0.7065897784234373, 0.7065897784234373)"
      ]
     },
     "execution_count": 64,
     "metadata": {},
     "output_type": "execute_result"
    }
   ],
   "source": [
    "cv5_scores = np.mean(cross_val_score(ols, X, y, scoring='r2', cv=5, n_jobs=-1) )\n",
    "cv10_scores = np.mean(cross_val_score(ols, X, y, scoring='r2', cv=10, n_jobs=-1) )\n",
    "cv20_scores = np.mean(cross_val_score(ols, X, y, scoring='r2', cv=20, n_jobs=-1) )\n",
    "\n",
    "# cv breaks your data into that many equal pieces \n",
    "cv5_scores,cv10_scores,cv10_scores"
   ]
  },
  {
   "cell_type": "code",
   "execution_count": 65,
   "metadata": {},
   "outputs": [
    {
     "data": {
      "text/plain": [
       "(-82732.35427213236, -82714.8531330294, -82719.45364176999)"
      ]
     },
     "execution_count": 65,
     "metadata": {},
     "output_type": "execute_result"
    }
   ],
   "source": [
    "cv5mae_scores = np.mean(cross_val_score(ols, X, y, scoring='neg_mean_absolute_error', cv=5, n_jobs=-1) )\n",
    "cv10mae_scores = np.mean(cross_val_score(ols, X, y, scoring='neg_mean_absolute_error', cv=10, n_jobs=-1) )\n",
    "cv20mae_scores = np.mean(cross_val_score(ols, X, y, scoring='neg_mean_absolute_error', cv=20, n_jobs=-1) )\n",
    "\n",
    "# cv breaks your data into that many equal pieces \n",
    "cv5mae_scores,cv10mae_scores,cv20mae_scores"
   ]
  },
  {
   "cell_type": "code",
   "execution_count": 66,
   "metadata": {},
   "outputs": [],
   "source": [
    "residuals = model.resid\n",
    "resid = pd.DataFrame(df['price'])\n",
    "resid['residuals']  = residuals"
   ]
  },
  {
   "cell_type": "code",
   "execution_count": 67,
   "metadata": {},
   "outputs": [
    {
     "data": {
      "text/plain": [
       "<matplotlib.axes._subplots.AxesSubplot at 0x1c29060cc0>"
      ]
     },
     "execution_count": 67,
     "metadata": {},
     "output_type": "execute_result"
    },
    {
     "data": {
      "image/png": "[encoded data removed]",
      "text/plain": [
       "<Figure size 720x720 with 1 Axes>"
      ]
     },
     "metadata": {
      "needs_background": "light"
     },
     "output_type": "display_data"
    }
   ],
   "source": [
    "plt.figure(figsize= (10,10))\n",
    "\n",
    "sns.scatterplot(y='residuals',x='price',data=resid)"
   ]
  },
  {
   "cell_type": "code",
   "execution_count": null,
   "metadata": {},
   "outputs": [],
   "source": []
  }
 ],
 "metadata": {
  "kernelspec": {
   "display_name": "Python [conda env:learn-env] *",
   "language": "python",
   "name": "conda-env-learn-env-py"
  },
  "language_info": {
   "codemirror_mode": {
    "name": "ipython",
    "version": 3
   },
   "file_extension": ".py",
   "mimetype": "text/x-python",
   "name": "python",
   "nbconvert_exporter": "python",
   "pygments_lexer": "ipython3",
   "version": "3.6.9"
  }
 },
 "nbformat": 4,
 "nbformat_minor": 2
}
