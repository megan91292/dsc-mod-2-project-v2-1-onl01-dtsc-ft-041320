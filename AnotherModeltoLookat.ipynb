{
 "cells": [
  {
   "cell_type": "code",
   "execution_count": 48,
   "metadata": {},
   "outputs": [],
   "source": [
    "import pandas as pd\n",
    "import matplotlib.pyplot as plt\n",
    "import numpy as np\n",
    "import seaborn as sns\n",
    "sns.set_style('darkgrid')\n",
    "\n",
    "from statsmodels.formula.api import ols\n",
    "from statsmodels.stats.outliers_influence import variance_inflation_factor\n",
    "import statsmodels.api as sm\n",
    "import scipy.stats as stats\n",
    "from sklearn.model_selection import train_test_split"
   ]
  },
  {
   "cell_type": "code",
   "execution_count": 49,
   "metadata": {},
   "outputs": [],
   "source": [
    "df = pd.read_csv('data_correlation_gone_norm.csv',index_col = 0)"
   ]
  },
  {
   "cell_type": "code",
   "execution_count": 50,
   "metadata": {},
   "outputs": [],
   "source": [
    "df = df.loc[df['sqft_lot']<45000.00]"
   ]
  },
  {
   "cell_type": "code",
   "execution_count": 52,
   "metadata": {},
   "outputs": [
    {
     "data": {
      "text/plain": [
       "1316471.2385767912"
      ]
     },
     "execution_count": 52,
     "metadata": {},
     "output_type": "execute_result"
    }
   ],
   "source": [
    "df['price'].mean()+3.5*df['price'].std()"
   ]
  },
  {
   "cell_type": "code",
   "execution_count": 53,
   "metadata": {},
   "outputs": [],
   "source": [
    "df = df.loc[df['price']<1350000.00]"
   ]
  },
  {
   "cell_type": "code",
   "execution_count": 54,
   "metadata": {},
   "outputs": [
    {
     "data": {
      "text/plain": [
       "Index(['date', 'price', 'bedrooms', 'bathrooms', 'sqft_living', 'sqft_lot',\n",
       "       'floors', 'waterfront', 'view', 'condition', 'grade', 'zipcode',\n",
       "       'Age_of_House', 'Years_last_renovation', 'basement', 'biggerliving',\n",
       "       'biggerlot', 'distance_from_a_city', 'distance_from_airport'],\n",
       "      dtype='object')"
      ]
     },
     "execution_count": 54,
     "metadata": {},
     "output_type": "execute_result"
    }
   ],
   "source": [
    "df.columns"
   ]
  },
  {
   "cell_type": "code",
   "execution_count": 55,
   "metadata": {},
   "outputs": [
    {
     "data": {
      "text/html": [
       "<div>\n",
       "<style scoped>\n",
       "    .dataframe tbody tr th:only-of-type {\n",
       "        vertical-align: middle;\n",
       "    }\n",
       "\n",
       "    .dataframe tbody tr th {\n",
       "        vertical-align: top;\n",
       "    }\n",
       "\n",
       "    .dataframe thead th {\n",
       "        text-align: right;\n",
       "    }\n",
       "</style>\n",
       "<table border=\"1\" class=\"dataframe\">\n",
       "  <thead>\n",
       "    <tr style=\"text-align: right;\">\n",
       "      <th></th>\n",
       "      <th>date</th>\n",
       "      <th>price</th>\n",
       "      <th>bedrooms</th>\n",
       "      <th>bathrooms</th>\n",
       "      <th>sqft_living</th>\n",
       "      <th>sqft_lot</th>\n",
       "      <th>floors</th>\n",
       "      <th>waterfront</th>\n",
       "      <th>view</th>\n",
       "      <th>condition</th>\n",
       "      <th>grade</th>\n",
       "      <th>zipcode</th>\n",
       "      <th>Age_of_House</th>\n",
       "      <th>Years_last_renovation</th>\n",
       "      <th>basement</th>\n",
       "      <th>biggerliving</th>\n",
       "      <th>biggerlot</th>\n",
       "      <th>distance_from_a_city</th>\n",
       "      <th>distance_from_airport</th>\n",
       "    </tr>\n",
       "  </thead>\n",
       "  <tbody>\n",
       "    <tr>\n",
       "      <td>0</td>\n",
       "      <td>2014-12-09</td>\n",
       "      <td>538000.0</td>\n",
       "      <td>-0.378652</td>\n",
       "      <td>0.300253</td>\n",
       "      <td>0.829689</td>\n",
       "      <td>-0.227077</td>\n",
       "      <td>2.0</td>\n",
       "      <td>0.0</td>\n",
       "      <td>0.0</td>\n",
       "      <td>3</td>\n",
       "      <td>7</td>\n",
       "      <td>98125</td>\n",
       "      <td>0.661504</td>\n",
       "      <td>-0.644230</td>\n",
       "      <td>1</td>\n",
       "      <td>1</td>\n",
       "      <td>0</td>\n",
       "      <td>-0.249526</td>\n",
       "      <td>1.041175</td>\n",
       "    </tr>\n",
       "    <tr>\n",
       "      <td>1</td>\n",
       "      <td>2015-02-25</td>\n",
       "      <td>180000.0</td>\n",
       "      <td>-1.549166</td>\n",
       "      <td>-1.506346</td>\n",
       "      <td>-1.595932</td>\n",
       "      <td>0.012078</td>\n",
       "      <td>1.0</td>\n",
       "      <td>0.0</td>\n",
       "      <td>0.0</td>\n",
       "      <td>3</td>\n",
       "      <td>6</td>\n",
       "      <td>98028</td>\n",
       "      <td>1.271581</td>\n",
       "      <td>1.344265</td>\n",
       "      <td>0</td>\n",
       "      <td>0</td>\n",
       "      <td>1</td>\n",
       "      <td>-0.054656</td>\n",
       "      <td>1.283006</td>\n",
       "    </tr>\n",
       "    <tr>\n",
       "      <td>2</td>\n",
       "      <td>2014-12-09</td>\n",
       "      <td>604000.0</td>\n",
       "      <td>0.791862</td>\n",
       "      <td>1.384213</td>\n",
       "      <td>0.007673</td>\n",
       "      <td>-0.421487</td>\n",
       "      <td>1.0</td>\n",
       "      <td>0.0</td>\n",
       "      <td>0.0</td>\n",
       "      <td>5</td>\n",
       "      <td>7</td>\n",
       "      <td>98136</td>\n",
       "      <td>0.187000</td>\n",
       "      <td>0.247164</td>\n",
       "      <td>1</td>\n",
       "      <td>1</td>\n",
       "      <td>0</td>\n",
       "      <td>-0.470318</td>\n",
       "      <td>-1.091792</td>\n",
       "    </tr>\n",
       "    <tr>\n",
       "      <td>3</td>\n",
       "      <td>2015-02-18</td>\n",
       "      <td>510000.0</td>\n",
       "      <td>-0.378652</td>\n",
       "      <td>-0.061067</td>\n",
       "      <td>-0.369646</td>\n",
       "      <td>-0.154411</td>\n",
       "      <td>1.0</td>\n",
       "      <td>0.0</td>\n",
       "      <td>0.0</td>\n",
       "      <td>3</td>\n",
       "      <td>8</td>\n",
       "      <td>98074</td>\n",
       "      <td>-0.558651</td>\n",
       "      <td>-0.507093</td>\n",
       "      <td>0</td>\n",
       "      <td>0</td>\n",
       "      <td>1</td>\n",
       "      <td>-0.352378</td>\n",
       "      <td>0.651681</td>\n",
       "    </tr>\n",
       "    <tr>\n",
       "      <td>4</td>\n",
       "      <td>2014-06-27</td>\n",
       "      <td>257500.0</td>\n",
       "      <td>-0.378652</td>\n",
       "      <td>0.300253</td>\n",
       "      <td>-0.322481</td>\n",
       "      <td>-0.263756</td>\n",
       "      <td>2.0</td>\n",
       "      <td>0.0</td>\n",
       "      <td>0.0</td>\n",
       "      <td>3</td>\n",
       "      <td>7</td>\n",
       "      <td>98003</td>\n",
       "      <td>-0.829796</td>\n",
       "      <td>-0.781368</td>\n",
       "      <td>0</td>\n",
       "      <td>0</td>\n",
       "      <td>0</td>\n",
       "      <td>2.022363</td>\n",
       "      <td>-0.661723</td>\n",
       "    </tr>\n",
       "  </tbody>\n",
       "</table>\n",
       "</div>"
      ],
      "text/plain": [
       "         date     price  bedrooms  bathrooms  sqft_living  sqft_lot  floors  \\\n",
       "0  2014-12-09  538000.0 -0.378652   0.300253     0.829689 -0.227077     2.0   \n",
       "1  2015-02-25  180000.0 -1.549166  -1.506346    -1.595932  0.012078     1.0   \n",
       "2  2014-12-09  604000.0  0.791862   1.384213     0.007673 -0.421487     1.0   \n",
       "3  2015-02-18  510000.0 -0.378652  -0.061067    -0.369646 -0.154411     1.0   \n",
       "4  2014-06-27  257500.0 -0.378652   0.300253    -0.322481 -0.263756     2.0   \n",
       "\n",
       "   waterfront  view  condition  grade  zipcode  Age_of_House  \\\n",
       "0         0.0   0.0          3      7    98125      0.661504   \n",
       "1         0.0   0.0          3      6    98028      1.271581   \n",
       "2         0.0   0.0          5      7    98136      0.187000   \n",
       "3         0.0   0.0          3      8    98074     -0.558651   \n",
       "4         0.0   0.0          3      7    98003     -0.829796   \n",
       "\n",
       "   Years_last_renovation  basement  biggerliving  biggerlot  \\\n",
       "0              -0.644230         1             1          0   \n",
       "1               1.344265         0             0          1   \n",
       "2               0.247164         1             1          0   \n",
       "3              -0.507093         0             0          1   \n",
       "4              -0.781368         0             0          0   \n",
       "\n",
       "   distance_from_a_city  distance_from_airport  \n",
       "0             -0.249526               1.041175  \n",
       "1             -0.054656               1.283006  \n",
       "2             -0.470318              -1.091792  \n",
       "3             -0.352378               0.651681  \n",
       "4              2.022363              -0.661723  "
      ]
     },
     "execution_count": 55,
     "metadata": {},
     "output_type": "execute_result"
    }
   ],
   "source": [
    "df.head()"
   ]
  },
  {
   "cell_type": "code",
   "execution_count": 56,
   "metadata": {},
   "outputs": [
    {
     "data": {
      "text/plain": [
       "<matplotlib.axes._subplots.AxesSubplot at 0x1c2121e470>"
      ]
     },
     "execution_count": 56,
     "metadata": {},
     "output_type": "execute_result"
    },
    {
     "data": {
      "image/png": "[encoded data removed]",
      "text/plain": [
       "<Figure size 432x288 with 1 Axes>"
      ]
     },
     "metadata": {},
     "output_type": "display_data"
    }
   ],
   "source": [
    "df['price'].hist()"
   ]
  },
  {
   "cell_type": "code",
   "execution_count": 57,
   "metadata": {},
   "outputs": [
    {
     "data": {
      "text/html": [
       "<div>\n",
       "<style scoped>\n",
       "    .dataframe tbody tr th:only-of-type {\n",
       "        vertical-align: middle;\n",
       "    }\n",
       "\n",
       "    .dataframe tbody tr th {\n",
       "        vertical-align: top;\n",
       "    }\n",
       "\n",
       "    .dataframe thead th {\n",
       "        text-align: right;\n",
       "    }\n",
       "</style>\n",
       "<table border=\"1\" class=\"dataframe\">\n",
       "  <thead>\n",
       "    <tr style=\"text-align: right;\">\n",
       "      <th></th>\n",
       "      <th>date</th>\n",
       "      <th>price</th>\n",
       "      <th>bedrooms</th>\n",
       "      <th>bathrooms</th>\n",
       "      <th>sqft_living</th>\n",
       "      <th>sqft_lot</th>\n",
       "      <th>floors</th>\n",
       "      <th>waterfront</th>\n",
       "      <th>view</th>\n",
       "      <th>condition</th>\n",
       "      <th>grade</th>\n",
       "      <th>zipcode</th>\n",
       "      <th>Age_of_House</th>\n",
       "      <th>Years_last_renovation</th>\n",
       "      <th>basement</th>\n",
       "      <th>biggerliving</th>\n",
       "      <th>biggerlot</th>\n",
       "      <th>distance_from_a_city</th>\n",
       "      <th>distance_from_airport</th>\n",
       "    </tr>\n",
       "  </thead>\n",
       "  <tbody>\n",
       "    <tr>\n",
       "      <td>0</td>\n",
       "      <td>2014-12-09</td>\n",
       "      <td>538000.0</td>\n",
       "      <td>-0.378652</td>\n",
       "      <td>0.300253</td>\n",
       "      <td>0.829689</td>\n",
       "      <td>-0.227077</td>\n",
       "      <td>2.0</td>\n",
       "      <td>0.0</td>\n",
       "      <td>0.0</td>\n",
       "      <td>3</td>\n",
       "      <td>7</td>\n",
       "      <td>98125</td>\n",
       "      <td>0.661504</td>\n",
       "      <td>-0.644230</td>\n",
       "      <td>1</td>\n",
       "      <td>1</td>\n",
       "      <td>0</td>\n",
       "      <td>-0.249526</td>\n",
       "      <td>1.041175</td>\n",
       "    </tr>\n",
       "    <tr>\n",
       "      <td>1</td>\n",
       "      <td>2015-02-25</td>\n",
       "      <td>180000.0</td>\n",
       "      <td>-1.549166</td>\n",
       "      <td>-1.506346</td>\n",
       "      <td>-1.595932</td>\n",
       "      <td>0.012078</td>\n",
       "      <td>1.0</td>\n",
       "      <td>0.0</td>\n",
       "      <td>0.0</td>\n",
       "      <td>3</td>\n",
       "      <td>6</td>\n",
       "      <td>98028</td>\n",
       "      <td>1.271581</td>\n",
       "      <td>1.344265</td>\n",
       "      <td>0</td>\n",
       "      <td>0</td>\n",
       "      <td>1</td>\n",
       "      <td>-0.054656</td>\n",
       "      <td>1.283006</td>\n",
       "    </tr>\n",
       "    <tr>\n",
       "      <td>2</td>\n",
       "      <td>2014-12-09</td>\n",
       "      <td>604000.0</td>\n",
       "      <td>0.791862</td>\n",
       "      <td>1.384213</td>\n",
       "      <td>0.007673</td>\n",
       "      <td>-0.421487</td>\n",
       "      <td>1.0</td>\n",
       "      <td>0.0</td>\n",
       "      <td>0.0</td>\n",
       "      <td>5</td>\n",
       "      <td>7</td>\n",
       "      <td>98136</td>\n",
       "      <td>0.187000</td>\n",
       "      <td>0.247164</td>\n",
       "      <td>1</td>\n",
       "      <td>1</td>\n",
       "      <td>0</td>\n",
       "      <td>-0.470318</td>\n",
       "      <td>-1.091792</td>\n",
       "    </tr>\n",
       "    <tr>\n",
       "      <td>3</td>\n",
       "      <td>2015-02-18</td>\n",
       "      <td>510000.0</td>\n",
       "      <td>-0.378652</td>\n",
       "      <td>-0.061067</td>\n",
       "      <td>-0.369646</td>\n",
       "      <td>-0.154411</td>\n",
       "      <td>1.0</td>\n",
       "      <td>0.0</td>\n",
       "      <td>0.0</td>\n",
       "      <td>3</td>\n",
       "      <td>8</td>\n",
       "      <td>98074</td>\n",
       "      <td>-0.558651</td>\n",
       "      <td>-0.507093</td>\n",
       "      <td>0</td>\n",
       "      <td>0</td>\n",
       "      <td>1</td>\n",
       "      <td>-0.352378</td>\n",
       "      <td>0.651681</td>\n",
       "    </tr>\n",
       "    <tr>\n",
       "      <td>4</td>\n",
       "      <td>2014-06-27</td>\n",
       "      <td>257500.0</td>\n",
       "      <td>-0.378652</td>\n",
       "      <td>0.300253</td>\n",
       "      <td>-0.322481</td>\n",
       "      <td>-0.263756</td>\n",
       "      <td>2.0</td>\n",
       "      <td>0.0</td>\n",
       "      <td>0.0</td>\n",
       "      <td>3</td>\n",
       "      <td>7</td>\n",
       "      <td>98003</td>\n",
       "      <td>-0.829796</td>\n",
       "      <td>-0.781368</td>\n",
       "      <td>0</td>\n",
       "      <td>0</td>\n",
       "      <td>0</td>\n",
       "      <td>2.022363</td>\n",
       "      <td>-0.661723</td>\n",
       "    </tr>\n",
       "  </tbody>\n",
       "</table>\n",
       "</div>"
      ],
      "text/plain": [
       "         date     price  bedrooms  bathrooms  sqft_living  sqft_lot  floors  \\\n",
       "0  2014-12-09  538000.0 -0.378652   0.300253     0.829689 -0.227077     2.0   \n",
       "1  2015-02-25  180000.0 -1.549166  -1.506346    -1.595932  0.012078     1.0   \n",
       "2  2014-12-09  604000.0  0.791862   1.384213     0.007673 -0.421487     1.0   \n",
       "3  2015-02-18  510000.0 -0.378652  -0.061067    -0.369646 -0.154411     1.0   \n",
       "4  2014-06-27  257500.0 -0.378652   0.300253    -0.322481 -0.263756     2.0   \n",
       "\n",
       "   waterfront  view  condition  grade  zipcode  Age_of_House  \\\n",
       "0         0.0   0.0          3      7    98125      0.661504   \n",
       "1         0.0   0.0          3      6    98028      1.271581   \n",
       "2         0.0   0.0          5      7    98136      0.187000   \n",
       "3         0.0   0.0          3      8    98074     -0.558651   \n",
       "4         0.0   0.0          3      7    98003     -0.829796   \n",
       "\n",
       "   Years_last_renovation  basement  biggerliving  biggerlot  \\\n",
       "0              -0.644230         1             1          0   \n",
       "1               1.344265         0             0          1   \n",
       "2               0.247164         1             1          0   \n",
       "3              -0.507093         0             0          1   \n",
       "4              -0.781368         0             0          0   \n",
       "\n",
       "   distance_from_a_city  distance_from_airport  \n",
       "0             -0.249526               1.041175  \n",
       "1             -0.054656               1.283006  \n",
       "2             -0.470318              -1.091792  \n",
       "3             -0.352378               0.651681  \n",
       "4              2.022363              -0.661723  "
      ]
     },
     "execution_count": 57,
     "metadata": {},
     "output_type": "execute_result"
    }
   ],
   "source": [
    "df.head()"
   ]
  },
  {
   "cell_type": "code",
   "execution_count": 58,
   "metadata": {},
   "outputs": [
    {
     "data": {
      "text/plain": [
       "<matplotlib.axes._subplots.AxesSubplot at 0x1c1ad38208>"
      ]
     },
     "execution_count": 58,
     "metadata": {},
     "output_type": "execute_result"
    },
    {
     "data": {
      "image/png": "[encoded data removed]",
      "text/plain": [
       "<Figure size 432x288 with 1 Axes>"
      ]
     },
     "metadata": {},
     "output_type": "display_data"
    }
   ],
   "source": [
    "df['condition'].hist()"
   ]
  },
  {
   "cell_type": "code",
   "execution_count": 59,
   "metadata": {},
   "outputs": [
    {
     "data": {
      "text/plain": [
       "<matplotlib.axes._subplots.AxesSubplot at 0x1c1e0b63c8>"
      ]
     },
     "execution_count": 59,
     "metadata": {},
     "output_type": "execute_result"
    },
    {
     "data": {
      "image/png": "[encoded data removed]",
      "text/plain": [
       "<Figure size 432x288 with 1 Axes>"
      ]
     },
     "metadata": {},
     "output_type": "display_data"
    }
   ],
   "source": [
    "df['grade'].hist()"
   ]
  },
  {
   "cell_type": "code",
   "execution_count": 60,
   "metadata": {},
   "outputs": [
    {
     "data": {
      "text/plain": [
       "7     7557\n",
       "8     4978\n",
       "9     1873\n",
       "6     1711\n",
       "10     625\n",
       "5      185\n",
       "11     102\n",
       "4       25\n",
       "Name: grade, dtype: int64"
      ]
     },
     "execution_count": 60,
     "metadata": {},
     "output_type": "execute_result"
    }
   ],
   "source": [
    "df['grade'].value_counts()"
   ]
  },
  {
   "cell_type": "code",
   "execution_count": 61,
   "metadata": {},
   "outputs": [
    {
     "data": {
      "text/plain": [
       "0.0    17056\n",
       "Name: waterfront, dtype: int64"
      ]
     },
     "execution_count": 61,
     "metadata": {},
     "output_type": "execute_result"
    }
   ],
   "source": [
    "df['waterfront'].value_counts()"
   ]
  },
  {
   "cell_type": "code",
   "execution_count": 62,
   "metadata": {},
   "outputs": [
    {
     "data": {
      "text/plain": [
       "<matplotlib.axes._subplots.AxesSubplot at 0x1c1b6ad908>"
      ]
     },
     "execution_count": 62,
     "metadata": {},
     "output_type": "execute_result"
    },
    {
     "data": {
      "image/png": "[encoded data removed]",
      "text/plain": [
       "<Figure size 432x288 with 1 Axes>"
      ]
     },
     "metadata": {},
     "output_type": "display_data"
    }
   ],
   "source": [
    "df['bedrooms'].hist()"
   ]
  },
  {
   "cell_type": "code",
   "execution_count": 63,
   "metadata": {},
   "outputs": [
    {
     "data": {
      "text/plain": [
       "Index(['date', 'price', 'bedrooms', 'bathrooms', 'sqft_living', 'sqft_lot',\n",
       "       'floors', 'waterfront', 'view', 'condition', 'grade', 'zipcode',\n",
       "       'Age_of_House', 'Years_last_renovation', 'basement', 'biggerliving',\n",
       "       'biggerlot', 'distance_from_a_city', 'distance_from_airport'],\n",
       "      dtype='object')"
      ]
     },
     "execution_count": 63,
     "metadata": {},
     "output_type": "execute_result"
    }
   ],
   "source": [
    "df.columns"
   ]
  },
  {
   "cell_type": "code",
   "execution_count": 64,
   "metadata": {},
   "outputs": [],
   "source": [
    "# tomodel = ['grade','distance_from_a_city','basement','biggerliving','biggerlot','Years_last_renovation','view']"
   ]
  },
  {
   "cell_type": "code",
   "execution_count": 65,
   "metadata": {},
   "outputs": [
    {
     "data": {
      "text/html": [
       "<div>\n",
       "<style scoped>\n",
       "    .dataframe tbody tr th:only-of-type {\n",
       "        vertical-align: middle;\n",
       "    }\n",
       "\n",
       "    .dataframe tbody tr th {\n",
       "        vertical-align: top;\n",
       "    }\n",
       "\n",
       "    .dataframe thead th {\n",
       "        text-align: right;\n",
       "    }\n",
       "</style>\n",
       "<table border=\"1\" class=\"dataframe\">\n",
       "  <thead>\n",
       "    <tr style=\"text-align: right;\">\n",
       "      <th></th>\n",
       "      <th>date</th>\n",
       "      <th>price</th>\n",
       "      <th>bedrooms</th>\n",
       "      <th>bathrooms</th>\n",
       "      <th>sqft_living</th>\n",
       "      <th>sqft_lot</th>\n",
       "      <th>floors</th>\n",
       "      <th>waterfront</th>\n",
       "      <th>view</th>\n",
       "      <th>condition</th>\n",
       "      <th>grade</th>\n",
       "      <th>zipcode</th>\n",
       "      <th>Age_of_House</th>\n",
       "      <th>Years_last_renovation</th>\n",
       "      <th>basement</th>\n",
       "      <th>biggerliving</th>\n",
       "      <th>biggerlot</th>\n",
       "      <th>distance_from_a_city</th>\n",
       "      <th>distance_from_airport</th>\n",
       "    </tr>\n",
       "  </thead>\n",
       "  <tbody>\n",
       "    <tr>\n",
       "      <td>0</td>\n",
       "      <td>2014-12-09</td>\n",
       "      <td>538000.0</td>\n",
       "      <td>-0.378652</td>\n",
       "      <td>0.300253</td>\n",
       "      <td>0.829689</td>\n",
       "      <td>-0.227077</td>\n",
       "      <td>2.0</td>\n",
       "      <td>0.0</td>\n",
       "      <td>0.0</td>\n",
       "      <td>3</td>\n",
       "      <td>7</td>\n",
       "      <td>98125</td>\n",
       "      <td>0.661504</td>\n",
       "      <td>-0.644230</td>\n",
       "      <td>1</td>\n",
       "      <td>1</td>\n",
       "      <td>0</td>\n",
       "      <td>-0.249526</td>\n",
       "      <td>1.041175</td>\n",
       "    </tr>\n",
       "    <tr>\n",
       "      <td>1</td>\n",
       "      <td>2015-02-25</td>\n",
       "      <td>180000.0</td>\n",
       "      <td>-1.549166</td>\n",
       "      <td>-1.506346</td>\n",
       "      <td>-1.595932</td>\n",
       "      <td>0.012078</td>\n",
       "      <td>1.0</td>\n",
       "      <td>0.0</td>\n",
       "      <td>0.0</td>\n",
       "      <td>3</td>\n",
       "      <td>6</td>\n",
       "      <td>98028</td>\n",
       "      <td>1.271581</td>\n",
       "      <td>1.344265</td>\n",
       "      <td>0</td>\n",
       "      <td>0</td>\n",
       "      <td>1</td>\n",
       "      <td>-0.054656</td>\n",
       "      <td>1.283006</td>\n",
       "    </tr>\n",
       "    <tr>\n",
       "      <td>2</td>\n",
       "      <td>2014-12-09</td>\n",
       "      <td>604000.0</td>\n",
       "      <td>0.791862</td>\n",
       "      <td>1.384213</td>\n",
       "      <td>0.007673</td>\n",
       "      <td>-0.421487</td>\n",
       "      <td>1.0</td>\n",
       "      <td>0.0</td>\n",
       "      <td>0.0</td>\n",
       "      <td>5</td>\n",
       "      <td>7</td>\n",
       "      <td>98136</td>\n",
       "      <td>0.187000</td>\n",
       "      <td>0.247164</td>\n",
       "      <td>1</td>\n",
       "      <td>1</td>\n",
       "      <td>0</td>\n",
       "      <td>-0.470318</td>\n",
       "      <td>-1.091792</td>\n",
       "    </tr>\n",
       "    <tr>\n",
       "      <td>3</td>\n",
       "      <td>2015-02-18</td>\n",
       "      <td>510000.0</td>\n",
       "      <td>-0.378652</td>\n",
       "      <td>-0.061067</td>\n",
       "      <td>-0.369646</td>\n",
       "      <td>-0.154411</td>\n",
       "      <td>1.0</td>\n",
       "      <td>0.0</td>\n",
       "      <td>0.0</td>\n",
       "      <td>3</td>\n",
       "      <td>8</td>\n",
       "      <td>98074</td>\n",
       "      <td>-0.558651</td>\n",
       "      <td>-0.507093</td>\n",
       "      <td>0</td>\n",
       "      <td>0</td>\n",
       "      <td>1</td>\n",
       "      <td>-0.352378</td>\n",
       "      <td>0.651681</td>\n",
       "    </tr>\n",
       "    <tr>\n",
       "      <td>4</td>\n",
       "      <td>2014-06-27</td>\n",
       "      <td>257500.0</td>\n",
       "      <td>-0.378652</td>\n",
       "      <td>0.300253</td>\n",
       "      <td>-0.322481</td>\n",
       "      <td>-0.263756</td>\n",
       "      <td>2.0</td>\n",
       "      <td>0.0</td>\n",
       "      <td>0.0</td>\n",
       "      <td>3</td>\n",
       "      <td>7</td>\n",
       "      <td>98003</td>\n",
       "      <td>-0.829796</td>\n",
       "      <td>-0.781368</td>\n",
       "      <td>0</td>\n",
       "      <td>0</td>\n",
       "      <td>0</td>\n",
       "      <td>2.022363</td>\n",
       "      <td>-0.661723</td>\n",
       "    </tr>\n",
       "  </tbody>\n",
       "</table>\n",
       "</div>"
      ],
      "text/plain": [
       "         date     price  bedrooms  bathrooms  sqft_living  sqft_lot  floors  \\\n",
       "0  2014-12-09  538000.0 -0.378652   0.300253     0.829689 -0.227077     2.0   \n",
       "1  2015-02-25  180000.0 -1.549166  -1.506346    -1.595932  0.012078     1.0   \n",
       "2  2014-12-09  604000.0  0.791862   1.384213     0.007673 -0.421487     1.0   \n",
       "3  2015-02-18  510000.0 -0.378652  -0.061067    -0.369646 -0.154411     1.0   \n",
       "4  2014-06-27  257500.0 -0.378652   0.300253    -0.322481 -0.263756     2.0   \n",
       "\n",
       "   waterfront  view  condition  grade  zipcode  Age_of_House  \\\n",
       "0         0.0   0.0          3      7    98125      0.661504   \n",
       "1         0.0   0.0          3      6    98028      1.271581   \n",
       "2         0.0   0.0          5      7    98136      0.187000   \n",
       "3         0.0   0.0          3      8    98074     -0.558651   \n",
       "4         0.0   0.0          3      7    98003     -0.829796   \n",
       "\n",
       "   Years_last_renovation  basement  biggerliving  biggerlot  \\\n",
       "0              -0.644230         1             1          0   \n",
       "1               1.344265         0             0          1   \n",
       "2               0.247164         1             1          0   \n",
       "3              -0.507093         0             0          1   \n",
       "4              -0.781368         0             0          0   \n",
       "\n",
       "   distance_from_a_city  distance_from_airport  \n",
       "0             -0.249526               1.041175  \n",
       "1             -0.054656               1.283006  \n",
       "2             -0.470318              -1.091792  \n",
       "3             -0.352378               0.651681  \n",
       "4              2.022363              -0.661723  "
      ]
     },
     "execution_count": 65,
     "metadata": {},
     "output_type": "execute_result"
    }
   ],
   "source": [
    "df.head()"
   ]
  },
  {
   "cell_type": "code",
   "execution_count": 66,
   "metadata": {},
   "outputs": [
    {
     "data": {
      "text/html": [
       "<div>\n",
       "<style scoped>\n",
       "    .dataframe tbody tr th:only-of-type {\n",
       "        vertical-align: middle;\n",
       "    }\n",
       "\n",
       "    .dataframe tbody tr th {\n",
       "        vertical-align: top;\n",
       "    }\n",
       "\n",
       "    .dataframe thead th {\n",
       "        text-align: right;\n",
       "    }\n",
       "</style>\n",
       "<table border=\"1\" class=\"dataframe\">\n",
       "  <thead>\n",
       "    <tr style=\"text-align: right;\">\n",
       "      <th></th>\n",
       "      <th>date</th>\n",
       "      <th>price</th>\n",
       "      <th>bedrooms</th>\n",
       "      <th>bathrooms</th>\n",
       "      <th>sqft_living</th>\n",
       "      <th>sqft_lot</th>\n",
       "      <th>floors</th>\n",
       "      <th>waterfront</th>\n",
       "      <th>view</th>\n",
       "      <th>condition</th>\n",
       "      <th>grade</th>\n",
       "      <th>zipcode</th>\n",
       "      <th>Age_of_House</th>\n",
       "      <th>Years_last_renovation</th>\n",
       "      <th>basement</th>\n",
       "      <th>biggerliving</th>\n",
       "      <th>biggerlot</th>\n",
       "      <th>distance_from_a_city</th>\n",
       "      <th>distance_from_airport</th>\n",
       "    </tr>\n",
       "  </thead>\n",
       "  <tbody>\n",
       "    <tr>\n",
       "      <td>0</td>\n",
       "      <td>2014-12-09</td>\n",
       "      <td>538000.0</td>\n",
       "      <td>-0.378652</td>\n",
       "      <td>0.300253</td>\n",
       "      <td>0.829689</td>\n",
       "      <td>-0.227077</td>\n",
       "      <td>2.0</td>\n",
       "      <td>0.0</td>\n",
       "      <td>0.0</td>\n",
       "      <td>3</td>\n",
       "      <td>7</td>\n",
       "      <td>98125</td>\n",
       "      <td>0.661504</td>\n",
       "      <td>-0.644230</td>\n",
       "      <td>1</td>\n",
       "      <td>1</td>\n",
       "      <td>0</td>\n",
       "      <td>-0.249526</td>\n",
       "      <td>1.041175</td>\n",
       "    </tr>\n",
       "    <tr>\n",
       "      <td>1</td>\n",
       "      <td>2015-02-25</td>\n",
       "      <td>180000.0</td>\n",
       "      <td>-1.549166</td>\n",
       "      <td>-1.506346</td>\n",
       "      <td>-1.595932</td>\n",
       "      <td>0.012078</td>\n",
       "      <td>1.0</td>\n",
       "      <td>0.0</td>\n",
       "      <td>0.0</td>\n",
       "      <td>3</td>\n",
       "      <td>6</td>\n",
       "      <td>98028</td>\n",
       "      <td>1.271581</td>\n",
       "      <td>1.344265</td>\n",
       "      <td>0</td>\n",
       "      <td>0</td>\n",
       "      <td>1</td>\n",
       "      <td>-0.054656</td>\n",
       "      <td>1.283006</td>\n",
       "    </tr>\n",
       "    <tr>\n",
       "      <td>2</td>\n",
       "      <td>2014-12-09</td>\n",
       "      <td>604000.0</td>\n",
       "      <td>0.791862</td>\n",
       "      <td>1.384213</td>\n",
       "      <td>0.007673</td>\n",
       "      <td>-0.421487</td>\n",
       "      <td>1.0</td>\n",
       "      <td>0.0</td>\n",
       "      <td>0.0</td>\n",
       "      <td>5</td>\n",
       "      <td>7</td>\n",
       "      <td>98136</td>\n",
       "      <td>0.187000</td>\n",
       "      <td>0.247164</td>\n",
       "      <td>1</td>\n",
       "      <td>1</td>\n",
       "      <td>0</td>\n",
       "      <td>-0.470318</td>\n",
       "      <td>-1.091792</td>\n",
       "    </tr>\n",
       "    <tr>\n",
       "      <td>3</td>\n",
       "      <td>2015-02-18</td>\n",
       "      <td>510000.0</td>\n",
       "      <td>-0.378652</td>\n",
       "      <td>-0.061067</td>\n",
       "      <td>-0.369646</td>\n",
       "      <td>-0.154411</td>\n",
       "      <td>1.0</td>\n",
       "      <td>0.0</td>\n",
       "      <td>0.0</td>\n",
       "      <td>3</td>\n",
       "      <td>8</td>\n",
       "      <td>98074</td>\n",
       "      <td>-0.558651</td>\n",
       "      <td>-0.507093</td>\n",
       "      <td>0</td>\n",
       "      <td>0</td>\n",
       "      <td>1</td>\n",
       "      <td>-0.352378</td>\n",
       "      <td>0.651681</td>\n",
       "    </tr>\n",
       "    <tr>\n",
       "      <td>4</td>\n",
       "      <td>2014-06-27</td>\n",
       "      <td>257500.0</td>\n",
       "      <td>-0.378652</td>\n",
       "      <td>0.300253</td>\n",
       "      <td>-0.322481</td>\n",
       "      <td>-0.263756</td>\n",
       "      <td>2.0</td>\n",
       "      <td>0.0</td>\n",
       "      <td>0.0</td>\n",
       "      <td>3</td>\n",
       "      <td>7</td>\n",
       "      <td>98003</td>\n",
       "      <td>-0.829796</td>\n",
       "      <td>-0.781368</td>\n",
       "      <td>0</td>\n",
       "      <td>0</td>\n",
       "      <td>0</td>\n",
       "      <td>2.022363</td>\n",
       "      <td>-0.661723</td>\n",
       "    </tr>\n",
       "  </tbody>\n",
       "</table>\n",
       "</div>"
      ],
      "text/plain": [
       "         date     price  bedrooms  bathrooms  sqft_living  sqft_lot  floors  \\\n",
       "0  2014-12-09  538000.0 -0.378652   0.300253     0.829689 -0.227077     2.0   \n",
       "1  2015-02-25  180000.0 -1.549166  -1.506346    -1.595932  0.012078     1.0   \n",
       "2  2014-12-09  604000.0  0.791862   1.384213     0.007673 -0.421487     1.0   \n",
       "3  2015-02-18  510000.0 -0.378652  -0.061067    -0.369646 -0.154411     1.0   \n",
       "4  2014-06-27  257500.0 -0.378652   0.300253    -0.322481 -0.263756     2.0   \n",
       "\n",
       "   waterfront  view  condition  grade  zipcode  Age_of_House  \\\n",
       "0         0.0   0.0          3      7    98125      0.661504   \n",
       "1         0.0   0.0          3      6    98028      1.271581   \n",
       "2         0.0   0.0          5      7    98136      0.187000   \n",
       "3         0.0   0.0          3      8    98074     -0.558651   \n",
       "4         0.0   0.0          3      7    98003     -0.829796   \n",
       "\n",
       "   Years_last_renovation  basement  biggerliving  biggerlot  \\\n",
       "0              -0.644230         1             1          0   \n",
       "1               1.344265         0             0          1   \n",
       "2               0.247164         1             1          0   \n",
       "3              -0.507093         0             0          1   \n",
       "4              -0.781368         0             0          0   \n",
       "\n",
       "   distance_from_a_city  distance_from_airport  \n",
       "0             -0.249526               1.041175  \n",
       "1             -0.054656               1.283006  \n",
       "2             -0.470318              -1.091792  \n",
       "3             -0.352378               0.651681  \n",
       "4              2.022363              -0.661723  "
      ]
     },
     "execution_count": 66,
     "metadata": {},
     "output_type": "execute_result"
    }
   ],
   "source": [
    "df.head()"
   ]
  },
  {
   "cell_type": "code",
   "execution_count": 67,
   "metadata": {},
   "outputs": [],
   "source": [
    "df['bedbath'] = df['bedrooms']*df['bathrooms']"
   ]
  },
  {
   "cell_type": "code",
   "execution_count": 68,
   "metadata": {},
   "outputs": [],
   "source": [
    "# tomodel = ['distance_from_a_city','Years_last_renovation','sqft_living']"
   ]
  },
  {
   "cell_type": "code",
   "execution_count": 72,
   "metadata": {},
   "outputs": [],
   "source": [
    "x_cols = ['bedrooms','bathrooms','sqft_living','sqft_lot','distance_from_a_city',\n",
    "           'Age_of_House','basement','grade']\n",
    "outcome = ['price']"
   ]
  },
  {
   "cell_type": "code",
   "execution_count": 73,
   "metadata": {},
   "outputs": [],
   "source": [
    "train, test = train_test_split(df)\n"
   ]
  },
  {
   "cell_type": "code",
   "execution_count": 74,
   "metadata": {},
   "outputs": [
    {
     "name": "stdout",
     "output_type": "stream",
     "text": [
      "12792 4264\n"
     ]
    },
    {
     "data": {
      "text/html": [
       "<div>\n",
       "<style scoped>\n",
       "    .dataframe tbody tr th:only-of-type {\n",
       "        vertical-align: middle;\n",
       "    }\n",
       "\n",
       "    .dataframe tbody tr th {\n",
       "        vertical-align: top;\n",
       "    }\n",
       "\n",
       "    .dataframe thead th {\n",
       "        text-align: right;\n",
       "    }\n",
       "</style>\n",
       "<table border=\"1\" class=\"dataframe\">\n",
       "  <thead>\n",
       "    <tr style=\"text-align: right;\">\n",
       "      <th></th>\n",
       "      <th>date</th>\n",
       "      <th>price</th>\n",
       "      <th>bedrooms</th>\n",
       "      <th>bathrooms</th>\n",
       "      <th>sqft_living</th>\n",
       "      <th>sqft_lot</th>\n",
       "      <th>floors</th>\n",
       "      <th>waterfront</th>\n",
       "      <th>view</th>\n",
       "      <th>condition</th>\n",
       "      <th>grade</th>\n",
       "      <th>zipcode</th>\n",
       "      <th>Age_of_House</th>\n",
       "      <th>Years_last_renovation</th>\n",
       "      <th>basement</th>\n",
       "      <th>biggerliving</th>\n",
       "      <th>biggerlot</th>\n",
       "      <th>distance_from_a_city</th>\n",
       "      <th>distance_from_airport</th>\n",
       "      <th>bedbath</th>\n",
       "    </tr>\n",
       "  </thead>\n",
       "  <tbody>\n",
       "    <tr>\n",
       "      <td>7089</td>\n",
       "      <td>2014-08-15</td>\n",
       "      <td>405000.0</td>\n",
       "      <td>-0.378652</td>\n",
       "      <td>-0.061067</td>\n",
       "      <td>-0.288792</td>\n",
       "      <td>0.705784</td>\n",
       "      <td>1.0</td>\n",
       "      <td>0.0</td>\n",
       "      <td>0.0</td>\n",
       "      <td>3</td>\n",
       "      <td>7</td>\n",
       "      <td>98028</td>\n",
       "      <td>-0.626437</td>\n",
       "      <td>-0.575662</td>\n",
       "      <td>1</td>\n",
       "      <td>0</td>\n",
       "      <td>1</td>\n",
       "      <td>-0.018825</td>\n",
       "      <td>1.293750</td>\n",
       "      <td>0.023123</td>\n",
       "    </tr>\n",
       "    <tr>\n",
       "      <td>6661</td>\n",
       "      <td>2014-07-12</td>\n",
       "      <td>235000.0</td>\n",
       "      <td>-0.378652</td>\n",
       "      <td>-0.422387</td>\n",
       "      <td>-0.720013</td>\n",
       "      <td>-0.168285</td>\n",
       "      <td>1.0</td>\n",
       "      <td>0.0</td>\n",
       "      <td>0.0</td>\n",
       "      <td>4</td>\n",
       "      <td>7</td>\n",
       "      <td>98092</td>\n",
       "      <td>0.288679</td>\n",
       "      <td>0.350017</td>\n",
       "      <td>0</td>\n",
       "      <td>0</td>\n",
       "      <td>0</td>\n",
       "      <td>2.256242</td>\n",
       "      <td>-0.255500</td>\n",
       "      <td>0.159938</td>\n",
       "    </tr>\n",
       "    <tr>\n",
       "      <td>3396</td>\n",
       "      <td>2014-06-17</td>\n",
       "      <td>386000.0</td>\n",
       "      <td>-1.549166</td>\n",
       "      <td>0.661573</td>\n",
       "      <td>-0.450500</td>\n",
       "      <td>-0.577918</td>\n",
       "      <td>2.0</td>\n",
       "      <td>0.0</td>\n",
       "      <td>0.0</td>\n",
       "      <td>3</td>\n",
       "      <td>8</td>\n",
       "      <td>98065</td>\n",
       "      <td>-1.270407</td>\n",
       "      <td>-1.227065</td>\n",
       "      <td>0</td>\n",
       "      <td>0</td>\n",
       "      <td>1</td>\n",
       "      <td>1.268550</td>\n",
       "      <td>1.253796</td>\n",
       "      <td>-1.024886</td>\n",
       "    </tr>\n",
       "    <tr>\n",
       "      <td>15699</td>\n",
       "      <td>2015-02-11</td>\n",
       "      <td>327555.0</td>\n",
       "      <td>-0.378652</td>\n",
       "      <td>0.661573</td>\n",
       "      <td>0.504925</td>\n",
       "      <td>-0.359054</td>\n",
       "      <td>2.0</td>\n",
       "      <td>0.0</td>\n",
       "      <td>0.0</td>\n",
       "      <td>3</td>\n",
       "      <td>8</td>\n",
       "      <td>98030</td>\n",
       "      <td>-1.338194</td>\n",
       "      <td>-1.295634</td>\n",
       "      <td>0</td>\n",
       "      <td>1</td>\n",
       "      <td>0</td>\n",
       "      <td>1.408029</td>\n",
       "      <td>-0.998645</td>\n",
       "      <td>-0.250506</td>\n",
       "    </tr>\n",
       "    <tr>\n",
       "      <td>5429</td>\n",
       "      <td>2014-05-05</td>\n",
       "      <td>406100.0</td>\n",
       "      <td>-0.378652</td>\n",
       "      <td>0.300253</td>\n",
       "      <td>-0.733489</td>\n",
       "      <td>-0.739551</td>\n",
       "      <td>3.0</td>\n",
       "      <td>0.0</td>\n",
       "      <td>0.0</td>\n",
       "      <td>3</td>\n",
       "      <td>8</td>\n",
       "      <td>98103</td>\n",
       "      <td>-1.168728</td>\n",
       "      <td>-1.124212</td>\n",
       "      <td>0</td>\n",
       "      <td>0</td>\n",
       "      <td>0</td>\n",
       "      <td>-0.616511</td>\n",
       "      <td>0.703585</td>\n",
       "      <td>-0.113691</td>\n",
       "    </tr>\n",
       "  </tbody>\n",
       "</table>\n",
       "</div>"
      ],
      "text/plain": [
       "             date     price  bedrooms  bathrooms  sqft_living  sqft_lot  \\\n",
       "7089   2014-08-15  405000.0 -0.378652  -0.061067    -0.288792  0.705784   \n",
       "6661   2014-07-12  235000.0 -0.378652  -0.422387    -0.720013 -0.168285   \n",
       "3396   2014-06-17  386000.0 -1.549166   0.661573    -0.450500 -0.577918   \n",
       "15699  2015-02-11  327555.0 -0.378652   0.661573     0.504925 -0.359054   \n",
       "5429   2014-05-05  406100.0 -0.378652   0.300253    -0.733489 -0.739551   \n",
       "\n",
       "       floors  waterfront  view  condition  grade  zipcode  Age_of_House  \\\n",
       "7089      1.0         0.0   0.0          3      7    98028     -0.626437   \n",
       "6661      1.0         0.0   0.0          4      7    98092      0.288679   \n",
       "3396      2.0         0.0   0.0          3      8    98065     -1.270407   \n",
       "15699     2.0         0.0   0.0          3      8    98030     -1.338194   \n",
       "5429      3.0         0.0   0.0          3      8    98103     -1.168728   \n",
       "\n",
       "       Years_last_renovation  basement  biggerliving  biggerlot  \\\n",
       "7089               -0.575662         1             0          1   \n",
       "6661                0.350017         0             0          0   \n",
       "3396               -1.227065         0             0          1   \n",
       "15699              -1.295634         0             1          0   \n",
       "5429               -1.124212         0             0          0   \n",
       "\n",
       "       distance_from_a_city  distance_from_airport   bedbath  \n",
       "7089              -0.018825               1.293750  0.023123  \n",
       "6661               2.256242              -0.255500  0.159938  \n",
       "3396               1.268550               1.253796 -1.024886  \n",
       "15699              1.408029              -0.998645 -0.250506  \n",
       "5429              -0.616511               0.703585 -0.113691  "
      ]
     },
     "execution_count": 74,
     "metadata": {},
     "output_type": "execute_result"
    }
   ],
   "source": [
    "print(len(train), len(test))\n",
    "train.head()"
   ]
  },
  {
   "cell_type": "code",
   "execution_count": 75,
   "metadata": {},
   "outputs": [],
   "source": [
    "X = train[x_cols]\n",
    "y = train['price']"
   ]
  },
  {
   "cell_type": "code",
   "execution_count": 76,
   "metadata": {},
   "outputs": [
    {
     "data": {
      "text/html": [
       "<table class=\"simpletable\">\n",
       "<caption>OLS Regression Results</caption>\n",
       "<tr>\n",
       "  <th>Dep. Variable:</th>          <td>price</td>      <th>  R-squared (uncentered):</th>       <td>   0.950</td>  \n",
       "</tr>\n",
       "<tr>\n",
       "  <th>Model:</th>                   <td>OLS</td>       <th>  Adj. R-squared (uncentered):</th>  <td>   0.950</td>  \n",
       "</tr>\n",
       "<tr>\n",
       "  <th>Method:</th>             <td>Least Squares</td>  <th>  F-statistic:       </th>           <td>3.064e+04</td> \n",
       "</tr>\n",
       "<tr>\n",
       "  <th>Date:</th>             <td>Wed, 03 Jun 2020</td> <th>  Prob (F-statistic):</th>            <td>  0.00</td>   \n",
       "</tr>\n",
       "<tr>\n",
       "  <th>Time:</th>                 <td>18:59:40</td>     <th>  Log-Likelihood:    </th>          <td>-1.6751e+05</td>\n",
       "</tr>\n",
       "<tr>\n",
       "  <th>No. Observations:</th>      <td> 12792</td>      <th>  AIC:               </th>           <td>3.350e+05</td> \n",
       "</tr>\n",
       "<tr>\n",
       "  <th>Df Residuals:</th>          <td> 12784</td>      <th>  BIC:               </th>           <td>3.351e+05</td> \n",
       "</tr>\n",
       "<tr>\n",
       "  <th>Df Model:</th>              <td>     8</td>      <th>                     </th>               <td> </td>     \n",
       "</tr>\n",
       "<tr>\n",
       "  <th>Covariance Type:</th>      <td>nonrobust</td>    <th>                     </th>               <td> </td>     \n",
       "</tr>\n",
       "</table>\n",
       "<table class=\"simpletable\">\n",
       "<tr>\n",
       "            <td></td>              <th>coef</th>     <th>std err</th>      <th>t</th>      <th>P>|t|</th>  <th>[0.025</th>    <th>0.975]</th>  \n",
       "</tr>\n",
       "<tr>\n",
       "  <th>bedrooms</th>             <td>-1.327e+04</td> <td> 1347.031</td> <td>   -9.851</td> <td> 0.000</td> <td>-1.59e+04</td> <td>-1.06e+04</td>\n",
       "</tr>\n",
       "<tr>\n",
       "  <th>bathrooms</th>            <td> 2.082e+04</td> <td> 1730.299</td> <td>   12.031</td> <td> 0.000</td> <td> 1.74e+04</td> <td> 2.42e+04</td>\n",
       "</tr>\n",
       "<tr>\n",
       "  <th>sqft_living</th>          <td> 9.977e+04</td> <td> 1705.722</td> <td>   58.494</td> <td> 0.000</td> <td> 9.64e+04</td> <td> 1.03e+05</td>\n",
       "</tr>\n",
       "<tr>\n",
       "  <th>sqft_lot</th>             <td> 1.074e+04</td> <td> 1101.442</td> <td>    9.754</td> <td> 0.000</td> <td> 8584.734</td> <td> 1.29e+04</td>\n",
       "</tr>\n",
       "<tr>\n",
       "  <th>distance_from_a_city</th> <td> -1.01e+05</td> <td> 1147.329</td> <td>  -88.063</td> <td> 0.000</td> <td>-1.03e+05</td> <td>-9.88e+04</td>\n",
       "</tr>\n",
       "<tr>\n",
       "  <th>Age_of_House</th>         <td> 3.738e+04</td> <td> 1392.720</td> <td>   26.841</td> <td> 0.000</td> <td> 3.47e+04</td> <td> 4.01e+04</td>\n",
       "</tr>\n",
       "<tr>\n",
       "  <th>basement</th>             <td>-2.542e+04</td> <td> 2276.054</td> <td>  -11.168</td> <td> 0.000</td> <td>-2.99e+04</td> <td> -2.1e+04</td>\n",
       "</tr>\n",
       "<tr>\n",
       "  <th>grade</th>                <td> 6.547e+04</td> <td>  176.409</td> <td>  371.131</td> <td> 0.000</td> <td> 6.51e+04</td> <td> 6.58e+04</td>\n",
       "</tr>\n",
       "</table>\n",
       "<table class=\"simpletable\">\n",
       "<tr>\n",
       "  <th>Omnibus:</th>       <td>1559.856</td> <th>  Durbin-Watson:     </th> <td>   1.983</td>\n",
       "</tr>\n",
       "<tr>\n",
       "  <th>Prob(Omnibus):</th>  <td> 0.000</td>  <th>  Jarque-Bera (JB):  </th> <td>3907.176</td>\n",
       "</tr>\n",
       "<tr>\n",
       "  <th>Skew:</th>           <td> 0.702</td>  <th>  Prob(JB):          </th> <td>    0.00</td>\n",
       "</tr>\n",
       "<tr>\n",
       "  <th>Kurtosis:</th>       <td> 5.315</td>  <th>  Cond. No.          </th> <td>    17.4</td>\n",
       "</tr>\n",
       "</table><br/><br/>Warnings:<br/>[1] Standard Errors assume that the covariance matrix of the errors is correctly specified."
      ],
      "text/plain": [
       "<class 'statsmodels.iolib.summary.Summary'>\n",
       "\"\"\"\n",
       "                                 OLS Regression Results                                \n",
       "=======================================================================================\n",
       "Dep. Variable:                  price   R-squared (uncentered):                   0.950\n",
       "Model:                            OLS   Adj. R-squared (uncentered):              0.950\n",
       "Method:                 Least Squares   F-statistic:                          3.064e+04\n",
       "Date:                Wed, 03 Jun 2020   Prob (F-statistic):                        0.00\n",
       "Time:                        18:59:40   Log-Likelihood:                     -1.6751e+05\n",
       "No. Observations:               12792   AIC:                                  3.350e+05\n",
       "Df Residuals:                   12784   BIC:                                  3.351e+05\n",
       "Df Model:                           8                                                  \n",
       "Covariance Type:            nonrobust                                                  \n",
       "========================================================================================\n",
       "                           coef    std err          t      P>|t|      [0.025      0.975]\n",
       "----------------------------------------------------------------------------------------\n",
       "bedrooms             -1.327e+04   1347.031     -9.851      0.000   -1.59e+04   -1.06e+04\n",
       "bathrooms             2.082e+04   1730.299     12.031      0.000    1.74e+04    2.42e+04\n",
       "sqft_living           9.977e+04   1705.722     58.494      0.000    9.64e+04    1.03e+05\n",
       "sqft_lot              1.074e+04   1101.442      9.754      0.000    8584.734    1.29e+04\n",
       "distance_from_a_city  -1.01e+05   1147.329    -88.063      0.000   -1.03e+05   -9.88e+04\n",
       "Age_of_House          3.738e+04   1392.720     26.841      0.000    3.47e+04    4.01e+04\n",
       "basement             -2.542e+04   2276.054    -11.168      0.000   -2.99e+04    -2.1e+04\n",
       "grade                 6.547e+04    176.409    371.131      0.000    6.51e+04    6.58e+04\n",
       "==============================================================================\n",
       "Omnibus:                     1559.856   Durbin-Watson:                   1.983\n",
       "Prob(Omnibus):                  0.000   Jarque-Bera (JB):             3907.176\n",
       "Skew:                           0.702   Prob(JB):                         0.00\n",
       "Kurtosis:                       5.315   Cond. No.                         17.4\n",
       "==============================================================================\n",
       "\n",
       "Warnings:\n",
       "[1] Standard Errors assume that the covariance matrix of the errors is correctly specified.\n",
       "\"\"\""
      ]
     },
     "execution_count": 76,
     "metadata": {},
     "output_type": "execute_result"
    }
   ],
   "source": [
    "model = sm.OLS(y,X).fit()\n",
    "model.summary()"
   ]
  },
  {
   "cell_type": "code",
   "execution_count": 77,
   "metadata": {},
   "outputs": [
    {
     "name": "stdout",
     "output_type": "stream",
     "text": [
      "8 8\n",
      "['bedrooms', 'bathrooms', 'sqft_living', 'sqft_lot', 'distance_from_a_city']\n"
     ]
    },
    {
     "data": {
      "text/html": [
       "<div>\n",
       "<style scoped>\n",
       "    .dataframe tbody tr th:only-of-type {\n",
       "        vertical-align: middle;\n",
       "    }\n",
       "\n",
       "    .dataframe tbody tr th {\n",
       "        vertical-align: top;\n",
       "    }\n",
       "\n",
       "    .dataframe thead th {\n",
       "        text-align: right;\n",
       "    }\n",
       "</style>\n",
       "<table border=\"1\" class=\"dataframe\">\n",
       "  <thead>\n",
       "    <tr style=\"text-align: right;\">\n",
       "      <th></th>\n",
       "      <th>coef</th>\n",
       "      <th>std err</th>\n",
       "      <th>t</th>\n",
       "      <th>P&gt;|t|</th>\n",
       "      <th>[0.025</th>\n",
       "      <th>0.975]</th>\n",
       "    </tr>\n",
       "    <tr>\n",
       "      <th></th>\n",
       "      <th></th>\n",
       "      <th></th>\n",
       "      <th></th>\n",
       "      <th></th>\n",
       "      <th></th>\n",
       "      <th></th>\n",
       "    </tr>\n",
       "  </thead>\n",
       "  <tbody>\n",
       "    <tr>\n",
       "      <td>bedrooms</td>\n",
       "      <td>-1.327e+04</td>\n",
       "      <td>1347.031</td>\n",
       "      <td>-9.851</td>\n",
       "      <td>0.0</td>\n",
       "      <td>-1.59e+04</td>\n",
       "      <td>-1.06e+04</td>\n",
       "    </tr>\n",
       "    <tr>\n",
       "      <td>bathrooms</td>\n",
       "      <td>2.082e+04</td>\n",
       "      <td>1730.299</td>\n",
       "      <td>12.031</td>\n",
       "      <td>0.0</td>\n",
       "      <td>1.74e+04</td>\n",
       "      <td>2.42e+04</td>\n",
       "    </tr>\n",
       "    <tr>\n",
       "      <td>sqft_living</td>\n",
       "      <td>9.977e+04</td>\n",
       "      <td>1705.722</td>\n",
       "      <td>58.494</td>\n",
       "      <td>0.0</td>\n",
       "      <td>9.64e+04</td>\n",
       "      <td>1.03e+05</td>\n",
       "    </tr>\n",
       "    <tr>\n",
       "      <td>sqft_lot</td>\n",
       "      <td>1.074e+04</td>\n",
       "      <td>1101.442</td>\n",
       "      <td>9.754</td>\n",
       "      <td>0.0</td>\n",
       "      <td>8584.734</td>\n",
       "      <td>1.29e+04</td>\n",
       "    </tr>\n",
       "    <tr>\n",
       "      <td>distance_from_a_city</td>\n",
       "      <td>-1.01e+05</td>\n",
       "      <td>1147.329</td>\n",
       "      <td>-88.063</td>\n",
       "      <td>0.0</td>\n",
       "      <td>-1.03e+05</td>\n",
       "      <td>-9.88e+04</td>\n",
       "    </tr>\n",
       "  </tbody>\n",
       "</table>\n",
       "</div>"
      ],
      "text/plain": [
       "0                           coef    std err          t  P>|t|     [0.025  \\\n",
       "                                                                           \n",
       "bedrooms              -1.327e+04   1347.031     -9.851    0.0  -1.59e+04   \n",
       "bathrooms              2.082e+04   1730.299     12.031    0.0   1.74e+04   \n",
       "sqft_living            9.977e+04   1705.722     58.494    0.0   9.64e+04   \n",
       "sqft_lot               1.074e+04   1101.442      9.754    0.0   8584.734   \n",
       "distance_from_a_city   -1.01e+05   1147.329    -88.063    0.0  -1.03e+05   \n",
       "\n",
       "0                        0.975]  \n",
       "                                 \n",
       "bedrooms              -1.06e+04  \n",
       "bathrooms              2.42e+04  \n",
       "sqft_living            1.03e+05  \n",
       "sqft_lot               1.29e+04  \n",
       "distance_from_a_city  -9.88e+04  "
      ]
     },
     "execution_count": 77,
     "metadata": {},
     "output_type": "execute_result"
    }
   ],
   "source": [
    "summary = model.summary()\n",
    "p_table = summary.tables[1]\n",
    "p_table = pd.DataFrame(p_table.data)\n",
    "p_table.columns = p_table.iloc[0]\n",
    "p_table = p_table.drop(0)\n",
    "p_table = p_table.set_index(p_table.columns[0])\n",
    "p_table['P>|t|'] = p_table['P>|t|'].astype(float)\n",
    "x_cols = list(p_table[p_table['P>|t|'] < 0.05].index)\n",
    "print(len(p_table), len(x_cols))\n",
    "print(x_cols[:5])\n",
    "p_table.head()"
   ]
  },
  {
   "cell_type": "code",
   "execution_count": 78,
   "metadata": {},
   "outputs": [],
   "source": [
    "X = train[x_cols]\n",
    "y= train['price']"
   ]
  },
  {
   "cell_type": "code",
   "execution_count": 79,
   "metadata": {},
   "outputs": [
    {
     "data": {
      "text/html": [
       "<table class=\"simpletable\">\n",
       "<caption>OLS Regression Results</caption>\n",
       "<tr>\n",
       "  <th>Dep. Variable:</th>          <td>price</td>      <th>  R-squared (uncentered):</th>       <td>   0.950</td>  \n",
       "</tr>\n",
       "<tr>\n",
       "  <th>Model:</th>                   <td>OLS</td>       <th>  Adj. R-squared (uncentered):</th>  <td>   0.950</td>  \n",
       "</tr>\n",
       "<tr>\n",
       "  <th>Method:</th>             <td>Least Squares</td>  <th>  F-statistic:       </th>           <td>3.064e+04</td> \n",
       "</tr>\n",
       "<tr>\n",
       "  <th>Date:</th>             <td>Wed, 03 Jun 2020</td> <th>  Prob (F-statistic):</th>            <td>  0.00</td>   \n",
       "</tr>\n",
       "<tr>\n",
       "  <th>Time:</th>                 <td>18:59:42</td>     <th>  Log-Likelihood:    </th>          <td>-1.6751e+05</td>\n",
       "</tr>\n",
       "<tr>\n",
       "  <th>No. Observations:</th>      <td> 12792</td>      <th>  AIC:               </th>           <td>3.350e+05</td> \n",
       "</tr>\n",
       "<tr>\n",
       "  <th>Df Residuals:</th>          <td> 12784</td>      <th>  BIC:               </th>           <td>3.351e+05</td> \n",
       "</tr>\n",
       "<tr>\n",
       "  <th>Df Model:</th>              <td>     8</td>      <th>                     </th>               <td> </td>     \n",
       "</tr>\n",
       "<tr>\n",
       "  <th>Covariance Type:</th>      <td>nonrobust</td>    <th>                     </th>               <td> </td>     \n",
       "</tr>\n",
       "</table>\n",
       "<table class=\"simpletable\">\n",
       "<tr>\n",
       "            <td></td>              <th>coef</th>     <th>std err</th>      <th>t</th>      <th>P>|t|</th>  <th>[0.025</th>    <th>0.975]</th>  \n",
       "</tr>\n",
       "<tr>\n",
       "  <th>bedrooms</th>             <td>-1.327e+04</td> <td> 1347.031</td> <td>   -9.851</td> <td> 0.000</td> <td>-1.59e+04</td> <td>-1.06e+04</td>\n",
       "</tr>\n",
       "<tr>\n",
       "  <th>bathrooms</th>            <td> 2.082e+04</td> <td> 1730.299</td> <td>   12.031</td> <td> 0.000</td> <td> 1.74e+04</td> <td> 2.42e+04</td>\n",
       "</tr>\n",
       "<tr>\n",
       "  <th>sqft_living</th>          <td> 9.977e+04</td> <td> 1705.722</td> <td>   58.494</td> <td> 0.000</td> <td> 9.64e+04</td> <td> 1.03e+05</td>\n",
       "</tr>\n",
       "<tr>\n",
       "  <th>sqft_lot</th>             <td> 1.074e+04</td> <td> 1101.442</td> <td>    9.754</td> <td> 0.000</td> <td> 8584.734</td> <td> 1.29e+04</td>\n",
       "</tr>\n",
       "<tr>\n",
       "  <th>distance_from_a_city</th> <td> -1.01e+05</td> <td> 1147.329</td> <td>  -88.063</td> <td> 0.000</td> <td>-1.03e+05</td> <td>-9.88e+04</td>\n",
       "</tr>\n",
       "<tr>\n",
       "  <th>Age_of_House</th>         <td> 3.738e+04</td> <td> 1392.720</td> <td>   26.841</td> <td> 0.000</td> <td> 3.47e+04</td> <td> 4.01e+04</td>\n",
       "</tr>\n",
       "<tr>\n",
       "  <th>basement</th>             <td>-2.542e+04</td> <td> 2276.054</td> <td>  -11.168</td> <td> 0.000</td> <td>-2.99e+04</td> <td> -2.1e+04</td>\n",
       "</tr>\n",
       "<tr>\n",
       "  <th>grade</th>                <td> 6.547e+04</td> <td>  176.409</td> <td>  371.131</td> <td> 0.000</td> <td> 6.51e+04</td> <td> 6.58e+04</td>\n",
       "</tr>\n",
       "</table>\n",
       "<table class=\"simpletable\">\n",
       "<tr>\n",
       "  <th>Omnibus:</th>       <td>1559.856</td> <th>  Durbin-Watson:     </th> <td>   1.983</td>\n",
       "</tr>\n",
       "<tr>\n",
       "  <th>Prob(Omnibus):</th>  <td> 0.000</td>  <th>  Jarque-Bera (JB):  </th> <td>3907.176</td>\n",
       "</tr>\n",
       "<tr>\n",
       "  <th>Skew:</th>           <td> 0.702</td>  <th>  Prob(JB):          </th> <td>    0.00</td>\n",
       "</tr>\n",
       "<tr>\n",
       "  <th>Kurtosis:</th>       <td> 5.315</td>  <th>  Cond. No.          </th> <td>    17.4</td>\n",
       "</tr>\n",
       "</table><br/><br/>Warnings:<br/>[1] Standard Errors assume that the covariance matrix of the errors is correctly specified."
      ],
      "text/plain": [
       "<class 'statsmodels.iolib.summary.Summary'>\n",
       "\"\"\"\n",
       "                                 OLS Regression Results                                \n",
       "=======================================================================================\n",
       "Dep. Variable:                  price   R-squared (uncentered):                   0.950\n",
       "Model:                            OLS   Adj. R-squared (uncentered):              0.950\n",
       "Method:                 Least Squares   F-statistic:                          3.064e+04\n",
       "Date:                Wed, 03 Jun 2020   Prob (F-statistic):                        0.00\n",
       "Time:                        18:59:42   Log-Likelihood:                     -1.6751e+05\n",
       "No. Observations:               12792   AIC:                                  3.350e+05\n",
       "Df Residuals:                   12784   BIC:                                  3.351e+05\n",
       "Df Model:                           8                                                  \n",
       "Covariance Type:            nonrobust                                                  \n",
       "========================================================================================\n",
       "                           coef    std err          t      P>|t|      [0.025      0.975]\n",
       "----------------------------------------------------------------------------------------\n",
       "bedrooms             -1.327e+04   1347.031     -9.851      0.000   -1.59e+04   -1.06e+04\n",
       "bathrooms             2.082e+04   1730.299     12.031      0.000    1.74e+04    2.42e+04\n",
       "sqft_living           9.977e+04   1705.722     58.494      0.000    9.64e+04    1.03e+05\n",
       "sqft_lot              1.074e+04   1101.442      9.754      0.000    8584.734    1.29e+04\n",
       "distance_from_a_city  -1.01e+05   1147.329    -88.063      0.000   -1.03e+05   -9.88e+04\n",
       "Age_of_House          3.738e+04   1392.720     26.841      0.000    3.47e+04    4.01e+04\n",
       "basement             -2.542e+04   2276.054    -11.168      0.000   -2.99e+04    -2.1e+04\n",
       "grade                 6.547e+04    176.409    371.131      0.000    6.51e+04    6.58e+04\n",
       "==============================================================================\n",
       "Omnibus:                     1559.856   Durbin-Watson:                   1.983\n",
       "Prob(Omnibus):                  0.000   Jarque-Bera (JB):             3907.176\n",
       "Skew:                           0.702   Prob(JB):                         0.00\n",
       "Kurtosis:                       5.315   Cond. No.                         17.4\n",
       "==============================================================================\n",
       "\n",
       "Warnings:\n",
       "[1] Standard Errors assume that the covariance matrix of the errors is correctly specified.\n",
       "\"\"\""
      ]
     },
     "execution_count": 79,
     "metadata": {},
     "output_type": "execute_result"
    }
   ],
   "source": [
    "model = sm.OLS(y,X).fit()\n",
    "model.summary()"
   ]
  },
  {
   "cell_type": "code",
   "execution_count": 80,
   "metadata": {},
   "outputs": [
    {
     "data": {
      "text/plain": [
       "[('bedrooms', 1.664838831684881),\n",
       " ('bathrooms', 2.733843641894712),\n",
       " ('sqft_living', 2.6407057594970946),\n",
       " ('sqft_lot', 1.131895090582777),\n",
       " ('distance_from_a_city', 1.2101396104053066),\n",
       " ('Age_of_House', 1.7884941306606994),\n",
       " ('basement', 1.7696628099548788),\n",
       " ('grade', 1.6566620686275275)]"
      ]
     },
     "execution_count": 80,
     "metadata": {},
     "output_type": "execute_result"
    }
   ],
   "source": [
    "# Your code here - Code a way to identify multicollinearity\n",
    "from statsmodels.stats.outliers_influence import variance_inflation_factor\n",
    "X = df[x_cols]\n",
    "vif = [variance_inflation_factor(X.values,i) for i in range(X.shape[1])]\n",
    "list(zip(x_cols,vif))"
   ]
  },
  {
   "cell_type": "code",
   "execution_count": 81,
   "metadata": {},
   "outputs": [
    {
     "name": "stdout",
     "output_type": "stream",
     "text": [
      "8 8\n"
     ]
    }
   ],
   "source": [
    "vif_scores = list(zip(x_cols, vif))\n",
    "x_cols = [x for x,vif in vif_scores if vif < 5]\n",
    "print(len(vif_scores), len(x_cols))"
   ]
  },
  {
   "cell_type": "code",
   "execution_count": 82,
   "metadata": {},
   "outputs": [
    {
     "data": {
      "text/html": [
       "<table class=\"simpletable\">\n",
       "<caption>OLS Regression Results</caption>\n",
       "<tr>\n",
       "  <th>Dep. Variable:</th>          <td>price</td>      <th>  R-squared (uncentered):</th>       <td>   0.950</td>  \n",
       "</tr>\n",
       "<tr>\n",
       "  <th>Model:</th>                   <td>OLS</td>       <th>  Adj. R-squared (uncentered):</th>  <td>   0.950</td>  \n",
       "</tr>\n",
       "<tr>\n",
       "  <th>Method:</th>             <td>Least Squares</td>  <th>  F-statistic:       </th>           <td>3.064e+04</td> \n",
       "</tr>\n",
       "<tr>\n",
       "  <th>Date:</th>             <td>Wed, 03 Jun 2020</td> <th>  Prob (F-statistic):</th>            <td>  0.00</td>   \n",
       "</tr>\n",
       "<tr>\n",
       "  <th>Time:</th>                 <td>18:59:45</td>     <th>  Log-Likelihood:    </th>          <td>-1.6751e+05</td>\n",
       "</tr>\n",
       "<tr>\n",
       "  <th>No. Observations:</th>      <td> 12792</td>      <th>  AIC:               </th>           <td>3.350e+05</td> \n",
       "</tr>\n",
       "<tr>\n",
       "  <th>Df Residuals:</th>          <td> 12784</td>      <th>  BIC:               </th>           <td>3.351e+05</td> \n",
       "</tr>\n",
       "<tr>\n",
       "  <th>Df Model:</th>              <td>     8</td>      <th>                     </th>               <td> </td>     \n",
       "</tr>\n",
       "<tr>\n",
       "  <th>Covariance Type:</th>      <td>nonrobust</td>    <th>                     </th>               <td> </td>     \n",
       "</tr>\n",
       "</table>\n",
       "<table class=\"simpletable\">\n",
       "<tr>\n",
       "            <td></td>              <th>coef</th>     <th>std err</th>      <th>t</th>      <th>P>|t|</th>  <th>[0.025</th>    <th>0.975]</th>  \n",
       "</tr>\n",
       "<tr>\n",
       "  <th>bedrooms</th>             <td>-1.327e+04</td> <td> 1347.031</td> <td>   -9.851</td> <td> 0.000</td> <td>-1.59e+04</td> <td>-1.06e+04</td>\n",
       "</tr>\n",
       "<tr>\n",
       "  <th>bathrooms</th>            <td> 2.082e+04</td> <td> 1730.299</td> <td>   12.031</td> <td> 0.000</td> <td> 1.74e+04</td> <td> 2.42e+04</td>\n",
       "</tr>\n",
       "<tr>\n",
       "  <th>sqft_living</th>          <td> 9.977e+04</td> <td> 1705.722</td> <td>   58.494</td> <td> 0.000</td> <td> 9.64e+04</td> <td> 1.03e+05</td>\n",
       "</tr>\n",
       "<tr>\n",
       "  <th>sqft_lot</th>             <td> 1.074e+04</td> <td> 1101.442</td> <td>    9.754</td> <td> 0.000</td> <td> 8584.734</td> <td> 1.29e+04</td>\n",
       "</tr>\n",
       "<tr>\n",
       "  <th>distance_from_a_city</th> <td> -1.01e+05</td> <td> 1147.329</td> <td>  -88.063</td> <td> 0.000</td> <td>-1.03e+05</td> <td>-9.88e+04</td>\n",
       "</tr>\n",
       "<tr>\n",
       "  <th>Age_of_House</th>         <td> 3.738e+04</td> <td> 1392.720</td> <td>   26.841</td> <td> 0.000</td> <td> 3.47e+04</td> <td> 4.01e+04</td>\n",
       "</tr>\n",
       "<tr>\n",
       "  <th>basement</th>             <td>-2.542e+04</td> <td> 2276.054</td> <td>  -11.168</td> <td> 0.000</td> <td>-2.99e+04</td> <td> -2.1e+04</td>\n",
       "</tr>\n",
       "<tr>\n",
       "  <th>grade</th>                <td> 6.547e+04</td> <td>  176.409</td> <td>  371.131</td> <td> 0.000</td> <td> 6.51e+04</td> <td> 6.58e+04</td>\n",
       "</tr>\n",
       "</table>\n",
       "<table class=\"simpletable\">\n",
       "<tr>\n",
       "  <th>Omnibus:</th>       <td>1559.856</td> <th>  Durbin-Watson:     </th> <td>   1.983</td>\n",
       "</tr>\n",
       "<tr>\n",
       "  <th>Prob(Omnibus):</th>  <td> 0.000</td>  <th>  Jarque-Bera (JB):  </th> <td>3907.176</td>\n",
       "</tr>\n",
       "<tr>\n",
       "  <th>Skew:</th>           <td> 0.702</td>  <th>  Prob(JB):          </th> <td>    0.00</td>\n",
       "</tr>\n",
       "<tr>\n",
       "  <th>Kurtosis:</th>       <td> 5.315</td>  <th>  Cond. No.          </th> <td>    17.4</td>\n",
       "</tr>\n",
       "</table><br/><br/>Warnings:<br/>[1] Standard Errors assume that the covariance matrix of the errors is correctly specified."
      ],
      "text/plain": [
       "<class 'statsmodels.iolib.summary.Summary'>\n",
       "\"\"\"\n",
       "                                 OLS Regression Results                                \n",
       "=======================================================================================\n",
       "Dep. Variable:                  price   R-squared (uncentered):                   0.950\n",
       "Model:                            OLS   Adj. R-squared (uncentered):              0.950\n",
       "Method:                 Least Squares   F-statistic:                          3.064e+04\n",
       "Date:                Wed, 03 Jun 2020   Prob (F-statistic):                        0.00\n",
       "Time:                        18:59:45   Log-Likelihood:                     -1.6751e+05\n",
       "No. Observations:               12792   AIC:                                  3.350e+05\n",
       "Df Residuals:                   12784   BIC:                                  3.351e+05\n",
       "Df Model:                           8                                                  \n",
       "Covariance Type:            nonrobust                                                  \n",
       "========================================================================================\n",
       "                           coef    std err          t      P>|t|      [0.025      0.975]\n",
       "----------------------------------------------------------------------------------------\n",
       "bedrooms             -1.327e+04   1347.031     -9.851      0.000   -1.59e+04   -1.06e+04\n",
       "bathrooms             2.082e+04   1730.299     12.031      0.000    1.74e+04    2.42e+04\n",
       "sqft_living           9.977e+04   1705.722     58.494      0.000    9.64e+04    1.03e+05\n",
       "sqft_lot              1.074e+04   1101.442      9.754      0.000    8584.734    1.29e+04\n",
       "distance_from_a_city  -1.01e+05   1147.329    -88.063      0.000   -1.03e+05   -9.88e+04\n",
       "Age_of_House          3.738e+04   1392.720     26.841      0.000    3.47e+04    4.01e+04\n",
       "basement             -2.542e+04   2276.054    -11.168      0.000   -2.99e+04    -2.1e+04\n",
       "grade                 6.547e+04    176.409    371.131      0.000    6.51e+04    6.58e+04\n",
       "==============================================================================\n",
       "Omnibus:                     1559.856   Durbin-Watson:                   1.983\n",
       "Prob(Omnibus):                  0.000   Jarque-Bera (JB):             3907.176\n",
       "Skew:                           0.702   Prob(JB):                         0.00\n",
       "Kurtosis:                       5.315   Cond. No.                         17.4\n",
       "==============================================================================\n",
       "\n",
       "Warnings:\n",
       "[1] Standard Errors assume that the covariance matrix of the errors is correctly specified.\n",
       "\"\"\""
      ]
     },
     "execution_count": 82,
     "metadata": {},
     "output_type": "execute_result"
    }
   ],
   "source": [
    "X = train[x_cols]\n",
    "y= train['price']\n",
    "model = sm.OLS(y,X).fit()\n",
    "model.summary()"
   ]
  },
  {
   "cell_type": "code",
   "execution_count": 83,
   "metadata": {
    "scrolled": false
   },
   "outputs": [
    {
     "data": {
      "text/html": [
       "<table class=\"simpletable\">\n",
       "<caption>OLS Regression Results</caption>\n",
       "<tr>\n",
       "  <th>Dep. Variable:</th>          <td>price</td>      <th>  R-squared (uncentered):</th>       <td>   0.950</td>  \n",
       "</tr>\n",
       "<tr>\n",
       "  <th>Model:</th>                   <td>OLS</td>       <th>  Adj. R-squared (uncentered):</th>  <td>   0.950</td>  \n",
       "</tr>\n",
       "<tr>\n",
       "  <th>Method:</th>             <td>Least Squares</td>  <th>  F-statistic:       </th>           <td>3.064e+04</td> \n",
       "</tr>\n",
       "<tr>\n",
       "  <th>Date:</th>             <td>Wed, 03 Jun 2020</td> <th>  Prob (F-statistic):</th>            <td>  0.00</td>   \n",
       "</tr>\n",
       "<tr>\n",
       "  <th>Time:</th>                 <td>18:59:46</td>     <th>  Log-Likelihood:    </th>          <td>-1.6751e+05</td>\n",
       "</tr>\n",
       "<tr>\n",
       "  <th>No. Observations:</th>      <td> 12792</td>      <th>  AIC:               </th>           <td>3.350e+05</td> \n",
       "</tr>\n",
       "<tr>\n",
       "  <th>Df Residuals:</th>          <td> 12784</td>      <th>  BIC:               </th>           <td>3.351e+05</td> \n",
       "</tr>\n",
       "<tr>\n",
       "  <th>Df Model:</th>              <td>     8</td>      <th>                     </th>               <td> </td>     \n",
       "</tr>\n",
       "<tr>\n",
       "  <th>Covariance Type:</th>      <td>nonrobust</td>    <th>                     </th>               <td> </td>     \n",
       "</tr>\n",
       "</table>\n",
       "<table class=\"simpletable\">\n",
       "<tr>\n",
       "            <td></td>              <th>coef</th>     <th>std err</th>      <th>t</th>      <th>P>|t|</th>  <th>[0.025</th>    <th>0.975]</th>  \n",
       "</tr>\n",
       "<tr>\n",
       "  <th>bedrooms</th>             <td>-1.327e+04</td> <td> 1347.031</td> <td>   -9.851</td> <td> 0.000</td> <td>-1.59e+04</td> <td>-1.06e+04</td>\n",
       "</tr>\n",
       "<tr>\n",
       "  <th>bathrooms</th>            <td> 2.082e+04</td> <td> 1730.299</td> <td>   12.031</td> <td> 0.000</td> <td> 1.74e+04</td> <td> 2.42e+04</td>\n",
       "</tr>\n",
       "<tr>\n",
       "  <th>sqft_living</th>          <td> 9.977e+04</td> <td> 1705.722</td> <td>   58.494</td> <td> 0.000</td> <td> 9.64e+04</td> <td> 1.03e+05</td>\n",
       "</tr>\n",
       "<tr>\n",
       "  <th>sqft_lot</th>             <td> 1.074e+04</td> <td> 1101.442</td> <td>    9.754</td> <td> 0.000</td> <td> 8584.734</td> <td> 1.29e+04</td>\n",
       "</tr>\n",
       "<tr>\n",
       "  <th>distance_from_a_city</th> <td> -1.01e+05</td> <td> 1147.329</td> <td>  -88.063</td> <td> 0.000</td> <td>-1.03e+05</td> <td>-9.88e+04</td>\n",
       "</tr>\n",
       "<tr>\n",
       "  <th>Age_of_House</th>         <td> 3.738e+04</td> <td> 1392.720</td> <td>   26.841</td> <td> 0.000</td> <td> 3.47e+04</td> <td> 4.01e+04</td>\n",
       "</tr>\n",
       "<tr>\n",
       "  <th>basement</th>             <td>-2.542e+04</td> <td> 2276.054</td> <td>  -11.168</td> <td> 0.000</td> <td>-2.99e+04</td> <td> -2.1e+04</td>\n",
       "</tr>\n",
       "<tr>\n",
       "  <th>grade</th>                <td> 6.547e+04</td> <td>  176.409</td> <td>  371.131</td> <td> 0.000</td> <td> 6.51e+04</td> <td> 6.58e+04</td>\n",
       "</tr>\n",
       "</table>\n",
       "<table class=\"simpletable\">\n",
       "<tr>\n",
       "  <th>Omnibus:</th>       <td>1559.856</td> <th>  Durbin-Watson:     </th> <td>   1.983</td>\n",
       "</tr>\n",
       "<tr>\n",
       "  <th>Prob(Omnibus):</th>  <td> 0.000</td>  <th>  Jarque-Bera (JB):  </th> <td>3907.176</td>\n",
       "</tr>\n",
       "<tr>\n",
       "  <th>Skew:</th>           <td> 0.702</td>  <th>  Prob(JB):          </th> <td>    0.00</td>\n",
       "</tr>\n",
       "<tr>\n",
       "  <th>Kurtosis:</th>       <td> 5.315</td>  <th>  Cond. No.          </th> <td>    17.4</td>\n",
       "</tr>\n",
       "</table><br/><br/>Warnings:<br/>[1] Standard Errors assume that the covariance matrix of the errors is correctly specified."
      ],
      "text/plain": [
       "<class 'statsmodels.iolib.summary.Summary'>\n",
       "\"\"\"\n",
       "                                 OLS Regression Results                                \n",
       "=======================================================================================\n",
       "Dep. Variable:                  price   R-squared (uncentered):                   0.950\n",
       "Model:                            OLS   Adj. R-squared (uncentered):              0.950\n",
       "Method:                 Least Squares   F-statistic:                          3.064e+04\n",
       "Date:                Wed, 03 Jun 2020   Prob (F-statistic):                        0.00\n",
       "Time:                        18:59:46   Log-Likelihood:                     -1.6751e+05\n",
       "No. Observations:               12792   AIC:                                  3.350e+05\n",
       "Df Residuals:                   12784   BIC:                                  3.351e+05\n",
       "Df Model:                           8                                                  \n",
       "Covariance Type:            nonrobust                                                  \n",
       "========================================================================================\n",
       "                           coef    std err          t      P>|t|      [0.025      0.975]\n",
       "----------------------------------------------------------------------------------------\n",
       "bedrooms             -1.327e+04   1347.031     -9.851      0.000   -1.59e+04   -1.06e+04\n",
       "bathrooms             2.082e+04   1730.299     12.031      0.000    1.74e+04    2.42e+04\n",
       "sqft_living           9.977e+04   1705.722     58.494      0.000    9.64e+04    1.03e+05\n",
       "sqft_lot              1.074e+04   1101.442      9.754      0.000    8584.734    1.29e+04\n",
       "distance_from_a_city  -1.01e+05   1147.329    -88.063      0.000   -1.03e+05   -9.88e+04\n",
       "Age_of_House          3.738e+04   1392.720     26.841      0.000    3.47e+04    4.01e+04\n",
       "basement             -2.542e+04   2276.054    -11.168      0.000   -2.99e+04    -2.1e+04\n",
       "grade                 6.547e+04    176.409    371.131      0.000    6.51e+04    6.58e+04\n",
       "==============================================================================\n",
       "Omnibus:                     1559.856   Durbin-Watson:                   1.983\n",
       "Prob(Omnibus):                  0.000   Jarque-Bera (JB):             3907.176\n",
       "Skew:                           0.702   Prob(JB):                         0.00\n",
       "Kurtosis:                       5.315   Cond. No.                         17.4\n",
       "==============================================================================\n",
       "\n",
       "Warnings:\n",
       "[1] Standard Errors assume that the covariance matrix of the errors is correctly specified.\n",
       "\"\"\""
      ]
     },
     "execution_count": 83,
     "metadata": {},
     "output_type": "execute_result"
    }
   ],
   "source": [
    "model = sm.OLS(y,X).fit()\n",
    "model.summary()"
   ]
  },
  {
   "cell_type": "code",
   "execution_count": 84,
   "metadata": {},
   "outputs": [
    {
     "data": {
      "image/png": "[encoded data removed]",
      "text/plain": [
       "<Figure size 432x288 with 1 Axes>"
      ]
     },
     "metadata": {},
     "output_type": "display_data"
    }
   ],
   "source": [
    "fig = sm.graphics.qqplot(model.resid, dist=stats.norm, line='45', fit=True)\n"
   ]
  },
  {
   "cell_type": "code",
   "execution_count": 85,
   "metadata": {},
   "outputs": [
    {
     "data": {
      "text/plain": [
       "[<matplotlib.lines.Line2D at 0x1c210e5ba8>]"
      ]
     },
     "execution_count": 85,
     "metadata": {},
     "output_type": "execute_result"
    },
    {
     "data": {
      "image/png": "[encoded data removed]",
      "text/plain": [
       "<Figure size 432x288 with 1 Axes>"
      ]
     },
     "metadata": {},
     "output_type": "display_data"
    }
   ],
   "source": [
    "plt.scatter(model.predict(train[x_cols]), model.resid)\n",
    "plt.plot(model.predict(train[x_cols]), [0 for i in range(len(train))])"
   ]
  },
  {
   "cell_type": "code",
   "execution_count": 86,
   "metadata": {},
   "outputs": [
    {
     "data": {
      "text/plain": [
       "<matplotlib.axes._subplots.AxesSubplot at 0x1c21db0f60>"
      ]
     },
     "execution_count": 86,
     "metadata": {},
     "output_type": "execute_result"
    },
    {
     "data": {
      "image/png": "[encoded data removed]",
      "text/plain": [
       "<Figure size 432x288 with 1 Axes>"
      ]
     },
     "metadata": {},
     "output_type": "display_data"
    }
   ],
   "source": [
    "df.price.hist()"
   ]
  },
  {
   "cell_type": "code",
   "execution_count": 87,
   "metadata": {},
   "outputs": [
    {
     "name": "stdout",
     "output_type": "stream",
     "text": [
      "0.8 percentile: 649000.0\n",
      "0.81 percentile: 655775.0000000005\n",
      "0.82 percentile: 669894.2\n",
      "0.83 percentile: 680000.0\n",
      "0.84 percentile: 695000.0\n",
      "0.85 percentile: 705000.0\n",
      "0.86 percentile: 720000.0\n",
      "0.87 percentile: 735000.0\n",
      "0.88 percentile: 750000.0\n",
      "0.89 percentile: 765000.0\n",
      "0.9 percentile: 780000.0\n",
      "0.91 percentile: 800000.0\n",
      "0.92 percentile: 820000.0\n",
      "0.93 percentile: 844150.0000000014\n",
      "0.94 percentile: 865000.0\n",
      "0.95 percentile: 898597.0\n",
      "0.96 percentile: 932951.9999999999\n",
      "0.97 percentile: 980000.0\n",
      "0.98 percentile: 1050000.0\n",
      "0.99 percentile: 1190000.0\n"
     ]
    }
   ],
   "source": [
    "for i in range(80,100):\n",
    "    q = i/100\n",
    "    print(\"{} percentile: {}\".format(q, df.price.quantile(q=q)))"
   ]
  },
  {
   "cell_type": "code",
   "execution_count": 88,
   "metadata": {},
   "outputs": [
    {
     "name": "stdout",
     "output_type": "stream",
     "text": [
      "Percent removed: 0.016651031894934335\n"
     ]
    }
   ],
   "source": [
    "orig_tot = len(df)\n",
    "df = df[df.price < 1100000] # Subsetting to remove extreme outliers\n",
    "print('Percent removed:', (orig_tot -len(df))/orig_tot)\n",
    "train, test = train_test_split(df)"
   ]
  },
  {
   "cell_type": "code",
   "execution_count": 89,
   "metadata": {},
   "outputs": [],
   "source": [
    "X = train[x_cols]\n",
    "y = train['price']"
   ]
  },
  {
   "cell_type": "code",
   "execution_count": 90,
   "metadata": {},
   "outputs": [
    {
     "data": {
      "text/html": [
       "<table class=\"simpletable\">\n",
       "<caption>OLS Regression Results</caption>\n",
       "<tr>\n",
       "  <th>Dep. Variable:</th>          <td>price</td>      <th>  R-squared (uncentered):</th>       <td>   0.955</td>  \n",
       "</tr>\n",
       "<tr>\n",
       "  <th>Model:</th>                   <td>OLS</td>       <th>  Adj. R-squared (uncentered):</th>  <td>   0.955</td>  \n",
       "</tr>\n",
       "<tr>\n",
       "  <th>Method:</th>             <td>Least Squares</td>  <th>  F-statistic:       </th>           <td>3.373e+04</td> \n",
       "</tr>\n",
       "<tr>\n",
       "  <th>Date:</th>             <td>Wed, 03 Jun 2020</td> <th>  Prob (F-statistic):</th>            <td>  0.00</td>   \n",
       "</tr>\n",
       "<tr>\n",
       "  <th>Time:</th>                 <td>18:59:57</td>     <th>  Log-Likelihood:    </th>          <td>-1.6351e+05</td>\n",
       "</tr>\n",
       "<tr>\n",
       "  <th>No. Observations:</th>      <td> 12579</td>      <th>  AIC:               </th>           <td>3.270e+05</td> \n",
       "</tr>\n",
       "<tr>\n",
       "  <th>Df Residuals:</th>          <td> 12571</td>      <th>  BIC:               </th>           <td>3.271e+05</td> \n",
       "</tr>\n",
       "<tr>\n",
       "  <th>Df Model:</th>              <td>     8</td>      <th>                     </th>               <td> </td>     \n",
       "</tr>\n",
       "<tr>\n",
       "  <th>Covariance Type:</th>      <td>nonrobust</td>    <th>                     </th>               <td> </td>     \n",
       "</tr>\n",
       "</table>\n",
       "<table class=\"simpletable\">\n",
       "<tr>\n",
       "            <td></td>              <th>coef</th>     <th>std err</th>      <th>t</th>      <th>P>|t|</th>  <th>[0.025</th>    <th>0.975]</th>  \n",
       "</tr>\n",
       "<tr>\n",
       "  <th>bedrooms</th>             <td>-1.366e+04</td> <td> 1241.004</td> <td>  -11.005</td> <td> 0.000</td> <td>-1.61e+04</td> <td>-1.12e+04</td>\n",
       "</tr>\n",
       "<tr>\n",
       "  <th>bathrooms</th>            <td> 1.878e+04</td> <td> 1591.317</td> <td>   11.799</td> <td> 0.000</td> <td> 1.57e+04</td> <td> 2.19e+04</td>\n",
       "</tr>\n",
       "<tr>\n",
       "  <th>sqft_living</th>          <td> 9.029e+04</td> <td> 1596.530</td> <td>   56.552</td> <td> 0.000</td> <td> 8.72e+04</td> <td> 9.34e+04</td>\n",
       "</tr>\n",
       "<tr>\n",
       "  <th>sqft_lot</th>             <td> 1.073e+04</td> <td> 1048.686</td> <td>   10.232</td> <td> 0.000</td> <td> 8675.028</td> <td> 1.28e+04</td>\n",
       "</tr>\n",
       "<tr>\n",
       "  <th>distance_from_a_city</th> <td>-9.496e+04</td> <td> 1056.799</td> <td>  -89.859</td> <td> 0.000</td> <td> -9.7e+04</td> <td>-9.29e+04</td>\n",
       "</tr>\n",
       "<tr>\n",
       "  <th>Age_of_House</th>         <td> 3.337e+04</td> <td> 1293.192</td> <td>   25.804</td> <td> 0.000</td> <td> 3.08e+04</td> <td> 3.59e+04</td>\n",
       "</tr>\n",
       "<tr>\n",
       "  <th>basement</th>             <td>-2.272e+04</td> <td> 2084.821</td> <td>  -10.898</td> <td> 0.000</td> <td>-2.68e+04</td> <td>-1.86e+04</td>\n",
       "</tr>\n",
       "<tr>\n",
       "  <th>grade</th>                <td> 6.428e+04</td> <td>  163.037</td> <td>  394.289</td> <td> 0.000</td> <td>  6.4e+04</td> <td> 6.46e+04</td>\n",
       "</tr>\n",
       "</table>\n",
       "<table class=\"simpletable\">\n",
       "<tr>\n",
       "  <th>Omnibus:</th>       <td>557.862</td> <th>  Durbin-Watson:     </th> <td>   2.005</td> \n",
       "</tr>\n",
       "<tr>\n",
       "  <th>Prob(Omnibus):</th> <td> 0.000</td>  <th>  Jarque-Bera (JB):  </th> <td> 987.204</td> \n",
       "</tr>\n",
       "<tr>\n",
       "  <th>Skew:</th>          <td> 0.359</td>  <th>  Prob(JB):          </th> <td>4.28e-215</td>\n",
       "</tr>\n",
       "<tr>\n",
       "  <th>Kurtosis:</th>      <td> 4.169</td>  <th>  Cond. No.          </th> <td>    17.3</td> \n",
       "</tr>\n",
       "</table><br/><br/>Warnings:<br/>[1] Standard Errors assume that the covariance matrix of the errors is correctly specified."
      ],
      "text/plain": [
       "<class 'statsmodels.iolib.summary.Summary'>\n",
       "\"\"\"\n",
       "                                 OLS Regression Results                                \n",
       "=======================================================================================\n",
       "Dep. Variable:                  price   R-squared (uncentered):                   0.955\n",
       "Model:                            OLS   Adj. R-squared (uncentered):              0.955\n",
       "Method:                 Least Squares   F-statistic:                          3.373e+04\n",
       "Date:                Wed, 03 Jun 2020   Prob (F-statistic):                        0.00\n",
       "Time:                        18:59:57   Log-Likelihood:                     -1.6351e+05\n",
       "No. Observations:               12579   AIC:                                  3.270e+05\n",
       "Df Residuals:                   12571   BIC:                                  3.271e+05\n",
       "Df Model:                           8                                                  \n",
       "Covariance Type:            nonrobust                                                  \n",
       "========================================================================================\n",
       "                           coef    std err          t      P>|t|      [0.025      0.975]\n",
       "----------------------------------------------------------------------------------------\n",
       "bedrooms             -1.366e+04   1241.004    -11.005      0.000   -1.61e+04   -1.12e+04\n",
       "bathrooms             1.878e+04   1591.317     11.799      0.000    1.57e+04    2.19e+04\n",
       "sqft_living           9.029e+04   1596.530     56.552      0.000    8.72e+04    9.34e+04\n",
       "sqft_lot              1.073e+04   1048.686     10.232      0.000    8675.028    1.28e+04\n",
       "distance_from_a_city -9.496e+04   1056.799    -89.859      0.000    -9.7e+04   -9.29e+04\n",
       "Age_of_House          3.337e+04   1293.192     25.804      0.000    3.08e+04    3.59e+04\n",
       "basement             -2.272e+04   2084.821    -10.898      0.000   -2.68e+04   -1.86e+04\n",
       "grade                 6.428e+04    163.037    394.289      0.000     6.4e+04    6.46e+04\n",
       "==============================================================================\n",
       "Omnibus:                      557.862   Durbin-Watson:                   2.005\n",
       "Prob(Omnibus):                  0.000   Jarque-Bera (JB):              987.204\n",
       "Skew:                           0.359   Prob(JB):                    4.28e-215\n",
       "Kurtosis:                       4.169   Cond. No.                         17.3\n",
       "==============================================================================\n",
       "\n",
       "Warnings:\n",
       "[1] Standard Errors assume that the covariance matrix of the errors is correctly specified.\n",
       "\"\"\""
      ]
     },
     "execution_count": 90,
     "metadata": {},
     "output_type": "execute_result"
    }
   ],
   "source": [
    "model = sm.OLS(y,X).fit()\n",
    "model.summary()"
   ]
  },
  {
   "cell_type": "code",
   "execution_count": 91,
   "metadata": {},
   "outputs": [
    {
     "name": "stdout",
     "output_type": "stream",
     "text": [
      "8 8\n",
      "['bedrooms', 'bathrooms', 'sqft_living', 'sqft_lot', 'distance_from_a_city']\n"
     ]
    },
    {
     "data": {
      "text/html": [
       "<div>\n",
       "<style scoped>\n",
       "    .dataframe tbody tr th:only-of-type {\n",
       "        vertical-align: middle;\n",
       "    }\n",
       "\n",
       "    .dataframe tbody tr th {\n",
       "        vertical-align: top;\n",
       "    }\n",
       "\n",
       "    .dataframe thead th {\n",
       "        text-align: right;\n",
       "    }\n",
       "</style>\n",
       "<table border=\"1\" class=\"dataframe\">\n",
       "  <thead>\n",
       "    <tr style=\"text-align: right;\">\n",
       "      <th></th>\n",
       "      <th>coef</th>\n",
       "      <th>std err</th>\n",
       "      <th>t</th>\n",
       "      <th>P&gt;|t|</th>\n",
       "      <th>[0.025</th>\n",
       "      <th>0.975]</th>\n",
       "    </tr>\n",
       "    <tr>\n",
       "      <th></th>\n",
       "      <th></th>\n",
       "      <th></th>\n",
       "      <th></th>\n",
       "      <th></th>\n",
       "      <th></th>\n",
       "      <th></th>\n",
       "    </tr>\n",
       "  </thead>\n",
       "  <tbody>\n",
       "    <tr>\n",
       "      <td>bedrooms</td>\n",
       "      <td>-1.366e+04</td>\n",
       "      <td>1241.004</td>\n",
       "      <td>-11.005</td>\n",
       "      <td>0.0</td>\n",
       "      <td>-1.61e+04</td>\n",
       "      <td>-1.12e+04</td>\n",
       "    </tr>\n",
       "    <tr>\n",
       "      <td>bathrooms</td>\n",
       "      <td>1.878e+04</td>\n",
       "      <td>1591.317</td>\n",
       "      <td>11.799</td>\n",
       "      <td>0.0</td>\n",
       "      <td>1.57e+04</td>\n",
       "      <td>2.19e+04</td>\n",
       "    </tr>\n",
       "    <tr>\n",
       "      <td>sqft_living</td>\n",
       "      <td>9.029e+04</td>\n",
       "      <td>1596.530</td>\n",
       "      <td>56.552</td>\n",
       "      <td>0.0</td>\n",
       "      <td>8.72e+04</td>\n",
       "      <td>9.34e+04</td>\n",
       "    </tr>\n",
       "    <tr>\n",
       "      <td>sqft_lot</td>\n",
       "      <td>1.073e+04</td>\n",
       "      <td>1048.686</td>\n",
       "      <td>10.232</td>\n",
       "      <td>0.0</td>\n",
       "      <td>8675.028</td>\n",
       "      <td>1.28e+04</td>\n",
       "    </tr>\n",
       "    <tr>\n",
       "      <td>distance_from_a_city</td>\n",
       "      <td>-9.496e+04</td>\n",
       "      <td>1056.799</td>\n",
       "      <td>-89.859</td>\n",
       "      <td>0.0</td>\n",
       "      <td>-9.7e+04</td>\n",
       "      <td>-9.29e+04</td>\n",
       "    </tr>\n",
       "  </tbody>\n",
       "</table>\n",
       "</div>"
      ],
      "text/plain": [
       "0                           coef    std err          t  P>|t|     [0.025  \\\n",
       "                                                                           \n",
       "bedrooms              -1.366e+04   1241.004    -11.005    0.0  -1.61e+04   \n",
       "bathrooms              1.878e+04   1591.317     11.799    0.0   1.57e+04   \n",
       "sqft_living            9.029e+04   1596.530     56.552    0.0   8.72e+04   \n",
       "sqft_lot               1.073e+04   1048.686     10.232    0.0   8675.028   \n",
       "distance_from_a_city  -9.496e+04   1056.799    -89.859    0.0   -9.7e+04   \n",
       "\n",
       "0                        0.975]  \n",
       "                                 \n",
       "bedrooms              -1.12e+04  \n",
       "bathrooms              2.19e+04  \n",
       "sqft_living            9.34e+04  \n",
       "sqft_lot               1.28e+04  \n",
       "distance_from_a_city  -9.29e+04  "
      ]
     },
     "execution_count": 91,
     "metadata": {},
     "output_type": "execute_result"
    }
   ],
   "source": [
    "summary = model.summary()\n",
    "p_table = summary.tables[1]\n",
    "p_table = pd.DataFrame(p_table.data)\n",
    "p_table.columns = p_table.iloc[0]\n",
    "p_table = p_table.drop(0)\n",
    "p_table = p_table.set_index(p_table.columns[0])\n",
    "p_table['P>|t|'] = p_table['P>|t|'].astype(float)\n",
    "x_cols = list(p_table[p_table['P>|t|'] < 0.05].index)\n",
    "print(len(p_table), len(x_cols))\n",
    "print(x_cols[:5])\n",
    "p_table.head()"
   ]
  },
  {
   "cell_type": "code",
   "execution_count": 92,
   "metadata": {},
   "outputs": [
    {
     "data": {
      "text/html": [
       "<table class=\"simpletable\">\n",
       "<caption>OLS Regression Results</caption>\n",
       "<tr>\n",
       "  <th>Dep. Variable:</th>          <td>price</td>      <th>  R-squared (uncentered):</th>       <td>   0.955</td>  \n",
       "</tr>\n",
       "<tr>\n",
       "  <th>Model:</th>                   <td>OLS</td>       <th>  Adj. R-squared (uncentered):</th>  <td>   0.955</td>  \n",
       "</tr>\n",
       "<tr>\n",
       "  <th>Method:</th>             <td>Least Squares</td>  <th>  F-statistic:       </th>           <td>3.373e+04</td> \n",
       "</tr>\n",
       "<tr>\n",
       "  <th>Date:</th>             <td>Wed, 03 Jun 2020</td> <th>  Prob (F-statistic):</th>            <td>  0.00</td>   \n",
       "</tr>\n",
       "<tr>\n",
       "  <th>Time:</th>                 <td>18:59:58</td>     <th>  Log-Likelihood:    </th>          <td>-1.6351e+05</td>\n",
       "</tr>\n",
       "<tr>\n",
       "  <th>No. Observations:</th>      <td> 12579</td>      <th>  AIC:               </th>           <td>3.270e+05</td> \n",
       "</tr>\n",
       "<tr>\n",
       "  <th>Df Residuals:</th>          <td> 12571</td>      <th>  BIC:               </th>           <td>3.271e+05</td> \n",
       "</tr>\n",
       "<tr>\n",
       "  <th>Df Model:</th>              <td>     8</td>      <th>                     </th>               <td> </td>     \n",
       "</tr>\n",
       "<tr>\n",
       "  <th>Covariance Type:</th>      <td>nonrobust</td>    <th>                     </th>               <td> </td>     \n",
       "</tr>\n",
       "</table>\n",
       "<table class=\"simpletable\">\n",
       "<tr>\n",
       "            <td></td>              <th>coef</th>     <th>std err</th>      <th>t</th>      <th>P>|t|</th>  <th>[0.025</th>    <th>0.975]</th>  \n",
       "</tr>\n",
       "<tr>\n",
       "  <th>bedrooms</th>             <td>-1.366e+04</td> <td> 1241.004</td> <td>  -11.005</td> <td> 0.000</td> <td>-1.61e+04</td> <td>-1.12e+04</td>\n",
       "</tr>\n",
       "<tr>\n",
       "  <th>bathrooms</th>            <td> 1.878e+04</td> <td> 1591.317</td> <td>   11.799</td> <td> 0.000</td> <td> 1.57e+04</td> <td> 2.19e+04</td>\n",
       "</tr>\n",
       "<tr>\n",
       "  <th>sqft_living</th>          <td> 9.029e+04</td> <td> 1596.530</td> <td>   56.552</td> <td> 0.000</td> <td> 8.72e+04</td> <td> 9.34e+04</td>\n",
       "</tr>\n",
       "<tr>\n",
       "  <th>sqft_lot</th>             <td> 1.073e+04</td> <td> 1048.686</td> <td>   10.232</td> <td> 0.000</td> <td> 8675.028</td> <td> 1.28e+04</td>\n",
       "</tr>\n",
       "<tr>\n",
       "  <th>distance_from_a_city</th> <td>-9.496e+04</td> <td> 1056.799</td> <td>  -89.859</td> <td> 0.000</td> <td> -9.7e+04</td> <td>-9.29e+04</td>\n",
       "</tr>\n",
       "<tr>\n",
       "  <th>Age_of_House</th>         <td> 3.337e+04</td> <td> 1293.192</td> <td>   25.804</td> <td> 0.000</td> <td> 3.08e+04</td> <td> 3.59e+04</td>\n",
       "</tr>\n",
       "<tr>\n",
       "  <th>basement</th>             <td>-2.272e+04</td> <td> 2084.821</td> <td>  -10.898</td> <td> 0.000</td> <td>-2.68e+04</td> <td>-1.86e+04</td>\n",
       "</tr>\n",
       "<tr>\n",
       "  <th>grade</th>                <td> 6.428e+04</td> <td>  163.037</td> <td>  394.289</td> <td> 0.000</td> <td>  6.4e+04</td> <td> 6.46e+04</td>\n",
       "</tr>\n",
       "</table>\n",
       "<table class=\"simpletable\">\n",
       "<tr>\n",
       "  <th>Omnibus:</th>       <td>557.862</td> <th>  Durbin-Watson:     </th> <td>   2.005</td> \n",
       "</tr>\n",
       "<tr>\n",
       "  <th>Prob(Omnibus):</th> <td> 0.000</td>  <th>  Jarque-Bera (JB):  </th> <td> 987.204</td> \n",
       "</tr>\n",
       "<tr>\n",
       "  <th>Skew:</th>          <td> 0.359</td>  <th>  Prob(JB):          </th> <td>4.28e-215</td>\n",
       "</tr>\n",
       "<tr>\n",
       "  <th>Kurtosis:</th>      <td> 4.169</td>  <th>  Cond. No.          </th> <td>    17.3</td> \n",
       "</tr>\n",
       "</table><br/><br/>Warnings:<br/>[1] Standard Errors assume that the covariance matrix of the errors is correctly specified."
      ],
      "text/plain": [
       "<class 'statsmodels.iolib.summary.Summary'>\n",
       "\"\"\"\n",
       "                                 OLS Regression Results                                \n",
       "=======================================================================================\n",
       "Dep. Variable:                  price   R-squared (uncentered):                   0.955\n",
       "Model:                            OLS   Adj. R-squared (uncentered):              0.955\n",
       "Method:                 Least Squares   F-statistic:                          3.373e+04\n",
       "Date:                Wed, 03 Jun 2020   Prob (F-statistic):                        0.00\n",
       "Time:                        18:59:58   Log-Likelihood:                     -1.6351e+05\n",
       "No. Observations:               12579   AIC:                                  3.270e+05\n",
       "Df Residuals:                   12571   BIC:                                  3.271e+05\n",
       "Df Model:                           8                                                  \n",
       "Covariance Type:            nonrobust                                                  \n",
       "========================================================================================\n",
       "                           coef    std err          t      P>|t|      [0.025      0.975]\n",
       "----------------------------------------------------------------------------------------\n",
       "bedrooms             -1.366e+04   1241.004    -11.005      0.000   -1.61e+04   -1.12e+04\n",
       "bathrooms             1.878e+04   1591.317     11.799      0.000    1.57e+04    2.19e+04\n",
       "sqft_living           9.029e+04   1596.530     56.552      0.000    8.72e+04    9.34e+04\n",
       "sqft_lot              1.073e+04   1048.686     10.232      0.000    8675.028    1.28e+04\n",
       "distance_from_a_city -9.496e+04   1056.799    -89.859      0.000    -9.7e+04   -9.29e+04\n",
       "Age_of_House          3.337e+04   1293.192     25.804      0.000    3.08e+04    3.59e+04\n",
       "basement             -2.272e+04   2084.821    -10.898      0.000   -2.68e+04   -1.86e+04\n",
       "grade                 6.428e+04    163.037    394.289      0.000     6.4e+04    6.46e+04\n",
       "==============================================================================\n",
       "Omnibus:                      557.862   Durbin-Watson:                   2.005\n",
       "Prob(Omnibus):                  0.000   Jarque-Bera (JB):              987.204\n",
       "Skew:                           0.359   Prob(JB):                    4.28e-215\n",
       "Kurtosis:                       4.169   Cond. No.                         17.3\n",
       "==============================================================================\n",
       "\n",
       "Warnings:\n",
       "[1] Standard Errors assume that the covariance matrix of the errors is correctly specified.\n",
       "\"\"\""
      ]
     },
     "execution_count": 92,
     "metadata": {},
     "output_type": "execute_result"
    }
   ],
   "source": [
    "X = train[x_cols]\n",
    "y= train['price']\n",
    "model = sm.OLS(y,X).fit()\n",
    "model.summary()"
   ]
  },
  {
   "cell_type": "code",
   "execution_count": 93,
   "metadata": {},
   "outputs": [
    {
     "data": {
      "text/plain": [
       "[('bedrooms', 1.66373100073868),\n",
       " ('bathrooms', 2.712055307823811),\n",
       " ('sqft_living', 2.6134140946827027),\n",
       " ('sqft_lot', 1.132628777143108),\n",
       " ('distance_from_a_city', 1.2088091060927226),\n",
       " ('Age_of_House', 1.811193357929755),\n",
       " ('basement', 1.755167878140606),\n",
       " ('grade', 1.655430701813613)]"
      ]
     },
     "execution_count": 93,
     "metadata": {},
     "output_type": "execute_result"
    }
   ],
   "source": [
    "# Your code here - Code a way to identify multicollinearity\n",
    "from statsmodels.stats.outliers_influence import variance_inflation_factor\n",
    "X = df[x_cols]\n",
    "vif = [variance_inflation_factor(X.values,i) for i in range(X.shape[1])]\n",
    "list(zip(x_cols,vif))"
   ]
  },
  {
   "cell_type": "code",
   "execution_count": 94,
   "metadata": {},
   "outputs": [
    {
     "data": {
      "image/png": "[encoded data removed]",
      "text/plain": [
       "<Figure size 432x288 with 1 Axes>"
      ]
     },
     "metadata": {},
     "output_type": "display_data"
    }
   ],
   "source": [
    "fig = sm.graphics.qqplot(model.resid, dist=stats.norm, line='45', fit=True)\n"
   ]
  },
  {
   "cell_type": "code",
   "execution_count": 95,
   "metadata": {},
   "outputs": [
    {
     "data": {
      "text/plain": [
       "[<matplotlib.lines.Line2D at 0x1c21b03be0>]"
      ]
     },
     "execution_count": 95,
     "metadata": {},
     "output_type": "execute_result"
    },
    {
     "data": {
      "image/png": "[encoded data removed]",
      "text/plain": [
       "<Figure size 432x288 with 1 Axes>"
      ]
     },
     "metadata": {},
     "output_type": "display_data"
    }
   ],
   "source": [
    "plt.scatter(model.predict(train[x_cols]), model.resid)\n",
    "plt.plot(model.predict(train[x_cols]), [0 for i in range(len(train))])"
   ]
  },
  {
   "cell_type": "code",
   "execution_count": 96,
   "metadata": {},
   "outputs": [
    {
     "name": "stdout",
     "output_type": "stream",
     "text": [
      "0.8 percentile: 632500.0\n",
      "0.81 percentile: 643729.5000000001\n",
      "0.82 percentile: 650583.5999999997\n",
      "0.83 percentile: 665000.0\n",
      "0.84 percentile: 675000.0\n",
      "0.85 percentile: 689175.0000000002\n",
      "0.86 percentile: 700000.0\n",
      "0.87 percentile: 715000.0\n",
      "0.88 percentile: 727000.0\n",
      "0.89 percentile: 742000.0\n",
      "0.9 percentile: 755000.0\n",
      "0.91 percentile: 775000.0\n",
      "0.92 percentile: 790000.0\n",
      "0.93 percentile: 809950.0\n",
      "0.94 percentile: 830000.0\n",
      "0.95 percentile: 850000.0\n",
      "0.96 percentile: 875145.44\n",
      "0.97 percentile: 909993.5\n",
      "0.98 percentile: 950000.0\n",
      "0.99 percentile: 998000.0\n"
     ]
    },
    {
     "data": {
      "text/plain": [
       "<matplotlib.axes._subplots.AxesSubplot at 0x1c2206d2e8>"
      ]
     },
     "execution_count": 96,
     "metadata": {},
     "output_type": "execute_result"
    },
    {
     "data": {
      "image/png": "[encoded data removed]",
      "text/plain": [
       "<Figure size 432x288 with 1 Axes>"
      ]
     },
     "metadata": {},
     "output_type": "display_data"
    }
   ],
   "source": [
    "for i in range(80,100):\n",
    "    q = i/100\n",
    "    print(\"{} percentile: {}\".format(q, df.price.quantile(q=q)))\n",
    "\n",
    "df.price.hist()"
   ]
  },
  {
   "cell_type": "code",
   "execution_count": 97,
   "metadata": {},
   "outputs": [],
   "source": [
    "df = df[df.price <= 9250000]\n",
    "train, test = train_test_split(df)"
   ]
  },
  {
   "cell_type": "code",
   "execution_count": 98,
   "metadata": {},
   "outputs": [
    {
     "data": {
      "text/html": [
       "<table class=\"simpletable\">\n",
       "<caption>OLS Regression Results</caption>\n",
       "<tr>\n",
       "  <th>Dep. Variable:</th>          <td>price</td>      <th>  R-squared (uncentered):</th>       <td>   0.955</td>  \n",
       "</tr>\n",
       "<tr>\n",
       "  <th>Model:</th>                   <td>OLS</td>       <th>  Adj. R-squared (uncentered):</th>  <td>   0.955</td>  \n",
       "</tr>\n",
       "<tr>\n",
       "  <th>Method:</th>             <td>Least Squares</td>  <th>  F-statistic:       </th>           <td>3.343e+04</td> \n",
       "</tr>\n",
       "<tr>\n",
       "  <th>Date:</th>             <td>Wed, 03 Jun 2020</td> <th>  Prob (F-statistic):</th>            <td>  0.00</td>   \n",
       "</tr>\n",
       "<tr>\n",
       "  <th>Time:</th>                 <td>19:00:08</td>     <th>  Log-Likelihood:    </th>          <td>-1.6356e+05</td>\n",
       "</tr>\n",
       "<tr>\n",
       "  <th>No. Observations:</th>      <td> 12579</td>      <th>  AIC:               </th>           <td>3.271e+05</td> \n",
       "</tr>\n",
       "<tr>\n",
       "  <th>Df Residuals:</th>          <td> 12571</td>      <th>  BIC:               </th>           <td>3.272e+05</td> \n",
       "</tr>\n",
       "<tr>\n",
       "  <th>Df Model:</th>              <td>     8</td>      <th>                     </th>               <td> </td>     \n",
       "</tr>\n",
       "<tr>\n",
       "  <th>Covariance Type:</th>      <td>nonrobust</td>    <th>                     </th>               <td> </td>     \n",
       "</tr>\n",
       "</table>\n",
       "<table class=\"simpletable\">\n",
       "<tr>\n",
       "            <td></td>              <th>coef</th>     <th>std err</th>      <th>t</th>      <th>P>|t|</th>  <th>[0.025</th>    <th>0.975]</th>  \n",
       "</tr>\n",
       "<tr>\n",
       "  <th>bedrooms</th>             <td>-1.188e+04</td> <td> 1239.210</td> <td>   -9.590</td> <td> 0.000</td> <td>-1.43e+04</td> <td>-9455.228</td>\n",
       "</tr>\n",
       "<tr>\n",
       "  <th>bathrooms</th>            <td> 1.781e+04</td> <td> 1606.042</td> <td>   11.090</td> <td> 0.000</td> <td> 1.47e+04</td> <td>  2.1e+04</td>\n",
       "</tr>\n",
       "<tr>\n",
       "  <th>sqft_living</th>          <td> 9.026e+04</td> <td> 1592.544</td> <td>   56.674</td> <td> 0.000</td> <td> 8.71e+04</td> <td> 9.34e+04</td>\n",
       "</tr>\n",
       "<tr>\n",
       "  <th>sqft_lot</th>             <td> 1.241e+04</td> <td> 1030.896</td> <td>   12.038</td> <td> 0.000</td> <td> 1.04e+04</td> <td> 1.44e+04</td>\n",
       "</tr>\n",
       "<tr>\n",
       "  <th>distance_from_a_city</th> <td>-9.555e+04</td> <td> 1052.217</td> <td>  -90.808</td> <td> 0.000</td> <td>-9.76e+04</td> <td>-9.35e+04</td>\n",
       "</tr>\n",
       "<tr>\n",
       "  <th>Age_of_House</th>         <td> 3.327e+04</td> <td> 1297.213</td> <td>   25.646</td> <td> 0.000</td> <td> 3.07e+04</td> <td> 3.58e+04</td>\n",
       "</tr>\n",
       "<tr>\n",
       "  <th>basement</th>             <td>-2.206e+04</td> <td> 2087.366</td> <td>  -10.567</td> <td> 0.000</td> <td>-2.61e+04</td> <td> -1.8e+04</td>\n",
       "</tr>\n",
       "<tr>\n",
       "  <th>grade</th>                <td> 6.426e+04</td> <td>  162.588</td> <td>  395.251</td> <td> 0.000</td> <td> 6.39e+04</td> <td> 6.46e+04</td>\n",
       "</tr>\n",
       "</table>\n",
       "<table class=\"simpletable\">\n",
       "<tr>\n",
       "  <th>Omnibus:</th>       <td>497.814</td> <th>  Durbin-Watson:     </th> <td>   1.973</td> \n",
       "</tr>\n",
       "<tr>\n",
       "  <th>Prob(Omnibus):</th> <td> 0.000</td>  <th>  Jarque-Bera (JB):  </th> <td> 829.167</td> \n",
       "</tr>\n",
       "<tr>\n",
       "  <th>Skew:</th>          <td> 0.344</td>  <th>  Prob(JB):          </th> <td>8.88e-181</td>\n",
       "</tr>\n",
       "<tr>\n",
       "  <th>Kurtosis:</th>      <td> 4.053</td>  <th>  Cond. No.          </th> <td>    17.3</td> \n",
       "</tr>\n",
       "</table><br/><br/>Warnings:<br/>[1] Standard Errors assume that the covariance matrix of the errors is correctly specified."
      ],
      "text/plain": [
       "<class 'statsmodels.iolib.summary.Summary'>\n",
       "\"\"\"\n",
       "                                 OLS Regression Results                                \n",
       "=======================================================================================\n",
       "Dep. Variable:                  price   R-squared (uncentered):                   0.955\n",
       "Model:                            OLS   Adj. R-squared (uncentered):              0.955\n",
       "Method:                 Least Squares   F-statistic:                          3.343e+04\n",
       "Date:                Wed, 03 Jun 2020   Prob (F-statistic):                        0.00\n",
       "Time:                        19:00:08   Log-Likelihood:                     -1.6356e+05\n",
       "No. Observations:               12579   AIC:                                  3.271e+05\n",
       "Df Residuals:                   12571   BIC:                                  3.272e+05\n",
       "Df Model:                           8                                                  \n",
       "Covariance Type:            nonrobust                                                  \n",
       "========================================================================================\n",
       "                           coef    std err          t      P>|t|      [0.025      0.975]\n",
       "----------------------------------------------------------------------------------------\n",
       "bedrooms             -1.188e+04   1239.210     -9.590      0.000   -1.43e+04   -9455.228\n",
       "bathrooms             1.781e+04   1606.042     11.090      0.000    1.47e+04     2.1e+04\n",
       "sqft_living           9.026e+04   1592.544     56.674      0.000    8.71e+04    9.34e+04\n",
       "sqft_lot              1.241e+04   1030.896     12.038      0.000    1.04e+04    1.44e+04\n",
       "distance_from_a_city -9.555e+04   1052.217    -90.808      0.000   -9.76e+04   -9.35e+04\n",
       "Age_of_House          3.327e+04   1297.213     25.646      0.000    3.07e+04    3.58e+04\n",
       "basement             -2.206e+04   2087.366    -10.567      0.000   -2.61e+04    -1.8e+04\n",
       "grade                 6.426e+04    162.588    395.251      0.000    6.39e+04    6.46e+04\n",
       "==============================================================================\n",
       "Omnibus:                      497.814   Durbin-Watson:                   1.973\n",
       "Prob(Omnibus):                  0.000   Jarque-Bera (JB):              829.167\n",
       "Skew:                           0.344   Prob(JB):                    8.88e-181\n",
       "Kurtosis:                       4.053   Cond. No.                         17.3\n",
       "==============================================================================\n",
       "\n",
       "Warnings:\n",
       "[1] Standard Errors assume that the covariance matrix of the errors is correctly specified.\n",
       "\"\"\""
      ]
     },
     "execution_count": 98,
     "metadata": {},
     "output_type": "execute_result"
    }
   ],
   "source": [
    "X = train[x_cols]\n",
    "y= train['price']\n",
    "model = sm.OLS(y,X).fit()\n",
    "model.summary()"
   ]
  },
  {
   "cell_type": "code",
   "execution_count": 99,
   "metadata": {},
   "outputs": [
    {
     "data": {
      "image/png": "[encoded data removed]",
      "text/plain": [
       "<Figure size 432x288 with 1 Axes>"
      ]
     },
     "metadata": {},
     "output_type": "display_data"
    }
   ],
   "source": [
    "fig = sm.graphics.qqplot(model.resid, dist=stats.norm, line='45', fit=True)\n"
   ]
  },
  {
   "cell_type": "code",
   "execution_count": 100,
   "metadata": {},
   "outputs": [
    {
     "data": {
      "text/plain": [
       "[<matplotlib.lines.Line2D at 0x1c2206b518>]"
      ]
     },
     "execution_count": 100,
     "metadata": {},
     "output_type": "execute_result"
    },
    {
     "data": {
      "image/png": "[encoded data removed]",
      "text/plain": [
       "<Figure size 432x288 with 1 Axes>"
      ]
     },
     "metadata": {},
     "output_type": "display_data"
    }
   ],
   "source": [
    "plt.scatter(model.predict(train[x_cols]), model.resid)\n",
    "plt.plot(model.predict(train[x_cols]), [0 for i in range(len(train))])"
   ]
  },
  {
   "cell_type": "code",
   "execution_count": 101,
   "metadata": {},
   "outputs": [],
   "source": [
    "def plot_residuals(resids):\n",
    "    plt.hist(resids)\n",
    "    plt.title(\"Residuals\")\n",
    "    plt.show()\n",
    "    \n",
    "    xspace = np.linspace(0, 1, len(resids))\n",
    "    plt.scatter(xspace, resids)\n",
    "    plt.title(\"resids\")\n",
    "    plt.hlines(0, xmin=0, xmax=1)\n",
    "    plt.show()"
   ]
  },
  {
   "cell_type": "code",
   "execution_count": 102,
   "metadata": {},
   "outputs": [],
   "source": [
    "residuals = model.resid"
   ]
  },
  {
   "cell_type": "code",
   "execution_count": 103,
   "metadata": {},
   "outputs": [
    {
     "data": {
      "image/png": "[encoded data removed]",
      "text/plain": [
       "<Figure size 432x288 with 1 Axes>"
      ]
     },
     "metadata": {},
     "output_type": "display_data"
    },
    {
     "data": {
      "image/png": "[encoded data removed]",
      "text/plain": [
       "<Figure size 432x288 with 1 Axes>"
      ]
     },
     "metadata": {},
     "output_type": "display_data"
    }
   ],
   "source": [
    "plot_residuals(residuals)"
   ]
  },
  {
   "cell_type": "code",
   "execution_count": 104,
   "metadata": {},
   "outputs": [],
   "source": [
    "from sklearn.utils import shuffle\n",
    "from sklearn.linear_model import LinearRegression\n",
    "from sklearn.model_selection import train_test_split, cross_val_score\n",
    "from sklearn.preprocessing import StandardScaler\n",
    "from sklearn.feature_selection import RFE\n",
    "\n",
    "from sklearn.metrics import r2_score"
   ]
  },
  {
   "cell_type": "code",
   "execution_count": 105,
   "metadata": {},
   "outputs": [],
   "source": [
    "ols = LinearRegression(fit_intercept=False, normalize=False, n_jobs=-1)"
   ]
  },
  {
   "cell_type": "code",
   "execution_count": 106,
   "metadata": {},
   "outputs": [],
   "source": [
    "X_train = train[x_cols]\n",
    "X_test = test[x_cols]"
   ]
  },
  {
   "cell_type": "code",
   "execution_count": 107,
   "metadata": {},
   "outputs": [],
   "source": [
    "y_train = train['price']\n",
    "y_test = test['price']"
   ]
  },
  {
   "cell_type": "code",
   "execution_count": 108,
   "metadata": {},
   "outputs": [
    {
     "data": {
      "text/plain": [
       "LinearRegression(copy_X=True, fit_intercept=False, n_jobs=-1, normalize=False)"
      ]
     },
     "execution_count": 108,
     "metadata": {},
     "output_type": "execute_result"
    }
   ],
   "source": [
    "ols.fit(train[x_cols], train['price'])"
   ]
  },
  {
   "cell_type": "code",
   "execution_count": 109,
   "metadata": {},
   "outputs": [
    {
     "data": {
      "text/plain": [
       "array([-11884.26783643,  17811.4576098 ,  90256.42715709,  12410.23548672,\n",
       "       -95549.43394121,  33268.4137076 , -22056.36658827,  64263.20329417])"
      ]
     },
     "execution_count": 109,
     "metadata": {},
     "output_type": "execute_result"
    }
   ],
   "source": [
    "ols.coef_"
   ]
  },
  {
   "cell_type": "code",
   "execution_count": 110,
   "metadata": {},
   "outputs": [
    {
     "data": {
      "text/plain": [
       "0.0"
      ]
     },
     "execution_count": 110,
     "metadata": {},
     "output_type": "execute_result"
    }
   ],
   "source": [
    "ols.intercept_"
   ]
  },
  {
   "cell_type": "code",
   "execution_count": 111,
   "metadata": {},
   "outputs": [
    {
     "data": {
      "text/plain": [
       "array([353858.73071571, 332484.52292067, 381220.63580834, ...,\n",
       "       227169.09471859, 372202.88125929, 457163.59851682])"
      ]
     },
     "execution_count": 111,
     "metadata": {},
     "output_type": "execute_result"
    }
   ],
   "source": [
    "y_train_preds = ols.predict(train[x_cols])\n",
    "y_train_preds"
   ]
  },
  {
   "cell_type": "code",
   "execution_count": 112,
   "metadata": {},
   "outputs": [
    {
     "data": {
      "text/plain": [
       "0.7068714530970472"
      ]
     },
     "execution_count": 112,
     "metadata": {},
     "output_type": "execute_result"
    }
   ],
   "source": [
    "r2_score(train['price'], y_train_preds)"
   ]
  },
  {
   "cell_type": "code",
   "execution_count": 113,
   "metadata": {},
   "outputs": [
    {
     "data": {
      "text/plain": [
       "0.7068714530970472"
      ]
     },
     "execution_count": 113,
     "metadata": {},
     "output_type": "execute_result"
    }
   ],
   "source": [
    "# r2 \n",
    "training_score = ols.score(X_train, y_train)\n",
    "# ols.score is calculating the y_train_preds and then using those to get the r2 score\n",
    "training_score"
   ]
  },
  {
   "cell_type": "code",
   "execution_count": 114,
   "metadata": {},
   "outputs": [
    {
     "data": {
      "text/plain": [
       "0.7081636966943974"
      ]
     },
     "execution_count": 114,
     "metadata": {},
     "output_type": "execute_result"
    }
   ],
   "source": [
    "testing_score = ols.score(X_test, y_test)\n",
    "testing_score"
   ]
  },
  {
   "cell_type": "code",
   "execution_count": 115,
   "metadata": {},
   "outputs": [
    {
     "data": {
      "text/plain": [
       "(0.7059841087595337, 0.7059210017777092, 0.7059210017777092)"
      ]
     },
     "execution_count": 115,
     "metadata": {},
     "output_type": "execute_result"
    }
   ],
   "source": [
    "cv5_scores = np.mean(cross_val_score(ols, X, y, scoring='r2', cv=5, n_jobs=-1) )\n",
    "cv10_scores = np.mean(cross_val_score(ols, X, y, scoring='r2', cv=10, n_jobs=-1) )\n",
    "cv20_scores = np.mean(cross_val_score(ols, X, y, scoring='r2', cv=20, n_jobs=-1) )\n",
    "\n",
    "# cv breaks your data into that many equal pieces \n",
    "cv5_scores,cv10_scores,cv10_scores"
   ]
  },
  {
   "cell_type": "code",
   "execution_count": null,
   "metadata": {},
   "outputs": [],
   "source": [
    "cv5_scores = np.mean(cross_val_score(ols, X, y, scoring='neg_mean', cv=5, n_jobs=-1) )\n",
    "cv10_scores = np.mean(cross_val_score(ols, X, y, scoring='r2', cv=10, n_jobs=-1) )\n",
    "cv20_scores = np.mean(cross_val_score(ols, X, y, scoring='r2', cv=20, n_jobs=-1) )\n",
    "\n",
    "# cv breaks your data into that many equal pieces \n",
    "cv5_scores,cv10_scores,cv10_scores"
   ]
  },
  {
   "cell_type": "code",
   "execution_count": null,
   "metadata": {},
   "outputs": [],
   "source": []
  },
  {
   "cell_type": "code",
   "execution_count": null,
   "metadata": {},
   "outputs": [],
   "source": []
  }
 ],
 "metadata": {
  "kernelspec": {
   "display_name": "Python [conda env:learn-env] *",
   "language": "python",
   "name": "conda-env-learn-env-py"
  },
  "language_info": {
   "codemirror_mode": {
    "name": "ipython",
    "version": 3
   },
   "file_extension": ".py",
   "mimetype": "text/x-python",
   "name": "python",
   "nbconvert_exporter": "python",
   "pygments_lexer": "ipython3",
   "version": "3.6.9"
  }
 },
 "nbformat": 4,
 "nbformat_minor": 2
}
