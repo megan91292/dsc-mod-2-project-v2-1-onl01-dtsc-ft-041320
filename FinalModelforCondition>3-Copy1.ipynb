{
 "cells": [
  {
   "cell_type": "code",
   "execution_count": 42,
   "metadata": {},
   "outputs": [],
   "source": [
    "import pandas as pd\n",
    "import matplotlib.pyplot as plt\n",
    "import numpy as np\n",
    "import seaborn as sns\n",
    "sns.set_style('darkgrid')\n",
    "\n",
    "from statsmodels.formula.api import ols\n",
    "from statsmodels.stats.outliers_influence import variance_inflation_factor\n",
    "import statsmodels.api as sm\n",
    "import scipy.stats as scs\n",
    "from sklearn.model_selection import train_test_split\n",
    "from sklearn.preprocessing import PowerTransformer"
   ]
  },
  {
   "cell_type": "code",
   "execution_count": 43,
   "metadata": {},
   "outputs": [],
   "source": [
    "df = pd.read_csv('data_correlation_gone.csv',index_col = 0)"
   ]
  },
  {
   "cell_type": "code",
   "execution_count": 44,
   "metadata": {},
   "outputs": [],
   "source": [
    "check_col = ['price', 'bedrooms', 'bathrooms', 'sqft_living', 'sqft_lot','distance_from_a_city']"
   ]
  },
  {
   "cell_type": "code",
   "execution_count": 45,
   "metadata": {},
   "outputs": [
    {
     "data": {
      "text/plain": [
       "541639.8338275844"
      ]
     },
     "execution_count": 45,
     "metadata": {},
     "output_type": "execute_result"
    }
   ],
   "source": [
    "df['price'].mean()"
   ]
  },
  {
   "cell_type": "code",
   "execution_count": 46,
   "metadata": {},
   "outputs": [
    {
     "data": {
      "text/html": [
       "<div>\n",
       "<style scoped>\n",
       "    .dataframe tbody tr th:only-of-type {\n",
       "        vertical-align: middle;\n",
       "    }\n",
       "\n",
       "    .dataframe tbody tr th {\n",
       "        vertical-align: top;\n",
       "    }\n",
       "\n",
       "    .dataframe thead th {\n",
       "        text-align: right;\n",
       "    }\n",
       "</style>\n",
       "<table border=\"1\" class=\"dataframe\">\n",
       "  <thead>\n",
       "    <tr style=\"text-align: right;\">\n",
       "      <th></th>\n",
       "      <th>date</th>\n",
       "      <th>price</th>\n",
       "      <th>bedrooms</th>\n",
       "      <th>bathrooms</th>\n",
       "      <th>sqft_living</th>\n",
       "      <th>sqft_lot</th>\n",
       "      <th>floors</th>\n",
       "      <th>waterfront</th>\n",
       "      <th>view</th>\n",
       "      <th>condition</th>\n",
       "      <th>grade</th>\n",
       "      <th>zipcode</th>\n",
       "      <th>Age_of_House</th>\n",
       "      <th>Years_last_renovation</th>\n",
       "      <th>basement</th>\n",
       "      <th>biggerliving</th>\n",
       "      <th>biggerlot</th>\n",
       "      <th>distance_from_a_city</th>\n",
       "      <th>distance_from_airport</th>\n",
       "    </tr>\n",
       "  </thead>\n",
       "  <tbody>\n",
       "    <tr>\n",
       "      <td>1904</td>\n",
       "      <td>2014-05-08</td>\n",
       "      <td>82500.0</td>\n",
       "      <td>2</td>\n",
       "      <td>1.00</td>\n",
       "      <td>520</td>\n",
       "      <td>22334</td>\n",
       "      <td>1.0</td>\n",
       "      <td>0.0</td>\n",
       "      <td>0.0</td>\n",
       "      <td>2</td>\n",
       "      <td>5</td>\n",
       "      <td>98168</td>\n",
       "      <td>69</td>\n",
       "      <td>69</td>\n",
       "      <td>0</td>\n",
       "      <td>0</td>\n",
       "      <td>1</td>\n",
       "      <td>14.536568</td>\n",
       "      <td>4.062153</td>\n",
       "    </tr>\n",
       "    <tr>\n",
       "      <td>2743</td>\n",
       "      <td>2015-02-19</td>\n",
       "      <td>89950.0</td>\n",
       "      <td>1</td>\n",
       "      <td>1.00</td>\n",
       "      <td>570</td>\n",
       "      <td>4080</td>\n",
       "      <td>1.0</td>\n",
       "      <td>0.0</td>\n",
       "      <td>0.0</td>\n",
       "      <td>3</td>\n",
       "      <td>5</td>\n",
       "      <td>98146</td>\n",
       "      <td>78</td>\n",
       "      <td>78</td>\n",
       "      <td>0</td>\n",
       "      <td>0</td>\n",
       "      <td>0</td>\n",
       "      <td>10.914282</td>\n",
       "      <td>7.752844</td>\n",
       "    </tr>\n",
       "    <tr>\n",
       "      <td>2932</td>\n",
       "      <td>2014-12-12</td>\n",
       "      <td>95000.0</td>\n",
       "      <td>2</td>\n",
       "      <td>1.00</td>\n",
       "      <td>800</td>\n",
       "      <td>8550</td>\n",
       "      <td>1.0</td>\n",
       "      <td>0.0</td>\n",
       "      <td>0.0</td>\n",
       "      <td>3</td>\n",
       "      <td>7</td>\n",
       "      <td>98198</td>\n",
       "      <td>73</td>\n",
       "      <td>73</td>\n",
       "      <td>0</td>\n",
       "      <td>0</td>\n",
       "      <td>0</td>\n",
       "      <td>22.495286</td>\n",
       "      <td>4.046791</td>\n",
       "    </tr>\n",
       "    <tr>\n",
       "      <td>3320</td>\n",
       "      <td>2015-04-30</td>\n",
       "      <td>84000.0</td>\n",
       "      <td>2</td>\n",
       "      <td>1.00</td>\n",
       "      <td>700</td>\n",
       "      <td>20130</td>\n",
       "      <td>1.0</td>\n",
       "      <td>0.0</td>\n",
       "      <td>0.0</td>\n",
       "      <td>3</td>\n",
       "      <td>6</td>\n",
       "      <td>98168</td>\n",
       "      <td>71</td>\n",
       "      <td>71</td>\n",
       "      <td>0</td>\n",
       "      <td>0</td>\n",
       "      <td>1</td>\n",
       "      <td>15.523977</td>\n",
       "      <td>4.204679</td>\n",
       "    </tr>\n",
       "    <tr>\n",
       "      <td>3355</td>\n",
       "      <td>2015-05-05</td>\n",
       "      <td>95000.0</td>\n",
       "      <td>1</td>\n",
       "      <td>0.75</td>\n",
       "      <td>760</td>\n",
       "      <td>5746</td>\n",
       "      <td>1.0</td>\n",
       "      <td>0.0</td>\n",
       "      <td>0.0</td>\n",
       "      <td>4</td>\n",
       "      <td>5</td>\n",
       "      <td>98002</td>\n",
       "      <td>105</td>\n",
       "      <td>105</td>\n",
       "      <td>0</td>\n",
       "      <td>0</td>\n",
       "      <td>0</td>\n",
       "      <td>33.996655</td>\n",
       "      <td>16.761137</td>\n",
       "    </tr>\n",
       "    <tr>\n",
       "      <td>5186</td>\n",
       "      <td>2014-10-14</td>\n",
       "      <td>89000.0</td>\n",
       "      <td>3</td>\n",
       "      <td>1.00</td>\n",
       "      <td>900</td>\n",
       "      <td>4750</td>\n",
       "      <td>1.0</td>\n",
       "      <td>0.0</td>\n",
       "      <td>0.0</td>\n",
       "      <td>4</td>\n",
       "      <td>6</td>\n",
       "      <td>98023</td>\n",
       "      <td>51</td>\n",
       "      <td>51</td>\n",
       "      <td>0</td>\n",
       "      <td>0</td>\n",
       "      <td>1</td>\n",
       "      <td>34.003427</td>\n",
       "      <td>16.328762</td>\n",
       "    </tr>\n",
       "    <tr>\n",
       "      <td>7060</td>\n",
       "      <td>2015-03-03</td>\n",
       "      <td>90000.0</td>\n",
       "      <td>1</td>\n",
       "      <td>1.00</td>\n",
       "      <td>780</td>\n",
       "      <td>4000</td>\n",
       "      <td>1.0</td>\n",
       "      <td>0.0</td>\n",
       "      <td>0.0</td>\n",
       "      <td>3</td>\n",
       "      <td>5</td>\n",
       "      <td>98108</td>\n",
       "      <td>115</td>\n",
       "      <td>115</td>\n",
       "      <td>0</td>\n",
       "      <td>0</td>\n",
       "      <td>0</td>\n",
       "      <td>7.368198</td>\n",
       "      <td>11.080737</td>\n",
       "    </tr>\n",
       "    <tr>\n",
       "      <td>7313</td>\n",
       "      <td>2014-11-05</td>\n",
       "      <td>82000.0</td>\n",
       "      <td>3</td>\n",
       "      <td>1.00</td>\n",
       "      <td>860</td>\n",
       "      <td>10426</td>\n",
       "      <td>1.0</td>\n",
       "      <td>0.0</td>\n",
       "      <td>0.0</td>\n",
       "      <td>3</td>\n",
       "      <td>6</td>\n",
       "      <td>98146</td>\n",
       "      <td>66</td>\n",
       "      <td>66</td>\n",
       "      <td>0</td>\n",
       "      <td>0</td>\n",
       "      <td>0</td>\n",
       "      <td>12.155294</td>\n",
       "      <td>6.804226</td>\n",
       "    </tr>\n",
       "    <tr>\n",
       "      <td>9076</td>\n",
       "      <td>2014-09-15</td>\n",
       "      <td>85000.0</td>\n",
       "      <td>2</td>\n",
       "      <td>1.00</td>\n",
       "      <td>830</td>\n",
       "      <td>9000</td>\n",
       "      <td>1.0</td>\n",
       "      <td>0.0</td>\n",
       "      <td>0.0</td>\n",
       "      <td>3</td>\n",
       "      <td>6</td>\n",
       "      <td>98032</td>\n",
       "      <td>81</td>\n",
       "      <td>81</td>\n",
       "      <td>0</td>\n",
       "      <td>0</td>\n",
       "      <td>1</td>\n",
       "      <td>25.653890</td>\n",
       "      <td>8.203937</td>\n",
       "    </tr>\n",
       "    <tr>\n",
       "      <td>9378</td>\n",
       "      <td>2014-09-19</td>\n",
       "      <td>95000.0</td>\n",
       "      <td>2</td>\n",
       "      <td>1.00</td>\n",
       "      <td>1070</td>\n",
       "      <td>20450</td>\n",
       "      <td>1.0</td>\n",
       "      <td>0.0</td>\n",
       "      <td>0.0</td>\n",
       "      <td>2</td>\n",
       "      <td>6</td>\n",
       "      <td>98058</td>\n",
       "      <td>72</td>\n",
       "      <td>72</td>\n",
       "      <td>0</td>\n",
       "      <td>0</td>\n",
       "      <td>1</td>\n",
       "      <td>19.667034</td>\n",
       "      <td>8.984245</td>\n",
       "    </tr>\n",
       "    <tr>\n",
       "      <td>12234</td>\n",
       "      <td>2014-07-22</td>\n",
       "      <td>86500.0</td>\n",
       "      <td>3</td>\n",
       "      <td>1.00</td>\n",
       "      <td>840</td>\n",
       "      <td>9480</td>\n",
       "      <td>1.0</td>\n",
       "      <td>0.0</td>\n",
       "      <td>0.0</td>\n",
       "      <td>3</td>\n",
       "      <td>6</td>\n",
       "      <td>98023</td>\n",
       "      <td>60</td>\n",
       "      <td>60</td>\n",
       "      <td>0</td>\n",
       "      <td>0</td>\n",
       "      <td>1</td>\n",
       "      <td>31.152896</td>\n",
       "      <td>13.209305</td>\n",
       "    </tr>\n",
       "    <tr>\n",
       "      <td>12979</td>\n",
       "      <td>2015-04-08</td>\n",
       "      <td>95000.0</td>\n",
       "      <td>2</td>\n",
       "      <td>1.00</td>\n",
       "      <td>960</td>\n",
       "      <td>7000</td>\n",
       "      <td>1.0</td>\n",
       "      <td>0.0</td>\n",
       "      <td>0.0</td>\n",
       "      <td>3</td>\n",
       "      <td>4</td>\n",
       "      <td>98198</td>\n",
       "      <td>102</td>\n",
       "      <td>102</td>\n",
       "      <td>0</td>\n",
       "      <td>0</td>\n",
       "      <td>0</td>\n",
       "      <td>24.717401</td>\n",
       "      <td>6.363043</td>\n",
       "    </tr>\n",
       "    <tr>\n",
       "      <td>13612</td>\n",
       "      <td>2014-05-06</td>\n",
       "      <td>78000.0</td>\n",
       "      <td>2</td>\n",
       "      <td>1.00</td>\n",
       "      <td>780</td>\n",
       "      <td>16344</td>\n",
       "      <td>1.0</td>\n",
       "      <td>0.0</td>\n",
       "      <td>0.0</td>\n",
       "      <td>1</td>\n",
       "      <td>5</td>\n",
       "      <td>98168</td>\n",
       "      <td>78</td>\n",
       "      <td>78</td>\n",
       "      <td>0</td>\n",
       "      <td>0</td>\n",
       "      <td>1</td>\n",
       "      <td>15.467243</td>\n",
       "      <td>3.745123</td>\n",
       "    </tr>\n",
       "    <tr>\n",
       "      <td>14699</td>\n",
       "      <td>2015-04-18</td>\n",
       "      <td>90000.0</td>\n",
       "      <td>1</td>\n",
       "      <td>1.00</td>\n",
       "      <td>560</td>\n",
       "      <td>4120</td>\n",
       "      <td>1.0</td>\n",
       "      <td>0.0</td>\n",
       "      <td>0.0</td>\n",
       "      <td>3</td>\n",
       "      <td>4</td>\n",
       "      <td>98106</td>\n",
       "      <td>73</td>\n",
       "      <td>73</td>\n",
       "      <td>0</td>\n",
       "      <td>0</td>\n",
       "      <td>0</td>\n",
       "      <td>8.335977</td>\n",
       "      <td>10.584520</td>\n",
       "    </tr>\n",
       "    <tr>\n",
       "      <td>14866</td>\n",
       "      <td>2015-03-05</td>\n",
       "      <td>85000.0</td>\n",
       "      <td>2</td>\n",
       "      <td>1.00</td>\n",
       "      <td>910</td>\n",
       "      <td>9753</td>\n",
       "      <td>1.0</td>\n",
       "      <td>0.0</td>\n",
       "      <td>0.0</td>\n",
       "      <td>3</td>\n",
       "      <td>5</td>\n",
       "      <td>98032</td>\n",
       "      <td>73</td>\n",
       "      <td>73</td>\n",
       "      <td>0</td>\n",
       "      <td>0</td>\n",
       "      <td>1</td>\n",
       "      <td>24.665844</td>\n",
       "      <td>7.757556</td>\n",
       "    </tr>\n",
       "    <tr>\n",
       "      <td>15645</td>\n",
       "      <td>2014-05-23</td>\n",
       "      <td>90000.0</td>\n",
       "      <td>2</td>\n",
       "      <td>1.00</td>\n",
       "      <td>580</td>\n",
       "      <td>7500</td>\n",
       "      <td>1.0</td>\n",
       "      <td>0.0</td>\n",
       "      <td>0.0</td>\n",
       "      <td>3</td>\n",
       "      <td>5</td>\n",
       "      <td>98178</td>\n",
       "      <td>77</td>\n",
       "      <td>77</td>\n",
       "      <td>0</td>\n",
       "      <td>0</td>\n",
       "      <td>0</td>\n",
       "      <td>14.413453</td>\n",
       "      <td>5.992495</td>\n",
       "    </tr>\n",
       "    <tr>\n",
       "      <td>16431</td>\n",
       "      <td>2014-05-29</td>\n",
       "      <td>83000.0</td>\n",
       "      <td>2</td>\n",
       "      <td>1.00</td>\n",
       "      <td>900</td>\n",
       "      <td>8580</td>\n",
       "      <td>1.0</td>\n",
       "      <td>0.0</td>\n",
       "      <td>0.0</td>\n",
       "      <td>3</td>\n",
       "      <td>5</td>\n",
       "      <td>98168</td>\n",
       "      <td>102</td>\n",
       "      <td>102</td>\n",
       "      <td>0</td>\n",
       "      <td>0</td>\n",
       "      <td>1</td>\n",
       "      <td>15.811401</td>\n",
       "      <td>4.019219</td>\n",
       "    </tr>\n",
       "    <tr>\n",
       "      <td>16853</td>\n",
       "      <td>2014-11-29</td>\n",
       "      <td>90000.0</td>\n",
       "      <td>3</td>\n",
       "      <td>1.00</td>\n",
       "      <td>980</td>\n",
       "      <td>2490</td>\n",
       "      <td>2.0</td>\n",
       "      <td>0.0</td>\n",
       "      <td>0.0</td>\n",
       "      <td>4</td>\n",
       "      <td>6</td>\n",
       "      <td>98092</td>\n",
       "      <td>51</td>\n",
       "      <td>51</td>\n",
       "      <td>0</td>\n",
       "      <td>0</td>\n",
       "      <td>0</td>\n",
       "      <td>32.631841</td>\n",
       "      <td>16.697955</td>\n",
       "    </tr>\n",
       "  </tbody>\n",
       "</table>\n",
       "</div>"
      ],
      "text/plain": [
       "             date    price  bedrooms  bathrooms  sqft_living  sqft_lot  \\\n",
       "1904   2014-05-08  82500.0         2       1.00          520     22334   \n",
       "2743   2015-02-19  89950.0         1       1.00          570      4080   \n",
       "2932   2014-12-12  95000.0         2       1.00          800      8550   \n",
       "3320   2015-04-30  84000.0         2       1.00          700     20130   \n",
       "3355   2015-05-05  95000.0         1       0.75          760      5746   \n",
       "5186   2014-10-14  89000.0         3       1.00          900      4750   \n",
       "7060   2015-03-03  90000.0         1       1.00          780      4000   \n",
       "7313   2014-11-05  82000.0         3       1.00          860     10426   \n",
       "9076   2014-09-15  85000.0         2       1.00          830      9000   \n",
       "9378   2014-09-19  95000.0         2       1.00         1070     20450   \n",
       "12234  2014-07-22  86500.0         3       1.00          840      9480   \n",
       "12979  2015-04-08  95000.0         2       1.00          960      7000   \n",
       "13612  2014-05-06  78000.0         2       1.00          780     16344   \n",
       "14699  2015-04-18  90000.0         1       1.00          560      4120   \n",
       "14866  2015-03-05  85000.0         2       1.00          910      9753   \n",
       "15645  2014-05-23  90000.0         2       1.00          580      7500   \n",
       "16431  2014-05-29  83000.0         2       1.00          900      8580   \n",
       "16853  2014-11-29  90000.0         3       1.00          980      2490   \n",
       "\n",
       "       floors  waterfront  view  condition  grade  zipcode  Age_of_House  \\\n",
       "1904      1.0         0.0   0.0          2      5    98168            69   \n",
       "2743      1.0         0.0   0.0          3      5    98146            78   \n",
       "2932      1.0         0.0   0.0          3      7    98198            73   \n",
       "3320      1.0         0.0   0.0          3      6    98168            71   \n",
       "3355      1.0         0.0   0.0          4      5    98002           105   \n",
       "5186      1.0         0.0   0.0          4      6    98023            51   \n",
       "7060      1.0         0.0   0.0          3      5    98108           115   \n",
       "7313      1.0         0.0   0.0          3      6    98146            66   \n",
       "9076      1.0         0.0   0.0          3      6    98032            81   \n",
       "9378      1.0         0.0   0.0          2      6    98058            72   \n",
       "12234     1.0         0.0   0.0          3      6    98023            60   \n",
       "12979     1.0         0.0   0.0          3      4    98198           102   \n",
       "13612     1.0         0.0   0.0          1      5    98168            78   \n",
       "14699     1.0         0.0   0.0          3      4    98106            73   \n",
       "14866     1.0         0.0   0.0          3      5    98032            73   \n",
       "15645     1.0         0.0   0.0          3      5    98178            77   \n",
       "16431     1.0         0.0   0.0          3      5    98168           102   \n",
       "16853     2.0         0.0   0.0          4      6    98092            51   \n",
       "\n",
       "       Years_last_renovation  basement  biggerliving  biggerlot  \\\n",
       "1904                      69         0             0          1   \n",
       "2743                      78         0             0          0   \n",
       "2932                      73         0             0          0   \n",
       "3320                      71         0             0          1   \n",
       "3355                     105         0             0          0   \n",
       "5186                      51         0             0          1   \n",
       "7060                     115         0             0          0   \n",
       "7313                      66         0             0          0   \n",
       "9076                      81         0             0          1   \n",
       "9378                      72         0             0          1   \n",
       "12234                     60         0             0          1   \n",
       "12979                    102         0             0          0   \n",
       "13612                     78         0             0          1   \n",
       "14699                     73         0             0          0   \n",
       "14866                     73         0             0          1   \n",
       "15645                     77         0             0          0   \n",
       "16431                    102         0             0          1   \n",
       "16853                     51         0             0          0   \n",
       "\n",
       "       distance_from_a_city  distance_from_airport  \n",
       "1904              14.536568               4.062153  \n",
       "2743              10.914282               7.752844  \n",
       "2932              22.495286               4.046791  \n",
       "3320              15.523977               4.204679  \n",
       "3355              33.996655              16.761137  \n",
       "5186              34.003427              16.328762  \n",
       "7060               7.368198              11.080737  \n",
       "7313              12.155294               6.804226  \n",
       "9076              25.653890               8.203937  \n",
       "9378              19.667034               8.984245  \n",
       "12234             31.152896              13.209305  \n",
       "12979             24.717401               6.363043  \n",
       "13612             15.467243               3.745123  \n",
       "14699              8.335977              10.584520  \n",
       "14866             24.665844               7.757556  \n",
       "15645             14.413453               5.992495  \n",
       "16431             15.811401               4.019219  \n",
       "16853             32.631841              16.697955  "
      ]
     },
     "execution_count": 46,
     "metadata": {},
     "output_type": "execute_result"
    }
   ],
   "source": [
    "df.loc[df['price']<100000.0]"
   ]
  },
  {
   "cell_type": "code",
   "execution_count": 47,
   "metadata": {},
   "outputs": [],
   "source": [
    "df = df.loc[(df['price']<800000.0) | (df['price']<100000.0)]"
   ]
  },
  {
   "cell_type": "code",
   "execution_count": 4,
   "metadata": {},
   "outputs": [],
   "source": [
    "def remove_outliers(df, col, threshold = 3):\n",
    "    zscores = scs.zscore(df[col])\n",
    "    indices = np.abs(np.where(zscores > threshold))\n",
    "    return indices[0]\n",
    "check_col = ['price',\n",
    "\n",
    "all_indices = []\n",
    "for col in check_col:\n",
    "    indices = remove_outliers(df, col, threshold = 3)\n",
    "    all_indices.extend(indices)\n",
    "all_indices = np.unique(all_indices)"
   ]
  },
  {
   "cell_type": "code",
   "execution_count": 5,
   "metadata": {},
   "outputs": [],
   "source": [
    "df.reset_index(drop=True,inplace=True)"
   ]
  },
  {
   "cell_type": "code",
   "execution_count": 6,
   "metadata": {},
   "outputs": [],
   "source": [
    "df.drop(all_indices,axis=0,inplace= True)"
   ]
  },
  {
   "cell_type": "code",
   "execution_count": 80,
   "metadata": {},
   "outputs": [],
   "source": [
    "df = df.loc[df['condition']>=3]"
   ]
  },
  {
   "cell_type": "code",
   "execution_count": 104,
   "metadata": {},
   "outputs": [
    {
     "data": {
      "image/png": "[encoded data removed]",
      "text/plain": [
       "<Figure size 432x288 with 1 Axes>"
      ]
     },
     "metadata": {},
     "output_type": "display_data"
    }
   ],
   "source": [
    "sns.violinplot(x='price', y='bathrooms', data=df, orient='h')\n",
    "plt.show()"
   ]
  },
  {
   "cell_type": "code",
   "execution_count": 5,
   "metadata": {},
   "outputs": [],
   "source": [
    "df = df.round({'bathrooms':0})"
   ]
  },
  {
   "cell_type": "code",
   "execution_count": 81,
   "metadata": {},
   "outputs": [],
   "source": [
    "df['cond3'] = df.condition.apply(lambda x: 1 if x ==3 else 0)\n",
    "df['cond4'] = df.condition.apply(lambda x: 1 if x ==4 else 0)\n",
    "df['cond5'] = df.condition.apply(lambda x: 1 if x ==5 else 0)"
   ]
  },
  {
   "cell_type": "code",
   "execution_count": 107,
   "metadata": {},
   "outputs": [
    {
     "data": {
      "text/plain": [
       "<matplotlib.axes._subplots.AxesSubplot at 0x1c1df7b128>"
      ]
     },
     "execution_count": 107,
     "metadata": {},
     "output_type": "execute_result"
    },
    {
     "data": {
      "image/png": "[encoded data removed]",
      "text/plain": [
       "<Figure size 432x288 with 1 Axes>"
      ]
     },
     "metadata": {},
     "output_type": "display_data"
    }
   ],
   "source": [
    "df['price'].hist()"
   ]
  },
  {
   "cell_type": "code",
   "execution_count": 38,
   "metadata": {},
   "outputs": [],
   "source": [
    "features =  ['sqft_living','Age_of_House', 'Years_last_renovation','distance_from_a_city','sqft_lot']"
   ]
  },
  {
   "cell_type": "code",
   "execution_count": 39,
   "metadata": {},
   "outputs": [
    {
     "data": {
      "image/png": "[encoded data removed]",
      "text/plain": [
       "<Figure size 432x288 with 6 Axes>"
      ]
     },
     "metadata": {
      "needs_background": "light"
     },
     "output_type": "display_data"
    }
   ],
   "source": [
    "df[features].hist();"
   ]
  },
  {
   "cell_type": "code",
   "execution_count": 48,
   "metadata": {},
   "outputs": [
    {
     "data": {
      "text/plain": [
       "(16549, 19)"
      ]
     },
     "execution_count": 48,
     "metadata": {},
     "output_type": "execute_result"
    }
   ],
   "source": [
    "df.shape"
   ]
  },
  {
   "cell_type": "code",
   "execution_count": 49,
   "metadata": {},
   "outputs": [],
   "source": [
    "tobox =['sqft_living','Age_of_House', 'Years_last_renovation','distance_from_a_city','sqft_lot']"
   ]
  },
  {
   "cell_type": "code",
   "execution_count": 112,
   "metadata": {},
   "outputs": [],
   "source": [
    "tobox = ['distance_from_a_city','sqft_lot','sqft_living',]"
   ]
  },
  {
   "cell_type": "code",
   "execution_count": 50,
   "metadata": {},
   "outputs": [],
   "source": [
    "for feat in tobox:\n",
    "    df[feat],b = scs.boxcox(df[feat])\n"
   ]
  },
  {
   "cell_type": "code",
   "execution_count": 11,
   "metadata": {},
   "outputs": [
    {
     "data": {
      "image/png": "[encoded data removed]",
      "text/plain": [
       "<Figure size 432x288 with 6 Axes>"
      ]
     },
     "metadata": {
      "needs_background": "light"
     },
     "output_type": "display_data"
    }
   ],
   "source": [
    "df[features].hist();"
   ]
  },
  {
   "cell_type": "code",
   "execution_count": 51,
   "metadata": {},
   "outputs": [],
   "source": [
    "def norm_feat(series):\n",
    "    return (series - series.mean())/series.std()"
   ]
  },
  {
   "cell_type": "code",
   "execution_count": 52,
   "metadata": {},
   "outputs": [],
   "source": [
    "df['bedbath'] = df['bedrooms']*df['bathrooms']"
   ]
  },
  {
   "cell_type": "code",
   "execution_count": 53,
   "metadata": {},
   "outputs": [],
   "source": [
    "df['livinglot'] = df['sqft_living']*df['sqft_lot']"
   ]
  },
  {
   "cell_type": "code",
   "execution_count": 54,
   "metadata": {},
   "outputs": [],
   "source": [
    "norm = ['bedrooms','bathrooms','sqft_living','sqft_lot','distance_from_a_city','Age_of_House',\n",
    "           'Years_last_renovation','bedbath','livinglot']\n"
   ]
  },
  {
   "cell_type": "code",
   "execution_count": 55,
   "metadata": {},
   "outputs": [],
   "source": [
    "for feat in norm:\n",
    "    df[feat] = norm_feat(df[feat])\n"
   ]
  },
  {
   "cell_type": "code",
   "execution_count": 56,
   "metadata": {},
   "outputs": [],
   "source": [
    "# tomodel = ['distance_from_a_city','Years_last_renovation','sqft_living']"
   ]
  },
  {
   "cell_type": "code",
   "execution_count": 57,
   "metadata": {},
   "outputs": [
    {
     "data": {
      "text/plain": [
       "Index(['date', 'price', 'bedrooms', 'bathrooms', 'sqft_living', 'sqft_lot',\n",
       "       'floors', 'waterfront', 'view', 'condition', 'grade', 'zipcode',\n",
       "       'Age_of_House', 'Years_last_renovation', 'basement', 'biggerliving',\n",
       "       'biggerlot', 'distance_from_a_city', 'distance_from_airport', 'bedbath',\n",
       "       'livinglot'],\n",
       "      dtype='object')"
      ]
     },
     "execution_count": 57,
     "metadata": {},
     "output_type": "execute_result"
    }
   ],
   "source": [
    "df.columns"
   ]
  },
  {
   "cell_type": "code",
   "execution_count": 122,
   "metadata": {},
   "outputs": [],
   "source": [
    "# x_cols = ['bedrooms','bathrooms','sqft_living','sqft_lot','distance_from_a_city',\n",
    "#            'Age_of_House','basement','bedbath','grade']\n",
    "# outcome = ['price']"
   ]
  },
  {
   "cell_type": "code",
   "execution_count": 58,
   "metadata": {},
   "outputs": [],
   "source": [
    "x_cols = ['bedrooms','bathrooms','sqft_living','sqft_lot','distance_from_a_city',\n",
    "           'basement','grade']\n",
    "outcome = ['price']"
   ]
  },
  {
   "cell_type": "code",
   "execution_count": null,
   "metadata": {},
   "outputs": [],
   "source": []
  },
  {
   "cell_type": "code",
   "execution_count": 111,
   "metadata": {},
   "outputs": [],
   "source": [
    "x_cols = ['bedrooms','bathrooms','sqft_living','sqft_lot','distance_from_a_city','Years_last_renovation',\n",
    "           'basement','grade']\n",
    "outcome = ['price']"
   ]
  },
  {
   "cell_type": "code",
   "execution_count": 112,
   "metadata": {},
   "outputs": [],
   "source": [
    "X = df[x_cols]\n",
    "y = df['price']"
   ]
  },
  {
   "cell_type": "code",
   "execution_count": 113,
   "metadata": {},
   "outputs": [
    {
     "data": {
      "text/html": [
       "<table class=\"simpletable\">\n",
       "<caption>OLS Regression Results</caption>\n",
       "<tr>\n",
       "  <th>Dep. Variable:</th>          <td>price</td>      <th>  R-squared (uncentered):</th>       <td>   0.958</td>  \n",
       "</tr>\n",
       "<tr>\n",
       "  <th>Model:</th>                   <td>OLS</td>       <th>  Adj. R-squared (uncentered):</th>  <td>   0.958</td>  \n",
       "</tr>\n",
       "<tr>\n",
       "  <th>Method:</th>             <td>Least Squares</td>  <th>  F-statistic:       </th>           <td>4.625e+04</td> \n",
       "</tr>\n",
       "<tr>\n",
       "  <th>Date:</th>             <td>Thu, 04 Jun 2020</td> <th>  Prob (F-statistic):</th>            <td>  0.00</td>   \n",
       "</tr>\n",
       "<tr>\n",
       "  <th>Time:</th>                 <td>14:20:34</td>     <th>  Log-Likelihood:    </th>          <td>-2.1103e+05</td>\n",
       "</tr>\n",
       "<tr>\n",
       "  <th>No. Observations:</th>      <td> 16378</td>      <th>  AIC:               </th>           <td>4.221e+05</td> \n",
       "</tr>\n",
       "<tr>\n",
       "  <th>Df Residuals:</th>          <td> 16370</td>      <th>  BIC:               </th>           <td>4.221e+05</td> \n",
       "</tr>\n",
       "<tr>\n",
       "  <th>Df Model:</th>              <td>     8</td>      <th>                     </th>               <td> </td>     \n",
       "</tr>\n",
       "<tr>\n",
       "  <th>Covariance Type:</th>      <td>nonrobust</td>    <th>                     </th>               <td> </td>     \n",
       "</tr>\n",
       "</table>\n",
       "<table class=\"simpletable\">\n",
       "<tr>\n",
       "            <td></td>               <th>coef</th>     <th>std err</th>      <th>t</th>      <th>P>|t|</th>  <th>[0.025</th>    <th>0.975]</th>  \n",
       "</tr>\n",
       "<tr>\n",
       "  <th>bedrooms</th>              <td>-1.311e+04</td> <td>  957.364</td> <td>  -13.690</td> <td> 0.000</td> <td> -1.5e+04</td> <td>-1.12e+04</td>\n",
       "</tr>\n",
       "<tr>\n",
       "  <th>bathrooms</th>             <td> 8178.1479</td> <td> 1259.593</td> <td>    6.493</td> <td> 0.000</td> <td> 5709.208</td> <td> 1.06e+04</td>\n",
       "</tr>\n",
       "<tr>\n",
       "  <th>sqft_living</th>           <td> 6.515e+04</td> <td> 1302.860</td> <td>   50.005</td> <td> 0.000</td> <td> 6.26e+04</td> <td> 6.77e+04</td>\n",
       "</tr>\n",
       "<tr>\n",
       "  <th>sqft_lot</th>              <td> 2.308e+04</td> <td>  984.803</td> <td>   23.438</td> <td> 0.000</td> <td> 2.12e+04</td> <td>  2.5e+04</td>\n",
       "</tr>\n",
       "<tr>\n",
       "  <th>distance_from_a_city</th>  <td>-9.293e+04</td> <td>  909.223</td> <td> -102.205</td> <td> 0.000</td> <td>-9.47e+04</td> <td>-9.11e+04</td>\n",
       "</tr>\n",
       "<tr>\n",
       "  <th>Years_last_renovation</th> <td> 1.151e+04</td> <td> 1075.559</td> <td>   10.703</td> <td> 0.000</td> <td> 9403.016</td> <td> 1.36e+04</td>\n",
       "</tr>\n",
       "<tr>\n",
       "  <th>basement</th>              <td>-1.648e+04</td> <td> 1678.098</td> <td>   -9.820</td> <td> 0.000</td> <td>-1.98e+04</td> <td>-1.32e+04</td>\n",
       "</tr>\n",
       "<tr>\n",
       "  <th>grade</th>                 <td> 5.946e+04</td> <td>  128.665</td> <td>  462.150</td> <td> 0.000</td> <td> 5.92e+04</td> <td> 5.97e+04</td>\n",
       "</tr>\n",
       "</table>\n",
       "<table class=\"simpletable\">\n",
       "<tr>\n",
       "  <th>Omnibus:</th>       <td>313.210</td> <th>  Durbin-Watson:     </th> <td>   2.006</td>\n",
       "</tr>\n",
       "<tr>\n",
       "  <th>Prob(Omnibus):</th> <td> 0.000</td>  <th>  Jarque-Bera (JB):  </th> <td> 403.159</td>\n",
       "</tr>\n",
       "<tr>\n",
       "  <th>Skew:</th>          <td> 0.257</td>  <th>  Prob(JB):          </th> <td>2.85e-88</td>\n",
       "</tr>\n",
       "<tr>\n",
       "  <th>Kurtosis:</th>      <td> 3.571</td>  <th>  Cond. No.          </th> <td>    17.9</td>\n",
       "</tr>\n",
       "</table><br/><br/>Warnings:<br/>[1] Standard Errors assume that the covariance matrix of the errors is correctly specified."
      ],
      "text/plain": [
       "<class 'statsmodels.iolib.summary.Summary'>\n",
       "\"\"\"\n",
       "                                 OLS Regression Results                                \n",
       "=======================================================================================\n",
       "Dep. Variable:                  price   R-squared (uncentered):                   0.958\n",
       "Model:                            OLS   Adj. R-squared (uncentered):              0.958\n",
       "Method:                 Least Squares   F-statistic:                          4.625e+04\n",
       "Date:                Thu, 04 Jun 2020   Prob (F-statistic):                        0.00\n",
       "Time:                        14:20:34   Log-Likelihood:                     -2.1103e+05\n",
       "No. Observations:               16378   AIC:                                  4.221e+05\n",
       "Df Residuals:                   16370   BIC:                                  4.221e+05\n",
       "Df Model:                           8                                                  \n",
       "Covariance Type:            nonrobust                                                  \n",
       "=========================================================================================\n",
       "                            coef    std err          t      P>|t|      [0.025      0.975]\n",
       "-----------------------------------------------------------------------------------------\n",
       "bedrooms              -1.311e+04    957.364    -13.690      0.000    -1.5e+04   -1.12e+04\n",
       "bathrooms              8178.1479   1259.593      6.493      0.000    5709.208    1.06e+04\n",
       "sqft_living            6.515e+04   1302.860     50.005      0.000    6.26e+04    6.77e+04\n",
       "sqft_lot               2.308e+04    984.803     23.438      0.000    2.12e+04     2.5e+04\n",
       "distance_from_a_city  -9.293e+04    909.223   -102.205      0.000   -9.47e+04   -9.11e+04\n",
       "Years_last_renovation  1.151e+04   1075.559     10.703      0.000    9403.016    1.36e+04\n",
       "basement              -1.648e+04   1678.098     -9.820      0.000   -1.98e+04   -1.32e+04\n",
       "grade                  5.946e+04    128.665    462.150      0.000    5.92e+04    5.97e+04\n",
       "==============================================================================\n",
       "Omnibus:                      313.210   Durbin-Watson:                   2.006\n",
       "Prob(Omnibus):                  0.000   Jarque-Bera (JB):              403.159\n",
       "Skew:                           0.257   Prob(JB):                     2.85e-88\n",
       "Kurtosis:                       3.571   Cond. No.                         17.9\n",
       "==============================================================================\n",
       "\n",
       "Warnings:\n",
       "[1] Standard Errors assume that the covariance matrix of the errors is correctly specified.\n",
       "\"\"\""
      ]
     },
     "execution_count": 113,
     "metadata": {},
     "output_type": "execute_result"
    }
   ],
   "source": [
    "model = sm.OLS(y,X).fit()\n",
    "model.summary()"
   ]
  },
  {
   "cell_type": "code",
   "execution_count": 114,
   "metadata": {},
   "outputs": [
    {
     "name": "stdout",
     "output_type": "stream",
     "text": [
      "8 8\n",
      "['bedrooms', 'bathrooms', 'sqft_living', 'sqft_lot', 'distance_from_a_city']\n"
     ]
    },
    {
     "data": {
      "text/html": [
       "<div>\n",
       "<style scoped>\n",
       "    .dataframe tbody tr th:only-of-type {\n",
       "        vertical-align: middle;\n",
       "    }\n",
       "\n",
       "    .dataframe tbody tr th {\n",
       "        vertical-align: top;\n",
       "    }\n",
       "\n",
       "    .dataframe thead th {\n",
       "        text-align: right;\n",
       "    }\n",
       "</style>\n",
       "<table border=\"1\" class=\"dataframe\">\n",
       "  <thead>\n",
       "    <tr style=\"text-align: right;\">\n",
       "      <th></th>\n",
       "      <th>coef</th>\n",
       "      <th>std err</th>\n",
       "      <th>t</th>\n",
       "      <th>P&gt;|t|</th>\n",
       "      <th>[0.025</th>\n",
       "      <th>0.975]</th>\n",
       "    </tr>\n",
       "    <tr>\n",
       "      <th></th>\n",
       "      <th></th>\n",
       "      <th></th>\n",
       "      <th></th>\n",
       "      <th></th>\n",
       "      <th></th>\n",
       "      <th></th>\n",
       "    </tr>\n",
       "  </thead>\n",
       "  <tbody>\n",
       "    <tr>\n",
       "      <td>bedrooms</td>\n",
       "      <td>-1.311e+04</td>\n",
       "      <td>957.364</td>\n",
       "      <td>-13.690</td>\n",
       "      <td>0.0</td>\n",
       "      <td>-1.5e+04</td>\n",
       "      <td>-1.12e+04</td>\n",
       "    </tr>\n",
       "    <tr>\n",
       "      <td>bathrooms</td>\n",
       "      <td>8178.1479</td>\n",
       "      <td>1259.593</td>\n",
       "      <td>6.493</td>\n",
       "      <td>0.0</td>\n",
       "      <td>5709.208</td>\n",
       "      <td>1.06e+04</td>\n",
       "    </tr>\n",
       "    <tr>\n",
       "      <td>sqft_living</td>\n",
       "      <td>6.515e+04</td>\n",
       "      <td>1302.860</td>\n",
       "      <td>50.005</td>\n",
       "      <td>0.0</td>\n",
       "      <td>6.26e+04</td>\n",
       "      <td>6.77e+04</td>\n",
       "    </tr>\n",
       "    <tr>\n",
       "      <td>sqft_lot</td>\n",
       "      <td>2.308e+04</td>\n",
       "      <td>984.803</td>\n",
       "      <td>23.438</td>\n",
       "      <td>0.0</td>\n",
       "      <td>2.12e+04</td>\n",
       "      <td>2.5e+04</td>\n",
       "    </tr>\n",
       "    <tr>\n",
       "      <td>distance_from_a_city</td>\n",
       "      <td>-9.293e+04</td>\n",
       "      <td>909.223</td>\n",
       "      <td>-102.205</td>\n",
       "      <td>0.0</td>\n",
       "      <td>-9.47e+04</td>\n",
       "      <td>-9.11e+04</td>\n",
       "    </tr>\n",
       "  </tbody>\n",
       "</table>\n",
       "</div>"
      ],
      "text/plain": [
       "0                           coef    std err          t  P>|t|     [0.025  \\\n",
       "                                                                           \n",
       "bedrooms              -1.311e+04    957.364    -13.690    0.0   -1.5e+04   \n",
       "bathrooms              8178.1479   1259.593      6.493    0.0   5709.208   \n",
       "sqft_living            6.515e+04   1302.860     50.005    0.0   6.26e+04   \n",
       "sqft_lot               2.308e+04    984.803     23.438    0.0   2.12e+04   \n",
       "distance_from_a_city  -9.293e+04    909.223   -102.205    0.0  -9.47e+04   \n",
       "\n",
       "0                        0.975]  \n",
       "                                 \n",
       "bedrooms              -1.12e+04  \n",
       "bathrooms              1.06e+04  \n",
       "sqft_living            6.77e+04  \n",
       "sqft_lot                2.5e+04  \n",
       "distance_from_a_city  -9.11e+04  "
      ]
     },
     "execution_count": 114,
     "metadata": {},
     "output_type": "execute_result"
    }
   ],
   "source": [
    "summary = model.summary()\n",
    "p_table = summary.tables[1]\n",
    "p_table = pd.DataFrame(p_table.data)\n",
    "p_table.columns = p_table.iloc[0]\n",
    "p_table = p_table.drop(0)\n",
    "p_table = p_table.set_index(p_table.columns[0])\n",
    "p_table['P>|t|'] = p_table['P>|t|'].astype(float)\n",
    "x_cols = list(p_table[p_table['P>|t|'] < 0.05].index)\n",
    "print(len(p_table), len(x_cols))\n",
    "print(x_cols[:5])\n",
    "p_table.head()"
   ]
  },
  {
   "cell_type": "code",
   "execution_count": 115,
   "metadata": {},
   "outputs": [],
   "source": [
    "X = df[x_cols]\n",
    "y= df['price']"
   ]
  },
  {
   "cell_type": "code",
   "execution_count": 116,
   "metadata": {},
   "outputs": [
    {
     "data": {
      "text/html": [
       "<table class=\"simpletable\">\n",
       "<caption>OLS Regression Results</caption>\n",
       "<tr>\n",
       "  <th>Dep. Variable:</th>          <td>price</td>      <th>  R-squared (uncentered):</th>       <td>   0.958</td>  \n",
       "</tr>\n",
       "<tr>\n",
       "  <th>Model:</th>                   <td>OLS</td>       <th>  Adj. R-squared (uncentered):</th>  <td>   0.958</td>  \n",
       "</tr>\n",
       "<tr>\n",
       "  <th>Method:</th>             <td>Least Squares</td>  <th>  F-statistic:       </th>           <td>4.625e+04</td> \n",
       "</tr>\n",
       "<tr>\n",
       "  <th>Date:</th>             <td>Thu, 04 Jun 2020</td> <th>  Prob (F-statistic):</th>            <td>  0.00</td>   \n",
       "</tr>\n",
       "<tr>\n",
       "  <th>Time:</th>                 <td>14:20:37</td>     <th>  Log-Likelihood:    </th>          <td>-2.1103e+05</td>\n",
       "</tr>\n",
       "<tr>\n",
       "  <th>No. Observations:</th>      <td> 16378</td>      <th>  AIC:               </th>           <td>4.221e+05</td> \n",
       "</tr>\n",
       "<tr>\n",
       "  <th>Df Residuals:</th>          <td> 16370</td>      <th>  BIC:               </th>           <td>4.221e+05</td> \n",
       "</tr>\n",
       "<tr>\n",
       "  <th>Df Model:</th>              <td>     8</td>      <th>                     </th>               <td> </td>     \n",
       "</tr>\n",
       "<tr>\n",
       "  <th>Covariance Type:</th>      <td>nonrobust</td>    <th>                     </th>               <td> </td>     \n",
       "</tr>\n",
       "</table>\n",
       "<table class=\"simpletable\">\n",
       "<tr>\n",
       "            <td></td>               <th>coef</th>     <th>std err</th>      <th>t</th>      <th>P>|t|</th>  <th>[0.025</th>    <th>0.975]</th>  \n",
       "</tr>\n",
       "<tr>\n",
       "  <th>bedrooms</th>              <td>-1.311e+04</td> <td>  957.364</td> <td>  -13.690</td> <td> 0.000</td> <td> -1.5e+04</td> <td>-1.12e+04</td>\n",
       "</tr>\n",
       "<tr>\n",
       "  <th>bathrooms</th>             <td> 8178.1479</td> <td> 1259.593</td> <td>    6.493</td> <td> 0.000</td> <td> 5709.208</td> <td> 1.06e+04</td>\n",
       "</tr>\n",
       "<tr>\n",
       "  <th>sqft_living</th>           <td> 6.515e+04</td> <td> 1302.860</td> <td>   50.005</td> <td> 0.000</td> <td> 6.26e+04</td> <td> 6.77e+04</td>\n",
       "</tr>\n",
       "<tr>\n",
       "  <th>sqft_lot</th>              <td> 2.308e+04</td> <td>  984.803</td> <td>   23.438</td> <td> 0.000</td> <td> 2.12e+04</td> <td>  2.5e+04</td>\n",
       "</tr>\n",
       "<tr>\n",
       "  <th>distance_from_a_city</th>  <td>-9.293e+04</td> <td>  909.223</td> <td> -102.205</td> <td> 0.000</td> <td>-9.47e+04</td> <td>-9.11e+04</td>\n",
       "</tr>\n",
       "<tr>\n",
       "  <th>Years_last_renovation</th> <td> 1.151e+04</td> <td> 1075.559</td> <td>   10.703</td> <td> 0.000</td> <td> 9403.016</td> <td> 1.36e+04</td>\n",
       "</tr>\n",
       "<tr>\n",
       "  <th>basement</th>              <td>-1.648e+04</td> <td> 1678.098</td> <td>   -9.820</td> <td> 0.000</td> <td>-1.98e+04</td> <td>-1.32e+04</td>\n",
       "</tr>\n",
       "<tr>\n",
       "  <th>grade</th>                 <td> 5.946e+04</td> <td>  128.665</td> <td>  462.150</td> <td> 0.000</td> <td> 5.92e+04</td> <td> 5.97e+04</td>\n",
       "</tr>\n",
       "</table>\n",
       "<table class=\"simpletable\">\n",
       "<tr>\n",
       "  <th>Omnibus:</th>       <td>313.210</td> <th>  Durbin-Watson:     </th> <td>   2.006</td>\n",
       "</tr>\n",
       "<tr>\n",
       "  <th>Prob(Omnibus):</th> <td> 0.000</td>  <th>  Jarque-Bera (JB):  </th> <td> 403.159</td>\n",
       "</tr>\n",
       "<tr>\n",
       "  <th>Skew:</th>          <td> 0.257</td>  <th>  Prob(JB):          </th> <td>2.85e-88</td>\n",
       "</tr>\n",
       "<tr>\n",
       "  <th>Kurtosis:</th>      <td> 3.571</td>  <th>  Cond. No.          </th> <td>    17.9</td>\n",
       "</tr>\n",
       "</table><br/><br/>Warnings:<br/>[1] Standard Errors assume that the covariance matrix of the errors is correctly specified."
      ],
      "text/plain": [
       "<class 'statsmodels.iolib.summary.Summary'>\n",
       "\"\"\"\n",
       "                                 OLS Regression Results                                \n",
       "=======================================================================================\n",
       "Dep. Variable:                  price   R-squared (uncentered):                   0.958\n",
       "Model:                            OLS   Adj. R-squared (uncentered):              0.958\n",
       "Method:                 Least Squares   F-statistic:                          4.625e+04\n",
       "Date:                Thu, 04 Jun 2020   Prob (F-statistic):                        0.00\n",
       "Time:                        14:20:37   Log-Likelihood:                     -2.1103e+05\n",
       "No. Observations:               16378   AIC:                                  4.221e+05\n",
       "Df Residuals:                   16370   BIC:                                  4.221e+05\n",
       "Df Model:                           8                                                  \n",
       "Covariance Type:            nonrobust                                                  \n",
       "=========================================================================================\n",
       "                            coef    std err          t      P>|t|      [0.025      0.975]\n",
       "-----------------------------------------------------------------------------------------\n",
       "bedrooms              -1.311e+04    957.364    -13.690      0.000    -1.5e+04   -1.12e+04\n",
       "bathrooms              8178.1479   1259.593      6.493      0.000    5709.208    1.06e+04\n",
       "sqft_living            6.515e+04   1302.860     50.005      0.000    6.26e+04    6.77e+04\n",
       "sqft_lot               2.308e+04    984.803     23.438      0.000    2.12e+04     2.5e+04\n",
       "distance_from_a_city  -9.293e+04    909.223   -102.205      0.000   -9.47e+04   -9.11e+04\n",
       "Years_last_renovation  1.151e+04   1075.559     10.703      0.000    9403.016    1.36e+04\n",
       "basement              -1.648e+04   1678.098     -9.820      0.000   -1.98e+04   -1.32e+04\n",
       "grade                  5.946e+04    128.665    462.150      0.000    5.92e+04    5.97e+04\n",
       "==============================================================================\n",
       "Omnibus:                      313.210   Durbin-Watson:                   2.006\n",
       "Prob(Omnibus):                  0.000   Jarque-Bera (JB):              403.159\n",
       "Skew:                           0.257   Prob(JB):                     2.85e-88\n",
       "Kurtosis:                       3.571   Cond. No.                         17.9\n",
       "==============================================================================\n",
       "\n",
       "Warnings:\n",
       "[1] Standard Errors assume that the covariance matrix of the errors is correctly specified.\n",
       "\"\"\""
      ]
     },
     "execution_count": 116,
     "metadata": {},
     "output_type": "execute_result"
    }
   ],
   "source": [
    "model = sm.OLS(y,X).fit()\n",
    "model.summary()"
   ]
  },
  {
   "cell_type": "code",
   "execution_count": 117,
   "metadata": {},
   "outputs": [
    {
     "data": {
      "text/plain": [
       "[('bedrooms', 1.6403218001421798),\n",
       " ('bathrooms', 2.84206903231568),\n",
       " ('sqft_living', 3.032329865897945),\n",
       " ('sqft_lot', 1.7378351278285535),\n",
       " ('distance_from_a_city', 1.4848303411859038),\n",
       " ('Years_last_renovation', 2.076655984330706),\n",
       " ('basement', 1.8376520588350942),\n",
       " ('grade', 1.6577103366289547)]"
      ]
     },
     "execution_count": 117,
     "metadata": {},
     "output_type": "execute_result"
    }
   ],
   "source": [
    "# Your code here - Code a way to identify multicollinearity\n",
    "from statsmodels.stats.outliers_influence import variance_inflation_factor\n",
    "X = df[x_cols]\n",
    "vif = [variance_inflation_factor(X.values,i) for i in range(X.shape[1])]\n",
    "list(zip(x_cols,vif))"
   ]
  },
  {
   "cell_type": "code",
   "execution_count": 118,
   "metadata": {},
   "outputs": [
    {
     "name": "stdout",
     "output_type": "stream",
     "text": [
      "8 8\n"
     ]
    }
   ],
   "source": [
    "vif_scores = list(zip(x_cols, vif))\n",
    "x_cols = [x for x,vif in vif_scores if vif < 5.5]\n",
    "print(len(vif_scores), len(x_cols))"
   ]
  },
  {
   "cell_type": "code",
   "execution_count": 119,
   "metadata": {},
   "outputs": [
    {
     "data": {
      "text/html": [
       "<table class=\"simpletable\">\n",
       "<caption>OLS Regression Results</caption>\n",
       "<tr>\n",
       "  <th>Dep. Variable:</th>          <td>price</td>      <th>  R-squared (uncentered):</th>       <td>   0.958</td>  \n",
       "</tr>\n",
       "<tr>\n",
       "  <th>Model:</th>                   <td>OLS</td>       <th>  Adj. R-squared (uncentered):</th>  <td>   0.958</td>  \n",
       "</tr>\n",
       "<tr>\n",
       "  <th>Method:</th>             <td>Least Squares</td>  <th>  F-statistic:       </th>           <td>4.625e+04</td> \n",
       "</tr>\n",
       "<tr>\n",
       "  <th>Date:</th>             <td>Thu, 04 Jun 2020</td> <th>  Prob (F-statistic):</th>            <td>  0.00</td>   \n",
       "</tr>\n",
       "<tr>\n",
       "  <th>Time:</th>                 <td>14:20:39</td>     <th>  Log-Likelihood:    </th>          <td>-2.1103e+05</td>\n",
       "</tr>\n",
       "<tr>\n",
       "  <th>No. Observations:</th>      <td> 16378</td>      <th>  AIC:               </th>           <td>4.221e+05</td> \n",
       "</tr>\n",
       "<tr>\n",
       "  <th>Df Residuals:</th>          <td> 16370</td>      <th>  BIC:               </th>           <td>4.221e+05</td> \n",
       "</tr>\n",
       "<tr>\n",
       "  <th>Df Model:</th>              <td>     8</td>      <th>                     </th>               <td> </td>     \n",
       "</tr>\n",
       "<tr>\n",
       "  <th>Covariance Type:</th>      <td>nonrobust</td>    <th>                     </th>               <td> </td>     \n",
       "</tr>\n",
       "</table>\n",
       "<table class=\"simpletable\">\n",
       "<tr>\n",
       "            <td></td>               <th>coef</th>     <th>std err</th>      <th>t</th>      <th>P>|t|</th>  <th>[0.025</th>    <th>0.975]</th>  \n",
       "</tr>\n",
       "<tr>\n",
       "  <th>bedrooms</th>              <td>-1.311e+04</td> <td>  957.364</td> <td>  -13.690</td> <td> 0.000</td> <td> -1.5e+04</td> <td>-1.12e+04</td>\n",
       "</tr>\n",
       "<tr>\n",
       "  <th>bathrooms</th>             <td> 8178.1479</td> <td> 1259.593</td> <td>    6.493</td> <td> 0.000</td> <td> 5709.208</td> <td> 1.06e+04</td>\n",
       "</tr>\n",
       "<tr>\n",
       "  <th>sqft_living</th>           <td> 6.515e+04</td> <td> 1302.860</td> <td>   50.005</td> <td> 0.000</td> <td> 6.26e+04</td> <td> 6.77e+04</td>\n",
       "</tr>\n",
       "<tr>\n",
       "  <th>sqft_lot</th>              <td> 2.308e+04</td> <td>  984.803</td> <td>   23.438</td> <td> 0.000</td> <td> 2.12e+04</td> <td>  2.5e+04</td>\n",
       "</tr>\n",
       "<tr>\n",
       "  <th>distance_from_a_city</th>  <td>-9.293e+04</td> <td>  909.223</td> <td> -102.205</td> <td> 0.000</td> <td>-9.47e+04</td> <td>-9.11e+04</td>\n",
       "</tr>\n",
       "<tr>\n",
       "  <th>Years_last_renovation</th> <td> 1.151e+04</td> <td> 1075.559</td> <td>   10.703</td> <td> 0.000</td> <td> 9403.016</td> <td> 1.36e+04</td>\n",
       "</tr>\n",
       "<tr>\n",
       "  <th>basement</th>              <td>-1.648e+04</td> <td> 1678.098</td> <td>   -9.820</td> <td> 0.000</td> <td>-1.98e+04</td> <td>-1.32e+04</td>\n",
       "</tr>\n",
       "<tr>\n",
       "  <th>grade</th>                 <td> 5.946e+04</td> <td>  128.665</td> <td>  462.150</td> <td> 0.000</td> <td> 5.92e+04</td> <td> 5.97e+04</td>\n",
       "</tr>\n",
       "</table>\n",
       "<table class=\"simpletable\">\n",
       "<tr>\n",
       "  <th>Omnibus:</th>       <td>313.210</td> <th>  Durbin-Watson:     </th> <td>   2.006</td>\n",
       "</tr>\n",
       "<tr>\n",
       "  <th>Prob(Omnibus):</th> <td> 0.000</td>  <th>  Jarque-Bera (JB):  </th> <td> 403.159</td>\n",
       "</tr>\n",
       "<tr>\n",
       "  <th>Skew:</th>          <td> 0.257</td>  <th>  Prob(JB):          </th> <td>2.85e-88</td>\n",
       "</tr>\n",
       "<tr>\n",
       "  <th>Kurtosis:</th>      <td> 3.571</td>  <th>  Cond. No.          </th> <td>    17.9</td>\n",
       "</tr>\n",
       "</table><br/><br/>Warnings:<br/>[1] Standard Errors assume that the covariance matrix of the errors is correctly specified."
      ],
      "text/plain": [
       "<class 'statsmodels.iolib.summary.Summary'>\n",
       "\"\"\"\n",
       "                                 OLS Regression Results                                \n",
       "=======================================================================================\n",
       "Dep. Variable:                  price   R-squared (uncentered):                   0.958\n",
       "Model:                            OLS   Adj. R-squared (uncentered):              0.958\n",
       "Method:                 Least Squares   F-statistic:                          4.625e+04\n",
       "Date:                Thu, 04 Jun 2020   Prob (F-statistic):                        0.00\n",
       "Time:                        14:20:39   Log-Likelihood:                     -2.1103e+05\n",
       "No. Observations:               16378   AIC:                                  4.221e+05\n",
       "Df Residuals:                   16370   BIC:                                  4.221e+05\n",
       "Df Model:                           8                                                  \n",
       "Covariance Type:            nonrobust                                                  \n",
       "=========================================================================================\n",
       "                            coef    std err          t      P>|t|      [0.025      0.975]\n",
       "-----------------------------------------------------------------------------------------\n",
       "bedrooms              -1.311e+04    957.364    -13.690      0.000    -1.5e+04   -1.12e+04\n",
       "bathrooms              8178.1479   1259.593      6.493      0.000    5709.208    1.06e+04\n",
       "sqft_living            6.515e+04   1302.860     50.005      0.000    6.26e+04    6.77e+04\n",
       "sqft_lot               2.308e+04    984.803     23.438      0.000    2.12e+04     2.5e+04\n",
       "distance_from_a_city  -9.293e+04    909.223   -102.205      0.000   -9.47e+04   -9.11e+04\n",
       "Years_last_renovation  1.151e+04   1075.559     10.703      0.000    9403.016    1.36e+04\n",
       "basement              -1.648e+04   1678.098     -9.820      0.000   -1.98e+04   -1.32e+04\n",
       "grade                  5.946e+04    128.665    462.150      0.000    5.92e+04    5.97e+04\n",
       "==============================================================================\n",
       "Omnibus:                      313.210   Durbin-Watson:                   2.006\n",
       "Prob(Omnibus):                  0.000   Jarque-Bera (JB):              403.159\n",
       "Skew:                           0.257   Prob(JB):                     2.85e-88\n",
       "Kurtosis:                       3.571   Cond. No.                         17.9\n",
       "==============================================================================\n",
       "\n",
       "Warnings:\n",
       "[1] Standard Errors assume that the covariance matrix of the errors is correctly specified.\n",
       "\"\"\""
      ]
     },
     "execution_count": 119,
     "metadata": {},
     "output_type": "execute_result"
    }
   ],
   "source": [
    "X = df[x_cols]\n",
    "y= df['price']\n",
    "model = sm.OLS(y,X).fit()\n",
    "model.summary()"
   ]
  },
  {
   "cell_type": "code",
   "execution_count": 120,
   "metadata": {
    "scrolled": false
   },
   "outputs": [
    {
     "data": {
      "text/html": [
       "<table class=\"simpletable\">\n",
       "<caption>OLS Regression Results</caption>\n",
       "<tr>\n",
       "  <th>Dep. Variable:</th>          <td>price</td>      <th>  R-squared (uncentered):</th>       <td>   0.958</td>  \n",
       "</tr>\n",
       "<tr>\n",
       "  <th>Model:</th>                   <td>OLS</td>       <th>  Adj. R-squared (uncentered):</th>  <td>   0.958</td>  \n",
       "</tr>\n",
       "<tr>\n",
       "  <th>Method:</th>             <td>Least Squares</td>  <th>  F-statistic:       </th>           <td>4.625e+04</td> \n",
       "</tr>\n",
       "<tr>\n",
       "  <th>Date:</th>             <td>Thu, 04 Jun 2020</td> <th>  Prob (F-statistic):</th>            <td>  0.00</td>   \n",
       "</tr>\n",
       "<tr>\n",
       "  <th>Time:</th>                 <td>14:20:40</td>     <th>  Log-Likelihood:    </th>          <td>-2.1103e+05</td>\n",
       "</tr>\n",
       "<tr>\n",
       "  <th>No. Observations:</th>      <td> 16378</td>      <th>  AIC:               </th>           <td>4.221e+05</td> \n",
       "</tr>\n",
       "<tr>\n",
       "  <th>Df Residuals:</th>          <td> 16370</td>      <th>  BIC:               </th>           <td>4.221e+05</td> \n",
       "</tr>\n",
       "<tr>\n",
       "  <th>Df Model:</th>              <td>     8</td>      <th>                     </th>               <td> </td>     \n",
       "</tr>\n",
       "<tr>\n",
       "  <th>Covariance Type:</th>      <td>nonrobust</td>    <th>                     </th>               <td> </td>     \n",
       "</tr>\n",
       "</table>\n",
       "<table class=\"simpletable\">\n",
       "<tr>\n",
       "            <td></td>               <th>coef</th>     <th>std err</th>      <th>t</th>      <th>P>|t|</th>  <th>[0.025</th>    <th>0.975]</th>  \n",
       "</tr>\n",
       "<tr>\n",
       "  <th>bedrooms</th>              <td>-1.311e+04</td> <td>  957.364</td> <td>  -13.690</td> <td> 0.000</td> <td> -1.5e+04</td> <td>-1.12e+04</td>\n",
       "</tr>\n",
       "<tr>\n",
       "  <th>bathrooms</th>             <td> 8178.1479</td> <td> 1259.593</td> <td>    6.493</td> <td> 0.000</td> <td> 5709.208</td> <td> 1.06e+04</td>\n",
       "</tr>\n",
       "<tr>\n",
       "  <th>sqft_living</th>           <td> 6.515e+04</td> <td> 1302.860</td> <td>   50.005</td> <td> 0.000</td> <td> 6.26e+04</td> <td> 6.77e+04</td>\n",
       "</tr>\n",
       "<tr>\n",
       "  <th>sqft_lot</th>              <td> 2.308e+04</td> <td>  984.803</td> <td>   23.438</td> <td> 0.000</td> <td> 2.12e+04</td> <td>  2.5e+04</td>\n",
       "</tr>\n",
       "<tr>\n",
       "  <th>distance_from_a_city</th>  <td>-9.293e+04</td> <td>  909.223</td> <td> -102.205</td> <td> 0.000</td> <td>-9.47e+04</td> <td>-9.11e+04</td>\n",
       "</tr>\n",
       "<tr>\n",
       "  <th>Years_last_renovation</th> <td> 1.151e+04</td> <td> 1075.559</td> <td>   10.703</td> <td> 0.000</td> <td> 9403.016</td> <td> 1.36e+04</td>\n",
       "</tr>\n",
       "<tr>\n",
       "  <th>basement</th>              <td>-1.648e+04</td> <td> 1678.098</td> <td>   -9.820</td> <td> 0.000</td> <td>-1.98e+04</td> <td>-1.32e+04</td>\n",
       "</tr>\n",
       "<tr>\n",
       "  <th>grade</th>                 <td> 5.946e+04</td> <td>  128.665</td> <td>  462.150</td> <td> 0.000</td> <td> 5.92e+04</td> <td> 5.97e+04</td>\n",
       "</tr>\n",
       "</table>\n",
       "<table class=\"simpletable\">\n",
       "<tr>\n",
       "  <th>Omnibus:</th>       <td>313.210</td> <th>  Durbin-Watson:     </th> <td>   2.006</td>\n",
       "</tr>\n",
       "<tr>\n",
       "  <th>Prob(Omnibus):</th> <td> 0.000</td>  <th>  Jarque-Bera (JB):  </th> <td> 403.159</td>\n",
       "</tr>\n",
       "<tr>\n",
       "  <th>Skew:</th>          <td> 0.257</td>  <th>  Prob(JB):          </th> <td>2.85e-88</td>\n",
       "</tr>\n",
       "<tr>\n",
       "  <th>Kurtosis:</th>      <td> 3.571</td>  <th>  Cond. No.          </th> <td>    17.9</td>\n",
       "</tr>\n",
       "</table><br/><br/>Warnings:<br/>[1] Standard Errors assume that the covariance matrix of the errors is correctly specified."
      ],
      "text/plain": [
       "<class 'statsmodels.iolib.summary.Summary'>\n",
       "\"\"\"\n",
       "                                 OLS Regression Results                                \n",
       "=======================================================================================\n",
       "Dep. Variable:                  price   R-squared (uncentered):                   0.958\n",
       "Model:                            OLS   Adj. R-squared (uncentered):              0.958\n",
       "Method:                 Least Squares   F-statistic:                          4.625e+04\n",
       "Date:                Thu, 04 Jun 2020   Prob (F-statistic):                        0.00\n",
       "Time:                        14:20:40   Log-Likelihood:                     -2.1103e+05\n",
       "No. Observations:               16378   AIC:                                  4.221e+05\n",
       "Df Residuals:                   16370   BIC:                                  4.221e+05\n",
       "Df Model:                           8                                                  \n",
       "Covariance Type:            nonrobust                                                  \n",
       "=========================================================================================\n",
       "                            coef    std err          t      P>|t|      [0.025      0.975]\n",
       "-----------------------------------------------------------------------------------------\n",
       "bedrooms              -1.311e+04    957.364    -13.690      0.000    -1.5e+04   -1.12e+04\n",
       "bathrooms              8178.1479   1259.593      6.493      0.000    5709.208    1.06e+04\n",
       "sqft_living            6.515e+04   1302.860     50.005      0.000    6.26e+04    6.77e+04\n",
       "sqft_lot               2.308e+04    984.803     23.438      0.000    2.12e+04     2.5e+04\n",
       "distance_from_a_city  -9.293e+04    909.223   -102.205      0.000   -9.47e+04   -9.11e+04\n",
       "Years_last_renovation  1.151e+04   1075.559     10.703      0.000    9403.016    1.36e+04\n",
       "basement              -1.648e+04   1678.098     -9.820      0.000   -1.98e+04   -1.32e+04\n",
       "grade                  5.946e+04    128.665    462.150      0.000    5.92e+04    5.97e+04\n",
       "==============================================================================\n",
       "Omnibus:                      313.210   Durbin-Watson:                   2.006\n",
       "Prob(Omnibus):                  0.000   Jarque-Bera (JB):              403.159\n",
       "Skew:                           0.257   Prob(JB):                     2.85e-88\n",
       "Kurtosis:                       3.571   Cond. No.                         17.9\n",
       "==============================================================================\n",
       "\n",
       "Warnings:\n",
       "[1] Standard Errors assume that the covariance matrix of the errors is correctly specified.\n",
       "\"\"\""
      ]
     },
     "execution_count": 120,
     "metadata": {},
     "output_type": "execute_result"
    }
   ],
   "source": [
    "model = sm.OLS(y,X).fit()\n",
    "model.summary()"
   ]
  },
  {
   "cell_type": "code",
   "execution_count": 121,
   "metadata": {},
   "outputs": [
    {
     "data": {
      "image/png": "[encoded data removed]",
      "text/plain": [
       "<Figure size 432x288 with 1 Axes>"
      ]
     },
     "metadata": {},
     "output_type": "display_data"
    }
   ],
   "source": [
    "fig = sm.graphics.qqplot(model.resid, dist=scs.norm, line='45', fit=True)\n"
   ]
  },
  {
   "cell_type": "code",
   "execution_count": 122,
   "metadata": {},
   "outputs": [
    {
     "data": {
      "text/plain": [
       "[<matplotlib.lines.Line2D at 0x1c23c72b70>]"
      ]
     },
     "execution_count": 122,
     "metadata": {},
     "output_type": "execute_result"
    },
    {
     "data": {
      "image/png": "[encoded data removed]",
      "text/plain": [
       "<Figure size 432x288 with 1 Axes>"
      ]
     },
     "metadata": {},
     "output_type": "display_data"
    }
   ],
   "source": [
    "plt.scatter(model.predict(X), model.resid)\n",
    "plt.plot(model.predict(X), [0 for i in range(len(df))])"
   ]
  },
  {
   "cell_type": "code",
   "execution_count": 123,
   "metadata": {},
   "outputs": [
    {
     "data": {
      "text/plain": [
       "<matplotlib.axes._subplots.AxesSubplot at 0x1c237a3c18>"
      ]
     },
     "execution_count": 123,
     "metadata": {},
     "output_type": "execute_result"
    },
    {
     "data": {
      "image/png": "[encoded data removed]",
      "text/plain": [
       "<Figure size 432x288 with 1 Axes>"
      ]
     },
     "metadata": {},
     "output_type": "display_data"
    }
   ],
   "source": [
    "df.price.hist()"
   ]
  },
  {
   "cell_type": "code",
   "execution_count": 124,
   "metadata": {},
   "outputs": [
    {
     "name": "stdout",
     "output_type": "stream",
     "text": [
      "0.8 percentile: 585000.0\n",
      "0.81 percentile: 592500.0\n",
      "0.82 percentile: 600000.0\n",
      "0.83 percentile: 606377.5\n",
      "0.84 percentile: 615340.0000000002\n",
      "0.85 percentile: 625000.0\n",
      "0.86 percentile: 635000.0\n",
      "0.87 percentile: 643999.4999999999\n",
      "0.88 percentile: 650000.0\n",
      "0.89 percentile: 660500.0\n",
      "0.9 percentile: 675000.0\n",
      "0.91 percentile: 685000.0\n",
      "0.92 percentile: 695000.0\n",
      "0.93 percentile: 705000.0\n",
      "0.94 percentile: 718189.9999999995\n",
      "0.95 percentile: 730000.0\n",
      "0.96 percentile: 744000.0\n",
      "0.97 percentile: 754000.0\n",
      "0.98 percentile: 770000.0\n",
      "0.99 percentile: 782000.0\n"
     ]
    }
   ],
   "source": [
    "for i in range(80,100):\n",
    "    q = i/100\n",
    "    print(\"{} percentile: {}\".format(q, df.price.quantile(q=q)))"
   ]
  },
  {
   "cell_type": "code",
   "execution_count": 125,
   "metadata": {},
   "outputs": [
    {
     "name": "stdout",
     "output_type": "stream",
     "text": [
      "Percent removed: 0.027536939797289047\n"
     ]
    }
   ],
   "source": [
    "orig_tot = len(df)\n",
    "df = df[df.price < 760000.0] # Subsetting to remove extreme outliers\n",
    "print('Percent removed:', (orig_tot -len(df))/orig_tot)\n"
   ]
  },
  {
   "cell_type": "code",
   "execution_count": 126,
   "metadata": {},
   "outputs": [],
   "source": [
    "X = df[x_cols]\n",
    "y = df['price']"
   ]
  },
  {
   "cell_type": "code",
   "execution_count": 127,
   "metadata": {},
   "outputs": [
    {
     "data": {
      "text/html": [
       "<table class=\"simpletable\">\n",
       "<caption>OLS Regression Results</caption>\n",
       "<tr>\n",
       "  <th>Dep. Variable:</th>          <td>price</td>      <th>  R-squared (uncentered):</th>       <td>   0.958</td>  \n",
       "</tr>\n",
       "<tr>\n",
       "  <th>Model:</th>                   <td>OLS</td>       <th>  Adj. R-squared (uncentered):</th>  <td>   0.958</td>  \n",
       "</tr>\n",
       "<tr>\n",
       "  <th>Method:</th>             <td>Least Squares</td>  <th>  F-statistic:       </th>           <td>4.552e+04</td> \n",
       "</tr>\n",
       "<tr>\n",
       "  <th>Date:</th>             <td>Thu, 04 Jun 2020</td> <th>  Prob (F-statistic):</th>            <td>  0.00</td>   \n",
       "</tr>\n",
       "<tr>\n",
       "  <th>Time:</th>                 <td>14:20:54</td>     <th>  Log-Likelihood:    </th>          <td>-2.0470e+05</td>\n",
       "</tr>\n",
       "<tr>\n",
       "  <th>No. Observations:</th>      <td> 15927</td>      <th>  AIC:               </th>           <td>4.094e+05</td> \n",
       "</tr>\n",
       "<tr>\n",
       "  <th>Df Residuals:</th>          <td> 15919</td>      <th>  BIC:               </th>           <td>4.095e+05</td> \n",
       "</tr>\n",
       "<tr>\n",
       "  <th>Df Model:</th>              <td>     8</td>      <th>                     </th>               <td> </td>     \n",
       "</tr>\n",
       "<tr>\n",
       "  <th>Covariance Type:</th>      <td>nonrobust</td>    <th>                     </th>               <td> </td>     \n",
       "</tr>\n",
       "</table>\n",
       "<table class=\"simpletable\">\n",
       "<tr>\n",
       "            <td></td>               <th>coef</th>     <th>std err</th>      <th>t</th>      <th>P>|t|</th>  <th>[0.025</th>    <th>0.975]</th>  \n",
       "</tr>\n",
       "<tr>\n",
       "  <th>bedrooms</th>              <td>-1.243e+04</td> <td>  941.225</td> <td>  -13.205</td> <td> 0.000</td> <td>-1.43e+04</td> <td>-1.06e+04</td>\n",
       "</tr>\n",
       "<tr>\n",
       "  <th>bathrooms</th>             <td> 8528.5249</td> <td> 1242.428</td> <td>    6.864</td> <td> 0.000</td> <td> 6093.225</td> <td>  1.1e+04</td>\n",
       "</tr>\n",
       "<tr>\n",
       "  <th>sqft_living</th>           <td> 6.008e+04</td> <td> 1291.313</td> <td>   46.529</td> <td> 0.000</td> <td> 5.76e+04</td> <td> 6.26e+04</td>\n",
       "</tr>\n",
       "<tr>\n",
       "  <th>sqft_lot</th>              <td> 2.291e+04</td> <td>  972.894</td> <td>   23.553</td> <td> 0.000</td> <td>  2.1e+04</td> <td> 2.48e+04</td>\n",
       "</tr>\n",
       "<tr>\n",
       "  <th>distance_from_a_city</th>  <td>-8.988e+04</td> <td>  900.415</td> <td>  -99.824</td> <td> 0.000</td> <td>-9.16e+04</td> <td>-8.81e+04</td>\n",
       "</tr>\n",
       "<tr>\n",
       "  <th>Years_last_renovation</th> <td> 1.077e+04</td> <td> 1061.430</td> <td>   10.143</td> <td> 0.000</td> <td> 8685.812</td> <td> 1.28e+04</td>\n",
       "</tr>\n",
       "<tr>\n",
       "  <th>basement</th>              <td>-1.455e+04</td> <td> 1651.310</td> <td>   -8.810</td> <td> 0.000</td> <td>-1.78e+04</td> <td>-1.13e+04</td>\n",
       "</tr>\n",
       "<tr>\n",
       "  <th>grade</th>                 <td> 5.879e+04</td> <td>  127.285</td> <td>  461.899</td> <td> 0.000</td> <td> 5.85e+04</td> <td>  5.9e+04</td>\n",
       "</tr>\n",
       "</table>\n",
       "<table class=\"simpletable\">\n",
       "<tr>\n",
       "  <th>Omnibus:</th>       <td>227.483</td> <th>  Durbin-Watson:     </th> <td>   2.000</td>\n",
       "</tr>\n",
       "<tr>\n",
       "  <th>Prob(Omnibus):</th> <td> 0.000</td>  <th>  Jarque-Bera (JB):  </th> <td> 280.240</td>\n",
       "</tr>\n",
       "<tr>\n",
       "  <th>Skew:</th>          <td> 0.222</td>  <th>  Prob(JB):          </th> <td>1.40e-61</td>\n",
       "</tr>\n",
       "<tr>\n",
       "  <th>Kurtosis:</th>      <td> 3.475</td>  <th>  Cond. No.          </th> <td>    17.9</td>\n",
       "</tr>\n",
       "</table><br/><br/>Warnings:<br/>[1] Standard Errors assume that the covariance matrix of the errors is correctly specified."
      ],
      "text/plain": [
       "<class 'statsmodels.iolib.summary.Summary'>\n",
       "\"\"\"\n",
       "                                 OLS Regression Results                                \n",
       "=======================================================================================\n",
       "Dep. Variable:                  price   R-squared (uncentered):                   0.958\n",
       "Model:                            OLS   Adj. R-squared (uncentered):              0.958\n",
       "Method:                 Least Squares   F-statistic:                          4.552e+04\n",
       "Date:                Thu, 04 Jun 2020   Prob (F-statistic):                        0.00\n",
       "Time:                        14:20:54   Log-Likelihood:                     -2.0470e+05\n",
       "No. Observations:               15927   AIC:                                  4.094e+05\n",
       "Df Residuals:                   15919   BIC:                                  4.095e+05\n",
       "Df Model:                           8                                                  \n",
       "Covariance Type:            nonrobust                                                  \n",
       "=========================================================================================\n",
       "                            coef    std err          t      P>|t|      [0.025      0.975]\n",
       "-----------------------------------------------------------------------------------------\n",
       "bedrooms              -1.243e+04    941.225    -13.205      0.000   -1.43e+04   -1.06e+04\n",
       "bathrooms              8528.5249   1242.428      6.864      0.000    6093.225     1.1e+04\n",
       "sqft_living            6.008e+04   1291.313     46.529      0.000    5.76e+04    6.26e+04\n",
       "sqft_lot               2.291e+04    972.894     23.553      0.000     2.1e+04    2.48e+04\n",
       "distance_from_a_city  -8.988e+04    900.415    -99.824      0.000   -9.16e+04   -8.81e+04\n",
       "Years_last_renovation  1.077e+04   1061.430     10.143      0.000    8685.812    1.28e+04\n",
       "basement              -1.455e+04   1651.310     -8.810      0.000   -1.78e+04   -1.13e+04\n",
       "grade                  5.879e+04    127.285    461.899      0.000    5.85e+04     5.9e+04\n",
       "==============================================================================\n",
       "Omnibus:                      227.483   Durbin-Watson:                   2.000\n",
       "Prob(Omnibus):                  0.000   Jarque-Bera (JB):              280.240\n",
       "Skew:                           0.222   Prob(JB):                     1.40e-61\n",
       "Kurtosis:                       3.475   Cond. No.                         17.9\n",
       "==============================================================================\n",
       "\n",
       "Warnings:\n",
       "[1] Standard Errors assume that the covariance matrix of the errors is correctly specified.\n",
       "\"\"\""
      ]
     },
     "execution_count": 127,
     "metadata": {},
     "output_type": "execute_result"
    }
   ],
   "source": [
    "model = sm.OLS(y,X).fit()\n",
    "model.summary()"
   ]
  },
  {
   "cell_type": "code",
   "execution_count": 128,
   "metadata": {},
   "outputs": [
    {
     "name": "stdout",
     "output_type": "stream",
     "text": [
      "8 8\n",
      "['bedrooms', 'bathrooms', 'sqft_living', 'sqft_lot', 'distance_from_a_city']\n"
     ]
    },
    {
     "data": {
      "text/html": [
       "<div>\n",
       "<style scoped>\n",
       "    .dataframe tbody tr th:only-of-type {\n",
       "        vertical-align: middle;\n",
       "    }\n",
       "\n",
       "    .dataframe tbody tr th {\n",
       "        vertical-align: top;\n",
       "    }\n",
       "\n",
       "    .dataframe thead th {\n",
       "        text-align: right;\n",
       "    }\n",
       "</style>\n",
       "<table border=\"1\" class=\"dataframe\">\n",
       "  <thead>\n",
       "    <tr style=\"text-align: right;\">\n",
       "      <th></th>\n",
       "      <th>coef</th>\n",
       "      <th>std err</th>\n",
       "      <th>t</th>\n",
       "      <th>P&gt;|t|</th>\n",
       "      <th>[0.025</th>\n",
       "      <th>0.975]</th>\n",
       "    </tr>\n",
       "    <tr>\n",
       "      <th></th>\n",
       "      <th></th>\n",
       "      <th></th>\n",
       "      <th></th>\n",
       "      <th></th>\n",
       "      <th></th>\n",
       "      <th></th>\n",
       "    </tr>\n",
       "  </thead>\n",
       "  <tbody>\n",
       "    <tr>\n",
       "      <td>bedrooms</td>\n",
       "      <td>-1.243e+04</td>\n",
       "      <td>941.225</td>\n",
       "      <td>-13.205</td>\n",
       "      <td>0.0</td>\n",
       "      <td>-1.43e+04</td>\n",
       "      <td>-1.06e+04</td>\n",
       "    </tr>\n",
       "    <tr>\n",
       "      <td>bathrooms</td>\n",
       "      <td>8528.5249</td>\n",
       "      <td>1242.428</td>\n",
       "      <td>6.864</td>\n",
       "      <td>0.0</td>\n",
       "      <td>6093.225</td>\n",
       "      <td>1.1e+04</td>\n",
       "    </tr>\n",
       "    <tr>\n",
       "      <td>sqft_living</td>\n",
       "      <td>6.008e+04</td>\n",
       "      <td>1291.313</td>\n",
       "      <td>46.529</td>\n",
       "      <td>0.0</td>\n",
       "      <td>5.76e+04</td>\n",
       "      <td>6.26e+04</td>\n",
       "    </tr>\n",
       "    <tr>\n",
       "      <td>sqft_lot</td>\n",
       "      <td>2.291e+04</td>\n",
       "      <td>972.894</td>\n",
       "      <td>23.553</td>\n",
       "      <td>0.0</td>\n",
       "      <td>2.1e+04</td>\n",
       "      <td>2.48e+04</td>\n",
       "    </tr>\n",
       "    <tr>\n",
       "      <td>distance_from_a_city</td>\n",
       "      <td>-8.988e+04</td>\n",
       "      <td>900.415</td>\n",
       "      <td>-99.824</td>\n",
       "      <td>0.0</td>\n",
       "      <td>-9.16e+04</td>\n",
       "      <td>-8.81e+04</td>\n",
       "    </tr>\n",
       "  </tbody>\n",
       "</table>\n",
       "</div>"
      ],
      "text/plain": [
       "0                           coef    std err          t  P>|t|     [0.025  \\\n",
       "                                                                           \n",
       "bedrooms              -1.243e+04    941.225    -13.205    0.0  -1.43e+04   \n",
       "bathrooms              8528.5249   1242.428      6.864    0.0   6093.225   \n",
       "sqft_living            6.008e+04   1291.313     46.529    0.0   5.76e+04   \n",
       "sqft_lot               2.291e+04    972.894     23.553    0.0    2.1e+04   \n",
       "distance_from_a_city  -8.988e+04    900.415    -99.824    0.0  -9.16e+04   \n",
       "\n",
       "0                        0.975]  \n",
       "                                 \n",
       "bedrooms              -1.06e+04  \n",
       "bathrooms               1.1e+04  \n",
       "sqft_living            6.26e+04  \n",
       "sqft_lot               2.48e+04  \n",
       "distance_from_a_city  -8.81e+04  "
      ]
     },
     "execution_count": 128,
     "metadata": {},
     "output_type": "execute_result"
    }
   ],
   "source": [
    "summary = model.summary()\n",
    "p_table = summary.tables[1]\n",
    "p_table = pd.DataFrame(p_table.data)\n",
    "p_table.columns = p_table.iloc[0]\n",
    "p_table = p_table.drop(0)\n",
    "p_table = p_table.set_index(p_table.columns[0])\n",
    "p_table['P>|t|'] = p_table['P>|t|'].astype(float)\n",
    "x_cols = list(p_table[p_table['P>|t|'] < 0.05].index)\n",
    "print(len(p_table), len(x_cols))\n",
    "print(x_cols[:5])\n",
    "p_table.head()"
   ]
  },
  {
   "cell_type": "code",
   "execution_count": 129,
   "metadata": {},
   "outputs": [
    {
     "data": {
      "text/html": [
       "<table class=\"simpletable\">\n",
       "<caption>OLS Regression Results</caption>\n",
       "<tr>\n",
       "  <th>Dep. Variable:</th>          <td>price</td>      <th>  R-squared (uncentered):</th>       <td>   0.958</td>  \n",
       "</tr>\n",
       "<tr>\n",
       "  <th>Model:</th>                   <td>OLS</td>       <th>  Adj. R-squared (uncentered):</th>  <td>   0.958</td>  \n",
       "</tr>\n",
       "<tr>\n",
       "  <th>Method:</th>             <td>Least Squares</td>  <th>  F-statistic:       </th>           <td>4.552e+04</td> \n",
       "</tr>\n",
       "<tr>\n",
       "  <th>Date:</th>             <td>Thu, 04 Jun 2020</td> <th>  Prob (F-statistic):</th>            <td>  0.00</td>   \n",
       "</tr>\n",
       "<tr>\n",
       "  <th>Time:</th>                 <td>14:21:07</td>     <th>  Log-Likelihood:    </th>          <td>-2.0470e+05</td>\n",
       "</tr>\n",
       "<tr>\n",
       "  <th>No. Observations:</th>      <td> 15927</td>      <th>  AIC:               </th>           <td>4.094e+05</td> \n",
       "</tr>\n",
       "<tr>\n",
       "  <th>Df Residuals:</th>          <td> 15919</td>      <th>  BIC:               </th>           <td>4.095e+05</td> \n",
       "</tr>\n",
       "<tr>\n",
       "  <th>Df Model:</th>              <td>     8</td>      <th>                     </th>               <td> </td>     \n",
       "</tr>\n",
       "<tr>\n",
       "  <th>Covariance Type:</th>      <td>nonrobust</td>    <th>                     </th>               <td> </td>     \n",
       "</tr>\n",
       "</table>\n",
       "<table class=\"simpletable\">\n",
       "<tr>\n",
       "            <td></td>               <th>coef</th>     <th>std err</th>      <th>t</th>      <th>P>|t|</th>  <th>[0.025</th>    <th>0.975]</th>  \n",
       "</tr>\n",
       "<tr>\n",
       "  <th>bedrooms</th>              <td>-1.243e+04</td> <td>  941.225</td> <td>  -13.205</td> <td> 0.000</td> <td>-1.43e+04</td> <td>-1.06e+04</td>\n",
       "</tr>\n",
       "<tr>\n",
       "  <th>bathrooms</th>             <td> 8528.5249</td> <td> 1242.428</td> <td>    6.864</td> <td> 0.000</td> <td> 6093.225</td> <td>  1.1e+04</td>\n",
       "</tr>\n",
       "<tr>\n",
       "  <th>sqft_living</th>           <td> 6.008e+04</td> <td> 1291.313</td> <td>   46.529</td> <td> 0.000</td> <td> 5.76e+04</td> <td> 6.26e+04</td>\n",
       "</tr>\n",
       "<tr>\n",
       "  <th>sqft_lot</th>              <td> 2.291e+04</td> <td>  972.894</td> <td>   23.553</td> <td> 0.000</td> <td>  2.1e+04</td> <td> 2.48e+04</td>\n",
       "</tr>\n",
       "<tr>\n",
       "  <th>distance_from_a_city</th>  <td>-8.988e+04</td> <td>  900.415</td> <td>  -99.824</td> <td> 0.000</td> <td>-9.16e+04</td> <td>-8.81e+04</td>\n",
       "</tr>\n",
       "<tr>\n",
       "  <th>Years_last_renovation</th> <td> 1.077e+04</td> <td> 1061.430</td> <td>   10.143</td> <td> 0.000</td> <td> 8685.812</td> <td> 1.28e+04</td>\n",
       "</tr>\n",
       "<tr>\n",
       "  <th>basement</th>              <td>-1.455e+04</td> <td> 1651.310</td> <td>   -8.810</td> <td> 0.000</td> <td>-1.78e+04</td> <td>-1.13e+04</td>\n",
       "</tr>\n",
       "<tr>\n",
       "  <th>grade</th>                 <td> 5.879e+04</td> <td>  127.285</td> <td>  461.899</td> <td> 0.000</td> <td> 5.85e+04</td> <td>  5.9e+04</td>\n",
       "</tr>\n",
       "</table>\n",
       "<table class=\"simpletable\">\n",
       "<tr>\n",
       "  <th>Omnibus:</th>       <td>227.483</td> <th>  Durbin-Watson:     </th> <td>   2.000</td>\n",
       "</tr>\n",
       "<tr>\n",
       "  <th>Prob(Omnibus):</th> <td> 0.000</td>  <th>  Jarque-Bera (JB):  </th> <td> 280.240</td>\n",
       "</tr>\n",
       "<tr>\n",
       "  <th>Skew:</th>          <td> 0.222</td>  <th>  Prob(JB):          </th> <td>1.40e-61</td>\n",
       "</tr>\n",
       "<tr>\n",
       "  <th>Kurtosis:</th>      <td> 3.475</td>  <th>  Cond. No.          </th> <td>    17.9</td>\n",
       "</tr>\n",
       "</table><br/><br/>Warnings:<br/>[1] Standard Errors assume that the covariance matrix of the errors is correctly specified."
      ],
      "text/plain": [
       "<class 'statsmodels.iolib.summary.Summary'>\n",
       "\"\"\"\n",
       "                                 OLS Regression Results                                \n",
       "=======================================================================================\n",
       "Dep. Variable:                  price   R-squared (uncentered):                   0.958\n",
       "Model:                            OLS   Adj. R-squared (uncentered):              0.958\n",
       "Method:                 Least Squares   F-statistic:                          4.552e+04\n",
       "Date:                Thu, 04 Jun 2020   Prob (F-statistic):                        0.00\n",
       "Time:                        14:21:07   Log-Likelihood:                     -2.0470e+05\n",
       "No. Observations:               15927   AIC:                                  4.094e+05\n",
       "Df Residuals:                   15919   BIC:                                  4.095e+05\n",
       "Df Model:                           8                                                  \n",
       "Covariance Type:            nonrobust                                                  \n",
       "=========================================================================================\n",
       "                            coef    std err          t      P>|t|      [0.025      0.975]\n",
       "-----------------------------------------------------------------------------------------\n",
       "bedrooms              -1.243e+04    941.225    -13.205      0.000   -1.43e+04   -1.06e+04\n",
       "bathrooms              8528.5249   1242.428      6.864      0.000    6093.225     1.1e+04\n",
       "sqft_living            6.008e+04   1291.313     46.529      0.000    5.76e+04    6.26e+04\n",
       "sqft_lot               2.291e+04    972.894     23.553      0.000     2.1e+04    2.48e+04\n",
       "distance_from_a_city  -8.988e+04    900.415    -99.824      0.000   -9.16e+04   -8.81e+04\n",
       "Years_last_renovation  1.077e+04   1061.430     10.143      0.000    8685.812    1.28e+04\n",
       "basement              -1.455e+04   1651.310     -8.810      0.000   -1.78e+04   -1.13e+04\n",
       "grade                  5.879e+04    127.285    461.899      0.000    5.85e+04     5.9e+04\n",
       "==============================================================================\n",
       "Omnibus:                      227.483   Durbin-Watson:                   2.000\n",
       "Prob(Omnibus):                  0.000   Jarque-Bera (JB):              280.240\n",
       "Skew:                           0.222   Prob(JB):                     1.40e-61\n",
       "Kurtosis:                       3.475   Cond. No.                         17.9\n",
       "==============================================================================\n",
       "\n",
       "Warnings:\n",
       "[1] Standard Errors assume that the covariance matrix of the errors is correctly specified.\n",
       "\"\"\""
      ]
     },
     "execution_count": 129,
     "metadata": {},
     "output_type": "execute_result"
    }
   ],
   "source": [
    "X = df[x_cols]\n",
    "y= df['price']\n",
    "model = sm.OLS(y,X).fit()\n",
    "model.summary()"
   ]
  },
  {
   "cell_type": "code",
   "execution_count": 130,
   "metadata": {},
   "outputs": [
    {
     "data": {
      "text/plain": [
       "[('bedrooms', 1.6450172856064427),\n",
       " ('bathrooms', 2.8295746817744307),\n",
       " ('sqft_living', 3.0004263705587033),\n",
       " ('sqft_lot', 1.7520940522891593),\n",
       " ('distance_from_a_city', 1.4995512009322076),\n",
       " ('Years_last_renovation', 2.081346467052619),\n",
       " ('basement', 1.8353579298231657),\n",
       " ('grade', 1.6668984918881995)]"
      ]
     },
     "execution_count": 130,
     "metadata": {},
     "output_type": "execute_result"
    }
   ],
   "source": [
    "# Your code here - Code a way to identify multicollinearity\n",
    "from statsmodels.stats.outliers_influence import variance_inflation_factor\n",
    "X = df[x_cols]\n",
    "vif = [variance_inflation_factor(X.values,i) for i in range(X.shape[1])]\n",
    "list(zip(x_cols,vif))"
   ]
  },
  {
   "cell_type": "code",
   "execution_count": 131,
   "metadata": {},
   "outputs": [
    {
     "name": "stdout",
     "output_type": "stream",
     "text": [
      "8 8\n"
     ]
    }
   ],
   "source": [
    "vif_scores = list(zip(x_cols, vif))\n",
    "x_cols = [x for x,vif in vif_scores if vif < 5]\n",
    "print(len(vif_scores), len(x_cols))"
   ]
  },
  {
   "cell_type": "code",
   "execution_count": 132,
   "metadata": {},
   "outputs": [
    {
     "data": {
      "text/html": [
       "<table class=\"simpletable\">\n",
       "<caption>OLS Regression Results</caption>\n",
       "<tr>\n",
       "  <th>Dep. Variable:</th>          <td>price</td>      <th>  R-squared (uncentered):</th>       <td>   0.958</td>  \n",
       "</tr>\n",
       "<tr>\n",
       "  <th>Model:</th>                   <td>OLS</td>       <th>  Adj. R-squared (uncentered):</th>  <td>   0.958</td>  \n",
       "</tr>\n",
       "<tr>\n",
       "  <th>Method:</th>             <td>Least Squares</td>  <th>  F-statistic:       </th>           <td>4.552e+04</td> \n",
       "</tr>\n",
       "<tr>\n",
       "  <th>Date:</th>             <td>Thu, 04 Jun 2020</td> <th>  Prob (F-statistic):</th>            <td>  0.00</td>   \n",
       "</tr>\n",
       "<tr>\n",
       "  <th>Time:</th>                 <td>14:21:10</td>     <th>  Log-Likelihood:    </th>          <td>-2.0470e+05</td>\n",
       "</tr>\n",
       "<tr>\n",
       "  <th>No. Observations:</th>      <td> 15927</td>      <th>  AIC:               </th>           <td>4.094e+05</td> \n",
       "</tr>\n",
       "<tr>\n",
       "  <th>Df Residuals:</th>          <td> 15919</td>      <th>  BIC:               </th>           <td>4.095e+05</td> \n",
       "</tr>\n",
       "<tr>\n",
       "  <th>Df Model:</th>              <td>     8</td>      <th>                     </th>               <td> </td>     \n",
       "</tr>\n",
       "<tr>\n",
       "  <th>Covariance Type:</th>      <td>nonrobust</td>    <th>                     </th>               <td> </td>     \n",
       "</tr>\n",
       "</table>\n",
       "<table class=\"simpletable\">\n",
       "<tr>\n",
       "            <td></td>               <th>coef</th>     <th>std err</th>      <th>t</th>      <th>P>|t|</th>  <th>[0.025</th>    <th>0.975]</th>  \n",
       "</tr>\n",
       "<tr>\n",
       "  <th>bedrooms</th>              <td>-1.243e+04</td> <td>  941.225</td> <td>  -13.205</td> <td> 0.000</td> <td>-1.43e+04</td> <td>-1.06e+04</td>\n",
       "</tr>\n",
       "<tr>\n",
       "  <th>bathrooms</th>             <td> 8528.5249</td> <td> 1242.428</td> <td>    6.864</td> <td> 0.000</td> <td> 6093.225</td> <td>  1.1e+04</td>\n",
       "</tr>\n",
       "<tr>\n",
       "  <th>sqft_living</th>           <td> 6.008e+04</td> <td> 1291.313</td> <td>   46.529</td> <td> 0.000</td> <td> 5.76e+04</td> <td> 6.26e+04</td>\n",
       "</tr>\n",
       "<tr>\n",
       "  <th>sqft_lot</th>              <td> 2.291e+04</td> <td>  972.894</td> <td>   23.553</td> <td> 0.000</td> <td>  2.1e+04</td> <td> 2.48e+04</td>\n",
       "</tr>\n",
       "<tr>\n",
       "  <th>distance_from_a_city</th>  <td>-8.988e+04</td> <td>  900.415</td> <td>  -99.824</td> <td> 0.000</td> <td>-9.16e+04</td> <td>-8.81e+04</td>\n",
       "</tr>\n",
       "<tr>\n",
       "  <th>Years_last_renovation</th> <td> 1.077e+04</td> <td> 1061.430</td> <td>   10.143</td> <td> 0.000</td> <td> 8685.812</td> <td> 1.28e+04</td>\n",
       "</tr>\n",
       "<tr>\n",
       "  <th>basement</th>              <td>-1.455e+04</td> <td> 1651.310</td> <td>   -8.810</td> <td> 0.000</td> <td>-1.78e+04</td> <td>-1.13e+04</td>\n",
       "</tr>\n",
       "<tr>\n",
       "  <th>grade</th>                 <td> 5.879e+04</td> <td>  127.285</td> <td>  461.899</td> <td> 0.000</td> <td> 5.85e+04</td> <td>  5.9e+04</td>\n",
       "</tr>\n",
       "</table>\n",
       "<table class=\"simpletable\">\n",
       "<tr>\n",
       "  <th>Omnibus:</th>       <td>227.483</td> <th>  Durbin-Watson:     </th> <td>   2.000</td>\n",
       "</tr>\n",
       "<tr>\n",
       "  <th>Prob(Omnibus):</th> <td> 0.000</td>  <th>  Jarque-Bera (JB):  </th> <td> 280.240</td>\n",
       "</tr>\n",
       "<tr>\n",
       "  <th>Skew:</th>          <td> 0.222</td>  <th>  Prob(JB):          </th> <td>1.40e-61</td>\n",
       "</tr>\n",
       "<tr>\n",
       "  <th>Kurtosis:</th>      <td> 3.475</td>  <th>  Cond. No.          </th> <td>    17.9</td>\n",
       "</tr>\n",
       "</table><br/><br/>Warnings:<br/>[1] Standard Errors assume that the covariance matrix of the errors is correctly specified."
      ],
      "text/plain": [
       "<class 'statsmodels.iolib.summary.Summary'>\n",
       "\"\"\"\n",
       "                                 OLS Regression Results                                \n",
       "=======================================================================================\n",
       "Dep. Variable:                  price   R-squared (uncentered):                   0.958\n",
       "Model:                            OLS   Adj. R-squared (uncentered):              0.958\n",
       "Method:                 Least Squares   F-statistic:                          4.552e+04\n",
       "Date:                Thu, 04 Jun 2020   Prob (F-statistic):                        0.00\n",
       "Time:                        14:21:10   Log-Likelihood:                     -2.0470e+05\n",
       "No. Observations:               15927   AIC:                                  4.094e+05\n",
       "Df Residuals:                   15919   BIC:                                  4.095e+05\n",
       "Df Model:                           8                                                  \n",
       "Covariance Type:            nonrobust                                                  \n",
       "=========================================================================================\n",
       "                            coef    std err          t      P>|t|      [0.025      0.975]\n",
       "-----------------------------------------------------------------------------------------\n",
       "bedrooms              -1.243e+04    941.225    -13.205      0.000   -1.43e+04   -1.06e+04\n",
       "bathrooms              8528.5249   1242.428      6.864      0.000    6093.225     1.1e+04\n",
       "sqft_living            6.008e+04   1291.313     46.529      0.000    5.76e+04    6.26e+04\n",
       "sqft_lot               2.291e+04    972.894     23.553      0.000     2.1e+04    2.48e+04\n",
       "distance_from_a_city  -8.988e+04    900.415    -99.824      0.000   -9.16e+04   -8.81e+04\n",
       "Years_last_renovation  1.077e+04   1061.430     10.143      0.000    8685.812    1.28e+04\n",
       "basement              -1.455e+04   1651.310     -8.810      0.000   -1.78e+04   -1.13e+04\n",
       "grade                  5.879e+04    127.285    461.899      0.000    5.85e+04     5.9e+04\n",
       "==============================================================================\n",
       "Omnibus:                      227.483   Durbin-Watson:                   2.000\n",
       "Prob(Omnibus):                  0.000   Jarque-Bera (JB):              280.240\n",
       "Skew:                           0.222   Prob(JB):                     1.40e-61\n",
       "Kurtosis:                       3.475   Cond. No.                         17.9\n",
       "==============================================================================\n",
       "\n",
       "Warnings:\n",
       "[1] Standard Errors assume that the covariance matrix of the errors is correctly specified.\n",
       "\"\"\""
      ]
     },
     "execution_count": 132,
     "metadata": {},
     "output_type": "execute_result"
    }
   ],
   "source": [
    "X = df[x_cols]\n",
    "y= df['price']\n",
    "model = sm.OLS(y,X).fit()\n",
    "model.summary()"
   ]
  },
  {
   "cell_type": "code",
   "execution_count": 133,
   "metadata": {},
   "outputs": [
    {
     "data": {
      "image/png": "[encoded data removed]",
      "text/plain": [
       "<Figure size 432x288 with 1 Axes>"
      ]
     },
     "metadata": {},
     "output_type": "display_data"
    }
   ],
   "source": [
    "fig = sm.graphics.qqplot(model.resid, dist=scs.norm, line='45', fit=True)\n"
   ]
  },
  {
   "cell_type": "code",
   "execution_count": 134,
   "metadata": {},
   "outputs": [
    {
     "data": {
      "text/plain": [
       "[<matplotlib.lines.Line2D at 0x1c257b36a0>]"
      ]
     },
     "execution_count": 134,
     "metadata": {},
     "output_type": "execute_result"
    },
    {
     "data": {
      "image/png": "[encoded data removed]",
      "text/plain": [
       "<Figure size 432x288 with 1 Axes>"
      ]
     },
     "metadata": {},
     "output_type": "display_data"
    }
   ],
   "source": [
    "plt.scatter(model.predict(X), model.resid)\n",
    "plt.plot(model.predict(X), [0 for i in range(len(df))])"
   ]
  },
  {
   "cell_type": "code",
   "execution_count": 135,
   "metadata": {},
   "outputs": [
    {
     "name": "stdout",
     "output_type": "stream",
     "text": [
      "0.8 percentile: 570000.0\n",
      "0.81 percentile: 575000.0\n",
      "0.82 percentile: 582595.9999999999\n",
      "0.83 percentile: 590000.0\n",
      "0.84 percentile: 599778.8800000001\n",
      "0.85 percentile: 605000.0\n",
      "0.86 percentile: 612500.0\n",
      "0.87 percentile: 621500.0\n",
      "0.88 percentile: 630000.0\n",
      "0.89 percentile: 639954.62\n",
      "0.9 percentile: 650000.0\n",
      "0.91 percentile: 655066.0\n",
      "0.92 percentile: 667000.0\n",
      "0.93 percentile: 677000.0\n",
      "0.94 percentile: 689631.9999999997\n",
      "0.95 percentile: 700000.0\n",
      "0.96 percentile: 710000.0\n",
      "0.97 percentile: 722500.0\n",
      "0.98 percentile: 734000.0\n",
      "0.99 percentile: 749474.0\n"
     ]
    },
    {
     "data": {
      "text/plain": [
       "<matplotlib.axes._subplots.AxesSubplot at 0x1c205775f8>"
      ]
     },
     "execution_count": 135,
     "metadata": {},
     "output_type": "execute_result"
    },
    {
     "data": {
      "image/png": "[encoded data removed]",
      "text/plain": [
       "<Figure size 432x288 with 1 Axes>"
      ]
     },
     "metadata": {},
     "output_type": "display_data"
    }
   ],
   "source": [
    "for i in range(80,100):\n",
    "    q = i/100\n",
    "    print(\"{} percentile: {}\".format(q, df.price.quantile(q=q)))\n",
    "\n",
    "df.price.hist()"
   ]
  },
  {
   "cell_type": "code",
   "execution_count": 136,
   "metadata": {},
   "outputs": [],
   "source": [
    "df = df[df.price <= 725000.0]\n"
   ]
  },
  {
   "cell_type": "code",
   "execution_count": 137,
   "metadata": {},
   "outputs": [
    {
     "data": {
      "text/html": [
       "<table class=\"simpletable\">\n",
       "<caption>OLS Regression Results</caption>\n",
       "<tr>\n",
       "  <th>Dep. Variable:</th>          <td>price</td>      <th>  R-squared (uncentered):</th>       <td>   0.958</td>  \n",
       "</tr>\n",
       "<tr>\n",
       "  <th>Model:</th>                   <td>OLS</td>       <th>  Adj. R-squared (uncentered):</th>  <td>   0.958</td>  \n",
       "</tr>\n",
       "<tr>\n",
       "  <th>Method:</th>             <td>Least Squares</td>  <th>  F-statistic:       </th>           <td>4.453e+04</td> \n",
       "</tr>\n",
       "<tr>\n",
       "  <th>Date:</th>             <td>Thu, 04 Jun 2020</td> <th>  Prob (F-statistic):</th>            <td>  0.00</td>   \n",
       "</tr>\n",
       "<tr>\n",
       "  <th>Time:</th>                 <td>14:21:24</td>     <th>  Log-Likelihood:    </th>          <td>-1.9905e+05</td>\n",
       "</tr>\n",
       "<tr>\n",
       "  <th>No. Observations:</th>      <td> 15517</td>      <th>  AIC:               </th>           <td>3.981e+05</td> \n",
       "</tr>\n",
       "<tr>\n",
       "  <th>Df Residuals:</th>          <td> 15509</td>      <th>  BIC:               </th>           <td>3.982e+05</td> \n",
       "</tr>\n",
       "<tr>\n",
       "  <th>Df Model:</th>              <td>     8</td>      <th>                     </th>               <td> </td>     \n",
       "</tr>\n",
       "<tr>\n",
       "  <th>Covariance Type:</th>      <td>nonrobust</td>    <th>                     </th>               <td> </td>     \n",
       "</tr>\n",
       "</table>\n",
       "<table class=\"simpletable\">\n",
       "<tr>\n",
       "            <td></td>               <th>coef</th>     <th>std err</th>      <th>t</th>      <th>P>|t|</th>  <th>[0.025</th>    <th>0.975]</th>  \n",
       "</tr>\n",
       "<tr>\n",
       "  <th>bedrooms</th>              <td>-1.199e+04</td> <td>  932.750</td> <td>  -12.860</td> <td> 0.000</td> <td>-1.38e+04</td> <td>-1.02e+04</td>\n",
       "</tr>\n",
       "<tr>\n",
       "  <th>bathrooms</th>             <td> 8825.5877</td> <td> 1231.514</td> <td>    7.166</td> <td> 0.000</td> <td> 6411.676</td> <td> 1.12e+04</td>\n",
       "</tr>\n",
       "<tr>\n",
       "  <th>sqft_living</th>           <td> 5.605e+04</td> <td> 1282.912</td> <td>   43.691</td> <td> 0.000</td> <td> 5.35e+04</td> <td> 5.86e+04</td>\n",
       "</tr>\n",
       "<tr>\n",
       "  <th>sqft_lot</th>              <td>  2.23e+04</td> <td>  966.016</td> <td>   23.083</td> <td> 0.000</td> <td> 2.04e+04</td> <td> 2.42e+04</td>\n",
       "</tr>\n",
       "<tr>\n",
       "  <th>distance_from_a_city</th>  <td>-8.672e+04</td> <td>  896.825</td> <td>  -96.691</td> <td> 0.000</td> <td>-8.85e+04</td> <td> -8.5e+04</td>\n",
       "</tr>\n",
       "<tr>\n",
       "  <th>Years_last_renovation</th> <td> 1.065e+04</td> <td> 1058.196</td> <td>   10.067</td> <td> 0.000</td> <td> 8578.169</td> <td> 1.27e+04</td>\n",
       "</tr>\n",
       "<tr>\n",
       "  <th>basement</th>              <td>-1.245e+04</td> <td> 1635.267</td> <td>   -7.615</td> <td> 0.000</td> <td>-1.57e+04</td> <td>-9247.137</td>\n",
       "</tr>\n",
       "<tr>\n",
       "  <th>grade</th>                 <td> 5.817e+04</td> <td>  126.886</td> <td>  458.445</td> <td> 0.000</td> <td> 5.79e+04</td> <td> 5.84e+04</td>\n",
       "</tr>\n",
       "</table>\n",
       "<table class=\"simpletable\">\n",
       "<tr>\n",
       "  <th>Omnibus:</th>       <td>208.658</td> <th>  Durbin-Watson:     </th> <td>   2.002</td>\n",
       "</tr>\n",
       "<tr>\n",
       "  <th>Prob(Omnibus):</th> <td> 0.000</td>  <th>  Jarque-Bera (JB):  </th> <td> 256.994</td>\n",
       "</tr>\n",
       "<tr>\n",
       "  <th>Skew:</th>          <td> 0.213</td>  <th>  Prob(JB):          </th> <td>1.56e-56</td>\n",
       "</tr>\n",
       "<tr>\n",
       "  <th>Kurtosis:</th>      <td> 3.465</td>  <th>  Cond. No.          </th> <td>    17.9</td>\n",
       "</tr>\n",
       "</table><br/><br/>Warnings:<br/>[1] Standard Errors assume that the covariance matrix of the errors is correctly specified."
      ],
      "text/plain": [
       "<class 'statsmodels.iolib.summary.Summary'>\n",
       "\"\"\"\n",
       "                                 OLS Regression Results                                \n",
       "=======================================================================================\n",
       "Dep. Variable:                  price   R-squared (uncentered):                   0.958\n",
       "Model:                            OLS   Adj. R-squared (uncentered):              0.958\n",
       "Method:                 Least Squares   F-statistic:                          4.453e+04\n",
       "Date:                Thu, 04 Jun 2020   Prob (F-statistic):                        0.00\n",
       "Time:                        14:21:24   Log-Likelihood:                     -1.9905e+05\n",
       "No. Observations:               15517   AIC:                                  3.981e+05\n",
       "Df Residuals:                   15509   BIC:                                  3.982e+05\n",
       "Df Model:                           8                                                  \n",
       "Covariance Type:            nonrobust                                                  \n",
       "=========================================================================================\n",
       "                            coef    std err          t      P>|t|      [0.025      0.975]\n",
       "-----------------------------------------------------------------------------------------\n",
       "bedrooms              -1.199e+04    932.750    -12.860      0.000   -1.38e+04   -1.02e+04\n",
       "bathrooms              8825.5877   1231.514      7.166      0.000    6411.676    1.12e+04\n",
       "sqft_living            5.605e+04   1282.912     43.691      0.000    5.35e+04    5.86e+04\n",
       "sqft_lot                2.23e+04    966.016     23.083      0.000    2.04e+04    2.42e+04\n",
       "distance_from_a_city  -8.672e+04    896.825    -96.691      0.000   -8.85e+04    -8.5e+04\n",
       "Years_last_renovation  1.065e+04   1058.196     10.067      0.000    8578.169    1.27e+04\n",
       "basement              -1.245e+04   1635.267     -7.615      0.000   -1.57e+04   -9247.137\n",
       "grade                  5.817e+04    126.886    458.445      0.000    5.79e+04    5.84e+04\n",
       "==============================================================================\n",
       "Omnibus:                      208.658   Durbin-Watson:                   2.002\n",
       "Prob(Omnibus):                  0.000   Jarque-Bera (JB):              256.994\n",
       "Skew:                           0.213   Prob(JB):                     1.56e-56\n",
       "Kurtosis:                       3.465   Cond. No.                         17.9\n",
       "==============================================================================\n",
       "\n",
       "Warnings:\n",
       "[1] Standard Errors assume that the covariance matrix of the errors is correctly specified.\n",
       "\"\"\""
      ]
     },
     "execution_count": 137,
     "metadata": {},
     "output_type": "execute_result"
    }
   ],
   "source": [
    "X =df[x_cols]\n",
    "y=df['price']\n",
    "model = sm.OLS(y,X).fit()\n",
    "model.summary()"
   ]
  },
  {
   "cell_type": "code",
   "execution_count": 138,
   "metadata": {},
   "outputs": [
    {
     "name": "stdout",
     "output_type": "stream",
     "text": [
      "8 8\n",
      "['bedrooms', 'bathrooms', 'sqft_living', 'sqft_lot', 'distance_from_a_city']\n"
     ]
    },
    {
     "data": {
      "text/html": [
       "<div>\n",
       "<style scoped>\n",
       "    .dataframe tbody tr th:only-of-type {\n",
       "        vertical-align: middle;\n",
       "    }\n",
       "\n",
       "    .dataframe tbody tr th {\n",
       "        vertical-align: top;\n",
       "    }\n",
       "\n",
       "    .dataframe thead th {\n",
       "        text-align: right;\n",
       "    }\n",
       "</style>\n",
       "<table border=\"1\" class=\"dataframe\">\n",
       "  <thead>\n",
       "    <tr style=\"text-align: right;\">\n",
       "      <th></th>\n",
       "      <th>coef</th>\n",
       "      <th>std err</th>\n",
       "      <th>t</th>\n",
       "      <th>P&gt;|t|</th>\n",
       "      <th>[0.025</th>\n",
       "      <th>0.975]</th>\n",
       "    </tr>\n",
       "    <tr>\n",
       "      <th></th>\n",
       "      <th></th>\n",
       "      <th></th>\n",
       "      <th></th>\n",
       "      <th></th>\n",
       "      <th></th>\n",
       "      <th></th>\n",
       "    </tr>\n",
       "  </thead>\n",
       "  <tbody>\n",
       "    <tr>\n",
       "      <td>bedrooms</td>\n",
       "      <td>-1.199e+04</td>\n",
       "      <td>932.750</td>\n",
       "      <td>-12.860</td>\n",
       "      <td>0.0</td>\n",
       "      <td>-1.38e+04</td>\n",
       "      <td>-1.02e+04</td>\n",
       "    </tr>\n",
       "    <tr>\n",
       "      <td>bathrooms</td>\n",
       "      <td>8825.5877</td>\n",
       "      <td>1231.514</td>\n",
       "      <td>7.166</td>\n",
       "      <td>0.0</td>\n",
       "      <td>6411.676</td>\n",
       "      <td>1.12e+04</td>\n",
       "    </tr>\n",
       "    <tr>\n",
       "      <td>sqft_living</td>\n",
       "      <td>5.605e+04</td>\n",
       "      <td>1282.912</td>\n",
       "      <td>43.691</td>\n",
       "      <td>0.0</td>\n",
       "      <td>5.35e+04</td>\n",
       "      <td>5.86e+04</td>\n",
       "    </tr>\n",
       "    <tr>\n",
       "      <td>sqft_lot</td>\n",
       "      <td>2.23e+04</td>\n",
       "      <td>966.016</td>\n",
       "      <td>23.083</td>\n",
       "      <td>0.0</td>\n",
       "      <td>2.04e+04</td>\n",
       "      <td>2.42e+04</td>\n",
       "    </tr>\n",
       "    <tr>\n",
       "      <td>distance_from_a_city</td>\n",
       "      <td>-8.672e+04</td>\n",
       "      <td>896.825</td>\n",
       "      <td>-96.691</td>\n",
       "      <td>0.0</td>\n",
       "      <td>-8.85e+04</td>\n",
       "      <td>-8.5e+04</td>\n",
       "    </tr>\n",
       "  </tbody>\n",
       "</table>\n",
       "</div>"
      ],
      "text/plain": [
       "0                           coef    std err          t  P>|t|     [0.025  \\\n",
       "                                                                           \n",
       "bedrooms              -1.199e+04    932.750    -12.860    0.0  -1.38e+04   \n",
       "bathrooms              8825.5877   1231.514      7.166    0.0   6411.676   \n",
       "sqft_living            5.605e+04   1282.912     43.691    0.0   5.35e+04   \n",
       "sqft_lot                2.23e+04    966.016     23.083    0.0   2.04e+04   \n",
       "distance_from_a_city  -8.672e+04    896.825    -96.691    0.0  -8.85e+04   \n",
       "\n",
       "0                        0.975]  \n",
       "                                 \n",
       "bedrooms              -1.02e+04  \n",
       "bathrooms              1.12e+04  \n",
       "sqft_living            5.86e+04  \n",
       "sqft_lot               2.42e+04  \n",
       "distance_from_a_city   -8.5e+04  "
      ]
     },
     "execution_count": 138,
     "metadata": {},
     "output_type": "execute_result"
    }
   ],
   "source": [
    "summary = model.summary()\n",
    "p_table = summary.tables[1]\n",
    "p_table = pd.DataFrame(p_table.data)\n",
    "p_table.columns = p_table.iloc[0]\n",
    "p_table = p_table.drop(0)\n",
    "p_table = p_table.set_index(p_table.columns[0])\n",
    "p_table['P>|t|'] = p_table['P>|t|'].astype(float)\n",
    "x_cols = list(p_table[p_table['P>|t|'] < 0.05].index)\n",
    "print(len(p_table), len(x_cols))\n",
    "print(x_cols[:5])\n",
    "p_table.head()"
   ]
  },
  {
   "cell_type": "code",
   "execution_count": 139,
   "metadata": {},
   "outputs": [
    {
     "data": {
      "text/html": [
       "<table class=\"simpletable\">\n",
       "<caption>OLS Regression Results</caption>\n",
       "<tr>\n",
       "  <th>Dep. Variable:</th>          <td>price</td>      <th>  R-squared (uncentered):</th>       <td>   0.958</td>  \n",
       "</tr>\n",
       "<tr>\n",
       "  <th>Model:</th>                   <td>OLS</td>       <th>  Adj. R-squared (uncentered):</th>  <td>   0.958</td>  \n",
       "</tr>\n",
       "<tr>\n",
       "  <th>Method:</th>             <td>Least Squares</td>  <th>  F-statistic:       </th>           <td>4.453e+04</td> \n",
       "</tr>\n",
       "<tr>\n",
       "  <th>Date:</th>             <td>Thu, 04 Jun 2020</td> <th>  Prob (F-statistic):</th>            <td>  0.00</td>   \n",
       "</tr>\n",
       "<tr>\n",
       "  <th>Time:</th>                 <td>14:21:27</td>     <th>  Log-Likelihood:    </th>          <td>-1.9905e+05</td>\n",
       "</tr>\n",
       "<tr>\n",
       "  <th>No. Observations:</th>      <td> 15517</td>      <th>  AIC:               </th>           <td>3.981e+05</td> \n",
       "</tr>\n",
       "<tr>\n",
       "  <th>Df Residuals:</th>          <td> 15509</td>      <th>  BIC:               </th>           <td>3.982e+05</td> \n",
       "</tr>\n",
       "<tr>\n",
       "  <th>Df Model:</th>              <td>     8</td>      <th>                     </th>               <td> </td>     \n",
       "</tr>\n",
       "<tr>\n",
       "  <th>Covariance Type:</th>      <td>nonrobust</td>    <th>                     </th>               <td> </td>     \n",
       "</tr>\n",
       "</table>\n",
       "<table class=\"simpletable\">\n",
       "<tr>\n",
       "            <td></td>               <th>coef</th>     <th>std err</th>      <th>t</th>      <th>P>|t|</th>  <th>[0.025</th>    <th>0.975]</th>  \n",
       "</tr>\n",
       "<tr>\n",
       "  <th>bedrooms</th>              <td>-1.199e+04</td> <td>  932.750</td> <td>  -12.860</td> <td> 0.000</td> <td>-1.38e+04</td> <td>-1.02e+04</td>\n",
       "</tr>\n",
       "<tr>\n",
       "  <th>bathrooms</th>             <td> 8825.5877</td> <td> 1231.514</td> <td>    7.166</td> <td> 0.000</td> <td> 6411.676</td> <td> 1.12e+04</td>\n",
       "</tr>\n",
       "<tr>\n",
       "  <th>sqft_living</th>           <td> 5.605e+04</td> <td> 1282.912</td> <td>   43.691</td> <td> 0.000</td> <td> 5.35e+04</td> <td> 5.86e+04</td>\n",
       "</tr>\n",
       "<tr>\n",
       "  <th>sqft_lot</th>              <td>  2.23e+04</td> <td>  966.016</td> <td>   23.083</td> <td> 0.000</td> <td> 2.04e+04</td> <td> 2.42e+04</td>\n",
       "</tr>\n",
       "<tr>\n",
       "  <th>distance_from_a_city</th>  <td>-8.672e+04</td> <td>  896.825</td> <td>  -96.691</td> <td> 0.000</td> <td>-8.85e+04</td> <td> -8.5e+04</td>\n",
       "</tr>\n",
       "<tr>\n",
       "  <th>Years_last_renovation</th> <td> 1.065e+04</td> <td> 1058.196</td> <td>   10.067</td> <td> 0.000</td> <td> 8578.169</td> <td> 1.27e+04</td>\n",
       "</tr>\n",
       "<tr>\n",
       "  <th>basement</th>              <td>-1.245e+04</td> <td> 1635.267</td> <td>   -7.615</td> <td> 0.000</td> <td>-1.57e+04</td> <td>-9247.137</td>\n",
       "</tr>\n",
       "<tr>\n",
       "  <th>grade</th>                 <td> 5.817e+04</td> <td>  126.886</td> <td>  458.445</td> <td> 0.000</td> <td> 5.79e+04</td> <td> 5.84e+04</td>\n",
       "</tr>\n",
       "</table>\n",
       "<table class=\"simpletable\">\n",
       "<tr>\n",
       "  <th>Omnibus:</th>       <td>208.658</td> <th>  Durbin-Watson:     </th> <td>   2.002</td>\n",
       "</tr>\n",
       "<tr>\n",
       "  <th>Prob(Omnibus):</th> <td> 0.000</td>  <th>  Jarque-Bera (JB):  </th> <td> 256.994</td>\n",
       "</tr>\n",
       "<tr>\n",
       "  <th>Skew:</th>          <td> 0.213</td>  <th>  Prob(JB):          </th> <td>1.56e-56</td>\n",
       "</tr>\n",
       "<tr>\n",
       "  <th>Kurtosis:</th>      <td> 3.465</td>  <th>  Cond. No.          </th> <td>    17.9</td>\n",
       "</tr>\n",
       "</table><br/><br/>Warnings:<br/>[1] Standard Errors assume that the covariance matrix of the errors is correctly specified."
      ],
      "text/plain": [
       "<class 'statsmodels.iolib.summary.Summary'>\n",
       "\"\"\"\n",
       "                                 OLS Regression Results                                \n",
       "=======================================================================================\n",
       "Dep. Variable:                  price   R-squared (uncentered):                   0.958\n",
       "Model:                            OLS   Adj. R-squared (uncentered):              0.958\n",
       "Method:                 Least Squares   F-statistic:                          4.453e+04\n",
       "Date:                Thu, 04 Jun 2020   Prob (F-statistic):                        0.00\n",
       "Time:                        14:21:27   Log-Likelihood:                     -1.9905e+05\n",
       "No. Observations:               15517   AIC:                                  3.981e+05\n",
       "Df Residuals:                   15509   BIC:                                  3.982e+05\n",
       "Df Model:                           8                                                  \n",
       "Covariance Type:            nonrobust                                                  \n",
       "=========================================================================================\n",
       "                            coef    std err          t      P>|t|      [0.025      0.975]\n",
       "-----------------------------------------------------------------------------------------\n",
       "bedrooms              -1.199e+04    932.750    -12.860      0.000   -1.38e+04   -1.02e+04\n",
       "bathrooms              8825.5877   1231.514      7.166      0.000    6411.676    1.12e+04\n",
       "sqft_living            5.605e+04   1282.912     43.691      0.000    5.35e+04    5.86e+04\n",
       "sqft_lot                2.23e+04    966.016     23.083      0.000    2.04e+04    2.42e+04\n",
       "distance_from_a_city  -8.672e+04    896.825    -96.691      0.000   -8.85e+04    -8.5e+04\n",
       "Years_last_renovation  1.065e+04   1058.196     10.067      0.000    8578.169    1.27e+04\n",
       "basement              -1.245e+04   1635.267     -7.615      0.000   -1.57e+04   -9247.137\n",
       "grade                  5.817e+04    126.886    458.445      0.000    5.79e+04    5.84e+04\n",
       "==============================================================================\n",
       "Omnibus:                      208.658   Durbin-Watson:                   2.002\n",
       "Prob(Omnibus):                  0.000   Jarque-Bera (JB):              256.994\n",
       "Skew:                           0.213   Prob(JB):                     1.56e-56\n",
       "Kurtosis:                       3.465   Cond. No.                         17.9\n",
       "==============================================================================\n",
       "\n",
       "Warnings:\n",
       "[1] Standard Errors assume that the covariance matrix of the errors is correctly specified.\n",
       "\"\"\""
      ]
     },
     "execution_count": 139,
     "metadata": {},
     "output_type": "execute_result"
    }
   ],
   "source": [
    "X = df[x_cols]\n",
    "y= df['price']\n",
    "model = sm.OLS(y,X).fit()\n",
    "model.summary()"
   ]
  },
  {
   "cell_type": "code",
   "execution_count": 140,
   "metadata": {},
   "outputs": [
    {
     "data": {
      "image/png": "[encoded data removed]",
      "text/plain": [
       "<Figure size 432x288 with 1 Axes>"
      ]
     },
     "metadata": {},
     "output_type": "display_data"
    }
   ],
   "source": [
    "fig = sm.graphics.qqplot(model.resid, dist=scs.norm, line='45', fit=True)\n"
   ]
  },
  {
   "cell_type": "code",
   "execution_count": 141,
   "metadata": {},
   "outputs": [
    {
     "data": {
      "text/plain": [
       "[<matplotlib.lines.Line2D at 0x1c2075ac88>]"
      ]
     },
     "execution_count": 141,
     "metadata": {},
     "output_type": "execute_result"
    },
    {
     "data": {
      "image/png": "[encoded data removed]",
      "text/plain": [
       "<Figure size 432x288 with 1 Axes>"
      ]
     },
     "metadata": {},
     "output_type": "display_data"
    }
   ],
   "source": [
    "plt.scatter(model.predict(X), model.resid)\n",
    "plt.plot(model.predict(X), [0 for i in range(len(df))])"
   ]
  },
  {
   "cell_type": "code",
   "execution_count": null,
   "metadata": {},
   "outputs": [],
   "source": []
  },
  {
   "cell_type": "code",
   "execution_count": 142,
   "metadata": {},
   "outputs": [],
   "source": [
    "def plot_residuals(resids):\n",
    "    plt.hist(resids)\n",
    "    plt.title(\"Residuals\")\n",
    "    plt.show()\n",
    "    \n",
    "    xspace = np.linspace(0, 1, len(resids))\n",
    "    plt.scatter(xspace, resids)\n",
    "    plt.title(\"resids\")\n",
    "    plt.hlines(0, xmin=0, xmax=1)\n",
    "    plt.show()"
   ]
  },
  {
   "cell_type": "code",
   "execution_count": 143,
   "metadata": {},
   "outputs": [],
   "source": [
    "residuals = model.resid"
   ]
  },
  {
   "cell_type": "code",
   "execution_count": 144,
   "metadata": {},
   "outputs": [
    {
     "data": {
      "image/png": "[encoded data removed]",
      "text/plain": [
       "<Figure size 432x288 with 1 Axes>"
      ]
     },
     "metadata": {},
     "output_type": "display_data"
    },
    {
     "data": {
      "image/png": "[encoded data removed]",
      "text/plain": [
       "<Figure size 432x288 with 1 Axes>"
      ]
     },
     "metadata": {},
     "output_type": "display_data"
    }
   ],
   "source": [
    "plot_residuals(residuals)"
   ]
  },
  {
   "cell_type": "code",
   "execution_count": 145,
   "metadata": {},
   "outputs": [],
   "source": [
    "from sklearn.utils import shuffle\n",
    "from sklearn.linear_model import LinearRegression\n",
    "from sklearn.model_selection import train_test_split, cross_val_score\n",
    "from sklearn.preprocessing import StandardScaler\n",
    "from sklearn.feature_selection import RFE\n",
    "\n",
    "from sklearn.metrics import r2_score"
   ]
  },
  {
   "cell_type": "code",
   "execution_count": 146,
   "metadata": {},
   "outputs": [],
   "source": [
    "ols = LinearRegression(fit_intercept=False, normalize=False, n_jobs=-1)"
   ]
  },
  {
   "cell_type": "code",
   "execution_count": 147,
   "metadata": {},
   "outputs": [
    {
     "data": {
      "text/plain": [
       "(0.6074725914638851, 0.6055138237409842, 0.6053612090150637)"
      ]
     },
     "execution_count": 147,
     "metadata": {},
     "output_type": "execute_result"
    }
   ],
   "source": [
    "cv5_scores = np.mean(cross_val_score(ols, X, y, scoring='r2', cv=5, n_jobs=-1) )\n",
    "cv10_scores = np.mean(cross_val_score(ols, X, y, scoring='r2', cv=10, n_jobs=-1) )\n",
    "cv20_scores = np.mean(cross_val_score(ols, X, y, scoring='r2', cv=20, n_jobs=-1) )\n",
    "\n",
    "# cv breaks your data into that many equal pieces \n",
    "cv5_scores,cv10_scores,cv20_scores"
   ]
  },
  {
   "cell_type": "code",
   "execution_count": 148,
   "metadata": {},
   "outputs": [
    {
     "data": {
      "text/plain": [
       "(-71306.3042741306, -71299.0776217734, -71244.11545936056)"
      ]
     },
     "execution_count": 148,
     "metadata": {},
     "output_type": "execute_result"
    }
   ],
   "source": [
    "cv5mae_scores = np.mean(cross_val_score(ols, X, y, scoring='neg_mean_absolute_error', cv=5, n_jobs=-1) )\n",
    "cv10mae_scores = np.mean(cross_val_score(ols, X, y, scoring='neg_mean_absolute_error', cv=10, n_jobs=-1) )\n",
    "cv20mae_scores = np.mean(cross_val_score(ols, X, y, scoring='neg_mean_absolute_error', cv=20, n_jobs=-1) )\n",
    "\n",
    "# cv breaks your data into that many equal pieces \n",
    "cv5mae_scores,cv10mae_scores,cv20mae_scores"
   ]
  },
  {
   "cell_type": "code",
   "execution_count": 149,
   "metadata": {},
   "outputs": [
    {
     "data": {
      "text/plain": [
       "0.6098931697296941"
      ]
     },
     "execution_count": 149,
     "metadata": {},
     "output_type": "execute_result"
    }
   ],
   "source": [
    "X_shuff, y_shuff = shuffle(X, y)\n",
    "cv_scores = cross_val_score(ols, X_shuff, y_shuff, scoring='r2', cv=5, n_jobs=-1) \n",
    "cv_scores.mean()"
   ]
  },
  {
   "cell_type": "code",
   "execution_count": 150,
   "metadata": {},
   "outputs": [],
   "source": [
    "def make_ols_sklearn(X, y, test_size=0.20, fit_intercept=False, standardize=False):\n",
    "    X_train, X_test, y_train, y_test = train_test_split(X, y, test_size=test_size)\n",
    "    if standardize:\n",
    "        ss = StandardScaler()\n",
    "        ss.fit(X_train)\n",
    "        X_train = ss.transform(X_train)\n",
    "        X_test = ss.transform(X_test)\n",
    "    ols = LinearRegression(fit_intercept=fit_intercept, normalize=False)\n",
    "    ols.fit(X_train, y_train)\n",
    "    train_score = ols.score(X_train, y_train)\n",
    "    test_score = ols.score(X_test, y_test)\n",
    "    cv5_scores = np.mean(cross_val_score(ols, X, y, scoring='r2', cv=5, n_jobs=-1) )\n",
    "    cv10_scores = np.mean(cross_val_score(ols, X, y, scoring='r2', cv=10, n_jobs=-1) )\n",
    "    cvmse_5 = np.mean(cross_val_score(ols,X , y, cv=5, scoring='neg_mean_squared_error'))\n",
    "    cvmse_10 = np.mean(cross_val_score(ols,X, y, cv=10, scoring='neg_mean_squared_error'))\n",
    "    print(f\"train R2 score = {train_score}\")\n",
    "    print(f\"test R2 score = {test_score}\")\n",
    "    print(f\"cv5 R2 score = {cv5_scores}\")\n",
    "    print(f\"cv10 R2 score = {cv10_scores}\")\n",
    "    print(f\"cv5 MSE score = {cvmse_5}\")\n",
    "    print(f\"cv10  MSE score = {cvmse_10}\")\n",
    "\n",
    "    return ols"
   ]
  },
  {
   "cell_type": "code",
   "execution_count": 151,
   "metadata": {},
   "outputs": [
    {
     "name": "stdout",
     "output_type": "stream",
     "text": [
      "train R2 score = 0.6074100660744477\n",
      "test R2 score = 0.6238431533784394\n",
      "cv5 R2 score = 0.6074725914638851\n",
      "cv10 R2 score = 0.6055138237409842\n",
      "cv5 MSE score = -8161206396.693431\n",
      "cv10  MSE score = -8158423693.04926\n"
     ]
    },
    {
     "data": {
      "text/plain": [
       "LinearRegression(copy_X=True, fit_intercept=False, n_jobs=None, normalize=False)"
      ]
     },
     "execution_count": 151,
     "metadata": {},
     "output_type": "execute_result"
    }
   ],
   "source": [
    "make_ols_sklearn(X, y)"
   ]
  },
  {
   "cell_type": "code",
   "execution_count": 152,
   "metadata": {},
   "outputs": [
    {
     "name": "stdout",
     "output_type": "stream",
     "text": [
      "train R2 score = 0.6072641288930505\n",
      "test R2 score = 0.6246416604390106\n",
      "cv5 R2 score = 0.6074725914638851\n",
      "cv10 R2 score = 0.6055138237409842\n",
      "cv5 MSE score = -8161206396.693431\n",
      "cv10  MSE score = -8158423693.04926\n"
     ]
    },
    {
     "data": {
      "text/plain": [
       "LinearRegression(copy_X=True, fit_intercept=False, n_jobs=None, normalize=False)"
      ]
     },
     "execution_count": 152,
     "metadata": {},
     "output_type": "execute_result"
    }
   ],
   "source": [
    "make_ols_sklearn(X, y)"
   ]
  },
  {
   "cell_type": "code",
   "execution_count": 203,
   "metadata": {},
   "outputs": [],
   "source": [
    "residuals = model.resid"
   ]
  },
  {
   "cell_type": "code",
   "execution_count": 204,
   "metadata": {},
   "outputs": [],
   "source": [
    "resid = pd.DataFrame(df['price'])"
   ]
  },
  {
   "cell_type": "code",
   "execution_count": 205,
   "metadata": {},
   "outputs": [],
   "source": [
    "resid['residuals']  = residuals"
   ]
  },
  {
   "cell_type": "code",
   "execution_count": 206,
   "metadata": {
    "scrolled": true
   },
   "outputs": [
    {
     "data": {
      "text/html": [
       "<div>\n",
       "<style scoped>\n",
       "    .dataframe tbody tr th:only-of-type {\n",
       "        vertical-align: middle;\n",
       "    }\n",
       "\n",
       "    .dataframe tbody tr th {\n",
       "        vertical-align: top;\n",
       "    }\n",
       "\n",
       "    .dataframe thead th {\n",
       "        text-align: right;\n",
       "    }\n",
       "</style>\n",
       "<table border=\"1\" class=\"dataframe\">\n",
       "  <thead>\n",
       "    <tr style=\"text-align: right;\">\n",
       "      <th></th>\n",
       "      <th>price</th>\n",
       "      <th>residuals</th>\n",
       "    </tr>\n",
       "  </thead>\n",
       "  <tbody>\n",
       "    <tr>\n",
       "      <td>0</td>\n",
       "      <td>538000.0</td>\n",
       "      <td>60998.983382</td>\n",
       "    </tr>\n",
       "    <tr>\n",
       "      <td>1</td>\n",
       "      <td>180000.0</td>\n",
       "      <td>-66218.515285</td>\n",
       "    </tr>\n",
       "    <tr>\n",
       "      <td>2</td>\n",
       "      <td>604000.0</td>\n",
       "      <td>167585.255715</td>\n",
       "    </tr>\n",
       "    <tr>\n",
       "      <td>3</td>\n",
       "      <td>510000.0</td>\n",
       "      <td>12119.171325</td>\n",
       "    </tr>\n",
       "    <tr>\n",
       "      <td>5</td>\n",
       "      <td>257500.0</td>\n",
       "      <td>-13842.889460</td>\n",
       "    </tr>\n",
       "    <tr>\n",
       "      <td>...</td>\n",
       "      <td>...</td>\n",
       "      <td>...</td>\n",
       "    </tr>\n",
       "    <tr>\n",
       "      <td>19216</td>\n",
       "      <td>475000.0</td>\n",
       "      <td>15447.892498</td>\n",
       "    </tr>\n",
       "    <tr>\n",
       "      <td>19217</td>\n",
       "      <td>360000.0</td>\n",
       "      <td>-69412.391388</td>\n",
       "    </tr>\n",
       "    <tr>\n",
       "      <td>19218</td>\n",
       "      <td>400000.0</td>\n",
       "      <td>-132355.529559</td>\n",
       "    </tr>\n",
       "    <tr>\n",
       "      <td>19219</td>\n",
       "      <td>402101.0</td>\n",
       "      <td>-61521.792447</td>\n",
       "    </tr>\n",
       "    <tr>\n",
       "      <td>19220</td>\n",
       "      <td>325000.0</td>\n",
       "      <td>-128113.842905</td>\n",
       "    </tr>\n",
       "  </tbody>\n",
       "</table>\n",
       "<p>15861 rows × 2 columns</p>\n",
       "</div>"
      ],
      "text/plain": [
       "          price      residuals\n",
       "0      538000.0   60998.983382\n",
       "1      180000.0  -66218.515285\n",
       "2      604000.0  167585.255715\n",
       "3      510000.0   12119.171325\n",
       "5      257500.0  -13842.889460\n",
       "...         ...            ...\n",
       "19216  475000.0   15447.892498\n",
       "19217  360000.0  -69412.391388\n",
       "19218  400000.0 -132355.529559\n",
       "19219  402101.0  -61521.792447\n",
       "19220  325000.0 -128113.842905\n",
       "\n",
       "[15861 rows x 2 columns]"
      ]
     },
     "execution_count": 206,
     "metadata": {},
     "output_type": "execute_result"
    }
   ],
   "source": [
    "resid"
   ]
  },
  {
   "cell_type": "code",
   "execution_count": 207,
   "metadata": {},
   "outputs": [],
   "source": [
    "import seaborn as sns"
   ]
  },
  {
   "cell_type": "code",
   "execution_count": 208,
   "metadata": {},
   "outputs": [
    {
     "data": {
      "text/plain": [
       "<matplotlib.axes._subplots.AxesSubplot at 0x1c1ddb6278>"
      ]
     },
     "execution_count": 208,
     "metadata": {},
     "output_type": "execute_result"
    },
    {
     "data": {
      "image/png": "[encoded data removed]",
      "text/plain": [
       "<Figure size 720x720 with 1 Axes>"
      ]
     },
     "metadata": {},
     "output_type": "display_data"
    }
   ],
   "source": [
    "plt.figure(figsize= (10,10))\n",
    "\n",
    "sns.scatterplot(y='residuals',x='price',data=resid)"
   ]
  },
  {
   "cell_type": "code",
   "execution_count": 209,
   "metadata": {},
   "outputs": [],
   "source": [
    "X_shuff, y_shuff = shuffle(X, y)"
   ]
  },
  {
   "cell_type": "code",
   "execution_count": 212,
   "metadata": {},
   "outputs": [
    {
     "data": {
      "text/plain": [
       "0.6190490159099289"
      ]
     },
     "execution_count": 212,
     "metadata": {},
     "output_type": "execute_result"
    }
   ],
   "source": [
    "X_shuff, y_shuff = shuffle(X, y)\n",
    "cv_scores = cross_val_score(ols, X_shuff, y_shuff, scoring='r2', cv=5, n_jobs=-1) \n",
    "cv_scores.mean()"
   ]
  },
  {
   "cell_type": "code",
   "execution_count": 213,
   "metadata": {},
   "outputs": [
    {
     "data": {
      "text/plain": [
       "0.619577291871036"
      ]
     },
     "execution_count": 213,
     "metadata": {},
     "output_type": "execute_result"
    }
   ],
   "source": [
    "X_shuff, y_shuff = shuffle(X, y)\n",
    "cv_scores = cross_val_score(ols, X_shuff, y_shuff, scoring='r2', cv=5, n_jobs=-1) \n",
    "cv_scores.mean()"
   ]
  },
  {
   "cell_type": "code",
   "execution_count": null,
   "metadata": {},
   "outputs": [],
   "source": []
  },
  {
   "cell_type": "code",
   "execution_count": null,
   "metadata": {},
   "outputs": [],
   "source": []
  },
  {
   "cell_type": "code",
   "execution_count": 189,
   "metadata": {},
   "outputs": [],
   "source": [
    "from statsmodels.stats.diagnostic import het_breuschpagan\n",
    "from statsmodels.stats.diagnostic import het_white"
   ]
  }
 ],
 "metadata": {
  "kernelspec": {
   "display_name": "Python [conda env:learn-env] *",
   "language": "python",
   "name": "conda-env-learn-env-py"
  },
  "language_info": {
   "codemirror_mode": {
    "name": "ipython",
    "version": 3
   },
   "file_extension": ".py",
   "mimetype": "text/x-python",
   "name": "python",
   "nbconvert_exporter": "python",
   "pygments_lexer": "ipython3",
   "version": "3.6.9"
  }
 },
 "nbformat": 4,
 "nbformat_minor": 2
}
