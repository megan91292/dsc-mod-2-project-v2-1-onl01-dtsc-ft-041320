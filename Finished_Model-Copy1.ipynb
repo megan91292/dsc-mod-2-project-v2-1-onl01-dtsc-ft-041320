{
 "cells": [
  {
   "cell_type": "code",
   "execution_count": 147,
   "metadata": {},
   "outputs": [],
   "source": [
    "import pandas as pd\n",
    "import matplotlib.pyplot as plt\n",
    "import numpy as np\n",
    "import seaborn as sns\n",
    "sns.set_style('darkgrid')\n",
    "\n",
    "from statsmodels.formula.api import ols\n",
    "from statsmodels.stats.outliers_influence import variance_inflation_factor\n",
    "import statsmodels.api as sm\n",
    "import scipy.stats as scs\n",
    "from sklearn.model_selection import train_test_split"
   ]
  },
  {
   "cell_type": "code",
   "execution_count": 187,
   "metadata": {},
   "outputs": [],
   "source": [
    "df = pd.read_csv('data_correlation_gone.csv',index_col = 0)"
   ]
  },
  {
   "cell_type": "code",
   "execution_count": 188,
   "metadata": {},
   "outputs": [],
   "source": [
    "df.reset_index(drop=True,inplace=True)"
   ]
  },
  {
   "cell_type": "code",
   "execution_count": 189,
   "metadata": {},
   "outputs": [],
   "source": [
    "check_col = ['price', 'bedrooms', 'bathrooms', 'sqft_living', 'sqft_lot','distance_from_a_city']"
   ]
  },
  {
   "cell_type": "code",
   "execution_count": 190,
   "metadata": {},
   "outputs": [],
   "source": [
    "def remove_outliers(df, col, threshold = 3):\n",
    "    zscores = scs.zscore(df[col])\n",
    "    indices = np.abs(np.where(zscores > threshold))\n",
    "    return indices[0]\n",
    "\n",
    "\n",
    "all_indices = []\n",
    "for col in check_col:\n",
    "    indices = remove_outliers(df, col, threshold = 3)\n",
    "    all_indices.extend(indices)\n",
    "all_indices = np.unique(all_indices)"
   ]
  },
  {
   "cell_type": "code",
   "execution_count": 191,
   "metadata": {},
   "outputs": [],
   "source": [
    "df.drop(all_indices,axis=0,inplace=True)"
   ]
  },
  {
   "cell_type": "code",
   "execution_count": 192,
   "metadata": {},
   "outputs": [],
   "source": [
    "df.reset_index(drop=True,inplace=True)"
   ]
  },
  {
   "cell_type": "code",
   "execution_count": 193,
   "metadata": {},
   "outputs": [
    {
     "data": {
      "text/plain": [
       "Index(['date', 'price', 'bedrooms', 'bathrooms', 'sqft_living', 'sqft_lot',\n",
       "       'floors', 'waterfront', 'view', 'condition', 'grade', 'zipcode',\n",
       "       'Age_of_House', 'Years_last_renovation', 'basement', 'biggerliving',\n",
       "       'biggerlot', 'distance_from_a_city', 'distance_from_airport'],\n",
       "      dtype='object')"
      ]
     },
     "execution_count": 193,
     "metadata": {},
     "output_type": "execute_result"
    }
   ],
   "source": [
    "df.columns"
   ]
  },
  {
   "cell_type": "code",
   "execution_count": 194,
   "metadata": {},
   "outputs": [
    {
     "data": {
      "text/html": [
       "<div>\n",
       "<style scoped>\n",
       "    .dataframe tbody tr th:only-of-type {\n",
       "        vertical-align: middle;\n",
       "    }\n",
       "\n",
       "    .dataframe tbody tr th {\n",
       "        vertical-align: top;\n",
       "    }\n",
       "\n",
       "    .dataframe thead th {\n",
       "        text-align: right;\n",
       "    }\n",
       "</style>\n",
       "<table border=\"1\" class=\"dataframe\">\n",
       "  <thead>\n",
       "    <tr style=\"text-align: right;\">\n",
       "      <th></th>\n",
       "      <th>date</th>\n",
       "      <th>price</th>\n",
       "      <th>bedrooms</th>\n",
       "      <th>bathrooms</th>\n",
       "      <th>sqft_living</th>\n",
       "      <th>sqft_lot</th>\n",
       "      <th>floors</th>\n",
       "      <th>waterfront</th>\n",
       "      <th>view</th>\n",
       "      <th>condition</th>\n",
       "      <th>grade</th>\n",
       "      <th>zipcode</th>\n",
       "      <th>Age_of_House</th>\n",
       "      <th>Years_last_renovation</th>\n",
       "      <th>basement</th>\n",
       "      <th>biggerliving</th>\n",
       "      <th>biggerlot</th>\n",
       "      <th>distance_from_a_city</th>\n",
       "      <th>distance_from_airport</th>\n",
       "    </tr>\n",
       "  </thead>\n",
       "  <tbody>\n",
       "    <tr>\n",
       "      <td>0</td>\n",
       "      <td>2014-12-09</td>\n",
       "      <td>538000.0</td>\n",
       "      <td>3</td>\n",
       "      <td>2.25</td>\n",
       "      <td>2570</td>\n",
       "      <td>7242</td>\n",
       "      <td>2.0</td>\n",
       "      <td>0.0</td>\n",
       "      <td>0.0</td>\n",
       "      <td>3</td>\n",
       "      <td>7</td>\n",
       "      <td>98125</td>\n",
       "      <td>69</td>\n",
       "      <td>29</td>\n",
       "      <td>1</td>\n",
       "      <td>1</td>\n",
       "      <td>0</td>\n",
       "      <td>12.613856</td>\n",
       "      <td>30.859494</td>\n",
       "    </tr>\n",
       "    <tr>\n",
       "      <td>1</td>\n",
       "      <td>2015-02-25</td>\n",
       "      <td>180000.0</td>\n",
       "      <td>2</td>\n",
       "      <td>1.00</td>\n",
       "      <td>770</td>\n",
       "      <td>10000</td>\n",
       "      <td>1.0</td>\n",
       "      <td>0.0</td>\n",
       "      <td>0.0</td>\n",
       "      <td>3</td>\n",
       "      <td>6</td>\n",
       "      <td>98028</td>\n",
       "      <td>87</td>\n",
       "      <td>87</td>\n",
       "      <td>0</td>\n",
       "      <td>0</td>\n",
       "      <td>1</td>\n",
       "      <td>14.375822</td>\n",
       "      <td>33.112379</td>\n",
       "    </tr>\n",
       "    <tr>\n",
       "      <td>2</td>\n",
       "      <td>2014-12-09</td>\n",
       "      <td>604000.0</td>\n",
       "      <td>4</td>\n",
       "      <td>3.00</td>\n",
       "      <td>1960</td>\n",
       "      <td>5000</td>\n",
       "      <td>1.0</td>\n",
       "      <td>0.0</td>\n",
       "      <td>0.0</td>\n",
       "      <td>5</td>\n",
       "      <td>7</td>\n",
       "      <td>98136</td>\n",
       "      <td>55</td>\n",
       "      <td>55</td>\n",
       "      <td>1</td>\n",
       "      <td>1</td>\n",
       "      <td>0</td>\n",
       "      <td>10.617501</td>\n",
       "      <td>10.988905</td>\n",
       "    </tr>\n",
       "    <tr>\n",
       "      <td>3</td>\n",
       "      <td>2015-02-18</td>\n",
       "      <td>510000.0</td>\n",
       "      <td>3</td>\n",
       "      <td>2.00</td>\n",
       "      <td>1680</td>\n",
       "      <td>8080</td>\n",
       "      <td>1.0</td>\n",
       "      <td>0.0</td>\n",
       "      <td>0.0</td>\n",
       "      <td>3</td>\n",
       "      <td>8</td>\n",
       "      <td>98074</td>\n",
       "      <td>33</td>\n",
       "      <td>33</td>\n",
       "      <td>0</td>\n",
       "      <td>0</td>\n",
       "      <td>1</td>\n",
       "      <td>11.683886</td>\n",
       "      <td>27.230991</td>\n",
       "    </tr>\n",
       "    <tr>\n",
       "      <td>4</td>\n",
       "      <td>2014-06-27</td>\n",
       "      <td>257500.0</td>\n",
       "      <td>3</td>\n",
       "      <td>2.25</td>\n",
       "      <td>1715</td>\n",
       "      <td>6819</td>\n",
       "      <td>2.0</td>\n",
       "      <td>0.0</td>\n",
       "      <td>0.0</td>\n",
       "      <td>3</td>\n",
       "      <td>7</td>\n",
       "      <td>98003</td>\n",
       "      <td>25</td>\n",
       "      <td>25</td>\n",
       "      <td>0</td>\n",
       "      <td>0</td>\n",
       "      <td>0</td>\n",
       "      <td>33.155745</td>\n",
       "      <td>14.995397</td>\n",
       "    </tr>\n",
       "  </tbody>\n",
       "</table>\n",
       "</div>"
      ],
      "text/plain": [
       "         date     price  bedrooms  bathrooms  sqft_living  sqft_lot  floors  \\\n",
       "0  2014-12-09  538000.0         3       2.25         2570      7242     2.0   \n",
       "1  2015-02-25  180000.0         2       1.00          770     10000     1.0   \n",
       "2  2014-12-09  604000.0         4       3.00         1960      5000     1.0   \n",
       "3  2015-02-18  510000.0         3       2.00         1680      8080     1.0   \n",
       "4  2014-06-27  257500.0         3       2.25         1715      6819     2.0   \n",
       "\n",
       "   waterfront  view  condition  grade  zipcode  Age_of_House  \\\n",
       "0         0.0   0.0          3      7    98125            69   \n",
       "1         0.0   0.0          3      6    98028            87   \n",
       "2         0.0   0.0          5      7    98136            55   \n",
       "3         0.0   0.0          3      8    98074            33   \n",
       "4         0.0   0.0          3      7    98003            25   \n",
       "\n",
       "   Years_last_renovation  basement  biggerliving  biggerlot  \\\n",
       "0                     29         1             1          0   \n",
       "1                     87         0             0          1   \n",
       "2                     55         1             1          0   \n",
       "3                     33         0             0          1   \n",
       "4                     25         0             0          0   \n",
       "\n",
       "   distance_from_a_city  distance_from_airport  \n",
       "0             12.613856              30.859494  \n",
       "1             14.375822              33.112379  \n",
       "2             10.617501              10.988905  \n",
       "3             11.683886              27.230991  \n",
       "4             33.155745              14.995397  "
      ]
     },
     "execution_count": 194,
     "metadata": {},
     "output_type": "execute_result"
    }
   ],
   "source": [
    "df.head()"
   ]
  },
  {
   "cell_type": "code",
   "execution_count": 195,
   "metadata": {},
   "outputs": [
    {
     "data": {
      "text/plain": [
       "<matplotlib.axes._subplots.AxesSubplot at 0x1c2c5f6ba8>"
      ]
     },
     "execution_count": 195,
     "metadata": {},
     "output_type": "execute_result"
    },
    {
     "data": {
      "image/png": "[encoded data removed]",
      "text/plain": [
       "<Figure size 432x288 with 1 Axes>"
      ]
     },
     "metadata": {},
     "output_type": "display_data"
    }
   ],
   "source": [
    "df['price'].hist()"
   ]
  },
  {
   "cell_type": "code",
   "execution_count": 196,
   "metadata": {},
   "outputs": [
    {
     "data": {
      "text/html": [
       "<div>\n",
       "<style scoped>\n",
       "    .dataframe tbody tr th:only-of-type {\n",
       "        vertical-align: middle;\n",
       "    }\n",
       "\n",
       "    .dataframe tbody tr th {\n",
       "        vertical-align: top;\n",
       "    }\n",
       "\n",
       "    .dataframe thead th {\n",
       "        text-align: right;\n",
       "    }\n",
       "</style>\n",
       "<table border=\"1\" class=\"dataframe\">\n",
       "  <thead>\n",
       "    <tr style=\"text-align: right;\">\n",
       "      <th></th>\n",
       "      <th>date</th>\n",
       "      <th>price</th>\n",
       "      <th>bedrooms</th>\n",
       "      <th>bathrooms</th>\n",
       "      <th>sqft_living</th>\n",
       "      <th>sqft_lot</th>\n",
       "      <th>floors</th>\n",
       "      <th>waterfront</th>\n",
       "      <th>view</th>\n",
       "      <th>condition</th>\n",
       "      <th>grade</th>\n",
       "      <th>zipcode</th>\n",
       "      <th>Age_of_House</th>\n",
       "      <th>Years_last_renovation</th>\n",
       "      <th>basement</th>\n",
       "      <th>biggerliving</th>\n",
       "      <th>biggerlot</th>\n",
       "      <th>distance_from_a_city</th>\n",
       "      <th>distance_from_airport</th>\n",
       "    </tr>\n",
       "  </thead>\n",
       "  <tbody>\n",
       "    <tr>\n",
       "      <td>0</td>\n",
       "      <td>2014-12-09</td>\n",
       "      <td>538000.0</td>\n",
       "      <td>3</td>\n",
       "      <td>2.25</td>\n",
       "      <td>2570</td>\n",
       "      <td>7242</td>\n",
       "      <td>2.0</td>\n",
       "      <td>0.0</td>\n",
       "      <td>0.0</td>\n",
       "      <td>3</td>\n",
       "      <td>7</td>\n",
       "      <td>98125</td>\n",
       "      <td>69</td>\n",
       "      <td>29</td>\n",
       "      <td>1</td>\n",
       "      <td>1</td>\n",
       "      <td>0</td>\n",
       "      <td>12.613856</td>\n",
       "      <td>30.859494</td>\n",
       "    </tr>\n",
       "    <tr>\n",
       "      <td>1</td>\n",
       "      <td>2015-02-25</td>\n",
       "      <td>180000.0</td>\n",
       "      <td>2</td>\n",
       "      <td>1.00</td>\n",
       "      <td>770</td>\n",
       "      <td>10000</td>\n",
       "      <td>1.0</td>\n",
       "      <td>0.0</td>\n",
       "      <td>0.0</td>\n",
       "      <td>3</td>\n",
       "      <td>6</td>\n",
       "      <td>98028</td>\n",
       "      <td>87</td>\n",
       "      <td>87</td>\n",
       "      <td>0</td>\n",
       "      <td>0</td>\n",
       "      <td>1</td>\n",
       "      <td>14.375822</td>\n",
       "      <td>33.112379</td>\n",
       "    </tr>\n",
       "    <tr>\n",
       "      <td>2</td>\n",
       "      <td>2014-12-09</td>\n",
       "      <td>604000.0</td>\n",
       "      <td>4</td>\n",
       "      <td>3.00</td>\n",
       "      <td>1960</td>\n",
       "      <td>5000</td>\n",
       "      <td>1.0</td>\n",
       "      <td>0.0</td>\n",
       "      <td>0.0</td>\n",
       "      <td>5</td>\n",
       "      <td>7</td>\n",
       "      <td>98136</td>\n",
       "      <td>55</td>\n",
       "      <td>55</td>\n",
       "      <td>1</td>\n",
       "      <td>1</td>\n",
       "      <td>0</td>\n",
       "      <td>10.617501</td>\n",
       "      <td>10.988905</td>\n",
       "    </tr>\n",
       "    <tr>\n",
       "      <td>3</td>\n",
       "      <td>2015-02-18</td>\n",
       "      <td>510000.0</td>\n",
       "      <td>3</td>\n",
       "      <td>2.00</td>\n",
       "      <td>1680</td>\n",
       "      <td>8080</td>\n",
       "      <td>1.0</td>\n",
       "      <td>0.0</td>\n",
       "      <td>0.0</td>\n",
       "      <td>3</td>\n",
       "      <td>8</td>\n",
       "      <td>98074</td>\n",
       "      <td>33</td>\n",
       "      <td>33</td>\n",
       "      <td>0</td>\n",
       "      <td>0</td>\n",
       "      <td>1</td>\n",
       "      <td>11.683886</td>\n",
       "      <td>27.230991</td>\n",
       "    </tr>\n",
       "    <tr>\n",
       "      <td>4</td>\n",
       "      <td>2014-06-27</td>\n",
       "      <td>257500.0</td>\n",
       "      <td>3</td>\n",
       "      <td>2.25</td>\n",
       "      <td>1715</td>\n",
       "      <td>6819</td>\n",
       "      <td>2.0</td>\n",
       "      <td>0.0</td>\n",
       "      <td>0.0</td>\n",
       "      <td>3</td>\n",
       "      <td>7</td>\n",
       "      <td>98003</td>\n",
       "      <td>25</td>\n",
       "      <td>25</td>\n",
       "      <td>0</td>\n",
       "      <td>0</td>\n",
       "      <td>0</td>\n",
       "      <td>33.155745</td>\n",
       "      <td>14.995397</td>\n",
       "    </tr>\n",
       "  </tbody>\n",
       "</table>\n",
       "</div>"
      ],
      "text/plain": [
       "         date     price  bedrooms  bathrooms  sqft_living  sqft_lot  floors  \\\n",
       "0  2014-12-09  538000.0         3       2.25         2570      7242     2.0   \n",
       "1  2015-02-25  180000.0         2       1.00          770     10000     1.0   \n",
       "2  2014-12-09  604000.0         4       3.00         1960      5000     1.0   \n",
       "3  2015-02-18  510000.0         3       2.00         1680      8080     1.0   \n",
       "4  2014-06-27  257500.0         3       2.25         1715      6819     2.0   \n",
       "\n",
       "   waterfront  view  condition  grade  zipcode  Age_of_House  \\\n",
       "0         0.0   0.0          3      7    98125            69   \n",
       "1         0.0   0.0          3      6    98028            87   \n",
       "2         0.0   0.0          5      7    98136            55   \n",
       "3         0.0   0.0          3      8    98074            33   \n",
       "4         0.0   0.0          3      7    98003            25   \n",
       "\n",
       "   Years_last_renovation  basement  biggerliving  biggerlot  \\\n",
       "0                     29         1             1          0   \n",
       "1                     87         0             0          1   \n",
       "2                     55         1             1          0   \n",
       "3                     33         0             0          1   \n",
       "4                     25         0             0          0   \n",
       "\n",
       "   distance_from_a_city  distance_from_airport  \n",
       "0             12.613856              30.859494  \n",
       "1             14.375822              33.112379  \n",
       "2             10.617501              10.988905  \n",
       "3             11.683886              27.230991  \n",
       "4             33.155745              14.995397  "
      ]
     },
     "execution_count": 196,
     "metadata": {},
     "output_type": "execute_result"
    }
   ],
   "source": [
    "df.head()"
   ]
  },
  {
   "cell_type": "code",
   "execution_count": 197,
   "metadata": {},
   "outputs": [
    {
     "data": {
      "text/plain": [
       "<matplotlib.axes._subplots.AxesSubplot at 0x1c2c6f75f8>"
      ]
     },
     "execution_count": 197,
     "metadata": {},
     "output_type": "execute_result"
    },
    {
     "data": {
      "image/png": "[encoded data removed]",
      "text/plain": [
       "<Figure size 432x288 with 1 Axes>"
      ]
     },
     "metadata": {},
     "output_type": "display_data"
    }
   ],
   "source": [
    "df['condition'].hist()"
   ]
  },
  {
   "cell_type": "code",
   "execution_count": 198,
   "metadata": {},
   "outputs": [],
   "source": [
    "features =  ['sqft_living','Age_of_House', 'Years_last_renovation','distance_from_a_city','sqft_lot']"
   ]
  },
  {
   "cell_type": "code",
   "execution_count": 199,
   "metadata": {},
   "outputs": [
    {
     "data": {
      "image/png": "[encoded data removed]",
      "text/plain": [
       "<Figure size 432x288 with 6 Axes>"
      ]
     },
     "metadata": {},
     "output_type": "display_data"
    }
   ],
   "source": [
    "df[features].hist();"
   ]
  },
  {
   "cell_type": "code",
   "execution_count": 200,
   "metadata": {},
   "outputs": [],
   "source": [
    "tobox =['sqft_living','Age_of_House', 'Years_last_renovation','distance_from_a_city','sqft_lot']"
   ]
  },
  {
   "cell_type": "code",
   "execution_count": 201,
   "metadata": {},
   "outputs": [],
   "source": [
    "for feat in tobox:\n",
    "    df[feat],b = scs.boxcox(df[feat])"
   ]
  },
  {
   "cell_type": "code",
   "execution_count": 202,
   "metadata": {},
   "outputs": [
    {
     "data": {
      "image/png": "[encoded data removed]",
      "text/plain": [
       "<Figure size 432x288 with 6 Axes>"
      ]
     },
     "metadata": {},
     "output_type": "display_data"
    }
   ],
   "source": [
    "df[features].hist();"
   ]
  },
  {
   "cell_type": "code",
   "execution_count": 203,
   "metadata": {},
   "outputs": [],
   "source": [
    "def norm_feat(series):\n",
    "    return (series - series.mean())/series.std()"
   ]
  },
  {
   "cell_type": "code",
   "execution_count": 204,
   "metadata": {},
   "outputs": [],
   "source": [
    "norm = ['bedrooms','bathrooms','sqft_living','sqft_lot','distance_from_a_city','Age_of_House',\n",
    "           'Years_last_renovation']\n"
   ]
  },
  {
   "cell_type": "code",
   "execution_count": 205,
   "metadata": {},
   "outputs": [],
   "source": [
    "for feat in norm:\n",
    "    df[feat] = norm_feat(df[feat])"
   ]
  },
  {
   "cell_type": "code",
   "execution_count": null,
   "metadata": {},
   "outputs": [],
   "source": []
  },
  {
   "cell_type": "code",
   "execution_count": null,
   "metadata": {},
   "outputs": [],
   "source": []
  },
  {
   "cell_type": "code",
   "execution_count": 206,
   "metadata": {},
   "outputs": [],
   "source": [
    "df['bedbath'] = df['bedrooms']*df['bathrooms']"
   ]
  },
  {
   "cell_type": "code",
   "execution_count": 207,
   "metadata": {},
   "outputs": [],
   "source": [
    "# tomodel = ['distance_from_a_city','Years_last_renovation','sqft_living']"
   ]
  },
  {
   "cell_type": "code",
   "execution_count": 253,
   "metadata": {},
   "outputs": [],
   "source": [
    "x_cols = ['bedrooms','bathrooms','sqft_living','sqft_lot','distance_from_a_city',\n",
    "           'Age_of_House','basement','grade']\n",
    "outcome = ['price']"
   ]
  },
  {
   "cell_type": "code",
   "execution_count": 254,
   "metadata": {},
   "outputs": [],
   "source": [
    "train, test = train_test_split(df)\n"
   ]
  },
  {
   "cell_type": "code",
   "execution_count": 255,
   "metadata": {},
   "outputs": [
    {
     "name": "stdout",
     "output_type": "stream",
     "text": [
      "11701 3901\n"
     ]
    },
    {
     "data": {
      "text/html": [
       "<div>\n",
       "<style scoped>\n",
       "    .dataframe tbody tr th:only-of-type {\n",
       "        vertical-align: middle;\n",
       "    }\n",
       "\n",
       "    .dataframe tbody tr th {\n",
       "        vertical-align: top;\n",
       "    }\n",
       "\n",
       "    .dataframe thead th {\n",
       "        text-align: right;\n",
       "    }\n",
       "</style>\n",
       "<table border=\"1\" class=\"dataframe\">\n",
       "  <thead>\n",
       "    <tr style=\"text-align: right;\">\n",
       "      <th></th>\n",
       "      <th>date</th>\n",
       "      <th>price</th>\n",
       "      <th>bedrooms</th>\n",
       "      <th>bathrooms</th>\n",
       "      <th>sqft_living</th>\n",
       "      <th>sqft_lot</th>\n",
       "      <th>floors</th>\n",
       "      <th>waterfront</th>\n",
       "      <th>view</th>\n",
       "      <th>condition</th>\n",
       "      <th>grade</th>\n",
       "      <th>zipcode</th>\n",
       "      <th>Age_of_House</th>\n",
       "      <th>Years_last_renovation</th>\n",
       "      <th>basement</th>\n",
       "      <th>biggerliving</th>\n",
       "      <th>biggerlot</th>\n",
       "      <th>distance_from_a_city</th>\n",
       "      <th>distance_from_airport</th>\n",
       "      <th>bedbath</th>\n",
       "    </tr>\n",
       "  </thead>\n",
       "  <tbody>\n",
       "    <tr>\n",
       "      <td>15513</td>\n",
       "      <td>2014-12-15</td>\n",
       "      <td>256950.0</td>\n",
       "      <td>-1.572267</td>\n",
       "      <td>-0.017109</td>\n",
       "      <td>-1.298258</td>\n",
       "      <td>-3.014950</td>\n",
       "      <td>2.0</td>\n",
       "      <td>0.0</td>\n",
       "      <td>0.0</td>\n",
       "      <td>3</td>\n",
       "      <td>9</td>\n",
       "      <td>98106</td>\n",
       "      <td>-1.457745</td>\n",
       "      <td>-1.413326</td>\n",
       "      <td>1</td>\n",
       "      <td>0</td>\n",
       "      <td>0</td>\n",
       "      <td>-0.429351</td>\n",
       "      <td>9.578013</td>\n",
       "      <td>0.026900</td>\n",
       "    </tr>\n",
       "    <tr>\n",
       "      <td>15786</td>\n",
       "      <td>2014-07-28</td>\n",
       "      <td>269800.0</td>\n",
       "      <td>0.884777</td>\n",
       "      <td>1.093285</td>\n",
       "      <td>0.026933</td>\n",
       "      <td>-0.996224</td>\n",
       "      <td>2.0</td>\n",
       "      <td>0.0</td>\n",
       "      <td>0.0</td>\n",
       "      <td>3</td>\n",
       "      <td>8</td>\n",
       "      <td>98198</td>\n",
       "      <td>-1.751137</td>\n",
       "      <td>-1.720562</td>\n",
       "      <td>0</td>\n",
       "      <td>1</td>\n",
       "      <td>0</td>\n",
       "      <td>1.266081</td>\n",
       "      <td>8.630495</td>\n",
       "      <td>0.967314</td>\n",
       "    </tr>\n",
       "    <tr>\n",
       "      <td>13195</td>\n",
       "      <td>2015-03-15</td>\n",
       "      <td>445000.0</td>\n",
       "      <td>-1.572267</td>\n",
       "      <td>-1.497635</td>\n",
       "      <td>-1.565057</td>\n",
       "      <td>-0.530916</td>\n",
       "      <td>1.0</td>\n",
       "      <td>0.0</td>\n",
       "      <td>0.0</td>\n",
       "      <td>3</td>\n",
       "      <td>6</td>\n",
       "      <td>98144</td>\n",
       "      <td>0.994085</td>\n",
       "      <td>1.045741</td>\n",
       "      <td>0</td>\n",
       "      <td>0</td>\n",
       "      <td>0</td>\n",
       "      <td>-1.740027</td>\n",
       "      <td>15.874744</td>\n",
       "      <td>2.354682</td>\n",
       "    </tr>\n",
       "    <tr>\n",
       "      <td>14398</td>\n",
       "      <td>2014-07-29</td>\n",
       "      <td>179000.0</td>\n",
       "      <td>0.884777</td>\n",
       "      <td>-0.387241</td>\n",
       "      <td>-0.031815</td>\n",
       "      <td>0.049398</td>\n",
       "      <td>1.5</td>\n",
       "      <td>0.0</td>\n",
       "      <td>0.0</td>\n",
       "      <td>3</td>\n",
       "      <td>6</td>\n",
       "      <td>98168</td>\n",
       "      <td>1.912802</td>\n",
       "      <td>1.935848</td>\n",
       "      <td>1</td>\n",
       "      <td>0</td>\n",
       "      <td>0</td>\n",
       "      <td>-0.062738</td>\n",
       "      <td>5.989429</td>\n",
       "      <td>-0.342622</td>\n",
       "    </tr>\n",
       "    <tr>\n",
       "      <td>13905</td>\n",
       "      <td>2015-02-23</td>\n",
       "      <td>455000.0</td>\n",
       "      <td>-0.343745</td>\n",
       "      <td>-0.757372</td>\n",
       "      <td>-0.935325</td>\n",
       "      <td>0.212802</td>\n",
       "      <td>1.0</td>\n",
       "      <td>0.0</td>\n",
       "      <td>0.0</td>\n",
       "      <td>3</td>\n",
       "      <td>7</td>\n",
       "      <td>98008</td>\n",
       "      <td>0.335410</td>\n",
       "      <td>0.399059</td>\n",
       "      <td>0</td>\n",
       "      <td>0</td>\n",
       "      <td>1</td>\n",
       "      <td>-0.978402</td>\n",
       "      <td>24.786150</td>\n",
       "      <td>0.260343</td>\n",
       "    </tr>\n",
       "  </tbody>\n",
       "</table>\n",
       "</div>"
      ],
      "text/plain": [
       "             date     price  bedrooms  bathrooms  sqft_living  sqft_lot  \\\n",
       "15513  2014-12-15  256950.0 -1.572267  -0.017109    -1.298258 -3.014950   \n",
       "15786  2014-07-28  269800.0  0.884777   1.093285     0.026933 -0.996224   \n",
       "13195  2015-03-15  445000.0 -1.572267  -1.497635    -1.565057 -0.530916   \n",
       "14398  2014-07-29  179000.0  0.884777  -0.387241    -0.031815  0.049398   \n",
       "13905  2015-02-23  455000.0 -0.343745  -0.757372    -0.935325  0.212802   \n",
       "\n",
       "       floors  waterfront  view  condition  grade  zipcode  Age_of_House  \\\n",
       "15513     2.0         0.0   0.0          3      9    98106     -1.457745   \n",
       "15786     2.0         0.0   0.0          3      8    98198     -1.751137   \n",
       "13195     1.0         0.0   0.0          3      6    98144      0.994085   \n",
       "14398     1.5         0.0   0.0          3      6    98168      1.912802   \n",
       "13905     1.0         0.0   0.0          3      7    98008      0.335410   \n",
       "\n",
       "       Years_last_renovation  basement  biggerliving  biggerlot  \\\n",
       "15513              -1.413326         1             0          0   \n",
       "15786              -1.720562         0             1          0   \n",
       "13195               1.045741         0             0          0   \n",
       "14398               1.935848         1             0          0   \n",
       "13905               0.399059         0             0          1   \n",
       "\n",
       "       distance_from_a_city  distance_from_airport   bedbath  \n",
       "15513             -0.429351               9.578013  0.026900  \n",
       "15786              1.266081               8.630495  0.967314  \n",
       "13195             -1.740027              15.874744  2.354682  \n",
       "14398             -0.062738               5.989429 -0.342622  \n",
       "13905             -0.978402              24.786150  0.260343  "
      ]
     },
     "execution_count": 255,
     "metadata": {},
     "output_type": "execute_result"
    }
   ],
   "source": [
    "print(len(train), len(test))\n",
    "train.head()"
   ]
  },
  {
   "cell_type": "code",
   "execution_count": 256,
   "metadata": {},
   "outputs": [],
   "source": [
    "X = train[x_cols]\n",
    "y = train['price']"
   ]
  },
  {
   "cell_type": "code",
   "execution_count": 257,
   "metadata": {},
   "outputs": [
    {
     "data": {
      "text/html": [
       "<table class=\"simpletable\">\n",
       "<caption>OLS Regression Results</caption>\n",
       "<tr>\n",
       "  <th>Dep. Variable:</th>          <td>price</td>      <th>  R-squared (uncentered):</th>       <td>   0.958</td>  \n",
       "</tr>\n",
       "<tr>\n",
       "  <th>Model:</th>                   <td>OLS</td>       <th>  Adj. R-squared (uncentered):</th>  <td>   0.958</td>  \n",
       "</tr>\n",
       "<tr>\n",
       "  <th>Method:</th>             <td>Least Squares</td>  <th>  F-statistic:       </th>           <td>3.369e+04</td> \n",
       "</tr>\n",
       "<tr>\n",
       "  <th>Date:</th>             <td>Wed, 03 Jun 2020</td> <th>  Prob (F-statistic):</th>            <td>  0.00</td>   \n",
       "</tr>\n",
       "<tr>\n",
       "  <th>Time:</th>                 <td>19:42:31</td>     <th>  Log-Likelihood:    </th>          <td>-1.5096e+05</td>\n",
       "</tr>\n",
       "<tr>\n",
       "  <th>No. Observations:</th>      <td> 11701</td>      <th>  AIC:               </th>           <td>3.019e+05</td> \n",
       "</tr>\n",
       "<tr>\n",
       "  <th>Df Residuals:</th>          <td> 11693</td>      <th>  BIC:               </th>           <td>3.020e+05</td> \n",
       "</tr>\n",
       "<tr>\n",
       "  <th>Df Model:</th>              <td>     8</td>      <th>                     </th>               <td> </td>     \n",
       "</tr>\n",
       "<tr>\n",
       "  <th>Covariance Type:</th>      <td>nonrobust</td>    <th>                     </th>               <td> </td>     \n",
       "</tr>\n",
       "</table>\n",
       "<table class=\"simpletable\">\n",
       "<tr>\n",
       "            <td></td>              <th>coef</th>     <th>std err</th>      <th>t</th>      <th>P>|t|</th>  <th>[0.025</th>    <th>0.975]</th>  \n",
       "</tr>\n",
       "<tr>\n",
       "  <th>bedrooms</th>             <td>-1.406e+04</td> <td> 1197.282</td> <td>  -11.743</td> <td> 0.000</td> <td>-1.64e+04</td> <td>-1.17e+04</td>\n",
       "</tr>\n",
       "<tr>\n",
       "  <th>bathrooms</th>            <td> 9514.9024</td> <td> 1555.280</td> <td>    6.118</td> <td> 0.000</td> <td> 6466.294</td> <td> 1.26e+04</td>\n",
       "</tr>\n",
       "<tr>\n",
       "  <th>sqft_living</th>          <td> 8.202e+04</td> <td> 1614.394</td> <td>   50.805</td> <td> 0.000</td> <td> 7.89e+04</td> <td> 8.52e+04</td>\n",
       "</tr>\n",
       "<tr>\n",
       "  <th>sqft_lot</th>             <td> 8306.7984</td> <td> 1133.758</td> <td>    7.327</td> <td> 0.000</td> <td> 6084.444</td> <td> 1.05e+04</td>\n",
       "</tr>\n",
       "<tr>\n",
       "  <th>distance_from_a_city</th> <td>-9.638e+04</td> <td> 1073.214</td> <td>  -89.809</td> <td> 0.000</td> <td>-9.85e+04</td> <td>-9.43e+04</td>\n",
       "</tr>\n",
       "<tr>\n",
       "  <th>Age_of_House</th>         <td> 2.282e+04</td> <td> 1331.076</td> <td>   17.143</td> <td> 0.000</td> <td> 2.02e+04</td> <td> 2.54e+04</td>\n",
       "</tr>\n",
       "<tr>\n",
       "  <th>basement</th>             <td>-2.657e+04</td> <td> 2015.664</td> <td>  -13.180</td> <td> 0.000</td> <td>-3.05e+04</td> <td>-2.26e+04</td>\n",
       "</tr>\n",
       "<tr>\n",
       "  <th>grade</th>                <td> 6.222e+04</td> <td>  155.939</td> <td>  399.002</td> <td> 0.000</td> <td> 6.19e+04</td> <td> 6.25e+04</td>\n",
       "</tr>\n",
       "</table>\n",
       "<table class=\"simpletable\">\n",
       "<tr>\n",
       "  <th>Omnibus:</th>       <td>154.811</td> <th>  Durbin-Watson:     </th> <td>   2.008</td>\n",
       "</tr>\n",
       "<tr>\n",
       "  <th>Prob(Omnibus):</th> <td> 0.000</td>  <th>  Jarque-Bera (JB):  </th> <td> 219.858</td>\n",
       "</tr>\n",
       "<tr>\n",
       "  <th>Skew:</th>          <td> 0.164</td>  <th>  Prob(JB):          </th> <td>1.81e-48</td>\n",
       "</tr>\n",
       "<tr>\n",
       "  <th>Kurtosis:</th>      <td> 3.586</td>  <th>  Cond. No.          </th> <td>    17.9</td>\n",
       "</tr>\n",
       "</table><br/><br/>Warnings:<br/>[1] Standard Errors assume that the covariance matrix of the errors is correctly specified."
      ],
      "text/plain": [
       "<class 'statsmodels.iolib.summary.Summary'>\n",
       "\"\"\"\n",
       "                                 OLS Regression Results                                \n",
       "=======================================================================================\n",
       "Dep. Variable:                  price   R-squared (uncentered):                   0.958\n",
       "Model:                            OLS   Adj. R-squared (uncentered):              0.958\n",
       "Method:                 Least Squares   F-statistic:                          3.369e+04\n",
       "Date:                Wed, 03 Jun 2020   Prob (F-statistic):                        0.00\n",
       "Time:                        19:42:31   Log-Likelihood:                     -1.5096e+05\n",
       "No. Observations:               11701   AIC:                                  3.019e+05\n",
       "Df Residuals:                   11693   BIC:                                  3.020e+05\n",
       "Df Model:                           8                                                  \n",
       "Covariance Type:            nonrobust                                                  \n",
       "========================================================================================\n",
       "                           coef    std err          t      P>|t|      [0.025      0.975]\n",
       "----------------------------------------------------------------------------------------\n",
       "bedrooms             -1.406e+04   1197.282    -11.743      0.000   -1.64e+04   -1.17e+04\n",
       "bathrooms             9514.9024   1555.280      6.118      0.000    6466.294    1.26e+04\n",
       "sqft_living           8.202e+04   1614.394     50.805      0.000    7.89e+04    8.52e+04\n",
       "sqft_lot              8306.7984   1133.758      7.327      0.000    6084.444    1.05e+04\n",
       "distance_from_a_city -9.638e+04   1073.214    -89.809      0.000   -9.85e+04   -9.43e+04\n",
       "Age_of_House          2.282e+04   1331.076     17.143      0.000    2.02e+04    2.54e+04\n",
       "basement             -2.657e+04   2015.664    -13.180      0.000   -3.05e+04   -2.26e+04\n",
       "grade                 6.222e+04    155.939    399.002      0.000    6.19e+04    6.25e+04\n",
       "==============================================================================\n",
       "Omnibus:                      154.811   Durbin-Watson:                   2.008\n",
       "Prob(Omnibus):                  0.000   Jarque-Bera (JB):              219.858\n",
       "Skew:                           0.164   Prob(JB):                     1.81e-48\n",
       "Kurtosis:                       3.586   Cond. No.                         17.9\n",
       "==============================================================================\n",
       "\n",
       "Warnings:\n",
       "[1] Standard Errors assume that the covariance matrix of the errors is correctly specified.\n",
       "\"\"\""
      ]
     },
     "execution_count": 257,
     "metadata": {},
     "output_type": "execute_result"
    }
   ],
   "source": [
    "model = sm.OLS(y,X).fit()\n",
    "model.summary()"
   ]
  },
  {
   "cell_type": "code",
   "execution_count": 258,
   "metadata": {},
   "outputs": [
    {
     "name": "stdout",
     "output_type": "stream",
     "text": [
      "8 8\n",
      "['bedrooms', 'bathrooms', 'sqft_living', 'sqft_lot', 'distance_from_a_city']\n"
     ]
    },
    {
     "data": {
      "text/html": [
       "<div>\n",
       "<style scoped>\n",
       "    .dataframe tbody tr th:only-of-type {\n",
       "        vertical-align: middle;\n",
       "    }\n",
       "\n",
       "    .dataframe tbody tr th {\n",
       "        vertical-align: top;\n",
       "    }\n",
       "\n",
       "    .dataframe thead th {\n",
       "        text-align: right;\n",
       "    }\n",
       "</style>\n",
       "<table border=\"1\" class=\"dataframe\">\n",
       "  <thead>\n",
       "    <tr style=\"text-align: right;\">\n",
       "      <th></th>\n",
       "      <th>coef</th>\n",
       "      <th>std err</th>\n",
       "      <th>t</th>\n",
       "      <th>P&gt;|t|</th>\n",
       "      <th>[0.025</th>\n",
       "      <th>0.975]</th>\n",
       "    </tr>\n",
       "    <tr>\n",
       "      <th></th>\n",
       "      <th></th>\n",
       "      <th></th>\n",
       "      <th></th>\n",
       "      <th></th>\n",
       "      <th></th>\n",
       "      <th></th>\n",
       "    </tr>\n",
       "  </thead>\n",
       "  <tbody>\n",
       "    <tr>\n",
       "      <td>bedrooms</td>\n",
       "      <td>-1.406e+04</td>\n",
       "      <td>1197.282</td>\n",
       "      <td>-11.743</td>\n",
       "      <td>0.0</td>\n",
       "      <td>-1.64e+04</td>\n",
       "      <td>-1.17e+04</td>\n",
       "    </tr>\n",
       "    <tr>\n",
       "      <td>bathrooms</td>\n",
       "      <td>9514.9024</td>\n",
       "      <td>1555.280</td>\n",
       "      <td>6.118</td>\n",
       "      <td>0.0</td>\n",
       "      <td>6466.294</td>\n",
       "      <td>1.26e+04</td>\n",
       "    </tr>\n",
       "    <tr>\n",
       "      <td>sqft_living</td>\n",
       "      <td>8.202e+04</td>\n",
       "      <td>1614.394</td>\n",
       "      <td>50.805</td>\n",
       "      <td>0.0</td>\n",
       "      <td>7.89e+04</td>\n",
       "      <td>8.52e+04</td>\n",
       "    </tr>\n",
       "    <tr>\n",
       "      <td>sqft_lot</td>\n",
       "      <td>8306.7984</td>\n",
       "      <td>1133.758</td>\n",
       "      <td>7.327</td>\n",
       "      <td>0.0</td>\n",
       "      <td>6084.444</td>\n",
       "      <td>1.05e+04</td>\n",
       "    </tr>\n",
       "    <tr>\n",
       "      <td>distance_from_a_city</td>\n",
       "      <td>-9.638e+04</td>\n",
       "      <td>1073.214</td>\n",
       "      <td>-89.809</td>\n",
       "      <td>0.0</td>\n",
       "      <td>-9.85e+04</td>\n",
       "      <td>-9.43e+04</td>\n",
       "    </tr>\n",
       "  </tbody>\n",
       "</table>\n",
       "</div>"
      ],
      "text/plain": [
       "0                           coef    std err          t  P>|t|     [0.025  \\\n",
       "                                                                           \n",
       "bedrooms              -1.406e+04   1197.282    -11.743    0.0  -1.64e+04   \n",
       "bathrooms              9514.9024   1555.280      6.118    0.0   6466.294   \n",
       "sqft_living            8.202e+04   1614.394     50.805    0.0   7.89e+04   \n",
       "sqft_lot               8306.7984   1133.758      7.327    0.0   6084.444   \n",
       "distance_from_a_city  -9.638e+04   1073.214    -89.809    0.0  -9.85e+04   \n",
       "\n",
       "0                        0.975]  \n",
       "                                 \n",
       "bedrooms              -1.17e+04  \n",
       "bathrooms              1.26e+04  \n",
       "sqft_living            8.52e+04  \n",
       "sqft_lot               1.05e+04  \n",
       "distance_from_a_city  -9.43e+04  "
      ]
     },
     "execution_count": 258,
     "metadata": {},
     "output_type": "execute_result"
    }
   ],
   "source": [
    "summary = model.summary()\n",
    "p_table = summary.tables[1]\n",
    "p_table = pd.DataFrame(p_table.data)\n",
    "p_table.columns = p_table.iloc[0]\n",
    "p_table = p_table.drop(0)\n",
    "p_table = p_table.set_index(p_table.columns[0])\n",
    "p_table['P>|t|'] = p_table['P>|t|'].astype(float)\n",
    "x_cols = list(p_table[p_table['P>|t|'] < 0.05].index)\n",
    "print(len(p_table), len(x_cols))\n",
    "print(x_cols[:5])\n",
    "p_table.head()"
   ]
  },
  {
   "cell_type": "code",
   "execution_count": 259,
   "metadata": {},
   "outputs": [],
   "source": [
    "X = train[x_cols]\n",
    "y= train['price']"
   ]
  },
  {
   "cell_type": "code",
   "execution_count": 260,
   "metadata": {},
   "outputs": [
    {
     "data": {
      "text/html": [
       "<table class=\"simpletable\">\n",
       "<caption>OLS Regression Results</caption>\n",
       "<tr>\n",
       "  <th>Dep. Variable:</th>          <td>price</td>      <th>  R-squared (uncentered):</th>       <td>   0.958</td>  \n",
       "</tr>\n",
       "<tr>\n",
       "  <th>Model:</th>                   <td>OLS</td>       <th>  Adj. R-squared (uncentered):</th>  <td>   0.958</td>  \n",
       "</tr>\n",
       "<tr>\n",
       "  <th>Method:</th>             <td>Least Squares</td>  <th>  F-statistic:       </th>           <td>3.369e+04</td> \n",
       "</tr>\n",
       "<tr>\n",
       "  <th>Date:</th>             <td>Wed, 03 Jun 2020</td> <th>  Prob (F-statistic):</th>            <td>  0.00</td>   \n",
       "</tr>\n",
       "<tr>\n",
       "  <th>Time:</th>                 <td>19:42:32</td>     <th>  Log-Likelihood:    </th>          <td>-1.5096e+05</td>\n",
       "</tr>\n",
       "<tr>\n",
       "  <th>No. Observations:</th>      <td> 11701</td>      <th>  AIC:               </th>           <td>3.019e+05</td> \n",
       "</tr>\n",
       "<tr>\n",
       "  <th>Df Residuals:</th>          <td> 11693</td>      <th>  BIC:               </th>           <td>3.020e+05</td> \n",
       "</tr>\n",
       "<tr>\n",
       "  <th>Df Model:</th>              <td>     8</td>      <th>                     </th>               <td> </td>     \n",
       "</tr>\n",
       "<tr>\n",
       "  <th>Covariance Type:</th>      <td>nonrobust</td>    <th>                     </th>               <td> </td>     \n",
       "</tr>\n",
       "</table>\n",
       "<table class=\"simpletable\">\n",
       "<tr>\n",
       "            <td></td>              <th>coef</th>     <th>std err</th>      <th>t</th>      <th>P>|t|</th>  <th>[0.025</th>    <th>0.975]</th>  \n",
       "</tr>\n",
       "<tr>\n",
       "  <th>bedrooms</th>             <td>-1.406e+04</td> <td> 1197.282</td> <td>  -11.743</td> <td> 0.000</td> <td>-1.64e+04</td> <td>-1.17e+04</td>\n",
       "</tr>\n",
       "<tr>\n",
       "  <th>bathrooms</th>            <td> 9514.9024</td> <td> 1555.280</td> <td>    6.118</td> <td> 0.000</td> <td> 6466.294</td> <td> 1.26e+04</td>\n",
       "</tr>\n",
       "<tr>\n",
       "  <th>sqft_living</th>          <td> 8.202e+04</td> <td> 1614.394</td> <td>   50.805</td> <td> 0.000</td> <td> 7.89e+04</td> <td> 8.52e+04</td>\n",
       "</tr>\n",
       "<tr>\n",
       "  <th>sqft_lot</th>             <td> 8306.7984</td> <td> 1133.758</td> <td>    7.327</td> <td> 0.000</td> <td> 6084.444</td> <td> 1.05e+04</td>\n",
       "</tr>\n",
       "<tr>\n",
       "  <th>distance_from_a_city</th> <td>-9.638e+04</td> <td> 1073.214</td> <td>  -89.809</td> <td> 0.000</td> <td>-9.85e+04</td> <td>-9.43e+04</td>\n",
       "</tr>\n",
       "<tr>\n",
       "  <th>Age_of_House</th>         <td> 2.282e+04</td> <td> 1331.076</td> <td>   17.143</td> <td> 0.000</td> <td> 2.02e+04</td> <td> 2.54e+04</td>\n",
       "</tr>\n",
       "<tr>\n",
       "  <th>basement</th>             <td>-2.657e+04</td> <td> 2015.664</td> <td>  -13.180</td> <td> 0.000</td> <td>-3.05e+04</td> <td>-2.26e+04</td>\n",
       "</tr>\n",
       "<tr>\n",
       "  <th>grade</th>                <td> 6.222e+04</td> <td>  155.939</td> <td>  399.002</td> <td> 0.000</td> <td> 6.19e+04</td> <td> 6.25e+04</td>\n",
       "</tr>\n",
       "</table>\n",
       "<table class=\"simpletable\">\n",
       "<tr>\n",
       "  <th>Omnibus:</th>       <td>154.811</td> <th>  Durbin-Watson:     </th> <td>   2.008</td>\n",
       "</tr>\n",
       "<tr>\n",
       "  <th>Prob(Omnibus):</th> <td> 0.000</td>  <th>  Jarque-Bera (JB):  </th> <td> 219.858</td>\n",
       "</tr>\n",
       "<tr>\n",
       "  <th>Skew:</th>          <td> 0.164</td>  <th>  Prob(JB):          </th> <td>1.81e-48</td>\n",
       "</tr>\n",
       "<tr>\n",
       "  <th>Kurtosis:</th>      <td> 3.586</td>  <th>  Cond. No.          </th> <td>    17.9</td>\n",
       "</tr>\n",
       "</table><br/><br/>Warnings:<br/>[1] Standard Errors assume that the covariance matrix of the errors is correctly specified."
      ],
      "text/plain": [
       "<class 'statsmodels.iolib.summary.Summary'>\n",
       "\"\"\"\n",
       "                                 OLS Regression Results                                \n",
       "=======================================================================================\n",
       "Dep. Variable:                  price   R-squared (uncentered):                   0.958\n",
       "Model:                            OLS   Adj. R-squared (uncentered):              0.958\n",
       "Method:                 Least Squares   F-statistic:                          3.369e+04\n",
       "Date:                Wed, 03 Jun 2020   Prob (F-statistic):                        0.00\n",
       "Time:                        19:42:32   Log-Likelihood:                     -1.5096e+05\n",
       "No. Observations:               11701   AIC:                                  3.019e+05\n",
       "Df Residuals:                   11693   BIC:                                  3.020e+05\n",
       "Df Model:                           8                                                  \n",
       "Covariance Type:            nonrobust                                                  \n",
       "========================================================================================\n",
       "                           coef    std err          t      P>|t|      [0.025      0.975]\n",
       "----------------------------------------------------------------------------------------\n",
       "bedrooms             -1.406e+04   1197.282    -11.743      0.000   -1.64e+04   -1.17e+04\n",
       "bathrooms             9514.9024   1555.280      6.118      0.000    6466.294    1.26e+04\n",
       "sqft_living           8.202e+04   1614.394     50.805      0.000    7.89e+04    8.52e+04\n",
       "sqft_lot              8306.7984   1133.758      7.327      0.000    6084.444    1.05e+04\n",
       "distance_from_a_city -9.638e+04   1073.214    -89.809      0.000   -9.85e+04   -9.43e+04\n",
       "Age_of_House          2.282e+04   1331.076     17.143      0.000    2.02e+04    2.54e+04\n",
       "basement             -2.657e+04   2015.664    -13.180      0.000   -3.05e+04   -2.26e+04\n",
       "grade                 6.222e+04    155.939    399.002      0.000    6.19e+04    6.25e+04\n",
       "==============================================================================\n",
       "Omnibus:                      154.811   Durbin-Watson:                   2.008\n",
       "Prob(Omnibus):                  0.000   Jarque-Bera (JB):              219.858\n",
       "Skew:                           0.164   Prob(JB):                     1.81e-48\n",
       "Kurtosis:                       3.586   Cond. No.                         17.9\n",
       "==============================================================================\n",
       "\n",
       "Warnings:\n",
       "[1] Standard Errors assume that the covariance matrix of the errors is correctly specified.\n",
       "\"\"\""
      ]
     },
     "execution_count": 260,
     "metadata": {},
     "output_type": "execute_result"
    }
   ],
   "source": [
    "model = sm.OLS(y,X).fit()\n",
    "model.summary()"
   ]
  },
  {
   "cell_type": "code",
   "execution_count": 261,
   "metadata": {},
   "outputs": [
    {
     "data": {
      "text/plain": [
       "[('bedrooms', 1.762196916317755),\n",
       " ('bathrooms', 2.8870982423704517),\n",
       " ('sqft_living', 3.0500280447379997),\n",
       " ('sqft_lot', 1.5965285652875387),\n",
       " ('distance_from_a_city', 1.4110395224308567),\n",
       " ('Age_of_House', 2.15549949553907),\n",
       " ('basement', 1.8183290316051397),\n",
       " ('grade', 1.6791500506957482)]"
      ]
     },
     "execution_count": 261,
     "metadata": {},
     "output_type": "execute_result"
    }
   ],
   "source": [
    "# Your code here - Code a way to identify multicollinearity\n",
    "from statsmodels.stats.outliers_influence import variance_inflation_factor\n",
    "X = df[x_cols]\n",
    "vif = [variance_inflation_factor(X.values,i) for i in range(X.shape[1])]\n",
    "list(zip(x_cols,vif))"
   ]
  },
  {
   "cell_type": "code",
   "execution_count": 262,
   "metadata": {},
   "outputs": [
    {
     "name": "stdout",
     "output_type": "stream",
     "text": [
      "8 8\n"
     ]
    }
   ],
   "source": [
    "vif_scores = list(zip(x_cols, vif))\n",
    "x_cols = [x for x,vif in vif_scores if vif < 5]\n",
    "print(len(vif_scores), len(x_cols))"
   ]
  },
  {
   "cell_type": "code",
   "execution_count": 263,
   "metadata": {},
   "outputs": [
    {
     "data": {
      "text/html": [
       "<table class=\"simpletable\">\n",
       "<caption>OLS Regression Results</caption>\n",
       "<tr>\n",
       "  <th>Dep. Variable:</th>          <td>price</td>      <th>  R-squared (uncentered):</th>       <td>   0.958</td>  \n",
       "</tr>\n",
       "<tr>\n",
       "  <th>Model:</th>                   <td>OLS</td>       <th>  Adj. R-squared (uncentered):</th>  <td>   0.958</td>  \n",
       "</tr>\n",
       "<tr>\n",
       "  <th>Method:</th>             <td>Least Squares</td>  <th>  F-statistic:       </th>           <td>3.369e+04</td> \n",
       "</tr>\n",
       "<tr>\n",
       "  <th>Date:</th>             <td>Wed, 03 Jun 2020</td> <th>  Prob (F-statistic):</th>            <td>  0.00</td>   \n",
       "</tr>\n",
       "<tr>\n",
       "  <th>Time:</th>                 <td>19:42:32</td>     <th>  Log-Likelihood:    </th>          <td>-1.5096e+05</td>\n",
       "</tr>\n",
       "<tr>\n",
       "  <th>No. Observations:</th>      <td> 11701</td>      <th>  AIC:               </th>           <td>3.019e+05</td> \n",
       "</tr>\n",
       "<tr>\n",
       "  <th>Df Residuals:</th>          <td> 11693</td>      <th>  BIC:               </th>           <td>3.020e+05</td> \n",
       "</tr>\n",
       "<tr>\n",
       "  <th>Df Model:</th>              <td>     8</td>      <th>                     </th>               <td> </td>     \n",
       "</tr>\n",
       "<tr>\n",
       "  <th>Covariance Type:</th>      <td>nonrobust</td>    <th>                     </th>               <td> </td>     \n",
       "</tr>\n",
       "</table>\n",
       "<table class=\"simpletable\">\n",
       "<tr>\n",
       "            <td></td>              <th>coef</th>     <th>std err</th>      <th>t</th>      <th>P>|t|</th>  <th>[0.025</th>    <th>0.975]</th>  \n",
       "</tr>\n",
       "<tr>\n",
       "  <th>bedrooms</th>             <td>-1.406e+04</td> <td> 1197.282</td> <td>  -11.743</td> <td> 0.000</td> <td>-1.64e+04</td> <td>-1.17e+04</td>\n",
       "</tr>\n",
       "<tr>\n",
       "  <th>bathrooms</th>            <td> 9514.9024</td> <td> 1555.280</td> <td>    6.118</td> <td> 0.000</td> <td> 6466.294</td> <td> 1.26e+04</td>\n",
       "</tr>\n",
       "<tr>\n",
       "  <th>sqft_living</th>          <td> 8.202e+04</td> <td> 1614.394</td> <td>   50.805</td> <td> 0.000</td> <td> 7.89e+04</td> <td> 8.52e+04</td>\n",
       "</tr>\n",
       "<tr>\n",
       "  <th>sqft_lot</th>             <td> 8306.7984</td> <td> 1133.758</td> <td>    7.327</td> <td> 0.000</td> <td> 6084.444</td> <td> 1.05e+04</td>\n",
       "</tr>\n",
       "<tr>\n",
       "  <th>distance_from_a_city</th> <td>-9.638e+04</td> <td> 1073.214</td> <td>  -89.809</td> <td> 0.000</td> <td>-9.85e+04</td> <td>-9.43e+04</td>\n",
       "</tr>\n",
       "<tr>\n",
       "  <th>Age_of_House</th>         <td> 2.282e+04</td> <td> 1331.076</td> <td>   17.143</td> <td> 0.000</td> <td> 2.02e+04</td> <td> 2.54e+04</td>\n",
       "</tr>\n",
       "<tr>\n",
       "  <th>basement</th>             <td>-2.657e+04</td> <td> 2015.664</td> <td>  -13.180</td> <td> 0.000</td> <td>-3.05e+04</td> <td>-2.26e+04</td>\n",
       "</tr>\n",
       "<tr>\n",
       "  <th>grade</th>                <td> 6.222e+04</td> <td>  155.939</td> <td>  399.002</td> <td> 0.000</td> <td> 6.19e+04</td> <td> 6.25e+04</td>\n",
       "</tr>\n",
       "</table>\n",
       "<table class=\"simpletable\">\n",
       "<tr>\n",
       "  <th>Omnibus:</th>       <td>154.811</td> <th>  Durbin-Watson:     </th> <td>   2.008</td>\n",
       "</tr>\n",
       "<tr>\n",
       "  <th>Prob(Omnibus):</th> <td> 0.000</td>  <th>  Jarque-Bera (JB):  </th> <td> 219.858</td>\n",
       "</tr>\n",
       "<tr>\n",
       "  <th>Skew:</th>          <td> 0.164</td>  <th>  Prob(JB):          </th> <td>1.81e-48</td>\n",
       "</tr>\n",
       "<tr>\n",
       "  <th>Kurtosis:</th>      <td> 3.586</td>  <th>  Cond. No.          </th> <td>    17.9</td>\n",
       "</tr>\n",
       "</table><br/><br/>Warnings:<br/>[1] Standard Errors assume that the covariance matrix of the errors is correctly specified."
      ],
      "text/plain": [
       "<class 'statsmodels.iolib.summary.Summary'>\n",
       "\"\"\"\n",
       "                                 OLS Regression Results                                \n",
       "=======================================================================================\n",
       "Dep. Variable:                  price   R-squared (uncentered):                   0.958\n",
       "Model:                            OLS   Adj. R-squared (uncentered):              0.958\n",
       "Method:                 Least Squares   F-statistic:                          3.369e+04\n",
       "Date:                Wed, 03 Jun 2020   Prob (F-statistic):                        0.00\n",
       "Time:                        19:42:32   Log-Likelihood:                     -1.5096e+05\n",
       "No. Observations:               11701   AIC:                                  3.019e+05\n",
       "Df Residuals:                   11693   BIC:                                  3.020e+05\n",
       "Df Model:                           8                                                  \n",
       "Covariance Type:            nonrobust                                                  \n",
       "========================================================================================\n",
       "                           coef    std err          t      P>|t|      [0.025      0.975]\n",
       "----------------------------------------------------------------------------------------\n",
       "bedrooms             -1.406e+04   1197.282    -11.743      0.000   -1.64e+04   -1.17e+04\n",
       "bathrooms             9514.9024   1555.280      6.118      0.000    6466.294    1.26e+04\n",
       "sqft_living           8.202e+04   1614.394     50.805      0.000    7.89e+04    8.52e+04\n",
       "sqft_lot              8306.7984   1133.758      7.327      0.000    6084.444    1.05e+04\n",
       "distance_from_a_city -9.638e+04   1073.214    -89.809      0.000   -9.85e+04   -9.43e+04\n",
       "Age_of_House          2.282e+04   1331.076     17.143      0.000    2.02e+04    2.54e+04\n",
       "basement             -2.657e+04   2015.664    -13.180      0.000   -3.05e+04   -2.26e+04\n",
       "grade                 6.222e+04    155.939    399.002      0.000    6.19e+04    6.25e+04\n",
       "==============================================================================\n",
       "Omnibus:                      154.811   Durbin-Watson:                   2.008\n",
       "Prob(Omnibus):                  0.000   Jarque-Bera (JB):              219.858\n",
       "Skew:                           0.164   Prob(JB):                     1.81e-48\n",
       "Kurtosis:                       3.586   Cond. No.                         17.9\n",
       "==============================================================================\n",
       "\n",
       "Warnings:\n",
       "[1] Standard Errors assume that the covariance matrix of the errors is correctly specified.\n",
       "\"\"\""
      ]
     },
     "execution_count": 263,
     "metadata": {},
     "output_type": "execute_result"
    }
   ],
   "source": [
    "X = train[x_cols]\n",
    "y= train['price']\n",
    "model = sm.OLS(y,X).fit()\n",
    "model.summary()"
   ]
  },
  {
   "cell_type": "code",
   "execution_count": 264,
   "metadata": {
    "scrolled": false
   },
   "outputs": [
    {
     "data": {
      "text/html": [
       "<table class=\"simpletable\">\n",
       "<caption>OLS Regression Results</caption>\n",
       "<tr>\n",
       "  <th>Dep. Variable:</th>          <td>price</td>      <th>  R-squared (uncentered):</th>       <td>   0.958</td>  \n",
       "</tr>\n",
       "<tr>\n",
       "  <th>Model:</th>                   <td>OLS</td>       <th>  Adj. R-squared (uncentered):</th>  <td>   0.958</td>  \n",
       "</tr>\n",
       "<tr>\n",
       "  <th>Method:</th>             <td>Least Squares</td>  <th>  F-statistic:       </th>           <td>3.369e+04</td> \n",
       "</tr>\n",
       "<tr>\n",
       "  <th>Date:</th>             <td>Wed, 03 Jun 2020</td> <th>  Prob (F-statistic):</th>            <td>  0.00</td>   \n",
       "</tr>\n",
       "<tr>\n",
       "  <th>Time:</th>                 <td>19:42:32</td>     <th>  Log-Likelihood:    </th>          <td>-1.5096e+05</td>\n",
       "</tr>\n",
       "<tr>\n",
       "  <th>No. Observations:</th>      <td> 11701</td>      <th>  AIC:               </th>           <td>3.019e+05</td> \n",
       "</tr>\n",
       "<tr>\n",
       "  <th>Df Residuals:</th>          <td> 11693</td>      <th>  BIC:               </th>           <td>3.020e+05</td> \n",
       "</tr>\n",
       "<tr>\n",
       "  <th>Df Model:</th>              <td>     8</td>      <th>                     </th>               <td> </td>     \n",
       "</tr>\n",
       "<tr>\n",
       "  <th>Covariance Type:</th>      <td>nonrobust</td>    <th>                     </th>               <td> </td>     \n",
       "</tr>\n",
       "</table>\n",
       "<table class=\"simpletable\">\n",
       "<tr>\n",
       "            <td></td>              <th>coef</th>     <th>std err</th>      <th>t</th>      <th>P>|t|</th>  <th>[0.025</th>    <th>0.975]</th>  \n",
       "</tr>\n",
       "<tr>\n",
       "  <th>bedrooms</th>             <td>-1.406e+04</td> <td> 1197.282</td> <td>  -11.743</td> <td> 0.000</td> <td>-1.64e+04</td> <td>-1.17e+04</td>\n",
       "</tr>\n",
       "<tr>\n",
       "  <th>bathrooms</th>            <td> 9514.9024</td> <td> 1555.280</td> <td>    6.118</td> <td> 0.000</td> <td> 6466.294</td> <td> 1.26e+04</td>\n",
       "</tr>\n",
       "<tr>\n",
       "  <th>sqft_living</th>          <td> 8.202e+04</td> <td> 1614.394</td> <td>   50.805</td> <td> 0.000</td> <td> 7.89e+04</td> <td> 8.52e+04</td>\n",
       "</tr>\n",
       "<tr>\n",
       "  <th>sqft_lot</th>             <td> 8306.7984</td> <td> 1133.758</td> <td>    7.327</td> <td> 0.000</td> <td> 6084.444</td> <td> 1.05e+04</td>\n",
       "</tr>\n",
       "<tr>\n",
       "  <th>distance_from_a_city</th> <td>-9.638e+04</td> <td> 1073.214</td> <td>  -89.809</td> <td> 0.000</td> <td>-9.85e+04</td> <td>-9.43e+04</td>\n",
       "</tr>\n",
       "<tr>\n",
       "  <th>Age_of_House</th>         <td> 2.282e+04</td> <td> 1331.076</td> <td>   17.143</td> <td> 0.000</td> <td> 2.02e+04</td> <td> 2.54e+04</td>\n",
       "</tr>\n",
       "<tr>\n",
       "  <th>basement</th>             <td>-2.657e+04</td> <td> 2015.664</td> <td>  -13.180</td> <td> 0.000</td> <td>-3.05e+04</td> <td>-2.26e+04</td>\n",
       "</tr>\n",
       "<tr>\n",
       "  <th>grade</th>                <td> 6.222e+04</td> <td>  155.939</td> <td>  399.002</td> <td> 0.000</td> <td> 6.19e+04</td> <td> 6.25e+04</td>\n",
       "</tr>\n",
       "</table>\n",
       "<table class=\"simpletable\">\n",
       "<tr>\n",
       "  <th>Omnibus:</th>       <td>154.811</td> <th>  Durbin-Watson:     </th> <td>   2.008</td>\n",
       "</tr>\n",
       "<tr>\n",
       "  <th>Prob(Omnibus):</th> <td> 0.000</td>  <th>  Jarque-Bera (JB):  </th> <td> 219.858</td>\n",
       "</tr>\n",
       "<tr>\n",
       "  <th>Skew:</th>          <td> 0.164</td>  <th>  Prob(JB):          </th> <td>1.81e-48</td>\n",
       "</tr>\n",
       "<tr>\n",
       "  <th>Kurtosis:</th>      <td> 3.586</td>  <th>  Cond. No.          </th> <td>    17.9</td>\n",
       "</tr>\n",
       "</table><br/><br/>Warnings:<br/>[1] Standard Errors assume that the covariance matrix of the errors is correctly specified."
      ],
      "text/plain": [
       "<class 'statsmodels.iolib.summary.Summary'>\n",
       "\"\"\"\n",
       "                                 OLS Regression Results                                \n",
       "=======================================================================================\n",
       "Dep. Variable:                  price   R-squared (uncentered):                   0.958\n",
       "Model:                            OLS   Adj. R-squared (uncentered):              0.958\n",
       "Method:                 Least Squares   F-statistic:                          3.369e+04\n",
       "Date:                Wed, 03 Jun 2020   Prob (F-statistic):                        0.00\n",
       "Time:                        19:42:32   Log-Likelihood:                     -1.5096e+05\n",
       "No. Observations:               11701   AIC:                                  3.019e+05\n",
       "Df Residuals:                   11693   BIC:                                  3.020e+05\n",
       "Df Model:                           8                                                  \n",
       "Covariance Type:            nonrobust                                                  \n",
       "========================================================================================\n",
       "                           coef    std err          t      P>|t|      [0.025      0.975]\n",
       "----------------------------------------------------------------------------------------\n",
       "bedrooms             -1.406e+04   1197.282    -11.743      0.000   -1.64e+04   -1.17e+04\n",
       "bathrooms             9514.9024   1555.280      6.118      0.000    6466.294    1.26e+04\n",
       "sqft_living           8.202e+04   1614.394     50.805      0.000    7.89e+04    8.52e+04\n",
       "sqft_lot              8306.7984   1133.758      7.327      0.000    6084.444    1.05e+04\n",
       "distance_from_a_city -9.638e+04   1073.214    -89.809      0.000   -9.85e+04   -9.43e+04\n",
       "Age_of_House          2.282e+04   1331.076     17.143      0.000    2.02e+04    2.54e+04\n",
       "basement             -2.657e+04   2015.664    -13.180      0.000   -3.05e+04   -2.26e+04\n",
       "grade                 6.222e+04    155.939    399.002      0.000    6.19e+04    6.25e+04\n",
       "==============================================================================\n",
       "Omnibus:                      154.811   Durbin-Watson:                   2.008\n",
       "Prob(Omnibus):                  0.000   Jarque-Bera (JB):              219.858\n",
       "Skew:                           0.164   Prob(JB):                     1.81e-48\n",
       "Kurtosis:                       3.586   Cond. No.                         17.9\n",
       "==============================================================================\n",
       "\n",
       "Warnings:\n",
       "[1] Standard Errors assume that the covariance matrix of the errors is correctly specified.\n",
       "\"\"\""
      ]
     },
     "execution_count": 264,
     "metadata": {},
     "output_type": "execute_result"
    }
   ],
   "source": [
    "model = sm.OLS(y,X).fit()\n",
    "model.summary()"
   ]
  },
  {
   "cell_type": "code",
   "execution_count": 265,
   "metadata": {},
   "outputs": [
    {
     "data": {
      "image/png": "[encoded data removed]",
      "text/plain": [
       "<Figure size 432x288 with 1 Axes>"
      ]
     },
     "metadata": {},
     "output_type": "display_data"
    }
   ],
   "source": [
    "fig = sm.graphics.qqplot(model.resid, dist=stats.norm, line='45', fit=True)\n"
   ]
  },
  {
   "cell_type": "code",
   "execution_count": 266,
   "metadata": {},
   "outputs": [
    {
     "data": {
      "text/plain": [
       "[<matplotlib.lines.Line2D at 0x1c2e82d438>]"
      ]
     },
     "execution_count": 266,
     "metadata": {},
     "output_type": "execute_result"
    },
    {
     "data": {
      "image/png": "[encoded data removed]",
      "text/plain": [
       "<Figure size 432x288 with 1 Axes>"
      ]
     },
     "metadata": {},
     "output_type": "display_data"
    }
   ],
   "source": [
    "plt.scatter(model.predict(train[x_cols]), model.resid)\n",
    "plt.plot(model.predict(train[x_cols]), [0 for i in range(len(train))])"
   ]
  },
  {
   "cell_type": "code",
   "execution_count": 267,
   "metadata": {},
   "outputs": [
    {
     "data": {
      "text/plain": [
       "<matplotlib.axes._subplots.AxesSubplot at 0x1c2e47c908>"
      ]
     },
     "execution_count": 267,
     "metadata": {},
     "output_type": "execute_result"
    },
    {
     "data": {
      "image/png": "[encoded data removed]",
      "text/plain": [
       "<Figure size 432x288 with 1 Axes>"
      ]
     },
     "metadata": {},
     "output_type": "display_data"
    }
   ],
   "source": [
    "df.price.hist()"
   ]
  },
  {
   "cell_type": "code",
   "execution_count": 268,
   "metadata": {},
   "outputs": [
    {
     "name": "stdout",
     "output_type": "stream",
     "text": [
      "0.8 percentile: 600000.0\n",
      "0.81 percentile: 606000.0\n",
      "0.82 percentile: 616000.0\n",
      "0.83 percentile: 625000.0\n",
      "0.84 percentile: 635000.0\n",
      "0.85 percentile: 645000.0\n",
      "0.86 percentile: 655000.0\n",
      "0.87 percentile: 665987.0000000001\n",
      "0.88 percentile: 677451.9999999997\n",
      "0.89 percentile: 690000.0\n",
      "0.9 percentile: 700000.0\n",
      "0.91 percentile: 715000.0\n",
      "0.92 percentile: 729999.9199999999\n",
      "0.93 percentile: 745000.0\n",
      "0.94 percentile: 759892.9999999988\n",
      "0.95 percentile: 775000.0\n",
      "0.96 percentile: 792479.9999999995\n",
      "0.97 percentile: 810000.0\n",
      "0.98 percentile: 830004.8999999999\n",
      "0.99 percentile: 852877.2\n"
     ]
    }
   ],
   "source": [
    "for i in range(80,100):\n",
    "    q = i/100\n",
    "    print(\"{} percentile: {}\".format(q, df.price.quantile(q=q)))"
   ]
  },
  {
   "cell_type": "code",
   "execution_count": 269,
   "metadata": {},
   "outputs": [
    {
     "name": "stdout",
     "output_type": "stream",
     "text": [
      "Percent removed: 0.0\n"
     ]
    }
   ],
   "source": [
    "orig_tot = len(df)\n",
    "df = df[df.price < 970000] # Subsetting to remove extreme outliers\n",
    "print('Percent removed:', (orig_tot -len(df))/orig_tot)\n",
    "train, test = train_test_split(df)"
   ]
  },
  {
   "cell_type": "code",
   "execution_count": 270,
   "metadata": {},
   "outputs": [],
   "source": [
    "X = train[x_cols]\n",
    "y = train['price']"
   ]
  },
  {
   "cell_type": "code",
   "execution_count": 271,
   "metadata": {},
   "outputs": [
    {
     "data": {
      "text/html": [
       "<table class=\"simpletable\">\n",
       "<caption>OLS Regression Results</caption>\n",
       "<tr>\n",
       "  <th>Dep. Variable:</th>          <td>price</td>      <th>  R-squared (uncentered):</th>       <td>   0.958</td>  \n",
       "</tr>\n",
       "<tr>\n",
       "  <th>Model:</th>                   <td>OLS</td>       <th>  Adj. R-squared (uncentered):</th>  <td>   0.958</td>  \n",
       "</tr>\n",
       "<tr>\n",
       "  <th>Method:</th>             <td>Least Squares</td>  <th>  F-statistic:       </th>           <td>3.343e+04</td> \n",
       "</tr>\n",
       "<tr>\n",
       "  <th>Date:</th>             <td>Wed, 03 Jun 2020</td> <th>  Prob (F-statistic):</th>            <td>  0.00</td>   \n",
       "</tr>\n",
       "<tr>\n",
       "  <th>Time:</th>                 <td>19:42:34</td>     <th>  Log-Likelihood:    </th>          <td>-1.5096e+05</td>\n",
       "</tr>\n",
       "<tr>\n",
       "  <th>No. Observations:</th>      <td> 11701</td>      <th>  AIC:               </th>           <td>3.019e+05</td> \n",
       "</tr>\n",
       "<tr>\n",
       "  <th>Df Residuals:</th>          <td> 11693</td>      <th>  BIC:               </th>           <td>3.020e+05</td> \n",
       "</tr>\n",
       "<tr>\n",
       "  <th>Df Model:</th>              <td>     8</td>      <th>                     </th>               <td> </td>     \n",
       "</tr>\n",
       "<tr>\n",
       "  <th>Covariance Type:</th>      <td>nonrobust</td>    <th>                     </th>               <td> </td>     \n",
       "</tr>\n",
       "</table>\n",
       "<table class=\"simpletable\">\n",
       "<tr>\n",
       "            <td></td>              <th>coef</th>     <th>std err</th>      <th>t</th>      <th>P>|t|</th>  <th>[0.025</th>    <th>0.975]</th>  \n",
       "</tr>\n",
       "<tr>\n",
       "  <th>bedrooms</th>             <td> -1.23e+04</td> <td> 1196.834</td> <td>  -10.280</td> <td> 0.000</td> <td>-1.46e+04</td> <td>-9957.430</td>\n",
       "</tr>\n",
       "<tr>\n",
       "  <th>bathrooms</th>            <td> 1.051e+04</td> <td> 1551.173</td> <td>    6.778</td> <td> 0.000</td> <td> 7472.597</td> <td> 1.36e+04</td>\n",
       "</tr>\n",
       "<tr>\n",
       "  <th>sqft_living</th>          <td> 7.941e+04</td> <td> 1608.747</td> <td>   49.362</td> <td> 0.000</td> <td> 7.63e+04</td> <td> 8.26e+04</td>\n",
       "</tr>\n",
       "<tr>\n",
       "  <th>sqft_lot</th>             <td> 8213.4420</td> <td> 1136.778</td> <td>    7.225</td> <td> 0.000</td> <td> 5985.167</td> <td> 1.04e+04</td>\n",
       "</tr>\n",
       "<tr>\n",
       "  <th>distance_from_a_city</th> <td>-9.537e+04</td> <td> 1075.441</td> <td>  -88.676</td> <td> 0.000</td> <td>-9.75e+04</td> <td>-9.33e+04</td>\n",
       "</tr>\n",
       "<tr>\n",
       "  <th>Age_of_House</th>         <td> 2.346e+04</td> <td> 1329.920</td> <td>   17.641</td> <td> 0.000</td> <td> 2.09e+04</td> <td> 2.61e+04</td>\n",
       "</tr>\n",
       "<tr>\n",
       "  <th>basement</th>             <td>-2.573e+04</td> <td> 2011.235</td> <td>  -12.792</td> <td> 0.000</td> <td>-2.97e+04</td> <td>-2.18e+04</td>\n",
       "</tr>\n",
       "<tr>\n",
       "  <th>grade</th>                <td> 6.201e+04</td> <td>  155.508</td> <td>  398.771</td> <td> 0.000</td> <td> 6.17e+04</td> <td> 6.23e+04</td>\n",
       "</tr>\n",
       "</table>\n",
       "<table class=\"simpletable\">\n",
       "<tr>\n",
       "  <th>Omnibus:</th>       <td>140.233</td> <th>  Durbin-Watson:     </th> <td>   1.998</td>\n",
       "</tr>\n",
       "<tr>\n",
       "  <th>Prob(Omnibus):</th> <td> 0.000</td>  <th>  Jarque-Bera (JB):  </th> <td> 202.341</td>\n",
       "</tr>\n",
       "<tr>\n",
       "  <th>Skew:</th>          <td> 0.144</td>  <th>  Prob(JB):          </th> <td>1.15e-44</td>\n",
       "</tr>\n",
       "<tr>\n",
       "  <th>Kurtosis:</th>      <td> 3.577</td>  <th>  Cond. No.          </th> <td>    17.9</td>\n",
       "</tr>\n",
       "</table><br/><br/>Warnings:<br/>[1] Standard Errors assume that the covariance matrix of the errors is correctly specified."
      ],
      "text/plain": [
       "<class 'statsmodels.iolib.summary.Summary'>\n",
       "\"\"\"\n",
       "                                 OLS Regression Results                                \n",
       "=======================================================================================\n",
       "Dep. Variable:                  price   R-squared (uncentered):                   0.958\n",
       "Model:                            OLS   Adj. R-squared (uncentered):              0.958\n",
       "Method:                 Least Squares   F-statistic:                          3.343e+04\n",
       "Date:                Wed, 03 Jun 2020   Prob (F-statistic):                        0.00\n",
       "Time:                        19:42:34   Log-Likelihood:                     -1.5096e+05\n",
       "No. Observations:               11701   AIC:                                  3.019e+05\n",
       "Df Residuals:                   11693   BIC:                                  3.020e+05\n",
       "Df Model:                           8                                                  \n",
       "Covariance Type:            nonrobust                                                  \n",
       "========================================================================================\n",
       "                           coef    std err          t      P>|t|      [0.025      0.975]\n",
       "----------------------------------------------------------------------------------------\n",
       "bedrooms              -1.23e+04   1196.834    -10.280      0.000   -1.46e+04   -9957.430\n",
       "bathrooms             1.051e+04   1551.173      6.778      0.000    7472.597    1.36e+04\n",
       "sqft_living           7.941e+04   1608.747     49.362      0.000    7.63e+04    8.26e+04\n",
       "sqft_lot              8213.4420   1136.778      7.225      0.000    5985.167    1.04e+04\n",
       "distance_from_a_city -9.537e+04   1075.441    -88.676      0.000   -9.75e+04   -9.33e+04\n",
       "Age_of_House          2.346e+04   1329.920     17.641      0.000    2.09e+04    2.61e+04\n",
       "basement             -2.573e+04   2011.235    -12.792      0.000   -2.97e+04   -2.18e+04\n",
       "grade                 6.201e+04    155.508    398.771      0.000    6.17e+04    6.23e+04\n",
       "==============================================================================\n",
       "Omnibus:                      140.233   Durbin-Watson:                   1.998\n",
       "Prob(Omnibus):                  0.000   Jarque-Bera (JB):              202.341\n",
       "Skew:                           0.144   Prob(JB):                     1.15e-44\n",
       "Kurtosis:                       3.577   Cond. No.                         17.9\n",
       "==============================================================================\n",
       "\n",
       "Warnings:\n",
       "[1] Standard Errors assume that the covariance matrix of the errors is correctly specified.\n",
       "\"\"\""
      ]
     },
     "execution_count": 271,
     "metadata": {},
     "output_type": "execute_result"
    }
   ],
   "source": [
    "model = sm.OLS(y,X).fit()\n",
    "model.summary()"
   ]
  },
  {
   "cell_type": "code",
   "execution_count": 272,
   "metadata": {},
   "outputs": [
    {
     "name": "stdout",
     "output_type": "stream",
     "text": [
      "8 8\n",
      "['bedrooms', 'bathrooms', 'sqft_living', 'sqft_lot', 'distance_from_a_city']\n"
     ]
    },
    {
     "data": {
      "text/html": [
       "<div>\n",
       "<style scoped>\n",
       "    .dataframe tbody tr th:only-of-type {\n",
       "        vertical-align: middle;\n",
       "    }\n",
       "\n",
       "    .dataframe tbody tr th {\n",
       "        vertical-align: top;\n",
       "    }\n",
       "\n",
       "    .dataframe thead th {\n",
       "        text-align: right;\n",
       "    }\n",
       "</style>\n",
       "<table border=\"1\" class=\"dataframe\">\n",
       "  <thead>\n",
       "    <tr style=\"text-align: right;\">\n",
       "      <th></th>\n",
       "      <th>coef</th>\n",
       "      <th>std err</th>\n",
       "      <th>t</th>\n",
       "      <th>P&gt;|t|</th>\n",
       "      <th>[0.025</th>\n",
       "      <th>0.975]</th>\n",
       "    </tr>\n",
       "    <tr>\n",
       "      <th></th>\n",
       "      <th></th>\n",
       "      <th></th>\n",
       "      <th></th>\n",
       "      <th></th>\n",
       "      <th></th>\n",
       "      <th></th>\n",
       "    </tr>\n",
       "  </thead>\n",
       "  <tbody>\n",
       "    <tr>\n",
       "      <td>bedrooms</td>\n",
       "      <td>-1.23e+04</td>\n",
       "      <td>1196.834</td>\n",
       "      <td>-10.280</td>\n",
       "      <td>0.0</td>\n",
       "      <td>-1.46e+04</td>\n",
       "      <td>-9957.430</td>\n",
       "    </tr>\n",
       "    <tr>\n",
       "      <td>bathrooms</td>\n",
       "      <td>1.051e+04</td>\n",
       "      <td>1551.173</td>\n",
       "      <td>6.778</td>\n",
       "      <td>0.0</td>\n",
       "      <td>7472.597</td>\n",
       "      <td>1.36e+04</td>\n",
       "    </tr>\n",
       "    <tr>\n",
       "      <td>sqft_living</td>\n",
       "      <td>7.941e+04</td>\n",
       "      <td>1608.747</td>\n",
       "      <td>49.362</td>\n",
       "      <td>0.0</td>\n",
       "      <td>7.63e+04</td>\n",
       "      <td>8.26e+04</td>\n",
       "    </tr>\n",
       "    <tr>\n",
       "      <td>sqft_lot</td>\n",
       "      <td>8213.4420</td>\n",
       "      <td>1136.778</td>\n",
       "      <td>7.225</td>\n",
       "      <td>0.0</td>\n",
       "      <td>5985.167</td>\n",
       "      <td>1.04e+04</td>\n",
       "    </tr>\n",
       "    <tr>\n",
       "      <td>distance_from_a_city</td>\n",
       "      <td>-9.537e+04</td>\n",
       "      <td>1075.441</td>\n",
       "      <td>-88.676</td>\n",
       "      <td>0.0</td>\n",
       "      <td>-9.75e+04</td>\n",
       "      <td>-9.33e+04</td>\n",
       "    </tr>\n",
       "  </tbody>\n",
       "</table>\n",
       "</div>"
      ],
      "text/plain": [
       "0                           coef    std err          t  P>|t|     [0.025  \\\n",
       "                                                                           \n",
       "bedrooms               -1.23e+04   1196.834    -10.280    0.0  -1.46e+04   \n",
       "bathrooms              1.051e+04   1551.173      6.778    0.0   7472.597   \n",
       "sqft_living            7.941e+04   1608.747     49.362    0.0   7.63e+04   \n",
       "sqft_lot               8213.4420   1136.778      7.225    0.0   5985.167   \n",
       "distance_from_a_city  -9.537e+04   1075.441    -88.676    0.0  -9.75e+04   \n",
       "\n",
       "0                        0.975]  \n",
       "                                 \n",
       "bedrooms              -9957.430  \n",
       "bathrooms              1.36e+04  \n",
       "sqft_living            8.26e+04  \n",
       "sqft_lot               1.04e+04  \n",
       "distance_from_a_city  -9.33e+04  "
      ]
     },
     "execution_count": 272,
     "metadata": {},
     "output_type": "execute_result"
    }
   ],
   "source": [
    "summary = model.summary()\n",
    "p_table = summary.tables[1]\n",
    "p_table = pd.DataFrame(p_table.data)\n",
    "p_table.columns = p_table.iloc[0]\n",
    "p_table = p_table.drop(0)\n",
    "p_table = p_table.set_index(p_table.columns[0])\n",
    "p_table['P>|t|'] = p_table['P>|t|'].astype(float)\n",
    "x_cols = list(p_table[p_table['P>|t|'] < 0.05].index)\n",
    "print(len(p_table), len(x_cols))\n",
    "print(x_cols[:5])\n",
    "p_table.head()"
   ]
  },
  {
   "cell_type": "code",
   "execution_count": 273,
   "metadata": {},
   "outputs": [
    {
     "data": {
      "text/html": [
       "<table class=\"simpletable\">\n",
       "<caption>OLS Regression Results</caption>\n",
       "<tr>\n",
       "  <th>Dep. Variable:</th>          <td>price</td>      <th>  R-squared (uncentered):</th>       <td>   0.958</td>  \n",
       "</tr>\n",
       "<tr>\n",
       "  <th>Model:</th>                   <td>OLS</td>       <th>  Adj. R-squared (uncentered):</th>  <td>   0.958</td>  \n",
       "</tr>\n",
       "<tr>\n",
       "  <th>Method:</th>             <td>Least Squares</td>  <th>  F-statistic:       </th>           <td>3.343e+04</td> \n",
       "</tr>\n",
       "<tr>\n",
       "  <th>Date:</th>             <td>Wed, 03 Jun 2020</td> <th>  Prob (F-statistic):</th>            <td>  0.00</td>   \n",
       "</tr>\n",
       "<tr>\n",
       "  <th>Time:</th>                 <td>19:42:34</td>     <th>  Log-Likelihood:    </th>          <td>-1.5096e+05</td>\n",
       "</tr>\n",
       "<tr>\n",
       "  <th>No. Observations:</th>      <td> 11701</td>      <th>  AIC:               </th>           <td>3.019e+05</td> \n",
       "</tr>\n",
       "<tr>\n",
       "  <th>Df Residuals:</th>          <td> 11693</td>      <th>  BIC:               </th>           <td>3.020e+05</td> \n",
       "</tr>\n",
       "<tr>\n",
       "  <th>Df Model:</th>              <td>     8</td>      <th>                     </th>               <td> </td>     \n",
       "</tr>\n",
       "<tr>\n",
       "  <th>Covariance Type:</th>      <td>nonrobust</td>    <th>                     </th>               <td> </td>     \n",
       "</tr>\n",
       "</table>\n",
       "<table class=\"simpletable\">\n",
       "<tr>\n",
       "            <td></td>              <th>coef</th>     <th>std err</th>      <th>t</th>      <th>P>|t|</th>  <th>[0.025</th>    <th>0.975]</th>  \n",
       "</tr>\n",
       "<tr>\n",
       "  <th>bedrooms</th>             <td> -1.23e+04</td> <td> 1196.834</td> <td>  -10.280</td> <td> 0.000</td> <td>-1.46e+04</td> <td>-9957.430</td>\n",
       "</tr>\n",
       "<tr>\n",
       "  <th>bathrooms</th>            <td> 1.051e+04</td> <td> 1551.173</td> <td>    6.778</td> <td> 0.000</td> <td> 7472.597</td> <td> 1.36e+04</td>\n",
       "</tr>\n",
       "<tr>\n",
       "  <th>sqft_living</th>          <td> 7.941e+04</td> <td> 1608.747</td> <td>   49.362</td> <td> 0.000</td> <td> 7.63e+04</td> <td> 8.26e+04</td>\n",
       "</tr>\n",
       "<tr>\n",
       "  <th>sqft_lot</th>             <td> 8213.4420</td> <td> 1136.778</td> <td>    7.225</td> <td> 0.000</td> <td> 5985.167</td> <td> 1.04e+04</td>\n",
       "</tr>\n",
       "<tr>\n",
       "  <th>distance_from_a_city</th> <td>-9.537e+04</td> <td> 1075.441</td> <td>  -88.676</td> <td> 0.000</td> <td>-9.75e+04</td> <td>-9.33e+04</td>\n",
       "</tr>\n",
       "<tr>\n",
       "  <th>Age_of_House</th>         <td> 2.346e+04</td> <td> 1329.920</td> <td>   17.641</td> <td> 0.000</td> <td> 2.09e+04</td> <td> 2.61e+04</td>\n",
       "</tr>\n",
       "<tr>\n",
       "  <th>basement</th>             <td>-2.573e+04</td> <td> 2011.235</td> <td>  -12.792</td> <td> 0.000</td> <td>-2.97e+04</td> <td>-2.18e+04</td>\n",
       "</tr>\n",
       "<tr>\n",
       "  <th>grade</th>                <td> 6.201e+04</td> <td>  155.508</td> <td>  398.771</td> <td> 0.000</td> <td> 6.17e+04</td> <td> 6.23e+04</td>\n",
       "</tr>\n",
       "</table>\n",
       "<table class=\"simpletable\">\n",
       "<tr>\n",
       "  <th>Omnibus:</th>       <td>140.233</td> <th>  Durbin-Watson:     </th> <td>   1.998</td>\n",
       "</tr>\n",
       "<tr>\n",
       "  <th>Prob(Omnibus):</th> <td> 0.000</td>  <th>  Jarque-Bera (JB):  </th> <td> 202.341</td>\n",
       "</tr>\n",
       "<tr>\n",
       "  <th>Skew:</th>          <td> 0.144</td>  <th>  Prob(JB):          </th> <td>1.15e-44</td>\n",
       "</tr>\n",
       "<tr>\n",
       "  <th>Kurtosis:</th>      <td> 3.577</td>  <th>  Cond. No.          </th> <td>    17.9</td>\n",
       "</tr>\n",
       "</table><br/><br/>Warnings:<br/>[1] Standard Errors assume that the covariance matrix of the errors is correctly specified."
      ],
      "text/plain": [
       "<class 'statsmodels.iolib.summary.Summary'>\n",
       "\"\"\"\n",
       "                                 OLS Regression Results                                \n",
       "=======================================================================================\n",
       "Dep. Variable:                  price   R-squared (uncentered):                   0.958\n",
       "Model:                            OLS   Adj. R-squared (uncentered):              0.958\n",
       "Method:                 Least Squares   F-statistic:                          3.343e+04\n",
       "Date:                Wed, 03 Jun 2020   Prob (F-statistic):                        0.00\n",
       "Time:                        19:42:34   Log-Likelihood:                     -1.5096e+05\n",
       "No. Observations:               11701   AIC:                                  3.019e+05\n",
       "Df Residuals:                   11693   BIC:                                  3.020e+05\n",
       "Df Model:                           8                                                  \n",
       "Covariance Type:            nonrobust                                                  \n",
       "========================================================================================\n",
       "                           coef    std err          t      P>|t|      [0.025      0.975]\n",
       "----------------------------------------------------------------------------------------\n",
       "bedrooms              -1.23e+04   1196.834    -10.280      0.000   -1.46e+04   -9957.430\n",
       "bathrooms             1.051e+04   1551.173      6.778      0.000    7472.597    1.36e+04\n",
       "sqft_living           7.941e+04   1608.747     49.362      0.000    7.63e+04    8.26e+04\n",
       "sqft_lot              8213.4420   1136.778      7.225      0.000    5985.167    1.04e+04\n",
       "distance_from_a_city -9.537e+04   1075.441    -88.676      0.000   -9.75e+04   -9.33e+04\n",
       "Age_of_House          2.346e+04   1329.920     17.641      0.000    2.09e+04    2.61e+04\n",
       "basement             -2.573e+04   2011.235    -12.792      0.000   -2.97e+04   -2.18e+04\n",
       "grade                 6.201e+04    155.508    398.771      0.000    6.17e+04    6.23e+04\n",
       "==============================================================================\n",
       "Omnibus:                      140.233   Durbin-Watson:                   1.998\n",
       "Prob(Omnibus):                  0.000   Jarque-Bera (JB):              202.341\n",
       "Skew:                           0.144   Prob(JB):                     1.15e-44\n",
       "Kurtosis:                       3.577   Cond. No.                         17.9\n",
       "==============================================================================\n",
       "\n",
       "Warnings:\n",
       "[1] Standard Errors assume that the covariance matrix of the errors is correctly specified.\n",
       "\"\"\""
      ]
     },
     "execution_count": 273,
     "metadata": {},
     "output_type": "execute_result"
    }
   ],
   "source": [
    "X = train[x_cols]\n",
    "y= train['price']\n",
    "model = sm.OLS(y,X).fit()\n",
    "model.summary()"
   ]
  },
  {
   "cell_type": "code",
   "execution_count": 274,
   "metadata": {},
   "outputs": [
    {
     "data": {
      "text/plain": [
       "[('bedrooms', 1.762196916317755),\n",
       " ('bathrooms', 2.8870982423704517),\n",
       " ('sqft_living', 3.0500280447379997),\n",
       " ('sqft_lot', 1.5965285652875387),\n",
       " ('distance_from_a_city', 1.4110395224308567),\n",
       " ('Age_of_House', 2.15549949553907),\n",
       " ('basement', 1.8183290316051397),\n",
       " ('grade', 1.6791500506957482)]"
      ]
     },
     "execution_count": 274,
     "metadata": {},
     "output_type": "execute_result"
    }
   ],
   "source": [
    "# Your code here - Code a way to identify multicollinearity\n",
    "from statsmodels.stats.outliers_influence import variance_inflation_factor\n",
    "X = df[x_cols]\n",
    "vif = [variance_inflation_factor(X.values,i) for i in range(X.shape[1])]\n",
    "list(zip(x_cols,vif))"
   ]
  },
  {
   "cell_type": "code",
   "execution_count": 275,
   "metadata": {},
   "outputs": [
    {
     "data": {
      "image/png": "[encoded data removed]",
      "text/plain": [
       "<Figure size 432x288 with 1 Axes>"
      ]
     },
     "metadata": {},
     "output_type": "display_data"
    }
   ],
   "source": [
    "fig = sm.graphics.qqplot(model.resid, dist=stats.norm, line='45', fit=True)\n"
   ]
  },
  {
   "cell_type": "code",
   "execution_count": 276,
   "metadata": {},
   "outputs": [
    {
     "data": {
      "text/plain": [
       "[<matplotlib.lines.Line2D at 0x1c2a5ac9b0>]"
      ]
     },
     "execution_count": 276,
     "metadata": {},
     "output_type": "execute_result"
    },
    {
     "data": {
      "image/png": "[encoded data removed]",
      "text/plain": [
       "<Figure size 432x288 with 1 Axes>"
      ]
     },
     "metadata": {},
     "output_type": "display_data"
    }
   ],
   "source": [
    "plt.scatter(model.predict(train[x_cols]), model.resid)\n",
    "plt.plot(model.predict(train[x_cols]), [0 for i in range(len(train))])"
   ]
  },
  {
   "cell_type": "code",
   "execution_count": 277,
   "metadata": {},
   "outputs": [
    {
     "name": "stdout",
     "output_type": "stream",
     "text": [
      "0.8 percentile: 600000.0\n",
      "0.81 percentile: 606000.0\n",
      "0.82 percentile: 616000.0\n",
      "0.83 percentile: 625000.0\n",
      "0.84 percentile: 635000.0\n",
      "0.85 percentile: 645000.0\n",
      "0.86 percentile: 655000.0\n",
      "0.87 percentile: 665987.0000000001\n",
      "0.88 percentile: 677451.9999999997\n",
      "0.89 percentile: 690000.0\n",
      "0.9 percentile: 700000.0\n",
      "0.91 percentile: 715000.0\n",
      "0.92 percentile: 729999.9199999999\n",
      "0.93 percentile: 745000.0\n",
      "0.94 percentile: 759892.9999999988\n",
      "0.95 percentile: 775000.0\n",
      "0.96 percentile: 792479.9999999995\n",
      "0.97 percentile: 810000.0\n",
      "0.98 percentile: 830004.8999999999\n",
      "0.99 percentile: 852877.2\n"
     ]
    },
    {
     "data": {
      "text/plain": [
       "<matplotlib.axes._subplots.AxesSubplot at 0x1c2ce3d668>"
      ]
     },
     "execution_count": 277,
     "metadata": {},
     "output_type": "execute_result"
    },
    {
     "data": {
      "image/png": "[encoded data removed]",
      "text/plain": [
       "<Figure size 432x288 with 1 Axes>"
      ]
     },
     "metadata": {},
     "output_type": "display_data"
    }
   ],
   "source": [
    "for i in range(80,100):\n",
    "    q = i/100\n",
    "    print(\"{} percentile: {}\".format(q, df.price.quantile(q=q)))\n",
    "\n",
    "df.price.hist()"
   ]
  },
  {
   "cell_type": "code",
   "execution_count": 278,
   "metadata": {},
   "outputs": [],
   "source": [
    "df = df[df.price <= 880000]\n",
    "train, test = train_test_split(df)"
   ]
  },
  {
   "cell_type": "code",
   "execution_count": 279,
   "metadata": {},
   "outputs": [
    {
     "data": {
      "text/html": [
       "<table class=\"simpletable\">\n",
       "<caption>OLS Regression Results</caption>\n",
       "<tr>\n",
       "  <th>Dep. Variable:</th>          <td>price</td>      <th>  R-squared (uncentered):</th>       <td>   0.958</td>  \n",
       "</tr>\n",
       "<tr>\n",
       "  <th>Model:</th>                   <td>OLS</td>       <th>  Adj. R-squared (uncentered):</th>  <td>   0.958</td>  \n",
       "</tr>\n",
       "<tr>\n",
       "  <th>Method:</th>             <td>Least Squares</td>  <th>  F-statistic:       </th>           <td>3.331e+04</td> \n",
       "</tr>\n",
       "<tr>\n",
       "  <th>Date:</th>             <td>Wed, 03 Jun 2020</td> <th>  Prob (F-statistic):</th>            <td>  0.00</td>   \n",
       "</tr>\n",
       "<tr>\n",
       "  <th>Time:</th>                 <td>19:42:36</td>     <th>  Log-Likelihood:    </th>          <td>-1.5102e+05</td>\n",
       "</tr>\n",
       "<tr>\n",
       "  <th>No. Observations:</th>      <td> 11701</td>      <th>  AIC:               </th>           <td>3.020e+05</td> \n",
       "</tr>\n",
       "<tr>\n",
       "  <th>Df Residuals:</th>          <td> 11693</td>      <th>  BIC:               </th>           <td>3.021e+05</td> \n",
       "</tr>\n",
       "<tr>\n",
       "  <th>Df Model:</th>              <td>     8</td>      <th>                     </th>               <td> </td>     \n",
       "</tr>\n",
       "<tr>\n",
       "  <th>Covariance Type:</th>      <td>nonrobust</td>    <th>                     </th>               <td> </td>     \n",
       "</tr>\n",
       "</table>\n",
       "<table class=\"simpletable\">\n",
       "<tr>\n",
       "            <td></td>              <th>coef</th>     <th>std err</th>      <th>t</th>      <th>P>|t|</th>  <th>[0.025</th>    <th>0.975]</th>  \n",
       "</tr>\n",
       "<tr>\n",
       "  <th>bedrooms</th>             <td>-1.175e+04</td> <td> 1201.669</td> <td>   -9.780</td> <td> 0.000</td> <td>-1.41e+04</td> <td>-9397.256</td>\n",
       "</tr>\n",
       "<tr>\n",
       "  <th>bathrooms</th>            <td> 1.008e+04</td> <td> 1557.944</td> <td>    6.470</td> <td> 0.000</td> <td> 7025.557</td> <td> 1.31e+04</td>\n",
       "</tr>\n",
       "<tr>\n",
       "  <th>sqft_living</th>          <td> 7.912e+04</td> <td> 1620.547</td> <td>   48.825</td> <td> 0.000</td> <td> 7.59e+04</td> <td> 8.23e+04</td>\n",
       "</tr>\n",
       "<tr>\n",
       "  <th>sqft_lot</th>             <td> 9201.8597</td> <td> 1139.208</td> <td>    8.077</td> <td> 0.000</td> <td> 6968.822</td> <td> 1.14e+04</td>\n",
       "</tr>\n",
       "<tr>\n",
       "  <th>distance_from_a_city</th> <td>-9.577e+04</td> <td> 1079.895</td> <td>  -88.682</td> <td> 0.000</td> <td>-9.79e+04</td> <td>-9.37e+04</td>\n",
       "</tr>\n",
       "<tr>\n",
       "  <th>Age_of_House</th>         <td> 2.269e+04</td> <td> 1335.661</td> <td>   16.986</td> <td> 0.000</td> <td> 2.01e+04</td> <td> 2.53e+04</td>\n",
       "</tr>\n",
       "<tr>\n",
       "  <th>basement</th>             <td>-2.622e+04</td> <td> 2034.834</td> <td>  -12.884</td> <td> 0.000</td> <td>-3.02e+04</td> <td>-2.22e+04</td>\n",
       "</tr>\n",
       "<tr>\n",
       "  <th>grade</th>                <td>  6.21e+04</td> <td>  156.287</td> <td>  397.356</td> <td> 0.000</td> <td> 6.18e+04</td> <td> 6.24e+04</td>\n",
       "</tr>\n",
       "</table>\n",
       "<table class=\"simpletable\">\n",
       "<tr>\n",
       "  <th>Omnibus:</th>       <td>165.040</td> <th>  Durbin-Watson:     </th> <td>   1.972</td>\n",
       "</tr>\n",
       "<tr>\n",
       "  <th>Prob(Omnibus):</th> <td> 0.000</td>  <th>  Jarque-Bera (JB):  </th> <td> 240.182</td>\n",
       "</tr>\n",
       "<tr>\n",
       "  <th>Skew:</th>          <td> 0.166</td>  <th>  Prob(JB):          </th> <td>7.00e-53</td>\n",
       "</tr>\n",
       "<tr>\n",
       "  <th>Kurtosis:</th>      <td> 3.619</td>  <th>  Cond. No.          </th> <td>    18.0</td>\n",
       "</tr>\n",
       "</table><br/><br/>Warnings:<br/>[1] Standard Errors assume that the covariance matrix of the errors is correctly specified."
      ],
      "text/plain": [
       "<class 'statsmodels.iolib.summary.Summary'>\n",
       "\"\"\"\n",
       "                                 OLS Regression Results                                \n",
       "=======================================================================================\n",
       "Dep. Variable:                  price   R-squared (uncentered):                   0.958\n",
       "Model:                            OLS   Adj. R-squared (uncentered):              0.958\n",
       "Method:                 Least Squares   F-statistic:                          3.331e+04\n",
       "Date:                Wed, 03 Jun 2020   Prob (F-statistic):                        0.00\n",
       "Time:                        19:42:36   Log-Likelihood:                     -1.5102e+05\n",
       "No. Observations:               11701   AIC:                                  3.020e+05\n",
       "Df Residuals:                   11693   BIC:                                  3.021e+05\n",
       "Df Model:                           8                                                  \n",
       "Covariance Type:            nonrobust                                                  \n",
       "========================================================================================\n",
       "                           coef    std err          t      P>|t|      [0.025      0.975]\n",
       "----------------------------------------------------------------------------------------\n",
       "bedrooms             -1.175e+04   1201.669     -9.780      0.000   -1.41e+04   -9397.256\n",
       "bathrooms             1.008e+04   1557.944      6.470      0.000    7025.557    1.31e+04\n",
       "sqft_living           7.912e+04   1620.547     48.825      0.000    7.59e+04    8.23e+04\n",
       "sqft_lot              9201.8597   1139.208      8.077      0.000    6968.822    1.14e+04\n",
       "distance_from_a_city -9.577e+04   1079.895    -88.682      0.000   -9.79e+04   -9.37e+04\n",
       "Age_of_House          2.269e+04   1335.661     16.986      0.000    2.01e+04    2.53e+04\n",
       "basement             -2.622e+04   2034.834    -12.884      0.000   -3.02e+04   -2.22e+04\n",
       "grade                  6.21e+04    156.287    397.356      0.000    6.18e+04    6.24e+04\n",
       "==============================================================================\n",
       "Omnibus:                      165.040   Durbin-Watson:                   1.972\n",
       "Prob(Omnibus):                  0.000   Jarque-Bera (JB):              240.182\n",
       "Skew:                           0.166   Prob(JB):                     7.00e-53\n",
       "Kurtosis:                       3.619   Cond. No.                         18.0\n",
       "==============================================================================\n",
       "\n",
       "Warnings:\n",
       "[1] Standard Errors assume that the covariance matrix of the errors is correctly specified.\n",
       "\"\"\""
      ]
     },
     "execution_count": 279,
     "metadata": {},
     "output_type": "execute_result"
    }
   ],
   "source": [
    "X = train[x_cols]\n",
    "y= train['price']\n",
    "model = sm.OLS(y,X).fit()\n",
    "model.summary()"
   ]
  },
  {
   "cell_type": "code",
   "execution_count": 280,
   "metadata": {},
   "outputs": [
    {
     "data": {
      "image/png": "[encoded data removed]",
      "text/plain": [
       "<Figure size 432x288 with 1 Axes>"
      ]
     },
     "metadata": {},
     "output_type": "display_data"
    }
   ],
   "source": [
    "fig = sm.graphics.qqplot(model.resid, dist=stats.norm, line='45', fit=True)\n"
   ]
  },
  {
   "cell_type": "code",
   "execution_count": 281,
   "metadata": {},
   "outputs": [
    {
     "data": {
      "text/plain": [
       "[<matplotlib.lines.Line2D at 0x1c2a59b518>]"
      ]
     },
     "execution_count": 281,
     "metadata": {},
     "output_type": "execute_result"
    },
    {
     "data": {
      "image/png": "[encoded data removed]",
      "text/plain": [
       "<Figure size 432x288 with 1 Axes>"
      ]
     },
     "metadata": {},
     "output_type": "display_data"
    }
   ],
   "source": [
    "plt.scatter(model.predict(train[x_cols]), model.resid)\n",
    "plt.plot(model.predict(train[x_cols]), [0 for i in range(len(train))])"
   ]
  },
  {
   "cell_type": "code",
   "execution_count": 282,
   "metadata": {},
   "outputs": [],
   "source": [
    "def plot_residuals(resids):\n",
    "    plt.hist(resids)\n",
    "    plt.title(\"Residuals\")\n",
    "    plt.show()\n",
    "    \n",
    "    xspace = np.linspace(0, 1, len(resids))\n",
    "    plt.scatter(xspace, resids)\n",
    "    plt.title(\"resids\")\n",
    "    plt.hlines(0, xmin=0, xmax=1)\n",
    "    plt.show()"
   ]
  },
  {
   "cell_type": "code",
   "execution_count": 283,
   "metadata": {},
   "outputs": [],
   "source": [
    "residuals = model.resid"
   ]
  },
  {
   "cell_type": "code",
   "execution_count": 284,
   "metadata": {},
   "outputs": [
    {
     "data": {
      "image/png": "[encoded data removed]",
      "text/plain": [
       "<Figure size 432x288 with 1 Axes>"
      ]
     },
     "metadata": {},
     "output_type": "display_data"
    },
    {
     "data": {
      "image/png": "[encoded data removed]",
      "text/plain": [
       "<Figure size 432x288 with 1 Axes>"
      ]
     },
     "metadata": {},
     "output_type": "display_data"
    }
   ],
   "source": [
    "plot_residuals(residuals)"
   ]
  },
  {
   "cell_type": "code",
   "execution_count": 285,
   "metadata": {},
   "outputs": [],
   "source": [
    "from sklearn.utils import shuffle\n",
    "from sklearn.linear_model import LinearRegression\n",
    "from sklearn.model_selection import train_test_split, cross_val_score\n",
    "from sklearn.preprocessing import StandardScaler\n",
    "from sklearn.feature_selection import RFE\n",
    "\n",
    "from sklearn.metrics import r2_score"
   ]
  },
  {
   "cell_type": "code",
   "execution_count": 286,
   "metadata": {},
   "outputs": [],
   "source": [
    "ols = LinearRegression(fit_intercept=False, normalize=False, n_jobs=-1)"
   ]
  },
  {
   "cell_type": "code",
   "execution_count": 287,
   "metadata": {},
   "outputs": [],
   "source": [
    "X_train = train[x_cols]\n",
    "X_test = test[x_cols]"
   ]
  },
  {
   "cell_type": "code",
   "execution_count": 288,
   "metadata": {},
   "outputs": [],
   "source": [
    "y_train = train['price']\n",
    "y_test = test['price']"
   ]
  },
  {
   "cell_type": "code",
   "execution_count": 289,
   "metadata": {},
   "outputs": [
    {
     "data": {
      "text/plain": [
       "LinearRegression(copy_X=True, fit_intercept=False, n_jobs=-1, normalize=False)"
      ]
     },
     "execution_count": 289,
     "metadata": {},
     "output_type": "execute_result"
    }
   ],
   "source": [
    "ols.fit(train[x_cols], train['price'])"
   ]
  },
  {
   "cell_type": "code",
   "execution_count": 249,
   "metadata": {},
   "outputs": [
    {
     "data": {
      "text/plain": [
       "array([469576.76474966, 462350.82685665, 334163.81688197, ...,\n",
       "       568813.7480789 , 493676.48376411, 502680.81029185])"
      ]
     },
     "execution_count": 249,
     "metadata": {},
     "output_type": "execute_result"
    }
   ],
   "source": [
    "y_train_preds = ols.predict(train[x_cols])\n",
    "y_train_preds"
   ]
  },
  {
   "cell_type": "code",
   "execution_count": 250,
   "metadata": {},
   "outputs": [
    {
     "data": {
      "text/plain": [
       "0.6792214257977129"
      ]
     },
     "execution_count": 250,
     "metadata": {},
     "output_type": "execute_result"
    }
   ],
   "source": [
    "r2_score(train['price'], y_train_preds)"
   ]
  },
  {
   "cell_type": "code",
   "execution_count": 251,
   "metadata": {},
   "outputs": [
    {
     "data": {
      "text/plain": [
       "0.6792214257977129"
      ]
     },
     "execution_count": 251,
     "metadata": {},
     "output_type": "execute_result"
    }
   ],
   "source": [
    "# r2 \n",
    "training_score = ols.score(X_train, y_train)\n",
    "# ols.score is calculating the y_train_preds and then using those to get the r2 score\n",
    "training_score"
   ]
  },
  {
   "cell_type": "code",
   "execution_count": 252,
   "metadata": {},
   "outputs": [
    {
     "data": {
      "text/plain": [
       "0.6907781241355471"
      ]
     },
     "execution_count": 252,
     "metadata": {},
     "output_type": "execute_result"
    }
   ],
   "source": [
    "testing_score = ols.score(X_test, y_test)\n",
    "testing_score"
   ]
  },
  {
   "cell_type": "code",
   "execution_count": 136,
   "metadata": {},
   "outputs": [
    {
     "data": {
      "text/plain": [
       "(0.6977375691305203, 0.6976214131681465, 0.6976214131681465)"
      ]
     },
     "execution_count": 136,
     "metadata": {},
     "output_type": "execute_result"
    }
   ],
   "source": [
    "cv5_scores = np.mean(cross_val_score(ols, X, y, scoring='r2', cv=5, n_jobs=-1) )\n",
    "cv10_scores = np.mean(cross_val_score(ols, X, y, scoring='r2', cv=10, n_jobs=-1) )\n",
    "cv20_scores = np.mean(cross_val_score(ols, X, y, scoring='r2', cv=20, n_jobs=-1) )\n",
    "\n",
    "# cv breaks your data into that many equal pieces \n",
    "cv5_scores,cv10_scores,cv10_scores"
   ]
  },
  {
   "cell_type": "code",
   "execution_count": null,
   "metadata": {},
   "outputs": [],
   "source": []
  }
 ],
 "metadata": {
  "kernelspec": {
   "display_name": "Python [conda env:learn-env] *",
   "language": "python",
   "name": "conda-env-learn-env-py"
  },
  "language_info": {
   "codemirror_mode": {
    "name": "ipython",
    "version": 3
   },
   "file_extension": ".py",
   "mimetype": "text/x-python",
   "name": "python",
   "nbconvert_exporter": "python",
   "pygments_lexer": "ipython3",
   "version": "3.6.9"
  }
 },
 "nbformat": 4,
 "nbformat_minor": 2
}
